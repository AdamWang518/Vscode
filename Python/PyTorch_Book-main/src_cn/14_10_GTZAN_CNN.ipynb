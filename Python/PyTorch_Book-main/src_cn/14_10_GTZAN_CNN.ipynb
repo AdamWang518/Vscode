{
 "cells": [
  {
   "cell_type": "markdown",
   "metadata": {},
   "source": [
    "# 音乐曲风分类 with CNN"
   ]
  },
  {
   "cell_type": "markdown",
   "metadata": {},
   "source": [
    "## 载入套件"
   ]
  },
  {
   "cell_type": "code",
   "execution_count": 1,
   "metadata": {},
   "outputs": [],
   "source": [
    "import torch\n",
    "from torch import nn\n",
    "import torchaudio\n",
    "import torchaudio.transforms as T\n",
    "from torch.nn import functional as F\n",
    "from torch.utils.data import Dataset, DataLoader\n",
    "import IPython\n",
    "from IPython.display import Audio\n",
    "import matplotlib.pyplot as plt\n",
    "import os\n",
    "import math\n",
    "import audio_util"
   ]
  },
  {
   "cell_type": "markdown",
   "metadata": {},
   "source": [
    "## 设定参数"
   ]
  },
  {
   "cell_type": "code",
   "execution_count": 2,
   "metadata": {},
   "outputs": [
    {
     "data": {
      "text/plain": [
       "'cuda'"
      ]
     },
     "execution_count": 2,
     "metadata": {},
     "output_type": "execute_result"
    }
   ],
   "source": [
    "PATH_DATASETS = \"./audio\" # 预设路径\n",
    "BATCH_SIZE = 5  # 批量\n",
    "device = torch.device(\"cuda\" if torch.cuda.is_available() else \"cpu\")\n",
    "\"cuda\" if torch.cuda.is_available() else \"cpu\""
   ]
  },
  {
   "cell_type": "markdown",
   "metadata": {},
   "source": [
    "## 步骤1：下载 GTZAN资料集，并建立 Dataset"
   ]
  },
  {
   "cell_type": "code",
   "execution_count": 3,
   "metadata": {},
   "outputs": [],
   "source": [
    "dataset_GTZAN = torchaudio.datasets.GTZAN(PATH_DATASETS, download=True)"
   ]
  },
  {
   "cell_type": "code",
   "execution_count": 4,
   "metadata": {},
   "outputs": [
    {
     "data": {
      "text/plain": [
       "(tensor([[ 0.0073,  0.0166,  0.0076,  ..., -0.0556, -0.0611, -0.0642]]),\n",
       " 22050,\n",
       " 'blues')"
      ]
     },
     "execution_count": 4,
     "metadata": {},
     "output_type": "execute_result"
    }
   ],
   "source": [
    "dataset_GTZAN[0]"
   ]
  },
  {
   "cell_type": "code",
   "execution_count": 5,
   "metadata": {},
   "outputs": [
    {
     "data": {
      "text/plain": [
       "torch.Size([1, 661794])"
      ]
     },
     "execution_count": 5,
     "metadata": {},
     "output_type": "execute_result"
    }
   ],
   "source": [
    "dataset_GTZAN[0][0].shape"
   ]
  },
  {
   "cell_type": "code",
   "execution_count": 6,
   "metadata": {},
   "outputs": [
    {
     "data": {
      "text/plain": [
       "torch.Size([1, 661794])"
      ]
     },
     "execution_count": 6,
     "metadata": {},
     "output_type": "execute_result"
    }
   ],
   "source": [
    "dataset_GTZAN[1][0].shape"
   ]
  },
  {
   "cell_type": "code",
   "execution_count": 1,
   "metadata": {},
   "outputs": [
    {
     "data": {
      "text/plain": [
       "'30.013333333333332 秒'"
      ]
     },
     "execution_count": 1,
     "metadata": {},
     "output_type": "execute_result"
    }
   ],
   "source": [
    "f'{661794 / 22050} 秒'"
   ]
  },
  {
   "cell_type": "markdown",
   "metadata": {},
   "source": [
    "## 步骤2：资料清理，此步骤无需进行"
   ]
  },
  {
   "cell_type": "markdown",
   "metadata": {},
   "source": [
    "## 步骤3：特征工程"
   ]
  },
  {
   "cell_type": "code",
   "execution_count": 7,
   "metadata": {},
   "outputs": [],
   "source": [
    "# label类别\n",
    "gtzan_genres = [\n",
    "    \"blues\",\n",
    "    \"classical\",\n",
    "    \"country\",\n",
    "    \"disco\",\n",
    "    \"hiphop\",\n",
    "    \"jazz\",\n",
    "    \"metal\",\n",
    "    \"pop\",\n",
    "    \"reggae\",\n",
    "    \"rock\",\n",
    "]"
   ]
  },
  {
   "cell_type": "code",
   "execution_count": 8,
   "metadata": {},
   "outputs": [],
   "source": [
    "n_fft = 2048\n",
    "hop_length = 512\n",
    "n_mels = 256\n",
    "n_mfcc = 256\n",
    "\n",
    "class GTZAN_DS(Dataset):\n",
    "    def __init__(self, dataset1):\n",
    "        self.dataset1 = dataset_GTZAN\n",
    "        \n",
    "    def __len__(self):\n",
    "          return len(self.dataset1)  \n",
    "\n",
    "    def __getitem__(self, n):\n",
    "        waveform , sample_rate, label = self.dataset1[n]\n",
    "        mfcc_transform = T.MFCC(\n",
    "            sample_rate=sample_rate,\n",
    "            n_mfcc=n_mfcc,   # MFCC 个数\n",
    "            melkwargs={\n",
    "              'n_fft': n_fft,\n",
    "              'n_mels': n_mels,\n",
    "              'hop_length': hop_length,\n",
    "              'mel_scale': 'htk',\n",
    "            }\n",
    "        )\n",
    "        mfcc = mfcc_transform(waveform)\n",
    "        # print(mfcc.shape)\n",
    "        mfcc = mfcc[:, :, :1280]\n",
    "        return mfcc, gtzan_genres.index(label)\n",
    "    \n",
    "dataset = GTZAN_DS(dataset_GTZAN)"
   ]
  },
  {
   "cell_type": "markdown",
   "metadata": {},
   "source": [
    "## 步骤4：资料分割"
   ]
  },
  {
   "cell_type": "code",
   "execution_count": 9,
   "metadata": {},
   "outputs": [
    {
     "data": {
      "text/plain": [
       "(800, 200)"
      ]
     },
     "execution_count": 9,
     "metadata": {},
     "output_type": "execute_result"
    }
   ],
   "source": [
    "from torch.utils.data import random_split\n",
    "\n",
    "test_size = int(len(dataset) * 0.2)\n",
    "train_size = len(dataset) - test_size\n",
    "\n",
    "train_ds, test_ds = random_split(dataset, [train_size, test_size])\n",
    "len(train_ds), len(test_ds)"
   ]
  },
  {
   "cell_type": "markdown",
   "metadata": {},
   "source": [
    "## 建立 DataLoader"
   ]
  },
  {
   "cell_type": "code",
   "execution_count": 10,
   "metadata": {},
   "outputs": [],
   "source": [
    "train_loader = DataLoader(train_ds, BATCH_SIZE, shuffle=False)\n",
    "test_loader = DataLoader(test_ds, BATCH_SIZE*2, shuffle=False)"
   ]
  },
  {
   "cell_type": "markdown",
   "metadata": {},
   "source": [
    "## 步骤5：建立模型结构"
   ]
  },
  {
   "cell_type": "code",
   "execution_count": 11,
   "metadata": {},
   "outputs": [],
   "source": [
    "# 建立模型\n",
    "class ConvNet(nn.Module):\n",
    "    def __init__(self, num_classes=10):\n",
    "        super(ConvNet, self).__init__()\n",
    "        self.layer1 = nn.Sequential(\n",
    "            # Conv2d 参数： in-channel, out-channel, kernel size, Stride, Padding\n",
    "            nn.Conv2d(1, 16, kernel_size=5, stride=1, padding=2),\n",
    "            nn.BatchNorm2d(16),\n",
    "            nn.ReLU(),\n",
    "            nn.MaxPool2d(kernel_size=2, stride=2))\n",
    "        self.layer2 = nn.Sequential(\n",
    "            nn.Conv2d(16, 32, kernel_size=5, stride=1, padding=2),\n",
    "            nn.BatchNorm2d(32),\n",
    "            nn.ReLU(),\n",
    "            nn.MaxPool2d(kernel_size=2, stride=2))\n",
    "        self.fc1 = nn.Linear(655360, num_classes)\n",
    "        # self.fc2 = nn.Linear(1280, num_classes)\n",
    "        \n",
    "    def forward(self, x):\n",
    "        out = self.layer1(x)\n",
    "        out = self.layer2(out)\n",
    "        out = out.reshape(out.size(0), -1)\n",
    "        out = self.fc1(out)\n",
    "        #out = self.fc2(out)\n",
    "        out = F.log_softmax(out, dim=1)\n",
    "        return out\n",
    "\n",
    "model = ConvNet().to(device)"
   ]
  },
  {
   "cell_type": "markdown",
   "metadata": {},
   "source": [
    "## 步骤6：模型训练"
   ]
  },
  {
   "cell_type": "code",
   "execution_count": 12,
   "metadata": {
    "scrolled": true
   },
   "outputs": [
    {
     "name": "stdout",
     "output_type": "stream",
     "text": [
      "Epoch 1: [   50 / 800] (6 %)  Loss: 2389.155518\n",
      "Epoch 1: [  100 / 800] (12 %)  Loss: 952.834778\n",
      "Epoch 1: [  150 / 800] (19 %)  Loss: 429.335541\n",
      "Epoch 1: [  200 / 800] (25 %)  Loss: 144.052155\n",
      "Epoch 1: [  250 / 800] (31 %)  Loss: 140.000488\n",
      "Epoch 1: [  300 / 800] (38 %)  Loss: 121.586075\n",
      "Epoch 1: [  350 / 800] (44 %)  Loss: 69.608612\n",
      "Epoch 1: [  400 / 800] (50 %)  Loss: 37.137997\n",
      "Epoch 1: [  450 / 800] (56 %)  Loss: 44.542061\n",
      "Epoch 1: [  500 / 800] (62 %)  Loss: 48.163116\n",
      "Epoch 1: [  550 / 800] (69 %)  Loss: 22.356218\n",
      "Epoch 1: [  600 / 800] (75 %)  Loss: 5.885140\n",
      "Epoch 1: [  650 / 800] (81 %)  Loss: 61.684814\n",
      "Epoch 1: [  700 / 800] (88 %)  Loss: 47.094776\n",
      "Epoch 1: [  750 / 800] (94 %)  Loss: 18.230944\n",
      "Epoch 1: [  800 / 800] (100 %)  Loss: 20.457712\n",
      "Epoch 2: [   50 / 800] (6 %)  Loss: 11.440866\n",
      "Epoch 2: [  100 / 800] (12 %)  Loss: 7.427180\n",
      "Epoch 2: [  150 / 800] (19 %)  Loss: 12.056181\n",
      "Epoch 2: [  200 / 800] (25 %)  Loss: 3.101961\n",
      "Epoch 2: [  250 / 800] (31 %)  Loss: 2.512702\n",
      "Epoch 2: [  300 / 800] (38 %)  Loss: 9.617522\n",
      "Epoch 2: [  350 / 800] (44 %)  Loss: 18.720289\n",
      "Epoch 2: [  400 / 800] (50 %)  Loss: 7.687625\n",
      "Epoch 2: [  450 / 800] (56 %)  Loss: 3.409187\n",
      "Epoch 2: [  500 / 800] (62 %)  Loss: 5.034781\n",
      "Epoch 2: [  550 / 800] (69 %)  Loss: 4.678266\n",
      "Epoch 2: [  600 / 800] (75 %)  Loss: 2.297501\n",
      "Epoch 2: [  650 / 800] (81 %)  Loss: 5.243224\n",
      "Epoch 2: [  700 / 800] (88 %)  Loss: 5.615659\n",
      "Epoch 2: [  750 / 800] (94 %)  Loss: 3.312189\n",
      "Epoch 2: [  800 / 800] (100 %)  Loss: 3.879539\n",
      "Epoch 3: [   50 / 800] (6 %)  Loss: 10.359555\n",
      "Epoch 3: [  100 / 800] (12 %)  Loss: 5.501674\n",
      "Epoch 3: [  150 / 800] (19 %)  Loss: 3.263994\n",
      "Epoch 3: [  200 / 800] (25 %)  Loss: 0.388496\n",
      "Epoch 3: [  250 / 800] (31 %)  Loss: 11.123576\n",
      "Epoch 3: [  300 / 800] (38 %)  Loss: 0.486782\n",
      "Epoch 3: [  350 / 800] (44 %)  Loss: 1.307203\n",
      "Epoch 3: [  400 / 800] (50 %)  Loss: 2.653202\n",
      "Epoch 3: [  450 / 800] (56 %)  Loss: 1.509341\n",
      "Epoch 3: [  500 / 800] (62 %)  Loss: 1.879201\n",
      "Epoch 3: [  550 / 800] (69 %)  Loss: 2.844808\n",
      "Epoch 3: [  600 / 800] (75 %)  Loss: 1.650307\n",
      "Epoch 3: [  650 / 800] (81 %)  Loss: 1.194606\n",
      "Epoch 3: [  700 / 800] (88 %)  Loss: 3.059186\n",
      "Epoch 3: [  750 / 800] (94 %)  Loss: 0.799487\n",
      "Epoch 3: [  800 / 800] (100 %)  Loss: 1.265819\n",
      "Epoch 4: [   50 / 800] (6 %)  Loss: 1.200590\n",
      "Epoch 4: [  100 / 800] (12 %)  Loss: 2.250491\n",
      "Epoch 4: [  150 / 800] (19 %)  Loss: 2.092526\n",
      "Epoch 4: [  200 / 800] (25 %)  Loss: 1.104174\n",
      "Epoch 4: [  250 / 800] (31 %)  Loss: 1.304210\n",
      "Epoch 4: [  300 / 800] (38 %)  Loss: 0.450477\n",
      "Epoch 4: [  350 / 800] (44 %)  Loss: 0.618081\n",
      "Epoch 4: [  400 / 800] (50 %)  Loss: 2.011507\n",
      "Epoch 4: [  450 / 800] (56 %)  Loss: 1.210000\n",
      "Epoch 4: [  500 / 800] (62 %)  Loss: 0.771099\n",
      "Epoch 4: [  550 / 800] (69 %)  Loss: 2.266181\n",
      "Epoch 4: [  600 / 800] (75 %)  Loss: 1.227032\n",
      "Epoch 4: [  650 / 800] (81 %)  Loss: 1.375835\n",
      "Epoch 4: [  700 / 800] (88 %)  Loss: 1.080424\n",
      "Epoch 4: [  750 / 800] (94 %)  Loss: 0.319245\n",
      "Epoch 4: [  800 / 800] (100 %)  Loss: 0.583225\n",
      "Epoch 5: [   50 / 800] (6 %)  Loss: 0.368131\n",
      "Epoch 5: [  100 / 800] (12 %)  Loss: 0.452535\n",
      "Epoch 5: [  150 / 800] (19 %)  Loss: 1.450226\n",
      "Epoch 5: [  200 / 800] (25 %)  Loss: 0.877641\n",
      "Epoch 5: [  250 / 800] (31 %)  Loss: 0.392597\n",
      "Epoch 5: [  300 / 800] (38 %)  Loss: 0.119245\n",
      "Epoch 5: [  350 / 800] (44 %)  Loss: 0.501817\n",
      "Epoch 5: [  400 / 800] (50 %)  Loss: 0.630796\n",
      "Epoch 5: [  450 / 800] (56 %)  Loss: 1.033184\n",
      "Epoch 5: [  500 / 800] (62 %)  Loss: 0.163605\n",
      "Epoch 5: [  550 / 800] (69 %)  Loss: 0.016703\n",
      "Epoch 5: [  600 / 800] (75 %)  Loss: 0.619579\n",
      "Epoch 5: [  650 / 800] (81 %)  Loss: 0.141392\n",
      "Epoch 5: [  700 / 800] (88 %)  Loss: 0.241239\n",
      "Epoch 5: [  750 / 800] (94 %)  Loss: 0.028165\n",
      "Epoch 5: [  800 / 800] (100 %)  Loss: 0.069527\n",
      "Epoch 6: [   50 / 800] (6 %)  Loss: 0.582655\n",
      "Epoch 6: [  100 / 800] (12 %)  Loss: 0.105838\n",
      "Epoch 6: [  150 / 800] (19 %)  Loss: 0.088182\n",
      "Epoch 6: [  200 / 800] (25 %)  Loss: 0.141906\n",
      "Epoch 6: [  250 / 800] (31 %)  Loss: 1.021901\n",
      "Epoch 6: [  300 / 800] (38 %)  Loss: 0.287057\n",
      "Epoch 6: [  350 / 800] (44 %)  Loss: 0.242850\n",
      "Epoch 6: [  400 / 800] (50 %)  Loss: 0.494767\n",
      "Epoch 6: [  450 / 800] (56 %)  Loss: 0.187122\n",
      "Epoch 6: [  500 / 800] (62 %)  Loss: 0.476273\n",
      "Epoch 6: [  550 / 800] (69 %)  Loss: 0.020190\n",
      "Epoch 6: [  600 / 800] (75 %)  Loss: 0.335964\n",
      "Epoch 6: [  650 / 800] (81 %)  Loss: 0.089392\n",
      "Epoch 6: [  700 / 800] (88 %)  Loss: 0.287099\n",
      "Epoch 6: [  750 / 800] (94 %)  Loss: 0.074687\n",
      "Epoch 6: [  800 / 800] (100 %)  Loss: 0.013421\n",
      "Epoch 7: [   50 / 800] (6 %)  Loss: 0.887014\n",
      "Epoch 7: [  100 / 800] (12 %)  Loss: 0.131058\n",
      "Epoch 7: [  150 / 800] (19 %)  Loss: 0.305087\n",
      "Epoch 7: [  200 / 800] (25 %)  Loss: 0.051954\n",
      "Epoch 7: [  250 / 800] (31 %)  Loss: 0.279287\n",
      "Epoch 7: [  300 / 800] (38 %)  Loss: 1.587727\n",
      "Epoch 7: [  350 / 800] (44 %)  Loss: 0.218454\n",
      "Epoch 7: [  400 / 800] (50 %)  Loss: 0.907052\n",
      "Epoch 7: [  450 / 800] (56 %)  Loss: 0.034507\n",
      "Epoch 7: [  500 / 800] (62 %)  Loss: 0.121360\n",
      "Epoch 7: [  550 / 800] (69 %)  Loss: 0.731775\n",
      "Epoch 7: [  600 / 800] (75 %)  Loss: 0.414808\n",
      "Epoch 7: [  650 / 800] (81 %)  Loss: 0.120399\n",
      "Epoch 7: [  700 / 800] (88 %)  Loss: 0.052759\n",
      "Epoch 7: [  750 / 800] (94 %)  Loss: 0.039210\n",
      "Epoch 7: [  800 / 800] (100 %)  Loss: 0.017761\n",
      "Epoch 8: [   50 / 800] (6 %)  Loss: 0.002479\n",
      "Epoch 8: [  100 / 800] (12 %)  Loss: 0.030446\n",
      "Epoch 8: [  150 / 800] (19 %)  Loss: 0.152516\n",
      "Epoch 8: [  200 / 800] (25 %)  Loss: 0.136871\n",
      "Epoch 8: [  250 / 800] (31 %)  Loss: 0.065739\n",
      "Epoch 8: [  300 / 800] (38 %)  Loss: 0.263991\n",
      "Epoch 8: [  350 / 800] (44 %)  Loss: 0.635775\n",
      "Epoch 8: [  400 / 800] (50 %)  Loss: 0.105430\n",
      "Epoch 8: [  450 / 800] (56 %)  Loss: 0.063673\n",
      "Epoch 8: [  500 / 800] (62 %)  Loss: 0.297921\n",
      "Epoch 8: [  550 / 800] (69 %)  Loss: 1.989915\n",
      "Epoch 8: [  600 / 800] (75 %)  Loss: 0.046396\n",
      "Epoch 8: [  650 / 800] (81 %)  Loss: 0.877425\n",
      "Epoch 8: [  700 / 800] (88 %)  Loss: 0.229025\n",
      "Epoch 8: [  750 / 800] (94 %)  Loss: 0.504602\n",
      "Epoch 8: [  800 / 800] (100 %)  Loss: 0.040256\n",
      "Epoch 9: [   50 / 800] (6 %)  Loss: 0.301144\n",
      "Epoch 9: [  100 / 800] (12 %)  Loss: 0.000700\n",
      "Epoch 9: [  150 / 800] (19 %)  Loss: 0.059813\n",
      "Epoch 9: [  200 / 800] (25 %)  Loss: 0.021139\n",
      "Epoch 9: [  250 / 800] (31 %)  Loss: 0.000000\n",
      "Epoch 9: [  300 / 800] (38 %)  Loss: 0.000007\n",
      "Epoch 9: [  350 / 800] (44 %)  Loss: 0.028183\n",
      "Epoch 9: [  400 / 800] (50 %)  Loss: 0.077494\n",
      "Epoch 9: [  450 / 800] (56 %)  Loss: 1.047722\n",
      "Epoch 9: [  500 / 800] (62 %)  Loss: 0.075860\n",
      "Epoch 9: [  550 / 800] (69 %)  Loss: 1.770625\n",
      "Epoch 9: [  600 / 800] (75 %)  Loss: 0.021329\n",
      "Epoch 9: [  650 / 800] (81 %)  Loss: 0.853334\n",
      "Epoch 9: [  700 / 800] (88 %)  Loss: 0.295299\n",
      "Epoch 9: [  750 / 800] (94 %)  Loss: 0.074010\n",
      "Epoch 9: [  800 / 800] (100 %)  Loss: 0.414031\n",
      "Epoch 10: [   50 / 800] (6 %)  Loss: 0.033753\n",
      "Epoch 10: [  100 / 800] (12 %)  Loss: 0.008289\n",
      "Epoch 10: [  150 / 800] (19 %)  Loss: 0.014234\n",
      "Epoch 10: [  200 / 800] (25 %)  Loss: 0.007841\n",
      "Epoch 10: [  250 / 800] (31 %)  Loss: 0.000001\n",
      "Epoch 10: [  300 / 800] (38 %)  Loss: 0.000071\n",
      "Epoch 10: [  350 / 800] (44 %)  Loss: 0.006556\n",
      "Epoch 10: [  400 / 800] (50 %)  Loss: 0.017285\n",
      "Epoch 10: [  450 / 800] (56 %)  Loss: 0.001386\n",
      "Epoch 10: [  500 / 800] (62 %)  Loss: 0.011380\n",
      "Epoch 10: [  550 / 800] (69 %)  Loss: 0.000184\n",
      "Epoch 10: [  600 / 800] (75 %)  Loss: 0.003759\n",
      "Epoch 10: [  650 / 800] (81 %)  Loss: 0.000236\n",
      "Epoch 10: [  700 / 800] (88 %)  Loss: 0.016498\n",
      "Epoch 10: [  750 / 800] (94 %)  Loss: 0.131501\n",
      "Epoch 10: [  800 / 800] (100 %)  Loss: 0.000751\n"
     ]
    }
   ],
   "source": [
    "epochs = 10\n",
    "lr=0.01\n",
    "\n",
    "# 设定优化器(optimizer)\n",
    "optimizer = torch.optim.Adam(model.parameters(), lr=lr)\n",
    "\n",
    "model.train()\n",
    "loss_list = []    \n",
    "for epoch in range(1, epochs + 1):\n",
    "    for batch_idx, (data, target) in enumerate(train_loader):\n",
    "        # if batch_idx == 0 and epoch == 1: print(type(data), type(target))\n",
    "        data, target = data.to(device), target.to(device)\n",
    "\n",
    "        optimizer.zero_grad()\n",
    "        output = model(data)\n",
    "        # if batch_idx == 0 : print(output.shape, target.shape)\n",
    "        loss = F.nll_loss(output, target)\n",
    "        loss.backward()\n",
    "        optimizer.step()\n",
    "\n",
    "        if (batch_idx+1) % 10 == 0:\n",
    "            loss_list.append(loss.item())\n",
    "            batch = (batch_idx+1) * len(data)\n",
    "            data_count = len(train_loader.dataset)\n",
    "            percentage = (100. * (batch_idx+1) / len(train_loader))\n",
    "            print(f'Epoch {epoch}: [{batch:5d} / {data_count}] ({percentage:.0f} %)' +\n",
    "                  f'  Loss: {loss.item():.6f}')"
   ]
  },
  {
   "cell_type": "markdown",
   "metadata": {
    "scrolled": false
   },
   "source": [
    "## 对训练过程的损失绘图"
   ]
  },
  {
   "cell_type": "code",
   "execution_count": 13,
   "metadata": {
    "scrolled": false
   },
   "outputs": [
    {
     "data": {
      "text/plain": [
       "[<matplotlib.lines.Line2D at 0x2c812541cd0>]"
      ]
     },
     "execution_count": 13,
     "metadata": {},
     "output_type": "execute_result"
    },
    {
     "data": {
      "image/png": "[encoded data removed]",
      "text/plain": [
       "<Figure size 432x288 with 1 Axes>"
      ]
     },
     "metadata": {
      "needs_background": "light"
     },
     "output_type": "display_data"
    }
   ],
   "source": [
    "import matplotlib.pyplot as plt\n",
    "\n",
    "plt.plot(loss_list, 'r')"
   ]
  },
  {
   "cell_type": "markdown",
   "metadata": {},
   "source": [
    "## 步骤7：评分(Score Model)"
   ]
  },
  {
   "cell_type": "code",
   "execution_count": 22,
   "metadata": {
    "scrolled": true
   },
   "outputs": [
    {
     "name": "stdout",
     "output_type": "stream",
     "text": [
      "平均损失: 0.3201, 准确率: 89/200 (44.50%)\n",
      "\n"
     ]
    }
   ],
   "source": [
    "model.eval()\n",
    "test_loss = 0\n",
    "correct = 0\n",
    "predictions = []\n",
    "target_list = []\n",
    "with torch.no_grad():\n",
    "    for data, target in test_loader:\n",
    "        data, target = data.to(device), target.to(device)\n",
    "        output = model(data)\n",
    "        \n",
    "        # sum up batch loss\n",
    "        test_loss += F.nll_loss(output, target).item()\n",
    "        \n",
    "        # 预测\n",
    "        output = model(data)\n",
    "        \n",
    "        # 计算正确数\n",
    "        _, predicted = torch.max(output.data, 1)\n",
    "        predictions.extend(predicted.cpu().numpy())\n",
    "        target_list.extend(target.cpu())\n",
    "        correct += (predicted == target).sum().item()\n",
    "\n",
    "# 平均损失\n",
    "test_loss /= len(test_loader.dataset) \n",
    "# 显示测试结果\n",
    "batch = batch_idx * len(data)\n",
    "data_count = len(test_loader.dataset)\n",
    "percentage = 100. * correct / data_count \n",
    "print(f'平均损失: {test_loss:.4f}, 准确率: {correct}/{data_count}' + \n",
    "      f' ({percentage:.2f}%)\\n')"
   ]
  },
  {
   "cell_type": "markdown",
   "metadata": {},
   "source": [
    "## 步骤8：评估"
   ]
  },
  {
   "cell_type": "markdown",
   "metadata": {},
   "source": [
    "## 显示混淆矩阵"
   ]
  },
  {
   "cell_type": "code",
   "execution_count": 33,
   "metadata": {},
   "outputs": [
    {
     "data": {
      "image/png": "[encoded data removed]",
      "text/plain": [
       "<Figure size 432x288 with 2 Axes>"
      ]
     },
     "metadata": {
      "needs_background": "light"
     },
     "output_type": "display_data"
    }
   ],
   "source": [
    "from sklearn.metrics import confusion_matrix, ConfusionMatrixDisplay\n",
    "cm = confusion_matrix(target_list, predictions)\n",
    "disp = ConfusionMatrixDisplay(confusion_matrix=cm, display_labels=gtzan_genres)\n",
    "disp.plot()\n",
    "plt.xticks(rotation=90);"
   ]
  },
  {
   "cell_type": "code",
   "execution_count": 15,
   "metadata": {},
   "outputs": [
    {
     "name": "stdout",
     "output_type": "stream",
     "text": [
      "actual    : 3 5 2 6 2 1 2 9 5 7 4 1 8 6 3 9 0 9 2 7\n",
      "prediction: 7 7 9 6 2 1 9 9 1 8 4 1 9 6 9 9 6 8 3 7\n"
     ]
    }
   ],
   "source": [
    "# 实际预测 20 笔资料\n",
    "predictions = []\n",
    "target_list = []\n",
    "with torch.no_grad():\n",
    "    for i in range(20):\n",
    "        data, target = test_ds[i]\n",
    "        data = data.reshape(1, *data.shape).to(device)\n",
    "        output = torch.argmax(model(data), axis=-1)\n",
    "        predictions.append(str(output.item()))\n",
    "        target_list.append(str(target))\n",
    "\n",
    "# 比对\n",
    "print('actual    :', ' '.join(target_list))\n",
    "print('prediction:', ' '.join(predictions[0:20]))"
   ]
  },
  {
   "cell_type": "markdown",
   "metadata": {},
   "source": [
    "## 步骤9：模型布署"
   ]
  },
  {
   "cell_type": "code",
   "execution_count": 16,
   "metadata": {},
   "outputs": [],
   "source": [
    "# 模型存档\n",
    "torch.save(model, 'Music_genre_classification.pth')\n",
    "# 模型载入\n",
    "model = torch.load('Music_genre_classification.pth')"
   ]
  },
  {
   "cell_type": "code",
   "execution_count": null,
   "metadata": {},
   "outputs": [],
   "source": []
  }
 ],
 "metadata": {
  "kernelspec": {
   "display_name": "Python 3 (ipykernel)",
   "language": "python",
   "name": "python3"
  },
  "language_info": {
   "codemirror_mode": {
    "name": "ipython",
    "version": 3
   },
   "file_extension": ".py",
   "mimetype": "text/x-python",
   "name": "python",
   "nbconvert_exporter": "python",
   "pygments_lexer": "ipython3",
   "version": "3.9.7"
  }
 },
 "nbformat": 4,
 "nbformat_minor": 4
}
