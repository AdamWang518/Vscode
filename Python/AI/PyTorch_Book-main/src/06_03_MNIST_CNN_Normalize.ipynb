{
 "cells": [
  {
   "cell_type": "markdown",
   "metadata": {},
   "source": [
    "# CNN + 標準化"
   ]
  },
  {
   "cell_type": "markdown",
   "metadata": {},
   "source": [
    "## 載入套件"
   ]
  },
  {
   "cell_type": "code",
   "execution_count": 1,
   "metadata": {},
   "outputs": [],
   "source": [
    "import os\n",
    "import torch\n",
    "from torch import nn\n",
    "from torch.nn import functional as F\n",
    "from torch.utils.data import DataLoader, random_split\n",
    "from torchmetrics import Accuracy\n",
    "from torchvision import transforms\n",
    "from torchvision.datasets import MNIST"
   ]
  },
  {
   "cell_type": "markdown",
   "metadata": {},
   "source": [
    "## 設定參數"
   ]
  },
  {
   "cell_type": "code",
   "execution_count": 2,
   "metadata": {},
   "outputs": [
    {
     "data": {
      "text/plain": [
       "'cuda'"
      ]
     },
     "execution_count": 2,
     "metadata": {},
     "output_type": "execute_result"
    }
   ],
   "source": [
    "# 設定參數\n",
    "PATH_DATASETS = \"\" # 預設路徑\n",
    "BATCH_SIZE = 1024  # 批量\n",
    "device = torch.device(\"cuda\" if torch.cuda.is_available() else \"cpu\")\n",
    "\"cuda\" if torch.cuda.is_available() else \"cpu\""
   ]
  },
  {
   "cell_type": "markdown",
   "metadata": {},
   "source": [
    "## 步驟1：載入 MNIST 手寫阿拉伯數字資料"
   ]
  },
  {
   "cell_type": "code",
   "execution_count": 3,
   "metadata": {},
   "outputs": [
    {
     "name": "stdout",
     "output_type": "stream",
     "text": [
      "torch.Size([60000, 28, 28]) torch.Size([10000, 28, 28])\n"
     ]
    }
   ],
   "source": [
    "transform=transforms.Compose([\n",
    "    transforms.ToTensor(),\n",
    "    transforms.Normalize(mean=(0.1307,), std=(0.3081,))\n",
    "    ])\n",
    "\n",
    "# 下載 MNIST 手寫阿拉伯數字 訓練資料\n",
    "train_ds = MNIST(PATH_DATASETS, train=True, download=True, \n",
    "                 transform=transform)\n",
    "\n",
    "# 下載測試資料\n",
    "test_ds = MNIST(PATH_DATASETS, train=False, download=True, \n",
    "                 transform=transform)\n",
    "\n",
    "# 訓練/測試資料的維度\n",
    "print(train_ds.data.shape, test_ds.data.shape)"
   ]
  },
  {
   "cell_type": "markdown",
   "metadata": {},
   "source": [
    "## 步驟2：資料清理，此步驟無需進行"
   ]
  },
  {
   "cell_type": "markdown",
   "metadata": {},
   "source": [
    "## 步驟3：進行特徵工程，將特徵縮放成(0, 1)之間"
   ]
  },
  {
   "cell_type": "code",
   "execution_count": 4,
   "metadata": {},
   "outputs": [],
   "source": [
    "# train_ds.data = train_ds.data / 255.0\n",
    "# test_ds.data = test_ds.data / 255.0"
   ]
  },
  {
   "cell_type": "markdown",
   "metadata": {},
   "source": [
    "## 步驟4：資料分割，此步驟無需進行，載入MNIST資料時，已經切割好了"
   ]
  },
  {
   "cell_type": "markdown",
   "metadata": {},
   "source": [
    "## 步驟5：建立模型結構"
   ]
  },
  {
   "cell_type": "code",
   "execution_count": 5,
   "metadata": {},
   "outputs": [],
   "source": [
    "import math\n",
    "\n",
    "# W, F, P, S：image Width, Filter width, Padding, Stride \n",
    "# def Conv_Width(W, F, P, S):\n",
    "#     return math.floor(((W - F) + 2 * P) / S) + 1\n",
    "\n",
    "# # def Pool_Width(W, F, S):\n",
    "#     return math.floor((W - F) / S) + 1\n",
    "\n",
    "def Conv_Width(W, F, P, S):\n",
    "    return math.floor(((W - F + 2 * P) / S) + 1)\n",
    "\n",
    "def Conv_Output_Volume(W, F, P, S, out):\n",
    "    return Conv_Width(W, F, P, S) ** 2 * out\n",
    "\n",
    "# C: no of channels\n",
    "def Conv_Parameter_Count(F, C, out):\n",
    "    return F ** 2 * C * out\n",
    "\n",
    "def Pool_Width(W, F, P, S):\n",
    "    return Conv_Width(W, F, P, S)\n",
    "\n",
    "# filter_count: no of filter in last conv \n",
    "# stride count default value = Filter width\n",
    "def Pool_Output_Volume(W, F, P, S, filter_count):\n",
    "    return Conv_Output_Volume(W, F, P, S, filter_count)\n",
    "\n",
    "def Pool_Parameter_Count(W, F, S):\n",
    "    return 0\n",
    "\n",
    "def Conv_Pool_Width(W, F, P, S, F2, P2, S2, n):\n",
    "    for i in range(n):\n",
    "        W = Pool_Width(Conv_Width(W, F, P, S), F2, P2, S2)\n",
    "    return W"
   ]
  },
  {
   "cell_type": "code",
   "execution_count": 6,
   "metadata": {},
   "outputs": [
    {
     "data": {
      "text/plain": [
       "(24, 9216)"
      ]
     },
     "execution_count": 6,
     "metadata": {},
     "output_type": "execute_result"
    }
   ],
   "source": [
    "# ConvNet2\n",
    "l2_Width = Conv_Width(Conv_Width(28, 3, 0, 1), 3, 0, 1)\n",
    "p1_out = Pool_Output_Volume(l2_Width, 2, 0, 2, 64)\n",
    "l2_Width, p1_out"
   ]
  },
  {
   "cell_type": "markdown",
   "metadata": {},
   "source": [
    "## 步驟6：結合訓練資料及模型，進行模型訓練"
   ]
  },
  {
   "cell_type": "code",
   "execution_count": 7,
   "metadata": {},
   "outputs": [],
   "source": [
    "# Conv2d 參數： in-channel, out-channel, kernel size, Stride, Padding\n",
    "class Net(nn.Module):\n",
    "    def __init__(self):\n",
    "        super(Net, self).__init__()\n",
    "        self.conv1 = nn.Conv2d(1, 32, 3, 1)\n",
    "        self.conv2 = nn.Conv2d(32, 64, 3, 1)\n",
    "        self.dropout1 = nn.Dropout(0.25)\n",
    "        self.dropout2 = nn.Dropout(0.5)\n",
    "        self.fc1 = nn.Linear(9216, 128)\n",
    "        self.fc2 = nn.Linear(128, 10)\n",
    "\n",
    "    def forward(self, x):\n",
    "        x = self.conv1(x)\n",
    "        x = F.relu(x)\n",
    "        x = self.conv2(x)\n",
    "        x = F.relu(x)\n",
    "        x = F.max_pool2d(x, 2)\n",
    "        x = self.dropout1(x)\n",
    "        x = torch.flatten(x, 1)\n",
    "        x = self.fc1(x)\n",
    "        x = F.relu(x)\n",
    "        x = self.dropout2(x)\n",
    "        x = self.fc2(x)\n",
    "        output = F.log_softmax(x, dim=1)\n",
    "        return output"
   ]
  },
  {
   "cell_type": "code",
   "execution_count": 8,
   "metadata": {},
   "outputs": [],
   "source": [
    "def train(model, device, train_loader, optimizer, epoch):\n",
    "    model.train()\n",
    "    loss_list = []    \n",
    "    for batch_idx, (data, target) in enumerate(train_loader):\n",
    "        data, target = data.to(device), target.to(device)\n",
    "        \n",
    "        optimizer.zero_grad()\n",
    "        output = model(data)\n",
    "        loss = F.nll_loss(output, target)\n",
    "        loss.backward()\n",
    "        optimizer.step()\n",
    "        \n",
    "        if (batch_idx+1) % 10 == 0:\n",
    "            loss_list.append(loss.item())\n",
    "            batch = (batch_idx+1) * len(data)\n",
    "            data_count = len(train_loader.dataset)\n",
    "            percentage = (100. * (batch_idx+1) / len(train_loader))\n",
    "            print(f'Epoch {epoch}: [{batch:5d} / {data_count}] ({percentage:.0f} %)' +\n",
    "                  f'  Loss: {loss.item():.6f}')\n",
    "    return loss_list"
   ]
  },
  {
   "cell_type": "code",
   "execution_count": 9,
   "metadata": {},
   "outputs": [],
   "source": [
    "def test(model, device, test_loader):\n",
    "    model.eval()\n",
    "    test_loss = 0\n",
    "    correct = 0\n",
    "    with torch.no_grad():\n",
    "        for data, target in test_loader:\n",
    "            data, target = data.to(device), target.to(device)\n",
    "            output = model(data)\n",
    "            test_loss += F.nll_loss(output, target, reduction='sum').item()  # sum up batch loss\n",
    "            pred = output.argmax(dim=1, keepdim=True)  # get the index of the max log-probability\n",
    "            correct += pred.eq(target.view_as(pred)).sum().item()\n",
    "\n",
    "    # 平均損失\n",
    "    test_loss /= len(test_loader.dataset) \n",
    "    # 顯示測試結果\n",
    "    data_count = len(test_loader.dataset)\n",
    "    percentage = 100. * correct / data_count \n",
    "    print(f'平均損失: {test_loss:.4f}, 準確率: {correct}/{data_count}' + \n",
    "          f' ({percentage:.2f}%)\\n')"
   ]
  },
  {
   "cell_type": "code",
   "execution_count": 10,
   "metadata": {},
   "outputs": [
    {
     "name": "stdout",
     "output_type": "stream",
     "text": [
      "Epoch 1: [ 6000 / 60000] (10 %)  Loss: 1.827908\n",
      "Epoch 1: [12000 / 60000] (20 %)  Loss: 1.248245\n",
      "Epoch 1: [18000 / 60000] (30 %)  Loss: 0.851046\n",
      "Epoch 1: [24000 / 60000] (40 %)  Loss: 0.567789\n",
      "Epoch 1: [30000 / 60000] (50 %)  Loss: 0.480891\n",
      "Epoch 1: [36000 / 60000] (60 %)  Loss: 0.498269\n",
      "Epoch 1: [42000 / 60000] (70 %)  Loss: 0.515344\n",
      "Epoch 1: [48000 / 60000] (80 %)  Loss: 0.483743\n",
      "Epoch 1: [54000 / 60000] (90 %)  Loss: 0.384602\n",
      "Epoch 1: [60000 / 60000] (100 %)  Loss: 0.386423\n",
      "Epoch 2: [ 6000 / 60000] (10 %)  Loss: 0.419692\n",
      "Epoch 2: [12000 / 60000] (20 %)  Loss: 0.417465\n",
      "Epoch 2: [18000 / 60000] (30 %)  Loss: 0.354337\n",
      "Epoch 2: [24000 / 60000] (40 %)  Loss: 0.400533\n",
      "Epoch 2: [30000 / 60000] (50 %)  Loss: 0.321174\n",
      "Epoch 2: [36000 / 60000] (60 %)  Loss: 0.270999\n",
      "Epoch 2: [42000 / 60000] (70 %)  Loss: 0.325577\n",
      "Epoch 2: [48000 / 60000] (80 %)  Loss: 0.223223\n",
      "Epoch 2: [54000 / 60000] (90 %)  Loss: 0.230614\n",
      "Epoch 2: [60000 / 60000] (100 %)  Loss: 0.210260\n",
      "Epoch 3: [ 6000 / 60000] (10 %)  Loss: 0.231238\n",
      "Epoch 3: [12000 / 60000] (20 %)  Loss: 0.234958\n",
      "Epoch 3: [18000 / 60000] (30 %)  Loss: 0.228746\n",
      "Epoch 3: [24000 / 60000] (40 %)  Loss: 0.217847\n",
      "Epoch 3: [30000 / 60000] (50 %)  Loss: 0.231476\n",
      "Epoch 3: [36000 / 60000] (60 %)  Loss: 0.220093\n",
      "Epoch 3: [42000 / 60000] (70 %)  Loss: 0.197167\n",
      "Epoch 3: [48000 / 60000] (80 %)  Loss: 0.192241\n",
      "Epoch 3: [54000 / 60000] (90 %)  Loss: 0.183291\n",
      "Epoch 3: [60000 / 60000] (100 %)  Loss: 0.168359\n",
      "Epoch 4: [ 6000 / 60000] (10 %)  Loss: 0.148564\n",
      "Epoch 4: [12000 / 60000] (20 %)  Loss: 0.185268\n",
      "Epoch 4: [18000 / 60000] (30 %)  Loss: 0.196135\n",
      "Epoch 4: [24000 / 60000] (40 %)  Loss: 0.136280\n",
      "Epoch 4: [30000 / 60000] (50 %)  Loss: 0.162360\n",
      "Epoch 4: [36000 / 60000] (60 %)  Loss: 0.187824\n",
      "Epoch 4: [42000 / 60000] (70 %)  Loss: 0.139198\n",
      "Epoch 4: [48000 / 60000] (80 %)  Loss: 0.163723\n",
      "Epoch 4: [54000 / 60000] (90 %)  Loss: 0.185190\n",
      "Epoch 4: [60000 / 60000] (100 %)  Loss: 0.123686\n",
      "Epoch 5: [ 6000 / 60000] (10 %)  Loss: 0.145032\n",
      "Epoch 5: [12000 / 60000] (20 %)  Loss: 0.152261\n",
      "Epoch 5: [18000 / 60000] (30 %)  Loss: 0.136532\n",
      "Epoch 5: [24000 / 60000] (40 %)  Loss: 0.132967\n",
      "Epoch 5: [30000 / 60000] (50 %)  Loss: 0.138478\n",
      "Epoch 5: [36000 / 60000] (60 %)  Loss: 0.122619\n",
      "Epoch 5: [42000 / 60000] (70 %)  Loss: 0.134862\n",
      "Epoch 5: [48000 / 60000] (80 %)  Loss: 0.122802\n",
      "Epoch 5: [54000 / 60000] (90 %)  Loss: 0.127834\n",
      "Epoch 5: [60000 / 60000] (100 %)  Loss: 0.105344\n",
      "Epoch 6: [ 6000 / 60000] (10 %)  Loss: 0.136601\n",
      "Epoch 6: [12000 / 60000] (20 %)  Loss: 0.091798\n",
      "Epoch 6: [18000 / 60000] (30 %)  Loss: 0.141214\n",
      "Epoch 6: [24000 / 60000] (40 %)  Loss: 0.101837\n",
      "Epoch 6: [30000 / 60000] (50 %)  Loss: 0.124889\n",
      "Epoch 6: [36000 / 60000] (60 %)  Loss: 0.082672\n",
      "Epoch 6: [42000 / 60000] (70 %)  Loss: 0.095368\n",
      "Epoch 6: [48000 / 60000] (80 %)  Loss: 0.134547\n",
      "Epoch 6: [54000 / 60000] (90 %)  Loss: 0.124970\n",
      "Epoch 6: [60000 / 60000] (100 %)  Loss: 0.099705\n",
      "Epoch 7: [ 6000 / 60000] (10 %)  Loss: 0.093872\n",
      "Epoch 7: [12000 / 60000] (20 %)  Loss: 0.062622\n",
      "Epoch 7: [18000 / 60000] (30 %)  Loss: 0.099677\n",
      "Epoch 7: [24000 / 60000] (40 %)  Loss: 0.086116\n",
      "Epoch 7: [30000 / 60000] (50 %)  Loss: 0.112758\n",
      "Epoch 7: [36000 / 60000] (60 %)  Loss: 0.086838\n",
      "Epoch 7: [42000 / 60000] (70 %)  Loss: 0.111109\n",
      "Epoch 7: [48000 / 60000] (80 %)  Loss: 0.104642\n",
      "Epoch 7: [54000 / 60000] (90 %)  Loss: 0.098056\n",
      "Epoch 7: [60000 / 60000] (100 %)  Loss: 0.068527\n",
      "Epoch 8: [ 6000 / 60000] (10 %)  Loss: 0.092580\n",
      "Epoch 8: [12000 / 60000] (20 %)  Loss: 0.115804\n",
      "Epoch 8: [18000 / 60000] (30 %)  Loss: 0.062573\n",
      "Epoch 8: [24000 / 60000] (40 %)  Loss: 0.110186\n",
      "Epoch 8: [30000 / 60000] (50 %)  Loss: 0.079838\n",
      "Epoch 8: [36000 / 60000] (60 %)  Loss: 0.104069\n",
      "Epoch 8: [42000 / 60000] (70 %)  Loss: 0.075697\n",
      "Epoch 8: [48000 / 60000] (80 %)  Loss: 0.104486\n",
      "Epoch 8: [54000 / 60000] (90 %)  Loss: 0.074292\n",
      "Epoch 8: [60000 / 60000] (100 %)  Loss: 0.091682\n",
      "Epoch 9: [ 6000 / 60000] (10 %)  Loss: 0.101767\n",
      "Epoch 9: [12000 / 60000] (20 %)  Loss: 0.120187\n",
      "Epoch 9: [18000 / 60000] (30 %)  Loss: 0.102182\n",
      "Epoch 9: [24000 / 60000] (40 %)  Loss: 0.063261\n",
      "Epoch 9: [30000 / 60000] (50 %)  Loss: 0.087738\n",
      "Epoch 9: [36000 / 60000] (60 %)  Loss: 0.054700\n",
      "Epoch 9: [42000 / 60000] (70 %)  Loss: 0.068586\n",
      "Epoch 9: [48000 / 60000] (80 %)  Loss: 0.068545\n",
      "Epoch 9: [54000 / 60000] (90 %)  Loss: 0.077363\n",
      "Epoch 9: [60000 / 60000] (100 %)  Loss: 0.052219\n",
      "Epoch 10: [ 6000 / 60000] (10 %)  Loss: 0.069837\n",
      "Epoch 10: [12000 / 60000] (20 %)  Loss: 0.062579\n",
      "Epoch 10: [18000 / 60000] (30 %)  Loss: 0.067839\n",
      "Epoch 10: [24000 / 60000] (40 %)  Loss: 0.055192\n",
      "Epoch 10: [30000 / 60000] (50 %)  Loss: 0.074554\n",
      "Epoch 10: [36000 / 60000] (60 %)  Loss: 0.087973\n",
      "Epoch 10: [42000 / 60000] (70 %)  Loss: 0.071844\n",
      "Epoch 10: [48000 / 60000] (80 %)  Loss: 0.070005\n",
      "Epoch 10: [54000 / 60000] (90 %)  Loss: 0.084270\n",
      "Epoch 10: [60000 / 60000] (100 %)  Loss: 0.051065\n"
     ]
    }
   ],
   "source": [
    "epochs = 10\n",
    "lr = 0.1\n",
    "\n",
    "# 改變批量以縮短訓練時間\n",
    "train_loader = DataLoader(train_ds, shuffle=True, batch_size=600)\n",
    "\n",
    "# 建立模型\n",
    "model = Net().to(device)\n",
    "\n",
    "# 設定優化器(optimizer)\n",
    "optimizer = torch.optim.Adadelta(model.parameters(), lr=lr)\n",
    "\n",
    "loss_list = []\n",
    "for epoch in range(1, epochs + 1):\n",
    "    loss_list += train(model, device, train_loader, optimizer, epoch)\n",
    "    #test(model, device, test_loader)\n",
    "    optimizer.step()\n",
    "    "
   ]
  },
  {
   "cell_type": "code",
   "execution_count": 11,
   "metadata": {
    "scrolled": false
   },
   "outputs": [
    {
     "data": {
      "text/plain": [
       "[<matplotlib.lines.Line2D at 0x1d1fc191d90>]"
      ]
     },
     "execution_count": 11,
     "metadata": {},
     "output_type": "execute_result"
    },
    {
     "data": {
      "image/png": "[encoded data removed]",
      "text/plain": [
       "<Figure size 432x288 with 1 Axes>"
      ]
     },
     "metadata": {
      "needs_background": "light"
     },
     "output_type": "display_data"
    }
   ],
   "source": [
    "# 對訓練過程的損失繪圖\n",
    "import matplotlib.pyplot as plt\n",
    "\n",
    "plt.plot(loss_list, 'r')"
   ]
  },
  {
   "cell_type": "markdown",
   "metadata": {},
   "source": [
    "## 步驟7：評分(Score Model)"
   ]
  },
  {
   "cell_type": "code",
   "execution_count": 12,
   "metadata": {
    "scrolled": true
   },
   "outputs": [
    {
     "name": "stdout",
     "output_type": "stream",
     "text": [
      "平均損失: 0.0439, 準確率: 9839/10000 (98.39%)\n",
      "\n"
     ]
    }
   ],
   "source": [
    "# 建立 DataLoader\n",
    "test_loader = DataLoader(test_ds, shuffle=False, batch_size=BATCH_SIZE)\n",
    "\n",
    "# 評分\n",
    "test(model, device, test_loader)"
   ]
  },
  {
   "cell_type": "code",
   "execution_count": 13,
   "metadata": {},
   "outputs": [
    {
     "name": "stdout",
     "output_type": "stream",
     "text": [
      "actual    : [7 2 1 0 4 1 4 9 5 9 0 6 9 0 1 5 9 7 3 4]\n",
      "prediction:  7 2 1 0 4 1 4 9 5 9 0 6 9 0 1 5 9 7 3 4\n"
     ]
    }
   ],
   "source": [
    "# 實際預測 20 筆資料\n",
    "predictions = []\n",
    "with torch.no_grad():\n",
    "    for i in range(20):\n",
    "        data, target = test_ds[i][0], test_ds[i][1]\n",
    "        data = data.reshape(1, *data.shape).to(device)\n",
    "        output = torch.argmax(model(data), axis=-1)\n",
    "        predictions.append(str(output.item()))\n",
    "\n",
    "# 比對\n",
    "print('actual    :', test_ds.targets[0:20].numpy())\n",
    "print('prediction: ', ' '.join(predictions[0:20]))"
   ]
  },
  {
   "cell_type": "code",
   "execution_count": 14,
   "metadata": {},
   "outputs": [
    {
     "name": "stdout",
     "output_type": "stream",
     "text": [
      "torch.Size([1, 1, 28, 28])\n",
      "0~9預測機率: [[0.   0.   0.   0.   0.   0.91 0.09 0.   0.   0.  ]]\n",
      "0~9預測機率: [5]\n"
     ]
    }
   ],
   "source": [
    "# 顯示第 9 筆的機率\n",
    "import numpy as np\n",
    "\n",
    "i=8\n",
    "data = test_ds[i][0]\n",
    "data = data.reshape(1, *data.shape).to(device)\n",
    "print(data.shape)\n",
    "predictions = torch.softmax(model(data), dim=1)\n",
    "print(f'0~9預測機率: {np.around(predictions.cpu().detach().numpy(), 2)}')\n",
    "print(f'0~9預測機率: {np.argmax(predictions.cpu().detach().numpy(), axis=-1)}')"
   ]
  },
  {
   "cell_type": "code",
   "execution_count": 15,
   "metadata": {
    "scrolled": true
   },
   "outputs": [
    {
     "data": {
      "image/png": "[encoded data removed]",
      "text/plain": [
       "<Figure size 432x288 with 1 Axes>"
      ]
     },
     "metadata": {
      "needs_background": "light"
     },
     "output_type": "display_data"
    }
   ],
   "source": [
    "# 顯示第 9 筆圖像\n",
    "X2 = test_ds[i][0] \n",
    "plt.imshow(X2.reshape(28,28), cmap='gray')\n",
    "plt.axis('off')\n",
    "plt.show() "
   ]
  },
  {
   "cell_type": "code",
   "execution_count": 16,
   "metadata": {},
   "outputs": [
    {
     "data": {
      "text/plain": [
       "tensor([[[-0.4242, -0.4242, -0.4242, -0.4242, -0.4242, -0.4242, -0.4242,\n",
       "          -0.4242, -0.4242, -0.4242, -0.4242, -0.4242, -0.4242, -0.4242,\n",
       "          -0.4242, -0.4242, -0.4242, -0.4242, -0.4242, -0.4242, -0.4242,\n",
       "          -0.4242, -0.4242, -0.4242, -0.4242, -0.4242, -0.4242, -0.4242],\n",
       "         [-0.4242, -0.4242, -0.4242, -0.4242, -0.4242, -0.4242, -0.4242,\n",
       "          -0.4242, -0.4242, -0.4242, -0.4242, -0.4242, -0.4242, -0.4242,\n",
       "          -0.4242, -0.4242, -0.4242, -0.4242, -0.4242, -0.4242, -0.4242,\n",
       "          -0.4242, -0.4242, -0.4242, -0.4242, -0.4242, -0.4242, -0.4242],\n",
       "         [-0.4242, -0.4242, -0.4242, -0.4242, -0.4242, -0.4242, -0.4242,\n",
       "          -0.4242, -0.4242, -0.4242, -0.4242, -0.4242, -0.4242, -0.4242,\n",
       "          -0.4242, -0.4242, -0.4242, -0.4242, -0.4242, -0.4242, -0.4242,\n",
       "          -0.4242, -0.4242, -0.4242, -0.4242, -0.4242, -0.4242, -0.4242],\n",
       "         [-0.4242, -0.4242, -0.4242, -0.4242, -0.4242, -0.4242, -0.4242,\n",
       "          -0.4242, -0.4242, -0.4242, -0.4242, -0.4242, -0.4242, -0.4242,\n",
       "          -0.4242, -0.4242, -0.4242, -0.4242, -0.4242, -0.4242, -0.4242,\n",
       "          -0.4242, -0.4242, -0.4242, -0.4242, -0.4242, -0.4242, -0.4242],\n",
       "         [-0.4242, -0.4242, -0.4242, -0.4242, -0.4242, -0.4242, -0.4242,\n",
       "          -0.4242, -0.4242, -0.4242, -0.4242, -0.4242, -0.4242, -0.4242,\n",
       "          -0.4242, -0.4242, -0.4242, -0.2078,  0.1740,  0.1740,  0.1740,\n",
       "          -0.2206,  1.2177,  0.6577,  0.1740, -0.4242, -0.4242, -0.4242],\n",
       "         [-0.4242, -0.4242, -0.4242, -0.4242, -0.4242, -0.4242, -0.4242,\n",
       "          -0.4242, -0.4242, -0.4242, -0.4242, -0.4242, -0.4242, -0.4242,\n",
       "          -0.4242,  0.5304,  1.5232,  2.3378,  2.7960,  2.7960,  2.7960,\n",
       "           2.3124,  2.7069,  2.7960,  2.7960, -0.4242, -0.4242, -0.4242],\n",
       "         [-0.4242, -0.4242, -0.4242, -0.4242, -0.4242, -0.4242, -0.4242,\n",
       "          -0.4242, -0.4242, -0.4242, -0.4242, -0.4242,  0.0213,  1.3832,\n",
       "           2.6815,  2.7833,  2.7960,  2.7960,  2.7960,  2.7960,  2.7960,\n",
       "           2.7960,  2.7960,  2.7960,  2.7960, -0.4242, -0.4242, -0.4242],\n",
       "         [-0.4242, -0.4242, -0.4242, -0.4242, -0.4242, -0.4242, -0.4242,\n",
       "          -0.4242, -0.4242, -0.4242, -0.4242, -0.4242,  0.3777,  2.7960,\n",
       "           2.7960,  2.7960,  2.7960,  2.7960,  2.7960,  2.7960,  2.2869,\n",
       "           1.7396,  1.7396,  1.7396,  1.7396, -0.4242, -0.4242, -0.4242],\n",
       "         [-0.4242, -0.4242, -0.4242, -0.4242, -0.4242, -0.4242, -0.4242,\n",
       "          -0.4242, -0.1696,  1.2559,  0.4922, -0.4242,  0.3013,  2.6051,\n",
       "           2.4651,  2.6051,  1.7141,  1.1541,  0.4540, -0.1696, -0.2842,\n",
       "          -0.4242, -0.4242, -0.4242, -0.4242, -0.4242, -0.4242, -0.4242],\n",
       "         [-0.4242, -0.4242, -0.4242, -0.4242, -0.4242, -0.4242, -0.4242,\n",
       "          -0.2842,  2.1978,  2.7960,  0.5686, -0.4242, -0.4242, -0.0169,\n",
       "          -0.4242, -0.0424, -0.3988, -0.4242, -0.4242, -0.4242, -0.4242,\n",
       "          -0.4242, -0.4242, -0.4242, -0.4242, -0.4242, -0.4242, -0.4242],\n",
       "         [-0.4242, -0.4242, -0.4242, -0.4242, -0.4242, -0.4242, -0.3478,\n",
       "           1.8287,  2.7960,  1.2559, -0.2969, -0.4242, -0.4242, -0.4242,\n",
       "          -0.4242, -0.4242, -0.4242, -0.4242, -0.4242, -0.4242, -0.4242,\n",
       "          -0.4242, -0.4242, -0.4242, -0.4242, -0.4242, -0.4242, -0.4242],\n",
       "         [-0.4242, -0.4242, -0.4242, -0.4242, -0.4242, -0.2715,  1.2686,\n",
       "           2.7960,  2.5415, -0.2333, -0.4242, -0.4242, -0.4242, -0.4242,\n",
       "          -0.4242, -0.4242, -0.4242, -0.4242, -0.4242, -0.4242, -0.4242,\n",
       "          -0.4242, -0.4242, -0.4242, -0.4242, -0.4242, -0.4242, -0.4242],\n",
       "         [-0.4242, -0.4242, -0.4242, -0.4242, -0.4242,  0.7468,  2.7960,\n",
       "           2.4142, -0.0678, -0.4242, -0.4242, -0.4242, -0.4242, -0.4242,\n",
       "          -0.4242, -0.4242, -0.4242, -0.4242, -0.4242, -0.4242, -0.4242,\n",
       "          -0.4242, -0.4242, -0.4242, -0.4242, -0.4242, -0.4242, -0.4242],\n",
       "         [-0.4242, -0.4242, -0.4242, -0.4242, -0.4242,  1.4850,  2.7960,\n",
       "           1.7905, -0.4242, -0.4242, -0.4242, -0.4242, -0.4242, -0.4242,\n",
       "          -0.4242, -0.4242, -0.4242, -0.4242, -0.4242, -0.4242, -0.4242,\n",
       "          -0.4242, -0.4242, -0.4242, -0.4242, -0.4242, -0.4242, -0.4242],\n",
       "         [-0.4242, -0.4242, -0.4242, -0.4242, -0.4242,  2.5542,  2.7960,\n",
       "           2.7069,  1.1923,  0.1995, -0.4242, -0.4242, -0.4242, -0.4242,\n",
       "          -0.4242, -0.4242, -0.4242, -0.4242, -0.4242, -0.4242, -0.4242,\n",
       "          -0.4242, -0.4242, -0.4242, -0.4242, -0.4242, -0.4242, -0.4242],\n",
       "         [-0.4242, -0.4242, -0.4242, -0.4242, -0.4242,  2.8215,  2.7960,\n",
       "           2.7960,  2.7960,  2.7706,  1.4468,  0.7341,  1.1159,  0.6577,\n",
       "           0.1104,  0.1104,  0.6577, -0.0678, -0.4242, -0.4242, -0.4242,\n",
       "          -0.4242, -0.4242, -0.4242, -0.4242, -0.4242, -0.4242, -0.4242],\n",
       "         [-0.4242, -0.4242, -0.4242, -0.4242, -0.4242,  1.3450,  2.7960,\n",
       "           2.7960,  2.7960,  2.7960,  2.7960,  2.7960,  2.7960,  2.7960,\n",
       "           2.7960,  2.7960,  2.7960,  2.5287,  1.7141, -0.4242, -0.4242,\n",
       "          -0.4242, -0.4242, -0.4242, -0.4242, -0.4242, -0.4242, -0.4242],\n",
       "         [-0.4242, -0.4242, -0.4242, -0.4242, -0.4242, -0.3860,  0.2504,\n",
       "           2.3505,  2.4015,  2.7706,  2.7960,  2.7960,  2.7960,  2.7960,\n",
       "           2.7960,  2.7960,  2.7960,  2.7960,  2.7833,  1.1541, -0.4242,\n",
       "          -0.4242, -0.4242, -0.4242, -0.4242, -0.4242, -0.4242, -0.4242],\n",
       "         [-0.4242, -0.4242, -0.4242, -0.4242, -0.4242, -0.4242, -0.4242,\n",
       "          -0.4242, -0.4242,  0.4286,  0.4922,  2.1214,  2.7960,  2.7960,\n",
       "           2.7960,  2.7960,  2.7960,  2.7960,  2.7960,  1.8032, -0.4242,\n",
       "          -0.4242, -0.4242, -0.4242, -0.4242, -0.4242, -0.4242, -0.4242],\n",
       "         [-0.4242, -0.4242, -0.4242, -0.4242, -0.4242, -0.4242, -0.4242,\n",
       "          -0.4242, -0.4242, -0.4242, -0.4242,  1.1032,  2.7960,  2.7451,\n",
       "           1.5105,  0.2249,  1.6632,  2.7960,  2.7960,  1.8032, -0.4242,\n",
       "          -0.4242, -0.4242, -0.4242, -0.4242, -0.4242, -0.4242, -0.4242],\n",
       "         [-0.4242, -0.4242, -0.4242, -0.4242, -0.4242, -0.4242, -0.4242,\n",
       "          -0.4242, -0.4242, -0.4242, -0.4242,  0.2122,  2.7960,  2.7960,\n",
       "           2.7960,  1.9687,  2.7833,  2.7960,  2.7960,  1.4596, -0.4242,\n",
       "          -0.4242, -0.4242, -0.4242, -0.4242, -0.4242, -0.4242, -0.4242],\n",
       "         [-0.4242, -0.4242, -0.4242, -0.4242, -0.4242, -0.4242, -0.4242,\n",
       "          -0.4242, -0.4242, -0.4242, -0.4242, -0.3097,  1.7014,  2.7960,\n",
       "           2.7960,  2.7960,  2.7960,  2.7578,  1.8032, -0.2842, -0.4242,\n",
       "          -0.4242, -0.4242, -0.4242, -0.4242, -0.4242, -0.4242, -0.4242],\n",
       "         [-0.4242, -0.4242, -0.4242, -0.4242, -0.4242, -0.4242, -0.4242,\n",
       "          -0.4242, -0.4242, -0.4242, -0.4242, -0.4242, -0.1315,  1.8669,\n",
       "           2.5160,  2.7960,  2.3887,  1.2050, -0.4242, -0.4242, -0.4242,\n",
       "          -0.4242, -0.4242, -0.4242, -0.4242, -0.4242, -0.4242, -0.4242],\n",
       "         [-0.4242, -0.4242, -0.4242, -0.4242, -0.4242, -0.4242, -0.4242,\n",
       "          -0.4242, -0.4242, -0.4242, -0.4242, -0.4242, -0.4242, -0.4242,\n",
       "           0.7595,  1.4723, -0.1442, -0.4242, -0.4242, -0.4242, -0.4242,\n",
       "          -0.4242, -0.4242, -0.4242, -0.4242, -0.4242, -0.4242, -0.4242],\n",
       "         [-0.4242, -0.4242, -0.4242, -0.4242, -0.4242, -0.4242, -0.4242,\n",
       "          -0.4242, -0.4242, -0.4242, -0.4242, -0.4242, -0.4242, -0.4242,\n",
       "          -0.4242, -0.4242, -0.4242, -0.4242, -0.4242, -0.4242, -0.4242,\n",
       "          -0.4242, -0.4242, -0.4242, -0.4242, -0.4242, -0.4242, -0.4242],\n",
       "         [-0.4242, -0.4242, -0.4242, -0.4242, -0.4242, -0.4242, -0.4242,\n",
       "          -0.4242, -0.4242, -0.4242, -0.4242, -0.4242, -0.4242, -0.4242,\n",
       "          -0.4242, -0.4242, -0.4242, -0.4242, -0.4242, -0.4242, -0.4242,\n",
       "          -0.4242, -0.4242, -0.4242, -0.4242, -0.4242, -0.4242, -0.4242],\n",
       "         [-0.4242, -0.4242, -0.4242, -0.4242, -0.4242, -0.4242, -0.4242,\n",
       "          -0.4242, -0.4242, -0.4242, -0.4242, -0.4242, -0.4242, -0.4242,\n",
       "          -0.4242, -0.4242, -0.4242, -0.4242, -0.4242, -0.4242, -0.4242,\n",
       "          -0.4242, -0.4242, -0.4242, -0.4242, -0.4242, -0.4242, -0.4242],\n",
       "         [-0.4242, -0.4242, -0.4242, -0.4242, -0.4242, -0.4242, -0.4242,\n",
       "          -0.4242, -0.4242, -0.4242, -0.4242, -0.4242, -0.4242, -0.4242,\n",
       "          -0.4242, -0.4242, -0.4242, -0.4242, -0.4242, -0.4242, -0.4242,\n",
       "          -0.4242, -0.4242, -0.4242, -0.4242, -0.4242, -0.4242, -0.4242]]])"
      ]
     },
     "execution_count": 16,
     "metadata": {},
     "output_type": "execute_result"
    }
   ],
   "source": [
    "test_ds[i][0]"
   ]
  },
  {
   "cell_type": "markdown",
   "metadata": {},
   "source": [
    "## 步驟8：評估，暫不進行"
   ]
  },
  {
   "cell_type": "markdown",
   "metadata": {},
   "source": [
    "## 步驟9：模型佈署"
   ]
  },
  {
   "cell_type": "code",
   "execution_count": 17,
   "metadata": {},
   "outputs": [],
   "source": [
    "# 模型存檔\n",
    "torch.save(model, 'cnn_mnist_model.pth')\n",
    "\n",
    "# 模型載入\n",
    "model = torch.load('cnn_mnist_model.pth')"
   ]
  },
  {
   "cell_type": "markdown",
   "metadata": {},
   "source": [
    "## 步驟10：新資料預測"
   ]
  },
  {
   "cell_type": "code",
   "execution_count": 18,
   "metadata": {},
   "outputs": [
    {
     "name": "stdout",
     "output_type": "stream",
     "text": [
      "-0.4242 -0.4242 -0.4242 -0.4242 -0.4242 -0.4242 -0.4242 -0.4242 -0.4242 -0.4242 -0.4242 -0.4242 -0.4242 -0.4242 -0.4242 -0.4242 -0.4242 -0.4242 -0.4242 -0.4242 -0.4242 -0.4242 -0.4242 -0.4242 -0.4242 -0.4242 -0.4242 -0.4242 \n",
      "-0.4242 -0.4242 -0.4242 -0.4242 -0.4242 -0.4242 -0.4242 -0.4242 -0.4242 -0.4242 -0.4242 -0.4242 -0.4242 -0.4242 -0.4242 -0.4242 -0.4242 -0.4242 -0.4242 -0.4242 -0.4242 -0.4242 -0.4242 -0.4242 -0.4242 -0.4242 -0.4242 -0.4242 \n",
      "-0.4242 -0.4242 -0.4242 -0.4242 -0.4242 -0.4242 -0.4242 -0.4242 -0.4242 -0.4242 -0.4242 -0.4242 -0.4242 -0.4242 -0.4242 -0.4242 -0.4242 -0.4242 -0.4242 -0.4242 -0.4242 -0.4242 -0.4242 -0.4242 -0.4242 -0.4242 -0.4242 -0.4242 \n",
      "-0.4242 -0.4242 -0.4242 -0.4242 -0.4242 -0.4242 -0.4242 -0.4242 -0.4242 -0.4242 -0.4241 -0.4238 -0.4240 -0.4242 -0.4242 -0.4242 -0.4242 -0.4242 -0.4242 -0.4242 -0.4242 -0.4242 -0.4242 -0.4242 -0.4242 -0.4242 -0.4242 -0.4242 \n",
      "-0.4242 -0.4242 -0.4242 -0.4242 -0.4242 -0.4242 -0.4242 -0.4242 -0.4242 -0.4128 -0.2873 -0.1876 -0.2399 -0.3316 -0.3993 -0.4205 -0.4230 -0.4238 -0.4241 -0.4242 -0.4242 -0.4242 -0.4242 -0.4242 -0.4242 -0.4242 -0.4242 -0.4242 \n",
      "-0.4242 -0.4242 -0.4242 -0.4242 -0.4242 -0.4242 -0.4242 -0.4242 -0.4232 -0.1508 1.4752 1.6955 1.5618 1.3302 0.7282 0.1715 -0.0445 -0.1898 -0.2881 -0.3432 -0.4140 -0.4242 -0.4242 -0.4242 -0.4242 -0.4242 -0.4242 -0.4242 \n",
      "-0.4242 -0.4242 -0.4242 -0.4242 -0.4242 -0.4242 -0.4242 -0.4242 -0.4165 0.3541 1.7558 0.2630 0.1046 0.4295 1.1142 1.5121 1.6372 1.6048 1.6100 1.2776 -0.1703 -0.4233 -0.4242 -0.4242 -0.4242 -0.4242 -0.4242 -0.4242 \n",
      "-0.4242 -0.4242 -0.4242 -0.4242 -0.4242 -0.4242 -0.4242 -0.4242 -0.3753 0.9540 0.9132 -0.3823 -0.4216 -0.4140 -0.3635 -0.2687 -0.1302 0.3836 1.9190 1.2196 -0.2537 -0.4237 -0.4242 -0.4242 -0.4242 -0.4242 -0.4242 -0.4242 \n",
      "-0.4242 -0.4242 -0.4242 -0.4242 -0.4242 -0.4242 -0.4242 -0.4205 -0.0364 1.6176 0.1261 -0.4192 -0.4242 -0.4242 -0.4242 -0.4228 -0.2158 1.3280 0.9206 -0.2690 -0.4204 -0.4242 -0.4242 -0.4242 -0.4242 -0.4242 -0.4242 -0.4242 \n",
      "-0.4242 -0.4242 -0.4242 -0.4242 -0.4242 -0.4242 -0.4241 -0.3353 1.0693 1.0346 -0.3362 -0.4241 -0.4242 -0.4242 -0.4242 -0.3797 0.7358 1.3350 -0.2278 -0.4225 -0.4242 -0.4242 -0.4242 -0.4242 -0.4242 -0.4242 -0.4242 -0.4242 \n",
      "-0.4242 -0.4242 -0.4242 -0.4242 -0.4242 -0.4242 -0.4223 -0.0058 1.5623 -0.0425 -0.4210 -0.4242 -0.4242 -0.4242 -0.4212 -0.0136 1.6577 0.2185 -0.4145 -0.4242 -0.4242 -0.4242 -0.4242 -0.4242 -0.4242 -0.4242 -0.4242 -0.4242 \n",
      "-0.4242 -0.4242 -0.4242 -0.4242 -0.4242 -0.4242 -0.4234 -0.2737 0.0662 -0.3856 -0.4242 -0.4242 -0.4242 -0.4242 -0.3651 0.9447 1.1022 -0.3386 -0.4241 -0.4242 -0.4242 -0.4242 -0.4242 -0.4242 -0.4242 -0.4242 -0.4242 -0.4242 \n",
      "-0.4242 -0.4242 -0.4242 -0.4242 -0.4242 -0.4242 -0.4242 -0.4230 -0.4204 -0.4240 -0.4242 -0.4242 -0.4242 -0.4223 -0.0569 1.6258 0.0795 -0.4194 -0.4242 -0.4242 -0.4242 -0.4242 -0.4242 -0.4242 -0.4242 -0.4242 -0.4242 -0.4242 \n",
      "-0.4242 -0.4242 -0.4242 -0.4242 -0.4242 -0.4242 -0.4242 -0.4242 -0.4242 -0.4242 -0.4242 -0.4242 -0.4242 -0.4102 0.5678 1.2262 -0.3336 -0.4241 -0.4242 -0.4242 -0.4242 -0.4242 -0.4242 -0.4242 -0.4242 -0.4242 -0.4242 -0.4242 \n",
      "-0.4242 -0.4242 -0.4242 -0.4242 -0.4242 -0.4242 -0.4242 -0.4242 -0.4242 -0.4242 -0.4242 -0.4242 -0.4242 -0.3859 0.9854 0.7417 -0.4031 -0.4242 -0.4242 -0.4242 -0.4242 -0.4242 -0.4242 -0.4242 -0.4242 -0.4242 -0.4242 -0.4242 \n",
      "-0.4242 -0.4242 -0.4242 -0.4242 -0.4242 -0.4242 -0.4242 -0.4242 -0.4242 -0.4242 -0.4242 -0.4242 -0.4242 -0.3667 1.1689 0.5179 -0.4135 -0.4242 -0.4242 -0.4242 -0.4242 -0.4242 -0.4242 -0.4242 -0.4242 -0.4242 -0.4242 -0.4242 \n",
      "-0.4242 -0.4242 -0.4242 -0.4242 -0.4242 -0.4242 -0.4242 -0.4242 -0.4242 -0.4242 -0.4242 -0.4242 -0.4242 -0.3857 0.9725 0.8130 -0.3969 -0.4242 -0.4242 -0.4242 -0.4242 -0.4242 -0.4242 -0.4242 -0.4242 -0.4242 -0.4242 -0.4242 \n",
      "-0.4242 -0.4242 -0.4242 -0.4242 -0.4242 -0.4242 -0.4242 -0.4242 -0.4242 -0.4242 -0.4242 -0.4242 -0.4242 -0.4127 0.5248 1.2284 -0.3569 -0.4242 -0.4242 -0.4242 -0.4242 -0.4242 -0.4242 -0.4242 -0.4242 -0.4242 -0.4242 -0.4242 \n",
      "-0.4242 -0.4242 -0.4242 -0.4242 -0.4242 -0.4242 -0.4242 -0.4242 -0.4242 -0.4242 -0.4242 -0.4242 -0.4242 -0.4188 0.3064 1.3684 -0.3271 -0.4242 -0.4242 -0.4242 -0.4242 -0.4242 -0.4242 -0.4242 -0.4242 -0.4242 -0.4242 -0.4242 \n",
      "-0.4242 -0.4242 -0.4242 -0.4242 -0.4242 -0.4242 -0.4242 -0.4242 -0.4242 -0.4242 -0.4242 -0.4242 -0.4242 -0.4194 0.2741 1.3714 -0.3247 -0.4242 -0.4242 -0.4242 -0.4242 -0.4242 -0.4242 -0.4242 -0.4242 -0.4242 -0.4242 -0.4242 \n",
      "-0.4242 -0.4242 -0.4242 -0.4242 -0.4242 -0.4242 -0.4242 -0.4242 -0.4242 -0.4242 -0.4242 -0.4242 -0.4242 -0.4198 0.2502 1.4104 -0.3126 -0.4242 -0.4242 -0.4242 -0.4242 -0.4242 -0.4242 -0.4242 -0.4242 -0.4242 -0.4242 -0.4242 \n",
      "-0.4242 -0.4242 -0.4242 -0.4242 -0.4242 -0.4242 -0.4242 -0.4242 -0.4242 -0.4242 -0.4242 -0.4242 -0.4242 -0.4207 0.1622 1.5257 -0.2700 -0.4241 -0.4242 -0.4242 -0.4242 -0.4242 -0.4242 -0.4242 -0.4242 -0.4242 -0.4242 -0.4242 \n",
      "-0.4242 -0.4242 -0.4242 -0.4242 -0.4242 -0.4242 -0.4242 -0.4242 -0.4242 -0.4242 -0.4242 -0.4242 -0.4242 -0.4152 0.3461 1.2996 -0.3003 -0.4241 -0.4242 -0.4242 -0.4242 -0.4242 -0.4242 -0.4242 -0.4242 -0.4242 -0.4242 -0.4242 \n",
      "-0.4242 -0.4242 -0.4242 -0.4242 -0.4242 -0.4242 -0.4242 -0.4242 -0.4242 -0.4242 -0.4242 -0.4242 -0.4242 -0.4230 -0.3198 -0.2101 -0.4115 -0.4242 -0.4242 -0.4242 -0.4242 -0.4242 -0.4242 -0.4242 -0.4242 -0.4242 -0.4242 -0.4242 \n",
      "-0.4242 -0.4242 -0.4242 -0.4242 -0.4242 -0.4242 -0.4242 -0.4242 -0.4242 -0.4242 -0.4242 -0.4242 -0.4242 -0.4242 -0.4240 -0.4237 -0.4242 -0.4242 -0.4242 -0.4242 -0.4242 -0.4242 -0.4242 -0.4242 -0.4242 -0.4242 -0.4242 -0.4242 \n",
      "-0.4242 -0.4242 -0.4242 -0.4242 -0.4242 -0.4242 -0.4242 -0.4242 -0.4242 -0.4242 -0.4242 -0.4242 -0.4242 -0.4242 -0.4242 -0.4242 -0.4242 -0.4242 -0.4242 -0.4242 -0.4242 -0.4242 -0.4242 -0.4242 -0.4242 -0.4242 -0.4242 -0.4242 \n",
      "-0.4242 -0.4242 -0.4242 -0.4242 -0.4242 -0.4242 -0.4242 -0.4242 -0.4242 -0.4242 -0.4242 -0.4242 -0.4242 -0.4242 -0.4242 -0.4242 -0.4242 -0.4242 -0.4242 -0.4242 -0.4242 -0.4242 -0.4242 -0.4242 -0.4242 -0.4242 -0.4242 -0.4242 \n",
      "-0.4242 -0.4242 -0.4242 -0.4242 -0.4242 -0.4242 -0.4242 -0.4242 -0.4242 -0.4242 -0.4242 -0.4242 -0.4242 -0.4242 -0.4242 -0.4242 -0.4242 -0.4242 -0.4242 -0.4242 -0.4242 -0.4242 -0.4242 -0.4242 -0.4242 -0.4242 -0.4242 -0.4242 \n"
     ]
    }
   ],
   "source": [
    "# 使用小畫家，繪製 0~9，實際測試看看\n",
    "from skimage import io\n",
    "from skimage.transform import resize\n",
    "\n",
    "no=7\n",
    "uploaded_file = f'./myDigits/{no}.png'\n",
    "image1 = io.imread(uploaded_file, as_gray=True)\n",
    "\n",
    "# 縮為 (28, 28) 大小的影像\n",
    "data_shape = data.shape\n",
    "image_resized = resize(image1, data_shape[2:], anti_aliasing=True)    \n",
    "X1 = image_resized.reshape(*data_shape) \n",
    "\n",
    "# 反轉顏色，顏色0為白色，與 RGB 色碼不同，它的 0 為黑色\n",
    "X1 = 1.0-X1\n",
    "\n",
    "# 圖像轉換\n",
    "X1 = (X1 - 0.1307) / 0.3081  \n",
    "\n",
    "for i in range(X1[0][0].shape[0]):\n",
    "    for j in range(X1[0][0].shape[1]):\n",
    "        print(f'{X1[0][0][i][j]:.4f}', end=' ')\n",
    "    print()"
   ]
  },
  {
   "cell_type": "code",
   "execution_count": 19,
   "metadata": {},
   "outputs": [
    {
     "data": {
      "image/png": "[encoded data removed]",
      "text/plain": [
       "<Figure size 432x288 with 1 Axes>"
      ]
     },
     "metadata": {
      "needs_background": "light"
     },
     "output_type": "display_data"
    }
   ],
   "source": [
    "# 顯示第1張圖片圖像\n",
    "import matplotlib.pyplot as plt\n",
    "\n",
    "# 繪製點陣圖，cmap='gray':灰階\n",
    "plt.imshow(X1.reshape(28,28), cmap='gray')\n",
    "\n",
    "# 隱藏刻度\n",
    "plt.axis('off') \n",
    "\n",
    "# 顯示圖形\n",
    "plt.show() "
   ]
  },
  {
   "cell_type": "code",
   "execution_count": 20,
   "metadata": {},
   "outputs": [
    {
     "name": "stdout",
     "output_type": "stream",
     "text": [
      "<class 'numpy.ndarray'> (28,)\n"
     ]
    },
    {
     "data": {
      "text/plain": [
       "['0000000000000000000000000000',\n",
       " '0000000000000000000000000000',\n",
       " '0000000000000000000000000000',\n",
       " '0000000000000000000000000000',\n",
       " '0000000000000000000000000000',\n",
       " '0000000000111100000000000000',\n",
       " '0000000000100011111100000000',\n",
       " '0000000001100000001100000000',\n",
       " '0000000001000000011000000000',\n",
       " '0000000011000000010000000000',\n",
       " '0000000010000000100000000000',\n",
       " '0000000000000001100000000000',\n",
       " '0000000000000001000000000000',\n",
       " '0000000000000001000000000000',\n",
       " '0000000000000010000000000000',\n",
       " '0000000000000010000000000000',\n",
       " '0000000000000011000000000000',\n",
       " '0000000000000001000000000000',\n",
       " '0000000000000001000000000000',\n",
       " '0000000000000001000000000000',\n",
       " '0000000000000001000000000000',\n",
       " '0000000000000001000000000000',\n",
       " '0000000000000001000000000000',\n",
       " '0000000000000000000000000000',\n",
       " '0000000000000000000000000000',\n",
       " '0000000000000000000000000000',\n",
       " '0000000000000000000000000000',\n",
       " '0000000000000000000000000000']"
      ]
     },
     "execution_count": 20,
     "metadata": {},
     "output_type": "execute_result"
    }
   ],
   "source": [
    "# 將非0的數字轉為1，顯示第1張圖片\n",
    "X2 = X1[0][0].copy()\n",
    "X2[X2>(0.1 + 0.1307) / 0.3081]=1 # 0.1 將淺色忽略\n",
    "print(type(X2), X2[0].shape)\n",
    "# 將轉換後二維內容顯示出來，隱約可以看出數字為 5\n",
    "text_image=[]\n",
    "for i in range(X2.shape[0]):\n",
    "    text_image.append(''.join(X2[i].astype(int).astype(str)))\n",
    "text_image"
   ]
  },
  {
   "cell_type": "code",
   "execution_count": 21,
   "metadata": {},
   "outputs": [
    {
     "data": {
      "text/plain": [
       "(1, 1, 28, 28)"
      ]
     },
     "execution_count": 21,
     "metadata": {},
     "output_type": "execute_result"
    }
   ],
   "source": [
    "data_shape = X1.shape\n",
    "data_shape"
   ]
  },
  {
   "cell_type": "code",
   "execution_count": 22,
   "metadata": {},
   "outputs": [
    {
     "name": "stdout",
     "output_type": "stream",
     "text": [
      "actual/prediction: 7 7\n"
     ]
    }
   ],
   "source": [
    "X1 = torch.FloatTensor(X1).to(device)\n",
    "\n",
    "# 預測\n",
    "predictions = model(X1)\n",
    "print(f'actual/prediction: {no} {np.argmax(predictions.detach().cpu().numpy())}')"
   ]
  },
  {
   "cell_type": "code",
   "execution_count": 23,
   "metadata": {},
   "outputs": [
    {
     "data": {
      "text/plain": [
       "tensor([[-5.9622, -1.9524, -3.2974, -2.3534, -5.0511, -4.1827, -6.3905, -0.6559,\n",
       "         -4.3466, -1.7828]], device='cuda:0', grad_fn=<LogSoftmaxBackward0>)"
      ]
     },
     "execution_count": 23,
     "metadata": {},
     "output_type": "execute_result"
    }
   ],
   "source": [
    "model(X1)"
   ]
  },
  {
   "cell_type": "code",
   "execution_count": 24,
   "metadata": {
    "scrolled": true
   },
   "outputs": [
    {
     "name": "stdout",
     "output_type": "stream",
     "text": [
      "actual/prediction: 0 0\n",
      "actual/prediction: 1 1\n",
      "actual/prediction: 2 2\n",
      "actual/prediction: 3 3\n",
      "actual/prediction: 4 4\n",
      "actual/prediction: 5 5\n",
      "actual/prediction: 6 6\n",
      "actual/prediction: 7 7\n",
      "actual/prediction: 8 8\n",
      "actual/prediction: 9 8\n"
     ]
    }
   ],
   "source": [
    "# 讀取影像並轉為單色\n",
    "for i in range(10):\n",
    "    uploaded_file = f'./myDigits/{i}.png'\n",
    "    image1 = io.imread(uploaded_file, as_gray=True)\n",
    "\n",
    "    # 縮為 (28, 28) 大小的影像\n",
    "    image_resized = resize(image1, data_shape[2:], anti_aliasing=True)    \n",
    "    X1 = image_resized.reshape(*data_shape) \n",
    "\n",
    "    # 反轉顏色，顏色0為白色，與 RGB 色碼不同，它的 0 為黑色\n",
    "    X1 = 1.0-X1\n",
    "    \n",
    "    # 圖像轉換\n",
    "    X1 = (X1 - 0.1307) / 0.3081  \n",
    "    \n",
    "    X1 = torch.FloatTensor(X1).to(device)\n",
    "    \n",
    "    # 預測\n",
    "    predictions = torch.softmax(model(X1), dim=1)\n",
    "    # print(np.around(predictions.cpu().detach().numpy(), 2))\n",
    "    print(f'actual/prediction: {i} {np.argmax(predictions.detach().cpu().numpy())}')"
   ]
  },
  {
   "cell_type": "code",
   "execution_count": null,
   "metadata": {},
   "outputs": [],
   "source": []
  }
 ],
 "metadata": {
  "kernelspec": {
   "display_name": "Python 3",
   "language": "python",
   "name": "python3"
  },
  "language_info": {
   "codemirror_mode": {
    "name": "ipython",
    "version": 3
   },
   "file_extension": ".py",
   "mimetype": "text/x-python",
   "name": "python",
   "nbconvert_exporter": "python",
   "pygments_lexer": "ipython3",
   "version": "3.8.8"
  }
 },
 "nbformat": 4,
 "nbformat_minor": 4
}
