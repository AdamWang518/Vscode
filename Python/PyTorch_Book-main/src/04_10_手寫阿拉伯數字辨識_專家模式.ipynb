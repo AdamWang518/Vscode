{
 "cells": [
  {
   "cell_type": "markdown",
   "metadata": {},
   "source": [
    "# 手寫阿拉伯數字辨識 專家模式"
   ]
  },
  {
   "cell_type": "markdown",
   "metadata": {},
   "source": [
    "## 載入套件"
   ]
  },
  {
   "cell_type": "code",
   "execution_count": 1,
   "metadata": {},
   "outputs": [],
   "source": [
    "import os\n",
    "import numpy as np\n",
    "import torch\n",
    "from torch import nn\n",
    "from torch.nn import functional as F\n",
    "from torch.utils.data import DataLoader, random_split\n",
    "from torchvision import transforms\n",
    "from torchvision.datasets import MNIST"
   ]
  },
  {
   "cell_type": "markdown",
   "metadata": {},
   "source": [
    "## 設定參數"
   ]
  },
  {
   "cell_type": "code",
   "execution_count": 2,
   "metadata": {},
   "outputs": [
    {
     "data": {
      "text/plain": [
       "'cuda'"
      ]
     },
     "execution_count": 2,
     "metadata": {},
     "output_type": "execute_result"
    }
   ],
   "source": [
    "# 設定參數\n",
    "PATH_DATASETS = \"\" # 預設路徑\n",
    "BATCH_SIZE = 1024  # 批量\n",
    "device = torch.device(\"cuda\" if torch.cuda.is_available() else \"cpu\")\n",
    "\"cuda\" if torch.cuda.is_available() else \"cpu\""
   ]
  },
  {
   "cell_type": "markdown",
   "metadata": {},
   "source": [
    "## 步驟1：載入 MNIST 手寫阿拉伯數字資料"
   ]
  },
  {
   "cell_type": "code",
   "execution_count": 3,
   "metadata": {},
   "outputs": [
    {
     "name": "stdout",
     "output_type": "stream",
     "text": [
      "torch.Size([60000, 28, 28]) torch.Size([10000, 28, 28])\n"
     ]
    }
   ],
   "source": [
    "import tensorflow as tf\n",
    "mnist = tf.keras.datasets.mnist\n",
    "\n",
    "# 下載 MNIST 手寫阿拉伯數字 訓練資料\n",
    "train_ds = MNIST(PATH_DATASETS, train=True, download=True, \n",
    "                 transform=transforms.ToTensor())\n",
    "\n",
    "# 下載測試資料\n",
    "test_ds = MNIST(PATH_DATASETS, train=False, download=True, \n",
    "                 transform=transforms.ToTensor())\n",
    "\n",
    "# 訓練/測試資料的維度\n",
    "print(train_ds.data.shape, test_ds.data.shape)"
   ]
  },
  {
   "cell_type": "markdown",
   "metadata": {},
   "source": [
    "## 步驟2：資料清理，此步驟無需進行"
   ]
  },
  {
   "cell_type": "markdown",
   "metadata": {},
   "source": [
    "## 步驟3：特徵工程，此步驟無需進行"
   ]
  },
  {
   "cell_type": "markdown",
   "metadata": {},
   "source": [
    "## 步驟4：資料分割，此步驟無需進行，載入MNIST資料時，已經切割好了"
   ]
  },
  {
   "cell_type": "markdown",
   "metadata": {},
   "source": [
    "## 步驟5：建立模型結構"
   ]
  },
  {
   "cell_type": "code",
   "execution_count": 4,
   "metadata": {},
   "outputs": [],
   "source": [
    "# 建立模型\n",
    "class Net(nn.Module):\n",
    "    def __init__(self):\n",
    "        super().__init__()\n",
    "        self.fc1 = torch.nn.Linear(28 * 28, 256) # 完全連接層\n",
    "        self.dropout1 = nn.Dropout(0.2)\n",
    "        self.fc2 = torch.nn.Linear(256, 10) # 完全連接層\n",
    "\n",
    "    def forward(self, x):\n",
    "        # 完全連接層 + dropout + 完全連接層 + dropout + log_softmax\n",
    "        x = torch.flatten(x, 1)\n",
    "        x = self.fc1(x)\n",
    "        x = self.dropout1(x)\n",
    "        x = self.fc2(x)\n",
    "        return x   \n",
    "\n",
    "# 建立模型物件\n",
    "model = Net().to(device)"
   ]
  },
  {
   "cell_type": "markdown",
   "metadata": {},
   "source": [
    "## 設定模型及學習率組態"
   ]
  },
  {
   "cell_type": "markdown",
   "metadata": {},
   "source": [
    "## 步驟6：結合訓練資料及模型，進行模型訓練"
   ]
  },
  {
   "cell_type": "code",
   "execution_count": 5,
   "metadata": {},
   "outputs": [
    {
     "name": "stdout",
     "output_type": "stream",
     "text": [
      "Epoch 1: [    0 / 60000] (0 %)  Loss: 2.308861\n",
      "Epoch 1: [ 6000 / 60000] (10 %)  Loss: 43.591488\n",
      "Epoch 1: [12000 / 60000] (20 %)  Loss: 30.817295\n",
      "Epoch 1: [18000 / 60000] (30 %)  Loss: 7.451642\n",
      "Epoch 1: [24000 / 60000] (40 %)  Loss: 9.978036\n",
      "Epoch 1: [30000 / 60000] (50 %)  Loss: 5.156826\n",
      "Epoch 1: [36000 / 60000] (60 %)  Loss: 4.659037\n",
      "Epoch 1: [42000 / 60000] (70 %)  Loss: 5.466114\n",
      "Epoch 1: [48000 / 60000] (80 %)  Loss: 2.277565\n",
      "Epoch 1: [54000 / 60000] (90 %)  Loss: 3.065441\n",
      "Epoch 2: [    0 / 60000] (0 %)  Loss: 1.587493\n",
      "Epoch 2: [ 6000 / 60000] (10 %)  Loss: 1.175553\n",
      "Epoch 2: [12000 / 60000] (20 %)  Loss: 2.242284\n",
      "Epoch 2: [18000 / 60000] (30 %)  Loss: 1.512660\n",
      "Epoch 2: [24000 / 60000] (40 %)  Loss: 2.275819\n",
      "Epoch 2: [30000 / 60000] (50 %)  Loss: 1.638032\n",
      "Epoch 2: [36000 / 60000] (60 %)  Loss: 1.918582\n",
      "Epoch 2: [42000 / 60000] (70 %)  Loss: 1.904919\n",
      "Epoch 2: [48000 / 60000] (80 %)  Loss: 0.813100\n",
      "Epoch 2: [54000 / 60000] (90 %)  Loss: 1.333466\n",
      "Epoch 3: [    0 / 60000] (0 %)  Loss: 0.845247\n",
      "Epoch 3: [ 6000 / 60000] (10 %)  Loss: 0.606504\n",
      "Epoch 3: [12000 / 60000] (20 %)  Loss: 1.307690\n",
      "Epoch 3: [18000 / 60000] (30 %)  Loss: 0.793554\n",
      "Epoch 3: [24000 / 60000] (40 %)  Loss: 1.118154\n",
      "Epoch 3: [30000 / 60000] (50 %)  Loss: 0.793350\n",
      "Epoch 3: [36000 / 60000] (60 %)  Loss: 0.829151\n",
      "Epoch 3: [42000 / 60000] (70 %)  Loss: 1.147520\n",
      "Epoch 3: [48000 / 60000] (80 %)  Loss: 0.387366\n",
      "Epoch 3: [54000 / 60000] (90 %)  Loss: 0.627149\n",
      "Epoch 4: [    0 / 60000] (0 %)  Loss: 0.877074\n",
      "Epoch 4: [ 6000 / 60000] (10 %)  Loss: 0.455483\n",
      "Epoch 4: [12000 / 60000] (20 %)  Loss: 1.318489\n",
      "Epoch 4: [18000 / 60000] (30 %)  Loss: 0.613093\n",
      "Epoch 4: [24000 / 60000] (40 %)  Loss: 0.737335\n",
      "Epoch 4: [30000 / 60000] (50 %)  Loss: 0.830184\n",
      "Epoch 4: [36000 / 60000] (60 %)  Loss: 0.895612\n",
      "Epoch 4: [42000 / 60000] (70 %)  Loss: 1.129753\n",
      "Epoch 4: [48000 / 60000] (80 %)  Loss: 0.698653\n",
      "Epoch 4: [54000 / 60000] (90 %)  Loss: 0.820445\n",
      "Epoch 5: [    0 / 60000] (0 %)  Loss: 1.157781\n",
      "Epoch 5: [ 6000 / 60000] (10 %)  Loss: 0.523780\n",
      "Epoch 5: [12000 / 60000] (20 %)  Loss: 1.006174\n",
      "Epoch 5: [18000 / 60000] (30 %)  Loss: 0.538514\n",
      "Epoch 5: [24000 / 60000] (40 %)  Loss: 0.659396\n",
      "Epoch 5: [30000 / 60000] (50 %)  Loss: 0.693159\n",
      "Epoch 5: [36000 / 60000] (60 %)  Loss: 0.836918\n",
      "Epoch 5: [42000 / 60000] (70 %)  Loss: 1.153613\n",
      "Epoch 5: [48000 / 60000] (80 %)  Loss: 0.568071\n",
      "Epoch 5: [54000 / 60000] (90 %)  Loss: 0.775758\n"
     ]
    }
   ],
   "source": [
    "epochs = 5\n",
    "lr=0.1\n",
    "\n",
    "# 建立 DataLoader\n",
    "train_loader = DataLoader(train_ds, batch_size=600)\n",
    "\n",
    "# 設定優化器(optimizer)\n",
    "optimizer = torch.optim.Adam(model.parameters(), lr=lr)\n",
    "\n",
    "# 設定損失函數(loss)\n",
    "criterion = nn.CrossEntropyLoss()\n",
    "\n",
    "model.train()\n",
    "loss_list = []    \n",
    "for epoch in range(1, epochs + 1):\n",
    "    for batch_idx, (data, target) in enumerate(train_loader):\n",
    "        data, target = data.to(device), target.to(device)\n",
    "\n",
    "        optimizer.zero_grad()\n",
    "        output = model(data)\n",
    "        # 計算損失(loss)\n",
    "        loss = criterion(output, target)\n",
    "        loss.backward()\n",
    "        optimizer.step()\n",
    "\n",
    "        if batch_idx % 10 == 0:\n",
    "            loss_list.append(loss.item())\n",
    "            batch = batch_idx * len(data)\n",
    "            data_count = len(train_loader.dataset)\n",
    "            percentage = (100. * batch_idx / len(train_loader))\n",
    "            print(f'Epoch {epoch}: [{batch:5d} / {data_count}] ({percentage:.0f} %)' +\n",
    "                  f'  Loss: {loss.item():.6f}')"
   ]
  },
  {
   "cell_type": "code",
   "execution_count": 6,
   "metadata": {
    "scrolled": false
   },
   "outputs": [
    {
     "data": {
      "text/plain": [
       "[<matplotlib.lines.Line2D at 0x1bb8edeca60>]"
      ]
     },
     "execution_count": 6,
     "metadata": {},
     "output_type": "execute_result"
    },
    {
     "data": {
      "image/png": "[encoded data removed]",
      "text/plain": [
       "<Figure size 432x288 with 1 Axes>"
      ]
     },
     "metadata": {
      "needs_background": "light"
     },
     "output_type": "display_data"
    }
   ],
   "source": [
    "# 對訓練過程的損失繪圖\n",
    "import matplotlib.pyplot as plt\n",
    "\n",
    "plt.plot(loss_list, 'r')"
   ]
  },
  {
   "cell_type": "markdown",
   "metadata": {},
   "source": [
    "## 步驟7：評分(Score Model)"
   ]
  },
  {
   "cell_type": "code",
   "execution_count": 7,
   "metadata": {
    "scrolled": true
   },
   "outputs": [
    {
     "name": "stdout",
     "output_type": "stream",
     "text": [
      "平均損失: 0.0014, 準確率: 8548/10000 (85%)\n",
      "\n"
     ]
    }
   ],
   "source": [
    "# 建立 DataLoader\n",
    "test_loader = DataLoader(test_ds, batch_size=600)\n",
    "\n",
    "model.eval()\n",
    "test_loss = 0\n",
    "correct = 0\n",
    "with torch.no_grad():\n",
    "    for data, target in test_loader:\n",
    "        data, target = data.to(device), target.to(device)\n",
    "        output = model(data)\n",
    "        \n",
    "        # sum up batch loss\n",
    "        test_loss += criterion(output, target).item()\n",
    "        \n",
    "        # 預測\n",
    "        pred = output.argmax(dim=1, keepdim=True)  \n",
    "        \n",
    "        # 正確筆數\n",
    "        correct += pred.eq(target.view_as(pred)).sum().item()\n",
    "\n",
    "# 平均損失\n",
    "test_loss /= len(test_loader.dataset)\n",
    "# 顯示測試結果\n",
    "batch = batch_idx * len(data)\n",
    "data_count = len(test_loader.dataset)\n",
    "percentage = 100. * correct / data_count\n",
    "print(f'平均損失: {test_loss:.4f}, 準確率: {correct}/{data_count}' + \n",
    "      f' ({percentage:.0f}%)\\n')"
   ]
  },
  {
   "cell_type": "code",
   "execution_count": 13,
   "metadata": {},
   "outputs": [
    {
     "name": "stdout",
     "output_type": "stream",
     "text": [
      "actual    : [7 2 1 0 4 1 4 9 5 9 0 6 9 0 1 5 9 7 3 4]\n",
      "prediction:  7 2 1 0 4 1 4 1 6 9 0 6 9 0 1 5 9 7 3 4\n"
     ]
    }
   ],
   "source": [
    "# 實際預測 20 筆資料\n",
    "predictions = []\n",
    "with torch.no_grad():\n",
    "    for i in range(20):\n",
    "        data, target = test_ds[i][0], test_ds[i][1]\n",
    "        data = data.reshape(1, *data.shape).to(device)\n",
    "        output = torch.argmax(model(data), axis=-1)\n",
    "        predictions.append(str(output.item()))\n",
    "\n",
    "# 比對\n",
    "print('actual    :', test_ds.targets[0:20].numpy())\n",
    "print('prediction: ', ' '.join(predictions[0:20]))"
   ]
  },
  {
   "cell_type": "markdown",
   "metadata": {},
   "source": [
    "## 步驟8：評估，暫不進行"
   ]
  },
  {
   "cell_type": "markdown",
   "metadata": {},
   "source": [
    "## 步驟9：模型佈署"
   ]
  },
  {
   "cell_type": "markdown",
   "metadata": {},
   "source": [
    "## 步驟10：新資料預測"
   ]
  },
  {
   "cell_type": "code",
   "execution_count": 12,
   "metadata": {
    "scrolled": true
   },
   "outputs": [
    {
     "name": "stdout",
     "output_type": "stream",
     "text": [
      "actual/prediction: 0 5\n",
      "actual/prediction: 1 1\n",
      "actual/prediction: 2 5\n",
      "actual/prediction: 3 7\n",
      "actual/prediction: 4 4\n",
      "actual/prediction: 5 5\n",
      "actual/prediction: 6 6\n",
      "actual/prediction: 7 7\n",
      "actual/prediction: 8 5\n",
      "actual/prediction: 9 8\n"
     ]
    }
   ],
   "source": [
    "# 使用小畫家，繪製 0~9，實際測試看看\n",
    "from skimage import io\n",
    "from skimage.transform import resize\n",
    "import numpy as np\n",
    "\n",
    "# 讀取影像並轉為單色\n",
    "for i in range(10):\n",
    "    uploaded_file = f'./myDigits/{i}.png'\n",
    "    image1 = io.imread(uploaded_file, as_gray=True)\n",
    "\n",
    "    # 縮為 (28, 28) 大小的影像\n",
    "    image_resized = resize(image1, (28, 28), anti_aliasing=True)    \n",
    "    X1 = image_resized.reshape(1,28, 28) #/ 255.0\n",
    "\n",
    "    # 反轉顏色，顏色0為白色，與 RGB 色碼不同，它的 0 為黑色\n",
    "    X1 = torch.FloatTensor(1-X1).to(device)\n",
    "\n",
    "    # 預測\n",
    "    predictions = torch.softmax(model(X1), dim=1)\n",
    "    # print(np.around(predictions.cpu().detach().numpy(), 2))\n",
    "    print(f'actual/prediction: {i} {np.argmax(predictions.detach().cpu().numpy())}')"
   ]
  },
  {
   "cell_type": "code",
   "execution_count": null,
   "metadata": {},
   "outputs": [],
   "source": []
  }
 ],
 "metadata": {
  "kernelspec": {
   "display_name": "Python 3",
   "language": "python",
   "name": "python3"
  },
  "language_info": {
   "codemirror_mode": {
    "name": "ipython",
    "version": 3
   },
   "file_extension": ".py",
   "mimetype": "text/x-python",
   "name": "python",
   "nbconvert_exporter": "python",
   "pygments_lexer": "ipython3",
   "version": "3.8.8"
  }
 },
 "nbformat": 4,
 "nbformat_minor": 4
}
