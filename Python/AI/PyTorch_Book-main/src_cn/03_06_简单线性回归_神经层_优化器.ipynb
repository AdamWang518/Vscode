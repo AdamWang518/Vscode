{
 "cells": [
  {
   "cell_type": "markdown",
   "metadata": {},
   "source": [
    "# 使用完全连接层估算简单线性回归的参数w、b"
   ]
  },
  {
   "cell_type": "code",
   "execution_count": 1,
   "metadata": {},
   "outputs": [],
   "source": [
    "# 载入套件\n",
    "import numpy as np \n",
    "import torch"
   ]
  },
  {
   "cell_type": "markdown",
   "metadata": {},
   "source": [
    "## 产生随机资料"
   ]
  },
  {
   "cell_type": "code",
   "execution_count": 2,
   "metadata": {},
   "outputs": [],
   "source": [
    "# 产生线性随机资料100笔，介于 0-50\n",
    "n = 100\n",
    "X = np.linspace(0, 50, n) \n",
    "y = np.linspace(0, 50, n) \n",
    "  \n",
    "# 资料加一点杂讯(noise)\n",
    "X += np.random.uniform(-10, 10, n) \n",
    "y += np.random.uniform(-10, 10, n) "
   ]
  },
  {
   "cell_type": "markdown",
   "metadata": {},
   "source": [
    "## 定义模型"
   ]
  },
  {
   "cell_type": "code",
   "execution_count": 3,
   "metadata": {},
   "outputs": [],
   "source": [
    "# 定义模型\n",
    "def create_model(input_feature, output_feature):\n",
    "    model = torch.nn.Sequential(\n",
    "        torch.nn.Linear(input_feature, output_feature),\n",
    "        torch.nn.Flatten(0, -1) # 所有维度转成一维 \n",
    "    )\n",
    "    return model"
   ]
  },
  {
   "cell_type": "markdown",
   "metadata": {},
   "source": [
    "## 定义训练函数"
   ]
  },
  {
   "cell_type": "code",
   "execution_count": 4,
   "metadata": {},
   "outputs": [],
   "source": [
    "def train(X, y, epochs=100, lr=1e-4):\n",
    "    model = create_model(1, 1)\n",
    "\n",
    "    # 定义损失函数\n",
    "    loss_fn = torch.nn.MSELoss(reduction='sum') \n",
    "\n",
    "    # 定义优化器\n",
    "    optimizer = torch.optim.Adam(model.parameters(), lr=lr) \n",
    "\n",
    "    loss_list, w_list, b_list=[], [], []\n",
    "    for epoch in range(epochs):   # 执行训练周期\n",
    "        y_pred = model(X)        # 预测值\n",
    "        \n",
    "        # 计算损失函数值\n",
    "        # print(y_pred.shape, y.shape)\n",
    "        MSE = loss_fn(y_pred, y) \n",
    "        \n",
    "        # 梯度重置：改由优化器(Optimizer)控制\n",
    "        optimizer.zero_grad()\n",
    "        \n",
    "        # 反向传导\n",
    "        MSE.backward()  \n",
    "        \n",
    "        # 权重更新：改用 model.parameters 取代 w、b 逐一更新\n",
    "        optimizer.step()\n",
    "        \n",
    "        # 记录训练结果\n",
    "        if (epoch+1) % 1000 == 0 or epochs < 1000:\n",
    "            w_list.append(model[0].weight[:, 0].item())  # w.item()：转成常数\n",
    "            b_list.append(model[0].bias.item())\n",
    "            loss_list.append(MSE.item())\n",
    "        \n",
    "    return w_list, b_list, loss_list"
   ]
  },
  {
   "cell_type": "markdown",
   "metadata": {},
   "source": [
    "## 执行训练"
   ]
  },
  {
   "cell_type": "code",
   "execution_count": 5,
   "metadata": {
    "scrolled": false
   },
   "outputs": [
    {
     "name": "stdout",
     "output_type": "stream",
     "text": [
      "w=0.39351749420166016, b=1.7959932088851929\n"
     ]
    }
   ],
   "source": [
    "# 使用不同学习率及更多的执行周期训练\n",
    "X2, y2 = torch.FloatTensor(X.reshape(X.shape[0], 1)), torch.FloatTensor(y)\n",
    "w_list, b_list, loss_list = train(X2, y2, epochs=10**5, lr=1e-5)\n",
    "\n",
    "# 取得 w、b 的最佳解\n",
    "print(f'w={w_list[-1]}, b={b_list[-1]}')"
   ]
  },
  {
   "cell_type": "code",
   "execution_count": 6,
   "metadata": {
    "scrolled": false
   },
   "outputs": [
    {
     "name": "stdout",
     "output_type": "stream",
     "text": [
      "w=0.9197501369391605, b=0.8390251732626816\n"
     ]
    }
   ],
   "source": [
    "# 执行训练\n",
    "coef = np.polyfit(X, y, deg=1)\n",
    "\n",
    "# 取得 w、b 的最佳解\n",
    "print(f'w={coef[0]}, b={coef[1]}')"
   ]
  },
  {
   "cell_type": "code",
   "execution_count": 7,
   "metadata": {},
   "outputs": [
    {
     "data": {
      "text/plain": [
       "(0.9197501369391605, 0.839025173262673)"
      ]
     },
     "execution_count": 7,
     "metadata": {},
     "output_type": "execute_result"
    }
   ],
   "source": [
    "from sklearn.linear_model import LinearRegression\n",
    "\n",
    "X2 = X.reshape(X.shape[0], 1)\n",
    "\n",
    "lr = LinearRegression()\n",
    "lr.fit(X2, y)\n",
    "\n",
    "lr.coef_[0], lr.intercept_"
   ]
  },
  {
   "cell_type": "markdown",
   "metadata": {},
   "source": [
    "## 显示回归线"
   ]
  },
  {
   "cell_type": "code",
   "execution_count": 8,
   "metadata": {
    "scrolled": true
   },
   "outputs": [
    {
     "data": {
      "text/plain": [
       "<matplotlib.legend.Legend at 0x208b1a26970>"
      ]
     },
     "execution_count": 8,
     "metadata": {},
     "output_type": "execute_result"
    },
    {
     "data": {
      "image/png": "[encoded data removed]",
      "text/plain": [
       "<Figure size 432x288 with 1 Axes>"
      ]
     },
     "metadata": {
      "needs_background": "light"
     },
     "output_type": "display_data"
    }
   ],
   "source": [
    "import matplotlib.pyplot as plt \n",
    "\n",
    "plt.scatter(X, y, label='data')\n",
    "plt.plot(X, w_list[-1] * X + b_list[-1], 'r-', label='predicted')\n",
    "plt.legend()"
   ]
  },
  {
   "cell_type": "code",
   "execution_count": 9,
   "metadata": {
    "scrolled": true
   },
   "outputs": [
    {
     "data": {
      "text/plain": [
       "<matplotlib.legend.Legend at 0x208b1b1db50>"
      ]
     },
     "execution_count": 9,
     "metadata": {},
     "output_type": "execute_result"
    },
    {
     "data": {
      "image/png": "[encoded data removed]",
      "text/plain": [
       "<Figure size 432x288 with 1 Axes>"
      ]
     },
     "metadata": {
      "needs_background": "light"
     },
     "output_type": "display_data"
    }
   ],
   "source": [
    "# NumPy 求得的回归线\n",
    "import matplotlib.pyplot as plt \n",
    "\n",
    "plt.scatter(X, y, label='data')\n",
    "plt.plot(X, coef[0] * X + coef[1], 'r-', label='predicted')\n",
    "plt.legend()"
   ]
  },
  {
   "cell_type": "code",
   "execution_count": 10,
   "metadata": {
    "scrolled": false
   },
   "outputs": [
    {
     "data": {
      "text/plain": [
       "[<matplotlib.lines.Line2D at 0x208b1b968b0>]"
      ]
     },
     "execution_count": 10,
     "metadata": {},
     "output_type": "execute_result"
    },
    {
     "data": {
      "image/png": "[encoded data removed]",
      "text/plain": [
       "<Figure size 432x288 with 1 Axes>"
      ]
     },
     "metadata": {
      "needs_background": "light"
     },
     "output_type": "display_data"
    }
   ],
   "source": [
    "# 损失函数绘图\n",
    "plt.plot(loss_list)"
   ]
  },
  {
   "cell_type": "code",
   "execution_count": 11,
   "metadata": {},
   "outputs": [
    {
     "data": {
      "text/plain": [
       "[210291.75,\n",
       " 207528.15625,\n",
       " 204783.421875,\n",
       " 202057.546875,\n",
       " 199350.5625,\n",
       " 196662.40625,\n",
       " 193993.125,\n",
       " 191342.703125,\n",
       " 188711.140625,\n",
       " 186101.296875,\n",
       " 183514.953125,\n",
       " 180947.375,\n",
       " 178398.53125,\n",
       " 175868.4375,\n",
       " 173357.109375,\n",
       " 170864.53125,\n",
       " 168390.71875,\n",
       " 165936.046875,\n",
       " 163500.140625,\n",
       " 161082.953125,\n",
       " 158684.53125,\n",
       " 156304.84375,\n",
       " 153943.90625,\n",
       " 151601.703125,\n",
       " 149278.25,\n",
       " 146973.53125,\n",
       " 144687.578125,\n",
       " 142420.375,\n",
       " 140171.890625,\n",
       " 137942.171875,\n",
       " 135731.1875,\n",
       " 133538.953125,\n",
       " 131365.453125,\n",
       " 129210.71875,\n",
       " 127075.2890625,\n",
       " 124961.09375,\n",
       " 122865.609375,\n",
       " 120788.796875,\n",
       " 118730.6796875,\n",
       " 116691.265625,\n",
       " 114670.515625,\n",
       " 112668.484375,\n",
       " 110685.125,\n",
       " 108720.4609375,\n",
       " 106774.484375,\n",
       " 104847.2109375,\n",
       " 102938.6171875,\n",
       " 101049.5,\n",
       " 99179.6328125,\n",
       " 97328.453125,\n",
       " 95495.90625,\n",
       " 93682.046875,\n",
       " 91888.125,\n",
       " 90112.8125,\n",
       " 88356.1875,\n",
       " 86618.1953125,\n",
       " 84898.8671875,\n",
       " 83198.46875,\n",
       " 81516.9921875,\n",
       " 79854.2890625,\n",
       " 78210.3984375,\n",
       " 76585.3203125,\n",
       " 74979.0625,\n",
       " 73391.765625,\n",
       " 71823.1328125,\n",
       " 70273.1328125,\n",
       " 68742.25,\n",
       " 67229.9375,\n",
       " 65736.21875,\n",
       " 64261.3828125,\n",
       " 62805.875,\n",
       " 61368.921875,\n",
       " 59950.82421875,\n",
       " 58552.0,\n",
       " 57171.6953125,\n",
       " 55809.921875,\n",
       " 54466.67578125,\n",
       " 53141.953125,\n",
       " 51835.76171875,\n",
       " 50548.09765625,\n",
       " 49280.38671875,\n",
       " 48031.578125,\n",
       " 46801.234375,\n",
       " 45589.375,\n",
       " 44395.98046875,\n",
       " 43222.09765625,\n",
       " 42067.32421875,\n",
       " 40930.95703125,\n",
       " 39813.21875,\n",
       " 38714.05859375,\n",
       " 37633.3046875,\n",
       " 36570.95703125,\n",
       " 35527.01171875,\n",
       " 34501.4765625,\n",
       " 33494.9765625,\n",
       " 32509.12109375,\n",
       " 31541.5703125,\n",
       " 30592.3125,\n",
       " 29661.3515625,\n",
       " 28748.69140625]"
      ]
     },
     "execution_count": 11,
     "metadata": {},
     "output_type": "execute_result"
    }
   ],
   "source": [
    "loss_list"
   ]
  },
  {
   "cell_type": "code",
   "execution_count": 12,
   "metadata": {
    "scrolled": false
   },
   "outputs": [
    {
     "data": {
      "text/plain": [
       "[-0.5858436226844788,\n",
       " -0.5758896470069885,\n",
       " -0.5659356713294983,\n",
       " -0.5559816956520081,\n",
       " -0.5460277199745178,\n",
       " -0.5360737442970276,\n",
       " -0.5261197686195374,\n",
       " -0.5161657929420471,\n",
       " -0.5062118172645569,\n",
       " -0.4962690472602844,\n",
       " -0.4863448739051819,\n",
       " -0.47642070055007935,\n",
       " -0.4664965271949768,\n",
       " -0.45657235383987427,\n",
       " -0.44664818048477173,\n",
       " -0.4367240071296692,\n",
       " -0.42679983377456665,\n",
       " -0.4168756604194641,\n",
       " -0.4069514870643616,\n",
       " -0.39702731370925903,\n",
       " -0.3871031403541565,\n",
       " -0.37717896699905396,\n",
       " -0.3672547936439514,\n",
       " -0.3573306202888489,\n",
       " -0.34740644693374634,\n",
       " -0.3374822735786438,\n",
       " -0.32755810022354126,\n",
       " -0.3176339268684387,\n",
       " -0.3077097535133362,\n",
       " -0.29778558015823364,\n",
       " -0.2878614068031311,\n",
       " -0.27793723344802856,\n",
       " -0.268013060092926,\n",
       " -0.2580888867378235,\n",
       " -0.2481674700975418,\n",
       " -0.23825819790363312,\n",
       " -0.22834892570972443,\n",
       " -0.21843965351581573,\n",
       " -0.20853038132190704,\n",
       " -0.19862110912799835,\n",
       " -0.18871183693408966,\n",
       " -0.17880256474018097,\n",
       " -0.16889329254627228,\n",
       " -0.1589840203523636,\n",
       " -0.1490747481584549,\n",
       " -0.1391654759645462,\n",
       " -0.1292562037706375,\n",
       " -0.11935118585824966,\n",
       " -0.1094493642449379,\n",
       " -0.09954754263162613,\n",
       " -0.08964572101831436,\n",
       " -0.0797438994050026,\n",
       " -0.06984943151473999,\n",
       " -0.05995477735996246,\n",
       " -0.05006040632724762,\n",
       " -0.040166035294532776,\n",
       " -0.030271848663687706,\n",
       " -0.020379438996315002,\n",
       " -0.01048879325389862,\n",
       " -0.0005990701029077172,\n",
       " 0.009289408102631569,\n",
       " 0.01917668990790844,\n",
       " 0.029062634333968163,\n",
       " 0.0389462411403656,\n",
       " 0.04882943630218506,\n",
       " 0.05871234089136124,\n",
       " 0.06859181076288223,\n",
       " 0.07847128063440323,\n",
       " 0.08835075050592422,\n",
       " 0.09822805970907211,\n",
       " 0.10810007899999619,\n",
       " 0.11797209829092026,\n",
       " 0.12784196436405182,\n",
       " 0.13770653307437897,\n",
       " 0.14757110178470612,\n",
       " 0.15743567049503326,\n",
       " 0.1673002392053604,\n",
       " 0.17716480791568756,\n",
       " 0.1870293766260147,\n",
       " 0.19689394533634186,\n",
       " 0.20674695074558258,\n",
       " 0.21659661829471588,\n",
       " 0.22644628584384918,\n",
       " 0.23629595339298248,\n",
       " 0.24614562094211578,\n",
       " 0.25598621368408203,\n",
       " 0.2658209800720215,\n",
       " 0.27565574645996094,\n",
       " 0.2854905128479004,\n",
       " 0.29532527923583984,\n",
       " 0.3051600456237793,\n",
       " 0.31499481201171875,\n",
       " 0.3248295783996582,\n",
       " 0.33466434478759766,\n",
       " 0.34449267387390137,\n",
       " 0.3542976379394531,\n",
       " 0.3641026020050049,\n",
       " 0.37390756607055664,\n",
       " 0.3837125301361084,\n",
       " 0.39351749420166016]"
      ]
     },
     "execution_count": 12,
     "metadata": {},
     "output_type": "execute_result"
    }
   ],
   "source": [
    "w_list"
   ]
  },
  {
   "cell_type": "code",
   "execution_count": null,
   "metadata": {},
   "outputs": [],
   "source": []
  }
 ],
 "metadata": {
  "kernelspec": {
   "display_name": "Python 3 (ipykernel)",
   "language": "python",
   "name": "python3"
  },
  "language_info": {
   "codemirror_mode": {
    "name": "ipython",
    "version": 3
   },
   "file_extension": ".py",
   "mimetype": "text/x-python",
   "name": "python",
   "nbconvert_exporter": "python",
   "pygments_lexer": "ipython3",
   "version": "3.9.7"
  }
 },
 "nbformat": 4,
 "nbformat_minor": 4
}
