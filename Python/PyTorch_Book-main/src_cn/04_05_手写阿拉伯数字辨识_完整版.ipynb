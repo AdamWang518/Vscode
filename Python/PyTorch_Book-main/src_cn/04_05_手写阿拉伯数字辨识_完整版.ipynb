{
 "cells": [
  {
   "cell_type": "markdown",
   "metadata": {},
   "source": [
    "# 手写阿拉伯数字辨识 完整版"
   ]
  },
  {
   "cell_type": "markdown",
   "metadata": {},
   "source": [
    "## 载入套件"
   ]
  },
  {
   "cell_type": "code",
   "execution_count": 1,
   "metadata": {},
   "outputs": [],
   "source": [
    "import os\n",
    "import torch\n",
    "from torch import nn\n",
    "from torch.nn import functional as F\n",
    "from torch.utils.data import DataLoader, random_split\n",
    "from torchmetrics import Accuracy\n",
    "from torchvision import transforms\n",
    "from torchvision.datasets import MNIST"
   ]
  },
  {
   "cell_type": "markdown",
   "metadata": {},
   "source": [
    "## 设定参数"
   ]
  },
  {
   "cell_type": "code",
   "execution_count": 2,
   "metadata": {},
   "outputs": [
    {
     "data": {
      "text/plain": [
       "'cuda'"
      ]
     },
     "execution_count": 2,
     "metadata": {},
     "output_type": "execute_result"
    }
   ],
   "source": [
    "PATH_DATASETS = \"\" # 预设路径\n",
    "BATCH_SIZE = 1024  # 批量\n",
    "device = torch.device(\"cuda\" if torch.cuda.is_available() else \"cpu\")\n",
    "\"cuda\" if torch.cuda.is_available() else \"cpu\""
   ]
  },
  {
   "cell_type": "markdown",
   "metadata": {},
   "source": [
    "## 步骤1：载入 MNIST 手写阿拉伯数字资料"
   ]
  },
  {
   "cell_type": "code",
   "execution_count": 4,
   "metadata": {},
   "outputs": [
    {
     "name": "stdout",
     "output_type": "stream",
     "text": [
      "torch.Size([60000, 28, 28]) torch.Size([10000, 28, 28])\n"
     ]
    }
   ],
   "source": [
    "# 下载 MNIST 手写阿拉伯数字 训练资料\n",
    "train_ds = MNIST(PATH_DATASETS, train=True, download=True, \n",
    "                 transform=transforms.ToTensor())\n",
    "\n",
    "# 下载测试资料\n",
    "test_ds = MNIST(PATH_DATASETS, train=False, download=True, \n",
    "                 transform=transforms.ToTensor())\n",
    "\n",
    "# 训练/测试资料的维度\n",
    "print(train_ds.data.shape, test_ds.data.shape)"
   ]
  },
  {
   "cell_type": "code",
   "execution_count": 5,
   "metadata": {},
   "outputs": [
    {
     "data": {
      "text/plain": [
       "tensor([5, 0, 4, 1, 9, 2, 1, 3, 1, 4])"
      ]
     },
     "execution_count": 5,
     "metadata": {},
     "output_type": "execute_result"
    }
   ],
   "source": [
    "# 训练资料前10笔图片的数字\n",
    "train_ds.targets[:10]"
   ]
  },
  {
   "cell_type": "code",
   "execution_count": 6,
   "metadata": {},
   "outputs": [
    {
     "data": {
      "text/plain": [
       "tensor([[  0,   0,   0,   0,   0,   0,   0,   0,   0,   0,   0,   0,   0,   0,\n",
       "           0,   0,   0,   0,   0,   0,   0,   0,   0,   0,   0,   0,   0,   0],\n",
       "        [  0,   0,   0,   0,   0,   0,   0,   0,   0,   0,   0,   0,   0,   0,\n",
       "           0,   0,   0,   0,   0,   0,   0,   0,   0,   0,   0,   0,   0,   0],\n",
       "        [  0,   0,   0,   0,   0,   0,   0,   0,   0,   0,   0,   0,   0,   0,\n",
       "           0,   0,   0,   0,   0,   0,   0,   0,   0,   0,   0,   0,   0,   0],\n",
       "        [  0,   0,   0,   0,   0,   0,   0,   0,   0,   0,   0,   0,   0,   0,\n",
       "           0,   0,   0,   0,   0,   0,   0,   0,   0,   0,   0,   0,   0,   0],\n",
       "        [  0,   0,   0,   0,   0,   0,   0,   0,   0,   0,   0,   0,   0,   0,\n",
       "           0,   0,   0,   0,   0,   0,   0,   0,   0,   0,   0,   0,   0,   0],\n",
       "        [  0,   0,   0,   0,   0,   0,   0,   0,   0,   0,   0,   0,   3,  18,\n",
       "          18,  18, 126, 136, 175,  26, 166, 255, 247, 127,   0,   0,   0,   0],\n",
       "        [  0,   0,   0,   0,   0,   0,   0,   0,  30,  36,  94, 154, 170, 253,\n",
       "         253, 253, 253, 253, 225, 172, 253, 242, 195,  64,   0,   0,   0,   0],\n",
       "        [  0,   0,   0,   0,   0,   0,   0,  49, 238, 253, 253, 253, 253, 253,\n",
       "         253, 253, 253, 251,  93,  82,  82,  56,  39,   0,   0,   0,   0,   0],\n",
       "        [  0,   0,   0,   0,   0,   0,   0,  18, 219, 253, 253, 253, 253, 253,\n",
       "         198, 182, 247, 241,   0,   0,   0,   0,   0,   0,   0,   0,   0,   0],\n",
       "        [  0,   0,   0,   0,   0,   0,   0,   0,  80, 156, 107, 253, 253, 205,\n",
       "          11,   0,  43, 154,   0,   0,   0,   0,   0,   0,   0,   0,   0,   0],\n",
       "        [  0,   0,   0,   0,   0,   0,   0,   0,   0,  14,   1, 154, 253,  90,\n",
       "           0,   0,   0,   0,   0,   0,   0,   0,   0,   0,   0,   0,   0,   0],\n",
       "        [  0,   0,   0,   0,   0,   0,   0,   0,   0,   0,   0, 139, 253, 190,\n",
       "           2,   0,   0,   0,   0,   0,   0,   0,   0,   0,   0,   0,   0,   0],\n",
       "        [  0,   0,   0,   0,   0,   0,   0,   0,   0,   0,   0,  11, 190, 253,\n",
       "          70,   0,   0,   0,   0,   0,   0,   0,   0,   0,   0,   0,   0,   0],\n",
       "        [  0,   0,   0,   0,   0,   0,   0,   0,   0,   0,   0,   0,  35, 241,\n",
       "         225, 160, 108,   1,   0,   0,   0,   0,   0,   0,   0,   0,   0,   0],\n",
       "        [  0,   0,   0,   0,   0,   0,   0,   0,   0,   0,   0,   0,   0,  81,\n",
       "         240, 253, 253, 119,  25,   0,   0,   0,   0,   0,   0,   0,   0,   0],\n",
       "        [  0,   0,   0,   0,   0,   0,   0,   0,   0,   0,   0,   0,   0,   0,\n",
       "          45, 186, 253, 253, 150,  27,   0,   0,   0,   0,   0,   0,   0,   0],\n",
       "        [  0,   0,   0,   0,   0,   0,   0,   0,   0,   0,   0,   0,   0,   0,\n",
       "           0,  16,  93, 252, 253, 187,   0,   0,   0,   0,   0,   0,   0,   0],\n",
       "        [  0,   0,   0,   0,   0,   0,   0,   0,   0,   0,   0,   0,   0,   0,\n",
       "           0,   0,   0, 249, 253, 249,  64,   0,   0,   0,   0,   0,   0,   0],\n",
       "        [  0,   0,   0,   0,   0,   0,   0,   0,   0,   0,   0,   0,   0,   0,\n",
       "          46, 130, 183, 253, 253, 207,   2,   0,   0,   0,   0,   0,   0,   0],\n",
       "        [  0,   0,   0,   0,   0,   0,   0,   0,   0,   0,   0,   0,  39, 148,\n",
       "         229, 253, 253, 253, 250, 182,   0,   0,   0,   0,   0,   0,   0,   0],\n",
       "        [  0,   0,   0,   0,   0,   0,   0,   0,   0,   0,  24, 114, 221, 253,\n",
       "         253, 253, 253, 201,  78,   0,   0,   0,   0,   0,   0,   0,   0,   0],\n",
       "        [  0,   0,   0,   0,   0,   0,   0,   0,  23,  66, 213, 253, 253, 253,\n",
       "         253, 198,  81,   2,   0,   0,   0,   0,   0,   0,   0,   0,   0,   0],\n",
       "        [  0,   0,   0,   0,   0,   0,  18, 171, 219, 253, 253, 253, 253, 195,\n",
       "          80,   9,   0,   0,   0,   0,   0,   0,   0,   0,   0,   0,   0,   0],\n",
       "        [  0,   0,   0,   0,  55, 172, 226, 253, 253, 253, 253, 244, 133,  11,\n",
       "           0,   0,   0,   0,   0,   0,   0,   0,   0,   0,   0,   0,   0,   0],\n",
       "        [  0,   0,   0,   0, 136, 253, 253, 253, 212, 135, 132,  16,   0,   0,\n",
       "           0,   0,   0,   0,   0,   0,   0,   0,   0,   0,   0,   0,   0,   0],\n",
       "        [  0,   0,   0,   0,   0,   0,   0,   0,   0,   0,   0,   0,   0,   0,\n",
       "           0,   0,   0,   0,   0,   0,   0,   0,   0,   0,   0,   0,   0,   0],\n",
       "        [  0,   0,   0,   0,   0,   0,   0,   0,   0,   0,   0,   0,   0,   0,\n",
       "           0,   0,   0,   0,   0,   0,   0,   0,   0,   0,   0,   0,   0,   0],\n",
       "        [  0,   0,   0,   0,   0,   0,   0,   0,   0,   0,   0,   0,   0,   0,\n",
       "           0,   0,   0,   0,   0,   0,   0,   0,   0,   0,   0,   0,   0,   0]],\n",
       "       dtype=torch.uint8)"
      ]
     },
     "execution_count": 6,
     "metadata": {},
     "output_type": "execute_result"
    }
   ],
   "source": [
    "# 显示第1张图片内含值\n",
    "train_ds.data[0]"
   ]
  },
  {
   "cell_type": "code",
   "execution_count": 7,
   "metadata": {},
   "outputs": [
    {
     "data": {
      "text/plain": [
       "['0000000000000000000000000000',\n",
       " '0000000000000000000000000000',\n",
       " '0000000000000000000000000000',\n",
       " '0000000000000000000000000000',\n",
       " '0000000000000000000000000000',\n",
       " '0000000000001111111111110000',\n",
       " '0000000011111111111111110000',\n",
       " '0000000111111111111111100000',\n",
       " '0000000111111111110000000000',\n",
       " '0000000011111110110000000000',\n",
       " '0000000001111100000000000000',\n",
       " '0000000000011110000000000000',\n",
       " '0000000000011110000000000000',\n",
       " '0000000000001111110000000000',\n",
       " '0000000000000111111000000000',\n",
       " '0000000000000011111100000000',\n",
       " '0000000000000001111100000000',\n",
       " '0000000000000000011110000000',\n",
       " '0000000000000011111110000000',\n",
       " '0000000000001111111100000000',\n",
       " '0000000000111111111000000000',\n",
       " '0000000011111111110000000000',\n",
       " '0000001111111111000000000000',\n",
       " '0000111111111100000000000000',\n",
       " '0000111111110000000000000000',\n",
       " '0000000000000000000000000000',\n",
       " '0000000000000000000000000000',\n",
       " '0000000000000000000000000000']"
      ]
     },
     "execution_count": 7,
     "metadata": {},
     "output_type": "execute_result"
    }
   ],
   "source": [
    "# 将非0的数字转为1，显示第1张图片\n",
    "data = train_ds.data[0].clone()\n",
    "data[data>0]=1\n",
    "data = data.numpy()\n",
    "\n",
    "# 将转换后二维内容显示出来，隐约可以看出数字为 5\n",
    "text_image=[]\n",
    "for i in range(data.shape[0]):\n",
    "    text_image.append(''.join(data[i].astype(str)))\n",
    "text_image"
   ]
  },
  {
   "cell_type": "code",
   "execution_count": 8,
   "metadata": {},
   "outputs": [
    {
     "data": {
      "text/plain": [
       "['0000000000000000000000000000',\n",
       " '0000000000000000000000000000',\n",
       " '0000000000000000000000000000',\n",
       " '0000000000000000000000000000',\n",
       " '0000000000000001111100000000',\n",
       " '0000000000000011111100000000',\n",
       " '0000000000000111111111000000',\n",
       " '0000000000011111111111000000',\n",
       " '0000000000011111111111000000',\n",
       " '0000000000111111111111000000',\n",
       " '0000000001111111110011100000',\n",
       " '0000000011111100000011100000',\n",
       " '0000000111111100000011100000',\n",
       " '0000000111100000000011100000',\n",
       " '0000000111000000000011100000',\n",
       " '0000001111000000000011100000',\n",
       " '0000001111000000001111100000',\n",
       " '0000001110000000011111000000',\n",
       " '0000001110000000111100000000',\n",
       " '0000001110000001111000000000',\n",
       " '0000001111111111111000000000',\n",
       " '0000001111111111100000000000',\n",
       " '0000001111111110000000000000',\n",
       " '0000000111111100000000000000',\n",
       " '0000000000000000000000000000',\n",
       " '0000000000000000000000000000',\n",
       " '0000000000000000000000000000',\n",
       " '0000000000000000000000000000']"
      ]
     },
     "execution_count": 8,
     "metadata": {},
     "output_type": "execute_result"
    }
   ],
   "source": [
    "# 将非0的数字转为1，显示第2张图片\n",
    "data = train_ds.data[1].clone()\n",
    "data[data>0]=1\n",
    "data = data.numpy()\n",
    "\n",
    "# 将转换后二维内容显示出来，隐约可以看出数字为 5\n",
    "text_image=[]\n",
    "for i in range(data.shape[0]):\n",
    "    text_image.append(''.join(data[i].astype(str)))\n",
    "text_image"
   ]
  },
  {
   "cell_type": "code",
   "execution_count": 9,
   "metadata": {
    "scrolled": false
   },
   "outputs": [
    {
     "data": {
      "image/png": "[encoded data removed]",
      "text/plain": [
       "<Figure size 432x288 with 1 Axes>"
      ]
     },
     "metadata": {
      "needs_background": "light"
     },
     "output_type": "display_data"
    }
   ],
   "source": [
    "# 显示第1张图片图像\n",
    "import matplotlib.pyplot as plt\n",
    "\n",
    "# 第一笔资料\n",
    "X = train_ds.data[0]\n",
    "\n",
    "# 绘制点阵图，cmap='gray':灰阶\n",
    "plt.imshow(X.reshape(28,28), cmap='gray')\n",
    "\n",
    "# 隐藏刻度\n",
    "plt.axis('off') \n",
    "\n",
    "# 显示图形\n",
    "plt.show() "
   ]
  },
  {
   "cell_type": "markdown",
   "metadata": {},
   "source": [
    "## 步骤2：资料清理，此步骤无需进行"
   ]
  },
  {
   "cell_type": "markdown",
   "metadata": {},
   "source": [
    "## 步骤3：特征工程，此步骤无需进行"
   ]
  },
  {
   "cell_type": "code",
   "execution_count": 10,
   "metadata": {},
   "outputs": [],
   "source": [
    "# train_ds.data = train_ds.data / 255.0\n",
    "# test_ds.data = test_ds.data / 255.0"
   ]
  },
  {
   "cell_type": "markdown",
   "metadata": {},
   "source": [
    "## 步骤4：资料分割，此步骤无需进行，载入MNIST资料时，已经切割好了"
   ]
  },
  {
   "cell_type": "markdown",
   "metadata": {},
   "source": [
    "## 步骤5：建立模型结构"
   ]
  },
  {
   "cell_type": "code",
   "execution_count": 11,
   "metadata": {},
   "outputs": [],
   "source": [
    "# 建立模型\n",
    "model = torch.nn.Sequential(\n",
    "    torch.nn.Flatten(),\n",
    "    torch.nn.Linear(28 * 28, 256), \n",
    "    torch.nn.Dropout(0.2),\n",
    "    torch.nn.Linear(256, 10), \n",
    "    # 使用nn.CrossEntropyLoss()时，不需要将输出经过softmax层，否则计算的损失会有误\n",
    "    # torch.nn.Softmax(dim=1)\n",
    ").to(device)"
   ]
  },
  {
   "cell_type": "markdown",
   "metadata": {},
   "source": [
    "## 步骤6：结合训练资料及模型，进行模型训练"
   ]
  },
  {
   "cell_type": "code",
   "execution_count": 12,
   "metadata": {
    "scrolled": false
   },
   "outputs": [
    {
     "name": "stdout",
     "output_type": "stream",
     "text": [
      "Epoch 1: [    0 / 60000] (0 %)  Loss: 2.298779\n",
      "Epoch 1: [ 6000 / 60000] (10 %)  Loss: 2.022287\n",
      "Epoch 1: [12000 / 60000] (20 %)  Loss: 1.806235\n",
      "Epoch 1: [18000 / 60000] (30 %)  Loss: 1.581884\n",
      "Epoch 1: [24000 / 60000] (40 %)  Loss: 1.359275\n",
      "Epoch 1: [30000 / 60000] (50 %)  Loss: 1.240303\n",
      "Epoch 1: [36000 / 60000] (60 %)  Loss: 1.008249\n",
      "Epoch 1: [42000 / 60000] (70 %)  Loss: 0.965744\n",
      "Epoch 1: [48000 / 60000] (80 %)  Loss: 0.716794\n",
      "Epoch 1: [54000 / 60000] (90 %)  Loss: 0.736664\n",
      "Epoch 2: [    0 / 60000] (0 %)  Loss: 0.693081\n",
      "Epoch 2: [ 6000 / 60000] (10 %)  Loss: 0.543428\n",
      "Epoch 2: [12000 / 60000] (20 %)  Loss: 0.646009\n",
      "Epoch 2: [18000 / 60000] (30 %)  Loss: 0.556519\n",
      "Epoch 2: [24000 / 60000] (40 %)  Loss: 0.572855\n",
      "Epoch 2: [30000 / 60000] (50 %)  Loss: 0.628385\n",
      "Epoch 2: [36000 / 60000] (60 %)  Loss: 0.507831\n",
      "Epoch 2: [42000 / 60000] (70 %)  Loss: 0.603264\n",
      "Epoch 2: [48000 / 60000] (80 %)  Loss: 0.411902\n",
      "Epoch 2: [54000 / 60000] (90 %)  Loss: 0.467034\n",
      "Epoch 3: [    0 / 60000] (0 %)  Loss: 0.459018\n",
      "Epoch 3: [ 6000 / 60000] (10 %)  Loss: 0.362491\n",
      "Epoch 3: [12000 / 60000] (20 %)  Loss: 0.481741\n",
      "Epoch 3: [18000 / 60000] (30 %)  Loss: 0.396400\n",
      "Epoch 3: [24000 / 60000] (40 %)  Loss: 0.453057\n",
      "Epoch 3: [30000 / 60000] (50 %)  Loss: 0.493342\n",
      "Epoch 3: [36000 / 60000] (60 %)  Loss: 0.405429\n",
      "Epoch 3: [42000 / 60000] (70 %)  Loss: 0.528991\n",
      "Epoch 3: [48000 / 60000] (80 %)  Loss: 0.340875\n",
      "Epoch 3: [54000 / 60000] (90 %)  Loss: 0.398538\n",
      "Epoch 4: [    0 / 60000] (0 %)  Loss: 0.386572\n",
      "Epoch 4: [ 6000 / 60000] (10 %)  Loss: 0.296318\n",
      "Epoch 4: [12000 / 60000] (20 %)  Loss: 0.430431\n",
      "Epoch 4: [18000 / 60000] (30 %)  Loss: 0.345641\n",
      "Epoch 4: [24000 / 60000] (40 %)  Loss: 0.397656\n",
      "Epoch 4: [30000 / 60000] (50 %)  Loss: 0.422346\n",
      "Epoch 4: [36000 / 60000] (60 %)  Loss: 0.372076\n",
      "Epoch 4: [42000 / 60000] (70 %)  Loss: 0.490129\n",
      "Epoch 4: [48000 / 60000] (80 %)  Loss: 0.310771\n",
      "Epoch 4: [54000 / 60000] (90 %)  Loss: 0.359027\n",
      "Epoch 5: [    0 / 60000] (0 %)  Loss: 0.352869\n",
      "Epoch 5: [ 6000 / 60000] (10 %)  Loss: 0.274769\n",
      "Epoch 5: [12000 / 60000] (20 %)  Loss: 0.415742\n",
      "Epoch 5: [18000 / 60000] (30 %)  Loss: 0.318078\n",
      "Epoch 5: [24000 / 60000] (40 %)  Loss: 0.374046\n",
      "Epoch 5: [30000 / 60000] (50 %)  Loss: 0.389542\n",
      "Epoch 5: [36000 / 60000] (60 %)  Loss: 0.347549\n",
      "Epoch 5: [42000 / 60000] (70 %)  Loss: 0.465493\n",
      "Epoch 5: [48000 / 60000] (80 %)  Loss: 0.288866\n",
      "Epoch 5: [54000 / 60000] (90 %)  Loss: 0.356391\n"
     ]
    }
   ],
   "source": [
    "epochs = 5\n",
    "lr=0.1\n",
    "\n",
    "# 建立 DataLoader\n",
    "train_loader = DataLoader(train_ds, batch_size=600)\n",
    "\n",
    "# 设定优化器(optimizer)\n",
    "# optimizer = torch.optim.Adam(model.parameters(), lr=lr)\n",
    "optimizer = torch.optim.Adadelta(model.parameters(), lr=lr)\n",
    "\n",
    "criterion = nn.CrossEntropyLoss()\n",
    "\n",
    "model.train()\n",
    "loss_list = []    \n",
    "for epoch in range(1, epochs + 1):\n",
    "    for batch_idx, (data, target) in enumerate(train_loader):\n",
    "        data, target = data.to(device), target.to(device)\n",
    "#         if batch_idx == 0 and epoch == 1: print(data[0])\n",
    "\n",
    "        optimizer.zero_grad()\n",
    "        output = model(data)\n",
    "        loss = criterion(output, target)\n",
    "        loss.backward()\n",
    "        optimizer.step()\n",
    "\n",
    "        if batch_idx % 10 == 0:\n",
    "            loss_list.append(loss.item())\n",
    "            batch = batch_idx * len(data)\n",
    "            data_count = len(train_loader.dataset)\n",
    "            percentage = (100. * batch_idx / len(train_loader))\n",
    "            print(f'Epoch {epoch}: [{batch:5d} / {data_count}] ({percentage:.0f} %)' +\n",
    "                  f'  Loss: {loss.item():.6f}')"
   ]
  },
  {
   "cell_type": "markdown",
   "metadata": {},
   "source": [
    "## 对训练过程的损失绘图"
   ]
  },
  {
   "cell_type": "code",
   "execution_count": 13,
   "metadata": {
    "scrolled": false
   },
   "outputs": [
    {
     "data": {
      "text/plain": [
       "[<matplotlib.lines.Line2D at 0x1bf389ac070>]"
      ]
     },
     "execution_count": 13,
     "metadata": {},
     "output_type": "execute_result"
    },
    {
     "data": {
      "image/png": "[encoded data removed]",
      "text/plain": [
       "<Figure size 432x288 with 1 Axes>"
      ]
     },
     "metadata": {
      "needs_background": "light"
     },
     "output_type": "display_data"
    }
   ],
   "source": [
    "import matplotlib.pyplot as plt\n",
    "\n",
    "plt.plot(loss_list, 'r')"
   ]
  },
  {
   "cell_type": "markdown",
   "metadata": {},
   "source": [
    "## 步骤7：评分(Score Model)"
   ]
  },
  {
   "cell_type": "code",
   "execution_count": 14,
   "metadata": {
    "scrolled": true
   },
   "outputs": [
    {
     "name": "stdout",
     "output_type": "stream",
     "text": [
      "平均损失: 0.0003, 准确率: 9050/10000 (90%)\n",
      "\n"
     ]
    }
   ],
   "source": [
    "# 建立 DataLoader\n",
    "test_loader = DataLoader(test_ds, shuffle=False, batch_size=BATCH_SIZE)\n",
    "\n",
    "model.eval()\n",
    "test_loss = 0\n",
    "correct = 0\n",
    "with torch.no_grad():\n",
    "    for data, target in test_loader:\n",
    "        data, target = data.to(device), target.to(device)\n",
    "        output = model(data)\n",
    "        \n",
    "        # sum up batch loss\n",
    "        test_loss += criterion(output, target).item()\n",
    "        \n",
    "        # 预测\n",
    "        pred = output.argmax(dim=1, keepdim=True)  \n",
    "        \n",
    "        # 正确笔数\n",
    "        correct += pred.eq(target.view_as(pred)).sum().item()\n",
    "\n",
    "# 平均损失\n",
    "test_loss /= len(test_loader.dataset)\n",
    "# 显示测试结果\n",
    "batch = batch_idx * len(data)\n",
    "data_count = len(test_loader.dataset)\n",
    "percentage = 100. * correct / data_count\n",
    "print(f'平均损失: {test_loss:.4f}, 准确率: {correct}/{data_count}' + \n",
    "      f' ({percentage:.0f}%)\\n')"
   ]
  },
  {
   "cell_type": "markdown",
   "metadata": {},
   "source": [
    "## 实际比对测试资料的前20笔"
   ]
  },
  {
   "cell_type": "code",
   "execution_count": 15,
   "metadata": {},
   "outputs": [
    {
     "name": "stdout",
     "output_type": "stream",
     "text": [
      "actual    : [7 2 1 0 4 1 4 9 5 9 0 6 9 0 1 5 9 7 3 4]\n",
      "prediction:  7 2 1 0 4 1 4 9 6 9 0 6 9 0 1 5 9 7 3 4\n"
     ]
    }
   ],
   "source": [
    "# 实际预测 20 笔资料\n",
    "predictions = []\n",
    "with torch.no_grad():\n",
    "    for i in range(20):\n",
    "        data, target = test_ds[i][0], test_ds[i][1]\n",
    "        data = data.reshape(1, *data.shape).to(device)\n",
    "        output = torch.argmax(model(data), axis=-1)\n",
    "        predictions.append(str(output.item()))\n",
    "\n",
    "# 比对\n",
    "print('actual    :', test_ds.targets[0:20].numpy())\n",
    "print('prediction: ', ' '.join(predictions[0:20]))"
   ]
  },
  {
   "cell_type": "code",
   "execution_count": 16,
   "metadata": {},
   "outputs": [
    {
     "name": "stdout",
     "output_type": "stream",
     "text": [
      "0~9预测机率: [[0.01 0.   0.04 0.   0.03 0.01 0.9  0.   0.01 0.  ]]\n",
      "0~9预测机率: [6]\n"
     ]
    }
   ],
   "source": [
    "# 显示第 9 笔的机率\n",
    "import numpy as np\n",
    "\n",
    "i=8\n",
    "data = test_ds[i][0]\n",
    "data = data.reshape(1, *data.shape).to(device)\n",
    "#print(data.shape)\n",
    "predictions = torch.softmax(model(data), dim=1)\n",
    "print(f'0~9预测机率: {np.around(predictions.cpu().detach().numpy(), 2)}')\n",
    "print(f'0~9预测机率: {np.argmax(predictions.cpu().detach().numpy(), axis=-1)}')"
   ]
  },
  {
   "cell_type": "code",
   "execution_count": 17,
   "metadata": {
    "scrolled": true
   },
   "outputs": [
    {
     "data": {
      "image/png": "[encoded data removed]",
      "text/plain": [
       "<Figure size 432x288 with 1 Axes>"
      ]
     },
     "metadata": {
      "needs_background": "light"
     },
     "output_type": "display_data"
    }
   ],
   "source": [
    "# 显示第 9 笔图像\n",
    "X2 = test_ds[i][0] \n",
    "plt.imshow(X2.reshape(28,28), cmap='gray')\n",
    "plt.axis('off')\n",
    "plt.show() "
   ]
  },
  {
   "cell_type": "markdown",
   "metadata": {},
   "source": [
    "## 步骤8：评估，暂不进行"
   ]
  },
  {
   "cell_type": "markdown",
   "metadata": {},
   "source": [
    "## 步骤9：模型布署"
   ]
  },
  {
   "cell_type": "code",
   "execution_count": 18,
   "metadata": {},
   "outputs": [],
   "source": [
    "# 模型存档\n",
    "torch.save(model, 'model.pt')\n",
    "\n",
    "# 模型载入\n",
    "model = torch.load('model.pt')"
   ]
  },
  {
   "cell_type": "code",
   "execution_count": null,
   "metadata": {},
   "outputs": [],
   "source": [
    "# 权重存档\n",
    "torch.save(model.state_dict(), 'model.pth')\n",
    "\n",
    "# 权重载入\n",
    "model.load_state_dict(torch.load('model.pth'))"
   ]
  },
  {
   "cell_type": "code",
   "execution_count": null,
   "metadata": {},
   "outputs": [],
   "source": [
    "# 显示每一层的 state_dict 维度\n",
    "print(\"每一层的 state_dict:\")\n",
    "for param_tensor in model.state_dict():\n",
    "    print(param_tensor, \"\\t\", model.state_dict()[param_tensor].size())"
   ]
  },
  {
   "cell_type": "markdown",
   "metadata": {},
   "source": [
    "## 步骤10：新资料预测"
   ]
  },
  {
   "cell_type": "code",
   "execution_count": null,
   "metadata": {
    "scrolled": true
   },
   "outputs": [],
   "source": [
    "# 使用小画家，绘制 0~9，实际测试看看\n",
    "from skimage import io\n",
    "from skimage.transform import resize\n",
    "import numpy as np\n",
    "\n",
    "# 读取影像并转为单色\n",
    "for i in range(10):\n",
    "    uploaded_file = f'./myDigits/{i}.png'\n",
    "    image1 = io.imread(uploaded_file, as_gray=True)\n",
    "\n",
    "    # 缩为 (28, 28) 大小的影像\n",
    "    image_resized = resize(image1, (28, 28), anti_aliasing=True)    \n",
    "    X1 = image_resized.reshape(1,28, 28) \n",
    "\n",
    "    # 反转颜色，颜色0为白色，与 RGB 色码不同，它的 0 为黑色\n",
    "    X1 = torch.FloatTensor(1.0-X1).to(device)\n",
    "\n",
    "    # 预测\n",
    "    predictions = torch.softmax(model(X1), dim=1)\n",
    "    # print(np.around(predictions.cpu().detach().numpy(), 2))\n",
    "    print(f'actual/prediction: {i} {np.argmax(predictions.detach().cpu().numpy())}')"
   ]
  },
  {
   "cell_type": "markdown",
   "metadata": {},
   "source": [
    "## 其他：显示模型汇总资讯(summary)、绘制图形显示模型结构"
   ]
  },
  {
   "cell_type": "code",
   "execution_count": null,
   "metadata": {},
   "outputs": [],
   "source": [
    "print(model)"
   ]
  },
  {
   "cell_type": "code",
   "execution_count": null,
   "metadata": {
    "scrolled": false
   },
   "outputs": [],
   "source": [
    "# 显示模型的汇总资讯\n",
    "for name, module in model.named_children():\n",
    "    print(f'{name}: {module}')"
   ]
  },
  {
   "cell_type": "code",
   "execution_count": null,
   "metadata": {},
   "outputs": [],
   "source": [
    "!pip install torchinfo "
   ]
  },
  {
   "cell_type": "code",
   "execution_count": null,
   "metadata": {},
   "outputs": [],
   "source": [
    "from torchinfo import summary\n",
    "summary(model, (60000, 28, 28)) # input dimension size"
   ]
  },
  {
   "cell_type": "markdown",
   "metadata": {},
   "source": [
    "## PyTorch 无法绘制模型"
   ]
  },
  {
   "cell_type": "code",
   "execution_count": null,
   "metadata": {},
   "outputs": [],
   "source": []
  }
 ],
 "metadata": {
  "kernelspec": {
   "display_name": "Python 3 (ipykernel)",
   "language": "python",
   "name": "python3"
  },
  "language_info": {
   "codemirror_mode": {
    "name": "ipython",
    "version": 3
   },
   "file_extension": ".py",
   "mimetype": "text/x-python",
   "name": "python",
   "nbconvert_exporter": "python",
   "pygments_lexer": "ipython3",
   "version": "3.9.7"
  }
 },
 "nbformat": 4,
 "nbformat_minor": 4
}
