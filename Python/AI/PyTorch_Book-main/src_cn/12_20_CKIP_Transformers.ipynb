{
 "cells": [
  {
   "cell_type": "markdown",
   "metadata": {},
   "source": [
    "# [CKIP Transformers](https://ckip-transformers.readthedocs.io/en/latest/main/readme.html#)"
   ]
  },
  {
   "cell_type": "markdown",
   "metadata": {},
   "source": [
    "## 载入相关套件"
   ]
  },
  {
   "cell_type": "code",
   "execution_count": 1,
   "metadata": {},
   "outputs": [],
   "source": [
    "from ckip_transformers import __version__\n",
    "from ckip_transformers.nlp import CkipWordSegmenter, \\\n",
    "                        CkipPosTagger, CkipNerChunker\n",
    "import torch"
   ]
  },
  {
   "cell_type": "markdown",
   "metadata": {},
   "source": [
    "## 载入模型"
   ]
  },
  {
   "cell_type": "code",
   "execution_count": 2,
   "metadata": {},
   "outputs": [],
   "source": [
    "# 指定 device 以使用 GPU，设为 -1 （预设值）代表不使用 GPU\n",
    "device = 0 if torch.cuda.is_available() else -1\n",
    "\n",
    "ws_driver = CkipWordSegmenter(level=3, device=device) # 分词\n",
    "pos_driver = CkipPosTagger(level=3, device=device)    # 词性标记(POS)\n",
    "ner_driver = CkipNerChunker(level=3, device=device)   # 命名实体识别(NER)"
   ]
  },
  {
   "cell_type": "markdown",
   "metadata": {},
   "source": [
    "## 测试"
   ]
  },
  {
   "cell_type": "code",
   "execution_count": 3,
   "metadata": {},
   "outputs": [
    {
     "name": "stderr",
     "output_type": "stream",
     "text": [
      "Tokenization: 100%|██████████████████████████████████████████████████████████████████████████████| 2/2 [00:00<?, ?it/s]\n",
      "Inference: 100%|█████████████████████████████████████████████████████████████████████████| 1/1 [00:03<00:00,  3.45s/it]\n",
      "Tokenization: 100%|██████████████████████████████████████████████████████████████████████████████| 2/2 [00:00<?, ?it/s]\n",
      "Inference: 100%|█████████████████████████████████████████████████████████████████████████| 1/1 [00:00<00:00,  8.54it/s]\n",
      "Tokenization: 100%|██████████████████████████████████████████████████████████████████████████████| 2/2 [00:00<?, ?it/s]\n",
      "Inference: 100%|█████████████████████████████████████████████████████████████████████████| 1/1 [00:00<00:00, 27.75it/s]\n"
     ]
    }
   ],
   "source": [
    "text=['''\n",
    "便利商店除了提供微波食品，也有贩卖烤地瓜。一位网友近日在社群网站分享，\n",
    "针对自己在3家超商食用烤地瓜后的看法，并以“甜度”作为评价标准，这则PO文引起许多网友讨论。\n",
    "''',\n",
    "'''\n",
    "中秋连假兰屿涌入大量游客，但受梅花台风影响，明天（11日）后壁湖往返兰屿，及台东往返兰屿海运全数停航\n",
    "，东部航务中心请旅客利用今天航班，提前搭乘船班返台，并请注意航班开停航情形。''']\n",
    "\n",
    "ws  = ws_driver(text)\n",
    "pos = pos_driver(ws)\n",
    "ner = ner_driver(text)"
   ]
  },
  {
   "cell_type": "markdown",
   "metadata": {},
   "source": [
    "## 显示执行结果"
   ]
  },
  {
   "cell_type": "code",
   "execution_count": 4,
   "metadata": {
    "scrolled": false
   },
   "outputs": [
    {
     "name": "stdout",
     "output_type": "stream",
     "text": [
      "\n",
      "便利商店除了提供微波食品，也有贩卖烤地瓜。一位网友近日在社群网站分享，\n",
      "针对自己在3家超商食用烤地瓜后的看法，并以“甜度”作为评价标准，这则PO文引起许多网友讨论。\n",
      "\n",
      "\n",
      "(WHITESPACE)  便利商店(Nc)  除了(P)  提供(VD)  微波(Na)  食品(Na)  ，(COMMACATEGORY)  也(D)  有(V_2)  贩卖(VD)  烤(VC)  地瓜(Na)  。(PERIODCATEGORY)  一(Neu)  位(Nf)  网友(Na)  近日(Nd)  在(P)  社群(Na)  网站(Nc)  分享(VJ)  ，(COMMACATEGORY)  \n",
      "(WHITESPACE)  针对(P)  自己(Nh)  在(P)  3(Neu)  家(Nf)  超商(Nc)  食用(VC)  烤(VC)  地瓜(Na)  后(Ng)  的(DE)  看法(Na)  ，(COMMACATEGORY)  并(Cbb)  以(P)  “(Nb)  甜度(Na)  ”(FW)  作为(VG)  评价(Na)  标准(Na)  ，(COMMACATEGORY)  这(Nep)  则(Nf)  PO文(FW)  引起(VC)  许多(Neqa)  网友(Na)  讨论(VE)  。(PERIODCATEGORY)  \n",
      "(WHITESPACE)\n",
      "NerToken(word='一', ner='CARDINAL', idx=(22, 23))\n",
      "NerToken(word='3', ner='CARDINAL', idx=(42, 43))\n",
      "\n",
      "\n",
      "中秋连假兰屿涌入大量游客，但受梅花台风影响，明天（11日）后壁湖往返兰屿，及台东往返兰屿海运全数停航\n",
      "，东部航务中心请旅客利用今天航班，提前搭乘船班返台，并请注意航班开停航情形。\n",
      "\n",
      "(WHITESPACE)  中秋(Nd)  连假(Na)  兰屿(Nc)  涌入(VCL)  大量(Neqa)  游客(Na)  ，(COMMACATEGORY)  但(Cbb)  受(P)  梅花(Na)  台风(Na)  影响(VC)  ，(COMMACATEGORY)  明天(Nd)  （(PARENTHESISCATEGORY)  11日(Neu)  ）(PARENTHESISCATEGORY)  后壁湖(Nc)  往返(VCL)  兰屿(Nc)  ，(COMMACATEGORY)  及(Caa)  台东(Nc)  往返(VCL)  兰屿(Nc)  海运(Na)  全数(Neqa)  停航(VH)  \n",
      "(WHITESPACE)  ，(COMMACATEGORY)  东部(Ncd)  航务(Na)  中心(Nc)  请(VF)  旅客(Na)  利用(VC)  今天(Nd)  航班(Na)  ，(COMMACATEGORY)  提前(VB)  搭乘(VC)  船班(Na)  返台(VA)  ，(COMMACATEGORY)  并(Cbb)  请(VF)  注意(VK)  航班(Na)  开(VC)  停航(VH)  情形(Na)  。(PERIODCATEGORY)\n",
      "NerToken(word='中秋', ner='DATE', idx=(1, 3))\n",
      "NerToken(word='兰屿', ner='GPE', idx=(5, 7))\n",
      "NerToken(word='梅花台风', ner='EVENT', idx=(16, 20))\n",
      "NerToken(word='明天', ner='DATE', idx=(23, 25))\n",
      "NerToken(word='后壁湖', ner='GPE', idx=(30, 33))\n",
      "NerToken(word='兰屿', ner='GPE', idx=(35, 37))\n",
      "NerToken(word='台东', ner='GPE', idx=(39, 41))\n",
      "NerToken(word='兰屿', ner='GPE', idx=(43, 45))\n",
      "NerToken(word='今天', ner='DATE', idx=(64, 66))\n",
      "NerToken(word='台', ner='GPE', idx=(76, 77))\n",
      "\n"
     ]
    }
   ],
   "source": [
    "# 显示分词、词性标记结果\n",
    "def pack_ws_pos_sentece(sentence_ws, sentence_pos):\n",
    "    res = []\n",
    "    for word_ws, word_pos in zip(sentence_ws, sentence_pos):\n",
    "        res.append(f\"{word_ws}({word_pos})\")\n",
    "    return \"  \".join(res)\n",
    "\n",
    "# 显示执行结果\n",
    "for sentence, sentence_ws, sentence_pos, sentence_ner in zip(text, ws, pos, ner):\n",
    "    print(sentence)\n",
    "    print(pack_ws_pos_sentece(sentence_ws, sentence_pos))\n",
    "    for entity in sentence_ner:\n",
    "        print(entity)\n",
    "    print()"
   ]
  },
  {
   "cell_type": "code",
   "execution_count": null,
   "metadata": {},
   "outputs": [],
   "source": []
  }
 ],
 "metadata": {
  "kernelspec": {
   "display_name": "Python 3 (ipykernel)",
   "language": "python",
   "name": "python3"
  },
  "language_info": {
   "codemirror_mode": {
    "name": "ipython",
    "version": 3
   },
   "file_extension": ".py",
   "mimetype": "text/x-python",
   "name": "python",
   "nbconvert_exporter": "python",
   "pygments_lexer": "ipython3",
   "version": "3.9.7"
  }
 },
 "nbformat": 4,
 "nbformat_minor": 4
}
