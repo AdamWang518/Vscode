{
 "cells": [
  {
   "cell_type": "markdown",
   "metadata": {},
   "source": [
    "# chatbotAI 測試"
   ]
  },
  {
   "cell_type": "markdown",
   "metadata": {},
   "source": [
    "## 載入相關套件"
   ]
  },
  {
   "cell_type": "code",
   "execution_count": 1,
   "metadata": {},
   "outputs": [],
   "source": [
    "# 載入相關套件\n",
    "from chatbot import demo"
   ]
  },
  {
   "cell_type": "markdown",
   "metadata": {},
   "source": [
    "## 功能展示"
   ]
  },
  {
   "cell_type": "code",
   "execution_count": 2,
   "metadata": {
    "scrolled": true
   },
   "outputs": [
    {
     "name": "stdout",
     "output_type": "stream",
     "text": [
      "Hi, how are you?\n"
     ]
    },
    {
     "ename": "KeyboardInterrupt",
     "evalue": "Interrupted by user",
     "output_type": "error",
     "traceback": [
      "\u001b[1;31m---------------------------------------------------------------------------\u001b[0m",
      "\u001b[1;31mKeyboardInterrupt\u001b[0m                         Traceback (most recent call last)",
      "\u001b[1;32m<ipython-input-2-cc1b24fabc20>\u001b[0m in \u001b[0;36m<module>\u001b[1;34m\u001b[0m\n\u001b[0;32m      1\u001b[0m \u001b[1;31m# 功能展示\u001b[0m\u001b[1;33m\u001b[0m\u001b[1;33m\u001b[0m\u001b[1;33m\u001b[0m\u001b[0m\n\u001b[1;32m----> 2\u001b[1;33m \u001b[0mdemo\u001b[0m\u001b[1;33m(\u001b[0m\u001b[1;33m)\u001b[0m\u001b[1;33m\u001b[0m\u001b[1;33m\u001b[0m\u001b[0m\n\u001b[0m",
      "\u001b[1;32mC:\\anaconda3\\lib\\site-packages\\chatbot\\__init__.py\u001b[0m in \u001b[0;36mdemo\u001b[1;34m(first_question, language, **kwargs)\u001b[0m\n\u001b[0;32m    987\u001b[0m         \u001b[0mfirst_question\u001b[0m \u001b[1;33m=\u001b[0m \u001b[0mFIRST_QUESTIONS\u001b[0m\u001b[1;33m.\u001b[0m\u001b[0mget\u001b[0m\u001b[1;33m(\u001b[0m\u001b[0mlanguage\u001b[0m\u001b[1;33m,\u001b[0m \u001b[0mFIRST_QUESTIONS\u001b[0m\u001b[1;33m[\u001b[0m\u001b[1;34m\"en\"\u001b[0m\u001b[1;33m]\u001b[0m\u001b[1;33m)\u001b[0m\u001b[1;33m\u001b[0m\u001b[1;33m\u001b[0m\u001b[0m\n\u001b[0;32m    988\u001b[0m     \u001b[0mterminate\u001b[0m \u001b[1;33m=\u001b[0m \u001b[0mTERMINATES\u001b[0m\u001b[1;33m.\u001b[0m\u001b[0mget\u001b[0m\u001b[1;33m(\u001b[0m\u001b[0mlanguage\u001b[0m\u001b[1;33m,\u001b[0m \u001b[0mTERMINATES\u001b[0m\u001b[1;33m[\u001b[0m\u001b[1;34m\"en\"\u001b[0m\u001b[1;33m]\u001b[0m\u001b[1;33m)\u001b[0m\u001b[1;33m\u001b[0m\u001b[1;33m\u001b[0m\u001b[0m\n\u001b[1;32m--> 989\u001b[1;33m     \u001b[0mChat\u001b[0m\u001b[1;33m(\u001b[0m\u001b[0mlanguage\u001b[0m\u001b[1;33m=\u001b[0m\u001b[0mlanguage\u001b[0m\u001b[1;33m,\u001b[0m \u001b[1;33m**\u001b[0m\u001b[0mkwargs\u001b[0m\u001b[1;33m)\u001b[0m\u001b[1;33m.\u001b[0m\u001b[0mconverse\u001b[0m\u001b[1;33m(\u001b[0m\u001b[0mfirst_question\u001b[0m\u001b[1;33m,\u001b[0m \u001b[0mterminate\u001b[0m\u001b[1;33m=\u001b[0m\u001b[0mterminate\u001b[0m\u001b[1;33m)\u001b[0m\u001b[1;33m\u001b[0m\u001b[1;33m\u001b[0m\u001b[0m\n\u001b[0m",
      "\u001b[1;32mC:\\anaconda3\\lib\\site-packages\\chatbot\\__init__.py\u001b[0m in \u001b[0;36mconverse\u001b[1;34m(self, first_question, terminate, session_id)\u001b[0m\n\u001b[0;32m    976\u001b[0m             \u001b[0minput_sentence\u001b[0m \u001b[1;33m=\u001b[0m \u001b[0mterminate\u001b[0m\u001b[1;33m\u001b[0m\u001b[1;33m\u001b[0m\u001b[0m\n\u001b[0;32m    977\u001b[0m             \u001b[1;32mtry\u001b[0m\u001b[1;33m:\u001b[0m\u001b[1;33m\u001b[0m\u001b[1;33m\u001b[0m\u001b[0m\n\u001b[1;32m--> 978\u001b[1;33m                 \u001b[0minput_sentence\u001b[0m \u001b[1;33m=\u001b[0m \u001b[0minput_reader\u001b[0m\u001b[1;33m(\u001b[0m\u001b[1;34m\"> \"\u001b[0m\u001b[1;33m)\u001b[0m\u001b[1;33m\u001b[0m\u001b[1;33m\u001b[0m\u001b[0m\n\u001b[0m\u001b[0;32m    979\u001b[0m             \u001b[1;32mexcept\u001b[0m \u001b[0mEOFError\u001b[0m\u001b[1;33m:\u001b[0m\u001b[1;33m\u001b[0m\u001b[1;33m\u001b[0m\u001b[0m\n\u001b[0;32m    980\u001b[0m                 \u001b[0mprint\u001b[0m\u001b[1;33m(\u001b[0m\u001b[0minput_sentence\u001b[0m\u001b[1;33m)\u001b[0m\u001b[1;33m\u001b[0m\u001b[1;33m\u001b[0m\u001b[0m\n",
      "\u001b[1;32mC:\\anaconda3\\lib\\site-packages\\ipykernel\\kernelbase.py\u001b[0m in \u001b[0;36mraw_input\u001b[1;34m(self, prompt)\u001b[0m\n\u001b[0;32m    858\u001b[0m                 \u001b[1;34m\"raw_input was called, but this frontend does not support input requests.\"\u001b[0m\u001b[1;33m\u001b[0m\u001b[1;33m\u001b[0m\u001b[0m\n\u001b[0;32m    859\u001b[0m             )\n\u001b[1;32m--> 860\u001b[1;33m         return self._input_request(str(prompt),\n\u001b[0m\u001b[0;32m    861\u001b[0m             \u001b[0mself\u001b[0m\u001b[1;33m.\u001b[0m\u001b[0m_parent_ident\u001b[0m\u001b[1;33m,\u001b[0m\u001b[1;33m\u001b[0m\u001b[1;33m\u001b[0m\u001b[0m\n\u001b[0;32m    862\u001b[0m             \u001b[0mself\u001b[0m\u001b[1;33m.\u001b[0m\u001b[0m_parent_header\u001b[0m\u001b[1;33m,\u001b[0m\u001b[1;33m\u001b[0m\u001b[1;33m\u001b[0m\u001b[0m\n",
      "\u001b[1;32mC:\\anaconda3\\lib\\site-packages\\ipykernel\\kernelbase.py\u001b[0m in \u001b[0;36m_input_request\u001b[1;34m(self, prompt, ident, parent, password)\u001b[0m\n\u001b[0;32m    902\u001b[0m             \u001b[1;32mexcept\u001b[0m \u001b[0mKeyboardInterrupt\u001b[0m\u001b[1;33m:\u001b[0m\u001b[1;33m\u001b[0m\u001b[1;33m\u001b[0m\u001b[0m\n\u001b[0;32m    903\u001b[0m                 \u001b[1;31m# re-raise KeyboardInterrupt, to truncate traceback\u001b[0m\u001b[1;33m\u001b[0m\u001b[1;33m\u001b[0m\u001b[1;33m\u001b[0m\u001b[0m\n\u001b[1;32m--> 904\u001b[1;33m                 \u001b[1;32mraise\u001b[0m \u001b[0mKeyboardInterrupt\u001b[0m\u001b[1;33m(\u001b[0m\u001b[1;34m\"Interrupted by user\"\u001b[0m\u001b[1;33m)\u001b[0m \u001b[1;32mfrom\u001b[0m \u001b[1;32mNone\u001b[0m\u001b[1;33m\u001b[0m\u001b[1;33m\u001b[0m\u001b[0m\n\u001b[0m\u001b[0;32m    905\u001b[0m             \u001b[1;32mexcept\u001b[0m \u001b[0mException\u001b[0m \u001b[1;32mas\u001b[0m \u001b[0me\u001b[0m\u001b[1;33m:\u001b[0m\u001b[1;33m\u001b[0m\u001b[1;33m\u001b[0m\u001b[0m\n\u001b[0;32m    906\u001b[0m                 \u001b[0mself\u001b[0m\u001b[1;33m.\u001b[0m\u001b[0mlog\u001b[0m\u001b[1;33m.\u001b[0m\u001b[0mwarning\u001b[0m\u001b[1;33m(\u001b[0m\u001b[1;34m\"Invalid Message:\"\u001b[0m\u001b[1;33m,\u001b[0m \u001b[0mexc_info\u001b[0m\u001b[1;33m=\u001b[0m\u001b[1;32mTrue\u001b[0m\u001b[1;33m)\u001b[0m\u001b[1;33m\u001b[0m\u001b[1;33m\u001b[0m\u001b[0m\n",
      "\u001b[1;31mKeyboardInterrupt\u001b[0m: Interrupted by user"
     ]
    }
   ],
   "source": [
    "# 功能展示\n",
    "demo()"
   ]
  },
  {
   "cell_type": "code",
   "execution_count": 2,
   "metadata": {},
   "outputs": [
    {
     "name": "stdout",
     "output_type": "stream",
     "text": [
      "Collecting wikipedia\n",
      "  Downloading wikipedia-1.4.0.tar.gz (27 kB)\n",
      "Requirement already satisfied: beautifulsoup4 in c:\\anaconda3\\lib\\site-packages (from wikipedia) (4.9.0)\n",
      "Requirement already satisfied: requests<3.0.0,>=2.0.0 in c:\\users\\mikec\\appdata\\roaming\\python\\python38\\site-packages (from wikipedia) (2.25.1)\n",
      "Requirement already satisfied: idna<3,>=2.5 in c:\\users\\mikec\\appdata\\roaming\\python\\python38\\site-packages (from requests<3.0.0,>=2.0.0->wikipedia) (2.10)\n",
      "Requirement already satisfied: certifi>=2017.4.17 in c:\\users\\mikec\\appdata\\roaming\\python\\python38\\site-packages (from requests<3.0.0,>=2.0.0->wikipedia) (2020.12.5)\n",
      "Requirement already satisfied: urllib3<1.27,>=1.21.1 in c:\\users\\mikec\\appdata\\roaming\\python\\python38\\site-packages (from requests<3.0.0,>=2.0.0->wikipedia) (1.26.4)\n",
      "Requirement already satisfied: chardet<5,>=3.0.2 in c:\\users\\mikec\\appdata\\roaming\\python\\python38\\site-packages (from requests<3.0.0,>=2.0.0->wikipedia) (3.0.4)\n",
      "Requirement already satisfied: soupsieve>1.2 in c:\\anaconda3\\lib\\site-packages (from beautifulsoup4->wikipedia) (2.0.1)\n",
      "Building wheels for collected packages: wikipedia"
     ]
    },
    {
     "name": "stderr",
     "output_type": "stream",
     "text": [
      "WARNING: You are using pip version 21.0.1; however, version 21.1 is available.\n",
      "You should consider upgrading via the 'c:\\anaconda3\\python.exe -m pip install --upgrade pip' command.\n"
     ]
    },
    {
     "name": "stdout",
     "output_type": "stream",
     "text": [
      "\n",
      "  Building wheel for wikipedia (setup.py): started\n",
      "  Building wheel for wikipedia (setup.py): finished with status 'done'\n",
      "  Created wheel for wikipedia: filename=wikipedia-1.4.0-py3-none-any.whl size=11686 sha256=3254c33e445e96ea0b3d73b3198120c24e49e9e9bb8d9afa9857d06c8c5b3fec\n",
      "  Stored in directory: c:\\users\\mikec\\appdata\\local\\pip\\cache\\wheels\\07\\93\\05\\72c05349177dca2e0ba31a33ba4f7907606f7ddef303517c6a\n",
      "Successfully built wikipedia\n",
      "Installing collected packages: wikipedia\n",
      "Successfully installed wikipedia-1.4.0\n"
     ]
    }
   ],
   "source": [
    "!pip install wikipedia"
   ]
  },
  {
   "cell_type": "code",
   "execution_count": 4,
   "metadata": {},
   "outputs": [],
   "source": [
    "# 載入相關套件\n",
    "from chatbot import Chat, register_call\n",
    "import wikipedia\n",
    "\n",
    "# 註冊可接收的關鍵字及負責回應的模組\n",
    "@register_call(\"whoIs\")\n",
    "def who_is(session, query):\n",
    "    try:\n",
    "        # 回應\n",
    "        return wikipedia.summary(query)\n",
    "    # 例外處理\n",
    "    except Exception:\n",
    "        for new_query in wikipedia.search(query):\n",
    "            try:\n",
    "                return wikipedia.summary(new_query)\n",
    "            except Exception:\n",
    "                pass\n",
    "    return \"I don't know about \"+query"
   ]
  },
  {
   "cell_type": "code",
   "execution_count": 5,
   "metadata": {},
   "outputs": [],
   "source": [
    "import warnings\n",
    "\n",
    "warnings.filterwarnings('ignore')"
   ]
  },
  {
   "cell_type": "code",
   "execution_count": 7,
   "metadata": {},
   "outputs": [
    {
     "name": "stdout",
     "output_type": "stream",
     "text": [
      "Hi, how are you?\n",
      "> fine.\n",
      "  Nice to know that you are fine. What else? \n",
      "> what is Albert Einstein?\n",
      "Albert Einstein ( EYEN-styne; German: [ˈalbɛʁt ˈʔaɪnʃtaɪn] (listen); 14 March 1879 – 18 April 1955) was a German-born theoretical physicist, widely acknowledged to be one of the greatest physicists of all time. Einstein is known for developing the theory of relativity, but he also made important contributions to the development of the theory of quantum mechanics. Relativity and quantum mechanics are together the two pillars of modern physics. His mass–energy equivalence formula E = mc2, which arises from relativity theory, has been dubbed \"the world's most famous equation\". His work is also known for its influence on the philosophy of science. He received the 1921 Nobel Prize in Physics \"for his services to theoretical physics, and especially for his discovery of the law of the photoelectric effect\", a pivotal step in the development of quantum theory. His intellectual achievements and originality resulted in \"Einstein\" becoming synonymous with \"genius\".In 1905, a year sometimes described as his annus mirabilis ('miracle year'), Einstein published four groundbreaking papers. These outlined the theory of the photoelectric effect, explained Brownian motion, introduced special relativity, and demonstrated mass-energy equivalence. Einstein thought that the laws of classical mechanics could no longer be reconciled with those of the electromagnetic field, which led him to develop his special theory of relativity. He then extended the theory to gravitational fields; he published a paper on general relativity in 1916, introducing his theory of gravitation. In 1917, he applied the general theory of relativity to model the structure of the universe. He continued to deal with problems of statistical mechanics and quantum theory, which led to his explanations of particle theory and the motion of molecules. He also investigated the thermal properties of light and the quantum theory of radiation, which laid the foundation of the photon theory of light. However, for much of the later part of his career, he worked on two ultimately unsuccessful endeavors. First, despite his great contributions to quantum mechanics, he opposed what it evolved into, objecting that nature \"does not play dice\". Second, he attempted to devise a unified field theory by generalizing his geometric theory of gravitation to include electromagnetism. As a result, he became increasingly isolated from the mainstream of modern physics.\n",
      "Einstein was born in the German Empire, but moved to Switzerland in 1895, forsaking his German citizenship (as a subject of the Kingdom of Württemberg) the following year. In 1897, at the age of 17, he enrolled in the mathematics and physics teaching diploma program at the Swiss Federal polytechnic school in Zürich, graduating in 1900. In 1901 he acquired Swiss citizenship, which he kept for the rest of his life, and in 1903 he secured a permanent position at the Swiss Patent Office in Bern. In 1905, he was awarded a PhD by the University of Zurich. In 1914, Einstein moved to Berlin in order to join the Prussian Academy of Sciences and the Humboldt University of Berlin. In 1917, Einstein became director of the Kaiser Wilhelm Institute for Physics; he also became a German citizen again – Prussian this time. \n",
      "In 1933, while Einstein was visiting the United States, Adolf Hitler came to power. Einstein did not return to Germany because he objected to the policies of the newly elected Nazi-led government. He settled in the United States and became an American citizen in 1940. On the eve of World War II, he endorsed a letter to President Franklin D. Roosevelt alerting him to the potential German nuclear weapons program and recommending that the US begin similar research. Einstein supported the Allies, but generally denounced the idea of nuclear weapons.\n",
      "> stop\n",
      "I see.  And what does that tell you?\n",
      "> no\n",
      "How does that make you feel?\n",
      "> bye\n",
      "Why do you say that bye?\n",
      "> /stop\n",
      "Let's change focus a bit... Tell me about your family.\n"
     ]
    },
    {
     "ename": "KeyboardInterrupt",
     "evalue": "Interrupted by user",
     "output_type": "error",
     "traceback": [
      "\u001b[1;31m---------------------------------------------------------------------------\u001b[0m",
      "\u001b[1;31mKeyboardInterrupt\u001b[0m                         Traceback (most recent call last)",
      "\u001b[1;32m<ipython-input-7-942825a85360>\u001b[0m in \u001b[0;36m<module>\u001b[1;34m\u001b[0m\n\u001b[0;32m      3\u001b[0m \u001b[1;33m\u001b[0m\u001b[0m\n\u001b[0;32m      4\u001b[0m \u001b[1;31m# 使用的樣板\u001b[0m\u001b[1;33m\u001b[0m\u001b[1;33m\u001b[0m\u001b[1;33m\u001b[0m\u001b[0m\n\u001b[1;32m----> 5\u001b[1;33m \u001b[0mChat\u001b[0m\u001b[1;33m(\u001b[0m\u001b[1;34m\"chatbot_data/Example.template\"\u001b[0m\u001b[1;33m)\u001b[0m\u001b[1;33m.\u001b[0m\u001b[0mconverse\u001b[0m\u001b[1;33m(\u001b[0m\u001b[0mfirst_question\u001b[0m\u001b[1;33m)\u001b[0m\u001b[1;33m\u001b[0m\u001b[1;33m\u001b[0m\u001b[0m\n\u001b[0m",
      "\u001b[1;32mC:\\anaconda3\\lib\\site-packages\\chatbot\\__init__.py\u001b[0m in \u001b[0;36mconverse\u001b[1;34m(self, first_question, terminate, session_id)\u001b[0m\n\u001b[0;32m    976\u001b[0m             \u001b[0minput_sentence\u001b[0m \u001b[1;33m=\u001b[0m \u001b[0mterminate\u001b[0m\u001b[1;33m\u001b[0m\u001b[1;33m\u001b[0m\u001b[0m\n\u001b[0;32m    977\u001b[0m             \u001b[1;32mtry\u001b[0m\u001b[1;33m:\u001b[0m\u001b[1;33m\u001b[0m\u001b[1;33m\u001b[0m\u001b[0m\n\u001b[1;32m--> 978\u001b[1;33m                 \u001b[0minput_sentence\u001b[0m \u001b[1;33m=\u001b[0m \u001b[0minput_reader\u001b[0m\u001b[1;33m(\u001b[0m\u001b[1;34m\"> \"\u001b[0m\u001b[1;33m)\u001b[0m\u001b[1;33m\u001b[0m\u001b[1;33m\u001b[0m\u001b[0m\n\u001b[0m\u001b[0;32m    979\u001b[0m             \u001b[1;32mexcept\u001b[0m \u001b[0mEOFError\u001b[0m\u001b[1;33m:\u001b[0m\u001b[1;33m\u001b[0m\u001b[1;33m\u001b[0m\u001b[0m\n\u001b[0;32m    980\u001b[0m                 \u001b[0mprint\u001b[0m\u001b[1;33m(\u001b[0m\u001b[0minput_sentence\u001b[0m\u001b[1;33m)\u001b[0m\u001b[1;33m\u001b[0m\u001b[1;33m\u001b[0m\u001b[0m\n",
      "\u001b[1;32mC:\\anaconda3\\lib\\site-packages\\ipykernel\\kernelbase.py\u001b[0m in \u001b[0;36mraw_input\u001b[1;34m(self, prompt)\u001b[0m\n\u001b[0;32m    858\u001b[0m                 \u001b[1;34m\"raw_input was called, but this frontend does not support input requests.\"\u001b[0m\u001b[1;33m\u001b[0m\u001b[1;33m\u001b[0m\u001b[0m\n\u001b[0;32m    859\u001b[0m             )\n\u001b[1;32m--> 860\u001b[1;33m         return self._input_request(str(prompt),\n\u001b[0m\u001b[0;32m    861\u001b[0m             \u001b[0mself\u001b[0m\u001b[1;33m.\u001b[0m\u001b[0m_parent_ident\u001b[0m\u001b[1;33m,\u001b[0m\u001b[1;33m\u001b[0m\u001b[1;33m\u001b[0m\u001b[0m\n\u001b[0;32m    862\u001b[0m             \u001b[0mself\u001b[0m\u001b[1;33m.\u001b[0m\u001b[0m_parent_header\u001b[0m\u001b[1;33m,\u001b[0m\u001b[1;33m\u001b[0m\u001b[1;33m\u001b[0m\u001b[0m\n",
      "\u001b[1;32mC:\\anaconda3\\lib\\site-packages\\ipykernel\\kernelbase.py\u001b[0m in \u001b[0;36m_input_request\u001b[1;34m(self, prompt, ident, parent, password)\u001b[0m\n\u001b[0;32m    902\u001b[0m             \u001b[1;32mexcept\u001b[0m \u001b[0mKeyboardInterrupt\u001b[0m\u001b[1;33m:\u001b[0m\u001b[1;33m\u001b[0m\u001b[1;33m\u001b[0m\u001b[0m\n\u001b[0;32m    903\u001b[0m                 \u001b[1;31m# re-raise KeyboardInterrupt, to truncate traceback\u001b[0m\u001b[1;33m\u001b[0m\u001b[1;33m\u001b[0m\u001b[1;33m\u001b[0m\u001b[0m\n\u001b[1;32m--> 904\u001b[1;33m                 \u001b[1;32mraise\u001b[0m \u001b[0mKeyboardInterrupt\u001b[0m\u001b[1;33m(\u001b[0m\u001b[1;34m\"Interrupted by user\"\u001b[0m\u001b[1;33m)\u001b[0m \u001b[1;32mfrom\u001b[0m \u001b[1;32mNone\u001b[0m\u001b[1;33m\u001b[0m\u001b[1;33m\u001b[0m\u001b[0m\n\u001b[0m\u001b[0;32m    905\u001b[0m             \u001b[1;32mexcept\u001b[0m \u001b[0mException\u001b[0m \u001b[1;32mas\u001b[0m \u001b[0me\u001b[0m\u001b[1;33m:\u001b[0m\u001b[1;33m\u001b[0m\u001b[1;33m\u001b[0m\u001b[0m\n\u001b[0;32m    906\u001b[0m                 \u001b[0mself\u001b[0m\u001b[1;33m.\u001b[0m\u001b[0mlog\u001b[0m\u001b[1;33m.\u001b[0m\u001b[0mwarning\u001b[0m\u001b[1;33m(\u001b[0m\u001b[1;34m\"Invalid Message:\"\u001b[0m\u001b[1;33m,\u001b[0m \u001b[0mexc_info\u001b[0m\u001b[1;33m=\u001b[0m\u001b[1;32mTrue\u001b[0m\u001b[1;33m)\u001b[0m\u001b[1;33m\u001b[0m\u001b[1;33m\u001b[0m\u001b[0m\n",
      "\u001b[1;31mKeyboardInterrupt\u001b[0m: Interrupted by user"
     ]
    }
   ],
   "source": [
    "# 第一個問題\n",
    "first_question=\"Hi, how are you?\"\n",
    "\n",
    "# 使用的樣板\n",
    "Chat(\"chatbot_data/Example.template\").converse(first_question)"
   ]
  },
  {
   "cell_type": "code",
   "execution_count": null,
   "metadata": {},
   "outputs": [
    {
     "name": "stdout",
     "output_type": "stream",
     "text": [
      "你好嗎?\n",
      "> who is 愛因斯坦\n",
      "Tin Hong (天航 , born in 17 December 1980) is a Hong Kong author living in Taiwan. He has created more than 30 personal works that were widely distributed in Hong Kong, Taiwan, and China. His major works include the REPLAY★AMOEBA Series and the D Series.\n",
      "Tin Hong majored in psychology and economics in the University of Hong Kong. When he was 19, he started his writing career under SCMP Book Publishing. He made his debut with When Sagittarius meets Aries(戀上白羊的弓箭) in 2000, which was later adopted into drama by the Live Theatre in 2013. Later Tin Hong published other popular romance novels including The Death of a Bookworm(書蟲的少年時代) and the Sheep in Wolf's Clothing(披上狼皮的羊咩咩), while the latter was also dramatised in 2014. In 2004, he set up his own publishing house. He moved to Taipei in 2010, and then married to a Taiwanese designer.Tin Hong’s books are well received by the teenage audience. His books are mostly of fantasy and romance, usually touching upon historical issues and exploring injustice in the society. Greatly influenced by Yu Hua‘s To Live, Tin Hong’s books reflect on the connections between individuals and history. Ni Kuang spoke highly of Tin Hong’s D Series as he finds the topic unique and interesting, covering romance, joy and sorrows, and global issues.He was the Best Selling Local Male Author of the Year in 2005, 2006, 2011, and 2012. Tin Hong also got his The Last Will of Emperor Qin (秦始皇最恐怖的遺言) ranked first on Commercial Press Bestsellers of 2012. His The Death of a Bookworm (書蟲的少年時代) and Sixty Four Codons (愛因斯坦被摑了一巴) were on the list of the 15th and 19th Annual Best Books for Secondary School Students.\n",
      "> 誰是愛因斯坦?\n",
      "Why do not you tell me?\n",
      "> 誰是愛因斯坦?\n",
      "Please consider whether you can answer your own question.\n",
      "> 相對論是甚麼?\n",
      "Why do you ask that?\n",
      "> 相對論\n",
      "Very interesting.\n",
      "> 相對論\n",
      "相對論.\n",
      "> 相對論\n",
      "Why do you say that 相對論?\n",
      "> who is 蔡英文\n",
      "Tsai Ing-wen (born 31 August 1956) is a Taiwanese politician and academic serving as the seventh President of the Republic of China (Taiwan) since 2016. A member of the Democratic Progressive Party (DPP), Tsai is the first female president of Taiwan. She has served as Chair of the DPP since 2020, and previously from 2008 to 2012 and 2014 to 2018.\n",
      "Tsai grew up in Taipei and studied law and international trade, and later became a law professor at Soochow University School of Law and National Chengchi University after earning an LLB from National Taiwan University and an LLM from Cornell Law School. She later studied law at the London School of Economics and Political Science, with her thesis titled \"Unfair trade practices and safeguard actions\", and was awarded a Ph.D. in law from the University of London. In 1993, as an independent (without party affiliation), she was appointed to a series of governmental positions, including trade negotiator for WTO affairs, by the then-ruling Kuomintang (KMT) and was one of the chief drafters of the special state-to-state relations doctrine of President Lee Teng-hui.\n",
      "After DPP President Chen Shui-bian took office in 2000, Tsai served as Minister of the Mainland Affairs Council throughout Chen's first term as a non-partisan. She joined the DPP in 2004 and served briefly as a DPP-nominated at-large member of the Legislative Yuan. From there, she was appointed Vice Premier under Premier Su Tseng-chang until the cabinet's mass resignation in 2007. She was elected and assumed DPP leadership in 2008, following her party's defeat in the 2008 presidential election. She resigned as chair after losing the 2012 presidential election.\n",
      "Tsai ran for New Taipei City mayorship in the November 2010 municipal elections but was defeated by another former vice premier, Eric Chu (KMT). In April 2011, Tsai became the first female presidential candidate of a major party in the history of the Republic of China after defeating her former superior, Su Tseng-chang, in the DPP's primary by a slight margin. She was defeated by incumbent Kuomintang candidate Ma Ying-jeou in the fifth direct presidential election in 2012, but was elected in a landslide four years later in the sixth direct presidential election in 2016. Tsai is the second president from the Democratic Progressive Party. She is the first president to have never held a prior elected executive post and the first to be popularly elected without having previously served as the mayor of Taipei. She was re-elected with an increased share of the vote in the 2020 presidential election.Tsai was included in Time magazine's 100 Most Influential People of 2020.\n",
      "> who is 楊振寧?\n",
      "Yang Chen-Ning or Chen-Ning Yang (Chinese: 杨振宁; pinyin: Yáng Zhènníng; born 1 October 1922), also known as C. N. Yang or by the English name Frank Yang, is a Chinese theoretical physicist who made significant contributions to statistical mechanics, integrable systems, gauge theory, and both particle physics and condensed matter physics. He and Tsung-Dao Lee received the 1957 Nobel Prize in Physics for their work on parity nonconservation of weak interaction. The two proposed that one of the basic quantum-mechanics laws, the conservation of parity, is violated in the so-called weak nuclear reactions, those nuclear processes that result in the emission of beta or alpha particles. Yang is also well known for his collaboration with Robert Mills in developing non-abelian gauge theory, widely known as the Yang–Mills theory.\n"
     ]
    }
   ],
   "source": [
    "first_question=\"你好嗎?\"\n",
    "Chat(\"chatbot_data/Example.template\").converse(first_question)"
   ]
  },
  {
   "cell_type": "code",
   "execution_count": null,
   "metadata": {},
   "outputs": [],
   "source": [
    "# 記憶(memory)模組定義\n",
    "@register_call(\"increment_count\")\n",
    "def memory_get_set_example(session, query):\n",
    "    # 一律轉成小寫\n",
    "    name=query.strip().lower()\n",
    "    # 取得記憶的次數\n",
    "    old_count = session.memory.get(name, '0')\n",
    "    new_count = int(old_count) + 1\n",
    "    # 設定記憶次數\n",
    "    session.memory[name]=str(new_count)\n",
    "    return f\"count  {new_count}\""
   ]
  },
  {
   "cell_type": "code",
   "execution_count": 8,
   "metadata": {},
   "outputs": [
    {
     "name": "stdout",
     "output_type": "stream",
     "text": [
      "\n",
      "Memory get and set example\n",
      "\n",
      "Usage:\n",
      "  increment <name>\n",
      "  show <name>\n",
      "  remember <name> is <value>\n",
      "  tell me about <name>\n",
      "\n",
      "example:\n",
      "  increment mango\n",
      "  show mango\n",
      "  remember sun is red hot star in our solar system\n",
      "  tell me about sun\n",
      "\n",
      "> increment mango\n",
      "count  1\n",
      "> increment mango\n",
      "count  2\n",
      "> show mango\n",
      "2\n",
      "> remember sun is red hot star in our solar system\n",
      "I will remember sun is red hot star in our solar system\n",
      "> tell me about sun\n",
      "sun is red hot star in our solar system\n",
      "> remember PLG 5/2 比賽結果 is 夢想家勝\n",
      "I will remember plg 5/2 比賽結果 is 夢想家勝\n",
      "> tell me about plg 5/2\n",
      "I don't know about plg 5/2\n",
      "> tell me about plg 5/2比賽結果\n",
      "I don't know about plg 5/2比賽結果\n",
      "> tell me about plg 5/2 比賽結果\n",
      "plg 5/2 比賽結果 is 夢想家勝\n",
      "> quit\n",
      "Thank you. Have a good day!\n"
     ]
    }
   ],
   "source": [
    "# 記憶(memory)測試\n",
    "chat = Chat(\"chatbot_data/get_set_memory_example.template\")\n",
    "chat.converse(\"\"\"\n",
    "Memory get and set example\n",
    "\n",
    "Usage:\n",
    "  increment <name>\n",
    "  show <name>\n",
    "  remember <name> is <value>\n",
    "  tell me about <name>\n",
    "\n",
    "example:\n",
    "  increment mango\n",
    "  show mango\n",
    "  remember sun is red hot star in our solar system\n",
    "  tell me about sun\n",
    "\"\"\")"
   ]
  },
  {
   "cell_type": "code",
   "execution_count": null,
   "metadata": {},
   "outputs": [],
   "source": []
  }
 ],
 "metadata": {
  "kernelspec": {
   "display_name": "Python 3 (ipykernel)",
   "language": "python",
   "name": "python3"
  },
  "language_info": {
   "codemirror_mode": {
    "name": "ipython",
    "version": 3
   },
   "file_extension": ".py",
   "mimetype": "text/x-python",
   "name": "python",
   "nbconvert_exporter": "python",
   "pygments_lexer": "ipython3",
   "version": "3.8.8"
  }
 },
 "nbformat": 4,
 "nbformat_minor": 4
}
