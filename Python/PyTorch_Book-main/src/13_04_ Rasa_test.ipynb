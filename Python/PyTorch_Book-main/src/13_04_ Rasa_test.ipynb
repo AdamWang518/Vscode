{
 "cells": [
  {
   "cell_type": "markdown",
   "metadata": {},
   "source": [
    "# chatbotAI 測試"
   ]
  },
  {
   "cell_type": "markdown",
   "metadata": {},
   "source": [
    "## 載入相關套件"
   ]
  },
  {
   "cell_type": "code",
   "execution_count": 1,
   "metadata": {},
   "outputs": [],
   "source": [
    "# 載入相關套件\n",
    "from chatbot import demo"
   ]
  },
  {
   "cell_type": "markdown",
   "metadata": {},
   "source": [
    "## 功能展示"
   ]
  },
  {
   "cell_type": "code",
   "execution_count": 4,
   "metadata": {
    "scrolled": true
   },
   "outputs": [
    {
     "name": "stdout",
     "output_type": "stream",
     "text": [
      "Hi, how are you?\n",
      "> fine\n",
      "  Nice to know that you are fine. What else? \n",
      "> what is your name?\n",
      "My name is ChatBot\n",
      "> are you male?\n",
      "I may be male? -- what do you think?\n",
      "> how old are you?\n",
      "Perhaps you can answer your own question.\n",
      "> are you a kid?\n",
      "Perhaps you believe I am a kid.\n",
      "> should I get out tomorrow?\n",
      "Why do you ask that?\n",
      "> weather\n",
      "Let's change focus a bit... Tell me about your family.\n",
      "> I have one brother\n",
      "Now that you have one brother, what will you do next?\n",
      "> quit\n",
      "Thank you for talking with me.\n"
     ]
    }
   ],
   "source": [
    "# 功能展示\n",
    "demo()"
   ]
  },
  {
   "cell_type": "code",
   "execution_count": 2,
   "metadata": {},
   "outputs": [
    {
     "name": "stdout",
     "output_type": "stream",
     "text": [
      "Collecting wikipedia\n",
      "  Downloading wikipedia-1.4.0.tar.gz (27 kB)\n",
      "Requirement already satisfied: beautifulsoup4 in c:\\anaconda3\\lib\\site-packages (from wikipedia) (4.9.0)\n",
      "Requirement already satisfied: requests<3.0.0,>=2.0.0 in c:\\users\\mikec\\appdata\\roaming\\python\\python38\\site-packages (from wikipedia) (2.25.1)\n",
      "Requirement already satisfied: idna<3,>=2.5 in c:\\users\\mikec\\appdata\\roaming\\python\\python38\\site-packages (from requests<3.0.0,>=2.0.0->wikipedia) (2.10)\n",
      "Requirement already satisfied: certifi>=2017.4.17 in c:\\users\\mikec\\appdata\\roaming\\python\\python38\\site-packages (from requests<3.0.0,>=2.0.0->wikipedia) (2020.12.5)\n",
      "Requirement already satisfied: urllib3<1.27,>=1.21.1 in c:\\users\\mikec\\appdata\\roaming\\python\\python38\\site-packages (from requests<3.0.0,>=2.0.0->wikipedia) (1.26.4)\n",
      "Requirement already satisfied: chardet<5,>=3.0.2 in c:\\users\\mikec\\appdata\\roaming\\python\\python38\\site-packages (from requests<3.0.0,>=2.0.0->wikipedia) (3.0.4)\n",
      "Requirement already satisfied: soupsieve>1.2 in c:\\anaconda3\\lib\\site-packages (from beautifulsoup4->wikipedia) (2.0.1)\n",
      "Building wheels for collected packages: wikipedia"
     ]
    },
    {
     "name": "stderr",
     "output_type": "stream",
     "text": [
      "WARNING: You are using pip version 21.0.1; however, version 21.1 is available.\n",
      "You should consider upgrading via the 'c:\\anaconda3\\python.exe -m pip install --upgrade pip' command.\n"
     ]
    },
    {
     "name": "stdout",
     "output_type": "stream",
     "text": [
      "\n",
      "  Building wheel for wikipedia (setup.py): started\n",
      "  Building wheel for wikipedia (setup.py): finished with status 'done'\n",
      "  Created wheel for wikipedia: filename=wikipedia-1.4.0-py3-none-any.whl size=11686 sha256=3254c33e445e96ea0b3d73b3198120c24e49e9e9bb8d9afa9857d06c8c5b3fec\n",
      "  Stored in directory: c:\\users\\mikec\\appdata\\local\\pip\\cache\\wheels\\07\\93\\05\\72c05349177dca2e0ba31a33ba4f7907606f7ddef303517c6a\n",
      "Successfully built wikipedia\n",
      "Installing collected packages: wikipedia\n",
      "Successfully installed wikipedia-1.4.0\n"
     ]
    }
   ],
   "source": [
    "!pip install wikipedia"
   ]
  },
  {
   "cell_type": "code",
   "execution_count": null,
   "metadata": {},
   "outputs": [],
   "source": [
    "# 載入相關套件\n",
    "from chatbot import Chat, register_call\n",
    "import wikipedia\n",
    "\n",
    "# 註冊可接收的關鍵字及負責回應的模組\n",
    "@register_call(\"whoIs\")\n",
    "def who_is(session, query):\n",
    "    try:\n",
    "        # 回應\n",
    "        return wikipedia.summary(query)\n",
    "    # 例外處理\n",
    "    except Exception:\n",
    "        for new_query in wikipedia.search(query):\n",
    "            try:\n",
    "                return wikipedia.summary(new_query)\n",
    "            except Exception:\n",
    "                pass\n",
    "    return \"I don't know about \"+query"
   ]
  },
  {
   "cell_type": "code",
   "execution_count": 9,
   "metadata": {},
   "outputs": [],
   "source": [
    "import warnings\n",
    "\n",
    "warnings.filterwarnings('ignore')"
   ]
  },
  {
   "cell_type": "code",
   "execution_count": 10,
   "metadata": {},
   "outputs": [
    {
     "name": "stdout",
     "output_type": "stream",
     "text": [
      "Hi, how are you?\n",
      "> fine\n",
      "  Nice to know that you are fine. What else? \n",
      "> what is tensor\n",
      "In mathematics, a tensor is an algebraic object that describes a (multilinear) relationship between sets of algebraic objects related to a vector space. Objects that tensors may map between include vectors and scalars, and even other tensors. Tensors can take several different forms – for example: scalars and vectors (which are the simplest tensors), dual vectors, multilinear maps between vector spaces, and even some operations such as the dot product. Tensors are defined independent of any basis, although they are often referred to by their components in a basis related to a particular coordinate system.\n",
      "Tensors are important in physics because they provide a concise mathematical framework for formulating and solving physics problems in areas such as mechanics (stress, elasticity, fluid mechanics, moment of inertia, ...), electrodynamics (electromagnetic tensor, Maxwell tensor, permittivity, magnetic susceptibility, ...), or general relativity (stress–energy tensor, curvature tensor, ... ) and others. In applications, it is common to study situations in which a different tensor can occur at each point of an object; for example the stress within an object may vary from one location to another. This leads to the concept of a tensor field. In some areas, tensor fields are so ubiquitous that they are often simply called \"tensors\".\n",
      "Tensors were conceived in 1900 by Tullio Levi-Civita and Gregorio Ricci-Curbastro, who continued the earlier work of Bernhard Riemann and Elwin Bruno Christoffel and others, as part of the absolute differential calculus. The concept enabled an alternative formulation of the intrinsic differential geometry of a manifold in the form of the Riemann curvature tensor.\n",
      "> tell me about chatbot\n",
      "Kuki, formerly known as Mitsuku, is a chatbot created from Pandorabots AIML technology by Steve Worswick. It is a five-time winner of a Turing Test competition called the Loebner Prize (in 2013, 2016, 2017, 2018, and 2019), for which it holds a world record. Kuki is available to chat via an online portal, and on Facebook Messenger, Twitch group chat, Telegram and Kik Messenger, and was available on Skype, but was removed by its developer.\n",
      "\n",
      "\n",
      "> quit\n",
      "Thank you. Have a good day!\n"
     ]
    }
   ],
   "source": [
    "# 第一個問題\n",
    "first_question=\"Hi, how are you?\"\n",
    "\n",
    "# 使用的樣板\n",
    "Chat(\"chatbot_data/Example.template\").converse(first_question)"
   ]
  },
  {
   "cell_type": "code",
   "execution_count": 12,
   "metadata": {},
   "outputs": [
    {
     "name": "stdout",
     "output_type": "stream",
     "text": [
      "你好嗎?\n",
      "> 好\n",
      "I see.\n",
      "> who is 蔡英文\n",
      "Tsai Ing-wen (born 31 August 1956) is a Taiwanese politician and academic serving as the seventh president of Taiwan, since 2016. A member of the Democratic Progressive Party, Tsai is the first female president of Taiwan. She has served as Chair of the Democratic Progressive Party (DPP) since 2020, and previously from 2008 to 2012 and 2014 to 2018.\n",
      "Tsai studied law and international trade, and later became a law professor at Soochow University School of Law and National Chengchi University after earning an LLB from National Taiwan University and an LLM from Cornell Law School. She later studied law at the London School of Economics and Political Science, with her thesis titled \"Unfair trade practices and safeguard actions\", and was awarded a Ph.D. in law from the University of London. In 1993, as an independent (without party affiliation), she was appointed to a series of governmental positions, including trade negotiator for WTO affairs, by the then-ruling Kuomintang (KMT) and was one of the chief drafters of the special state-to-state relations doctrine of President Lee Teng-hui.\n",
      "After DPP President Chen Shui-bian took office in 2000, Tsai served as Minister of the Mainland Affairs Council throughout Chen's first term as a non-partisan. She joined the DPP in 2004 and served briefly as a DPP-nominated at-large member of the Legislative Yuan. From there, she was appointed Vice Premier under Premier Su Tseng-chang until the cabinet's mass resignation in 2007. She was elected and assumed DPP leadership in 2008, following her party's defeat in the 2008 presidential election. She resigned as chair after losing the 2012 presidential election.\n",
      "Tsai ran for New Taipei City mayorship in the November 2010 municipal elections but was defeated by another former vice premier, Eric Chu (KMT). In April 2011, Tsai became the first female presidential candidate of a major party in the history of the Republic of China after defeating her former superior, Su Tseng-chang, in the DPP's primary by a slight margin. She was defeated by incumbent Kuomintang candidate Ma Ying-jeou in the 5th direct presidential election in 2012, but was elected by a landslide four years later in the sixth direct presidential election in 2016. Tsai is the second President from the Democratic Progressive Party. She is the first President to have never held an elected executive post before serving as President and the first to be popularly elected without having previously served as the Mayor of Taipei. Tsai was re-elected as President with an increased share of the vote in the 2020 presidential election.Tsai is included in Time magazine's 100 Most Influential People of 2020.\n",
      "> quit\n",
      "Thank you. Have a good day!\n"
     ]
    }
   ],
   "source": [
    "first_question=\"你好嗎?\"\n",
    "Chat(\"chatbot_data/Example.template\").converse(first_question)"
   ]
  },
  {
   "cell_type": "code",
   "execution_count": 7,
   "metadata": {},
   "outputs": [],
   "source": [
    "# 記憶(memory)模組定義\n",
    "@register_call(\"increment_count\")\n",
    "def memory_get_set_example(session, query):\n",
    "    # 一律轉成小寫\n",
    "    name=query.strip().lower()\n",
    "    # 取得記憶的次數\n",
    "    old_count = session.memory.get(name, '0')\n",
    "    new_count = int(old_count) + 1\n",
    "    # 設定記憶次數\n",
    "    session.memory[name]=str(new_count)\n",
    "    return f\"count  {new_count}\""
   ]
  },
  {
   "cell_type": "code",
   "execution_count": 8,
   "metadata": {},
   "outputs": [
    {
     "name": "stdout",
     "output_type": "stream",
     "text": [
      "\n",
      "Memory get and set example\n",
      "\n",
      "Usage:\n",
      "  increment <name>\n",
      "  show <name>\n",
      "  remember <name> is <value>\n",
      "  tell me about <name>\n",
      "\n",
      "example:\n",
      "  increment mango\n",
      "  show mango\n",
      "  remember sun is red hot star in our solar system\n",
      "  tell me about sun\n",
      "\n",
      "> increment mango\n",
      "count  1\n",
      "> increment mango\n",
      "count  2\n",
      "> show mango\n",
      "2\n",
      "> remember sun is red hot star in our solar system\n",
      "I will remember sun is red hot star in our solar system\n",
      "> tell me about sun\n",
      "sun is red hot star in our solar system\n",
      "> remember PLG 5/2 比賽結果 is 夢想家勝\n",
      "I will remember plg 5/2 比賽結果 is 夢想家勝\n",
      "> tell me about plg 5/2\n",
      "I don't know about plg 5/2\n",
      "> tell me about plg 5/2比賽結果\n",
      "I don't know about plg 5/2比賽結果\n",
      "> tell me about plg 5/2 比賽結果\n",
      "plg 5/2 比賽結果 is 夢想家勝\n",
      "> quit\n",
      "Thank you. Have a good day!\n"
     ]
    }
   ],
   "source": [
    "# 記憶(memory)測試\n",
    "chat = Chat(\"chatbot_data/get_set_memory_example.template\")\n",
    "chat.converse(\"\"\"\n",
    "Memory get and set example\n",
    "\n",
    "Usage:\n",
    "  increment <name>\n",
    "  show <name>\n",
    "  remember <name> is <value>\n",
    "  tell me about <name>\n",
    "\n",
    "example:\n",
    "  increment mango\n",
    "  show mango\n",
    "  remember sun is red hot star in our solar system\n",
    "  tell me about sun\n",
    "\"\"\")"
   ]
  },
  {
   "cell_type": "code",
   "execution_count": null,
   "metadata": {},
   "outputs": [],
   "source": []
  }
 ],
 "metadata": {
  "kernelspec": {
   "display_name": "Python 3",
   "language": "python",
   "name": "python3"
  },
  "language_info": {
   "codemirror_mode": {
    "name": "ipython",
    "version": 3
   },
   "file_extension": ".py",
   "mimetype": "text/x-python",
   "name": "python",
   "nbconvert_exporter": "python",
   "pygments_lexer": "ipython3",
   "version": "3.8.3"
  }
 },
 "nbformat": 4,
 "nbformat_minor": 4
}
