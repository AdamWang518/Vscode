{
 "cells": [
  {
   "cell_type": "markdown",
   "metadata": {},
   "source": [
    "## 載入套件"
   ]
  },
  {
   "cell_type": "code",
   "execution_count": 2,
   "metadata": {},
   "outputs": [],
   "source": [
    "import torch\n",
    "from torch import nn\n",
    "from torch.nn import functional as F"
   ]
  },
  {
   "cell_type": "markdown",
   "metadata": {},
   "source": [
    "# [Sequential model](https://pytorch.org/docs/stable/generated/torch.nn.Sequential.html) 兩種寫法"
   ]
  },
  {
   "cell_type": "code",
   "execution_count": 19,
   "metadata": {},
   "outputs": [],
   "source": [
    "model = nn.Sequential(\n",
    "          nn.Linear(256,20),\n",
    "          nn.ReLU(),\n",
    "          nn.Linear(20,64),\n",
    "          nn.ReLU(),\n",
    "          nn.Softmax(dim=1),\n",
    "        )"
   ]
  },
  {
   "cell_type": "code",
   "execution_count": 25,
   "metadata": {},
   "outputs": [],
   "source": [
    "# 使用 OrderedDict 可指定名稱\n",
    "from collections import OrderedDict\n",
    "model = nn.Sequential(OrderedDict([\n",
    "          ('linear1', nn.Linear(256,20)),\n",
    "          ('relu1', nn.ReLU()),\n",
    "          ('linear2', nn.Linear(20,64)),\n",
    "          ('relu2', nn.ReLU()),\n",
    "          ('softmax', nn.Softmax(dim=1))\n",
    "        ]))"
   ]
  },
  {
   "cell_type": "code",
   "execution_count": 26,
   "metadata": {},
   "outputs": [
    {
     "data": {
      "text/plain": [
       "==========================================================================================\n",
       "Layer (type:depth-idx)                   Output Shape              Param #\n",
       "==========================================================================================\n",
       "Sequential                               --                        --\n",
       "├─Linear: 1-1                            [1, 20]                   5,140\n",
       "├─ReLU: 1-2                              [1, 20]                   --\n",
       "├─Linear: 1-3                            [1, 64]                   1,344\n",
       "├─ReLU: 1-4                              [1, 64]                   --\n",
       "├─Softmax: 1-5                           [1, 64]                   --\n",
       "==========================================================================================\n",
       "Total params: 6,484\n",
       "Trainable params: 6,484\n",
       "Non-trainable params: 0\n",
       "Total mult-adds (M): 0.01\n",
       "==========================================================================================\n",
       "Input size (MB): 0.00\n",
       "Forward/backward pass size (MB): 0.00\n",
       "Params size (MB): 0.03\n",
       "Estimated Total Size (MB): 0.03\n",
       "=========================================================================================="
      ]
     },
     "execution_count": 26,
     "metadata": {},
     "output_type": "execute_result"
    }
   ],
   "source": [
    "from torchinfo import summary\n",
    "summary(model, (1, 256))"
   ]
  },
  {
   "cell_type": "markdown",
   "metadata": {},
   "source": [
    "# [Functional API](https://pytorch.org/docs/stable/nn.functional.html) 寫法"
   ]
  },
  {
   "cell_type": "code",
   "execution_count": 41,
   "metadata": {},
   "outputs": [],
   "source": [
    "# linear 用法\n",
    "from torch.nn import functional as F\n",
    "\n",
    "inputs = torch.randn(100, 256)\n",
    "weight = torch.randn(20, 256)\n",
    "x = F.linear(inputs, weight)"
   ]
  },
  {
   "cell_type": "code",
   "execution_count": 37,
   "metadata": {},
   "outputs": [],
   "source": [
    "inputs = torch.randn(100, 256)\n",
    "x = nn.Linear(256,20)(inputs)\n",
    "x = F.relu(x)\n",
    "x = nn.Linear(20, 10)(x)\n",
    "x = F.relu(x)\n",
    "x = F.softmax(x, dim=1)"
   ]
  },
  {
   "cell_type": "code",
   "execution_count": 39,
   "metadata": {
    "scrolled": true
   },
   "outputs": [
    {
     "data": {
      "text/plain": [
       "==========================================================================================\n",
       "Layer (type:depth-idx)                   Output Shape              Param #\n",
       "==========================================================================================\n",
       "Sequential                               --                        --\n",
       "├─Linear: 1-1                            [1, 20]                   5,140\n",
       "├─ReLU: 1-2                              [1, 20]                   --\n",
       "├─Linear: 1-3                            [1, 64]                   1,344\n",
       "├─ReLU: 1-4                              [1, 64]                   --\n",
       "├─Softmax: 1-5                           [1, 64]                   --\n",
       "==========================================================================================\n",
       "Total params: 6,484\n",
       "Trainable params: 6,484\n",
       "Non-trainable params: 0\n",
       "Total mult-adds (M): 0.01\n",
       "==========================================================================================\n",
       "Input size (MB): 0.00\n",
       "Forward/backward pass size (MB): 0.00\n",
       "Params size (MB): 0.03\n",
       "Estimated Total Size (MB): 0.03\n",
       "=========================================================================================="
      ]
     },
     "execution_count": 39,
     "metadata": {},
     "output_type": "execute_result"
    }
   ],
   "source": [
    "from torchinfo import summary\n",
    "summary(model, (1, 256))"
   ]
  },
  {
   "cell_type": "markdown",
   "metadata": {},
   "source": [
    "# 使用類別定義模型"
   ]
  },
  {
   "cell_type": "code",
   "execution_count": 50,
   "metadata": {},
   "outputs": [],
   "source": [
    "class Net(nn.Module):\n",
    "    def __init__(self):\n",
    "        super(Net, self).__init__()\n",
    "        self.fc1 = nn.Linear(784,256)\n",
    "        self.fc2 = nn.Linear(256, 10)\n",
    "        self.dropout1 = nn.Dropout(0.2)\n",
    "        self.dropout2 = nn.Dropout(0.2)\n",
    "\n",
    "    def forward(self, x):\n",
    "        x = torch.flatten(x, 1)\n",
    "        x = self.fc1(x)\n",
    "        x = self.dropout1(x)\n",
    "        x = self.fc2(x)\n",
    "        x = self.dropout2(x)\n",
    "        output = F.softmax(x, dim=1)\n",
    "        return output"
   ]
  },
  {
   "cell_type": "code",
   "execution_count": 53,
   "metadata": {},
   "outputs": [
    {
     "data": {
      "text/plain": [
       "==========================================================================================\n",
       "Layer (type:depth-idx)                   Output Shape              Param #\n",
       "==========================================================================================\n",
       "Net                                      --                        --\n",
       "├─Linear: 1-1                            [1, 256]                  200,960\n",
       "├─Dropout: 1-2                           [1, 256]                  --\n",
       "├─Linear: 1-3                            [1, 10]                   2,570\n",
       "├─Dropout: 1-4                           [1, 10]                   --\n",
       "==========================================================================================\n",
       "Total params: 203,530\n",
       "Trainable params: 203,530\n",
       "Non-trainable params: 0\n",
       "Total mult-adds (M): 0.20\n",
       "==========================================================================================\n",
       "Input size (MB): 0.00\n",
       "Forward/backward pass size (MB): 0.00\n",
       "Params size (MB): 0.81\n",
       "Estimated Total Size (MB): 0.82\n",
       "=========================================================================================="
      ]
     },
     "execution_count": 53,
     "metadata": {},
     "output_type": "execute_result"
    }
   ],
   "source": [
    "from torchinfo import summary\n",
    "\n",
    "model = Net()\n",
    "summary(model, (1, 28, 28))"
   ]
  },
  {
   "cell_type": "code",
   "execution_count": null,
   "metadata": {},
   "outputs": [],
   "source": []
  }
 ],
 "metadata": {
  "kernelspec": {
   "display_name": "Python 3",
   "language": "python",
   "name": "python3"
  },
  "language_info": {
   "codemirror_mode": {
    "name": "ipython",
    "version": 3
   },
   "file_extension": ".py",
   "mimetype": "text/x-python",
   "name": "python",
   "nbconvert_exporter": "python",
   "pygments_lexer": "ipython3",
   "version": "3.8.8"
  }
 },
 "nbformat": 4,
 "nbformat_minor": 4
}
