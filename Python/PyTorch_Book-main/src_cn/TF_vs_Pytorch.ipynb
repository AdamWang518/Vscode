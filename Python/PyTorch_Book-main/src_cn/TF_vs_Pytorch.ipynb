{
 "cells": [
  {
   "cell_type": "markdown",
   "id": "dd0a8a7f",
   "metadata": {},
   "source": [
    "# Tensorflow"
   ]
  },
  {
   "cell_type": "code",
   "execution_count": 1,
   "id": "9b2ac71e",
   "metadata": {},
   "outputs": [],
   "source": [
    "import tensorflow as tf\n",
    "\n",
    "mnist = tf.keras.datasets.mnist\n",
    "\n",
    "# 载入 MNIST 手写阿拉伯数字资料\n",
    "(x_train, y_train),(x_test, y_test) = mnist.load_data()\n",
    "\n",
    "# 特征缩放，使用常态化(Normalization)，公式 = (x - min) / (max - min)\n",
    "x_train_norm, x_test_norm = x_train / 255.0, x_test / 255.0\n",
    "\n",
    "# 转为 Dataset，含 X/Y 资料\n",
    "train_ds = tf.data.Dataset.from_tensor_slices((x_train_norm, y_train))"
   ]
  },
  {
   "cell_type": "code",
   "execution_count": 2,
   "id": "f81abbf0",
   "metadata": {},
   "outputs": [],
   "source": [
    "# 建立模型\n",
    "model = tf.keras.models.Sequential([\n",
    "  tf.keras.layers.Flatten(input_shape=(28, 28)),\n",
    "  tf.keras.layers.Dense(128, activation='relu'),\n",
    "  tf.keras.layers.Dropout(0.2),\n",
    "  tf.keras.layers.Dense(10, activation='softmax')\n",
    "])"
   ]
  },
  {
   "cell_type": "code",
   "execution_count": 3,
   "id": "f0824e1a",
   "metadata": {},
   "outputs": [],
   "source": [
    "# 设定优化器(optimizer)、损失函数(loss)、效能衡量指标(metrics)的类别\n",
    "model.compile(optimizer='adam',\n",
    "              loss='sparse_categorical_crossentropy',\n",
    "              metrics=['accuracy'])"
   ]
  },
  {
   "cell_type": "markdown",
   "id": "0780d7f6",
   "metadata": {},
   "source": [
    "## 或是 one-hot encoding"
   ]
  },
  {
   "cell_type": "code",
   "execution_count": null,
   "id": "f2262ca1",
   "metadata": {},
   "outputs": [],
   "source": [
    "# 将 training 的 label 进行 one-hot encoding，例如数字 7 经过 One-hot encoding 转换后是 0000000100，即第8个值为 1\n",
    "y_train = tf.keras.utils.to_categorical(y_train) \n",
    "y_test = tf.keras.utils.to_categorical(y_test) \n",
    "model.compile(optimizer='adam',\n",
    "              loss='categorical_crossentropy',\n",
    "              metrics=['accuracy'])"
   ]
  },
  {
   "cell_type": "markdown",
   "id": "5cffd629",
   "metadata": {},
   "source": [
    "## 模型训练"
   ]
  },
  {
   "cell_type": "code",
   "execution_count": 4,
   "id": "1a80f4f3",
   "metadata": {},
   "outputs": [
    {
     "name": "stdout",
     "output_type": "stream",
     "text": [
      "Epoch 1/5\n",
      "1500/1500 [==============================] - 6s 3ms/step - loss: 0.3214 - accuracy: 0.9073 - val_loss: 0.1567 - val_accuracy: 0.9563\n",
      "Epoch 2/5\n",
      "1500/1500 [==============================] - 5s 3ms/step - loss: 0.1565 - accuracy: 0.9538 - val_loss: 0.1150 - val_accuracy: 0.9671\n",
      "Epoch 3/5\n",
      "1500/1500 [==============================] - 5s 3ms/step - loss: 0.1170 - accuracy: 0.9647 - val_loss: 0.1005 - val_accuracy: 0.9718\n",
      "Epoch 4/5\n",
      "1500/1500 [==============================] - 5s 3ms/step - loss: 0.0946 - accuracy: 0.9717 - val_loss: 0.0934 - val_accuracy: 0.9734\n",
      "Epoch 5/5\n",
      "1500/1500 [==============================] - 5s 3ms/step - loss: 0.0804 - accuracy: 0.9747 - val_loss: 0.0839 - val_accuracy: 0.9753\n"
     ]
    },
    {
     "data": {
      "text/plain": [
       "<keras.callbacks.History at 0x19317db9a60>"
      ]
     },
     "execution_count": 4,
     "metadata": {},
     "output_type": "execute_result"
    }
   ],
   "source": [
    "model.fit(x_train_norm, y_train, epochs=5, validation_split=0.2)"
   ]
  },
  {
   "cell_type": "code",
   "execution_count": 5,
   "id": "93d0a048",
   "metadata": {
    "scrolled": true
   },
   "outputs": [
    {
     "name": "stdout",
     "output_type": "stream",
     "text": [
      "loss: 0.0801\n",
      "accuracy: 0.9750\n"
     ]
    }
   ],
   "source": [
    "# 评分(Score Model)\n",
    "score=model.evaluate(x_test_norm, y_test, verbose=0)\n",
    "\n",
    "for i, x in enumerate(score):\n",
    "    print(f'{model.metrics_names[i]}: {score[i]:.4f}')"
   ]
  },
  {
   "cell_type": "markdown",
   "id": "408cde3c",
   "metadata": {},
   "source": [
    "# PyTorch"
   ]
  },
  {
   "cell_type": "code",
   "execution_count": 6,
   "id": "7579902e",
   "metadata": {},
   "outputs": [],
   "source": [
    "import os\n",
    "import torch\n",
    "from torch import nn\n",
    "from torch.nn import functional as F\n",
    "from torch.utils.data import DataLoader, random_split\n",
    "from torchmetrics import Accuracy\n",
    "from torchvision import transforms\n",
    "from torchvision.datasets import MNIST"
   ]
  },
  {
   "cell_type": "code",
   "execution_count": 8,
   "id": "d9f7d0e5",
   "metadata": {},
   "outputs": [],
   "source": [
    "PATH_DATASETS = \"\" # 预设路径\n",
    "# 下载 MNIST 手写阿拉伯数字 训练资料\n",
    "train_ds = MNIST(PATH_DATASETS, train=True, download=True, \n",
    "                 transform=transforms.ToTensor())\n",
    "\n",
    "# 下载测试资料\n",
    "test_ds = MNIST(PATH_DATASETS, train=False, download=True, \n",
    "                 transform=transforms.ToTensor())"
   ]
  },
  {
   "cell_type": "code",
   "execution_count": 7,
   "id": "1017f62b",
   "metadata": {},
   "outputs": [
    {
     "data": {
      "text/plain": [
       "'cuda'"
      ]
     },
     "execution_count": 7,
     "metadata": {},
     "output_type": "execute_result"
    }
   ],
   "source": [
    "device = torch.device(\"cuda\" if torch.cuda.is_available() else \"cpu\")\n",
    "\"cuda\" if torch.cuda.is_available() else \"cpu\""
   ]
  },
  {
   "cell_type": "code",
   "execution_count": 9,
   "id": "5872dd48",
   "metadata": {},
   "outputs": [],
   "source": [
    "# 建立模型\n",
    "model = torch.nn.Sequential(\n",
    "    torch.nn.Flatten(),\n",
    "    torch.nn.Linear(28 * 28, 256), \n",
    "    torch.nn.Dropout(0.2),\n",
    "    torch.nn.Linear(256, 10), \n",
    "    # 使用nn.CrossEntropyLoss()时，不需要将输出经过softmax层，否则计算的损失会有误\n",
    "    # torch.nn.Softmax(dim=1)\n",
    ").to(device)"
   ]
  },
  {
   "cell_type": "markdown",
   "id": "e60dc117",
   "metadata": {},
   "source": [
    "## 模型训练"
   ]
  },
  {
   "cell_type": "code",
   "execution_count": null,
   "id": "e06cabde",
   "metadata": {},
   "outputs": [],
   "source": [
    "epochs = 5\n",
    "lr=0.1\n",
    "BATCH_SIZE = 1024  # 批量\n",
    "\n",
    "# 建立 DataLoader\n",
    "train_loader = DataLoader(train_ds, batch_size=600)\n",
    "\n",
    "# 设定优化器(optimizer)\n",
    "# optimizer = torch.optim.Adam(model.parameters(), lr=lr)\n",
    "optimizer = torch.optim.Adadelta(model.parameters(), lr=lr)\n",
    "\n",
    "criterion = nn.CrossEntropyLoss()"
   ]
  },
  {
   "cell_type": "code",
   "execution_count": 10,
   "id": "6ad50a8e",
   "metadata": {},
   "outputs": [
    {
     "name": "stdout",
     "output_type": "stream",
     "text": [
      "Epoch 1: [    0 / 60000] (0 %)  Loss: 2.321503\n",
      "Epoch 1: [ 6000 / 60000] (10 %)  Loss: 2.024913\n",
      "Epoch 1: [12000 / 60000] (20 %)  Loss: 1.808975\n",
      "Epoch 1: [18000 / 60000] (30 %)  Loss: 1.580163\n",
      "Epoch 1: [24000 / 60000] (40 %)  Loss: 1.356292\n",
      "Epoch 1: [30000 / 60000] (50 %)  Loss: 1.239593\n",
      "Epoch 1: [36000 / 60000] (60 %)  Loss: 1.009667\n",
      "Epoch 1: [42000 / 60000] (70 %)  Loss: 0.977577\n",
      "Epoch 1: [48000 / 60000] (80 %)  Loss: 0.717749\n",
      "Epoch 1: [54000 / 60000] (90 %)  Loss: 0.738873\n",
      "Epoch 2: [    0 / 60000] (0 %)  Loss: 0.692975\n",
      "Epoch 2: [ 6000 / 60000] (10 %)  Loss: 0.545819\n",
      "Epoch 2: [12000 / 60000] (20 %)  Loss: 0.643318\n",
      "Epoch 2: [18000 / 60000] (30 %)  Loss: 0.552558\n",
      "Epoch 2: [24000 / 60000] (40 %)  Loss: 0.576016\n",
      "Epoch 2: [30000 / 60000] (50 %)  Loss: 0.625852\n",
      "Epoch 2: [36000 / 60000] (60 %)  Loss: 0.511515\n",
      "Epoch 2: [42000 / 60000] (70 %)  Loss: 0.613690\n",
      "Epoch 2: [48000 / 60000] (80 %)  Loss: 0.421063\n",
      "Epoch 2: [54000 / 60000] (90 %)  Loss: 0.463095\n",
      "Epoch 3: [    0 / 60000] (0 %)  Loss: 0.462868\n",
      "Epoch 3: [ 6000 / 60000] (10 %)  Loss: 0.362712\n",
      "Epoch 3: [12000 / 60000] (20 %)  Loss: 0.488533\n",
      "Epoch 3: [18000 / 60000] (30 %)  Loss: 0.396965\n",
      "Epoch 3: [24000 / 60000] (40 %)  Loss: 0.451669\n",
      "Epoch 3: [30000 / 60000] (50 %)  Loss: 0.490395\n",
      "Epoch 3: [36000 / 60000] (60 %)  Loss: 0.414004\n",
      "Epoch 3: [42000 / 60000] (70 %)  Loss: 0.536607\n",
      "Epoch 3: [48000 / 60000] (80 %)  Loss: 0.348160\n",
      "Epoch 3: [54000 / 60000] (90 %)  Loss: 0.393325\n",
      "Epoch 4: [    0 / 60000] (0 %)  Loss: 0.396946\n",
      "Epoch 4: [ 6000 / 60000] (10 %)  Loss: 0.304111\n",
      "Epoch 4: [12000 / 60000] (20 %)  Loss: 0.434123\n",
      "Epoch 4: [18000 / 60000] (30 %)  Loss: 0.343697\n",
      "Epoch 4: [24000 / 60000] (40 %)  Loss: 0.405952\n",
      "Epoch 4: [30000 / 60000] (50 %)  Loss: 0.423981\n",
      "Epoch 4: [36000 / 60000] (60 %)  Loss: 0.369767\n",
      "Epoch 4: [42000 / 60000] (70 %)  Loss: 0.497581\n",
      "Epoch 4: [48000 / 60000] (80 %)  Loss: 0.312723\n",
      "Epoch 4: [54000 / 60000] (90 %)  Loss: 0.357173\n",
      "Epoch 5: [    0 / 60000] (0 %)  Loss: 0.358275\n",
      "Epoch 5: [ 6000 / 60000] (10 %)  Loss: 0.279598\n",
      "Epoch 5: [12000 / 60000] (20 %)  Loss: 0.404431\n",
      "Epoch 5: [18000 / 60000] (30 %)  Loss: 0.314884\n",
      "Epoch 5: [24000 / 60000] (40 %)  Loss: 0.385256\n",
      "Epoch 5: [30000 / 60000] (50 %)  Loss: 0.391526\n",
      "Epoch 5: [36000 / 60000] (60 %)  Loss: 0.347643\n",
      "Epoch 5: [42000 / 60000] (70 %)  Loss: 0.474301\n",
      "Epoch 5: [48000 / 60000] (80 %)  Loss: 0.291106\n",
      "Epoch 5: [54000 / 60000] (90 %)  Loss: 0.351743\n"
     ]
    }
   ],
   "source": [
    "model.train()\n",
    "loss_list = []    \n",
    "for epoch in range(1, epochs + 1):\n",
    "    for batch_idx, (data, target) in enumerate(train_loader):\n",
    "        data, target = data.to(device), target.to(device)\n",
    "#         if batch_idx == 0 and epoch == 1: print(data[0])\n",
    "\n",
    "        optimizer.zero_grad()\n",
    "        output = model(data)\n",
    "        loss = criterion(output, target)\n",
    "        loss.backward()\n",
    "        optimizer.step()\n",
    "\n",
    "        if batch_idx % 10 == 0:\n",
    "            loss_list.append(loss.item())\n",
    "            batch = batch_idx * len(data)\n",
    "            data_count = len(train_loader.dataset)\n",
    "            percentage = (100. * batch_idx / len(train_loader))\n",
    "            print(f'Epoch {epoch}: [{batch:5d} / {data_count}] ({percentage:.0f} %)' +\n",
    "                  f'  Loss: {loss.item():.6f}')"
   ]
  },
  {
   "cell_type": "code",
   "execution_count": 11,
   "id": "de7f91d0",
   "metadata": {},
   "outputs": [
    {
     "name": "stdout",
     "output_type": "stream",
     "text": [
      "平均损失: 0.0003, 准确率: 9059/10000 (91%)\n",
      "\n"
     ]
    }
   ],
   "source": [
    "# 建立 DataLoader\n",
    "test_loader = DataLoader(test_ds, shuffle=False, batch_size=BATCH_SIZE)\n",
    "\n",
    "model.eval()\n",
    "test_loss = 0\n",
    "correct = 0\n",
    "with torch.no_grad():\n",
    "    for data, target in test_loader:\n",
    "        data, target = data.to(device), target.to(device)\n",
    "        output = model(data)\n",
    "        \n",
    "        # sum up batch loss\n",
    "        test_loss += criterion(output, target).item()\n",
    "        \n",
    "        # 预测\n",
    "        pred = output.argmax(dim=1, keepdim=True)  \n",
    "        \n",
    "        # 正确笔数\n",
    "        correct += pred.eq(target.view_as(pred)).sum().item()\n",
    "\n",
    "# 平均损失\n",
    "test_loss /= len(test_loader.dataset)\n",
    "# 显示测试结果\n",
    "batch = batch_idx * len(data)\n",
    "data_count = len(test_loader.dataset)\n",
    "percentage = 100. * correct / data_count\n",
    "print(f'平均损失: {test_loss:.4f}, 准确率: {correct}/{data_count}' + \n",
    "      f' ({percentage:.0f}%)\\n')"
   ]
  },
  {
   "cell_type": "code",
   "execution_count": null,
   "id": "320276a0",
   "metadata": {},
   "outputs": [],
   "source": []
  }
 ],
 "metadata": {
  "kernelspec": {
   "display_name": "Python 3 (ipykernel)",
   "language": "python",
   "name": "python3"
  },
  "language_info": {
   "codemirror_mode": {
    "name": "ipython",
    "version": 3
   },
   "file_extension": ".py",
   "mimetype": "text/x-python",
   "name": "python",
   "nbconvert_exporter": "python",
   "pygments_lexer": "ipython3",
   "version": "3.9.7"
  }
 },
 "nbformat": 4,
 "nbformat_minor": 5
}
