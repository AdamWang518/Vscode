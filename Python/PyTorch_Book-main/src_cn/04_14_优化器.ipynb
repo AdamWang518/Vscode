{
 "cells": [
  {
   "cell_type": "markdown",
   "metadata": {},
   "source": [
    "# [优化器(Optimizers)](https://pytorch.org/docs/stable/optim.html#algorithms)"
   ]
  },
  {
   "cell_type": "markdown",
   "metadata": {},
   "source": [
    "## 随机梯度下降法(Stochastic Gradient Decent, SGD)"
   ]
  },
  {
   "cell_type": "code",
   "execution_count": 8,
   "metadata": {
    "scrolled": false
   },
   "outputs": [],
   "source": [
    "# 载入套件\n",
    "import torch\n",
    "\n",
    "# 建立模型\n",
    "model = torch.nn.Sequential(\n",
    "    torch.nn.Flatten(),\n",
    "    torch.nn.Linear(28 * 28, 256), \n",
    "    torch.nn.Dropout(0.2),\n",
    "    torch.nn.Linear(256, 10), \n",
    ")\n",
    "\n",
    "criterion = torch.nn.CrossEntropyLoss()\n",
    "\n",
    "# 随机梯度下降法(SGD)\n",
    "optimizer = torch.optim.SGD(model.parameters(), lr=0.1, momentum=0.9)\n",
    "\n",
    "optimizer.zero_grad()\n",
    "input = torch.randn(3, 28 * 28, requires_grad=True) \n",
    "target = torch.empty(3, dtype=torch.long).random_(5) # 目标值\n",
    "loss = criterion(model(input), target)\n",
    "loss.backward()\n",
    "optimizer.step()"
   ]
  },
  {
   "cell_type": "markdown",
   "metadata": {},
   "source": [
    "## 交叉熵(Cross Entropy)"
   ]
  },
  {
   "cell_type": "code",
   "execution_count": 4,
   "metadata": {
    "scrolled": false
   },
   "outputs": [
    {
     "data": {
      "text/plain": [
       "tensor(2.4065, grad_fn=<NllLossBackward0>)"
      ]
     },
     "execution_count": 4,
     "metadata": {},
     "output_type": "execute_result"
    }
   ],
   "source": [
    "loss = torch.nn.CrossEntropyLoss()  # 产生物件\n",
    "input = torch.randn(3, 5, requires_grad=True) \n",
    "target = torch.empty(3, dtype=torch.long).random_(5) # 目标值\n",
    "output = loss(input, target) # 计算预测值与目标值之均方误差\n",
    "output.backward()\n",
    "output"
   ]
  },
  {
   "cell_type": "code",
   "execution_count": 7,
   "metadata": {},
   "outputs": [
    {
     "data": {
      "text/plain": [
       "tensor(1.9030, grad_fn=<DivBackward1>)"
      ]
     },
     "execution_count": 7,
     "metadata": {},
     "output_type": "execute_result"
    }
   ],
   "source": [
    "# 计算机率\n",
    "loss = torch.nn.CrossEntropyLoss()  # 产生物件\n",
    "input = torch.randn(3, 5, requires_grad=True) \n",
    "target = torch.randn(3, 5).softmax(dim=1) # 目标值\n",
    "output = loss(input, target) # 计算预测值与目标值之均方误差\n",
    "output.backward()\n",
    "output"
   ]
  },
  {
   "cell_type": "code",
   "execution_count": null,
   "metadata": {},
   "outputs": [],
   "source": []
  }
 ],
 "metadata": {
  "kernelspec": {
   "display_name": "Python 3 (ipykernel)",
   "language": "python",
   "name": "python3"
  },
  "language_info": {
   "codemirror_mode": {
    "name": "ipython",
    "version": 3
   },
   "file_extension": ".py",
   "mimetype": "text/x-python",
   "name": "python",
   "nbconvert_exporter": "python",
   "pygments_lexer": "ipython3",
   "version": "3.9.7"
  }
 },
 "nbformat": 4,
 "nbformat_minor": 4
}
