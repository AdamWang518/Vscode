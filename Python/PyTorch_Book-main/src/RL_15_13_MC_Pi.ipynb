{
 "cells": [
  {
   "cell_type": "markdown",
   "metadata": {},
   "source": [
    "# 以蒙地卡羅演算法求圓周率(π)"
   ]
  },
  {
   "cell_type": "code",
   "execution_count": 2,
   "metadata": {},
   "outputs": [],
   "source": [
    "# 載入相關套件\n",
    "import random"
   ]
  },
  {
   "cell_type": "code",
   "execution_count": 4,
   "metadata": {},
   "outputs": [
    {
     "data": {
      "text/plain": [
       "3.1418028"
      ]
     },
     "execution_count": 4,
     "metadata": {},
     "output_type": "execute_result"
    }
   ],
   "source": [
    "# 模擬一千萬次\n",
    "run_count=10000000\n",
    "list1=[]\n",
    "\n",
    "# 在 X:(-0.5, -0.5)，Y:(0.5, 0.5) 範圍內產生一千萬個點\n",
    "for _ in range(run_count):\n",
    "    list1.append([random.random()-0.5, random.random()-0.5])\n",
    "    \n",
    "in_circle_count=0    \n",
    "for i in range(run_count):\n",
    "    # 計算在圓內的點，即 (X^2 + Y^2 <= 0.5 ^ 2)，其中 半徑=0.5\n",
    "    if list1[i][0]**2 + list1[i][1]**2 <= 0.5 ** 2:\n",
    "        in_circle_count+=1 \n",
    "        \n",
    "# 正方形面積： 寬高各為2r，故面積=4*(r**2)\n",
    "# 圓形面積： pi * (r ** 2)\n",
    "# pi = 圓形點數 / 正方形點數 \n",
    "pi=(in_circle_count/run_count) * 4\n",
    "pi"
   ]
  },
  {
   "cell_type": "code",
   "execution_count": null,
   "metadata": {},
   "outputs": [],
   "source": []
  }
 ],
 "metadata": {
  "kernelspec": {
   "display_name": "Python 3",
   "language": "python",
   "name": "python3"
  },
  "language_info": {
   "codemirror_mode": {
    "name": "ipython",
    "version": 3
   },
   "file_extension": ".py",
   "mimetype": "text/x-python",
   "name": "python",
   "nbconvert_exporter": "python",
   "pygments_lexer": "ipython3",
   "version": "3.8.3"
  }
 },
 "nbformat": 4,
 "nbformat_minor": 4
}
