{
 "cells": [
  {
   "cell_type": "code",
   "execution_count": 1,
   "id": "97f262b9",
   "metadata": {},
   "outputs": [],
   "source": [
    "import torch\n",
    "import torchaudio\n",
    "import IPython\n",
    "from IPython.display import Audio\n",
    "import matplotlib.pyplot as plt\n",
    "import os\n",
    "import math"
   ]
  },
  {
   "cell_type": "code",
   "execution_count": 2,
   "id": "8aa309fb",
   "metadata": {},
   "outputs": [],
   "source": [
    "# 档案来源：https://pytorch-tutorial-assets.s3.amazonaws.com/steam-train-whistle-daniel_simon.wav\n",
    "wav_file = './audio/steam-train-whistle-daniel_simon.wav'\n",
    "waveform, sample_rate = torchaudio.load(wav_file)"
   ]
  },
  {
   "cell_type": "code",
   "execution_count": 3,
   "id": "fc3c6f97",
   "metadata": {},
   "outputs": [],
   "source": [
    "def _get_sample(path, resample=None):\n",
    "    effects = [\n",
    "        [\"remix\", \"1\"]\n",
    "    ]\n",
    "    if resample:\n",
    "        effects.extend([\n",
    "            [\"lowpass\", f\"{resample // 2}\"],\n",
    "            [\"rate\", f'{resample}'],\n",
    "        ])\n",
    "    return torchaudio.sox_effects.apply_effects_file(path, effects=effects)\n",
    "\n",
    "def get_sample(*, resample=None):\n",
    "    return _get_sample(wav_file, resample=resample)\n"
   ]
  },
  {
   "cell_type": "code",
   "execution_count": 4,
   "id": "40d64fdc",
   "metadata": {},
   "outputs": [
    {
     "ename": "RuntimeError",
     "evalue": "torchaudio.sox_effects.sox_effects.apply_effects_file requires sox",
     "output_type": "error",
     "traceback": [
      "\u001b[1;31m---------------------------------------------------------------------------\u001b[0m",
      "\u001b[1;31mRuntimeError\u001b[0m                              Traceback (most recent call last)",
      "\u001b[1;32mC:\\WINDOWS\\TEMP/ipykernel_1868/455053222.py\u001b[0m in \u001b[0;36m<module>\u001b[1;34m\u001b[0m\n\u001b[0;32m      1\u001b[0m \u001b[1;31m# Load the data\u001b[0m\u001b[1;33m\u001b[0m\u001b[1;33m\u001b[0m\u001b[0m\n\u001b[1;32m----> 2\u001b[1;33m \u001b[0mwaveform1\u001b[0m\u001b[1;33m,\u001b[0m \u001b[0msample_rate1\u001b[0m \u001b[1;33m=\u001b[0m \u001b[0mget_sample\u001b[0m\u001b[1;33m(\u001b[0m\u001b[0mresample\u001b[0m\u001b[1;33m=\u001b[0m\u001b[1;36m16000\u001b[0m\u001b[1;33m)\u001b[0m\u001b[1;33m\u001b[0m\u001b[1;33m\u001b[0m\u001b[0m\n\u001b[0m\u001b[0;32m      3\u001b[0m \u001b[1;33m\u001b[0m\u001b[0m\n\u001b[0;32m      4\u001b[0m \u001b[1;31m# Define effects\u001b[0m\u001b[1;33m\u001b[0m\u001b[1;33m\u001b[0m\u001b[0m\n\u001b[0;32m      5\u001b[0m effects = [\n",
      "\u001b[1;32mC:\\WINDOWS\\TEMP/ipykernel_1868/2829042331.py\u001b[0m in \u001b[0;36mget_sample\u001b[1;34m(resample)\u001b[0m\n\u001b[0;32m     11\u001b[0m \u001b[1;33m\u001b[0m\u001b[0m\n\u001b[0;32m     12\u001b[0m \u001b[1;32mdef\u001b[0m \u001b[0mget_sample\u001b[0m\u001b[1;33m(\u001b[0m\u001b[1;33m*\u001b[0m\u001b[1;33m,\u001b[0m \u001b[0mresample\u001b[0m\u001b[1;33m=\u001b[0m\u001b[1;32mNone\u001b[0m\u001b[1;33m)\u001b[0m\u001b[1;33m:\u001b[0m\u001b[1;33m\u001b[0m\u001b[1;33m\u001b[0m\u001b[0m\n\u001b[1;32m---> 13\u001b[1;33m     \u001b[1;32mreturn\u001b[0m \u001b[0m_get_sample\u001b[0m\u001b[1;33m(\u001b[0m\u001b[0mwav_file\u001b[0m\u001b[1;33m,\u001b[0m \u001b[0mresample\u001b[0m\u001b[1;33m=\u001b[0m\u001b[0mresample\u001b[0m\u001b[1;33m)\u001b[0m\u001b[1;33m\u001b[0m\u001b[1;33m\u001b[0m\u001b[0m\n\u001b[0m",
      "\u001b[1;32mC:\\WINDOWS\\TEMP/ipykernel_1868/2829042331.py\u001b[0m in \u001b[0;36m_get_sample\u001b[1;34m(path, resample)\u001b[0m\n\u001b[0;32m      8\u001b[0m             \u001b[1;33m[\u001b[0m\u001b[1;34m\"rate\"\u001b[0m\u001b[1;33m,\u001b[0m \u001b[1;34mf'{resample}'\u001b[0m\u001b[1;33m]\u001b[0m\u001b[1;33m,\u001b[0m\u001b[1;33m\u001b[0m\u001b[1;33m\u001b[0m\u001b[0m\n\u001b[0;32m      9\u001b[0m         ])\n\u001b[1;32m---> 10\u001b[1;33m     \u001b[1;32mreturn\u001b[0m \u001b[0mtorchaudio\u001b[0m\u001b[1;33m.\u001b[0m\u001b[0msox_effects\u001b[0m\u001b[1;33m.\u001b[0m\u001b[0mapply_effects_file\u001b[0m\u001b[1;33m(\u001b[0m\u001b[0mpath\u001b[0m\u001b[1;33m,\u001b[0m \u001b[0meffects\u001b[0m\u001b[1;33m=\u001b[0m\u001b[0meffects\u001b[0m\u001b[1;33m)\u001b[0m\u001b[1;33m\u001b[0m\u001b[1;33m\u001b[0m\u001b[0m\n\u001b[0m\u001b[0;32m     11\u001b[0m \u001b[1;33m\u001b[0m\u001b[0m\n\u001b[0;32m     12\u001b[0m \u001b[1;32mdef\u001b[0m \u001b[0mget_sample\u001b[0m\u001b[1;33m(\u001b[0m\u001b[1;33m*\u001b[0m\u001b[1;33m,\u001b[0m \u001b[0mresample\u001b[0m\u001b[1;33m=\u001b[0m\u001b[1;32mNone\u001b[0m\u001b[1;33m)\u001b[0m\u001b[1;33m:\u001b[0m\u001b[1;33m\u001b[0m\u001b[1;33m\u001b[0m\u001b[0m\n",
      "\u001b[1;32mC:\\anaconda3\\lib\\site-packages\\torchaudio\\_internal\\module_utils.py\u001b[0m in \u001b[0;36mwrapped\u001b[1;34m(*args, **kwargs)\u001b[0m\n\u001b[0;32m    141\u001b[0m             \u001b[1;33m@\u001b[0m\u001b[0mwraps\u001b[0m\u001b[1;33m(\u001b[0m\u001b[0mfunc\u001b[0m\u001b[1;33m)\u001b[0m\u001b[1;33m\u001b[0m\u001b[1;33m\u001b[0m\u001b[0m\n\u001b[0;32m    142\u001b[0m             \u001b[1;32mdef\u001b[0m \u001b[0mwrapped\u001b[0m\u001b[1;33m(\u001b[0m\u001b[1;33m*\u001b[0m\u001b[0margs\u001b[0m\u001b[1;33m,\u001b[0m \u001b[1;33m**\u001b[0m\u001b[0mkwargs\u001b[0m\u001b[1;33m)\u001b[0m\u001b[1;33m:\u001b[0m\u001b[1;33m\u001b[0m\u001b[1;33m\u001b[0m\u001b[0m\n\u001b[1;32m--> 143\u001b[1;33m                 \u001b[1;32mraise\u001b[0m \u001b[0mRuntimeError\u001b[0m\u001b[1;33m(\u001b[0m\u001b[1;34mf\"{func.__module__}.{func.__name__} requires sox\"\u001b[0m\u001b[1;33m)\u001b[0m\u001b[1;33m\u001b[0m\u001b[1;33m\u001b[0m\u001b[0m\n\u001b[0m\u001b[0;32m    144\u001b[0m \u001b[1;33m\u001b[0m\u001b[0m\n\u001b[0;32m    145\u001b[0m             \u001b[1;32mreturn\u001b[0m \u001b[0mwrapped\u001b[0m\u001b[1;33m\u001b[0m\u001b[1;33m\u001b[0m\u001b[0m\n",
      "\u001b[1;31mRuntimeError\u001b[0m: torchaudio.sox_effects.sox_effects.apply_effects_file requires sox"
     ]
    }
   ],
   "source": [
    "# Load the data\n",
    "waveform1, sample_rate1 = get_sample(resample=16000)\n",
    "\n",
    "# Define effects\n",
    "effects = [\n",
    "  [\"lowpass\", \"-1\", \"300\"], # apply single-pole lowpass filter\n",
    "  [\"speed\", \"0.8\"],  # reduce the speed\n",
    "                     # This only changes sample rate, so it is necessary to\n",
    "                     # add `rate` effect with original sample rate after this.\n",
    "  [\"rate\", f\"{sample_rate1}\"],\n",
    "  [\"reverb\", \"-w\"],  # Reverbration gives some dramatic feeling\n",
    "]\n",
    "\n",
    "# Apply effects\n",
    "waveform2, sample_rate2 = torchaudio.sox_effects.apply_effects_tensor(\n",
    "    waveform1, sample_rate1, effects)\n",
    "\n",
    "plot_waveform(waveform1, sample_rate1, title=\"Original\", xlim=(-.1, 3.2))\n",
    "plot_waveform(waveform2, sample_rate2, title=\"Effects Applied\", xlim=(-.1, 3.2))\n",
    "print_stats(waveform1, sample_rate=sample_rate1, src=\"Original\")\n",
    "print_stats(waveform2, sample_rate=sample_rate2, src=\"Effects Applied\")"
   ]
  },
  {
   "cell_type": "code",
   "execution_count": null,
   "id": "49c2f169",
   "metadata": {},
   "outputs": [],
   "source": []
  }
 ],
 "metadata": {
  "kernelspec": {
   "display_name": "Python 3 (ipykernel)",
   "language": "python",
   "name": "python3"
  },
  "language_info": {
   "codemirror_mode": {
    "name": "ipython",
    "version": 3
   },
   "file_extension": ".py",
   "mimetype": "text/x-python",
   "name": "python",
   "nbconvert_exporter": "python",
   "pygments_lexer": "ipython3",
   "version": "3.9.7"
  }
 },
 "nbformat": 4,
 "nbformat_minor": 5
}
