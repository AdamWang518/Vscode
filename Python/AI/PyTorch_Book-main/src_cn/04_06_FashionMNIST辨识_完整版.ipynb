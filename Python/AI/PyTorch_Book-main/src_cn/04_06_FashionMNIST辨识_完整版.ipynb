{
 "cells": [
  {
   "cell_type": "markdown",
   "metadata": {},
   "source": [
    "# Fashion-MNIST 辨识\n",
    "\n",
    "![alt text](https://github.com/margaretmz/deep-learning/blob/master/images/modern%20dl_fash-mnist_keras.png?raw=1)"
   ]
  },
  {
   "cell_type": "markdown",
   "metadata": {},
   "source": [
    "## 载入套件"
   ]
  },
  {
   "cell_type": "code",
   "execution_count": 1,
   "metadata": {},
   "outputs": [],
   "source": [
    "import os\n",
    "import torch\n",
    "from torch import nn\n",
    "from torch.nn import functional as F\n",
    "from torch.utils.data import DataLoader, random_split\n",
    "from torchmetrics import Accuracy\n",
    "from torchvision import transforms\n",
    "from torchvision.datasets import FashionMNIST"
   ]
  },
  {
   "cell_type": "markdown",
   "metadata": {},
   "source": [
    "## 设定参数"
   ]
  },
  {
   "cell_type": "code",
   "execution_count": 2,
   "metadata": {},
   "outputs": [
    {
     "data": {
      "text/plain": [
       "'cuda'"
      ]
     },
     "execution_count": 2,
     "metadata": {},
     "output_type": "execute_result"
    }
   ],
   "source": [
    "PATH_DATASETS = \"\" # 预设路径\n",
    "BATCH_SIZE = 1024  # 批量\n",
    "device = torch.device(\"cuda\" if torch.cuda.is_available() else \"cpu\")\n",
    "\"cuda\" if torch.cuda.is_available() else \"cpu\""
   ]
  },
  {
   "cell_type": "markdown",
   "metadata": {},
   "source": [
    "## 步骤1：载入 FashionMNIST"
   ]
  },
  {
   "cell_type": "code",
   "execution_count": 3,
   "metadata": {},
   "outputs": [
    {
     "name": "stdout",
     "output_type": "stream",
     "text": [
      "torch.Size([60000, 28, 28]) torch.Size([10000, 28, 28])\n"
     ]
    }
   ],
   "source": [
    "# 下载 FashionMNIST 手写阿拉伯数字 训练资料\n",
    "train_ds = FashionMNIST(PATH_DATASETS, train=True, download=True, \n",
    "                 transform=transforms.ToTensor())\n",
    "\n",
    "# 下载测试资料\n",
    "test_ds = FashionMNIST(PATH_DATASETS, train=False, download=True, \n",
    "                 transform=transforms.ToTensor())\n",
    "\n",
    "# 训练/测试资料的维度\n",
    "print(train_ds.data.shape, test_ds.data.shape)"
   ]
  },
  {
   "cell_type": "code",
   "execution_count": 4,
   "metadata": {},
   "outputs": [
    {
     "data": {
      "text/plain": [
       "tensor([9, 0, 0, 3, 0, 2, 7, 2, 5, 5])"
      ]
     },
     "execution_count": 4,
     "metadata": {},
     "output_type": "execute_result"
    }
   ],
   "source": [
    "# 训练资料前10笔图片的数字\n",
    "train_ds.targets[:10]"
   ]
  },
  {
   "cell_type": "code",
   "execution_count": 5,
   "metadata": {},
   "outputs": [
    {
     "data": {
      "text/plain": [
       "tensor([[  0,   0,   0,   0,   0,   0,   0,   0,   0,   0,   0,   0,   0,   0,\n",
       "           0,   0,   0,   0,   0,   0,   0,   0,   0,   0,   0,   0,   0,   0],\n",
       "        [  0,   0,   0,   0,   0,   0,   0,   0,   0,   0,   0,   0,   0,   0,\n",
       "           0,   0,   0,   0,   0,   0,   0,   0,   0,   0,   0,   0,   0,   0],\n",
       "        [  0,   0,   0,   0,   0,   0,   0,   0,   0,   0,   0,   0,   0,   0,\n",
       "           0,   0,   0,   0,   0,   0,   0,   0,   0,   0,   0,   0,   0,   0],\n",
       "        [  0,   0,   0,   0,   0,   0,   0,   0,   0,   0,   0,   0,   1,   0,\n",
       "           0,  13,  73,   0,   0,   1,   4,   0,   0,   0,   0,   1,   1,   0],\n",
       "        [  0,   0,   0,   0,   0,   0,   0,   0,   0,   0,   0,   0,   3,   0,\n",
       "          36, 136, 127,  62,  54,   0,   0,   0,   1,   3,   4,   0,   0,   3],\n",
       "        [  0,   0,   0,   0,   0,   0,   0,   0,   0,   0,   0,   0,   6,   0,\n",
       "         102, 204, 176, 134, 144, 123,  23,   0,   0,   0,   0,  12,  10,   0],\n",
       "        [  0,   0,   0,   0,   0,   0,   0,   0,   0,   0,   0,   0,   0,   0,\n",
       "         155, 236, 207, 178, 107, 156, 161, 109,  64,  23,  77, 130,  72,  15],\n",
       "        [  0,   0,   0,   0,   0,   0,   0,   0,   0,   0,   0,   1,   0,  69,\n",
       "         207, 223, 218, 216, 216, 163, 127, 121, 122, 146, 141,  88, 172,  66],\n",
       "        [  0,   0,   0,   0,   0,   0,   0,   0,   0,   1,   1,   1,   0, 200,\n",
       "         232, 232, 233, 229, 223, 223, 215, 213, 164, 127, 123, 196, 229,   0],\n",
       "        [  0,   0,   0,   0,   0,   0,   0,   0,   0,   0,   0,   0,   0, 183,\n",
       "         225, 216, 223, 228, 235, 227, 224, 222, 224, 221, 223, 245, 173,   0],\n",
       "        [  0,   0,   0,   0,   0,   0,   0,   0,   0,   0,   0,   0,   0, 193,\n",
       "         228, 218, 213, 198, 180, 212, 210, 211, 213, 223, 220, 243, 202,   0],\n",
       "        [  0,   0,   0,   0,   0,   0,   0,   0,   0,   1,   3,   0,  12, 219,\n",
       "         220, 212, 218, 192, 169, 227, 208, 218, 224, 212, 226, 197, 209,  52],\n",
       "        [  0,   0,   0,   0,   0,   0,   0,   0,   0,   0,   6,   0,  99, 244,\n",
       "         222, 220, 218, 203, 198, 221, 215, 213, 222, 220, 245, 119, 167,  56],\n",
       "        [  0,   0,   0,   0,   0,   0,   0,   0,   0,   4,   0,   0,  55, 236,\n",
       "         228, 230, 228, 240, 232, 213, 218, 223, 234, 217, 217, 209,  92,   0],\n",
       "        [  0,   0,   1,   4,   6,   7,   2,   0,   0,   0,   0,   0, 237, 226,\n",
       "         217, 223, 222, 219, 222, 221, 216, 223, 229, 215, 218, 255,  77,   0],\n",
       "        [  0,   3,   0,   0,   0,   0,   0,   0,   0,  62, 145, 204, 228, 207,\n",
       "         213, 221, 218, 208, 211, 218, 224, 223, 219, 215, 224, 244, 159,   0],\n",
       "        [  0,   0,   0,   0,  18,  44,  82, 107, 189, 228, 220, 222, 217, 226,\n",
       "         200, 205, 211, 230, 224, 234, 176, 188, 250, 248, 233, 238, 215,   0],\n",
       "        [  0,  57, 187, 208, 224, 221, 224, 208, 204, 214, 208, 209, 200, 159,\n",
       "         245, 193, 206, 223, 255, 255, 221, 234, 221, 211, 220, 232, 246,   0],\n",
       "        [  3, 202, 228, 224, 221, 211, 211, 214, 205, 205, 205, 220, 240,  80,\n",
       "         150, 255, 229, 221, 188, 154, 191, 210, 204, 209, 222, 228, 225,   0],\n",
       "        [ 98, 233, 198, 210, 222, 229, 229, 234, 249, 220, 194, 215, 217, 241,\n",
       "          65,  73, 106, 117, 168, 219, 221, 215, 217, 223, 223, 224, 229,  29],\n",
       "        [ 75, 204, 212, 204, 193, 205, 211, 225, 216, 185, 197, 206, 198, 213,\n",
       "         240, 195, 227, 245, 239, 223, 218, 212, 209, 222, 220, 221, 230,  67],\n",
       "        [ 48, 203, 183, 194, 213, 197, 185, 190, 194, 192, 202, 214, 219, 221,\n",
       "         220, 236, 225, 216, 199, 206, 186, 181, 177, 172, 181, 205, 206, 115],\n",
       "        [  0, 122, 219, 193, 179, 171, 183, 196, 204, 210, 213, 207, 211, 210,\n",
       "         200, 196, 194, 191, 195, 191, 198, 192, 176, 156, 167, 177, 210,  92],\n",
       "        [  0,   0,  74, 189, 212, 191, 175, 172, 175, 181, 185, 188, 189, 188,\n",
       "         193, 198, 204, 209, 210, 210, 211, 188, 188, 194, 192, 216, 170,   0],\n",
       "        [  2,   0,   0,   0,  66, 200, 222, 237, 239, 242, 246, 243, 244, 221,\n",
       "         220, 193, 191, 179, 182, 182, 181, 176, 166, 168,  99,  58,   0,   0],\n",
       "        [  0,   0,   0,   0,   0,   0,   0,  40,  61,  44,  72,  41,  35,   0,\n",
       "           0,   0,   0,   0,   0,   0,   0,   0,   0,   0,   0,   0,   0,   0],\n",
       "        [  0,   0,   0,   0,   0,   0,   0,   0,   0,   0,   0,   0,   0,   0,\n",
       "           0,   0,   0,   0,   0,   0,   0,   0,   0,   0,   0,   0,   0,   0],\n",
       "        [  0,   0,   0,   0,   0,   0,   0,   0,   0,   0,   0,   0,   0,   0,\n",
       "           0,   0,   0,   0,   0,   0,   0,   0,   0,   0,   0,   0,   0,   0]],\n",
       "       dtype=torch.uint8)"
      ]
     },
     "execution_count": 5,
     "metadata": {},
     "output_type": "execute_result"
    }
   ],
   "source": [
    "# 显示第1张图片内含值\n",
    "train_ds.data[0]"
   ]
  },
  {
   "cell_type": "code",
   "execution_count": 6,
   "metadata": {},
   "outputs": [
    {
     "data": {
      "text/plain": [
       "['0000000000000000000000000000',\n",
       " '0000000000000000000000000000',\n",
       " '0000000000000000000000000000',\n",
       " '0000000000001001100110000110',\n",
       " '0000000000001011111000111001',\n",
       " '0000000000001011111110000110',\n",
       " '0000000000000011111111111111',\n",
       " '0000000000010111111111111111',\n",
       " '0000000001110111111111111110',\n",
       " '0000000000000111111111111110',\n",
       " '0000000000000111111111111110',\n",
       " '0000000001101111111111111111',\n",
       " '0000000000101111111111111111',\n",
       " '0000000001001111111111111110',\n",
       " '0011111000001111111111111110',\n",
       " '0100000001111111111111111110',\n",
       " '0000111111111111111111111110',\n",
       " '0111111111111111111111111110',\n",
       " '1111111111111111111111111110',\n",
       " '1111111111111111111111111111',\n",
       " '1111111111111111111111111111',\n",
       " '1111111111111111111111111111',\n",
       " '0111111111111111111111111111',\n",
       " '0011111111111111111111111110',\n",
       " '1000111111111111111111111100',\n",
       " '0000000111111000000000000000',\n",
       " '0000000000000000000000000000',\n",
       " '0000000000000000000000000000']"
      ]
     },
     "execution_count": 6,
     "metadata": {},
     "output_type": "execute_result"
    }
   ],
   "source": [
    "# 将非0的数字转为1，显示第1张图片\n",
    "data = train_ds.data[0].clone()\n",
    "data[data>0]=1\n",
    "data = data.numpy()\n",
    "\n",
    "# 将转换后二维内容显示出来，隐约可以看出数字为 5\n",
    "text_image=[]\n",
    "for i in range(data.shape[0]):\n",
    "    text_image.append(''.join(data[i].astype(str)))\n",
    "text_image"
   ]
  },
  {
   "cell_type": "code",
   "execution_count": 7,
   "metadata": {},
   "outputs": [
    {
     "data": {
      "text/plain": [
       "['0000010000111111111100000000',\n",
       " '0001000111111111111111100000',\n",
       " '0000011111111111111111110000',\n",
       " '0000011111111111111111111000',\n",
       " '0000111111111111111111111000',\n",
       " '0000111111111111111111111000',\n",
       " '0000111111011011111011111100',\n",
       " '0000111111011111111011111100',\n",
       " '0001111111011111111011111100',\n",
       " '0001111111111111111111111100',\n",
       " '0001111111111111111111111100',\n",
       " '0000011111111111111111000000',\n",
       " '0000000111111111111111000000',\n",
       " '0000110111111111111111011000',\n",
       " '0000010111111111111111010000',\n",
       " '0000010111111111111111010000',\n",
       " '0000010011111111111111010000',\n",
       " '0000010011111111111111010000',\n",
       " '0000010011111111111111010000',\n",
       " '0000010011111111111111010000',\n",
       " '0000010011111111111111010000',\n",
       " '0000010011111111111111010000',\n",
       " '0000000011111111111111010000',\n",
       " '0000010011111111111111010000',\n",
       " '0000010011111111111111010000',\n",
       " '0000000011111111111111000000',\n",
       " '0000000011111111111111010000',\n",
       " '0000010011111111111111000000']"
      ]
     },
     "execution_count": 7,
     "metadata": {},
     "output_type": "execute_result"
    }
   ],
   "source": [
    "# 将非0的数字转为1，显示第2张图片\n",
    "data = train_ds.data[1].clone()\n",
    "data[data>0]=1\n",
    "data = data.numpy()\n",
    "\n",
    "# 将转换后二维内容显示出来，隐约可以看出数字为 5\n",
    "text_image=[]\n",
    "for i in range(data.shape[0]):\n",
    "    text_image.append(''.join(data[i].astype(str)))\n",
    "text_image"
   ]
  },
  {
   "cell_type": "code",
   "execution_count": 8,
   "metadata": {
    "scrolled": false
   },
   "outputs": [
    {
     "data": {
      "image/png": "[encoded data removed]",
      "text/plain": [
       "<Figure size 432x288 with 1 Axes>"
      ]
     },
     "metadata": {
      "needs_background": "light"
     },
     "output_type": "display_data"
    }
   ],
   "source": [
    "# 显示第1张图片图像\n",
    "import matplotlib.pyplot as plt\n",
    "\n",
    "# 第一笔资料\n",
    "X = train_ds.data[0]\n",
    "\n",
    "# 绘制点阵图，cmap='gray':灰阶\n",
    "plt.imshow(X.reshape(28,28), cmap='gray')\n",
    "\n",
    "# 隐藏刻度\n",
    "plt.axis('off') \n",
    "\n",
    "# 显示图形\n",
    "plt.show() "
   ]
  },
  {
   "cell_type": "markdown",
   "metadata": {},
   "source": [
    "## 步骤2：资料清理，此步骤无需进行"
   ]
  },
  {
   "cell_type": "markdown",
   "metadata": {},
   "source": [
    "## 步骤3：特征工程，此步骤无需进行"
   ]
  },
  {
   "cell_type": "code",
   "execution_count": 9,
   "metadata": {},
   "outputs": [],
   "source": [
    "# train_ds.data = train_ds.data / 255.0\n",
    "# test_ds.data = test_ds.data / 255.0"
   ]
  },
  {
   "cell_type": "markdown",
   "metadata": {},
   "source": [
    "## 步骤4：资料分割，此步骤无需进行，载入MNIST资料时，已经切割好了"
   ]
  },
  {
   "cell_type": "markdown",
   "metadata": {},
   "source": [
    "## 步骤5：建立模型结构"
   ]
  },
  {
   "cell_type": "code",
   "execution_count": 10,
   "metadata": {},
   "outputs": [],
   "source": [
    "# 建立模型\n",
    "model = torch.nn.Sequential(\n",
    "    torch.nn.Flatten(),\n",
    "    torch.nn.Linear(28 * 28, 256), \n",
    "    nn.Dropout(0.2),\n",
    "    torch.nn.Linear(256, 10), \n",
    "    # 使用nn.CrossEntropyLoss()时，不需要将输出经过softmax层，否则计算的损失会有误\n",
    "    # torch.nn.Softmax(dim=1)\n",
    ").to(device)"
   ]
  },
  {
   "cell_type": "markdown",
   "metadata": {},
   "source": [
    "## 步骤6：结合训练资料及模型，进行模型训练"
   ]
  },
  {
   "cell_type": "code",
   "execution_count": 11,
   "metadata": {
    "scrolled": false
   },
   "outputs": [
    {
     "name": "stdout",
     "output_type": "stream",
     "text": [
      "Epoch 1: [    0 / 60000] (0 %)  Loss: 2.336220\n",
      "Epoch 1: [ 6000 / 60000] (10 %)  Loss: 1.870095\n",
      "Epoch 1: [12000 / 60000] (20 %)  Loss: 1.546199\n",
      "Epoch 1: [18000 / 60000] (30 %)  Loss: 1.324785\n",
      "Epoch 1: [24000 / 60000] (40 %)  Loss: 1.161149\n",
      "Epoch 1: [30000 / 60000] (50 %)  Loss: 1.011089\n",
      "Epoch 1: [36000 / 60000] (60 %)  Loss: 0.970599\n",
      "Epoch 1: [42000 / 60000] (70 %)  Loss: 0.873397\n",
      "Epoch 1: [48000 / 60000] (80 %)  Loss: 0.776344\n",
      "Epoch 1: [54000 / 60000] (90 %)  Loss: 0.840769\n",
      "Epoch 2: [    0 / 60000] (0 %)  Loss: 0.815157\n",
      "Epoch 2: [ 6000 / 60000] (10 %)  Loss: 0.783083\n",
      "Epoch 2: [12000 / 60000] (20 %)  Loss: 0.736347\n",
      "Epoch 2: [18000 / 60000] (30 %)  Loss: 0.775184\n",
      "Epoch 2: [24000 / 60000] (40 %)  Loss: 0.754036\n",
      "Epoch 2: [30000 / 60000] (50 %)  Loss: 0.666138\n",
      "Epoch 2: [36000 / 60000] (60 %)  Loss: 0.724891\n",
      "Epoch 2: [42000 / 60000] (70 %)  Loss: 0.656721\n",
      "Epoch 2: [48000 / 60000] (80 %)  Loss: 0.573520\n",
      "Epoch 2: [54000 / 60000] (90 %)  Loss: 0.691825\n",
      "Epoch 3: [    0 / 60000] (0 %)  Loss: 0.652547\n",
      "Epoch 3: [ 6000 / 60000] (10 %)  Loss: 0.658244\n",
      "Epoch 3: [12000 / 60000] (20 %)  Loss: 0.607671\n",
      "Epoch 3: [18000 / 60000] (30 %)  Loss: 0.673996\n",
      "Epoch 3: [24000 / 60000] (40 %)  Loss: 0.657579\n",
      "Epoch 3: [30000 / 60000] (50 %)  Loss: 0.572005\n",
      "Epoch 3: [36000 / 60000] (60 %)  Loss: 0.646654\n",
      "Epoch 3: [42000 / 60000] (70 %)  Loss: 0.578601\n",
      "Epoch 3: [48000 / 60000] (80 %)  Loss: 0.511935\n",
      "Epoch 3: [54000 / 60000] (90 %)  Loss: 0.626828\n",
      "Epoch 4: [    0 / 60000] (0 %)  Loss: 0.591619\n",
      "Epoch 4: [ 6000 / 60000] (10 %)  Loss: 0.591173\n",
      "Epoch 4: [12000 / 60000] (20 %)  Loss: 0.554328\n",
      "Epoch 4: [18000 / 60000] (30 %)  Loss: 0.612499\n",
      "Epoch 4: [24000 / 60000] (40 %)  Loss: 0.605607\n",
      "Epoch 4: [30000 / 60000] (50 %)  Loss: 0.534624\n",
      "Epoch 4: [36000 / 60000] (60 %)  Loss: 0.595952\n",
      "Epoch 4: [42000 / 60000] (70 %)  Loss: 0.541955\n",
      "Epoch 4: [48000 / 60000] (80 %)  Loss: 0.468268\n",
      "Epoch 4: [54000 / 60000] (90 %)  Loss: 0.608173\n",
      "Epoch 5: [    0 / 60000] (0 %)  Loss: 0.545324\n",
      "Epoch 5: [ 6000 / 60000] (10 %)  Loss: 0.554569\n",
      "Epoch 5: [12000 / 60000] (20 %)  Loss: 0.521593\n",
      "Epoch 5: [18000 / 60000] (30 %)  Loss: 0.594486\n",
      "Epoch 5: [24000 / 60000] (40 %)  Loss: 0.575212\n",
      "Epoch 5: [30000 / 60000] (50 %)  Loss: 0.497933\n",
      "Epoch 5: [36000 / 60000] (60 %)  Loss: 0.567669\n",
      "Epoch 5: [42000 / 60000] (70 %)  Loss: 0.509455\n",
      "Epoch 5: [48000 / 60000] (80 %)  Loss: 0.441474\n",
      "Epoch 5: [54000 / 60000] (90 %)  Loss: 0.588837\n"
     ]
    }
   ],
   "source": [
    "epochs = 5\n",
    "lr=0.1\n",
    "\n",
    "# 建立 DataLoader\n",
    "train_loader = DataLoader(train_ds, batch_size=600)\n",
    "\n",
    "# 设定优化器(optimizer)\n",
    "# optimizer = torch.optim.Adam(model.parameters(), lr=lr)\n",
    "optimizer = torch.optim.Adadelta(model.parameters(), lr=lr)\n",
    "\n",
    "criterion = nn.CrossEntropyLoss()\n",
    "\n",
    "model.train()\n",
    "loss_list = []    \n",
    "for epoch in range(1, epochs + 1):\n",
    "    for batch_idx, (data, target) in enumerate(train_loader):\n",
    "        data, target = data.to(device), target.to(device)\n",
    "#         if batch_idx == 0 and epoch == 1: print(data[0])\n",
    "\n",
    "        optimizer.zero_grad()\n",
    "        output = model(data)\n",
    "        loss = criterion(output, target)\n",
    "        loss.backward()\n",
    "        optimizer.step()\n",
    "\n",
    "        if batch_idx % 10 == 0:\n",
    "            loss_list.append(loss.item())\n",
    "            batch = batch_idx * len(data)\n",
    "            data_count = len(train_loader.dataset)\n",
    "            percentage = (100. * batch_idx / len(train_loader))\n",
    "            print(f'Epoch {epoch}: [{batch:5d} / {data_count}] ({percentage:.0f} %)' +\n",
    "                  f'  Loss: {loss.item():.6f}')"
   ]
  },
  {
   "cell_type": "markdown",
   "metadata": {},
   "source": [
    "## 对训练过程的损失绘图"
   ]
  },
  {
   "cell_type": "code",
   "execution_count": 12,
   "metadata": {
    "scrolled": false
   },
   "outputs": [
    {
     "data": {
      "text/plain": [
       "[<matplotlib.lines.Line2D at 0x17b421ff190>]"
      ]
     },
     "execution_count": 12,
     "metadata": {},
     "output_type": "execute_result"
    },
    {
     "data": {
      "image/png": "[encoded data removed]",
      "text/plain": [
       "<Figure size 432x288 with 1 Axes>"
      ]
     },
     "metadata": {
      "needs_background": "light"
     },
     "output_type": "display_data"
    }
   ],
   "source": [
    "import matplotlib.pyplot as plt\n",
    "\n",
    "plt.plot(loss_list, 'r')"
   ]
  },
  {
   "cell_type": "markdown",
   "metadata": {},
   "source": [
    "## 步骤7：评分(Score Model)"
   ]
  },
  {
   "cell_type": "code",
   "execution_count": 13,
   "metadata": {
    "scrolled": true
   },
   "outputs": [
    {
     "name": "stdout",
     "output_type": "stream",
     "text": [
      "平均损失: 0.0005, 准确率: 8099/10000 (81%)\n",
      "\n"
     ]
    }
   ],
   "source": [
    "# 建立 DataLoader\n",
    "test_loader = DataLoader(test_ds, shuffle=False, batch_size=BATCH_SIZE)\n",
    "\n",
    "model.eval()\n",
    "test_loss = 0\n",
    "correct = 0\n",
    "with torch.no_grad():\n",
    "    for data, target in test_loader:\n",
    "        data, target = data.to(device), target.to(device)\n",
    "        output = model(data)\n",
    "        \n",
    "        # sum up batch loss\n",
    "        test_loss += criterion(output, target).item()\n",
    "        \n",
    "        # 预测\n",
    "        pred = output.argmax(dim=1, keepdim=True)  \n",
    "        \n",
    "        # 正确笔数\n",
    "        correct += pred.eq(target.view_as(pred)).sum().item()\n",
    "\n",
    "# 平均损失\n",
    "data_count = len(test_loader.dataset)\n",
    "test_loss /= data_count\n",
    "# 显示测试结果\n",
    "percentage = 100. * correct / data_count\n",
    "print(f'平均损失: {test_loss:.4f}, 准确率: {correct}/{data_count}' + \n",
    "      f' ({percentage:.0f}%)\\n')"
   ]
  },
  {
   "cell_type": "markdown",
   "metadata": {},
   "source": [
    "## 实际比对测试资料的前20笔"
   ]
  },
  {
   "cell_type": "code",
   "execution_count": 14,
   "metadata": {},
   "outputs": [
    {
     "name": "stdout",
     "output_type": "stream",
     "text": [
      "actual    : [9 2 1 1 6 1 4 6 5 7 4 5 7 3 4 1 2 4 8 0]\n",
      "prediction:  9 2 1 1 6 1 4 6 7 7 4 5 5 3 4 1 2 6 8 0\n"
     ]
    }
   ],
   "source": [
    "# 实际预测 20 笔资料\n",
    "predictions = []\n",
    "with torch.no_grad():\n",
    "    for i in range(20):\n",
    "        data, target = test_ds[i][0], test_ds[i][1]\n",
    "        data = data.reshape(1, *data.shape).to(device)\n",
    "        output = torch.argmax(model(data), axis=-1)\n",
    "        predictions.append(str(output.item()))\n",
    "\n",
    "# 比对\n",
    "print('actual    :', test_ds.targets[0:20].numpy())\n",
    "print('prediction: ', ' '.join(predictions[0:20]))"
   ]
  },
  {
   "cell_type": "code",
   "execution_count": 15,
   "metadata": {},
   "outputs": [
    {
     "name": "stdout",
     "output_type": "stream",
     "text": [
      "0~9预测机率: [[0.05 0.   0.25 0.   0.29 0.   0.39 0.   0.01 0.  ]]\n",
      "0~9预测机率: [6]\n"
     ]
    }
   ],
   "source": [
    "# 显示第 18 笔的机率\n",
    "import numpy as np\n",
    "\n",
    "i=17\n",
    "data = test_ds[i][0]\n",
    "data = data.reshape(1, *data.shape).to(device)\n",
    "#print(data.shape)\n",
    "predictions = torch.softmax(model(data), dim=1)\n",
    "print(f'0~9预测机率: {np.around(predictions.cpu().detach().numpy(), 2)}')\n",
    "print(f'0~9预测机率: {np.argmax(predictions.cpu().detach().numpy(), axis=-1)}')"
   ]
  },
  {
   "cell_type": "code",
   "execution_count": 16,
   "metadata": {
    "scrolled": true
   },
   "outputs": [
    {
     "data": {
      "image/png": "[encoded data removed]",
      "text/plain": [
       "<Figure size 432x288 with 1 Axes>"
      ]
     },
     "metadata": {
      "needs_background": "light"
     },
     "output_type": "display_data"
    }
   ],
   "source": [
    "# 显示第 18 笔图像\n",
    "X2 = test_ds[i][0] \n",
    "plt.imshow(X2.reshape(28,28), cmap='gray')\n",
    "plt.axis('off')\n",
    "plt.show() "
   ]
  },
  {
   "cell_type": "markdown",
   "metadata": {},
   "source": [
    "## 步骤8：评估，暂不进行"
   ]
  },
  {
   "cell_type": "markdown",
   "metadata": {},
   "source": [
    "## 步骤9：模型布署"
   ]
  },
  {
   "cell_type": "code",
   "execution_count": 18,
   "metadata": {},
   "outputs": [],
   "source": [
    "torch.save(model, './FashionMNIST.pt')"
   ]
  },
  {
   "cell_type": "markdown",
   "metadata": {},
   "source": [
    "## 步骤10：新资料预测"
   ]
  },
  {
   "cell_type": "code",
   "execution_count": 20,
   "metadata": {},
   "outputs": [],
   "source": [
    "label_dict = {\n",
    "    0: 'T-shirt', \n",
    "    1:'Trouser',\n",
    "    2:'Pullover', \n",
    "    3:'Dress', \n",
    "    4:'Coat',\n",
    "    5:'Sandal', \n",
    "    6:'Shirt', \n",
    "    7:'Sneaker', \n",
    "    8:'Bag', \n",
    "    9:'Ankle boot'\n",
    "}"
   ]
  },
  {
   "cell_type": "code",
   "execution_count": 21,
   "metadata": {
    "scrolled": true
   },
   "outputs": [
    {
     "name": "stdout",
     "output_type": "stream",
     "text": [
      "actual/prediction: bag1/Bag\n",
      "actual/prediction: Sandal1/Bag\n",
      "actual/prediction: Sandal2/Bag\n",
      "actual/prediction: shirt1/Shirt\n",
      "actual/prediction: T-Shirt/Shirt\n",
      "actual/prediction: Trouser/T-shirt\n",
      "actual/prediction: Trouser2/Trouser\n"
     ]
    }
   ],
   "source": [
    "# 使用小画家，绘制 0~9，实际测试看看\n",
    "from skimage import io\n",
    "from skimage.transform import resize\n",
    "import numpy as np\n",
    "import os\n",
    "\n",
    "# 读取影像并转为单色\n",
    "test_data_folder = './fashion_test_data'\n",
    "for file_name in os.listdir(test_data_folder):\n",
    "    image1 = io.imread(os.path.join(test_data_folder, file_name), as_gray=True)\n",
    "\n",
    "    # 缩为 (28, 28) 大小的影像\n",
    "    image_resized = resize(image1, (28, 28), anti_aliasing=True)    \n",
    "    X1 = image_resized.reshape(1,28, 28) #/ 255.0\n",
    "\n",
    "    # 反转颜色，颜色0为白色，与 RGB 色码不同，它的 0 为黑色\n",
    "    X1 = torch.FloatTensor(1-X1).to(device)\n",
    "\n",
    "    # 预测\n",
    "    predictions = torch.softmax(model(X1), dim=1)\n",
    "    # print(np.around(predictions.cpu().detach().numpy(), 2))\n",
    "    print(f'actual/prediction: {file_name.split(\".\")[0]}/{label_dict[np.argmax(predictions.detach().cpu().numpy())]}')"
   ]
  },
  {
   "cell_type": "code",
   "execution_count": null,
   "metadata": {},
   "outputs": [],
   "source": []
  }
 ],
 "metadata": {
  "kernelspec": {
   "display_name": "Python 3 (ipykernel)",
   "language": "python",
   "name": "python3"
  },
  "language_info": {
   "codemirror_mode": {
    "name": "ipython",
    "version": 3
   },
   "file_extension": ".py",
   "mimetype": "text/x-python",
   "name": "python",
   "nbconvert_exporter": "python",
   "pygments_lexer": "ipython3",
   "version": "3.9.7"
  }
 },
 "nbformat": 4,
 "nbformat_minor": 4
}
