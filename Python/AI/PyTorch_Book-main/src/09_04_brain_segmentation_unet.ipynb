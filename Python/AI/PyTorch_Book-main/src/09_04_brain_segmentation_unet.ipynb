{
 "cells": [
  {
   "cell_type": "markdown",
   "id": "black-greece",
   "metadata": {
    "id": "black-greece"
   },
   "source": [
    "\n",
    "# U-Net for brain MRI\n",
    "\n",
    "*Author: mateuszbuda*\n",
    "\n",
    "<img src=\"https://pytorch.org/assets/images/unet_brain_mri.png\" alt=\"alt\" width=\"50%\"/>"
   ]
  },
  {
   "cell_type": "markdown",
   "id": "b46a4aa8",
   "metadata": {},
   "source": [
    "## 載入U-Net預先訓練模型"
   ]
  },
  {
   "cell_type": "code",
   "execution_count": 1,
   "id": "likely-gilbert",
   "metadata": {
    "id": "likely-gilbert"
   },
   "outputs": [
    {
     "name": "stderr",
     "output_type": "stream",
     "text": [
      "Using cache found in C:\\Users\\mikec/.cache\\torch\\hub\\mateuszbuda_brain-segmentation-pytorch_master\n"
     ]
    }
   ],
   "source": [
    "import torch\n",
    "model = torch.hub.load('mateuszbuda/brain-segmentation-pytorch', 'unet',\n",
    "    in_channels=3, out_channels=1, init_features=32, pretrained=True)"
   ]
  },
  {
   "cell_type": "markdown",
   "id": "cf41d70a",
   "metadata": {},
   "source": [
    "## 模型結構"
   ]
  },
  {
   "cell_type": "code",
   "execution_count": 2,
   "id": "135595dc",
   "metadata": {},
   "outputs": [
    {
     "data": {
      "text/plain": [
       "UNet(\n",
       "  (encoder1): Sequential(\n",
       "    (enc1conv1): Conv2d(3, 32, kernel_size=(3, 3), stride=(1, 1), padding=(1, 1), bias=False)\n",
       "    (enc1norm1): BatchNorm2d(32, eps=1e-05, momentum=0.1, affine=True, track_running_stats=True)\n",
       "    (enc1relu1): ReLU(inplace=True)\n",
       "    (enc1conv2): Conv2d(32, 32, kernel_size=(3, 3), stride=(1, 1), padding=(1, 1), bias=False)\n",
       "    (enc1norm2): BatchNorm2d(32, eps=1e-05, momentum=0.1, affine=True, track_running_stats=True)\n",
       "    (enc1relu2): ReLU(inplace=True)\n",
       "  )\n",
       "  (pool1): MaxPool2d(kernel_size=2, stride=2, padding=0, dilation=1, ceil_mode=False)\n",
       "  (encoder2): Sequential(\n",
       "    (enc2conv1): Conv2d(32, 64, kernel_size=(3, 3), stride=(1, 1), padding=(1, 1), bias=False)\n",
       "    (enc2norm1): BatchNorm2d(64, eps=1e-05, momentum=0.1, affine=True, track_running_stats=True)\n",
       "    (enc2relu1): ReLU(inplace=True)\n",
       "    (enc2conv2): Conv2d(64, 64, kernel_size=(3, 3), stride=(1, 1), padding=(1, 1), bias=False)\n",
       "    (enc2norm2): BatchNorm2d(64, eps=1e-05, momentum=0.1, affine=True, track_running_stats=True)\n",
       "    (enc2relu2): ReLU(inplace=True)\n",
       "  )\n",
       "  (pool2): MaxPool2d(kernel_size=2, stride=2, padding=0, dilation=1, ceil_mode=False)\n",
       "  (encoder3): Sequential(\n",
       "    (enc3conv1): Conv2d(64, 128, kernel_size=(3, 3), stride=(1, 1), padding=(1, 1), bias=False)\n",
       "    (enc3norm1): BatchNorm2d(128, eps=1e-05, momentum=0.1, affine=True, track_running_stats=True)\n",
       "    (enc3relu1): ReLU(inplace=True)\n",
       "    (enc3conv2): Conv2d(128, 128, kernel_size=(3, 3), stride=(1, 1), padding=(1, 1), bias=False)\n",
       "    (enc3norm2): BatchNorm2d(128, eps=1e-05, momentum=0.1, affine=True, track_running_stats=True)\n",
       "    (enc3relu2): ReLU(inplace=True)\n",
       "  )\n",
       "  (pool3): MaxPool2d(kernel_size=2, stride=2, padding=0, dilation=1, ceil_mode=False)\n",
       "  (encoder4): Sequential(\n",
       "    (enc4conv1): Conv2d(128, 256, kernel_size=(3, 3), stride=(1, 1), padding=(1, 1), bias=False)\n",
       "    (enc4norm1): BatchNorm2d(256, eps=1e-05, momentum=0.1, affine=True, track_running_stats=True)\n",
       "    (enc4relu1): ReLU(inplace=True)\n",
       "    (enc4conv2): Conv2d(256, 256, kernel_size=(3, 3), stride=(1, 1), padding=(1, 1), bias=False)\n",
       "    (enc4norm2): BatchNorm2d(256, eps=1e-05, momentum=0.1, affine=True, track_running_stats=True)\n",
       "    (enc4relu2): ReLU(inplace=True)\n",
       "  )\n",
       "  (pool4): MaxPool2d(kernel_size=2, stride=2, padding=0, dilation=1, ceil_mode=False)\n",
       "  (bottleneck): Sequential(\n",
       "    (bottleneckconv1): Conv2d(256, 512, kernel_size=(3, 3), stride=(1, 1), padding=(1, 1), bias=False)\n",
       "    (bottlenecknorm1): BatchNorm2d(512, eps=1e-05, momentum=0.1, affine=True, track_running_stats=True)\n",
       "    (bottleneckrelu1): ReLU(inplace=True)\n",
       "    (bottleneckconv2): Conv2d(512, 512, kernel_size=(3, 3), stride=(1, 1), padding=(1, 1), bias=False)\n",
       "    (bottlenecknorm2): BatchNorm2d(512, eps=1e-05, momentum=0.1, affine=True, track_running_stats=True)\n",
       "    (bottleneckrelu2): ReLU(inplace=True)\n",
       "  )\n",
       "  (upconv4): ConvTranspose2d(512, 256, kernel_size=(2, 2), stride=(2, 2))\n",
       "  (decoder4): Sequential(\n",
       "    (dec4conv1): Conv2d(512, 256, kernel_size=(3, 3), stride=(1, 1), padding=(1, 1), bias=False)\n",
       "    (dec4norm1): BatchNorm2d(256, eps=1e-05, momentum=0.1, affine=True, track_running_stats=True)\n",
       "    (dec4relu1): ReLU(inplace=True)\n",
       "    (dec4conv2): Conv2d(256, 256, kernel_size=(3, 3), stride=(1, 1), padding=(1, 1), bias=False)\n",
       "    (dec4norm2): BatchNorm2d(256, eps=1e-05, momentum=0.1, affine=True, track_running_stats=True)\n",
       "    (dec4relu2): ReLU(inplace=True)\n",
       "  )\n",
       "  (upconv3): ConvTranspose2d(256, 128, kernel_size=(2, 2), stride=(2, 2))\n",
       "  (decoder3): Sequential(\n",
       "    (dec3conv1): Conv2d(256, 128, kernel_size=(3, 3), stride=(1, 1), padding=(1, 1), bias=False)\n",
       "    (dec3norm1): BatchNorm2d(128, eps=1e-05, momentum=0.1, affine=True, track_running_stats=True)\n",
       "    (dec3relu1): ReLU(inplace=True)\n",
       "    (dec3conv2): Conv2d(128, 128, kernel_size=(3, 3), stride=(1, 1), padding=(1, 1), bias=False)\n",
       "    (dec3norm2): BatchNorm2d(128, eps=1e-05, momentum=0.1, affine=True, track_running_stats=True)\n",
       "    (dec3relu2): ReLU(inplace=True)\n",
       "  )\n",
       "  (upconv2): ConvTranspose2d(128, 64, kernel_size=(2, 2), stride=(2, 2))\n",
       "  (decoder2): Sequential(\n",
       "    (dec2conv1): Conv2d(128, 64, kernel_size=(3, 3), stride=(1, 1), padding=(1, 1), bias=False)\n",
       "    (dec2norm1): BatchNorm2d(64, eps=1e-05, momentum=0.1, affine=True, track_running_stats=True)\n",
       "    (dec2relu1): ReLU(inplace=True)\n",
       "    (dec2conv2): Conv2d(64, 64, kernel_size=(3, 3), stride=(1, 1), padding=(1, 1), bias=False)\n",
       "    (dec2norm2): BatchNorm2d(64, eps=1e-05, momentum=0.1, affine=True, track_running_stats=True)\n",
       "    (dec2relu2): ReLU(inplace=True)\n",
       "  )\n",
       "  (upconv1): ConvTranspose2d(64, 32, kernel_size=(2, 2), stride=(2, 2))\n",
       "  (decoder1): Sequential(\n",
       "    (dec1conv1): Conv2d(64, 32, kernel_size=(3, 3), stride=(1, 1), padding=(1, 1), bias=False)\n",
       "    (dec1norm1): BatchNorm2d(32, eps=1e-05, momentum=0.1, affine=True, track_running_stats=True)\n",
       "    (dec1relu1): ReLU(inplace=True)\n",
       "    (dec1conv2): Conv2d(32, 32, kernel_size=(3, 3), stride=(1, 1), padding=(1, 1), bias=False)\n",
       "    (dec1norm2): BatchNorm2d(32, eps=1e-05, momentum=0.1, affine=True, track_running_stats=True)\n",
       "    (dec1relu2): ReLU(inplace=True)\n",
       "  )\n",
       "  (conv): Conv2d(32, 1, kernel_size=(1, 1), stride=(1, 1))\n",
       ")"
      ]
     },
     "execution_count": 2,
     "metadata": {},
     "output_type": "execute_result"
    }
   ],
   "source": [
    "model"
   ]
  },
  {
   "cell_type": "markdown",
   "id": "false-major",
   "metadata": {
    "id": "false-major"
   },
   "source": [
    "Loads a U-Net model pre-trained for abnormality segmentation on a dataset of brain MRI volumes [kaggle.com/mateuszbuda/lgg-mri-segmentation](https://www.kaggle.com/mateuszbuda/lgg-mri-segmentation)\n",
    "The pre-trained model requires 3 input channels, 1 output channel, and 32 features in the first layer.\n",
    "\n",
    "### Model Description\n",
    "\n",
    "This U-Net model comprises four levels of blocks containing two convolutional layers with batch normalization and ReLU activation function, and one max pooling layer in the encoding part and up-convolutional layers instead in the decoding part.\n",
    "The number of convolutional filters in each block is 32, 64, 128, and 256.\n",
    "The bottleneck layer has 512 convolutional filters.\n",
    "From the encoding layers, skip connections are used to the corresponding layers in the decoding part.\n",
    "Input image is a 3-channel brain MRI slice from pre-contrast, FLAIR, and post-contrast sequences, respectively.\n",
    "Output is a one-channel probability map of abnormality regions with the same size as the input image.\n",
    "It can be transformed to a binary segmentation mask by thresholding as shown in the example below.\n",
    "\n",
    "### Example\n",
    "\n",
    "Input images for pre-trained model should have 3 channels and be resized to 256x256 pixels and z-score normalized per volume."
   ]
  },
  {
   "cell_type": "markdown",
   "id": "947c8059",
   "metadata": {},
   "source": [
    "## 下載一個範例圖檔"
   ]
  },
  {
   "cell_type": "code",
   "execution_count": 3,
   "id": "noble-antarctica",
   "metadata": {
    "id": "noble-antarctica"
   },
   "outputs": [
    {
     "data": {
      "text/plain": [
       "('U_Net/TCGA_CS_4944.png', <http.client.HTTPMessage at 0x226b53352b0>)"
      ]
     },
     "execution_count": 3,
     "metadata": {},
     "output_type": "execute_result"
    }
   ],
   "source": [
    "import urllib\n",
    "\n",
    "url=\"https://github.com/mateuszbuda/brain-segmentation-pytorch/\" + \\\n",
    "    \"raw/master/assets/TCGA_CS_4944.png\"\n",
    "filename = \"U_Net/TCGA_CS_4944.png\"\n",
    "urllib.request.urlretrieve(url, filename)"
   ]
  },
  {
   "cell_type": "markdown",
   "id": "aea0c104",
   "metadata": {},
   "source": [
    "## 預測"
   ]
  },
  {
   "cell_type": "code",
   "execution_count": 11,
   "id": "comfortable-pitch",
   "metadata": {
    "id": "comfortable-pitch"
   },
   "outputs": [
    {
     "name": "stdout",
     "output_type": "stream",
     "text": [
      "tensor([[[0., 0., 0.,  ..., 0., 0., 0.],\n",
      "         [0., 0., 0.,  ..., 0., 0., 0.],\n",
      "         [0., 0., 0.,  ..., 0., 0., 0.],\n",
      "         ...,\n",
      "         [0., 0., 0.,  ..., 0., 0., 0.],\n",
      "         [0., 0., 0.,  ..., 0., 0., 0.],\n",
      "         [0., 0., 0.,  ..., 0., 0., 0.]]], device='cuda:0')\n"
     ]
    }
   ],
   "source": [
    "import numpy as np\n",
    "from PIL import Image\n",
    "from torchvision import transforms\n",
    "\n",
    "# 開啟檔案\n",
    "input_image = Image.open(filename)\n",
    "\n",
    "# 計算圖像的平均值及標準差\n",
    "m, s = np.mean(input_image, axis=(0, 1)), np.std(input_image, axis=(0, 1))\n",
    "\n",
    "# 轉換\n",
    "preprocess = transforms.Compose([\n",
    "    transforms.ToTensor(),\n",
    "#     transforms.Normalize(mean=m, std=s),\n",
    "])\n",
    "input_tensor = preprocess(input_image)\n",
    "input_batch = input_tensor.unsqueeze(0)\n",
    "\n",
    "# 如果有GPU，將資料、模型轉至 GPU\n",
    "if torch.cuda.is_available():\n",
    "    input_batch = input_batch.to('cuda')\n",
    "    model = model.to('cuda')\n",
    "\n",
    "# 預測    \n",
    "with torch.no_grad():\n",
    "    output = model(input_batch)\n",
    "\n",
    "# 顯示有不正常部位的機率    \n",
    "print(torch.round(output[0]))"
   ]
  },
  {
   "cell_type": "markdown",
   "id": "dc4c0f57",
   "metadata": {},
   "source": [
    "## 比較原圖與預測結果"
   ]
  },
  {
   "cell_type": "code",
   "execution_count": 20,
   "id": "580bebe0",
   "metadata": {},
   "outputs": [
    {
     "data": {
      "image/png": "[encoded data removed]",
      "text/plain": [
       "<Figure size 432x288 with 2 Axes>"
      ]
     },
     "metadata": {
      "needs_background": "light"
     },
     "output_type": "display_data"
    }
   ],
   "source": [
    "import matplotlib.pyplot as plt\n",
    "\n",
    "# 原圖\n",
    "plt.subplot(1,2,1)\n",
    "plt.imshow(plt.imread(filename))\n",
    "plt.axis('off')\n",
    "\n",
    "# 預測結果\n",
    "plt.subplot(1,2,2)\n",
    "plt.imshow(torch.round(output[0]).cpu().numpy().reshape(256, 256), cmap='gray')\n",
    "plt.axis('off')\n",
    "plt.show()"
   ]
  },
  {
   "cell_type": "markdown",
   "id": "3a673d42",
   "metadata": {},
   "source": [
    "## 將陣列轉成字串，存檔後以記事本觀察。"
   ]
  },
  {
   "cell_type": "code",
   "execution_count": 13,
   "id": "6e256a23",
   "metadata": {},
   "outputs": [],
   "source": [
    "arr = torch.round(output[0]).cpu().numpy()[0].astype(int).astype(str)\n",
    "result = ''\n",
    "for i in range(arr.shape[0]):\n",
    "    result += ''.join(arr[i]) + '\\n'\n",
    "# 存檔    \n",
    "with open('U_Net/result.txt', 'w') as f:\n",
    "    f.write(result)"
   ]
  },
  {
   "cell_type": "code",
   "execution_count": 13,
   "id": "4446b29a",
   "metadata": {},
   "outputs": [],
   "source": []
  },
  {
   "cell_type": "markdown",
   "id": "foreign-investing",
   "metadata": {
    "id": "foreign-investing"
   },
   "source": [
    "### References\n",
    "\n",
    "- [Association of genomic subtypes of lower-grade gliomas with shape features automatically extracted by a deep learning algorithm](http://arxiv.org/abs/1906.03720)\n",
    "- [U-Net: Convolutional Networks for Biomedical Image Segmentation](https://arxiv.org/abs/1505.04597)\n",
    "- [Brain MRI segmentation dataset](https://www.kaggle.com/mateuszbuda/lgg-mri-segmentation)"
   ]
  }
 ],
 "metadata": {
  "colab": {
   "name": "mateuszbuda_brain-segmentation-pytorch_unet.ipynb",
   "provenance": []
  },
  "kernelspec": {
   "display_name": "Python 3 (ipykernel)",
   "language": "python",
   "name": "python3"
  },
  "language_info": {
   "codemirror_mode": {
    "name": "ipython",
    "version": 3
   },
   "file_extension": ".py",
   "mimetype": "text/x-python",
   "name": "python",
   "nbconvert_exporter": "python",
   "pygments_lexer": "ipython3",
   "version": "3.9.7"
  }
 },
 "nbformat": 4,
 "nbformat_minor": 5
}
