{
 "cells": [
  {
   "cell_type": "markdown",
   "id": "afc54843",
   "metadata": {
    "id": "afc54843",
    "papermill": {
     "duration": 0.031932,
     "end_time": "2021-12-04T16:48:02.533062",
     "exception": false,
     "start_time": "2021-12-04T16:48:02.501130",
     "status": "completed"
    },
    "tags": []
   },
   "source": [
    "\n",
    "# [Introduction to PytorchLightning](https://colab.research.google.com/github/PytorchLightning/lightning-tutorials/blob/publication/.notebooks/lightning_examples/mnist-hello-world.ipynb#scrollTo=6a0ca038)\n",
    "* **Author:** PL team\n",
    "* **License:** CC BY-SA\n",
    "* **Generated:** 2021-12-04T16:53:03.416116"
   ]
  },
  {
   "cell_type": "code",
   "execution_count": 3,
   "id": "bd97d928",
   "metadata": {
    "execution": {
     "iopub.execute_input": "2021-12-04T16:48:05.639252Z",
     "iopub.status.busy": "2021-12-04T16:48:05.638766Z",
     "iopub.status.idle": "2021-12-04T16:48:09.447461Z",
     "shell.execute_reply": "2021-12-04T16:48:09.446985Z"
    },
    "id": "bd97d928",
    "papermill": {
     "duration": 3.841766,
     "end_time": "2021-12-04T16:48:09.447591",
     "exception": false,
     "start_time": "2021-12-04T16:48:05.605825",
     "status": "completed"
    },
    "tags": []
   },
   "outputs": [],
   "source": [
    "import os\n",
    "\n",
    "import torch\n",
    "from pytorch_lightning import LightningModule, Trainer\n",
    "from torch import nn\n",
    "from torch.nn import functional as F\n",
    "from torch.utils.data import DataLoader, random_split\n",
    "from torchmetrics import Accuracy\n",
    "from torchvision import transforms\n",
    "from torchvision.datasets import MNIST\n",
    "\n",
    "PATH_DATASETS = os.environ.get(\"PATH_DATASETS\", \".\")\n",
    "AVAIL_GPUS = min(1, torch.cuda.device_count())\n",
    "BATCH_SIZE = 256 if AVAIL_GPUS else 64"
   ]
  },
  {
   "cell_type": "markdown",
   "id": "341c1376",
   "metadata": {
    "id": "341c1376",
    "papermill": {
     "duration": 0.028061,
     "end_time": "2021-12-04T16:48:09.624815",
     "exception": false,
     "start_time": "2021-12-04T16:48:09.596754",
     "status": "completed"
    },
    "tags": []
   },
   "source": [
    "By using the `Trainer` you automatically get:\n",
    "1. Tensorboard logging\n",
    "2. Model checkpointing\n",
    "3. Training and validation loop\n",
    "4. early-stopping"
   ]
  },
  {
   "cell_type": "code",
   "execution_count": 4,
   "id": "6a0ca038",
   "metadata": {
    "execution": {
     "iopub.execute_input": "2021-12-04T16:48:29.028294Z",
     "iopub.status.busy": "2021-12-04T16:48:29.018412Z",
     "iopub.status.idle": "2021-12-04T16:48:29.030251Z",
     "shell.execute_reply": "2021-12-04T16:48:29.029861Z"
    },
    "id": "6a0ca038",
    "papermill": {
     "duration": 0.04784,
     "end_time": "2021-12-04T16:48:29.030353",
     "exception": false,
     "start_time": "2021-12-04T16:48:28.982513",
     "status": "completed"
    },
    "tags": []
   },
   "outputs": [],
   "source": [
    "# 建立模型\n",
    "class LitMNIST(LightningModule):\n",
    "    def __init__(self, data_dir=PATH_DATASETS, hidden_size=64, learning_rate=2e-4):\n",
    "\n",
    "        super().__init__()\n",
    "\n",
    "        # Set our init args as class attributes\n",
    "        self.data_dir = data_dir\n",
    "        self.hidden_size = hidden_size\n",
    "        self.learning_rate = learning_rate\n",
    "\n",
    "        # Hardcode some dataset specific attributes\n",
    "        self.num_classes = 10\n",
    "        self.dims = (1, 28, 28)\n",
    "        channels, width, height = self.dims\n",
    "        self.transform = transforms.Compose(\n",
    "            [\n",
    "                transforms.ToTensor(),\n",
    "                transforms.Normalize((0.1307,), (0.3081,)),\n",
    "            ]\n",
    "        )\n",
    "\n",
    "        # Define PyTorch model\n",
    "        self.model = nn.Sequential(\n",
    "            nn.Flatten(),\n",
    "            nn.Linear(channels * width * height, hidden_size),\n",
    "            nn.ReLU(),\n",
    "            nn.Dropout(0.1),\n",
    "            nn.Linear(hidden_size, hidden_size),\n",
    "            nn.ReLU(),\n",
    "            nn.Dropout(0.1),\n",
    "            nn.Linear(hidden_size, self.num_classes),\n",
    "        )\n",
    "\n",
    "        self.accuracy = Accuracy()\n",
    "\n",
    "    def forward(self, x):\n",
    "        x = self.model(x)\n",
    "        return F.log_softmax(x, dim=1)\n",
    "\n",
    "    def training_step(self, batch, batch_idx):\n",
    "        x, y = batch\n",
    "        logits = self(x)\n",
    "        loss = F.nll_loss(logits, y)\n",
    "        return loss\n",
    "\n",
    "    def validation_step(self, batch, batch_idx):\n",
    "        x, y = batch\n",
    "        logits = self(x)\n",
    "        loss = F.nll_loss(logits, y)\n",
    "        preds = torch.argmax(logits, dim=1)\n",
    "        self.accuracy(preds, y)\n",
    "\n",
    "        # Calling self.log will surface up scalars for you in TensorBoard\n",
    "        self.log(\"val_loss\", loss, prog_bar=True)\n",
    "        self.log(\"val_acc\", self.accuracy, prog_bar=True)\n",
    "        return loss\n",
    "\n",
    "    def test_step(self, batch, batch_idx):\n",
    "        # Here we just reuse the validation_step for testing\n",
    "        return self.validation_step(batch, batch_idx)\n",
    "\n",
    "    def configure_optimizers(self):\n",
    "        optimizer = torch.optim.Adam(self.parameters(), lr=self.learning_rate)\n",
    "        return optimizer\n",
    "\n",
    "    ####################\n",
    "    # DATA RELATED HOOKS\n",
    "    ####################\n",
    "\n",
    "    def prepare_data(self):\n",
    "        # download\n",
    "        MNIST(self.data_dir, train=True, download=True)\n",
    "        MNIST(self.data_dir, train=False, download=True)\n",
    "\n",
    "    def setup(self, stage=None):\n",
    "\n",
    "        # Assign train/val datasets for use in dataloaders\n",
    "        if stage == \"fit\" or stage is None:\n",
    "            mnist_full = MNIST(self.data_dir, train=True, transform=self.transform)\n",
    "            self.mnist_train, self.mnist_val = random_split(mnist_full, [55000, 5000])\n",
    "\n",
    "        # Assign test dataset for use in dataloader(s)\n",
    "        if stage == \"test\" or stage is None:\n",
    "            self.mnist_test = MNIST(self.data_dir, train=False, transform=self.transform)\n",
    "\n",
    "    def train_dataloader(self):\n",
    "        return DataLoader(self.mnist_train, batch_size=BATCH_SIZE)\n",
    "\n",
    "    def val_dataloader(self):\n",
    "        return DataLoader(self.mnist_val, batch_size=BATCH_SIZE)\n",
    "\n",
    "    def test_dataloader(self):\n",
    "        return DataLoader(self.mnist_test, batch_size=BATCH_SIZE)"
   ]
  },
  {
   "cell_type": "code",
   "execution_count": 8,
   "id": "8b595285",
   "metadata": {
    "colab": {
     "referenced_widgets": [
      "601373ace9d24621bdc3be090c0e9b8b",
      "11ce7ae5de484643b6cc8ad0b77411fe",
      "f7c86a8dd9c04460b3a3cf2b3056dad0",
      "292a3bb25f83487db56ebc2b6e7d117b",
      "6fefda9cb8654253bbd58b94764626e3"
     ]
    },
    "execution": {
     "iopub.execute_input": "2021-12-04T16:48:29.104668Z",
     "iopub.status.busy": "2021-12-04T16:48:29.104193Z",
     "iopub.status.idle": "2021-12-04T16:49:00.348987Z",
     "shell.execute_reply": "2021-12-04T16:49:00.348528Z"
    },
    "id": "8b595285",
    "outputId": "492f8d25-c676-4915-9a69-65a2e0bca911",
    "papermill": {
     "duration": 31.284667,
     "end_time": "2021-12-04T16:49:00.349114",
     "exception": false,
     "start_time": "2021-12-04T16:48:29.064447",
     "status": "completed"
    },
    "tags": []
   },
   "outputs": [
    {
     "name": "stderr",
     "output_type": "stream",
     "text": [
      "GPU available: True, used: True\n",
      "TPU available: False, using: 0 TPU cores\n",
      "IPU available: False, using: 0 IPUs\n",
      "LOCAL_RANK: 0 - CUDA_VISIBLE_DEVICES: [0]\n",
      "Missing logger folder: F:\\0_AI\\Books\\PyTorch\\src\\lightning_logs\n",
      "\n",
      "  | Name     | Type       | Params\n",
      "----------------------------------------\n",
      "0 | model    | Sequential | 55.1 K\n",
      "1 | accuracy | Accuracy   | 0     \n",
      "----------------------------------------\n",
      "55.1 K    Trainable params\n",
      "0         Non-trainable params\n",
      "55.1 K    Total params\n",
      "0.220     Total estimated model params size (MB)\n"
     ]
    },
    {
     "data": {
      "application/vnd.jupyter.widget-view+json": {
       "model_id": "",
       "version_major": 2,
       "version_minor": 0
      },
      "text/plain": [
       "Validation sanity check: 0it [00:00, ?it/s]"
      ]
     },
     "metadata": {},
     "output_type": "display_data"
    },
    {
     "data": {
      "application/vnd.jupyter.widget-view+json": {
       "model_id": "5aeaae66a2fc4cb080d3d401dd9e57cf",
       "version_major": 2,
       "version_minor": 0
      },
      "text/plain": [
       "Training: 0it [00:00, ?it/s]"
      ]
     },
     "metadata": {},
     "output_type": "display_data"
    },
    {
     "data": {
      "application/vnd.jupyter.widget-view+json": {
       "model_id": "",
       "version_major": 2,
       "version_minor": 0
      },
      "text/plain": [
       "Validating: 0it [00:00, ?it/s]"
      ]
     },
     "metadata": {},
     "output_type": "display_data"
    },
    {
     "data": {
      "application/vnd.jupyter.widget-view+json": {
       "model_id": "",
       "version_major": 2,
       "version_minor": 0
      },
      "text/plain": [
       "Validating: 0it [00:00, ?it/s]"
      ]
     },
     "metadata": {},
     "output_type": "display_data"
    },
    {
     "data": {
      "application/vnd.jupyter.widget-view+json": {
       "model_id": "",
       "version_major": 2,
       "version_minor": 0
      },
      "text/plain": [
       "Validating: 0it [00:00, ?it/s]"
      ]
     },
     "metadata": {},
     "output_type": "display_data"
    }
   ],
   "source": [
    "model = LitMNIST()\n",
    "trainer = Trainer(\n",
    "    gpus=AVAIL_GPUS,\n",
    "    max_epochs=3,\n",
    "    progress_bar_refresh_rate=20,\n",
    ")\n",
    "trainer.fit(model)"
   ]
  },
  {
   "cell_type": "code",
   "execution_count": 9,
   "id": "caee2e97",
   "metadata": {
    "colab": {
     "referenced_widgets": [
      "b2042d298d80448885957a83ec7d3c2b"
     ]
    },
    "execution": {
     "iopub.execute_input": "2021-12-04T16:49:00.530200Z",
     "iopub.status.busy": "2021-12-04T16:49:00.529111Z",
     "iopub.status.idle": "2021-12-04T16:49:02.326996Z",
     "shell.execute_reply": "2021-12-04T16:49:02.326564Z"
    },
    "id": "caee2e97",
    "outputId": "d261546a-585a-4dbc-f25a-97328785545b",
    "papermill": {
     "duration": 1.845813,
     "end_time": "2021-12-04T16:49:02.327125",
     "exception": false,
     "start_time": "2021-12-04T16:49:00.481312",
     "status": "completed"
    },
    "tags": []
   },
   "outputs": [
    {
     "name": "stderr",
     "output_type": "stream",
     "text": [
      "Restoring states from the checkpoint path at F:\\0_AI\\Books\\PyTorch\\src\\lightning_logs\\version_0\\checkpoints\\epoch=2-step=644.ckpt\n",
      "LOCAL_RANK: 0 - CUDA_VISIBLE_DEVICES: [0]\n",
      "Loaded model weights from checkpoint at F:\\0_AI\\Books\\PyTorch\\src\\lightning_logs\\version_0\\checkpoints\\epoch=2-step=644.ckpt\n"
     ]
    },
    {
     "data": {
      "application/vnd.jupyter.widget-view+json": {
       "model_id": "81d807505a404fa8bd5b48eddc3170ed",
       "version_major": 2,
       "version_minor": 0
      },
      "text/plain": [
       "Testing: 0it [00:00, ?it/s]"
      ]
     },
     "metadata": {},
     "output_type": "display_data"
    },
    {
     "name": "stdout",
     "output_type": "stream",
     "text": [
      "--------------------------------------------------------------------------------\n",
      "DATALOADER:0 TEST RESULTS\n",
      "{'val_acc': 0.9273999929428101, 'val_loss': 0.2443571537733078}\n",
      "--------------------------------------------------------------------------------\n"
     ]
    },
    {
     "data": {
      "text/plain": [
       "[{'val_loss': 0.2443571537733078, 'val_acc': 0.9273999929428101}]"
      ]
     },
     "execution_count": 9,
     "metadata": {},
     "output_type": "execute_result"
    }
   ],
   "source": [
    "# 測試資料預測\n",
    "trainer.test()"
   ]
  },
  {
   "cell_type": "markdown",
   "id": "c1c65385",
   "metadata": {
    "id": "c1c65385",
    "papermill": {
     "duration": 0.053219,
     "end_time": "2021-12-04T16:49:02.867679",
     "exception": false,
     "start_time": "2021-12-04T16:49:02.814460",
     "status": "completed"
    },
    "tags": []
   },
   "source": [
    "In Colab, you can use the TensorBoard magic function to view the logs that Lightning has created for you!"
   ]
  },
  {
   "cell_type": "code",
   "execution_count": 10,
   "id": "fdd68fee",
   "metadata": {
    "execution": {
     "iopub.execute_input": "2021-12-04T16:49:02.978094Z",
     "iopub.status.busy": "2021-12-04T16:49:02.977622Z",
     "iopub.status.idle": "2021-12-04T16:49:04.563924Z",
     "shell.execute_reply": "2021-12-04T16:49:04.564319Z"
    },
    "id": "fdd68fee",
    "outputId": "3e7e8642-ef5f-41e3-c5b7-48c97488256b",
    "papermill": {
     "duration": 1.643849,
     "end_time": "2021-12-04T16:49:04.564484",
     "exception": false,
     "start_time": "2021-12-04T16:49:02.920635",
     "status": "completed"
    },
    "tags": []
   },
   "outputs": [
    {
     "name": "stdout",
     "output_type": "stream",
     "text": [
      "The tensorboard extension is already loaded. To reload it, use:\n",
      "  %reload_ext tensorboard\n"
     ]
    },
    {
     "data": {
      "text/plain": [
       "Reusing TensorBoard on port 6006 (pid 23700), started 1:32:15 ago. (Use '!kill 23700' to kill it.)"
      ]
     },
     "metadata": {},
     "output_type": "display_data"
    },
    {
     "data": {
      "text/html": [
       "\n",
       "      <iframe id=\"tensorboard-frame-3a099e187a55b4fe\" width=\"100%\" height=\"800\" frameborder=\"0\">\n",
       "      </iframe>\n",
       "      <script>\n",
       "        (function() {\n",
       "          const frame = document.getElementById(\"tensorboard-frame-3a099e187a55b4fe\");\n",
       "          const url = new URL(\"/\", window.location);\n",
       "          const port = 6006;\n",
       "          if (port) {\n",
       "            url.port = port;\n",
       "          }\n",
       "          frame.src = url;\n",
       "        })();\n",
       "      </script>\n",
       "    "
      ],
      "text/plain": [
       "<IPython.core.display.HTML object>"
      ]
     },
     "metadata": {},
     "output_type": "display_data"
    }
   ],
   "source": [
    "# Start tensorboard.\n",
    "%load_ext tensorboard\n",
    "%tensorboard --logdir lightning_logs/"
   ]
  }
 ],
 "metadata": {
  "colab": {
   "name": "mnist-hello-world.ipynb",
   "provenance": []
  },
  "jupytext": {
   "cell_metadata_filter": "id,colab,colab_type,-all",
   "formats": "ipynb,py:percent",
   "main_language": "python"
  },
  "kernelspec": {
   "display_name": "Python 3",
   "language": "python",
   "name": "python3"
  },
  "language_info": {
   "codemirror_mode": {
    "name": "ipython",
    "version": 3
   },
   "file_extension": ".py",
   "mimetype": "text/x-python",
   "name": "python",
   "nbconvert_exporter": "python",
   "pygments_lexer": "ipython3",
   "version": "3.8.8"
  },
  "papermill": {
   "default_parameters": {},
   "duration": 64.932502,
   "end_time": "2021-12-04T16:49:06.142038",
   "environment_variables": {},
   "exception": null,
   "input_path": "lightning_examples/mnist-hello-world/hello-world.ipynb",
   "output_path": ".notebooks/lightning_examples/mnist-hello-world.ipynb",
   "parameters": {},
   "start_time": "2021-12-04T16:48:01.209536",
   "version": "2.3.3"
  },
  "widgets": {
   "application/vnd.jupyter.widget-state+json": {}
  }
 },
 "nbformat": 4,
 "nbformat_minor": 5
}
