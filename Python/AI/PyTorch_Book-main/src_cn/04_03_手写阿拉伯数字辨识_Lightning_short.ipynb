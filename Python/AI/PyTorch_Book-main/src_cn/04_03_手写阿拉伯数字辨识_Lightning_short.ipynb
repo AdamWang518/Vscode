{
 "cells": [
  {
   "cell_type": "markdown",
   "id": "afc54843",
   "metadata": {
    "id": "afc54843",
    "papermill": {
     "duration": 0.031932,
     "end_time": "2021-12-04T16:48:02.533062",
     "exception": false,
     "start_time": "2021-12-04T16:48:02.501130",
     "status": "completed"
    },
    "tags": []
   },
   "source": [
    "\n",
    "# [Introduction to PytorchLightning](https://colab.research.google.com/github/PytorchLightning/lightning-tutorials/blob/publication/.notebooks/lightning_examples/mnist-hello-world.ipynb#scrollTo=6a0ca038)\n",
    "* **Author:** PL team\n",
    "* **License:** CC BY-SA\n",
    "* **Generated:** 2021-12-04T16:53:03.416116"
   ]
  },
  {
   "cell_type": "markdown",
   "id": "27a845da",
   "metadata": {
    "id": "27a845da",
    "papermill": {
     "duration": 0.027971,
     "end_time": "2021-12-04T16:48:02.591409",
     "exception": false,
     "start_time": "2021-12-04T16:48:02.563438",
     "status": "completed"
    },
    "tags": []
   },
   "source": [
    "## 载入套件"
   ]
  },
  {
   "cell_type": "code",
   "execution_count": 5,
   "id": "7125a2f3",
   "metadata": {
    "execution": {
     "iopub.execute_input": "2021-12-04T16:48:05.639252Z",
     "iopub.status.busy": "2021-12-04T16:48:05.638766Z",
     "iopub.status.idle": "2021-12-04T16:48:09.447461Z",
     "shell.execute_reply": "2021-12-04T16:48:09.446985Z"
    },
    "id": "bd97d928",
    "papermill": {
     "duration": 3.841766,
     "end_time": "2021-12-04T16:48:09.447591",
     "exception": false,
     "start_time": "2021-12-04T16:48:05.605825",
     "status": "completed"
    },
    "tags": []
   },
   "outputs": [],
   "source": [
    "# 载入套件\n",
    "import torch\n",
    "from torch.nn import functional as F\n",
    "from torch.utils.data import DataLoader\n",
    "from pytorch_lightning import LightningModule, Trainer\n",
    "from torchvision import transforms\n",
    "from torchvision.datasets import MNIST"
   ]
  },
  {
   "cell_type": "markdown",
   "id": "42141703",
   "metadata": {},
   "source": [
    "## 设定参数"
   ]
  },
  {
   "cell_type": "code",
   "execution_count": 6,
   "id": "bd97d928",
   "metadata": {
    "execution": {
     "iopub.execute_input": "2021-12-04T16:48:05.639252Z",
     "iopub.status.busy": "2021-12-04T16:48:05.638766Z",
     "iopub.status.idle": "2021-12-04T16:48:09.447461Z",
     "shell.execute_reply": "2021-12-04T16:48:09.446985Z"
    },
    "id": "bd97d928",
    "papermill": {
     "duration": 3.841766,
     "end_time": "2021-12-04T16:48:09.447591",
     "exception": false,
     "start_time": "2021-12-04T16:48:05.605825",
     "status": "completed"
    },
    "tags": []
   },
   "outputs": [],
   "source": [
    "# 设定参数\n",
    "PATH_DATASETS = \"\" # 预设路径\n",
    "AVAIL_GPUS = min(1, torch.cuda.device_count()) # 使用GPU或CPU\n",
    "BATCH_SIZE = 256 if AVAIL_GPUS else 64  # 批量"
   ]
  },
  {
   "cell_type": "markdown",
   "id": "9a44b08a",
   "metadata": {},
   "source": [
    "## 建立模型"
   ]
  },
  {
   "cell_type": "code",
   "execution_count": 7,
   "id": "6bd8a190",
   "metadata": {
    "execution": {
     "iopub.execute_input": "2021-12-04T16:48:09.567111Z",
     "iopub.status.busy": "2021-12-04T16:48:09.566628Z",
     "iopub.status.idle": "2021-12-04T16:48:09.568711Z",
     "shell.execute_reply": "2021-12-04T16:48:09.568201Z"
    },
    "id": "6bd8a190",
    "papermill": {
     "duration": 0.035325,
     "end_time": "2021-12-04T16:48:09.568811",
     "exception": false,
     "start_time": "2021-12-04T16:48:09.533486",
     "status": "completed"
    },
    "tags": []
   },
   "outputs": [],
   "source": [
    "# 建立模型\n",
    "class MNISTModel(LightningModule):\n",
    "    def __init__(self):\n",
    "        super().__init__()\n",
    "        self.l1 = torch.nn.Linear(28 * 28, 10) # 完全连接层\n",
    "\n",
    "    def forward(self, x):\n",
    "        # relu activation function + 完全连接层\n",
    "        return torch.relu(self.l1(x.view(x.size(0), -1)))\n",
    "\n",
    "    def training_step(self, batch, batch_nb):\n",
    "        x, y = batch\n",
    "        loss = F.cross_entropy(self(x), y)  # 交叉熵\n",
    "        return loss\n",
    "\n",
    "    def configure_optimizers(self):\n",
    "        return torch.optim.Adam(self.parameters(), lr=0.02) # Adam 优化器"
   ]
  },
  {
   "cell_type": "markdown",
   "id": "46cfd8f8",
   "metadata": {},
   "source": [
    "## 模型训练"
   ]
  },
  {
   "cell_type": "code",
   "execution_count": 8,
   "id": "b86e988a",
   "metadata": {
    "colab": {
     "referenced_widgets": [
      "5f5b35087a20496caa3f259693946413"
     ]
    },
    "execution": {
     "iopub.execute_input": "2021-12-04T16:48:09.685915Z",
     "iopub.status.busy": "2021-12-04T16:48:09.685422Z",
     "iopub.status.idle": "2021-12-04T16:48:28.879121Z",
     "shell.execute_reply": "2021-12-04T16:48:28.879523Z"
    },
    "id": "b86e988a",
    "outputId": "95aa018f-e765-4809-fde5-4ac8582ad92e",
    "papermill": {
     "duration": 19.226607,
     "end_time": "2021-12-04T16:48:28.879683",
     "exception": false,
     "start_time": "2021-12-04T16:48:09.653076",
     "status": "completed"
    },
    "tags": []
   },
   "outputs": [
    {
     "name": "stderr",
     "output_type": "stream",
     "text": [
      "GPU available: True, used: True\n",
      "TPU available: False, using: 0 TPU cores\n",
      "IPU available: False, using: 0 IPUs\n",
      "LOCAL_RANK: 0 - CUDA_VISIBLE_DEVICES: [0]\n",
      "\n",
      "  | Name | Type   | Params\n",
      "--------------------------------\n",
      "0 | l1   | Linear | 7.9 K \n",
      "--------------------------------\n",
      "7.9 K     Trainable params\n",
      "0         Non-trainable params\n",
      "7.9 K     Total params\n",
      "0.031     Total estimated model params size (MB)\n"
     ]
    },
    {
     "data": {
      "application/vnd.jupyter.widget-view+json": {
       "model_id": "389c76aa3aea45f7bc37270bd3f22d0c",
       "version_major": 2,
       "version_minor": 0
      },
      "text/plain": [
       "Training: 0it [00:00, ?it/s]"
      ]
     },
     "metadata": {},
     "output_type": "display_data"
    }
   ],
   "source": [
    "# 下载 MNIST 手写阿拉伯数字 训练资料\n",
    "train_ds = MNIST(PATH_DATASETS, train=True, download=True, \n",
    "                 transform=transforms.ToTensor())\n",
    "\n",
    "# 建立模型物件\n",
    "mnist_model = MNISTModel()\n",
    "\n",
    "# 建立 DataLoader\n",
    "train_loader = DataLoader(train_ds, batch_size=BATCH_SIZE)\n",
    "\n",
    "# 模型训练\n",
    "trainer = Trainer(gpus=AVAIL_GPUS, max_epochs=3)\n",
    "trainer.fit(mnist_model, train_loader)"
   ]
  },
  {
   "cell_type": "code",
   "execution_count": null,
   "id": "d3fa5066",
   "metadata": {},
   "outputs": [],
   "source": []
  }
 ],
 "metadata": {
  "colab": {
   "name": "mnist-hello-world.ipynb",
   "provenance": []
  },
  "jupytext": {
   "cell_metadata_filter": "id,colab,colab_type,-all",
   "formats": "ipynb,py:percent",
   "main_language": "python"
  },
  "kernelspec": {
   "display_name": "Python 3 (ipykernel)",
   "language": "python",
   "name": "python3"
  },
  "language_info": {
   "codemirror_mode": {
    "name": "ipython",
    "version": 3
   },
   "file_extension": ".py",
   "mimetype": "text/x-python",
   "name": "python",
   "nbconvert_exporter": "python",
   "pygments_lexer": "ipython3",
   "version": "3.9.7"
  },
  "papermill": {
   "default_parameters": {},
   "duration": 64.932502,
   "end_time": "2021-12-04T16:49:06.142038",
   "environment_variables": {},
   "exception": null,
   "input_path": "lightning_examples/mnist-hello-world/hello-world.ipynb",
   "output_path": ".notebooks/lightning_examples/mnist-hello-world.ipynb",
   "parameters": {},
   "start_time": "2021-12-04T16:48:01.209536",
   "version": "2.3.3"
  },
  "widgets": {
   "application/vnd.jupyter.widget-state+json": {}
  }
 },
 "nbformat": 4,
 "nbformat_minor": 5
}
