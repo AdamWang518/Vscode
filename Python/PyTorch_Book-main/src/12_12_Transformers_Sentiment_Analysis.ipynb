{
 "cells": [
  {
   "cell_type": "markdown",
   "metadata": {},
   "source": [
    "# 以Transformers套件進行情緒分析(Sentiment analysis)"
   ]
  },
  {
   "cell_type": "code",
   "execution_count": 1,
   "metadata": {},
   "outputs": [],
   "source": [
    "# 載入相關套件\n",
    "from transformers import pipeline"
   ]
  },
  {
   "cell_type": "markdown",
   "metadata": {},
   "source": [
    "## 情緒分析(Sentiment analysis)"
   ]
  },
  {
   "cell_type": "code",
   "execution_count": null,
   "metadata": {},
   "outputs": [],
   "source": [
    "# bug fixed\n",
    "!pip install torch-scatter==2.0.8"
   ]
  },
  {
   "cell_type": "code",
   "execution_count": 2,
   "metadata": {},
   "outputs": [
    {
     "name": "stderr",
     "output_type": "stream",
     "text": [
      "No model was supplied, defaulted to distilbert-base-uncased-finetuned-sst-2-english (https://huggingface.co/distilbert-base-uncased-finetuned-sst-2-english)\n"
     ]
    }
   ],
   "source": [
    "# 載入模型\n",
    "classifier = pipeline('sentiment-analysis')"
   ]
  },
  {
   "cell_type": "code",
   "execution_count": 3,
   "metadata": {
    "scrolled": true
   },
   "outputs": [
    {
     "name": "stdout",
     "output_type": "stream",
     "text": [
      "[{'label': 'POSITIVE', 'score': 0.9997795224189758}]\n",
      "[{'label': 'NEGATIVE', 'score': 0.9996869564056396}]\n",
      "[{'label': 'POSITIVE', 'score': 0.999536395072937}]\n"
     ]
    }
   ],
   "source": [
    "# 正面\n",
    "print(classifier('We are very happy to show you the 🤗 Transformers library.'))\n",
    "\n",
    "# 負面\n",
    "print(classifier('I hate this movie.'))\n",
    "\n",
    "# 否定句也可以正確分類\n",
    "print(classifier('the movie is not bad.'))"
   ]
  },
  {
   "cell_type": "code",
   "execution_count": 4,
   "metadata": {
    "scrolled": true
   },
   "outputs": [
    {
     "name": "stdout",
     "output_type": "stream",
     "text": [
      "label: POSITIVE, with score: 0.9999\n",
      "label: NEGATIVE, with score: 0.5309\n"
     ]
    }
   ],
   "source": [
    "# 一次測試多筆\n",
    "results = classifier([\"We are very happy.\",\n",
    "                      \"We hope you don't hate it.\"])\n",
    "for result in results:\n",
    "    print(f\"label: {result['label']}, with score: {round(result['score'], 4)}\")"
   ]
  },
  {
   "cell_type": "code",
   "execution_count": 5,
   "metadata": {},
   "outputs": [],
   "source": [
    "# 載入多語系模型，支援 English, French, Dutch, German, Italian, Spanish\n",
    "classifier = pipeline('sentiment-analysis', model='nlptown/bert-base-multilingual-uncased-sentiment')"
   ]
  },
  {
   "cell_type": "code",
   "execution_count": 7,
   "metadata": {},
   "outputs": [
    {
     "name": "stdout",
     "output_type": "stream",
     "text": [
      "[{'label': '1 star', 'score': 0.46158283948898315}]\n",
      "[{'label': '3 stars', 'score': 0.6274545192718506}]\n"
     ]
    }
   ],
   "source": [
    "# 西班牙文(Spanish)\n",
    "# 負面, I hate this movie\n",
    "print(classifier('Odio esta pelicula.'))\n",
    "\n",
    "# the movie is not bad.\n",
    "print(classifier('la pelicula no esta mal.'))"
   ]
  },
  {
   "cell_type": "code",
   "execution_count": 8,
   "metadata": {},
   "outputs": [
    {
     "name": "stdout",
     "output_type": "stream",
     "text": [
      "[{'label': '1 star', 'score': 0.6311177611351013}]\n",
      "[{'label': '3 stars', 'score': 0.5710769295692444}]\n"
     ]
    }
   ],
   "source": [
    "# 法文(French)\n",
    "# 負面, I hate this movie\n",
    "print(classifier('Je déteste ce film.'))\n",
    "\n",
    "# the movie is not bad.\n",
    "print(classifier('le film n\\'est pas mal.'))"
   ]
  },
  {
   "cell_type": "code",
   "execution_count": null,
   "metadata": {},
   "outputs": [],
   "source": []
  }
 ],
 "metadata": {
  "kernelspec": {
   "display_name": "Python 3 (ipykernel)",
   "language": "python",
   "name": "python3"
  },
  "language_info": {
   "codemirror_mode": {
    "name": "ipython",
    "version": 3
   },
   "file_extension": ".py",
   "mimetype": "text/x-python",
   "name": "python",
   "nbconvert_exporter": "python",
   "pygments_lexer": "ipython3",
   "version": "3.9.7"
  }
 },
 "nbformat": 4,
 "nbformat_minor": 4
}
