{
 "cells": [
  {
   "cell_type": "markdown",
   "metadata": {},
   "source": [
    "# CIFAR with Data Augmentation"
   ]
  },
  {
   "cell_type": "markdown",
   "metadata": {},
   "source": [
    "## 載入套件"
   ]
  },
  {
   "cell_type": "code",
   "execution_count": 9,
   "metadata": {},
   "outputs": [],
   "source": [
    "import os\n",
    "import torch\n",
    "from torch import nn\n",
    "from torch.nn import functional as F\n",
    "from torch.utils.data import DataLoader, random_split\n",
    "from torchmetrics import Accuracy\n",
    "import torchvision \n",
    "from torchvision import transforms\n",
    "import numpy as np"
   ]
  },
  {
   "cell_type": "markdown",
   "metadata": {},
   "source": [
    "## 設定參數"
   ]
  },
  {
   "cell_type": "code",
   "execution_count": 2,
   "metadata": {},
   "outputs": [
    {
     "data": {
      "text/plain": [
       "'cuda'"
      ]
     },
     "execution_count": 2,
     "metadata": {},
     "output_type": "execute_result"
    }
   ],
   "source": [
    "# 設定參數\n",
    "BATCH_SIZE = 1000  # 批量\n",
    "device = torch.device(\"cuda\" if torch.cuda.is_available() else \"cpu\")\n",
    "\"cuda\" if torch.cuda.is_available() else \"cpu\""
   ]
  },
  {
   "cell_type": "markdown",
   "metadata": {},
   "source": [
    "## 定義資料增補函數"
   ]
  },
  {
   "cell_type": "code",
   "execution_count": 36,
   "metadata": {},
   "outputs": [],
   "source": [
    "image_width = 32\n",
    "train_transforms = transforms.Compose([\n",
    "    # 裁切部分圖像，再調整圖像尺寸\n",
    "    #transforms.RandomResizedCrop(image_width, scale=(0.8, 1.0)), \n",
    "    #transforms.RandomRotation(degrees=(-10, 10)), # 旋轉 10 度\n",
    "    #transforms.RandomHorizontalFlip(), # 水平翻轉\n",
    "    transforms.RandomHorizontalFlip(p=0.5),\n",
    "    transforms.RandomCrop(image_width, padding=4),\n",
    "    #transforms.ColorJitter(), # 亮度、飽和度、對比資料增補\n",
    "    #transforms.RandomAffine(10), # 仿射\n",
    "    transforms.ToTensor(), \n",
    "    transforms.Normalize(mean=(0.1307,), std=(0.3081,))\n",
    "    ])\n",
    "\n",
    "test_transforms = transforms.Compose([\n",
    "    transforms.Resize((image_width, image_width)), # 調整圖像尺寸\n",
    "    transforms.ToTensor(), \n",
    "    transforms.Normalize(mean=(0.1307,), std=(0.3081,))\n",
    "    ])"
   ]
  },
  {
   "cell_type": "markdown",
   "metadata": {},
   "source": [
    "## 步驟1：載入資料集"
   ]
  },
  {
   "cell_type": "code",
   "execution_count": 37,
   "metadata": {},
   "outputs": [
    {
     "name": "stdout",
     "output_type": "stream",
     "text": [
      "Files already downloaded and verified\n",
      "Files already downloaded and verified\n",
      "(50000, 32, 32, 3) (10000, 32, 32, 3)\n"
     ]
    }
   ],
   "source": [
    "# 載入資料集，如果出現 BrokenPipeError 錯誤，將 num_workers 改為 0\n",
    "train_ds = torchvision.datasets.CIFAR10(root='./CIFAR10', train=True,\n",
    "                                download=True, transform=train_transforms)\n",
    "\n",
    "train_loader = torch.utils.data.DataLoader(train_ds, batch_size=BATCH_SIZE,\n",
    "                                shuffle=True, num_workers=2)\n",
    "\n",
    "test_ds = torchvision.datasets.CIFAR10(root='./CIFAR10', train=False,\n",
    "                                download=True, transform=test_transforms)\n",
    "\n",
    "test_loader = torch.utils.data.DataLoader(test_ds, batch_size=BATCH_SIZE,\n",
    "                                shuffle=False , num_workers=2)\n",
    "\n",
    "# 訓練/測試資料的維度\n",
    "print(train_ds.data.shape, test_ds.data.shape)"
   ]
  },
  {
   "cell_type": "markdown",
   "metadata": {},
   "source": [
    "## 步驟2：資料清理，此步驟無需進行"
   ]
  },
  {
   "cell_type": "markdown",
   "metadata": {},
   "source": [
    "## 步驟3：特徵工程，此步驟無需進行"
   ]
  },
  {
   "cell_type": "markdown",
   "metadata": {},
   "source": [
    "## 步驟4：資料分割，此步驟無需進行，載入MNIST資料時，已經切割好了"
   ]
  },
  {
   "cell_type": "markdown",
   "metadata": {},
   "source": [
    "## 步驟5：建立模型結構"
   ]
  },
  {
   "cell_type": "code",
   "execution_count": 38,
   "metadata": {},
   "outputs": [],
   "source": [
    "class Net(nn.Module):\n",
    "    def __init__(self):\n",
    "        super().__init__()\n",
    "        # 顏色要放在第1維，3:RGB三顏色\n",
    "        self.conv1 = nn.Conv2d(3, 6, 5) \n",
    "        self.pool = nn.MaxPool2d(2, 2)\n",
    "        self.conv2 = nn.Conv2d(6, 16, 5)\n",
    "        self.fc1 = nn.Linear(16 * 5 * 5, 120)\n",
    "        self.fc2 = nn.Linear(120, 84)\n",
    "        self.fc3 = nn.Linear(84, 10)\n",
    "\n",
    "    def forward(self, x):\n",
    "        x = self.pool(F.relu(self.conv1(x)))\n",
    "        x = self.pool(F.relu(self.conv2(x)))\n",
    "        x = torch.flatten(x, 1) \n",
    "        x = F.relu(self.fc1(x))\n",
    "        x = F.relu(self.fc2(x))\n",
    "        x = self.fc3(x)\n",
    "#         output = F.log_softmax(x, dim=1)\n",
    "        return x"
   ]
  },
  {
   "cell_type": "markdown",
   "metadata": {},
   "source": [
    "## 步驟6：結合訓練資料及模型，進行模型訓練"
   ]
  },
  {
   "cell_type": "code",
   "execution_count": 39,
   "metadata": {},
   "outputs": [],
   "source": [
    "def train(model, device, train_loader, criterion, optimizer, epoch):\n",
    "    model.train()\n",
    "    loss_list = []    \n",
    "    for batch_idx, (data, target) in enumerate(train_loader):\n",
    "        data, target = data.to(device), target.to(device)\n",
    "        \n",
    "        optimizer.zero_grad()\n",
    "        output = model(data)\n",
    "        #loss = F.nll_loss(output, target)\n",
    "        loss = criterion(output, target)\n",
    "        loss.backward()\n",
    "        optimizer.step()\n",
    "        \n",
    "        if (batch_idx+1) % 10 == 0:\n",
    "            loss_list.append(loss.item())\n",
    "            batch = (batch_idx+1) * len(data)\n",
    "            data_count = len(train_loader.dataset)\n",
    "            percentage = (100. * (batch_idx+1) / len(train_loader))\n",
    "            print(f'Epoch {epoch}: [{batch:5d} / {data_count}] ({percentage:.0f} %)' +\n",
    "                  f'  Loss: {loss.item():.6f}')\n",
    "    return loss_list"
   ]
  },
  {
   "cell_type": "code",
   "execution_count": 40,
   "metadata": {},
   "outputs": [],
   "source": [
    "def test(model, device, test_loader):\n",
    "    model.eval()\n",
    "    test_loss = 0\n",
    "    correct = 0\n",
    "    with torch.no_grad():\n",
    "        for data, target in test_loader:\n",
    "            # print(data.shape)\n",
    "            # print(target)\n",
    "            if type(data) == tuple:\n",
    "                data = torch.FloatTensor(data)\n",
    "            if type(target) == tuple:\n",
    "                target = torch.Tensor(target)\n",
    "            data, target = data.to(device), target.to(device)\n",
    "            output = model(data)\n",
    "            #test_loss += F.nll_loss(output, target, reduction='sum').item()  # sum up batch loss\n",
    "            _, predicted = torch.max(output.data, 1)\n",
    "            # print(predicted)\n",
    "            correct += (predicted == target).sum().item()\n",
    "\n",
    "    # 平均損失\n",
    "    test_loss /= len(test_loader.dataset) \n",
    "    # 顯示測試結果\n",
    "    data_count = len(test_loader.dataset)\n",
    "    percentage = 100. * correct / data_count \n",
    "    print(f'準確率: {correct}/{data_count} ({percentage:.2f}%)')"
   ]
  },
  {
   "cell_type": "code",
   "execution_count": 52,
   "metadata": {
    "scrolled": false
   },
   "outputs": [
    {
     "name": "stdout",
     "output_type": "stream",
     "text": [
      "Epoch 1: [10000 / 50000] (20 %)  Loss: 2.300905\n",
      "Epoch 1: [20000 / 50000] (40 %)  Loss: 2.302145\n",
      "Epoch 1: [30000 / 50000] (60 %)  Loss: 2.295762\n",
      "Epoch 1: [40000 / 50000] (80 %)  Loss: 2.296967\n",
      "Epoch 1: [50000 / 50000] (100 %)  Loss: 2.280695\n",
      "Epoch 2: [10000 / 50000] (20 %)  Loss: 2.279377\n",
      "Epoch 2: [20000 / 50000] (40 %)  Loss: 2.274392\n",
      "Epoch 2: [30000 / 50000] (60 %)  Loss: 2.248450\n",
      "Epoch 2: [40000 / 50000] (80 %)  Loss: 2.202183\n",
      "Epoch 2: [50000 / 50000] (100 %)  Loss: 2.185362\n",
      "Epoch 3: [10000 / 50000] (20 %)  Loss: 2.127601\n",
      "Epoch 3: [20000 / 50000] (40 %)  Loss: 2.066868\n",
      "Epoch 3: [30000 / 50000] (60 %)  Loss: 1.988520\n",
      "Epoch 3: [40000 / 50000] (80 %)  Loss: 2.027357\n",
      "Epoch 3: [50000 / 50000] (100 %)  Loss: 1.972401\n",
      "Epoch 4: [10000 / 50000] (20 %)  Loss: 1.930738\n",
      "Epoch 4: [20000 / 50000] (40 %)  Loss: 1.944878\n",
      "Epoch 4: [30000 / 50000] (60 %)  Loss: 1.929402\n",
      "Epoch 4: [40000 / 50000] (80 %)  Loss: 1.947743\n",
      "Epoch 4: [50000 / 50000] (100 %)  Loss: 1.911450\n",
      "Epoch 5: [10000 / 50000] (20 %)  Loss: 1.877957\n",
      "Epoch 5: [20000 / 50000] (40 %)  Loss: 1.871954\n",
      "Epoch 5: [30000 / 50000] (60 %)  Loss: 1.891188\n",
      "Epoch 5: [40000 / 50000] (80 %)  Loss: 1.850889\n",
      "Epoch 5: [50000 / 50000] (100 %)  Loss: 1.844108\n",
      "Epoch 6: [10000 / 50000] (20 %)  Loss: 1.783884\n",
      "Epoch 6: [20000 / 50000] (40 %)  Loss: 1.790888\n",
      "Epoch 6: [30000 / 50000] (60 %)  Loss: 1.788255\n",
      "Epoch 6: [40000 / 50000] (80 %)  Loss: 1.753442\n",
      "Epoch 6: [50000 / 50000] (100 %)  Loss: 1.761248\n",
      "Epoch 7: [10000 / 50000] (20 %)  Loss: 1.752362\n",
      "Epoch 7: [20000 / 50000] (40 %)  Loss: 1.735809\n",
      "Epoch 7: [30000 / 50000] (60 %)  Loss: 1.736241\n",
      "Epoch 7: [40000 / 50000] (80 %)  Loss: 1.712714\n",
      "Epoch 7: [50000 / 50000] (100 %)  Loss: 1.709826\n",
      "Epoch 8: [10000 / 50000] (20 %)  Loss: 1.742376\n",
      "Epoch 8: [20000 / 50000] (40 %)  Loss: 1.707907\n",
      "Epoch 8: [30000 / 50000] (60 %)  Loss: 1.615485\n",
      "Epoch 8: [40000 / 50000] (80 %)  Loss: 1.689909\n",
      "Epoch 8: [50000 / 50000] (100 %)  Loss: 1.634977\n",
      "Epoch 9: [10000 / 50000] (20 %)  Loss: 1.777575\n",
      "Epoch 9: [20000 / 50000] (40 %)  Loss: 1.640873\n",
      "Epoch 9: [30000 / 50000] (60 %)  Loss: 1.626180\n",
      "Epoch 9: [40000 / 50000] (80 %)  Loss: 1.601874\n",
      "Epoch 9: [50000 / 50000] (100 %)  Loss: 1.640714\n",
      "Epoch 10: [10000 / 50000] (20 %)  Loss: 1.705840\n",
      "Epoch 10: [20000 / 50000] (40 %)  Loss: 1.643587\n",
      "Epoch 10: [30000 / 50000] (60 %)  Loss: 1.612452\n",
      "Epoch 10: [40000 / 50000] (80 %)  Loss: 1.595202\n",
      "Epoch 10: [50000 / 50000] (100 %)  Loss: 1.577840\n",
      "Epoch 11: [10000 / 50000] (20 %)  Loss: 1.588147\n",
      "Epoch 11: [20000 / 50000] (40 %)  Loss: 1.546586\n",
      "Epoch 11: [30000 / 50000] (60 %)  Loss: 1.611756\n",
      "Epoch 11: [40000 / 50000] (80 %)  Loss: 1.569436\n",
      "Epoch 11: [50000 / 50000] (100 %)  Loss: 1.511717\n",
      "Epoch 12: [10000 / 50000] (20 %)  Loss: 1.641429\n",
      "Epoch 12: [20000 / 50000] (40 %)  Loss: 1.513709\n",
      "Epoch 12: [30000 / 50000] (60 %)  Loss: 1.557309\n",
      "Epoch 12: [40000 / 50000] (80 %)  Loss: 1.587118\n",
      "Epoch 12: [50000 / 50000] (100 %)  Loss: 1.513070\n",
      "Epoch 13: [10000 / 50000] (20 %)  Loss: 1.527346\n",
      "Epoch 13: [20000 / 50000] (40 %)  Loss: 1.541386\n",
      "Epoch 13: [30000 / 50000] (60 %)  Loss: 1.556367\n",
      "Epoch 13: [40000 / 50000] (80 %)  Loss: 1.512127\n",
      "Epoch 13: [50000 / 50000] (100 %)  Loss: 1.483718\n",
      "Epoch 14: [10000 / 50000] (20 %)  Loss: 1.477342\n",
      "Epoch 14: [20000 / 50000] (40 %)  Loss: 1.477307\n",
      "Epoch 14: [30000 / 50000] (60 %)  Loss: 1.433045\n",
      "Epoch 14: [40000 / 50000] (80 %)  Loss: 1.456010\n",
      "Epoch 14: [50000 / 50000] (100 %)  Loss: 1.483551\n",
      "Epoch 15: [10000 / 50000] (20 %)  Loss: 1.495221\n",
      "Epoch 15: [20000 / 50000] (40 %)  Loss: 1.501765\n",
      "Epoch 15: [30000 / 50000] (60 %)  Loss: 1.524795\n",
      "Epoch 15: [40000 / 50000] (80 %)  Loss: 1.468676\n",
      "Epoch 15: [50000 / 50000] (100 %)  Loss: 1.391355\n",
      "Epoch 16: [10000 / 50000] (20 %)  Loss: 1.425697\n",
      "Epoch 16: [20000 / 50000] (40 %)  Loss: 1.532963\n",
      "Epoch 16: [30000 / 50000] (60 %)  Loss: 1.484824\n",
      "Epoch 16: [40000 / 50000] (80 %)  Loss: 1.456359\n",
      "Epoch 16: [50000 / 50000] (100 %)  Loss: 1.412084\n",
      "Epoch 17: [10000 / 50000] (20 %)  Loss: 1.480505\n",
      "Epoch 17: [20000 / 50000] (40 %)  Loss: 1.461053\n",
      "Epoch 17: [30000 / 50000] (60 %)  Loss: 1.467425\n",
      "Epoch 17: [40000 / 50000] (80 %)  Loss: 1.462530\n",
      "Epoch 17: [50000 / 50000] (100 %)  Loss: 1.375865\n",
      "Epoch 18: [10000 / 50000] (20 %)  Loss: 1.410266\n",
      "Epoch 18: [20000 / 50000] (40 %)  Loss: 1.413423\n",
      "Epoch 18: [30000 / 50000] (60 %)  Loss: 1.436381\n",
      "Epoch 18: [40000 / 50000] (80 %)  Loss: 1.474250\n",
      "Epoch 18: [50000 / 50000] (100 %)  Loss: 1.431102\n",
      "Epoch 19: [10000 / 50000] (20 %)  Loss: 1.442188\n",
      "Epoch 19: [20000 / 50000] (40 %)  Loss: 1.443574\n",
      "Epoch 19: [30000 / 50000] (60 %)  Loss: 1.350798\n",
      "Epoch 19: [40000 / 50000] (80 %)  Loss: 1.350612\n",
      "Epoch 19: [50000 / 50000] (100 %)  Loss: 1.376872\n",
      "Epoch 20: [10000 / 50000] (20 %)  Loss: 1.346630\n",
      "Epoch 20: [20000 / 50000] (40 %)  Loss: 1.357508\n",
      "Epoch 20: [30000 / 50000] (60 %)  Loss: 1.378163\n",
      "Epoch 20: [40000 / 50000] (80 %)  Loss: 1.380169\n",
      "Epoch 20: [50000 / 50000] (100 %)  Loss: 1.377262\n"
     ]
    }
   ],
   "source": [
    "epochs = 20\n",
    "lr=0.01\n",
    "\n",
    "# 建立模型\n",
    "model = Net().to(device)\n",
    "\n",
    "# 定義損失函數\n",
    "# 注意，nn.CrossEntropyLoss是類別，要先建立物件，要加 ()，其他損失函數不需要\n",
    "criterion = nn.CrossEntropyLoss() # F.nll_loss \n",
    "\n",
    "# 設定優化器(optimizer)\n",
    "#optimizer = torch.optim.Adadelta(model.parameters(), lr=lr)\n",
    "optimizer = torch.optim.SGD(model.parameters(), lr=lr, momentum=0.9)\n",
    "\n",
    "loss_list = []\n",
    "for epoch in range(1, epochs + 1):\n",
    "    loss_list += train(model, device, train_loader, criterion, optimizer, epoch)\n",
    "    #test(model, device, test_loader)\n",
    "    optimizer.step()"
   ]
  },
  {
   "cell_type": "code",
   "execution_count": 53,
   "metadata": {
    "scrolled": false
   },
   "outputs": [
    {
     "data": {
      "text/plain": [
       "[<matplotlib.lines.Line2D at 0x160625b7970>]"
      ]
     },
     "execution_count": 53,
     "metadata": {},
     "output_type": "execute_result"
    },
    {
     "data": {
      "image/png": "[encoded data removed]",
      "text/plain": [
       "<Figure size 432x288 with 1 Axes>"
      ]
     },
     "metadata": {
      "needs_background": "light"
     },
     "output_type": "display_data"
    }
   ],
   "source": [
    "# 對訓練過程的損失繪圖\n",
    "import matplotlib.pyplot as plt\n",
    "\n",
    "plt.plot(loss_list, 'r')"
   ]
  },
  {
   "cell_type": "markdown",
   "metadata": {},
   "source": [
    "## 步驟7：評分(Score Model)"
   ]
  },
  {
   "cell_type": "code",
   "execution_count": 54,
   "metadata": {
    "scrolled": true
   },
   "outputs": [
    {
     "name": "stdout",
     "output_type": "stream",
     "text": [
      "準確率: 4934/10000 (49.34%)\n"
     ]
    }
   ],
   "source": [
    "test(model, device, test_loader)"
   ]
  },
  {
   "cell_type": "code",
   "execution_count": 11,
   "metadata": {},
   "outputs": [
    {
     "name": "stdout",
     "output_type": "stream",
     "text": [
      "actual    : [7 2 1 0 4 1 4 9 5 9 0 6 9 0 1 5 9 7 3 4]\n",
      "prediction:  7 2 1 0 4 1 4 9 5 9 0 6 9 0 1 5 9 7 3 4\n"
     ]
    }
   ],
   "source": [
    "# 實際預測 20 筆資料\n",
    "predictions = []\n",
    "with torch.no_grad():\n",
    "    for i in range(20):\n",
    "        data, target = test_ds[i][0], test_ds[i][1]\n",
    "        data = data.reshape(1, *data.shape).to(device)\n",
    "        output = torch.argmax(model(data), axis=-1)\n",
    "        predictions.append(str(output.item()))\n",
    "\n",
    "# 比對\n",
    "print('actual    :', test_ds.targets[0:20].numpy())\n",
    "print('prediction: ', ' '.join(predictions[0:20]))"
   ]
  },
  {
   "cell_type": "markdown",
   "metadata": {},
   "source": [
    "## 步驟8：評估，暫不進行"
   ]
  },
  {
   "cell_type": "markdown",
   "metadata": {},
   "source": [
    "## 步驟9：模型佈署"
   ]
  },
  {
   "cell_type": "markdown",
   "metadata": {},
   "source": [
    "## 步驟10：新資料預測"
   ]
  },
  {
   "cell_type": "markdown",
   "metadata": {},
   "source": [
    "### 方法1：使用 Pillow 套件"
   ]
  },
  {
   "cell_type": "code",
   "execution_count": 15,
   "metadata": {},
   "outputs": [],
   "source": [
    "# 顯示圖像\n",
    "import matplotlib.pyplot as plt\n",
    "\n",
    "def imshow(X):\n",
    "    # 繪製點陣圖，cmap='gray':灰階\n",
    "    plt.imshow(X.reshape(28,28), cmap='gray')\n",
    "\n",
    "    # 隱藏刻度\n",
    "    plt.axis('off') \n",
    "\n",
    "    # 顯示圖形\n",
    "    plt.show() "
   ]
  },
  {
   "cell_type": "code",
   "execution_count": 16,
   "metadata": {
    "scrolled": true
   },
   "outputs": [
    {
     "name": "stdout",
     "output_type": "stream",
     "text": [
      "actual/prediction: 0 0\n",
      "actual/prediction: 1 1\n",
      "actual/prediction: 2 2\n",
      "actual/prediction: 3 3\n",
      "actual/prediction: 4 4\n",
      "actual/prediction: 5 5\n",
      "actual/prediction: 6 6\n",
      "actual/prediction: 7 7\n",
      "actual/prediction: 8 8\n",
      "actual/prediction: 9 9\n"
     ]
    }
   ],
   "source": [
    "# 使用PIL讀取檔案，像素介於[0, 255]\n",
    "import PIL.Image as Image\n",
    "\n",
    "data_shape = data.shape\n",
    "\n",
    "for i in range(10):\n",
    "    uploaded_file = f'./myDigits/{i}.png'\n",
    "    image1 = Image.open(uploaded_file).convert('L')\n",
    "\n",
    "    # 縮為 (28, 28) 大小的影像\n",
    "    image_resized = image1.resize(tuple(data_shape)[2:])\n",
    "    X1 = np.array(image_resized).reshape([1]+list(data_shape)[1:])\n",
    "    # 反轉顏色，顏色0為白色，與 RGB 色碼不同，它的 0 為黑色\n",
    "    X1 = 1.0-(X1/255)\n",
    "\n",
    "    # 圖像轉換\n",
    "    X1 = (X1 - 0.1307) / 0.3081  \n",
    "    \n",
    "    # 顯示轉換後的圖像\n",
    "    # imshow(X1)\n",
    "    \n",
    "    X1 = torch.FloatTensor(X1).to(device)\n",
    "    \n",
    "    # 預測\n",
    "    output = model(X1)\n",
    "    # print(output, '\\n')\n",
    "    _, predicted = torch.max(output.data, 1)\n",
    "    print(f'actual/prediction: {i} {predicted.item()}')"
   ]
  },
  {
   "cell_type": "markdown",
   "metadata": {},
   "source": [
    "### 方法2：使用 skimage 套件"
   ]
  },
  {
   "cell_type": "code",
   "execution_count": 19,
   "metadata": {},
   "outputs": [
    {
     "name": "stdout",
     "output_type": "stream",
     "text": [
      "actual/prediction: 0 0\n",
      "actual/prediction: 1 1\n",
      "actual/prediction: 2 2\n",
      "actual/prediction: 3 3\n",
      "actual/prediction: 4 4\n",
      "actual/prediction: 5 5\n",
      "actual/prediction: 6 6\n",
      "actual/prediction: 7 7\n",
      "actual/prediction: 8 8\n",
      "actual/prediction: 9 9\n"
     ]
    }
   ],
   "source": [
    "# 使用 skimage 讀取檔案，像素介於[0, 1]\n",
    "from skimage import io\n",
    "from skimage.transform import resize\n",
    "\n",
    "# 讀取影像並轉為單色\n",
    "for i in range(10):\n",
    "    uploaded_file = f'./myDigits/{i}.png'\n",
    "    image1 = io.imread(uploaded_file, as_gray=True)\n",
    "\n",
    "    # 縮為 (28, 28) 大小的影像\n",
    "    image_resized = resize(image1, tuple(data_shape)[2:], anti_aliasing=True)    \n",
    "    X1 = image_resized.reshape([1]+list(data_shape)[1:]) \n",
    "    # 反轉顏色，顏色0為白色，與 RGB 色碼不同，它的 0 為黑色\n",
    "    X1 = 1.0-X1\n",
    "    \n",
    "    # 圖像轉換\n",
    "    X1 = (X1 - 0.1307) / 0.3081  \n",
    "\n",
    "    # 顯示轉換後的圖像\n",
    "    # imshow(X1)\n",
    "    \n",
    "    X1 = torch.FloatTensor(X1).to(device)\n",
    "    \n",
    "    # 預測\n",
    "    output = model(X1)\n",
    "    _, predicted = torch.max(output.data, 1)\n",
    "    print(f'actual/prediction: {i} {predicted.item()}')"
   ]
  },
  {
   "cell_type": "markdown",
   "metadata": {},
   "source": [
    "### 方法3：使用自訂資料集"
   ]
  },
  {
   "cell_type": "code",
   "execution_count": 20,
   "metadata": {},
   "outputs": [],
   "source": [
    "class CustomImageDataset(torch.utils.data.Dataset):\n",
    "    def __init__(self, img_dir, transform=None, target_transform=None\n",
    "                 , to_gray=False, size=28):\n",
    "        self.img_labels = [file_name for file_name in os.listdir(img_dir)]\n",
    "        self.img_dir = img_dir\n",
    "        self.transform = transform\n",
    "        self.target_transform = target_transform\n",
    "        self.to_gray = to_gray\n",
    "        self.size = size\n",
    "\n",
    "    def __len__(self):\n",
    "        return len(self.img_labels)\n",
    "\n",
    "    def __getitem__(self, idx):\n",
    "        # 組合檔案完整路徑\n",
    "        img_path = os.path.join(self.img_dir, self.img_labels[idx])\n",
    "        # 讀取圖檔\n",
    "        mode = 'L' if self.to_gray else 'RGB'\n",
    "        image = Image.open(img_path, mode='r').convert(mode)\n",
    "        image = Image.fromarray(1.0-(np.array(image)/255))\n",
    "\n",
    "        # print(image.shape)\n",
    "        # 去除副檔名\n",
    "        label = int(self.img_labels[idx].split('.')[0])\n",
    "        \n",
    "        # 轉換\n",
    "        if self.transform:\n",
    "            image = self.transform(image)\n",
    "        if self.target_transform:\n",
    "            label = self.target_transform(label)\n",
    "        \n",
    "        return image, label"
   ]
  },
  {
   "cell_type": "markdown",
   "metadata": {},
   "source": [
    "### 預測"
   ]
  },
  {
   "cell_type": "code",
   "execution_count": 21,
   "metadata": {
    "scrolled": true
   },
   "outputs": [
    {
     "name": "stdout",
     "output_type": "stream",
     "text": [
      "準確率: 10/10 (100.00%)\n"
     ]
    }
   ],
   "source": [
    "ds = CustomImageDataset('./myDigits', to_gray=True, transform=test_transforms)\n",
    "data_loader = torch.utils.data.DataLoader(ds, batch_size=10,shuffle=False)\n",
    "\n",
    "test(model, device, data_loader)"
   ]
  },
  {
   "cell_type": "markdown",
   "metadata": {},
   "source": [
    "### 驗證"
   ]
  },
  {
   "cell_type": "code",
   "execution_count": 23,
   "metadata": {},
   "outputs": [
    {
     "name": "stdout",
     "output_type": "stream",
     "text": [
      "tensor([0, 1, 2, 3, 4, 5, 6, 7, 8, 9])\n",
      "tensor([0, 1, 2, 3, 4, 5, 6, 7, 8, 9], device='cuda:0')\n"
     ]
    }
   ],
   "source": [
    "model.eval()\n",
    "test_loss = 0\n",
    "correct = 0\n",
    "with torch.no_grad():\n",
    "    for data, target in data_loader:\n",
    "        print(target)\n",
    "        data, target = data.to(device), target.to(device)\n",
    "        \n",
    "        # 預測\n",
    "        output = model(data)\n",
    "        _, predicted = torch.max(output.data, 1)\n",
    "        correct += (predicted == target).sum().item()\n",
    "        print(predicted)"
   ]
  },
  {
   "cell_type": "code",
   "execution_count": null,
   "metadata": {},
   "outputs": [],
   "source": []
  }
 ],
 "metadata": {
  "kernelspec": {
   "display_name": "Python 3",
   "language": "python",
   "name": "python3"
  },
  "language_info": {
   "codemirror_mode": {
    "name": "ipython",
    "version": 3
   },
   "file_extension": ".py",
   "mimetype": "text/x-python",
   "name": "python",
   "nbconvert_exporter": "python",
   "pygments_lexer": "ipython3",
   "version": "3.8.8"
  }
 },
 "nbformat": 4,
 "nbformat_minor": 4
}
