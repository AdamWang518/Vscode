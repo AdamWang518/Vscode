{
 "cells": [
  {
   "cell_type": "markdown",
   "metadata": {},
   "source": [
    "# 以LSTM演算法預測股價"
   ]
  },
  {
   "cell_type": "markdown",
   "metadata": {},
   "source": [
    "## 載入相關套件 "
   ]
  },
  {
   "cell_type": "code",
   "execution_count": 1,
   "metadata": {},
   "outputs": [],
   "source": [
    "import torch\n",
    "import torch.nn as nn\n",
    "import torch.nn.functional as F\n",
    "import torch.optim as optim\n",
    "import torchtext\n",
    "import numpy as np\n",
    "import pandas as pd\n",
    "import os\n",
    "import matplotlib.pyplot as plt"
   ]
  },
  {
   "cell_type": "markdown",
   "metadata": {},
   "source": [
    "## 判斷GPU是否存在"
   ]
  },
  {
   "cell_type": "code",
   "execution_count": 2,
   "metadata": {},
   "outputs": [],
   "source": [
    "device = torch.device(\"cuda\" if torch.cuda.is_available() else \"cpu\")"
   ]
  },
  {
   "cell_type": "markdown",
   "metadata": {},
   "source": [
    "## 載入資料"
   ]
  },
  {
   "cell_type": "code",
   "execution_count": 3,
   "metadata": {
    "scrolled": true
   },
   "outputs": [
    {
     "data": {
      "text/html": [
       "<div>\n",
       "<style scoped>\n",
       "    .dataframe tbody tr th:only-of-type {\n",
       "        vertical-align: middle;\n",
       "    }\n",
       "\n",
       "    .dataframe tbody tr th {\n",
       "        vertical-align: top;\n",
       "    }\n",
       "\n",
       "    .dataframe thead th {\n",
       "        text-align: right;\n",
       "    }\n",
       "</style>\n",
       "<table border=\"1\" class=\"dataframe\">\n",
       "  <thead>\n",
       "    <tr style=\"text-align: right;\">\n",
       "      <th></th>\n",
       "      <th>Date</th>\n",
       "      <th>Open</th>\n",
       "      <th>High</th>\n",
       "      <th>Low</th>\n",
       "      <th>Close</th>\n",
       "      <th>Volume</th>\n",
       "      <th>Name</th>\n",
       "    </tr>\n",
       "  </thead>\n",
       "  <tbody>\n",
       "    <tr>\n",
       "      <th>0</th>\n",
       "      <td>2006-01-03</td>\n",
       "      <td>47.47</td>\n",
       "      <td>47.85</td>\n",
       "      <td>46.25</td>\n",
       "      <td>47.58</td>\n",
       "      <td>7582127</td>\n",
       "      <td>AMZN</td>\n",
       "    </tr>\n",
       "    <tr>\n",
       "      <th>1</th>\n",
       "      <td>2006-01-04</td>\n",
       "      <td>47.48</td>\n",
       "      <td>47.73</td>\n",
       "      <td>46.69</td>\n",
       "      <td>47.25</td>\n",
       "      <td>7440914</td>\n",
       "      <td>AMZN</td>\n",
       "    </tr>\n",
       "    <tr>\n",
       "      <th>2</th>\n",
       "      <td>2006-01-05</td>\n",
       "      <td>47.16</td>\n",
       "      <td>48.20</td>\n",
       "      <td>47.11</td>\n",
       "      <td>47.65</td>\n",
       "      <td>5417258</td>\n",
       "      <td>AMZN</td>\n",
       "    </tr>\n",
       "    <tr>\n",
       "      <th>3</th>\n",
       "      <td>2006-01-06</td>\n",
       "      <td>47.97</td>\n",
       "      <td>48.58</td>\n",
       "      <td>47.32</td>\n",
       "      <td>47.87</td>\n",
       "      <td>6154285</td>\n",
       "      <td>AMZN</td>\n",
       "    </tr>\n",
       "    <tr>\n",
       "      <th>4</th>\n",
       "      <td>2006-01-09</td>\n",
       "      <td>46.55</td>\n",
       "      <td>47.10</td>\n",
       "      <td>46.40</td>\n",
       "      <td>47.08</td>\n",
       "      <td>8945056</td>\n",
       "      <td>AMZN</td>\n",
       "    </tr>\n",
       "  </tbody>\n",
       "</table>\n",
       "</div>"
      ],
      "text/plain": [
       "         Date   Open   High    Low  Close   Volume  Name\n",
       "0  2006-01-03  47.47  47.85  46.25  47.58  7582127  AMZN\n",
       "1  2006-01-04  47.48  47.73  46.69  47.25  7440914  AMZN\n",
       "2  2006-01-05  47.16  48.20  47.11  47.65  5417258  AMZN\n",
       "3  2006-01-06  47.97  48.58  47.32  47.87  6154285  AMZN\n",
       "4  2006-01-09  46.55  47.10  46.40  47.08  8945056  AMZN"
      ]
     },
     "execution_count": 3,
     "metadata": {},
     "output_type": "execute_result"
    }
   ],
   "source": [
    "df = pd.read_csv('./nlp_data/AMZN_2006-01-01_to_2018-01-01.csv')\n",
    "df.head()"
   ]
  },
  {
   "cell_type": "code",
   "execution_count": 4,
   "metadata": {
    "scrolled": true
   },
   "outputs": [
    {
     "data": {
      "text/html": [
       "<div>\n",
       "<style scoped>\n",
       "    .dataframe tbody tr th:only-of-type {\n",
       "        vertical-align: middle;\n",
       "    }\n",
       "\n",
       "    .dataframe tbody tr th {\n",
       "        vertical-align: top;\n",
       "    }\n",
       "\n",
       "    .dataframe thead th {\n",
       "        text-align: right;\n",
       "    }\n",
       "</style>\n",
       "<table border=\"1\" class=\"dataframe\">\n",
       "  <thead>\n",
       "    <tr style=\"text-align: right;\">\n",
       "      <th></th>\n",
       "      <th>Date</th>\n",
       "      <th>Open</th>\n",
       "      <th>High</th>\n",
       "      <th>Low</th>\n",
       "      <th>Close</th>\n",
       "      <th>Volume</th>\n",
       "      <th>Name</th>\n",
       "    </tr>\n",
       "  </thead>\n",
       "  <tbody>\n",
       "    <tr>\n",
       "      <th>3014</th>\n",
       "      <td>2017-12-22</td>\n",
       "      <td>1172.08</td>\n",
       "      <td>1174.62</td>\n",
       "      <td>1167.83</td>\n",
       "      <td>1168.36</td>\n",
       "      <td>1585054</td>\n",
       "      <td>AMZN</td>\n",
       "    </tr>\n",
       "    <tr>\n",
       "      <th>3015</th>\n",
       "      <td>2017-12-26</td>\n",
       "      <td>1168.36</td>\n",
       "      <td>1178.32</td>\n",
       "      <td>1160.55</td>\n",
       "      <td>1176.76</td>\n",
       "      <td>2005187</td>\n",
       "      <td>AMZN</td>\n",
       "    </tr>\n",
       "    <tr>\n",
       "      <th>3016</th>\n",
       "      <td>2017-12-27</td>\n",
       "      <td>1179.91</td>\n",
       "      <td>1187.29</td>\n",
       "      <td>1175.61</td>\n",
       "      <td>1182.26</td>\n",
       "      <td>1867208</td>\n",
       "      <td>AMZN</td>\n",
       "    </tr>\n",
       "    <tr>\n",
       "      <th>3017</th>\n",
       "      <td>2017-12-28</td>\n",
       "      <td>1189.00</td>\n",
       "      <td>1190.10</td>\n",
       "      <td>1184.38</td>\n",
       "      <td>1186.10</td>\n",
       "      <td>1841676</td>\n",
       "      <td>AMZN</td>\n",
       "    </tr>\n",
       "    <tr>\n",
       "      <th>3018</th>\n",
       "      <td>2017-12-29</td>\n",
       "      <td>1182.35</td>\n",
       "      <td>1184.00</td>\n",
       "      <td>1167.50</td>\n",
       "      <td>1169.47</td>\n",
       "      <td>2688391</td>\n",
       "      <td>AMZN</td>\n",
       "    </tr>\n",
       "  </tbody>\n",
       "</table>\n",
       "</div>"
      ],
      "text/plain": [
       "            Date     Open     High      Low    Close   Volume  Name\n",
       "3014  2017-12-22  1172.08  1174.62  1167.83  1168.36  1585054  AMZN\n",
       "3015  2017-12-26  1168.36  1178.32  1160.55  1176.76  2005187  AMZN\n",
       "3016  2017-12-27  1179.91  1187.29  1175.61  1182.26  1867208  AMZN\n",
       "3017  2017-12-28  1189.00  1190.10  1184.38  1186.10  1841676  AMZN\n",
       "3018  2017-12-29  1182.35  1184.00  1167.50  1169.47  2688391  AMZN"
      ]
     },
     "execution_count": 4,
     "metadata": {},
     "output_type": "execute_result"
    }
   ],
   "source": [
    "df.tail()"
   ]
  },
  {
   "cell_type": "markdown",
   "metadata": {},
   "source": [
    "## 繪圖"
   ]
  },
  {
   "cell_type": "code",
   "execution_count": 5,
   "metadata": {
    "scrolled": true
   },
   "outputs": [
    {
     "data": {
      "image/png": "[encoded data removed]",
      "text/plain": [
       "<Figure size 432x288 with 1 Axes>"
      ]
     },
     "metadata": {
      "needs_background": "light"
     },
     "output_type": "display_data"
    }
   ],
   "source": [
    "df2 = df.set_index('Date')\n",
    "df2.Close.plot(legend=None)\n",
    "plt.xticks(rotation=30);"
   ]
  },
  {
   "cell_type": "code",
   "execution_count": 6,
   "metadata": {},
   "outputs": [
    {
     "data": {
      "text/plain": [
       "3019"
      ]
     },
     "execution_count": 6,
     "metadata": {},
     "output_type": "execute_result"
    }
   ],
   "source": [
    "len(df2)"
   ]
  },
  {
   "cell_type": "code",
   "execution_count": 7,
   "metadata": {},
   "outputs": [
    {
     "data": {
      "text/plain": [
       "((3019, 1), torch.Size([2020, 1]))"
      ]
     },
     "execution_count": 7,
     "metadata": {},
     "output_type": "execute_result"
    }
   ],
   "source": [
    "from sklearn.preprocessing import MinMaxScaler\n",
    "look_back = 1 # 以前N期資料為 X，當期資料為 Y\n",
    "\n",
    "# 函數：以前N期資料為 X，當前期資料為 Y\n",
    "def create_dataset(data1, look_back):\n",
    "    x, y = [], []\n",
    "    for i in range(len(data1)-look_back-1):\n",
    "        _x = data1[i:(i+look_back)]\n",
    "        _y = data1[i+look_back]\n",
    "        x.append(_x)\n",
    "        y.append(_y)\n",
    "\n",
    "    return torch.Tensor(np.array(x)), torch.Tensor(np.array(y))\n",
    "\n",
    "dataset = df2[['Close']].values.astype('float32')\n",
    "\n",
    "# X 常態化\n",
    "scaler = MinMaxScaler()\n",
    "dataset = scaler.fit_transform(dataset)\n",
    "\n",
    "# 資料分割\n",
    "train_size = int(len(dataset) * 0.67)\n",
    "test_size = len(dataset) - train_size\n",
    "train_data, test_data = dataset[0:train_size,:], dataset[train_size:len(dataset),:]\n",
    "\n",
    "trainX, trainY = create_dataset(train_data, look_back)\n",
    "testX, testY = create_dataset(test_data, look_back)\n",
    "dataset.shape, trainY.shape"
   ]
  },
  {
   "cell_type": "code",
   "execution_count": 8,
   "metadata": {},
   "outputs": [
    {
     "data": {
      "text/plain": [
       "array([0.97746545], dtype=float32)"
      ]
     },
     "execution_count": 8,
     "metadata": {},
     "output_type": "execute_result"
    }
   ],
   "source": [
    "dataset[-1]"
   ]
  },
  {
   "cell_type": "code",
   "execution_count": 9,
   "metadata": {
    "scrolled": true
   },
   "outputs": [
    {
     "data": {
      "text/plain": [
       "(torch.Size([2020, 1, 1]),\n",
       " torch.Size([2020, 1]),\n",
       " torch.Size([995, 1, 1]),\n",
       " torch.Size([995, 1]))"
      ]
     },
     "execution_count": 9,
     "metadata": {},
     "output_type": "execute_result"
    }
   ],
   "source": [
    "trainX.shape, trainY.shape, testX.shape, testY.shape"
   ]
  },
  {
   "cell_type": "code",
   "execution_count": 10,
   "metadata": {
    "scrolled": true
   },
   "outputs": [
    {
     "data": {
      "text/plain": [
       "tensor([[0.0184, 0.0181],\n",
       "        [0.0181, 0.0184],\n",
       "        [0.0184, 0.0186],\n",
       "        ...,\n",
       "        [0.3205, 0.3177],\n",
       "        [0.3177, 0.3120],\n",
       "        [0.3120, 0.3176]])"
      ]
     },
     "execution_count": 10,
     "metadata": {},
     "output_type": "execute_result"
    }
   ],
   "source": [
    "torch.cat((trainX.reshape(trainX.shape[0], trainX.shape[1]), trainY), axis=1)"
   ]
  },
  {
   "cell_type": "markdown",
   "metadata": {},
   "source": [
    "## 建立模型"
   ]
  },
  {
   "cell_type": "code",
   "execution_count": 17,
   "metadata": {},
   "outputs": [],
   "source": [
    "class TimeSeriesModel(nn.Module):\n",
    "    def __init__(self, look_back, hidden_size=4, num_layers=1):\n",
    "        super().__init__()\n",
    "        self.hidden_size = hidden_size\n",
    "        self.num_layers = num_layers\n",
    "        self.rnn = nn.LSTM(1, self.hidden_size, num_layers=self.num_layers\n",
    "                           , batch_first=True)\n",
    "        self.fc = nn.Linear(self.hidden_size, 1)\n",
    "        self.init_weights()\n",
    "\n",
    "    def init_weights(self):\n",
    "        initrange = 0.5\n",
    "        self.fc.weight.data.uniform_(-initrange, initrange)\n",
    "        self.fc.bias.data.zero_()\n",
    "\n",
    "    def forward(self, x):\n",
    "        #print(x.shape)\n",
    "        # rnn_out, h_out = self.rnn(x)\n",
    "        h_0 = torch.zeros(self.num_layers, x.size(0), self.hidden_size)        \n",
    "        c_0 = torch.zeros(self.num_layers, x.size(0), self.hidden_size)\n",
    "        out, (h_out, _) = self.rnn(x, (h_0, c_0))\n",
    "        #print(h_out.shape)\n",
    "        \n",
    "        # 取最後一層的 h，並轉成二維\n",
    "#         h_out = h_out[-1].view(-1, self.hidden_size)  \n",
    "#         return self.fc(h_out)\n",
    "        # 取最後一個輸出，並轉成二維\n",
    "        flatten_output = out[:, -1].view(-1, self.hidden_size)  \n",
    "        return self.fc(flatten_output)\n",
    "\n",
    "model = TimeSeriesModel(look_back, hidden_size=4, num_layers=1).to(device)"
   ]
  },
  {
   "cell_type": "markdown",
   "metadata": {},
   "source": [
    "## 模型訓練"
   ]
  },
  {
   "cell_type": "code",
   "execution_count": 18,
   "metadata": {
    "scrolled": true
   },
   "outputs": [
    {
     "name": "stdout",
     "output_type": "stream",
     "text": [
      "torch.Size([2020, 1])\n",
      "Epoch: 0, loss: 0.00651\n",
      "Epoch: 100, loss: 0.00001\n",
      "Epoch: 200, loss: 0.00001\n",
      "Epoch: 300, loss: 0.00001\n",
      "Epoch: 400, loss: 0.00001\n",
      "Epoch: 500, loss: 0.00001\n",
      "Epoch: 600, loss: 0.00001\n",
      "Epoch: 700, loss: 0.00001\n",
      "Epoch: 800, loss: 0.00001\n",
      "Epoch: 900, loss: 0.00001\n",
      "Epoch: 1000, loss: 0.00001\n",
      "Epoch: 1100, loss: 0.00001\n",
      "Epoch: 1200, loss: 0.00001\n",
      "Epoch: 1300, loss: 0.00001\n",
      "Epoch: 1400, loss: 0.00001\n",
      "Epoch: 1500, loss: 0.00001\n",
      "Epoch: 1600, loss: 0.00001\n",
      "Epoch: 1700, loss: 0.00003\n",
      "Epoch: 1800, loss: 0.00001\n",
      "Epoch: 1900, loss: 0.00001\n"
     ]
    }
   ],
   "source": [
    "num_epochs = 2000\n",
    "learning_rate = 0.01\n",
    "\n",
    "def train(trainX, trainY):\n",
    "    criterion = torch.nn.MSELoss()  # MSE\n",
    "    optimizer = torch.optim.Adam(model.parameters(), lr=learning_rate)\n",
    "\n",
    "    for epoch in range(num_epochs):\n",
    "        optimizer.zero_grad()\n",
    "        outputs = model(trainX)\n",
    "        if epoch <= 0: print(outputs.shape)\n",
    "        loss = criterion(outputs, trainY)    \n",
    "        loss.backward()\n",
    "        optimizer.step()\n",
    "        if epoch % 100 == 0:\n",
    "            print(f\"Epoch: {epoch}, loss: {loss.item():.5f}\")\n",
    "\n",
    "train(trainX, trainY)"
   ]
  },
  {
   "cell_type": "markdown",
   "metadata": {},
   "source": [
    "## 模型評估"
   ]
  },
  {
   "cell_type": "code",
   "execution_count": 19,
   "metadata": {
    "scrolled": true
   },
   "outputs": [
    {
     "data": {
      "text/plain": [
       "(2020, 1)"
      ]
     },
     "execution_count": 19,
     "metadata": {},
     "output_type": "execute_result"
    }
   ],
   "source": [
    "model.eval()\n",
    "trainPredict = model(trainX).detach().numpy()\n",
    "testPredict = model(testX).detach().numpy()\n",
    "trainPredict.shape"
   ]
  },
  {
   "cell_type": "code",
   "execution_count": 20,
   "metadata": {},
   "outputs": [
    {
     "data": {
      "text/plain": [
       "(torch.Size([2020, 1]), (2020, 1))"
      ]
     },
     "execution_count": 20,
     "metadata": {},
     "output_type": "execute_result"
    }
   ],
   "source": [
    "trainY.shape, trainPredict.shape"
   ]
  },
  {
   "cell_type": "code",
   "execution_count": 21,
   "metadata": {},
   "outputs": [
    {
     "name": "stdout",
     "output_type": "stream",
     "text": [
      "(2020, 1) (2020, 1)\n",
      "Train RMSE: 5.90\n",
      "Test RMSE:  73.33\n"
     ]
    }
   ],
   "source": [
    "from sklearn.metrics import mean_squared_error\n",
    "import math \n",
    "\n",
    "# 還原常態化的訓練及測試資料\n",
    "trainPredict = scaler.inverse_transform(trainPredict)\n",
    "trainY_actual = scaler.inverse_transform(trainY.reshape(-1, 1))\n",
    "testPredict = scaler.inverse_transform(testPredict)\n",
    "testY_actual = scaler.inverse_transform(testY.reshape(-1, 1))\n",
    "print(trainY_actual.shape, trainPredict.shape)\n",
    "\n",
    "# 計算 RMSE\n",
    "trainScore = math.sqrt(mean_squared_error(trainY_actual, trainPredict.reshape(-1)))\n",
    "print(f'Train RMSE: {trainScore:.2f}')\n",
    "testScore = math.sqrt(mean_squared_error(testY_actual, testPredict.reshape(-1)))\n",
    "print(f'Test RMSE:  {testScore:.2f}')"
   ]
  },
  {
   "cell_type": "markdown",
   "metadata": {},
   "source": [
    "## 繪製實際資料和預測資料的圖表"
   ]
  },
  {
   "cell_type": "code",
   "execution_count": 22,
   "metadata": {
    "scrolled": false
   },
   "outputs": [
    {
     "data": {
      "image/png": "[encoded data removed]",
      "text/plain": [
       "<Figure size 864x432 with 1 Axes>"
      ]
     },
     "metadata": {
      "needs_background": "light"
     },
     "output_type": "display_data"
    }
   ],
   "source": [
    "# 訓練資料的 X/Y\n",
    "trainPredictPlot = np.empty_like(dataset)\n",
    "trainPredictPlot[:, :] = np.nan\n",
    "trainPredictPlot[1:len(trainPredict)+look_back, :] = trainPredict\n",
    "\n",
    "# 測試資料 X/Y\n",
    "testPredictPlot = np.empty_like(dataset)\n",
    "testPredictPlot[:, :] = np.nan\n",
    "testPredictPlot[-testPredict.shape[0]-1:-1, :] = testPredict\n",
    "\n",
    "# 繪圖\n",
    "plt.figure(figsize=(12,6))\n",
    "plt.plot(scaler.inverse_transform(dataset), label='Actual')\n",
    "plt.plot(trainPredictPlot, label='train predict')\n",
    "plt.plot(testPredictPlot, label='test predict')\n",
    "plt.legend()\n",
    "plt.show()"
   ]
  },
  {
   "cell_type": "markdown",
   "metadata": {},
   "source": [
    "## 改變Loopback=3：X由前1期改為前3期 "
   ]
  },
  {
   "cell_type": "code",
   "execution_count": 23,
   "metadata": {},
   "outputs": [
    {
     "name": "stdout",
     "output_type": "stream",
     "text": [
      "torch.Size([2018, 1])\n",
      "Epoch: 0, loss: 0.01885\n",
      "Epoch: 100, loss: 0.00004\n",
      "Epoch: 200, loss: 0.00001\n",
      "Epoch: 300, loss: 0.00001\n",
      "Epoch: 400, loss: 0.00001\n",
      "Epoch: 500, loss: 0.00001\n",
      "Epoch: 600, loss: 0.00001\n",
      "Epoch: 700, loss: 0.00001\n",
      "Epoch: 800, loss: 0.00001\n",
      "Epoch: 900, loss: 0.00001\n",
      "Epoch: 1000, loss: 0.00001\n",
      "Epoch: 1100, loss: 0.00001\n",
      "Epoch: 1200, loss: 0.00001\n",
      "Epoch: 1300, loss: 0.00001\n",
      "Epoch: 1400, loss: 0.00001\n",
      "Epoch: 1500, loss: 0.00001\n",
      "Epoch: 1600, loss: 0.00001\n",
      "Epoch: 1700, loss: 0.00001\n",
      "Epoch: 1800, loss: 0.00001\n",
      "Epoch: 1900, loss: 0.00001\n"
     ]
    }
   ],
   "source": [
    "# 以前期資料為 X，當前期資料為 Y\n",
    "look_back = 3\n",
    "trainX, trainY = create_dataset(train_data, look_back)\n",
    "testX, testY = create_dataset(test_data, look_back)\n",
    "\n",
    "model = TimeSeriesModel(look_back, hidden_size=4, num_layers=1).to(device)\n",
    "train(trainX, trainY)"
   ]
  },
  {
   "cell_type": "code",
   "execution_count": 24,
   "metadata": {},
   "outputs": [
    {
     "name": "stdout",
     "output_type": "stream",
     "text": [
      "(2018, 1) (2018, 1)\n",
      "Train RMSE: 3.96\n",
      "Test RMSE:  118.94\n"
     ]
    }
   ],
   "source": [
    "from sklearn.metrics import mean_squared_error\n",
    "import math \n",
    "\n",
    "model.eval()\n",
    "trainPredict = model(trainX).detach().numpy()\n",
    "testPredict = model(testX).detach().numpy()\n",
    "\n",
    "# 還原常態化的訓練及測試資料\n",
    "trainPredict = scaler.inverse_transform(trainPredict)\n",
    "trainY_actual = scaler.inverse_transform(trainY.reshape(-1, 1))\n",
    "testPredict = scaler.inverse_transform(testPredict)\n",
    "testY_actual = scaler.inverse_transform(testY.reshape(-1, 1))\n",
    "print(trainY_actual.shape, trainPredict.shape)\n",
    "\n",
    "# 計算 RMSE\n",
    "trainScore = math.sqrt(mean_squared_error(trainY_actual, trainPredict.reshape(-1)))\n",
    "print(f'Train RMSE: {trainScore:.2f}')\n",
    "testScore = math.sqrt(mean_squared_error(testY_actual, testPredict.reshape(-1)))\n",
    "print(f'Test RMSE:  {testScore:.2f}')"
   ]
  },
  {
   "cell_type": "code",
   "execution_count": 25,
   "metadata": {
    "scrolled": true
   },
   "outputs": [
    {
     "data": {
      "image/png": "[encoded data removed]",
      "text/plain": [
       "<Figure size 864x432 with 1 Axes>"
      ]
     },
     "metadata": {
      "needs_background": "light"
     },
     "output_type": "display_data"
    }
   ],
   "source": [
    "# 訓練資料的 X/Y\n",
    "trainPredictPlot = np.empty_like(dataset)\n",
    "trainPredictPlot[:, :] = np.nan\n",
    "trainPredictPlot[1:trainPredict.shape[0]+1:, :] = trainPredict\n",
    "\n",
    "# 測試資料 X/Y\n",
    "testPredictPlot = np.empty_like(dataset)\n",
    "testPredictPlot[:, :] = np.nan\n",
    "testPredictPlot[-testPredict.shape[0]-1:-1, :] = testPredict\n",
    "\n",
    "# 繪圖\n",
    "plt.figure(figsize=(12,6))\n",
    "plt.plot(scaler.inverse_transform(dataset), label='Actual')\n",
    "plt.plot(trainPredictPlot, label='train predict')\n",
    "plt.plot(testPredictPlot, label='test predict')\n",
    "plt.legend()\n",
    "plt.show()"
   ]
  },
  {
   "cell_type": "markdown",
   "metadata": {},
   "source": [
    "## Stacked LSTM"
   ]
  },
  {
   "cell_type": "code",
   "execution_count": 26,
   "metadata": {},
   "outputs": [
    {
     "name": "stdout",
     "output_type": "stream",
     "text": [
      "torch.Size([2018, 1])\n",
      "Epoch: 0, loss: 0.03376\n",
      "Epoch: 100, loss: 0.00369\n",
      "Epoch: 200, loss: 0.00008\n",
      "Epoch: 300, loss: 0.00004\n",
      "Epoch: 400, loss: 0.00003\n",
      "Epoch: 500, loss: 0.00002\n",
      "Epoch: 600, loss: 0.00002\n",
      "Epoch: 700, loss: 0.00002\n",
      "Epoch: 800, loss: 0.00004\n",
      "Epoch: 900, loss: 0.00002\n",
      "Epoch: 1000, loss: 0.00002\n",
      "Epoch: 1100, loss: 0.00002\n",
      "Epoch: 1200, loss: 0.00002\n",
      "Epoch: 1300, loss: 0.00002\n",
      "Epoch: 1400, loss: 0.00002\n",
      "Epoch: 1500, loss: 0.00002\n",
      "Epoch: 1600, loss: 0.00002\n",
      "Epoch: 1700, loss: 0.00001\n",
      "Epoch: 1800, loss: 0.00001\n",
      "Epoch: 1900, loss: 0.00001\n"
     ]
    }
   ],
   "source": [
    "# 以前期資料為 X，當前期資料為 Y\n",
    "look_back = 3\n",
    "trainX, trainY = create_dataset(train_data, look_back)\n",
    "testX, testY = create_dataset(test_data, look_back)\n",
    "\n",
    "model = TimeSeriesModel(look_back, hidden_size=4, num_layers=3).to(device)\n",
    "train(trainX, trainY)"
   ]
  },
  {
   "cell_type": "code",
   "execution_count": 27,
   "metadata": {},
   "outputs": [
    {
     "name": "stdout",
     "output_type": "stream",
     "text": [
      "(2018, 1) (2018, 1)\n",
      "Train RMSE: 4.37\n",
      "Test RMSE:  157.01\n"
     ]
    }
   ],
   "source": [
    "from sklearn.metrics import mean_squared_error\n",
    "import math \n",
    "\n",
    "model.eval()\n",
    "trainPredict = model(trainX).detach().numpy()\n",
    "testPredict = model(testX).detach().numpy()\n",
    "\n",
    "# 還原常態化的訓練及測試資料\n",
    "trainPredict = scaler.inverse_transform(trainPredict)\n",
    "trainY_actual = scaler.inverse_transform(trainY.reshape(-1, 1))\n",
    "testPredict = scaler.inverse_transform(testPredict)\n",
    "testY_actual = scaler.inverse_transform(testY.reshape(-1, 1))\n",
    "print(trainY_actual.shape, trainPredict.shape)\n",
    "\n",
    "# 計算 RMSE\n",
    "trainScore = math.sqrt(mean_squared_error(trainY_actual, trainPredict.reshape(-1)))\n",
    "print(f'Train RMSE: {trainScore:.2f}')\n",
    "testScore = math.sqrt(mean_squared_error(testY_actual, testPredict.reshape(-1)))\n",
    "print(f'Test RMSE:  {testScore:.2f}')"
   ]
  },
  {
   "cell_type": "code",
   "execution_count": 28,
   "metadata": {
    "scrolled": false
   },
   "outputs": [
    {
     "data": {
      "image/png": "[encoded data removed]",
      "text/plain": [
       "<Figure size 864x432 with 1 Axes>"
      ]
     },
     "metadata": {
      "needs_background": "light"
     },
     "output_type": "display_data"
    }
   ],
   "source": [
    "# 訓練資料的 X/Y\n",
    "trainPredictPlot = np.empty_like(dataset)\n",
    "trainPredictPlot[:, :] = np.nan\n",
    "trainPredictPlot[1:trainPredict.shape[0]+1:, :] = trainPredict\n",
    "\n",
    "# 測試資料 X/Y\n",
    "testPredictPlot = np.empty_like(dataset)\n",
    "testPredictPlot[:, :] = np.nan\n",
    "testPredictPlot[-testPredict.shape[0]-1:-1, :] = testPredict\n",
    "\n",
    "# 繪圖\n",
    "plt.figure(figsize=(12,6))\n",
    "plt.plot(scaler.inverse_transform(dataset), label='Actual')\n",
    "plt.plot(trainPredictPlot, label='train predict')\n",
    "plt.plot(testPredictPlot, label='test predict')\n",
    "plt.legend()\n",
    "plt.show()"
   ]
  },
  {
   "cell_type": "markdown",
   "metadata": {},
   "source": [
    "## 預測多期"
   ]
  },
  {
   "cell_type": "code",
   "execution_count": 29,
   "metadata": {},
   "outputs": [],
   "source": [
    "# 函數：以前N期資料為 X，當前期資料為 Y\n",
    "def create_dataset(data1, look_back, forward_days):\n",
    "    x, y = [], []\n",
    "    for i in range(len(data1) - look_back - forward_days + 1):\n",
    "        _x = data1[i:(i+look_back)]\n",
    "        _y = data1[i+look_back:(i+look_back+forward_days)]\n",
    "        x.append(_x)\n",
    "        y.append(_y)\n",
    "\n",
    "    x, y = np.array(x), np.array(y)\n",
    "    return torch.Tensor(x), torch.Tensor(y.reshape(y.shape[0], y.shape[1]))"
   ]
  },
  {
   "cell_type": "markdown",
   "metadata": {},
   "source": [
    "## 建立資料集"
   ]
  },
  {
   "cell_type": "code",
   "execution_count": 30,
   "metadata": {},
   "outputs": [],
   "source": [
    "look_back = 10 # 以前10期資料為 X\n",
    "forward_days = 10  # 預測天數\n",
    "trainX, trainY = create_dataset(train_data, look_back, forward_days)\n",
    "testX, testY = create_dataset(test_data, look_back, forward_days)"
   ]
  },
  {
   "cell_type": "code",
   "execution_count": 31,
   "metadata": {},
   "outputs": [
    {
     "data": {
      "text/plain": [
       "((2022, 1), (997, 1))"
      ]
     },
     "execution_count": 31,
     "metadata": {},
     "output_type": "execute_result"
    }
   ],
   "source": [
    "train_data.shape, test_data.shape"
   ]
  },
  {
   "cell_type": "code",
   "execution_count": 32,
   "metadata": {},
   "outputs": [
    {
     "data": {
      "text/plain": [
       "(torch.Size([2003, 10, 1]), torch.Size([2003, 10]))"
      ]
     },
     "execution_count": 32,
     "metadata": {},
     "output_type": "execute_result"
    }
   ],
   "source": [
    "trainX.shape, trainY.shape"
   ]
  },
  {
   "cell_type": "markdown",
   "metadata": {},
   "source": [
    "## 建立模型"
   ]
  },
  {
   "cell_type": "code",
   "execution_count": 38,
   "metadata": {},
   "outputs": [],
   "source": [
    "class TimeSeriesModel(nn.Module):\n",
    "    def __init__(self, look_back, forward_days, hidden_size=4, num_layers=1):\n",
    "        super().__init__()\n",
    "        self.hidden_size = hidden_size\n",
    "        self.num_layers = num_layers\n",
    "        self.rnn = nn.LSTM(1, self.hidden_size, num_layers=self.num_layers\n",
    "                           , batch_first=True)\n",
    "        self.fc = nn.Linear(self.hidden_size, forward_days)\n",
    "        self.init_weights()\n",
    "\n",
    "    def init_weights(self):\n",
    "        initrange = 0.5\n",
    "        self.fc.weight.data.uniform_(-initrange, initrange)\n",
    "        self.fc.bias.data.zero_()\n",
    "\n",
    "    def forward(self, x):\n",
    "        #print(x.shape)\n",
    "        # rnn_out, h_out = self.rnn(x)\n",
    "        h_0 = torch.zeros(self.num_layers, x.size(0), self.hidden_size)        \n",
    "        c_0 = torch.zeros(self.num_layers, x.size(0), self.hidden_size)\n",
    "        out, (h_out, _) = self.rnn(x, (h_0, c_0))\n",
    "        #print(h_out.shape)\n",
    "        \n",
    "        # 取最後一層的 h，並轉成二維\n",
    "        # h_out = h_out[-1].view(-1, self.hidden_size)  \n",
    "        # return self.fc(h_out)\n",
    "        # 取最後一個輸出，並轉成二維\n",
    "        flatten_output = out[:, -1].view(-1, self.hidden_size)  \n",
    "        return self.fc(flatten_output)\n",
    "\n",
    "model = TimeSeriesModel(look_back, forward_days, hidden_size=20,\n",
    "                        num_layers=1).to(device)"
   ]
  },
  {
   "cell_type": "markdown",
   "metadata": {},
   "source": [
    "## 模型訓練"
   ]
  },
  {
   "cell_type": "code",
   "execution_count": 39,
   "metadata": {},
   "outputs": [
    {
     "name": "stdout",
     "output_type": "stream",
     "text": [
      "torch.Size([2003, 10]) torch.Size([2003, 10])\n",
      "Epoch: 0, loss: 0.06312\n",
      "Epoch: 100, loss: 0.00007\n",
      "Epoch: 200, loss: 0.00005\n",
      "Epoch: 300, loss: 0.00005\n",
      "Epoch: 400, loss: 0.00005\n",
      "Epoch: 500, loss: 0.00005\n",
      "Epoch: 600, loss: 0.00005\n",
      "Epoch: 700, loss: 0.00005\n",
      "Epoch: 800, loss: 0.00005\n",
      "Epoch: 900, loss: 0.00005\n",
      "Epoch: 1000, loss: 0.00004\n",
      "Epoch: 1100, loss: 0.00004\n",
      "Epoch: 1200, loss: 0.00004\n",
      "Epoch: 1300, loss: 0.00004\n",
      "Epoch: 1400, loss: 0.00005\n",
      "Epoch: 1500, loss: 0.00004\n",
      "Epoch: 1600, loss: 0.00004\n",
      "Epoch: 1700, loss: 0.00004\n",
      "Epoch: 1800, loss: 0.00004\n",
      "Epoch: 1900, loss: 0.00004\n"
     ]
    }
   ],
   "source": [
    "def train(trainX, trainY):\n",
    "    criterion = torch.nn.MSELoss()  # MSE\n",
    "    optimizer = torch.optim.Adam(model.parameters(), lr=learning_rate)\n",
    "\n",
    "    for epoch in range(num_epochs):\n",
    "        optimizer.zero_grad()\n",
    "        outputs = model(trainX)\n",
    "        if epoch <= 0: print(outputs.shape, trainY.shape)\n",
    "        loss = criterion(outputs, trainY)    \n",
    "        loss.backward()\n",
    "        optimizer.step()\n",
    "        if epoch % 100 == 0:\n",
    "            print(f\"Epoch: {epoch}, loss: {loss.item():.5f}\")\n",
    "\n",
    "train(trainX, trainY)"
   ]
  },
  {
   "cell_type": "code",
   "execution_count": 40,
   "metadata": {},
   "outputs": [
    {
     "name": "stdout",
     "output_type": "stream",
     "text": [
      "(20030, 1) (2003, 10)\n",
      "Train RMSE: 7.68\n",
      "Test RMSE:  30.99\n"
     ]
    }
   ],
   "source": [
    "from sklearn.metrics import mean_squared_error\n",
    "import math \n",
    "\n",
    "model.eval()\n",
    "trainPredict = model(trainX).detach().numpy()\n",
    "testPredict = model(testX).detach().numpy()\n",
    "\n",
    "# 還原常態化的訓練及測試資料\n",
    "trainPredict = scaler.inverse_transform(trainPredict)\n",
    "trainY_actual = scaler.inverse_transform(trainY.reshape(-1, 1))\n",
    "testPredict = scaler.inverse_transform(testPredict)\n",
    "testY_actual = scaler.inverse_transform(testY.reshape(-1, 1))\n",
    "print(trainY_actual.shape, trainPredict.shape)\n",
    "\n",
    "# 計算 RMSE\n",
    "trainScore = math.sqrt(mean_squared_error(trainY_actual, trainPredict.reshape(-1)))\n",
    "print(f'Train RMSE: {trainScore:.2f}')\n",
    "testScore = math.sqrt(mean_squared_error(testY_actual, testPredict.reshape(-1)))\n",
    "print(f'Test RMSE:  {testScore:.2f}')"
   ]
  },
  {
   "cell_type": "markdown",
   "metadata": {},
   "source": [
    "## 繪圖"
   ]
  },
  {
   "cell_type": "code",
   "execution_count": 41,
   "metadata": {
    "scrolled": false
   },
   "outputs": [
    {
     "data": {
      "image/png": "[encoded data removed]",
      "text/plain": [
       "<Figure size 864x432 with 1 Axes>"
      ]
     },
     "metadata": {
      "needs_background": "light"
     },
     "output_type": "display_data"
    }
   ],
   "source": [
    "plt.figure(figsize=(12,6))\n",
    "# 真實資料\n",
    "plt.plot(range(len(dataset)), scaler.inverse_transform(dataset), 'b', label='Actual')\n",
    "\n",
    "# 訓練資料\n",
    "for i in range(trainPredict.shape[0]):\n",
    "    plt.plot(range(i, i+forward_days), trainPredict[i], 'orange')\n",
    "\n",
    "# 測試資料    \n",
    "for i in range(testPredict.shape[0]):\n",
    "    plt.plot(range(i+trainPredict.shape[0], i+trainPredict.shape[0]+forward_days), \n",
    "             testPredict[i], 'r')\n",
    "plt.show()"
   ]
  },
  {
   "cell_type": "markdown",
   "metadata": {},
   "source": [
    "## 只繪製 20 條預測值"
   ]
  },
  {
   "cell_type": "code",
   "execution_count": 42,
   "metadata": {},
   "outputs": [
    {
     "data": {
      "image/png": "[encoded data removed]",
      "text/plain": [
       "<Figure size 864x432 with 1 Axes>"
      ]
     },
     "metadata": {
      "needs_background": "light"
     },
     "output_type": "display_data"
    }
   ],
   "source": [
    "n = 20\n",
    "plt.figure(figsize=(12,6))\n",
    "# 真實資料\n",
    "plt.plot(range(forward_days*n), scaler.inverse_transform(dataset[:forward_days*n]), 'b', label='Actual')\n",
    "\n",
    "# 訓練資料\n",
    "for i in range(n):\n",
    "    plt.plot(range(i*forward_days, (i+1)*forward_days), trainPredict[i*forward_days], 'r')\n",
    "\n",
    "plt.show()"
   ]
  },
  {
   "cell_type": "code",
   "execution_count": null,
   "metadata": {},
   "outputs": [],
   "source": []
  }
 ],
 "metadata": {
  "kernelspec": {
   "display_name": "Python 3 (ipykernel)",
   "language": "python",
   "name": "python3"
  },
  "language_info": {
   "codemirror_mode": {
    "name": "ipython",
    "version": 3
   },
   "file_extension": ".py",
   "mimetype": "text/x-python",
   "name": "python",
   "nbconvert_exporter": "python",
   "pygments_lexer": "ipython3",
   "version": "3.9.7"
  }
 },
 "nbformat": 4,
 "nbformat_minor": 4
}
