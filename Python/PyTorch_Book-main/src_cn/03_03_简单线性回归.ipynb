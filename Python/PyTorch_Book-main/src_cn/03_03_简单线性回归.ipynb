{
 "cells": [
  {
   "cell_type": "markdown",
   "metadata": {},
   "source": [
    "# 使用自动微分估算简单线性回归的参数(w、b)\n",
    "## $ y = wx + b$"
   ]
  },
  {
   "cell_type": "code",
   "execution_count": 2,
   "metadata": {},
   "outputs": [],
   "source": [
    "# 载入套件\n",
    "import numpy as np \n",
    "import torch"
   ]
  },
  {
   "cell_type": "markdown",
   "metadata": {},
   "source": [
    "## 定义训练函数"
   ]
  },
  {
   "cell_type": "code",
   "execution_count": 3,
   "metadata": {},
   "outputs": [],
   "source": [
    "def train(X, y, epochs=100, lr=0.0001):\n",
    "    loss_list, w_list, b_list=[], [], []\n",
    "    \n",
    "    # w、b 初始值均设为常态分配之随机乱数 \n",
    "    w = torch.randn(1, requires_grad=True, dtype=torch.float)\n",
    "    b = torch.randn(1, requires_grad=True, dtype=torch.float)    \n",
    "    for epoch in range(epochs):   # 执行训练周期       \n",
    "        y_pred = w * X + b        # 预测值\n",
    "        \n",
    "        # 计算损失函数值\n",
    "        MSE = torch.square(y - y_pred).mean()        \n",
    "        MSE.backward()      \n",
    "        \n",
    "        # 设定不参与梯度下降，w、b才能运算\n",
    "        with torch.no_grad():\n",
    "            # 新权重 = 原权重 — 学习率(learning_rate) * 梯度(gradient)\n",
    "            w -= lr * w.grad\n",
    "            b -= lr * b.grad \n",
    "        \n",
    "        # 记录训练结果\n",
    "        if (epoch+1) % 1000 == 0 or epochs < 1000:\n",
    "            # detach：与运算图分离，numpy()：转成阵列\n",
    "            # w.detach().numpy()\n",
    "            w_list.append(w.item())  # w.item()：转成常数\n",
    "            b_list.append(b.item())\n",
    "            loss_list.append(MSE.item())\n",
    "        \n",
    "        # 梯度重置\n",
    "        w.grad.zero_()\n",
    "        b.grad.zero_()\n",
    "        \n",
    "    return w_list, b_list, loss_list"
   ]
  },
  {
   "cell_type": "markdown",
   "metadata": {},
   "source": [
    "## 产生随机资料"
   ]
  },
  {
   "cell_type": "code",
   "execution_count": 4,
   "metadata": {},
   "outputs": [],
   "source": [
    "# 产生线性随机资料100笔，介于 0-50\n",
    "n = 100\n",
    "X = np.linspace(0, 50, n) \n",
    "y = np.linspace(0, 50, n) \n",
    "  \n",
    "# 资料加一点杂讯(noise)\n",
    "X += np.random.uniform(-10, 10, n) \n",
    "y += np.random.uniform(-10, 10, n) "
   ]
  },
  {
   "cell_type": "markdown",
   "metadata": {},
   "source": [
    "## 执行训练"
   ]
  },
  {
   "cell_type": "code",
   "execution_count": 93,
   "metadata": {
    "scrolled": false
   },
   "outputs": [
    {
     "name": "stdout",
     "output_type": "stream",
     "text": [
      "w=0.9762612581253052, b=0.052471742033958435\n"
     ]
    }
   ],
   "source": [
    "# 执行训练\n",
    "w_list, b_list, loss_list = train(torch.tensor(X), torch.tensor(y))\n",
    "\n",
    "# 取得 w、b 的最佳解\n",
    "print(f'w={w_list[-1]}, b={b_list[-1]}')"
   ]
  },
  {
   "cell_type": "code",
   "execution_count": 7,
   "metadata": {
    "scrolled": false
   },
   "outputs": [
    {
     "name": "stdout",
     "output_type": "stream",
     "text": [
      "w=0.9177446961402893, b=-0.2882246971130371\n"
     ]
    }
   ],
   "source": [
    "# 执行训练\n",
    "w_list, b_list, loss_list = train(torch.tensor(X), torch.tensor(y), epochs=100000)\n",
    "\n",
    "# 取得 w、b 的最佳解\n",
    "print(f'w={w_list[-1]}, b={b_list[-1]}')"
   ]
  },
  {
   "cell_type": "markdown",
   "metadata": {},
   "source": [
    "## 以NumPy验证"
   ]
  },
  {
   "cell_type": "code",
   "execution_count": 94,
   "metadata": {
    "scrolled": false
   },
   "outputs": [
    {
     "name": "stdout",
     "output_type": "stream",
     "text": [
      "w=0.8510051491073364, b=4.517198474698629\n"
     ]
    }
   ],
   "source": [
    "# 执行训练\n",
    "coef = np.polyfit(X, y, deg=1)\n",
    "\n",
    "# 取得 w、b 的最佳解\n",
    "print(f'w={coef[0]}, b={coef[1]}')"
   ]
  },
  {
   "cell_type": "code",
   "execution_count": 95,
   "metadata": {},
   "outputs": [
    {
     "data": {
      "text/plain": [
       "(0.8510051491073363, 4.517198474698631)"
      ]
     },
     "execution_count": 95,
     "metadata": {},
     "output_type": "execute_result"
    }
   ],
   "source": [
    "from sklearn.linear_model import LinearRegression\n",
    "\n",
    "X2 = X.reshape(X.shape[0], 1)\n",
    "\n",
    "lr = LinearRegression()\n",
    "lr.fit(X2, y)\n",
    "\n",
    "lr.coef_[0], lr.intercept_"
   ]
  },
  {
   "cell_type": "markdown",
   "metadata": {},
   "source": [
    "## 显示回归线"
   ]
  },
  {
   "cell_type": "code",
   "execution_count": 96,
   "metadata": {
    "scrolled": true
   },
   "outputs": [
    {
     "data": {
      "text/plain": [
       "<matplotlib.legend.Legend at 0x1fed6f43fd0>"
      ]
     },
     "execution_count": 96,
     "metadata": {},
     "output_type": "execute_result"
    },
    {
     "data": {
      "image/png": "[encoded data removed]",
      "text/plain": [
       "<Figure size 432x288 with 1 Axes>"
      ]
     },
     "metadata": {
      "needs_background": "light"
     },
     "output_type": "display_data"
    }
   ],
   "source": [
    "import matplotlib.pyplot as plt \n",
    "\n",
    "plt.scatter(X, y, label='data')\n",
    "plt.plot(X, w_list[-1] * X + b_list[-1], 'r-', label='predicted')\n",
    "plt.legend()"
   ]
  },
  {
   "cell_type": "code",
   "execution_count": 97,
   "metadata": {
    "scrolled": true
   },
   "outputs": [
    {
     "data": {
      "text/plain": [
       "<matplotlib.legend.Legend at 0x1fed6f95ee0>"
      ]
     },
     "execution_count": 97,
     "metadata": {},
     "output_type": "execute_result"
    },
    {
     "data": {
      "image/png": "[encoded data removed]",
      "text/plain": [
       "<Figure size 432x288 with 1 Axes>"
      ]
     },
     "metadata": {
      "needs_background": "light"
     },
     "output_type": "display_data"
    }
   ],
   "source": [
    "# NumPy 求得的回归线\n",
    "import matplotlib.pyplot as plt \n",
    "\n",
    "plt.scatter(X, y, label='data')\n",
    "plt.plot(X, coef[0] * X + coef[1], 'r-', label='predicted')\n",
    "plt.legend()"
   ]
  },
  {
   "cell_type": "code",
   "execution_count": 81,
   "metadata": {
    "scrolled": false
   },
   "outputs": [
    {
     "data": {
      "text/plain": [
       "[<matplotlib.lines.Line2D at 0x1fed558c220>]"
      ]
     },
     "execution_count": 81,
     "metadata": {},
     "output_type": "execute_result"
    },
    {
     "data": {
      "image/png": "[encoded data removed]",
      "text/plain": [
       "<Figure size 432x288 with 1 Axes>"
      ]
     },
     "metadata": {
      "needs_background": "light"
     },
     "output_type": "display_data"
    }
   ],
   "source": [
    "# 损失函数绘图\n",
    "plt.plot(loss_list)"
   ]
  },
  {
   "cell_type": "code",
   "execution_count": 98,
   "metadata": {},
   "outputs": [
    {
     "data": {
      "text/plain": [
       "[940.5437194191467,\n",
       " 649.3575966096452,\n",
       " 455.08293443499934,\n",
       " 325.46593524599365,\n",
       " 238.98747800993524,\n",
       " 181.29027375372272,\n",
       " 142.79545797804457,\n",
       " 117.11215862727774,\n",
       " 99.9764877177133,\n",
       " 88.54364940984883,\n",
       " 80.91564846722181,\n",
       " 75.8261669322988,\n",
       " 72.4303372929976,\n",
       " 70.16448544042386,\n",
       " 68.65253650128123,\n",
       " 67.64357899932804,\n",
       " 66.97021329635093,\n",
       " 66.52074205601653,\n",
       " 66.22065307106367,\n",
       " 66.02022909677879,\n",
       " 65.88630032900183,\n",
       " 65.79673489252502,\n",
       " 65.73676905716735,\n",
       " 65.69655037304292,\n",
       " 65.6695079149226,\n",
       " 65.65125553775262,\n",
       " 65.63886819473771,\n",
       " 65.63039382904215,\n",
       " 65.62453026409904,\n",
       " 65.62040856557353,\n",
       " 65.61744882324777,\n",
       " 65.61526455228096,\n",
       " 65.61359767486752,\n",
       " 65.61227598453247,\n",
       " 65.61118462854371,\n",
       " 65.61024691289745,\n",
       " 65.609411787146,\n",
       " 65.60864510711467,\n",
       " 65.60792410917729,\n",
       " 65.60723365143218,\n",
       " 65.60656354524542,\n",
       " 65.60590706999612,\n",
       " 65.60525970355945,\n",
       " 65.60461843232973,\n",
       " 65.60398125517247,\n",
       " 65.60334683919481,\n",
       " 65.60271428186233,\n",
       " 65.60208299572443,\n",
       " 65.60145257281084,\n",
       " 65.6008227533585,\n",
       " 65.60019336254175,\n",
       " 65.59956427853575,\n",
       " 65.59893541596738,\n",
       " 65.59830673025222,\n",
       " 65.59767819034256,\n",
       " 65.59704976605207,\n",
       " 65.59642144118432,\n",
       " 65.59579320407559,\n",
       " 65.59516505575543,\n",
       " 65.59453698337202,\n",
       " 65.59390899133834,\n",
       " 65.59328106875756,\n",
       " 65.59265321818253,\n",
       " 65.59202544272304,\n",
       " 65.59139774194577,\n",
       " 65.59077010616697,\n",
       " 65.59014254845383,\n",
       " 65.5895150593558,\n",
       " 65.58888763877181,\n",
       " 65.58826028662051,\n",
       " 65.58763300694606,\n",
       " 65.58700579561793,\n",
       " 65.58637865672353,\n",
       " 65.58575159025631,\n",
       " 65.58512459205764,\n",
       " 65.58449766625662,\n",
       " 65.5838708128469,\n",
       " 65.58324402249958,\n",
       " 65.58261730453188,\n",
       " 65.5819906589374,\n",
       " 65.58136408570978,\n",
       " 65.58073758066283,\n",
       " 65.5801111479671,\n",
       " 65.57948477829703,\n",
       " 65.57885848514108,\n",
       " 65.57823226014249,\n",
       " 65.5776061074712,\n",
       " 65.57698002197866,\n",
       " 65.57635400462506,\n",
       " 65.5757280595811,\n",
       " 65.57510219101569,\n",
       " 65.57447638125501,\n",
       " 65.57385064378632,\n",
       " 65.57322498277834,\n",
       " 65.57259938987262,\n",
       " 65.57197385992711,\n",
       " 65.57134840642415,\n",
       " 65.57072302100623,\n",
       " 65.57009770784394,\n",
       " 65.5694724617936]"
      ]
     },
     "execution_count": 98,
     "metadata": {},
     "output_type": "execute_result"
    }
   ],
   "source": [
    "loss_list"
   ]
  },
  {
   "cell_type": "code",
   "execution_count": 99,
   "metadata": {
    "scrolled": false
   },
   "outputs": [
    {
     "data": {
      "text/plain": [
       "[0.17896035313606262,\n",
       " 0.3251361548900604,\n",
       " 0.4445331394672394,\n",
       " 0.5420567989349365,\n",
       " 0.6217141151428223,\n",
       " 0.6867779493331909,\n",
       " 0.7399216294288635,\n",
       " 0.7833287715911865,\n",
       " 0.8187829852104187,\n",
       " 0.8477411270141602,\n",
       " 0.8713932037353516,\n",
       " 0.89071124792099,\n",
       " 0.9064891934394836,\n",
       " 0.9193755388259888,\n",
       " 0.9298999905586243,\n",
       " 0.9384951591491699,\n",
       " 0.9455145597457886,\n",
       " 0.9512467980384827,\n",
       " 0.9559276700019836,\n",
       " 0.9597497582435608,\n",
       " 0.9628704190254211,\n",
       " 0.9654181003570557,\n",
       " 0.9674978256225586,\n",
       " 0.9691952466964722,\n",
       " 0.9705804586410522,\n",
       " 0.9717106223106384,\n",
       " 0.9726324677467346,\n",
       " 0.9733841419219971,\n",
       " 0.9739968180656433,\n",
       " 0.9744960069656372,\n",
       " 0.9749024510383606,\n",
       " 0.9752331376075745,\n",
       " 0.9755019545555115,\n",
       " 0.975720226764679,\n",
       " 0.9758972525596619,\n",
       " 0.9760405421257019,\n",
       " 0.9761562943458557,\n",
       " 0.9762495756149292,\n",
       " 0.9763244390487671,\n",
       " 0.9763843417167664,\n",
       " 0.9764319658279419,\n",
       " 0.9764695763587952,\n",
       " 0.9764990210533142,\n",
       " 0.9765217900276184,\n",
       " 0.9765390753746033,\n",
       " 0.97655189037323,\n",
       " 0.9765610694885254,\n",
       " 0.9765673279762268,\n",
       " 0.9765711426734924,\n",
       " 0.9765729308128357,\n",
       " 0.97657310962677,\n",
       " 0.9765719771385193,\n",
       " 0.9765697717666626,\n",
       " 0.9765666723251343,\n",
       " 0.9765628576278687,\n",
       " 0.9765584468841553,\n",
       " 0.9765535593032837,\n",
       " 0.9765483140945435,\n",
       " 0.9765427112579346,\n",
       " 0.9765368700027466,\n",
       " 0.9765307903289795,\n",
       " 0.9765245318412781,\n",
       " 0.9765181541442871,\n",
       " 0.9765116572380066,\n",
       " 0.9765050411224365,\n",
       " 0.9764983654022217,\n",
       " 0.9764916300773621,\n",
       " 0.9764848351478577,\n",
       " 0.9764779806137085,\n",
       " 0.9764711260795593,\n",
       " 0.9764642119407654,\n",
       " 0.9764572978019714,\n",
       " 0.9764503836631775,\n",
       " 0.9764434099197388,\n",
       " 0.9764364361763,\n",
       " 0.9764294624328613,\n",
       " 0.9764224886894226,\n",
       " 0.9764155149459839,\n",
       " 0.9764085412025452,\n",
       " 0.9764015674591064,\n",
       " 0.976394534111023,\n",
       " 0.9763875007629395,\n",
       " 0.976380467414856,\n",
       " 0.9763734936714172,\n",
       " 0.9763664603233337,\n",
       " 0.9763594269752502,\n",
       " 0.9763524532318115,\n",
       " 0.976345419883728,\n",
       " 0.9763383865356445,\n",
       " 0.9763314127922058,\n",
       " 0.9763243794441223,\n",
       " 0.9763173460960388,\n",
       " 0.9763103723526001,\n",
       " 0.9763033390045166,\n",
       " 0.9762963056564331,\n",
       " 0.9762893319129944,\n",
       " 0.9762822985649109,\n",
       " 0.9762752652168274,\n",
       " 0.9762682914733887,\n",
       " 0.9762612581253052]"
      ]
     },
     "execution_count": 99,
     "metadata": {},
     "output_type": "execute_result"
    }
   ],
   "source": [
    "w_list"
   ]
  },
  {
   "cell_type": "code",
   "execution_count": null,
   "metadata": {},
   "outputs": [],
   "source": []
  }
 ],
 "metadata": {
  "kernelspec": {
   "display_name": "Python 3 (ipykernel)",
   "language": "python",
   "name": "python3"
  },
  "language_info": {
   "codemirror_mode": {
    "name": "ipython",
    "version": 3
   },
   "file_extension": ".py",
   "mimetype": "text/x-python",
   "name": "python",
   "nbconvert_exporter": "python",
   "pygments_lexer": "ipython3",
   "version": "3.9.7"
  }
 },
 "nbformat": 4,
 "nbformat_minor": 4
}
