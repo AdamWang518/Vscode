{
 "cells": [
  {
   "cell_type": "markdown",
   "metadata": {},
   "source": [
    "# 手写阿拉伯数字辨识 完整版"
   ]
  },
  {
   "cell_type": "markdown",
   "metadata": {},
   "source": [
    "## 载入套件"
   ]
  },
  {
   "cell_type": "code",
   "execution_count": 60,
   "metadata": {},
   "outputs": [],
   "source": [
    "import os\n",
    "import torch\n",
    "from torch import nn\n",
    "from torch.nn import functional as F\n",
    "from torch.utils.data import DataLoader, random_split\n",
    "from torchmetrics import Accuracy\n",
    "from torchvision import transforms\n",
    "from torchvision.datasets import MNIST"
   ]
  },
  {
   "cell_type": "markdown",
   "metadata": {},
   "source": [
    "## 设定参数"
   ]
  },
  {
   "cell_type": "code",
   "execution_count": 61,
   "metadata": {},
   "outputs": [
    {
     "data": {
      "text/plain": [
       "'cuda'"
      ]
     },
     "execution_count": 61,
     "metadata": {},
     "output_type": "execute_result"
    }
   ],
   "source": [
    "PATH_DATASETS = \"\" # 预设路径\n",
    "BATCH_SIZE = 1024  # 批量\n",
    "device = torch.device(\"cuda\" if torch.cuda.is_available() else \"cpu\")\n",
    "\"cuda\" if torch.cuda.is_available() else \"cpu\""
   ]
  },
  {
   "cell_type": "markdown",
   "metadata": {},
   "source": [
    "## 步骤1：载入 MNIST 手写阿拉伯数字资料"
   ]
  },
  {
   "cell_type": "code",
   "execution_count": 62,
   "metadata": {},
   "outputs": [
    {
     "name": "stdout",
     "output_type": "stream",
     "text": [
      "torch.Size([60000, 28, 28]) torch.Size([10000, 28, 28])\n"
     ]
    }
   ],
   "source": [
    "# 下载 MNIST 手写阿拉伯数字 训练资料\n",
    "train_ds = MNIST(PATH_DATASETS, train=True, download=True, \n",
    "                 transform=transforms.ToTensor())\n",
    "\n",
    "# 下载测试资料\n",
    "test_ds = MNIST(PATH_DATASETS, train=False, download=True, \n",
    "                 transform=transforms.ToTensor())\n",
    "\n",
    "# 训练/测试资料的维度\n",
    "print(train_ds.data.shape, test_ds.data.shape)"
   ]
  },
  {
   "cell_type": "code",
   "execution_count": 63,
   "metadata": {},
   "outputs": [],
   "source": [
    "# 删除 log 目录\n",
    "import os\n",
    "import shutil\n",
    "\n",
    "dirpath = './runs_2'\n",
    "if os.path.exists(dirpath) and os.path.isdir(dirpath):\n",
    "    shutil.rmtree(dirpath)"
   ]
  },
  {
   "cell_type": "code",
   "execution_count": 64,
   "metadata": {
    "scrolled": false
   },
   "outputs": [
    {
     "data": {
      "image/png": "[encoded data removed]",
      "text/plain": [
       "<Figure size 432x288 with 1 Axes>"
      ]
     },
     "metadata": {
      "needs_background": "light"
     },
     "output_type": "display_data"
    }
   ],
   "source": [
    "# 显示第1张图片图像\n",
    "import matplotlib.pyplot as plt\n",
    "\n",
    "# 第一笔资料\n",
    "X = train_ds.data[0]\n",
    "\n",
    "# 绘制点阵图，cmap='gray':灰阶\n",
    "plt.imshow(X.reshape(28,28), cmap='gray')\n",
    "\n",
    "# 隐藏刻度\n",
    "plt.axis('off') \n",
    "\n",
    "# 显示图形\n",
    "plt.show() "
   ]
  },
  {
   "cell_type": "code",
   "execution_count": 65,
   "metadata": {},
   "outputs": [],
   "source": [
    "from torch.utils.tensorboard import SummaryWriter\n",
    "\n",
    "# 设定工作记录档目录\n",
    "writer = SummaryWriter('runs_2/mnist_experiment_1')"
   ]
  },
  {
   "cell_type": "code",
   "execution_count": 66,
   "metadata": {},
   "outputs": [],
   "source": [
    "# create grid of images\n",
    "import torchvision\n",
    "\n",
    "img_grid = torchvision.utils.make_grid(X.reshape(28,28))\n",
    "writer.add_image('First image', img_grid)"
   ]
  },
  {
   "cell_type": "markdown",
   "metadata": {},
   "source": [
    "## 步骤2：资料清理，此步骤无需进行"
   ]
  },
  {
   "cell_type": "markdown",
   "metadata": {},
   "source": [
    "## 步骤3：特征工程，此步骤无需进行"
   ]
  },
  {
   "cell_type": "markdown",
   "metadata": {},
   "source": [
    "## 步骤4：资料分割，此步骤无需进行，载入MNIST资料时，已经切割好了"
   ]
  },
  {
   "cell_type": "markdown",
   "metadata": {},
   "source": [
    "## 步骤5：建立模型结构"
   ]
  },
  {
   "cell_type": "code",
   "execution_count": 67,
   "metadata": {},
   "outputs": [],
   "source": [
    "# 建立模型\n",
    "model = torch.nn.Sequential(\n",
    "    torch.nn.Flatten(),\n",
    "    torch.nn.Linear(28 * 28, 256), \n",
    "    torch.nn.Dropout(0.2),\n",
    "    torch.nn.Linear(256, 10), \n",
    "    # 使用nn.CrossEntropyLoss()时，不需要将输出经过softmax层，否则计算的损失会有误\n",
    "    # torch.nn.Softmax(dim=1)\n",
    ").to(device)"
   ]
  },
  {
   "cell_type": "markdown",
   "metadata": {},
   "source": [
    "## 步骤6：结合训练资料及模型，进行模型训练"
   ]
  },
  {
   "cell_type": "code",
   "execution_count": 68,
   "metadata": {
    "scrolled": false
   },
   "outputs": [
    {
     "name": "stdout",
     "output_type": "stream",
     "text": [
      "Epoch 1: [    0 / 60000] (0 %)  Loss: 2.271219\n",
      "Epoch 1: [ 6000 / 60000] (10 %)  Loss: 1.982283\n",
      "Epoch 1: [12000 / 60000] (20 %)  Loss: 1.776822\n",
      "Epoch 1: [18000 / 60000] (30 %)  Loss: 1.538974\n",
      "Epoch 1: [24000 / 60000] (40 %)  Loss: 1.323098\n",
      "Epoch 1: [30000 / 60000] (50 %)  Loss: 1.214961\n",
      "Epoch 1: [36000 / 60000] (60 %)  Loss: 0.987811\n",
      "Epoch 1: [42000 / 60000] (70 %)  Loss: 0.976054\n",
      "Epoch 1: [48000 / 60000] (80 %)  Loss: 0.705115\n",
      "Epoch 1: [54000 / 60000] (90 %)  Loss: 0.733142\n",
      "Epoch 2: [    0 / 60000] (0 %)  Loss: 0.683233\n",
      "Epoch 2: [ 6000 / 60000] (10 %)  Loss: 0.543707\n",
      "Epoch 2: [12000 / 60000] (20 %)  Loss: 0.633048\n",
      "Epoch 2: [18000 / 60000] (30 %)  Loss: 0.543870\n",
      "Epoch 2: [24000 / 60000] (40 %)  Loss: 0.567609\n",
      "Epoch 2: [30000 / 60000] (50 %)  Loss: 0.619578\n",
      "Epoch 2: [36000 / 60000] (60 %)  Loss: 0.507021\n",
      "Epoch 2: [42000 / 60000] (70 %)  Loss: 0.616504\n",
      "Epoch 2: [48000 / 60000] (80 %)  Loss: 0.406397\n",
      "Epoch 2: [54000 / 60000] (90 %)  Loss: 0.466917\n",
      "Epoch 3: [    0 / 60000] (0 %)  Loss: 0.458626\n",
      "Epoch 3: [ 6000 / 60000] (10 %)  Loss: 0.359117\n",
      "Epoch 3: [12000 / 60000] (20 %)  Loss: 0.489642\n",
      "Epoch 3: [18000 / 60000] (30 %)  Loss: 0.389040\n",
      "Epoch 3: [24000 / 60000] (40 %)  Loss: 0.441164\n",
      "Epoch 3: [30000 / 60000] (50 %)  Loss: 0.483765\n",
      "Epoch 3: [36000 / 60000] (60 %)  Loss: 0.411219\n",
      "Epoch 3: [42000 / 60000] (70 %)  Loss: 0.528266\n",
      "Epoch 3: [48000 / 60000] (80 %)  Loss: 0.343314\n",
      "Epoch 3: [54000 / 60000] (90 %)  Loss: 0.396778\n",
      "Epoch 4: [    0 / 60000] (0 %)  Loss: 0.389292\n",
      "Epoch 4: [ 6000 / 60000] (10 %)  Loss: 0.308808\n",
      "Epoch 4: [12000 / 60000] (20 %)  Loss: 0.435751\n",
      "Epoch 4: [18000 / 60000] (30 %)  Loss: 0.339771\n",
      "Epoch 4: [24000 / 60000] (40 %)  Loss: 0.395509\n",
      "Epoch 4: [30000 / 60000] (50 %)  Loss: 0.420866\n",
      "Epoch 4: [36000 / 60000] (60 %)  Loss: 0.370539\n",
      "Epoch 4: [42000 / 60000] (70 %)  Loss: 0.487921\n",
      "Epoch 4: [48000 / 60000] (80 %)  Loss: 0.315259\n",
      "Epoch 4: [54000 / 60000] (90 %)  Loss: 0.358240\n",
      "Epoch 5: [    0 / 60000] (0 %)  Loss: 0.353796\n",
      "Epoch 5: [ 6000 / 60000] (10 %)  Loss: 0.283661\n",
      "Epoch 5: [12000 / 60000] (20 %)  Loss: 0.416809\n",
      "Epoch 5: [18000 / 60000] (30 %)  Loss: 0.313519\n",
      "Epoch 5: [24000 / 60000] (40 %)  Loss: 0.373830\n",
      "Epoch 5: [30000 / 60000] (50 %)  Loss: 0.391497\n",
      "Epoch 5: [36000 / 60000] (60 %)  Loss: 0.351741\n",
      "Epoch 5: [42000 / 60000] (70 %)  Loss: 0.469355\n",
      "Epoch 5: [48000 / 60000] (80 %)  Loss: 0.287859\n",
      "Epoch 5: [54000 / 60000] (90 %)  Loss: 0.347557\n"
     ]
    }
   ],
   "source": [
    "epochs = 5\n",
    "lr=0.1\n",
    "\n",
    "# 建立 DataLoader\n",
    "train_loader = DataLoader(train_ds, batch_size=600)\n",
    "\n",
    "# 设定优化器(optimizer)\n",
    "# optimizer = torch.optim.Adam(model.parameters(), lr=lr)\n",
    "optimizer = torch.optim.Adadelta(model.parameters(), lr=lr)\n",
    "\n",
    "criterion = nn.CrossEntropyLoss()\n",
    "\n",
    "model.train()\n",
    "loss_list = []  \n",
    "n=0\n",
    "for epoch in range(1, epochs + 1):\n",
    "    for batch_idx, (data, target) in enumerate(train_loader):\n",
    "        data, target = data.to(device), target.to(device)\n",
    "#         if batch_idx == 0 and epoch == 1: print(data[0])\n",
    "\n",
    "        optimizer.zero_grad()\n",
    "        output = model(data)\n",
    "        loss = criterion(output, target)\n",
    "        \n",
    "        # 将损失写入log\n",
    "        n+=1\n",
    "        writer.add_scalar(\"Loss/train\", loss, n)\n",
    "        \n",
    "        loss.backward()\n",
    "        optimizer.step()\n",
    "\n",
    "        if batch_idx % 10 == 0:\n",
    "            loss_list.append(loss.item())\n",
    "            batch = batch_idx * len(data)\n",
    "            data_count = len(train_loader.dataset)\n",
    "            percentage = (100. * batch_idx / len(train_loader))\n",
    "            print(f'Epoch {epoch}: [{batch:5d} / {data_count}] ({percentage:.0f} %)' +\n",
    "                  f'  Loss: {loss.item():.6f}')"
   ]
  },
  {
   "cell_type": "markdown",
   "metadata": {},
   "source": [
    "## 对训练过程的损失绘图"
   ]
  },
  {
   "cell_type": "code",
   "execution_count": 69,
   "metadata": {
    "scrolled": false
   },
   "outputs": [
    {
     "data": {
      "text/plain": [
       "[<matplotlib.lines.Line2D at 0x2a8a72efaf0>]"
      ]
     },
     "execution_count": 69,
     "metadata": {},
     "output_type": "execute_result"
    },
    {
     "data": {
      "image/png": "[encoded data removed]",
      "text/plain": [
       "<Figure size 432x288 with 1 Axes>"
      ]
     },
     "metadata": {
      "needs_background": "light"
     },
     "output_type": "display_data"
    }
   ],
   "source": [
    "import matplotlib.pyplot as plt\n",
    "\n",
    "plt.plot(loss_list, 'r')"
   ]
  },
  {
   "cell_type": "code",
   "execution_count": 70,
   "metadata": {},
   "outputs": [],
   "source": [
    "writer.flush()\n",
    "writer.close()"
   ]
  },
  {
   "cell_type": "code",
   "execution_count": null,
   "metadata": {},
   "outputs": [],
   "source": []
  }
 ],
 "metadata": {
  "kernelspec": {
   "display_name": "Python 3 (ipykernel)",
   "language": "python",
   "name": "python3"
  },
  "language_info": {
   "codemirror_mode": {
    "name": "ipython",
    "version": 3
   },
   "file_extension": ".py",
   "mimetype": "text/x-python",
   "name": "python",
   "nbconvert_exporter": "python",
   "pygments_lexer": "ipython3",
   "version": "3.9.7"
  }
 },
 "nbformat": 4,
 "nbformat_minor": 4
}
