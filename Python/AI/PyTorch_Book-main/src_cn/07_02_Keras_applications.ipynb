{
 "cells": [
  {
   "cell_type": "markdown",
   "metadata": {},
   "source": [
    "# 完全采用 VGG 16 预先训练的模型"
   ]
  },
  {
   "cell_type": "markdown",
   "metadata": {},
   "source": [
    "## 载入套件"
   ]
  },
  {
   "cell_type": "code",
   "execution_count": 2,
   "metadata": {},
   "outputs": [],
   "source": [
    "import tensorflow as tf\n",
    "from tensorflow.keras.applications.vgg16 import VGG16\n",
    "from tensorflow.keras.preprocessing import image\n",
    "from tensorflow.keras.applications.vgg16 import preprocess_input\n",
    "from tensorflow.keras.applications.vgg16 import decode_predictions\n",
    "import numpy as np"
   ]
  },
  {
   "cell_type": "markdown",
   "metadata": {},
   "source": [
    "## 载入模型"
   ]
  },
  {
   "cell_type": "code",
   "execution_count": 9,
   "metadata": {},
   "outputs": [],
   "source": [
    "model = VGG16(weights='imagenet')"
   ]
  },
  {
   "cell_type": "markdown",
   "metadata": {},
   "source": [
    "## 模型预测"
   ]
  },
  {
   "cell_type": "code",
   "execution_count": 10,
   "metadata": {},
   "outputs": [
    {
     "name": "stdout",
     "output_type": "stream",
     "text": [
      "Predicted: [('n02124075', 'Egyptian_cat', 0.3042513), ('n02123045', 'tabby', 0.20016184), ('n02123159', 'tiger_cat', 0.15140885)]\n"
     ]
    }
   ],
   "source": [
    "# 任选一张图片，例如大象侧面照\n",
    "img_path = './images_test/cat.jpg'\n",
    "# 载入图档，并缩放宽高为 (224, 224) \n",
    "img = image.load_img(img_path, target_size=(224, 224))\n",
    "\n",
    "# 加一维，变成 (1, 224, 224)\n",
    "x = image.img_to_array(img)\n",
    "x = np.expand_dims(x, axis=0)\n",
    "x = preprocess_input(x)\n",
    "\n",
    "# 预测\n",
    "preds = model.predict(x)\n",
    "# decode_predictions： 取得前 3 名的物件，每个物件属性包括 (类别代码, 名称, 机率)\n",
    "print('Predicted:', decode_predictions(preds, top=3)[0])"
   ]
  },
  {
   "cell_type": "code",
   "execution_count": 11,
   "metadata": {},
   "outputs": [
    {
     "name": "stdout",
     "output_type": "stream",
     "text": [
      "Predicted: [('n02129604', 'tiger', 0.74332666), ('n02123159', 'tiger_cat', 0.25407663), ('n02391049', 'zebra', 0.0015089893)]\n"
     ]
    }
   ],
   "source": [
    "img_path = './images_test/tiger2.jpg'\n",
    "# 载入图档，并缩放宽高为 (224, 224) \n",
    "img = image.load_img(img_path, target_size=(224, 224))\n",
    "# 加一维，变成 (1, 224, 224, 3)，最后一维是色彩\n",
    "x = image.img_to_array(img)\n",
    "x = np.expand_dims(x, axis=0)\n",
    "x = preprocess_input(x)\n",
    "\n",
    "# 预测\n",
    "preds = model.predict(x)\n",
    "# decode_predictions： 取得前 3 名的物件，每个物件属性包括 (类别代码, 名称, 机率)\n",
    "print('Predicted:', decode_predictions(preds, top=3)[0])"
   ]
  },
  {
   "cell_type": "markdown",
   "metadata": {},
   "source": [
    "## 载入 resnet 50 模型"
   ]
  },
  {
   "cell_type": "code",
   "execution_count": 15,
   "metadata": {},
   "outputs": [],
   "source": [
    "from tensorflow.keras.applications.resnet50 import ResNet50\n",
    "from tensorflow.keras.preprocessing import image\n",
    "from tensorflow.keras.applications.resnet50 import preprocess_input\n",
    "from tensorflow.keras.applications.resnet50 import decode_predictions\n",
    "import numpy as np\n",
    "\n",
    "# 预先训练好的模型 -- ResNet50\n",
    "model = ResNet50(weights='imagenet')"
   ]
  },
  {
   "cell_type": "code",
   "execution_count": 16,
   "metadata": {},
   "outputs": [
    {
     "name": "stderr",
     "output_type": "stream",
     "text": [
      "5 out of the last 8 calls to <function Model.make_predict_function.<locals>.predict_function at 0x000001994755A310> triggered tf.function retracing. Tracing is expensive and the excessive number of tracings could be due to (1) creating @tf.function repeatedly in a loop, (2) passing tensors with different shapes, (3) passing Python objects instead of tensors. For (1), please define your @tf.function outside of the loop. For (2), @tf.function has experimental_relax_shapes=True option that relaxes argument shapes that can avoid unnecessary retracing. For (3), please refer to https://www.tensorflow.org/guide/function#controlling_retracing and https://www.tensorflow.org/api_docs/python/tf/function for  more details.\n"
     ]
    },
    {
     "name": "stdout",
     "output_type": "stream",
     "text": [
      "Predicted: [('n02119022', 'red_fox', 0.3712957), ('n02119789', 'kit_fox', 0.28125563), ('n02113023', 'Pembroke', 0.102599755)]\n"
     ]
    }
   ],
   "source": [
    "# 任意一张图片，例如老虎大头照\n",
    "img_path = './images_test/cat.jpg'\n",
    "# 载入图档，并缩放宽高为 (224, 224) \n",
    "img = image.load_img(img_path, target_size=(224, 224))\n",
    "\n",
    "# 加一维，变成 (1, 224, 224)\n",
    "x = image.img_to_array(img)\n",
    "x = np.expand_dims(x, axis=0)\n",
    "x = preprocess_input(x)\n",
    "\n",
    "# 预测\n",
    "preds = model.predict(x)\n",
    "# decode_predictions： 取得前 3 名的物件，每个物件属性包括 (类别代码, 名称, 机率)\n",
    "print('Predicted:', decode_predictions(preds, top=3)[0])"
   ]
  },
  {
   "cell_type": "code",
   "execution_count": 17,
   "metadata": {},
   "outputs": [
    {
     "name": "stdout",
     "output_type": "stream",
     "text": [
      "Predicted: [('n02129604', 'tiger', 0.9667634), ('n02123159', 'tiger_cat', 0.027020546), ('n02391049', 'zebra', 0.006071427)]\n"
     ]
    }
   ],
   "source": [
    "img_path = './images_test/tiger2.jpg'\n",
    "# 载入图档，并缩放宽高为 (224, 224) \n",
    "img = image.load_img(img_path, target_size=(224, 224))\n",
    "# 加一维，变成 (1, 224, 224, 3)，最后一维是色彩\n",
    "x = image.img_to_array(img)\n",
    "x = np.expand_dims(x, axis=0)\n",
    "x = preprocess_input(x)\n",
    "\n",
    "# 预测\n",
    "preds = model.predict(x)\n",
    "# decode_predictions： 取得前 3 名的物件，每个物件属性包括 (类别代码, 名称, 机率)\n",
    "print('Predicted:', decode_predictions(preds, top=3)[0])"
   ]
  },
  {
   "cell_type": "code",
   "execution_count": null,
   "metadata": {},
   "outputs": [],
   "source": []
  }
 ],
 "metadata": {
  "kernelspec": {
   "display_name": "Python 3",
   "language": "python",
   "name": "python3"
  },
  "language_info": {
   "codemirror_mode": {
    "name": "ipython",
    "version": 3
   },
   "file_extension": ".py",
   "mimetype": "text/x-python",
   "name": "python",
   "nbconvert_exporter": "python",
   "pygments_lexer": "ipython3",
   "version": "3.8.8"
  }
 },
 "nbformat": 4,
 "nbformat_minor": 4
}
