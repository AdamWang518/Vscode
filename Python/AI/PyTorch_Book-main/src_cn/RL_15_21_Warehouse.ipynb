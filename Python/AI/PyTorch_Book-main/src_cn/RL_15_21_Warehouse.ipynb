{
 "cells": [
  {
   "cell_type": "markdown",
   "metadata": {
    "id": "MGbq_t1fDo_z"
   },
   "source": [
    "\n",
    "# 自动捡货模拟(Simulation)\n",
    "\n",
    "### 程式修改自Roberto Sannazzaro, [‘How to Automatize a Warehouse Robot’](https://medium.datadriveninvestor.com/get-started-with-q-learning-with-python-how-to-automatize-a-warehouse-robot-7bfae0180301)"
   ]
  },
  {
   "cell_type": "markdown",
   "metadata": {
    "id": "5Ou5LeP-UDJd"
   },
   "source": [
    "## Introduction \n",
    "\n",
    "The use of robotics is constantly expanding in every business sector, automation takes repetitive tasks and aims to automatize them, in order to optimize processes and cut costs.\n",
    "In 2012 Amazon purchased Kiva Systems, a company which developed warehouse robots and related technologies, and which was acquired for $775 million. Moreover many other companies implement robots in their warehouses, even robots that can work in 3 dimensions.\n",
    "\n",
    "<br/><br/>\n",
    "\n",
    "![Autonomous warehouse robot](https://media.giphy.com/media/s0urqX40zokIo/giphy.gif)\n",
    "\n",
    "\n"
   ]
  },
  {
   "cell_type": "markdown",
   "metadata": {
    "id": "EywE3y-rbc1l"
   },
   "source": [
    "## 仓库布置图：\n",
    "<img src=\"https://i.ibb.co/LrTfrgc/warehouse.png\">"
   ]
  },
  {
   "cell_type": "markdown",
   "metadata": {
    "id": "h3_TSG9zddny"
   },
   "source": [
    "## 载入套件"
   ]
  },
  {
   "cell_type": "code",
   "execution_count": 1,
   "metadata": {},
   "outputs": [],
   "source": [
    "import numpy as np"
   ]
  },
  {
   "cell_type": "markdown",
   "metadata": {
    "id": "h3_TSG9zddny"
   },
   "source": [
    "## 定义环境(environment)"
   ]
  },
  {
   "cell_type": "code",
   "execution_count": 2,
   "metadata": {
    "id": "d_Nj4DuPcil6"
   },
   "outputs": [],
   "source": [
    "# 位置编码\n",
    "location_to_state = {'A': 0,\n",
    "                     'B': 1,\n",
    "                     'C': 2,\n",
    "                     'D': 3,\n",
    "                     'E': 4,\n",
    "                     'F': 5,\n",
    "                     'G': 6,\n",
    "                     'H': 7,\n",
    "                     'I': 8,\n",
    "                     'J': 9,\n",
    "                     'K': 10,\n",
    "                     'L': 11}"
   ]
  },
  {
   "cell_type": "markdown",
   "metadata": {
    "id": "QEISuD43mRPv"
   },
   "source": [
    "## 行动空间"
   ]
  },
  {
   "cell_type": "code",
   "execution_count": 3,
   "metadata": {
    "id": "QEISuD43mRPv"
   },
   "outputs": [],
   "source": [
    "actions = [0,1,2,3,4,5,6,7,8,9,10,11]"
   ]
  },
  {
   "cell_type": "markdown",
   "metadata": {
    "id": "tgz56ADj73lO"
   },
   "source": [
    "## 定义行动限制，假设G点有最高优先度, 故奖励设为1000"
   ]
  },
  {
   "cell_type": "code",
   "execution_count": 4,
   "metadata": {
    "id": "qkgMi5QD-P2O"
   },
   "outputs": [],
   "source": [
    "# 行动限制，1: 可到达，0:不可到达\n",
    "R = np.array([[0, 1, 0, 0, 0, 0, 0, 0, 0, 0, 0, 0],\n",
    "              [1, 0, 1, 0, 0, 1, 0, 0, 0, 0, 0, 0],\n",
    "              [0, 1, 0, 0, 0, 0, 1, 0, 0, 0, 0, 0],\n",
    "              [0, 0, 0, 0, 0, 0, 0, 1, 0, 0, 0, 0],\n",
    "              [0, 0, 0, 0, 0, 0, 0, 0, 1, 0, 0, 0],\n",
    "              [0, 1, 0, 0, 0, 0, 0, 0, 0, 1, 0, 0],\n",
    "              [0, 0, 1, 0, 0, 0, 1000, 1, 0, 0, 0, 0],\n",
    "              [0, 0, 0, 1, 0, 0, 1, 0, 0, 0, 0, 1],\n",
    "              [0, 0, 0, 0, 1, 0, 0, 0, 0, 1, 0, 0],\n",
    "              [0, 0, 0, 0, 0, 1, 0, 0, 1, 0, 1, 0],\n",
    "              [0, 0, 0, 0, 0, 0, 0, 0, 0, 1, 0, 1],\n",
    "              [0, 0, 0, 0, 0, 0, 0, 1, 0, 0, 1, 0]])"
   ]
  },
  {
   "cell_type": "markdown",
   "metadata": {
    "id": "OC1194qZ-k6u"
   },
   "source": [
    "## 依TD(1) 演算法更新行动值函数"
   ]
  },
  {
   "cell_type": "code",
   "execution_count": 5,
   "metadata": {
    "id": "QGJwVl-r8Jqk"
   },
   "outputs": [],
   "source": [
    "# 参数设定\n",
    "gamma = 0.75\n",
    "alpha = 0.9\n",
    "\n",
    "# 行动值函数初始值为 0\n",
    "Q = np.array(np.zeros([12,12]))\n",
    "\n",
    "# 训练 1000 周期\n",
    "for i in range(1000):\n",
    "    # 随机起始点\n",
    "    current_state = np.random.randint(0,12)\n",
    "    playable_actions = []\n",
    "    for j in range(12):\n",
    "        if R[current_state, j] > 0:\n",
    "            playable_actions.append(j)\n",
    "    # 任意行动\n",
    "    next_state = np.random.choice(playable_actions)\n",
    "    # 更新行动值函数\n",
    "    TD = R[current_state, next_state] + gamma*Q[next_state, \\\n",
    "            np.argmax(Q[next_state,])] - Q[current_state, next_state]\n",
    "    Q[current_state, next_state] = Q[current_state, next_state] + alpha*TD"
   ]
  },
  {
   "cell_type": "markdown",
   "metadata": {
    "id": "fc11aE5g_csb"
   },
   "source": [
    "## 显示更新结果：越靠近G点，值函数越高"
   ]
  },
  {
   "cell_type": "code",
   "execution_count": 6,
   "metadata": {
    "colab": {
     "base_uri": "https://localhost:8080/",
     "height": 298
    },
    "id": "SqAe8Pys8Lxc",
    "outputId": "58ee45d5-0e66-49e7-a1ee-80e196b83501",
    "scrolled": false
   },
   "outputs": [
    {
     "data": {
      "text/html": [
       "<style type=\"text/css\">\n",
       "#T_54b59_row0_col0, #T_54b59_row0_col2, #T_54b59_row0_col3, #T_54b59_row0_col4, #T_54b59_row0_col5, #T_54b59_row0_col6, #T_54b59_row0_col7, #T_54b59_row0_col8, #T_54b59_row0_col9, #T_54b59_row0_col10, #T_54b59_row0_col11, #T_54b59_row1_col1, #T_54b59_row1_col3, #T_54b59_row1_col4, #T_54b59_row1_col6, #T_54b59_row1_col7, #T_54b59_row1_col8, #T_54b59_row1_col9, #T_54b59_row1_col10, #T_54b59_row1_col11, #T_54b59_row2_col0, #T_54b59_row2_col2, #T_54b59_row2_col3, #T_54b59_row2_col4, #T_54b59_row2_col5, #T_54b59_row2_col7, #T_54b59_row2_col8, #T_54b59_row2_col9, #T_54b59_row2_col10, #T_54b59_row2_col11, #T_54b59_row3_col0, #T_54b59_row3_col1, #T_54b59_row3_col2, #T_54b59_row3_col3, #T_54b59_row3_col4, #T_54b59_row3_col5, #T_54b59_row3_col6, #T_54b59_row3_col8, #T_54b59_row3_col9, #T_54b59_row3_col10, #T_54b59_row3_col11, #T_54b59_row4_col0, #T_54b59_row4_col1, #T_54b59_row4_col2, #T_54b59_row4_col3, #T_54b59_row4_col4, #T_54b59_row4_col5, #T_54b59_row4_col6, #T_54b59_row4_col7, #T_54b59_row4_col9, #T_54b59_row4_col10, #T_54b59_row4_col11, #T_54b59_row5_col0, #T_54b59_row5_col2, #T_54b59_row5_col3, #T_54b59_row5_col4, #T_54b59_row5_col5, #T_54b59_row5_col6, #T_54b59_row5_col7, #T_54b59_row5_col8, #T_54b59_row5_col10, #T_54b59_row5_col11, #T_54b59_row6_col0, #T_54b59_row6_col1, #T_54b59_row6_col3, #T_54b59_row6_col4, #T_54b59_row6_col5, #T_54b59_row6_col8, #T_54b59_row6_col9, #T_54b59_row6_col10, #T_54b59_row6_col11, #T_54b59_row7_col0, #T_54b59_row7_col1, #T_54b59_row7_col2, #T_54b59_row7_col4, #T_54b59_row7_col5, #T_54b59_row7_col7, #T_54b59_row7_col8, #T_54b59_row7_col9, #T_54b59_row7_col10, #T_54b59_row8_col0, #T_54b59_row8_col1, #T_54b59_row8_col2, #T_54b59_row8_col3, #T_54b59_row8_col5, #T_54b59_row8_col6, #T_54b59_row8_col7, #T_54b59_row8_col8, #T_54b59_row8_col10, #T_54b59_row8_col11, #T_54b59_row9_col0, #T_54b59_row9_col1, #T_54b59_row9_col2, #T_54b59_row9_col3, #T_54b59_row9_col4, #T_54b59_row9_col6, #T_54b59_row9_col7, #T_54b59_row9_col9, #T_54b59_row9_col11, #T_54b59_row10_col0, #T_54b59_row10_col1, #T_54b59_row10_col2, #T_54b59_row10_col3, #T_54b59_row10_col4, #T_54b59_row10_col5, #T_54b59_row10_col6, #T_54b59_row10_col7, #T_54b59_row10_col8, #T_54b59_row10_col10, #T_54b59_row11_col0, #T_54b59_row11_col1, #T_54b59_row11_col2, #T_54b59_row11_col3, #T_54b59_row11_col4, #T_54b59_row11_col5, #T_54b59_row11_col6, #T_54b59_row11_col8, #T_54b59_row11_col9, #T_54b59_row11_col11 {\n",
       "  background-color: #f7fcf0;\n",
       "  color: #000000;\n",
       "}\n",
       "#T_54b59_row0_col1, #T_54b59_row1_col0, #T_54b59_row1_col2, #T_54b59_row1_col5, #T_54b59_row2_col1, #T_54b59_row3_col7, #T_54b59_row4_col8, #T_54b59_row5_col1, #T_54b59_row5_col9, #T_54b59_row6_col2, #T_54b59_row6_col6, #T_54b59_row6_col7, #T_54b59_row7_col3, #T_54b59_row7_col11, #T_54b59_row8_col4, #T_54b59_row8_col9, #T_54b59_row9_col5, #T_54b59_row9_col8, #T_54b59_row9_col10, #T_54b59_row10_col9, #T_54b59_row10_col11, #T_54b59_row11_col7, #T_54b59_row11_col10 {\n",
       "  background-color: #084081;\n",
       "  color: #f1f1f1;\n",
       "}\n",
       "#T_54b59_row2_col6, #T_54b59_row7_col6 {\n",
       "  background-color: #2a8bbe;\n",
       "  color: #f1f1f1;\n",
       "}\n",
       "</style>\n",
       "<table id=\"T_54b59_\">\n",
       "  <thead>\n",
       "    <tr>\n",
       "      <th class=\"blank level0\" >&nbsp;</th>\n",
       "      <th class=\"col_heading level0 col0\" >A</th>\n",
       "      <th class=\"col_heading level0 col1\" >B</th>\n",
       "      <th class=\"col_heading level0 col2\" >C</th>\n",
       "      <th class=\"col_heading level0 col3\" >D</th>\n",
       "      <th class=\"col_heading level0 col4\" >E</th>\n",
       "      <th class=\"col_heading level0 col5\" >F</th>\n",
       "      <th class=\"col_heading level0 col6\" >G</th>\n",
       "      <th class=\"col_heading level0 col7\" >H</th>\n",
       "      <th class=\"col_heading level0 col8\" >I</th>\n",
       "      <th class=\"col_heading level0 col9\" >J</th>\n",
       "      <th class=\"col_heading level0 col10\" >K</th>\n",
       "      <th class=\"col_heading level0 col11\" >L</th>\n",
       "    </tr>\n",
       "  </thead>\n",
       "  <tbody>\n",
       "    <tr>\n",
       "      <th id=\"T_54b59_level0_row0\" class=\"row_heading level0 row0\" >0</th>\n",
       "      <td id=\"T_54b59_row0_col0\" class=\"data row0 col0\" >0.000000</td>\n",
       "      <td id=\"T_54b59_row0_col1\" class=\"data row0 col1\" >1688.000000</td>\n",
       "      <td id=\"T_54b59_row0_col2\" class=\"data row0 col2\" >0.000000</td>\n",
       "      <td id=\"T_54b59_row0_col3\" class=\"data row0 col3\" >0.000000</td>\n",
       "      <td id=\"T_54b59_row0_col4\" class=\"data row0 col4\" >0.000000</td>\n",
       "      <td id=\"T_54b59_row0_col5\" class=\"data row0 col5\" >0.000000</td>\n",
       "      <td id=\"T_54b59_row0_col6\" class=\"data row0 col6\" >0.000000</td>\n",
       "      <td id=\"T_54b59_row0_col7\" class=\"data row0 col7\" >0.000000</td>\n",
       "      <td id=\"T_54b59_row0_col8\" class=\"data row0 col8\" >0.000000</td>\n",
       "      <td id=\"T_54b59_row0_col9\" class=\"data row0 col9\" >0.000000</td>\n",
       "      <td id=\"T_54b59_row0_col10\" class=\"data row0 col10\" >0.000000</td>\n",
       "      <td id=\"T_54b59_row0_col11\" class=\"data row0 col11\" >0.000000</td>\n",
       "    </tr>\n",
       "    <tr>\n",
       "      <th id=\"T_54b59_level0_row1\" class=\"row_heading level0 row1\" >1</th>\n",
       "      <td id=\"T_54b59_row1_col0\" class=\"data row1 col0\" >1267.000000</td>\n",
       "      <td id=\"T_54b59_row1_col1\" class=\"data row1 col1\" >0.000000</td>\n",
       "      <td id=\"T_54b59_row1_col2\" class=\"data row1 col2\" >2250.000000</td>\n",
       "      <td id=\"T_54b59_row1_col3\" class=\"data row1 col3\" >0.000000</td>\n",
       "      <td id=\"T_54b59_row1_col4\" class=\"data row1 col4\" >0.000000</td>\n",
       "      <td id=\"T_54b59_row1_col5\" class=\"data row1 col5\" >1267.000000</td>\n",
       "      <td id=\"T_54b59_row1_col6\" class=\"data row1 col6\" >0.000000</td>\n",
       "      <td id=\"T_54b59_row1_col7\" class=\"data row1 col7\" >0.000000</td>\n",
       "      <td id=\"T_54b59_row1_col8\" class=\"data row1 col8\" >0.000000</td>\n",
       "      <td id=\"T_54b59_row1_col9\" class=\"data row1 col9\" >0.000000</td>\n",
       "      <td id=\"T_54b59_row1_col10\" class=\"data row1 col10\" >0.000000</td>\n",
       "      <td id=\"T_54b59_row1_col11\" class=\"data row1 col11\" >0.000000</td>\n",
       "    </tr>\n",
       "    <tr>\n",
       "      <th id=\"T_54b59_level0_row2\" class=\"row_heading level0 row2\" >2</th>\n",
       "      <td id=\"T_54b59_row2_col0\" class=\"data row2 col0\" >0.000000</td>\n",
       "      <td id=\"T_54b59_row2_col1\" class=\"data row2 col1\" >1688.000000</td>\n",
       "      <td id=\"T_54b59_row2_col2\" class=\"data row2 col2\" >0.000000</td>\n",
       "      <td id=\"T_54b59_row2_col3\" class=\"data row2 col3\" >0.000000</td>\n",
       "      <td id=\"T_54b59_row2_col4\" class=\"data row2 col4\" >0.000000</td>\n",
       "      <td id=\"T_54b59_row2_col5\" class=\"data row2 col5\" >0.000000</td>\n",
       "      <td id=\"T_54b59_row2_col6\" class=\"data row2 col6\" >3000.000000</td>\n",
       "      <td id=\"T_54b59_row2_col7\" class=\"data row2 col7\" >0.000000</td>\n",
       "      <td id=\"T_54b59_row2_col8\" class=\"data row2 col8\" >0.000000</td>\n",
       "      <td id=\"T_54b59_row2_col9\" class=\"data row2 col9\" >0.000000</td>\n",
       "      <td id=\"T_54b59_row2_col10\" class=\"data row2 col10\" >0.000000</td>\n",
       "      <td id=\"T_54b59_row2_col11\" class=\"data row2 col11\" >0.000000</td>\n",
       "    </tr>\n",
       "    <tr>\n",
       "      <th id=\"T_54b59_level0_row3\" class=\"row_heading level0 row3\" >3</th>\n",
       "      <td id=\"T_54b59_row3_col0\" class=\"data row3 col0\" >0.000000</td>\n",
       "      <td id=\"T_54b59_row3_col1\" class=\"data row3 col1\" >0.000000</td>\n",
       "      <td id=\"T_54b59_row3_col2\" class=\"data row3 col2\" >0.000000</td>\n",
       "      <td id=\"T_54b59_row3_col3\" class=\"data row3 col3\" >0.000000</td>\n",
       "      <td id=\"T_54b59_row3_col4\" class=\"data row3 col4\" >0.000000</td>\n",
       "      <td id=\"T_54b59_row3_col5\" class=\"data row3 col5\" >0.000000</td>\n",
       "      <td id=\"T_54b59_row3_col6\" class=\"data row3 col6\" >0.000000</td>\n",
       "      <td id=\"T_54b59_row3_col7\" class=\"data row3 col7\" >2251.000000</td>\n",
       "      <td id=\"T_54b59_row3_col8\" class=\"data row3 col8\" >0.000000</td>\n",
       "      <td id=\"T_54b59_row3_col9\" class=\"data row3 col9\" >0.000000</td>\n",
       "      <td id=\"T_54b59_row3_col10\" class=\"data row3 col10\" >0.000000</td>\n",
       "      <td id=\"T_54b59_row3_col11\" class=\"data row3 col11\" >0.000000</td>\n",
       "    </tr>\n",
       "    <tr>\n",
       "      <th id=\"T_54b59_level0_row4\" class=\"row_heading level0 row4\" >4</th>\n",
       "      <td id=\"T_54b59_row4_col0\" class=\"data row4 col0\" >0.000000</td>\n",
       "      <td id=\"T_54b59_row4_col1\" class=\"data row4 col1\" >0.000000</td>\n",
       "      <td id=\"T_54b59_row4_col2\" class=\"data row4 col2\" >0.000000</td>\n",
       "      <td id=\"T_54b59_row4_col3\" class=\"data row4 col3\" >0.000000</td>\n",
       "      <td id=\"T_54b59_row4_col4\" class=\"data row4 col4\" >0.000000</td>\n",
       "      <td id=\"T_54b59_row4_col5\" class=\"data row4 col5\" >0.000000</td>\n",
       "      <td id=\"T_54b59_row4_col6\" class=\"data row4 col6\" >0.000000</td>\n",
       "      <td id=\"T_54b59_row4_col7\" class=\"data row4 col7\" >0.000000</td>\n",
       "      <td id=\"T_54b59_row4_col8\" class=\"data row4 col8\" >715.000000</td>\n",
       "      <td id=\"T_54b59_row4_col9\" class=\"data row4 col9\" >0.000000</td>\n",
       "      <td id=\"T_54b59_row4_col10\" class=\"data row4 col10\" >0.000000</td>\n",
       "      <td id=\"T_54b59_row4_col11\" class=\"data row4 col11\" >0.000000</td>\n",
       "    </tr>\n",
       "    <tr>\n",
       "      <th id=\"T_54b59_level0_row5\" class=\"row_heading level0 row5\" >5</th>\n",
       "      <td id=\"T_54b59_row5_col0\" class=\"data row5 col0\" >0.000000</td>\n",
       "      <td id=\"T_54b59_row5_col1\" class=\"data row5 col1\" >1688.000000</td>\n",
       "      <td id=\"T_54b59_row5_col2\" class=\"data row5 col2\" >0.000000</td>\n",
       "      <td id=\"T_54b59_row5_col3\" class=\"data row5 col3\" >0.000000</td>\n",
       "      <td id=\"T_54b59_row5_col4\" class=\"data row5 col4\" >0.000000</td>\n",
       "      <td id=\"T_54b59_row5_col5\" class=\"data row5 col5\" >0.000000</td>\n",
       "      <td id=\"T_54b59_row5_col6\" class=\"data row5 col6\" >0.000000</td>\n",
       "      <td id=\"T_54b59_row5_col7\" class=\"data row5 col7\" >0.000000</td>\n",
       "      <td id=\"T_54b59_row5_col8\" class=\"data row5 col8\" >0.000000</td>\n",
       "      <td id=\"T_54b59_row5_col9\" class=\"data row5 col9\" >951.000000</td>\n",
       "      <td id=\"T_54b59_row5_col10\" class=\"data row5 col10\" >0.000000</td>\n",
       "      <td id=\"T_54b59_row5_col11\" class=\"data row5 col11\" >0.000000</td>\n",
       "    </tr>\n",
       "    <tr>\n",
       "      <th id=\"T_54b59_level0_row6\" class=\"row_heading level0 row6\" >6</th>\n",
       "      <td id=\"T_54b59_row6_col0\" class=\"data row6 col0\" >0.000000</td>\n",
       "      <td id=\"T_54b59_row6_col1\" class=\"data row6 col1\" >0.000000</td>\n",
       "      <td id=\"T_54b59_row6_col2\" class=\"data row6 col2\" >2251.000000</td>\n",
       "      <td id=\"T_54b59_row6_col3\" class=\"data row6 col3\" >0.000000</td>\n",
       "      <td id=\"T_54b59_row6_col4\" class=\"data row6 col4\" >0.000000</td>\n",
       "      <td id=\"T_54b59_row6_col5\" class=\"data row6 col5\" >0.000000</td>\n",
       "      <td id=\"T_54b59_row6_col6\" class=\"data row6 col6\" >3999.000000</td>\n",
       "      <td id=\"T_54b59_row6_col7\" class=\"data row6 col7\" >2249.000000</td>\n",
       "      <td id=\"T_54b59_row6_col8\" class=\"data row6 col8\" >0.000000</td>\n",
       "      <td id=\"T_54b59_row6_col9\" class=\"data row6 col9\" >0.000000</td>\n",
       "      <td id=\"T_54b59_row6_col10\" class=\"data row6 col10\" >0.000000</td>\n",
       "      <td id=\"T_54b59_row6_col11\" class=\"data row6 col11\" >0.000000</td>\n",
       "    </tr>\n",
       "    <tr>\n",
       "      <th id=\"T_54b59_level0_row7\" class=\"row_heading level0 row7\" >7</th>\n",
       "      <td id=\"T_54b59_row7_col0\" class=\"data row7 col0\" >0.000000</td>\n",
       "      <td id=\"T_54b59_row7_col1\" class=\"data row7 col1\" >0.000000</td>\n",
       "      <td id=\"T_54b59_row7_col2\" class=\"data row7 col2\" >0.000000</td>\n",
       "      <td id=\"T_54b59_row7_col3\" class=\"data row7 col3\" >1688.000000</td>\n",
       "      <td id=\"T_54b59_row7_col4\" class=\"data row7 col4\" >0.000000</td>\n",
       "      <td id=\"T_54b59_row7_col5\" class=\"data row7 col5\" >0.000000</td>\n",
       "      <td id=\"T_54b59_row7_col6\" class=\"data row7 col6\" >3000.000000</td>\n",
       "      <td id=\"T_54b59_row7_col7\" class=\"data row7 col7\" >0.000000</td>\n",
       "      <td id=\"T_54b59_row7_col8\" class=\"data row7 col8\" >0.000000</td>\n",
       "      <td id=\"T_54b59_row7_col9\" class=\"data row7 col9\" >0.000000</td>\n",
       "      <td id=\"T_54b59_row7_col10\" class=\"data row7 col10\" >0.000000</td>\n",
       "      <td id=\"T_54b59_row7_col11\" class=\"data row7 col11\" >1689.000000</td>\n",
       "    </tr>\n",
       "    <tr>\n",
       "      <th id=\"T_54b59_level0_row8\" class=\"row_heading level0 row8\" >8</th>\n",
       "      <td id=\"T_54b59_row8_col0\" class=\"data row8 col0\" >0.000000</td>\n",
       "      <td id=\"T_54b59_row8_col1\" class=\"data row8 col1\" >0.000000</td>\n",
       "      <td id=\"T_54b59_row8_col2\" class=\"data row8 col2\" >0.000000</td>\n",
       "      <td id=\"T_54b59_row8_col3\" class=\"data row8 col3\" >0.000000</td>\n",
       "      <td id=\"T_54b59_row8_col4\" class=\"data row8 col4\" >537.000000</td>\n",
       "      <td id=\"T_54b59_row8_col5\" class=\"data row8 col5\" >0.000000</td>\n",
       "      <td id=\"T_54b59_row8_col6\" class=\"data row8 col6\" >0.000000</td>\n",
       "      <td id=\"T_54b59_row8_col7\" class=\"data row8 col7\" >0.000000</td>\n",
       "      <td id=\"T_54b59_row8_col8\" class=\"data row8 col8\" >0.000000</td>\n",
       "      <td id=\"T_54b59_row8_col9\" class=\"data row8 col9\" >951.000000</td>\n",
       "      <td id=\"T_54b59_row8_col10\" class=\"data row8 col10\" >0.000000</td>\n",
       "      <td id=\"T_54b59_row8_col11\" class=\"data row8 col11\" >0.000000</td>\n",
       "    </tr>\n",
       "    <tr>\n",
       "      <th id=\"T_54b59_level0_row9\" class=\"row_heading level0 row9\" >9</th>\n",
       "      <td id=\"T_54b59_row9_col0\" class=\"data row9 col0\" >0.000000</td>\n",
       "      <td id=\"T_54b59_row9_col1\" class=\"data row9 col1\" >0.000000</td>\n",
       "      <td id=\"T_54b59_row9_col2\" class=\"data row9 col2\" >0.000000</td>\n",
       "      <td id=\"T_54b59_row9_col3\" class=\"data row9 col3\" >0.000000</td>\n",
       "      <td id=\"T_54b59_row9_col4\" class=\"data row9 col4\" >0.000000</td>\n",
       "      <td id=\"T_54b59_row9_col5\" class=\"data row9 col5\" >1267.000000</td>\n",
       "      <td id=\"T_54b59_row9_col6\" class=\"data row9 col6\" >0.000000</td>\n",
       "      <td id=\"T_54b59_row9_col7\" class=\"data row9 col7\" >0.000000</td>\n",
       "      <td id=\"T_54b59_row9_col8\" class=\"data row9 col8\" >715.000000</td>\n",
       "      <td id=\"T_54b59_row9_col9\" class=\"data row9 col9\" >0.000000</td>\n",
       "      <td id=\"T_54b59_row9_col10\" class=\"data row9 col10\" >1267.000000</td>\n",
       "      <td id=\"T_54b59_row9_col11\" class=\"data row9 col11\" >0.000000</td>\n",
       "    </tr>\n",
       "    <tr>\n",
       "      <th id=\"T_54b59_level0_row10\" class=\"row_heading level0 row10\" >10</th>\n",
       "      <td id=\"T_54b59_row10_col0\" class=\"data row10 col0\" >0.000000</td>\n",
       "      <td id=\"T_54b59_row10_col1\" class=\"data row10 col1\" >0.000000</td>\n",
       "      <td id=\"T_54b59_row10_col2\" class=\"data row10 col2\" >0.000000</td>\n",
       "      <td id=\"T_54b59_row10_col3\" class=\"data row10 col3\" >0.000000</td>\n",
       "      <td id=\"T_54b59_row10_col4\" class=\"data row10 col4\" >0.000000</td>\n",
       "      <td id=\"T_54b59_row10_col5\" class=\"data row10 col5\" >0.000000</td>\n",
       "      <td id=\"T_54b59_row10_col6\" class=\"data row10 col6\" >0.000000</td>\n",
       "      <td id=\"T_54b59_row10_col7\" class=\"data row10 col7\" >0.000000</td>\n",
       "      <td id=\"T_54b59_row10_col8\" class=\"data row10 col8\" >0.000000</td>\n",
       "      <td id=\"T_54b59_row10_col9\" class=\"data row10 col9\" >951.000000</td>\n",
       "      <td id=\"T_54b59_row10_col10\" class=\"data row10 col10\" >0.000000</td>\n",
       "      <td id=\"T_54b59_row10_col11\" class=\"data row10 col11\" >1688.000000</td>\n",
       "    </tr>\n",
       "    <tr>\n",
       "      <th id=\"T_54b59_level0_row11\" class=\"row_heading level0 row11\" >11</th>\n",
       "      <td id=\"T_54b59_row11_col0\" class=\"data row11 col0\" >0.000000</td>\n",
       "      <td id=\"T_54b59_row11_col1\" class=\"data row11 col1\" >0.000000</td>\n",
       "      <td id=\"T_54b59_row11_col2\" class=\"data row11 col2\" >0.000000</td>\n",
       "      <td id=\"T_54b59_row11_col3\" class=\"data row11 col3\" >0.000000</td>\n",
       "      <td id=\"T_54b59_row11_col4\" class=\"data row11 col4\" >0.000000</td>\n",
       "      <td id=\"T_54b59_row11_col5\" class=\"data row11 col5\" >0.000000</td>\n",
       "      <td id=\"T_54b59_row11_col6\" class=\"data row11 col6\" >0.000000</td>\n",
       "      <td id=\"T_54b59_row11_col7\" class=\"data row11 col7\" >2251.000000</td>\n",
       "      <td id=\"T_54b59_row11_col8\" class=\"data row11 col8\" >0.000000</td>\n",
       "      <td id=\"T_54b59_row11_col9\" class=\"data row11 col9\" >0.000000</td>\n",
       "      <td id=\"T_54b59_row11_col10\" class=\"data row11 col10\" >1267.000000</td>\n",
       "      <td id=\"T_54b59_row11_col11\" class=\"data row11 col11\" >0.000000</td>\n",
       "    </tr>\n",
       "  </tbody>\n",
       "</table>\n"
      ],
      "text/plain": [
       "<pandas.io.formats.style.Styler at 0x17d7aac0df0>"
      ]
     },
     "execution_count": 6,
     "metadata": {},
     "output_type": "execute_result"
    }
   ],
   "source": [
    "import pandas as pd\n",
    "\n",
    "q_values = pd.DataFrame(Q, columns=[location for location in location_to_state])\n",
    "s = q_values.round().style.background_gradient(cmap='GnBu')\n",
    "s"
   ]
  },
  {
   "cell_type": "markdown",
   "metadata": {
    "id": "dYxmnptdTn0m"
   },
   "source": [
    "## 重新定义行动限制"
   ]
  },
  {
   "cell_type": "code",
   "execution_count": 7,
   "metadata": {
    "id": "_OX4N4WBTw3r"
   },
   "outputs": [],
   "source": [
    "R = np.array([[0, 1, 0, 0, 0, 0, 0, 0, 0, 0, 0, 0],\n",
    "              [1, 0, 1, 0, 0, 1, 0, 0, 0, 0, 0, 0],\n",
    "              [0, 1, 0, 0, 0, 0, 1, 0, 0, 0, 0, 0],\n",
    "              [0, 0, 0, 0, 0, 0, 0, 1, 0, 0, 0, 0],\n",
    "              [0, 0, 0, 0, 0, 0, 0, 0, 1, 0, 0, 0],\n",
    "              [0, 1, 0, 0, 0, 0, 0, 0, 0, 1, 0, 0],\n",
    "              [0, 0, 1, 0, 0, 0, 1, 1, 0, 0, 0, 0],\n",
    "              [0, 0, 0, 1, 0, 0, 1, 0, 0, 0, 0, 1],\n",
    "              [0, 0, 0, 0, 1, 0, 0, 0, 0, 1, 0, 0],\n",
    "              [0, 0, 0, 0, 0, 1, 0, 0, 1, 0, 1, 0],\n",
    "              [0, 0, 0, 0, 0, 0, 0, 0, 0, 1, 0, 1],\n",
    "              [0, 0, 0, 0, 0, 0, 0, 1, 0, 0, 1, 0]])"
   ]
  },
  {
   "cell_type": "markdown",
   "metadata": {
    "colab": {
     "base_uri": "https://localhost:8080/",
     "height": 218
    },
    "id": "Czn8TP9nJZ3o",
    "outputId": "3607d4f8-c9d2-42f6-a3da-ce4fb5ee95bd",
    "scrolled": true
   },
   "source": [
    "## 定义代码与位置对照表"
   ]
  },
  {
   "cell_type": "code",
   "execution_count": 8,
   "metadata": {
    "colab": {
     "base_uri": "https://localhost:8080/",
     "height": 218
    },
    "id": "Czn8TP9nJZ3o",
    "outputId": "3607d4f8-c9d2-42f6-a3da-ce4fb5ee95bd",
    "scrolled": true
   },
   "outputs": [
    {
     "data": {
      "text/plain": [
       "{0: 'A',\n",
       " 1: 'B',\n",
       " 2: 'C',\n",
       " 3: 'D',\n",
       " 4: 'E',\n",
       " 5: 'F',\n",
       " 6: 'G',\n",
       " 7: 'H',\n",
       " 8: 'I',\n",
       " 9: 'J',\n",
       " 10: 'K',\n",
       " 11: 'L'}"
      ]
     },
     "execution_count": 8,
     "metadata": {},
     "output_type": "execute_result"
    }
   ],
   "source": [
    "state_to_location = {state: location for location, \n",
    "                     state in location_to_state.items()}\n",
    "state_to_location            "
   ]
  },
  {
   "cell_type": "markdown",
   "metadata": {
    "id": "dYxmnptdTn0m"
   },
   "source": [
    "## 定义路由训练函数"
   ]
  },
  {
   "cell_type": "code",
   "execution_count": 9,
   "metadata": {
    "id": "SdYSDdMeJGHV"
   },
   "outputs": [],
   "source": [
    "def route(starting_location, ending_location):\n",
    "    # starting_location, ending_location：起点、终点\n",
    "    # 位置转换为代码\n",
    "    ending_state = location_to_state[ending_location]\n",
    "    # 终点有最高优先度\n",
    "    R_new = np.copy(R)\n",
    "    R_new[ending_state, ending_state] = 1000\n",
    "    \n",
    "    # 策略评估：训练 1000 周期\n",
    "    Q = np.array(np.zeros([12,12]))\n",
    "    for i in range(1000):\n",
    "        current_state = np.random.randint(0,12)\n",
    "        playable_actions = []\n",
    "        for j in range(12):\n",
    "            if R_new[current_state, j] > 0:\n",
    "                playable_actions.append(j)\n",
    "        # 任意行动\n",
    "        next_state = np.random.choice(playable_actions)\n",
    "        # 更新行动值函数\n",
    "        TD = R_new[current_state, next_state] + gamma * \\\n",
    "            Q[next_state, np.argmax(Q[next_state,])] - Q[current_state, next_state]\n",
    "        Q[current_state, next_state] = Q[current_state, next_state] + alpha * TD\n",
    "        \n",
    "    # 策略改善：依TD找寻最佳路由\n",
    "    route = [starting_location]\n",
    "    next_location = starting_location\n",
    "    while (next_location != ending_location):\n",
    "        starting_state = location_to_state[starting_location]\n",
    "        next_state = np.argmax(Q[starting_state,])\n",
    "        next_location = state_to_location[next_state]\n",
    "        route.append(next_location)\n",
    "        starting_location = next_location\n",
    "    return route"
   ]
  },
  {
   "cell_type": "markdown",
   "metadata": {
    "colab": {
     "base_uri": "https://localhost:8080/",
     "height": 34
    },
    "id": "SjH1bhzkKd-o",
    "outputId": "d0232ff0-1bbd-47ff-9399-7c11fb8cdc53"
   },
   "source": [
    "## 测试 E --> G 最佳路由"
   ]
  },
  {
   "cell_type": "code",
   "execution_count": 10,
   "metadata": {
    "colab": {
     "base_uri": "https://localhost:8080/",
     "height": 34
    },
    "id": "SjH1bhzkKd-o",
    "outputId": "d0232ff0-1bbd-47ff-9399-7c11fb8cdc53"
   },
   "outputs": [
    {
     "data": {
      "text/plain": [
       "['E', 'I', 'J', 'K', 'L', 'H', 'G']"
      ]
     },
     "execution_count": 10,
     "metadata": {},
     "output_type": "execute_result"
    }
   ],
   "source": [
    "route('E', 'G')"
   ]
  },
  {
   "cell_type": "markdown",
   "metadata": {
    "id": "o8BsIZbzeGeq"
   },
   "source": [
    "<img src=\"https://i.ibb.co/VJ1KKcR/warehouse-1.png\">"
   ]
  },
  {
   "cell_type": "code",
   "execution_count": 11,
   "metadata": {},
   "outputs": [
    {
     "data": {
      "text/plain": [
       "['A', 'B', 'F', 'J', 'K']"
      ]
     },
     "execution_count": 11,
     "metadata": {},
     "output_type": "execute_result"
    }
   ],
   "source": [
    "# 测试 A --> K 最佳路由\n",
    "route('A', 'K')"
   ]
  },
  {
   "cell_type": "code",
   "execution_count": 12,
   "metadata": {
    "id": "4KqzfWIOKgJG"
   },
   "outputs": [],
   "source": [
    "# 3 个点的路由\n",
    "def best_route(starting_location, intermediary_location, \\\n",
    "               ending_location):\n",
    "    # 3 个点的路由 = 2 个点的路由 + 2 个点的路由\n",
    "    return route(starting_location, intermediary_location) + \\\n",
    "            route(intermediary_location, ending_location)[1:]"
   ]
  },
  {
   "cell_type": "markdown",
   "metadata": {
    "colab": {
     "base_uri": "https://localhost:8080/",
     "height": 34
    },
    "id": "-aPuiFqOXLUb",
    "outputId": "a30b0a99-afcc-41b5-dd52-499d907b599a"
   },
   "source": [
    "## 测试 E --> K --> G 最佳路由"
   ]
  },
  {
   "cell_type": "code",
   "execution_count": 13,
   "metadata": {
    "colab": {
     "base_uri": "https://localhost:8080/",
     "height": 34
    },
    "id": "-aPuiFqOXLUb",
    "outputId": "a30b0a99-afcc-41b5-dd52-499d907b599a"
   },
   "outputs": [
    {
     "data": {
      "text/plain": [
       "['E', 'I', 'J', 'K', 'L', 'H', 'G']"
      ]
     },
     "execution_count": 13,
     "metadata": {},
     "output_type": "execute_result"
    }
   ],
   "source": [
    "best_route('E', 'K', 'G')"
   ]
  },
  {
   "cell_type": "markdown",
   "metadata": {
    "id": "DqOdt4emXUij"
   },
   "source": [
    "<img src=\"https://i.ibb.co/k2HBnyy/warehouse-2.png\">"
   ]
  },
  {
   "cell_type": "code",
   "execution_count": 14,
   "metadata": {
    "cellView": "form",
    "colab": {
     "base_uri": "https://localhost:8080/",
     "height": 50
    },
    "id": "BNEVlr0lbFys",
    "outputId": "8d5b4495-48a2-4b3b-ab4b-02cdb999afd5"
   },
   "outputs": [
    {
     "name": "stdout",
     "output_type": "stream",
     "text": [
      "最佳路由: \n",
      "A, B, C, G, H, L, K\n"
     ]
    }
   ],
   "source": [
    "# 测试 A --> G --> K 最佳路由\n",
    "initial = \"A\" \n",
    "intermediary = \"G\" \n",
    "final = \"K\" \n",
    "best = best_route(initial, intermediary, final)\n",
    "print('最佳路由: ')\n",
    "print(*best, sep=', ')"
   ]
  },
  {
   "cell_type": "markdown",
   "metadata": {
    "id": "agxsJJQQZLwW"
   },
   "source": [
    "## References \n",
    "\n",
    "* [An introduction to Q-Learning](https://www.freecodecamp.org/news/an-introduction-to-q-learning-reinforcement-learning-14ac0b4493cc/)\n",
    "* [Reinforcement learning](https://medium.com/machine-learning-for-humans/reinforcement-learning-6eacf258b265)\n",
    "*[Math of Q-Learning](https://medium.com/datadriveninvestor/math-of-q-learning-python-code-5dcbdc49b6f6)"
   ]
  }
 ],
 "metadata": {
  "accelerator": "GPU",
  "colab": {
   "collapsed_sections": [],
   "name": "Advanced_Simulation_Project.ipynb",
   "provenance": []
  },
  "kernelspec": {
   "display_name": "Python 3 (ipykernel)",
   "language": "python",
   "name": "python3"
  },
  "language_info": {
   "codemirror_mode": {
    "name": "ipython",
    "version": 3
   },
   "file_extension": ".py",
   "mimetype": "text/x-python",
   "name": "python",
   "nbconvert_exporter": "python",
   "pygments_lexer": "ipython3",
   "version": "3.9.7"
  }
 },
 "nbformat": 4,
 "nbformat_minor": 1
}
