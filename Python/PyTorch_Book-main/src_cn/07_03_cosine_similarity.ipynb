{
 "cells": [
  {
   "cell_type": "markdown",
   "metadata": {},
   "source": [
    "# 图像相似度比较"
   ]
  },
  {
   "cell_type": "markdown",
   "metadata": {},
   "source": [
    "## 载入套件"
   ]
  },
  {
   "cell_type": "code",
   "execution_count": 1,
   "metadata": {},
   "outputs": [],
   "source": [
    "import torch\n",
    "from torchvision import models\n",
    "from torch import nn\n",
    "from torchsummary import summary\n",
    "import numpy as np"
   ]
  },
  {
   "cell_type": "markdown",
   "metadata": {},
   "source": [
    "## 检查 GPU"
   ]
  },
  {
   "cell_type": "code",
   "execution_count": 3,
   "metadata": {},
   "outputs": [
    {
     "data": {
      "text/plain": [
       "'cuda'"
      ]
     },
     "execution_count": 3,
     "metadata": {},
     "output_type": "execute_result"
    }
   ],
   "source": [
    "device = torch.device(\"cuda\" if torch.cuda.is_available() else \"cpu\")\n",
    "\"cuda\" if torch.cuda.is_available() else \"cpu\""
   ]
  },
  {
   "cell_type": "markdown",
   "metadata": {},
   "source": [
    "## 载入VGG 16 模型"
   ]
  },
  {
   "cell_type": "code",
   "execution_count": 11,
   "metadata": {
    "scrolled": true
   },
   "outputs": [
    {
     "data": {
      "text/plain": [
       "OrderedDict([('features',\n",
       "              Sequential(\n",
       "                (0): Conv2d(3, 64, kernel_size=(3, 3), stride=(1, 1), padding=(1, 1))\n",
       "                (1): ReLU(inplace=True)\n",
       "                (2): Conv2d(64, 64, kernel_size=(3, 3), stride=(1, 1), padding=(1, 1))\n",
       "                (3): ReLU(inplace=True)\n",
       "                (4): MaxPool2d(kernel_size=2, stride=2, padding=0, dilation=1, ceil_mode=False)\n",
       "                (5): Conv2d(64, 128, kernel_size=(3, 3), stride=(1, 1), padding=(1, 1))\n",
       "                (6): ReLU(inplace=True)\n",
       "                (7): Conv2d(128, 128, kernel_size=(3, 3), stride=(1, 1), padding=(1, 1))\n",
       "                (8): ReLU(inplace=True)\n",
       "                (9): MaxPool2d(kernel_size=2, stride=2, padding=0, dilation=1, ceil_mode=False)\n",
       "                (10): Conv2d(128, 256, kernel_size=(3, 3), stride=(1, 1), padding=(1, 1))\n",
       "                (11): ReLU(inplace=True)\n",
       "                (12): Conv2d(256, 256, kernel_size=(3, 3), stride=(1, 1), padding=(1, 1))\n",
       "                (13): ReLU(inplace=True)\n",
       "                (14): Conv2d(256, 256, kernel_size=(3, 3), stride=(1, 1), padding=(1, 1))\n",
       "                (15): ReLU(inplace=True)\n",
       "                (16): MaxPool2d(kernel_size=2, stride=2, padding=0, dilation=1, ceil_mode=False)\n",
       "                (17): Conv2d(256, 512, kernel_size=(3, 3), stride=(1, 1), padding=(1, 1))\n",
       "                (18): ReLU(inplace=True)\n",
       "                (19): Conv2d(512, 512, kernel_size=(3, 3), stride=(1, 1), padding=(1, 1))\n",
       "                (20): ReLU(inplace=True)\n",
       "                (21): Conv2d(512, 512, kernel_size=(3, 3), stride=(1, 1), padding=(1, 1))\n",
       "                (22): ReLU(inplace=True)\n",
       "                (23): MaxPool2d(kernel_size=2, stride=2, padding=0, dilation=1, ceil_mode=False)\n",
       "                (24): Conv2d(512, 512, kernel_size=(3, 3), stride=(1, 1), padding=(1, 1))\n",
       "                (25): ReLU(inplace=True)\n",
       "                (26): Conv2d(512, 512, kernel_size=(3, 3), stride=(1, 1), padding=(1, 1))\n",
       "                (27): ReLU(inplace=True)\n",
       "                (28): Conv2d(512, 512, kernel_size=(3, 3), stride=(1, 1), padding=(1, 1))\n",
       "                (29): ReLU(inplace=True)\n",
       "                (30): MaxPool2d(kernel_size=2, stride=2, padding=0, dilation=1, ceil_mode=False)\n",
       "              )),\n",
       "             ('avgpool', AdaptiveAvgPool2d(output_size=(7, 7))),\n",
       "             ('classifier',\n",
       "              Sequential(\n",
       "                (0): Linear(in_features=25088, out_features=4096, bias=True)\n",
       "                (1): ReLU(inplace=True)\n",
       "                (2): Dropout(p=0.5, inplace=False)\n",
       "                (3): Linear(in_features=4096, out_features=4096, bias=True)\n",
       "                (4): ReLU(inplace=True)\n",
       "                (5): Dropout(p=0.5, inplace=False)\n",
       "                (6): Linear(in_features=4096, out_features=1000, bias=True)\n",
       "              ))])"
      ]
     },
     "execution_count": 11,
     "metadata": {},
     "output_type": "execute_result"
    }
   ],
   "source": [
    "model = models.vgg16(pretrained=True)\n",
    "model._modules"
   ]
  },
  {
   "cell_type": "markdown",
   "metadata": {},
   "source": [
    "## 移除 avgpool 后面的神经层"
   ]
  },
  {
   "cell_type": "code",
   "execution_count": 12,
   "metadata": {},
   "outputs": [
    {
     "name": "stdout",
     "output_type": "stream",
     "text": [
      "found !!\n"
     ]
    },
    {
     "data": {
      "text/plain": [
       "OrderedDict([('pretrained', None),\n",
       "             ('net', Sequential(\n",
       "                (0): Sequential(\n",
       "                  (0): Conv2d(3, 64, kernel_size=(3, 3), stride=(1, 1), padding=(1, 1))\n",
       "                  (1): ReLU(inplace=True)\n",
       "                  (2): Conv2d(64, 64, kernel_size=(3, 3), stride=(1, 1), padding=(1, 1))\n",
       "                  (3): ReLU(inplace=True)\n",
       "                  (4): MaxPool2d(kernel_size=2, stride=2, padding=0, dilation=1, ceil_mode=False)\n",
       "                  (5): Conv2d(64, 128, kernel_size=(3, 3), stride=(1, 1), padding=(1, 1))\n",
       "                  (6): ReLU(inplace=True)\n",
       "                  (7): Conv2d(128, 128, kernel_size=(3, 3), stride=(1, 1), padding=(1, 1))\n",
       "                  (8): ReLU(inplace=True)\n",
       "                  (9): MaxPool2d(kernel_size=2, stride=2, padding=0, dilation=1, ceil_mode=False)\n",
       "                  (10): Conv2d(128, 256, kernel_size=(3, 3), stride=(1, 1), padding=(1, 1))\n",
       "                  (11): ReLU(inplace=True)\n",
       "                  (12): Conv2d(256, 256, kernel_size=(3, 3), stride=(1, 1), padding=(1, 1))\n",
       "                  (13): ReLU(inplace=True)\n",
       "                  (14): Conv2d(256, 256, kernel_size=(3, 3), stride=(1, 1), padding=(1, 1))\n",
       "                  (15): ReLU(inplace=True)\n",
       "                  (16): MaxPool2d(kernel_size=2, stride=2, padding=0, dilation=1, ceil_mode=False)\n",
       "                  (17): Conv2d(256, 512, kernel_size=(3, 3), stride=(1, 1), padding=(1, 1))\n",
       "                  (18): ReLU(inplace=True)\n",
       "                  (19): Conv2d(512, 512, kernel_size=(3, 3), stride=(1, 1), padding=(1, 1))\n",
       "                  (20): ReLU(inplace=True)\n",
       "                  (21): Conv2d(512, 512, kernel_size=(3, 3), stride=(1, 1), padding=(1, 1))\n",
       "                  (22): ReLU(inplace=True)\n",
       "                  (23): MaxPool2d(kernel_size=2, stride=2, padding=0, dilation=1, ceil_mode=False)\n",
       "                  (24): Conv2d(512, 512, kernel_size=(3, 3), stride=(1, 1), padding=(1, 1))\n",
       "                  (25): ReLU(inplace=True)\n",
       "                  (26): Conv2d(512, 512, kernel_size=(3, 3), stride=(1, 1), padding=(1, 1))\n",
       "                  (27): ReLU(inplace=True)\n",
       "                  (28): Conv2d(512, 512, kernel_size=(3, 3), stride=(1, 1), padding=(1, 1))\n",
       "                  (29): ReLU(inplace=True)\n",
       "                  (30): MaxPool2d(kernel_size=2, stride=2, padding=0, dilation=1, ceil_mode=False)\n",
       "                )\n",
       "                (1): AdaptiveAvgPool2d(output_size=(7, 7))\n",
       "              ))])"
      ]
     },
     "execution_count": 12,
     "metadata": {},
     "output_type": "execute_result"
    }
   ],
   "source": [
    "class new_model(nn.Module):\n",
    "    def __init__(self, pretrained, output_layer):\n",
    "        super().__init__()\n",
    "        self.output_layer = output_layer\n",
    "        self.pretrained = pretrained\n",
    "        self.children_list = []\n",
    "        # 依序取得每一层\n",
    "        for n,c in self.pretrained.named_children():\n",
    "            self.children_list.append(c)\n",
    "            # 找到特定层即终止\n",
    "            if n == self.output_layer:\n",
    "                print('found !!')\n",
    "                break\n",
    "\n",
    "        # 建构新模型\n",
    "        self.net = nn.Sequential(*self.children_list)\n",
    "        self.pretrained = None\n",
    "        \n",
    "    def forward(self,x):\n",
    "        x = self.net(x)\n",
    "        return x\n",
    "    \n",
    "model = new_model(model, 'avgpool')\n",
    "model = model.to(device)   \n",
    "model._modules"
   ]
  },
  {
   "cell_type": "code",
   "execution_count": 29,
   "metadata": {},
   "outputs": [
    {
     "data": {
      "text/plain": [
       "tensor([[[[0.0000, 0.0000, 0.0000,  ..., 0.0000, 0.0000, 0.0000],\n",
       "          [0.0000, 0.0000, 0.0000,  ..., 0.2543, 0.0000, 0.0000],\n",
       "          [0.0000, 0.0000, 0.0000,  ..., 0.0000, 0.0000, 0.0000],\n",
       "          ...,\n",
       "          [2.1993, 0.0000, 0.0000,  ..., 0.0000, 0.0000, 0.2719],\n",
       "          [1.5349, 0.0000, 0.0000,  ..., 0.0000, 1.7577, 5.2424],\n",
       "          [0.0000, 0.0000, 0.0000,  ..., 0.4238, 2.0388, 5.9582]],\n",
       "\n",
       "         [[0.0000, 0.0000, 0.0000,  ..., 0.0000, 0.6102, 1.0531],\n",
       "          [0.7704, 0.0000, 0.0000,  ..., 0.0000, 2.1455, 2.3483],\n",
       "          [2.3654, 0.4831, 0.0000,  ..., 0.0000, 0.0000, 1.4597],\n",
       "          ...,\n",
       "          [0.0000, 2.7323, 5.3333,  ..., 1.9977, 2.2498, 1.4196],\n",
       "          [0.0000, 3.2158, 3.4539,  ..., 0.5091, 1.0910, 0.5525],\n",
       "          [0.0000, 0.0000, 0.0000,  ..., 0.0000, 0.0000, 0.0000]],\n",
       "\n",
       "         [[0.0000, 0.0000, 0.0000,  ..., 0.0000, 0.0000, 0.0000],\n",
       "          [0.0000, 0.0000, 0.0000,  ..., 0.0000, 0.0000, 0.0000],\n",
       "          [0.0000, 0.0000, 2.0101,  ..., 0.0000, 0.0000, 0.0000],\n",
       "          ...,\n",
       "          [0.0000, 0.0000, 0.0000,  ..., 0.0000, 0.0000, 0.0000],\n",
       "          [0.0000, 0.0000, 0.0000,  ..., 0.0000, 0.0000, 0.0000],\n",
       "          [0.0000, 0.0000, 0.0000,  ..., 0.0000, 0.0000, 0.0000]],\n",
       "\n",
       "         ...,\n",
       "\n",
       "         [[0.0000, 0.0000, 0.0000,  ..., 0.0000, 0.0000, 0.6569],\n",
       "          [0.0000, 0.0000, 0.0000,  ..., 0.0000, 0.0000, 1.1844],\n",
       "          [4.7979, 0.0000, 0.0000,  ..., 0.0000, 0.0000, 0.0000],\n",
       "          ...,\n",
       "          [0.0000, 0.0000, 0.0000,  ..., 0.0000, 0.0000, 0.0000],\n",
       "          [0.0000, 3.2501, 1.6539,  ..., 0.0000, 0.9134, 0.0000],\n",
       "          [0.0000, 0.0000, 0.0000,  ..., 0.0000, 0.0000, 0.0000]],\n",
       "\n",
       "         [[0.0000, 0.0000, 4.5406,  ..., 0.9706, 0.5548, 0.0000],\n",
       "          [0.0000, 0.0000, 2.1913,  ..., 1.3677, 0.0000, 0.0000],\n",
       "          [0.0000, 0.0000, 0.0697,  ..., 0.9992, 2.1452, 1.2272],\n",
       "          ...,\n",
       "          [0.0000, 0.1177, 0.0000,  ..., 0.0000, 0.0000, 0.0000],\n",
       "          [0.0000, 0.5516, 0.0000,  ..., 0.0000, 0.0000, 0.0000],\n",
       "          [0.0000, 0.0000, 0.0000,  ..., 0.0000, 0.0000, 0.0000]],\n",
       "\n",
       "         [[0.0000, 0.0000, 0.0000,  ..., 0.0000, 0.0000, 0.0000],\n",
       "          [0.0000, 0.0000, 0.0000,  ..., 0.0000, 0.0000, 0.0000],\n",
       "          [0.0000, 0.0000, 0.0000,  ..., 0.0000, 0.0000, 0.0000],\n",
       "          ...,\n",
       "          [0.0000, 1.6423, 3.3997,  ..., 0.3951, 0.0000, 0.0000],\n",
       "          [0.0000, 1.6886, 2.5988,  ..., 0.5061, 1.3328, 0.4532],\n",
       "          [0.0000, 0.0000, 0.0000,  ..., 0.4178, 1.6035, 1.3554]]]],\n",
       "       device='cuda:0')"
      ]
     },
     "execution_count": 29,
     "metadata": {},
     "output_type": "execute_result"
    }
   ],
   "source": [
    "# 任选一张图片，例如老虎侧面照，取得图档的特征向量\n",
    "from PIL import Image\n",
    "from torchvision import transforms\n",
    "\n",
    "filename = './images_test/tiger2.jpg'\n",
    "input_image = Image.open(filename)\n",
    "\n",
    "transform = transforms.Compose([\n",
    "    transforms.Resize((224, 224)),\n",
    "    transforms.ToTensor(),\n",
    "    transforms.Normalize(mean=[0.485, 0.456, 0.406], \n",
    "                         std=[0.229, 0.224, 0.225])\n",
    "])\n",
    "input_tensor = transform(input_image)\n",
    "input_batch = input_tensor.unsqueeze(0).to(device) # 增加一维(笔数)\n",
    "\n",
    "# 预测\n",
    "model.eval()\n",
    "with torch.no_grad():\n",
    "    output = model(input_batch)\n",
    "output    "
   ]
  },
  {
   "cell_type": "code",
   "execution_count": 30,
   "metadata": {},
   "outputs": [
    {
     "name": "stdout",
     "output_type": "stream",
     "text": [
      "torch.Size([1, 512, 7, 7])\n"
     ]
    }
   ],
   "source": [
    "print(output.shape)"
   ]
  },
  {
   "cell_type": "markdown",
   "metadata": {},
   "source": [
    "# 使用 cosine_similarity 比较特征向量"
   ]
  },
  {
   "cell_type": "markdown",
   "metadata": {},
   "source": [
    "### 步骤 1. 取得 images_test 目录下所有 .jpg 档案名称"
   ]
  },
  {
   "cell_type": "code",
   "execution_count": 31,
   "metadata": {},
   "outputs": [
    {
     "data": {
      "text/plain": [
       "array(['astronaut.jpg', 'bird.jpg', 'bird2.jpg', 'cat.jpg', 'daisy1.jpg',\n",
       "       'daisy2.jpg', 'deer.jpg', 'elephant.jpg', 'elephant2.jpg',\n",
       "       'lion1.jpg', 'lion2.jpg', 'panda1.jpg', 'panda2.jpg', 'panda3.jpg',\n",
       "       'rose2.jpg', 'tiger1.jpg', 'tiger2.jpg', 'tiger3.jpg'],\n",
       "      dtype='<U13')"
      ]
     },
     "execution_count": 31,
     "metadata": {},
     "output_type": "execute_result"
    }
   ],
   "source": [
    "from os import listdir\n",
    "from os.path import isfile, join\n",
    "\n",
    "# 取得 images_test 目录下所有 .jpg 档案名称\n",
    "img_path = './images_test/'\n",
    "image_files = np.array([f for f in listdir(img_path) \n",
    "        if isfile(join(img_path, f)) and f[-3:] == 'jpg'])\n",
    "image_files"
   ]
  },
  {
   "cell_type": "markdown",
   "metadata": {},
   "source": [
    "### 步骤 2. 取得 images_test 目录下所有 .jpg 档案的像素"
   ]
  },
  {
   "cell_type": "code",
   "execution_count": 34,
   "metadata": {},
   "outputs": [],
   "source": [
    "import os\n",
    "\n",
    "# 合并所有图档\n",
    "model.eval()\n",
    "X = torch.tensor([])\n",
    "for filename in image_files:\n",
    "    input_image = Image.open(os.path.join(img_path, filename))\n",
    "    input_tensor = transform(input_image)\n",
    "    input_batch = input_tensor.unsqueeze(0).to(device) # 增加一维(笔数)\n",
    "    if len(X.shape) == 1:\n",
    "        # print(input_batch.shape)\n",
    "        X = input_batch\n",
    "    else:\n",
    "        # print(input_batch.shape)\n",
    "        X = torch.cat((X, input_batch), dim=0)"
   ]
  },
  {
   "cell_type": "markdown",
   "metadata": {},
   "source": [
    "### 步骤 3. 取得所有图档的特征向量"
   ]
  },
  {
   "cell_type": "code",
   "execution_count": 38,
   "metadata": {
    "scrolled": true
   },
   "outputs": [
    {
     "data": {
      "text/plain": [
       "torch.Size([18, 512, 7, 7])"
      ]
     },
     "execution_count": 38,
     "metadata": {},
     "output_type": "execute_result"
    }
   ],
   "source": [
    "# 预测所有图档\n",
    "with torch.no_grad():\n",
    "    features = model(X)\n",
    "features.shape"
   ]
  },
  {
   "cell_type": "markdown",
   "metadata": {},
   "source": [
    "### 步骤 4. 使用 cosine_similarity 函数比较特征向量"
   ]
  },
  {
   "cell_type": "code",
   "execution_count": 40,
   "metadata": {},
   "outputs": [
    {
     "name": "stdout",
     "output_type": "stream",
     "text": [
      "tiger2.jpg\n",
      "[0.28911456 0.2833875  0.23362085 0.18441461 0.17196876 0.16713579\n",
      " 0.14983664 0.12871663 0.11995038 0.11563288 0.10740422 0.09983709\n",
      " 0.09405126 0.08491081 0.08096127 0.06599604 0.04436902]\n"
     ]
    },
    {
     "data": {
      "text/plain": [
       "array(['tiger1.jpg', 'tiger3.jpg', 'lion1.jpg', 'lion2.jpg',\n",
       "       'elephant2.jpg', 'cat.jpg', 'elephant.jpg', 'panda1.jpg',\n",
       "       'bird2.jpg', 'panda3.jpg', 'bird.jpg', 'panda2.jpg', 'deer.jpg',\n",
       "       'daisy2.jpg', 'rose2.jpg', 'astronaut.jpg', 'daisy1.jpg'],\n",
       "      dtype='<U13')"
      ]
     },
     "execution_count": 40,
     "metadata": {},
     "output_type": "execute_result"
    }
   ],
   "source": [
    "from sklearn.metrics.pairwise import cosine_similarity\n",
    "\n",
    "# 比较 Tiger2.jpg 与其他图档特征向量\n",
    "no=-2\n",
    "print(image_files[no])\n",
    "\n",
    "# 转为二维向量，类似扁平层(Flatten)\n",
    "features2 = features.cpu().reshape((features.shape[0], -1))\n",
    "\n",
    "# 排除 Tiger2.jpg 的其他图档特征向量\n",
    "other_features = np.concatenate((features2[:no], features2[no+1:]))\n",
    "\n",
    "# 使用 cosine_similarity 计算 Cosine 函数\n",
    "similar_list = cosine_similarity(features2[no:no+1], other_features, \n",
    "                                 dense_output=False)\n",
    "\n",
    "# 显示相似度，由大排到小\n",
    "print(np.sort(similar_list[0])[::-1])\n",
    "\n",
    "# 依相似度，由大排到小，显示档名\n",
    "image_files2 = np.delete(image_files, no)\n",
    "image_files2[np.argsort(similar_list[0])[::-1]]"
   ]
  },
  {
   "cell_type": "markdown",
   "metadata": {},
   "source": [
    "### 其他图档比较"
   ]
  },
  {
   "cell_type": "code",
   "execution_count": 41,
   "metadata": {},
   "outputs": [
    {
     "name": "stdout",
     "output_type": "stream",
     "text": [
      "bird.jpg\n",
      "[0.21015988 0.17159882 0.14975291 0.1455198  0.1438895  0.10740422\n",
      " 0.09881952 0.09107401 0.08833732 0.08464108 0.07035439 0.06275161\n",
      " 0.06064527 0.05807994 0.0558636  0.05117093 0.04122205]\n"
     ]
    },
    {
     "data": {
      "text/plain": [
       "array(['panda3.jpg', 'bird2.jpg', 'deer.jpg', 'cat.jpg', 'panda1.jpg',\n",
       "       'tiger2.jpg', 'lion2.jpg', 'tiger1.jpg', 'rose2.jpg',\n",
       "       'elephant2.jpg', 'tiger3.jpg', 'panda2.jpg', 'lion1.jpg',\n",
       "       'astronaut.jpg', 'daisy2.jpg', 'elephant.jpg', 'daisy1.jpg'],\n",
       "      dtype='<U13')"
      ]
     },
     "execution_count": 41,
     "metadata": {},
     "output_type": "execute_result"
    }
   ],
   "source": [
    "# 比较对象：bird.jpg\n",
    "no=1\n",
    "print(image_files[no])\n",
    "\n",
    "\n",
    "# 使用 cosine_similarity 计算 Cosine 函数\n",
    "other_features = np.concatenate((features2[:no], features2[no+1:]))\n",
    "similar_list = cosine_similarity(features2[no:no+1], other_features, \n",
    "                                 dense_output=False)\n",
    "\n",
    "# 显示相似度，由大排到小\n",
    "print(np.sort(similar_list[0])[::-1])\n",
    "\n",
    "# 依相似度，由大排到小，显示档名\n",
    "image_files2 = np.delete(image_files, no)\n",
    "image_files2[np.argsort(similar_list[0])[::-1]]"
   ]
  },
  {
   "cell_type": "code",
   "execution_count": null,
   "metadata": {},
   "outputs": [],
   "source": []
  }
 ],
 "metadata": {
  "kernelspec": {
   "display_name": "Python 3 (ipykernel)",
   "language": "python",
   "name": "python3"
  },
  "language_info": {
   "codemirror_mode": {
    "name": "ipython",
    "version": 3
   },
   "file_extension": ".py",
   "mimetype": "text/x-python",
   "name": "python",
   "nbconvert_exporter": "python",
   "pygments_lexer": "ipython3",
   "version": "3.9.7"
  }
 },
 "nbformat": 4,
 "nbformat_minor": 4
}
