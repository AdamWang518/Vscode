{
 "cells": [
  {
   "cell_type": "markdown",
   "metadata": {},
   "source": [
    "# 传播机制(Broadcasting)\n",
    "### 修改自 [Software Catepentry, Advanced NumPy](https://paris-swc.github.io/advanced-numpy-lesson/03-broadcasting.html)"
   ]
  },
  {
   "cell_type": "code",
   "execution_count": 8,
   "metadata": {},
   "outputs": [],
   "source": [
    "import numpy as np"
   ]
  },
  {
   "cell_type": "markdown",
   "metadata": {},
   "source": [
    "## 定义起点至各地距离"
   ]
  },
  {
   "cell_type": "code",
   "execution_count": 9,
   "metadata": {},
   "outputs": [
    {
     "data": {
      "text/plain": [
       "array([   0,  198,  303,  736,  871, 1175, 1475, 1544, 1913, 2448])"
      ]
     },
     "execution_count": 9,
     "metadata": {},
     "output_type": "execute_result"
    }
   ],
   "source": [
    "mileposts = np.array([0, 198, 303, 736, 871, 1175, 1475, 1544, 1913, 2448])\n",
    "mileposts"
   ]
  },
  {
   "cell_type": "markdown",
   "metadata": {},
   "source": [
    "## 将资料转置，并转成二维矩阵"
   ]
  },
  {
   "cell_type": "code",
   "execution_count": 10,
   "metadata": {
    "scrolled": true
   },
   "outputs": [
    {
     "data": {
      "text/plain": [
       "array([[   0],\n",
       "       [ 198],\n",
       "       [ 303],\n",
       "       [ 736],\n",
       "       [ 871],\n",
       "       [1175],\n",
       "       [1475],\n",
       "       [1544],\n",
       "       [1913],\n",
       "       [2448]])"
      ]
     },
     "execution_count": 10,
     "metadata": {},
     "output_type": "execute_result"
    }
   ],
   "source": [
    "mileposts[:, np.newaxis]"
   ]
  },
  {
   "cell_type": "markdown",
   "metadata": {},
   "source": [
    "## 利用传播机制(Broadcasting)，扩张为 NxN 矩阵"
   ]
  },
  {
   "cell_type": "code",
   "execution_count": 11,
   "metadata": {
    "scrolled": true
   },
   "outputs": [
    {
     "data": {
      "text/plain": [
       "array([[   0,  198,  303,  736,  871, 1175, 1475, 1544, 1913, 2448],\n",
       "       [ 198,    0,  105,  538,  673,  977, 1277, 1346, 1715, 2250],\n",
       "       [ 303,  105,    0,  433,  568,  872, 1172, 1241, 1610, 2145],\n",
       "       [ 736,  538,  433,    0,  135,  439,  739,  808, 1177, 1712],\n",
       "       [ 871,  673,  568,  135,    0,  304,  604,  673, 1042, 1577],\n",
       "       [1175,  977,  872,  439,  304,    0,  300,  369,  738, 1273],\n",
       "       [1475, 1277, 1172,  739,  604,  300,    0,   69,  438,  973],\n",
       "       [1544, 1346, 1241,  808,  673,  369,   69,    0,  369,  904],\n",
       "       [1913, 1715, 1610, 1177, 1042,  738,  438,  369,    0,  535],\n",
       "       [2448, 2250, 2145, 1712, 1577, 1273,  973,  904,  535,    0]])"
      ]
     },
     "execution_count": 11,
     "metadata": {},
     "output_type": "execute_result"
    }
   ],
   "source": [
    "distance_array = np.abs(mileposts - mileposts[:, np.newaxis])\n",
    "distance_array"
   ]
  },
  {
   "cell_type": "code",
   "execution_count": 14,
   "metadata": {},
   "outputs": [
    {
     "name": "stdout",
     "output_type": "stream",
     "text": [
      "   0\t 198\t 303\t 736\t 871\t1175\t1475\t1544\t1913\t2448\t\n",
      " 198\t   0\t 105\t 538\t 673\t 977\t1277\t1346\t1715\t2250\t\n",
      " 303\t 105\t   0\t 433\t 568\t 872\t1172\t1241\t1610\t2145\t\n",
      " 736\t 538\t 433\t   0\t 135\t 439\t 739\t 808\t1177\t1712\t\n",
      " 871\t 673\t 568\t 135\t   0\t 304\t 604\t 673\t1042\t1577\t\n",
      "1175\t 977\t 872\t 439\t 304\t   0\t 300\t 369\t 738\t1273\t\n",
      "1475\t1277\t1172\t 739\t 604\t 300\t   0\t  69\t 438\t 973\t\n",
      "1544\t1346\t1241\t 808\t 673\t 369\t  69\t   0\t 369\t 904\t\n",
      "1913\t1715\t1610\t1177\t1042\t 738\t 438\t 369\t   0\t 535\t\n",
      "2448\t2250\t2145\t1712\t1577\t1273\t 973\t 904\t 535\t   0\t\n"
     ]
    }
   ],
   "source": [
    "# 显示较漂亮的格式\n",
    "for x in distance_array:\n",
    "    for y in x:\n",
    "        print(f'{y:4d}', end='\\t')\n",
    "    print()"
   ]
  },
  {
   "cell_type": "code",
   "execution_count": null,
   "metadata": {},
   "outputs": [],
   "source": []
  }
 ],
 "metadata": {
  "kernelspec": {
   "display_name": "Python 3 (ipykernel)",
   "language": "python",
   "name": "python3"
  },
  "language_info": {
   "codemirror_mode": {
    "name": "ipython",
    "version": 3
   },
   "file_extension": ".py",
   "mimetype": "text/x-python",
   "name": "python",
   "nbconvert_exporter": "python",
   "pygments_lexer": "ipython3",
   "version": "3.9.7"
  }
 },
 "nbformat": 4,
 "nbformat_minor": 4
}
