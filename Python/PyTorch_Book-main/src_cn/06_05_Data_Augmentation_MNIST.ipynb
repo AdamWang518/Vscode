{
 "cells": [
  {
   "cell_type": "markdown",
   "metadata": {},
   "source": [
    "# MNIST with Data Augmentation"
   ]
  },
  {
   "cell_type": "markdown",
   "metadata": {},
   "source": [
    "## 载入套件"
   ]
  },
  {
   "cell_type": "code",
   "execution_count": 1,
   "metadata": {},
   "outputs": [],
   "source": [
    "import os\n",
    "import torch\n",
    "from torch import nn\n",
    "from torch.nn import functional as F\n",
    "from torch.utils.data import DataLoader, random_split\n",
    "from torchmetrics import Accuracy\n",
    "from torchvision import transforms\n",
    "from torchvision.datasets import MNIST\n",
    "import numpy as np"
   ]
  },
  {
   "cell_type": "markdown",
   "metadata": {},
   "source": [
    "## 设定参数"
   ]
  },
  {
   "cell_type": "code",
   "execution_count": 2,
   "metadata": {},
   "outputs": [
    {
     "data": {
      "text/plain": [
       "'cuda'"
      ]
     },
     "execution_count": 2,
     "metadata": {},
     "output_type": "execute_result"
    }
   ],
   "source": [
    "# 设定参数\n",
    "PATH_DATASETS = \"\" # 预设路径\n",
    "BATCH_SIZE = 1000  # 批量\n",
    "device = torch.device(\"cuda\" if torch.cuda.is_available() else \"cpu\")\n",
    "\"cuda\" if torch.cuda.is_available() else \"cpu\""
   ]
  },
  {
   "cell_type": "markdown",
   "metadata": {},
   "source": [
    "## 定义资料增补函数"
   ]
  },
  {
   "cell_type": "code",
   "execution_count": 3,
   "metadata": {},
   "outputs": [],
   "source": [
    "image_width = 28\n",
    "train_transforms = transforms.Compose([\n",
    "    #transforms.ColorJitter(), # 亮度、饱和度、对比资料增补\n",
    "    # 裁切部分图像，再调整图像尺寸\n",
    "    transforms.RandomResizedCrop(image_width, scale=(0.8, 1.0)), \n",
    "    transforms.RandomRotation(degrees=(-10, 10)), # 旋转 10 度\n",
    "    #transforms.RandomHorizontalFlip(), # 水平翻转\n",
    "    #transforms.RandomAffine(10), # 仿射\n",
    "    transforms.ToTensor(), \n",
    "    transforms.Normalize(mean=(0.1307,), std=(0.3081,))\n",
    "    ])\n",
    "\n",
    "test_transforms = transforms.Compose([\n",
    "    transforms.Resize((image_width, image_width)), # 调整图像尺寸\n",
    "    transforms.ToTensor(), \n",
    "    transforms.Normalize(mean=(0.1307,), std=(0.3081,))\n",
    "    ])"
   ]
  },
  {
   "cell_type": "markdown",
   "metadata": {},
   "source": [
    "## 步骤1：载入 MNIST 手写阿拉伯数字资料"
   ]
  },
  {
   "cell_type": "code",
   "execution_count": 4,
   "metadata": {},
   "outputs": [
    {
     "name": "stdout",
     "output_type": "stream",
     "text": [
      "torch.Size([60000, 28, 28]) torch.Size([10000, 28, 28])\n"
     ]
    }
   ],
   "source": [
    "# 下载 MNIST 手写阿拉伯数字 训练资料\n",
    "train_ds = MNIST(PATH_DATASETS, train=True, download=True, \n",
    "                 transform=train_transforms)\n",
    "\n",
    "train_loader = torch.utils.data.DataLoader(train_ds, batch_size=BATCH_SIZE,\n",
    "                                          shuffle=True, num_workers=2)\n",
    "\n",
    "# 下载测试资料\n",
    "test_ds = MNIST(PATH_DATASETS, train=False, download=True,  \n",
    "                 transform=test_transforms)\n",
    "\n",
    "test_loader = torch.utils.data.DataLoader(test_ds, batch_size=BATCH_SIZE,\n",
    "                                         shuffle=False, num_workers=2)\n",
    "\n",
    "# 训练/测试资料的维度\n",
    "print(train_ds.data.shape, test_ds.data.shape)"
   ]
  },
  {
   "cell_type": "markdown",
   "metadata": {},
   "source": [
    "## 步骤2：资料清理，此步骤无需进行"
   ]
  },
  {
   "cell_type": "markdown",
   "metadata": {},
   "source": [
    "## 步骤3：特征工程，此步骤无需进行"
   ]
  },
  {
   "cell_type": "markdown",
   "metadata": {},
   "source": [
    "## 步骤4：资料分割，此步骤无需进行，载入MNIST资料时，已经切割好了"
   ]
  },
  {
   "cell_type": "markdown",
   "metadata": {},
   "source": [
    "## 步骤5：建立模型结构"
   ]
  },
  {
   "cell_type": "code",
   "execution_count": 5,
   "metadata": {},
   "outputs": [],
   "source": [
    "# Conv2d 参数： in-channel, out-channel, kernel size, Stride, Padding\n",
    "class Net(nn.Module):\n",
    "    def __init__(self):\n",
    "        super(Net, self).__init__()\n",
    "        self.conv1 = nn.Conv2d(1, 32, 3, 1)\n",
    "        self.conv2 = nn.Conv2d(32, 64, 3, 1)\n",
    "        self.dropout1 = nn.Dropout(0.25)\n",
    "        self.dropout2 = nn.Dropout(0.5)\n",
    "        self.fc1 = nn.Linear(9216, 128)\n",
    "        self.fc2 = nn.Linear(128, 10)\n",
    "\n",
    "    def forward(self, x):\n",
    "        x = self.conv1(x)\n",
    "        x = F.relu(x)\n",
    "        x = self.conv2(x)\n",
    "        x = F.relu(x)\n",
    "        x = F.max_pool2d(x, 2)\n",
    "        x = self.dropout1(x)\n",
    "        x = torch.flatten(x, 1)\n",
    "        x = self.fc1(x)\n",
    "        x = F.relu(x)\n",
    "        x = self.dropout2(x)\n",
    "        x = self.fc2(x)\n",
    "        output = F.log_softmax(x, dim=1)\n",
    "        return output"
   ]
  },
  {
   "cell_type": "markdown",
   "metadata": {},
   "source": [
    "## 步骤6：结合训练资料及模型，进行模型训练"
   ]
  },
  {
   "cell_type": "code",
   "execution_count": 6,
   "metadata": {},
   "outputs": [],
   "source": [
    "def train(model, device, train_loader, criterion, optimizer, epoch):\n",
    "    model.train()\n",
    "    loss_list = []    \n",
    "    for batch_idx, (data, target) in enumerate(train_loader):\n",
    "        data, target = data.to(device), target.to(device)\n",
    "        \n",
    "        optimizer.zero_grad()\n",
    "        output = model(data)\n",
    "        #loss = F.nll_loss(output, target)\n",
    "        loss = criterion(output, target)\n",
    "        loss.backward()\n",
    "        optimizer.step()\n",
    "        \n",
    "        if (batch_idx+1) % 10 == 0:\n",
    "            loss_list.append(loss.item())\n",
    "            batch = (batch_idx+1) * len(data)\n",
    "            data_count = len(train_loader.dataset)\n",
    "            percentage = (100. * (batch_idx+1) / len(train_loader))\n",
    "            print(f'Epoch {epoch}: [{batch:5d} / {data_count}] ({percentage:.0f} %)' +\n",
    "                  f'  Loss: {loss.item():.6f}')\n",
    "    return loss_list"
   ]
  },
  {
   "cell_type": "code",
   "execution_count": 7,
   "metadata": {},
   "outputs": [],
   "source": [
    "def test(model, device, test_loader):\n",
    "    model.eval()\n",
    "    test_loss = 0\n",
    "    correct = 0\n",
    "    with torch.no_grad():\n",
    "        for data, target in test_loader:\n",
    "            # print(data.shape)\n",
    "            # print(target)\n",
    "            if type(data) == tuple:\n",
    "                data = torch.FloatTensor(data)\n",
    "            if type(target) == tuple:\n",
    "                target = torch.Tensor(target)\n",
    "            data, target = data.to(device), target.to(device)\n",
    "            output = model(data)\n",
    "            #test_loss += F.nll_loss(output, target, reduction='sum').item()  # sum up batch loss\n",
    "            _, predicted = torch.max(output.data, 1)\n",
    "            # print(predicted)\n",
    "            correct += (predicted == target).sum().item()\n",
    "\n",
    "    # 平均损失\n",
    "    test_loss /= len(test_loader.dataset) \n",
    "    # 显示测试结果\n",
    "    data_count = len(test_loader.dataset)\n",
    "    percentage = 100. * correct / data_count \n",
    "    print(f'准确率: {correct}/{data_count} ({percentage:.2f}%)')"
   ]
  },
  {
   "cell_type": "code",
   "execution_count": 8,
   "metadata": {
    "scrolled": false
   },
   "outputs": [
    {
     "name": "stdout",
     "output_type": "stream",
     "text": [
      "Epoch 1: [10000 / 60000] (17 %)  Loss: 1.905932\n",
      "Epoch 1: [20000 / 60000] (33 %)  Loss: 0.823097\n",
      "Epoch 1: [30000 / 60000] (50 %)  Loss: 0.602738\n",
      "Epoch 1: [40000 / 60000] (67 %)  Loss: 0.445632\n",
      "Epoch 1: [50000 / 60000] (83 %)  Loss: 0.422776\n",
      "Epoch 1: [60000 / 60000] (100 %)  Loss: 0.350808\n",
      "Epoch 2: [10000 / 60000] (17 %)  Loss: 0.291289\n",
      "Epoch 2: [20000 / 60000] (33 %)  Loss: 0.363400\n",
      "Epoch 2: [30000 / 60000] (50 %)  Loss: 0.264314\n",
      "Epoch 2: [40000 / 60000] (67 %)  Loss: 0.250480\n",
      "Epoch 2: [50000 / 60000] (83 %)  Loss: 0.253205\n",
      "Epoch 2: [60000 / 60000] (100 %)  Loss: 0.235315\n",
      "Epoch 3: [10000 / 60000] (17 %)  Loss: 0.223402\n",
      "Epoch 3: [20000 / 60000] (33 %)  Loss: 0.223477\n",
      "Epoch 3: [30000 / 60000] (50 %)  Loss: 0.259600\n",
      "Epoch 3: [40000 / 60000] (67 %)  Loss: 0.182856\n",
      "Epoch 3: [50000 / 60000] (83 %)  Loss: 0.270474\n",
      "Epoch 3: [60000 / 60000] (100 %)  Loss: 0.182969\n",
      "Epoch 4: [10000 / 60000] (17 %)  Loss: 0.179848\n",
      "Epoch 4: [20000 / 60000] (33 %)  Loss: 0.159400\n",
      "Epoch 4: [30000 / 60000] (50 %)  Loss: 0.181598\n",
      "Epoch 4: [40000 / 60000] (67 %)  Loss: 0.177829\n",
      "Epoch 4: [50000 / 60000] (83 %)  Loss: 0.148128\n",
      "Epoch 4: [60000 / 60000] (100 %)  Loss: 0.147459\n",
      "Epoch 5: [10000 / 60000] (17 %)  Loss: 0.129847\n",
      "Epoch 5: [20000 / 60000] (33 %)  Loss: 0.142698\n",
      "Epoch 5: [30000 / 60000] (50 %)  Loss: 0.180243\n",
      "Epoch 5: [40000 / 60000] (67 %)  Loss: 0.129879\n",
      "Epoch 5: [50000 / 60000] (83 %)  Loss: 0.130637\n",
      "Epoch 5: [60000 / 60000] (100 %)  Loss: 0.104270\n"
     ]
    }
   ],
   "source": [
    "epochs = 5\n",
    "lr=1\n",
    "\n",
    "# 建立模型\n",
    "model = Net().to(device)\n",
    "\n",
    "# 损失\n",
    "criterion = F.nll_loss # nn.CrossEntropyLoss()\n",
    "\n",
    "# 设定优化器(optimizer)\n",
    "optimizer = torch.optim.Adadelta(model.parameters(), lr=lr)\n",
    "\n",
    "loss_list = []\n",
    "for epoch in range(1, epochs + 1):\n",
    "    loss_list += train(model, device, train_loader, criterion, optimizer, epoch)\n",
    "    #test(model, device, test_loader)\n",
    "    optimizer.step()"
   ]
  },
  {
   "cell_type": "code",
   "execution_count": 9,
   "metadata": {
    "scrolled": false
   },
   "outputs": [
    {
     "data": {
      "text/plain": [
       "[<matplotlib.lines.Line2D at 0x1d52bb7bd90>]"
      ]
     },
     "execution_count": 9,
     "metadata": {},
     "output_type": "execute_result"
    },
    {
     "data": {
      "image/png": "[encoded data removed]",
      "text/plain": [
       "<Figure size 432x288 with 1 Axes>"
      ]
     },
     "metadata": {
      "needs_background": "light"
     },
     "output_type": "display_data"
    }
   ],
   "source": [
    "# 对训练过程的损失绘图\n",
    "import matplotlib.pyplot as plt\n",
    "\n",
    "plt.plot(loss_list, 'r')"
   ]
  },
  {
   "cell_type": "markdown",
   "metadata": {},
   "source": [
    "## 步骤7：评分(Score Model)"
   ]
  },
  {
   "cell_type": "code",
   "execution_count": 10,
   "metadata": {
    "scrolled": true
   },
   "outputs": [
    {
     "name": "stdout",
     "output_type": "stream",
     "text": [
      "准确率: 9839/10000 (98.39%)\n"
     ]
    }
   ],
   "source": [
    "test(model, device, test_loader)"
   ]
  },
  {
   "cell_type": "code",
   "execution_count": 11,
   "metadata": {},
   "outputs": [
    {
     "name": "stdout",
     "output_type": "stream",
     "text": [
      "actual    : [7 2 1 0 4 1 4 9 5 9 0 6 9 0 1 5 9 7 3 4]\n",
      "prediction:  7 2 1 0 4 1 4 9 5 9 0 6 9 0 1 5 9 7 3 4\n"
     ]
    }
   ],
   "source": [
    "# 实际预测 20 笔资料\n",
    "predictions = []\n",
    "with torch.no_grad():\n",
    "    for i in range(20):\n",
    "        data, target = test_ds[i][0], test_ds[i][1]\n",
    "        data = data.reshape(1, *data.shape).to(device)\n",
    "        output = torch.argmax(model(data), axis=-1)\n",
    "        predictions.append(str(output.item()))\n",
    "\n",
    "# 比对\n",
    "print('actual    :', test_ds.targets[0:20].numpy())\n",
    "print('prediction: ', ' '.join(predictions[0:20]))"
   ]
  },
  {
   "cell_type": "markdown",
   "metadata": {},
   "source": [
    "## 步骤8：评估，暂不进行"
   ]
  },
  {
   "cell_type": "markdown",
   "metadata": {},
   "source": [
    "## 步骤9：模型布署"
   ]
  },
  {
   "cell_type": "markdown",
   "metadata": {},
   "source": [
    "## 步骤10：新资料预测"
   ]
  },
  {
   "cell_type": "markdown",
   "metadata": {},
   "source": [
    "### 方法1：使用 Pillow 套件"
   ]
  },
  {
   "cell_type": "code",
   "execution_count": 12,
   "metadata": {},
   "outputs": [],
   "source": [
    "# 显示图像\n",
    "import matplotlib.pyplot as plt\n",
    "\n",
    "def imshow(X):\n",
    "    # 绘制点阵图，cmap='gray':灰阶\n",
    "    plt.imshow(X.reshape(28,28), cmap='gray')\n",
    "\n",
    "    # 隐藏刻度\n",
    "    plt.axis('off') \n",
    "\n",
    "    # 显示图形\n",
    "    plt.show() "
   ]
  },
  {
   "cell_type": "code",
   "execution_count": 13,
   "metadata": {
    "scrolled": true
   },
   "outputs": [
    {
     "name": "stdout",
     "output_type": "stream",
     "text": [
      "actual/prediction: 0 0\n",
      "actual/prediction: 1 1\n",
      "actual/prediction: 2 2\n",
      "actual/prediction: 3 3\n",
      "actual/prediction: 4 4\n",
      "actual/prediction: 5 5\n",
      "actual/prediction: 6 6\n",
      "actual/prediction: 7 3\n",
      "actual/prediction: 8 8\n",
      "actual/prediction: 9 8\n"
     ]
    }
   ],
   "source": [
    "# 使用PIL读取档案，像素介于[0, 255]\n",
    "import PIL.Image as Image\n",
    "\n",
    "data_shape = data.shape\n",
    "\n",
    "for i in range(10):\n",
    "    uploaded_file = f'./myDigits/{i}.png'\n",
    "    image1 = Image.open(uploaded_file).convert('L')\n",
    "\n",
    "    # 缩为 (28, 28) 大小的影像\n",
    "    image_resized = image1.resize(tuple(data_shape)[2:])\n",
    "    X1 = np.array(image_resized).reshape([1]+list(data_shape)[1:])\n",
    "    # 反转颜色，颜色0为白色，与 RGB 色码不同，它的 0 为黑色\n",
    "    X1 = 1.0-(X1/255)\n",
    "\n",
    "    # 图像转换\n",
    "    X1 = (X1 - 0.1307) / 0.3081  \n",
    "    \n",
    "    # 显示转换后的图像\n",
    "    # imshow(X1)\n",
    "    \n",
    "    X1 = torch.FloatTensor(X1).to(device)\n",
    "    \n",
    "    # 预测\n",
    "    output = model(X1)\n",
    "    # print(output, '\\n')\n",
    "    _, predicted = torch.max(output.data, 1)\n",
    "    print(f'actual/prediction: {i} {predicted.item()}')"
   ]
  },
  {
   "cell_type": "markdown",
   "metadata": {},
   "source": [
    "### 方法2：使用 skimage 套件"
   ]
  },
  {
   "cell_type": "code",
   "execution_count": 14,
   "metadata": {},
   "outputs": [
    {
     "name": "stdout",
     "output_type": "stream",
     "text": [
      "actual/prediction: 0 0\n",
      "actual/prediction: 1 1\n",
      "actual/prediction: 2 2\n",
      "actual/prediction: 3 3\n",
      "actual/prediction: 4 4\n",
      "actual/prediction: 5 5\n",
      "actual/prediction: 6 6\n",
      "actual/prediction: 7 3\n",
      "actual/prediction: 8 8\n",
      "actual/prediction: 9 9\n"
     ]
    }
   ],
   "source": [
    "# 使用 skimage 读取档案，像素介于[0, 1]\n",
    "from skimage import io\n",
    "from skimage.transform import resize\n",
    "\n",
    "# 读取影像并转为单色\n",
    "for i in range(10):\n",
    "    uploaded_file = f'./myDigits/{i}.png'\n",
    "    image1 = io.imread(uploaded_file, as_gray=True)\n",
    "\n",
    "    # 缩为 (28, 28) 大小的影像\n",
    "    image_resized = resize(image1, tuple(data_shape)[2:], anti_aliasing=True)    \n",
    "    X1 = image_resized.reshape([1]+list(data_shape)[1:]) \n",
    "    # 反转颜色，颜色0为白色，与 RGB 色码不同，它的 0 为黑色\n",
    "    X1 = 1.0-X1\n",
    "    \n",
    "    # 图像转换\n",
    "    X1 = (X1 - 0.1307) / 0.3081  \n",
    "\n",
    "    # 显示转换后的图像\n",
    "    # imshow(X1)\n",
    "    \n",
    "    X1 = torch.FloatTensor(X1).to(device)\n",
    "    \n",
    "    # 预测\n",
    "    output = model(X1)\n",
    "    _, predicted = torch.max(output.data, 1)\n",
    "    print(f'actual/prediction: {i} {predicted.item()}')"
   ]
  },
  {
   "cell_type": "markdown",
   "metadata": {},
   "source": [
    "### 方法3：使用自订资料集"
   ]
  },
  {
   "cell_type": "code",
   "execution_count": 15,
   "metadata": {},
   "outputs": [],
   "source": [
    "class CustomImageDataset(torch.utils.data.Dataset):\n",
    "    def __init__(self, img_dir, transform=None, target_transform=None\n",
    "                 , to_gray=False, size=28):\n",
    "        self.img_labels = [file_name for file_name in os.listdir(img_dir)]\n",
    "        self.img_dir = img_dir\n",
    "        self.transform = transform\n",
    "        self.target_transform = target_transform\n",
    "        self.to_gray = to_gray\n",
    "        self.size = size\n",
    "\n",
    "    def __len__(self):\n",
    "        return len(self.img_labels)\n",
    "\n",
    "    def __getitem__(self, idx):\n",
    "        # 组合档案完整路径\n",
    "        img_path = os.path.join(self.img_dir, self.img_labels[idx])\n",
    "        # 读取图档\n",
    "        mode = 'L' if self.to_gray else 'RGB'\n",
    "        image = Image.open(img_path, mode='r').convert(mode)\n",
    "        image = Image.fromarray(1.0-(np.array(image)/255))\n",
    "\n",
    "        # print(image.shape)\n",
    "        # 去除副档名\n",
    "        label = int(self.img_labels[idx].split('.')[0])\n",
    "        \n",
    "        # 转换\n",
    "        if self.transform:\n",
    "            image = self.transform(image)\n",
    "        if self.target_transform:\n",
    "            label = self.target_transform(label)\n",
    "        \n",
    "        return image, label"
   ]
  },
  {
   "cell_type": "markdown",
   "metadata": {},
   "source": [
    "### 预测"
   ]
  },
  {
   "cell_type": "code",
   "execution_count": 16,
   "metadata": {
    "scrolled": true
   },
   "outputs": [
    {
     "name": "stdout",
     "output_type": "stream",
     "text": [
      "准确率: 9/10 (90.00%)\n"
     ]
    }
   ],
   "source": [
    "ds = CustomImageDataset('./myDigits', to_gray=True, transform=test_transforms)\n",
    "data_loader = torch.utils.data.DataLoader(ds, batch_size=10,shuffle=False)\n",
    "\n",
    "test(model, device, data_loader)"
   ]
  },
  {
   "cell_type": "markdown",
   "metadata": {},
   "source": [
    "### 验证"
   ]
  },
  {
   "cell_type": "code",
   "execution_count": 17,
   "metadata": {},
   "outputs": [
    {
     "name": "stdout",
     "output_type": "stream",
     "text": [
      "tensor([0, 1, 2, 3, 4, 5, 6, 7, 8, 9])\n",
      "tensor([0, 1, 2, 3, 4, 5, 6, 3, 8, 9], device='cuda:0')\n"
     ]
    }
   ],
   "source": [
    "model.eval()\n",
    "test_loss = 0\n",
    "correct = 0\n",
    "with torch.no_grad():\n",
    "    for data, target in data_loader:\n",
    "        print(target)\n",
    "        data, target = data.to(device), target.to(device)\n",
    "        \n",
    "        # 预测\n",
    "        output = model(data)\n",
    "        _, predicted = torch.max(output.data, 1)\n",
    "        correct += (predicted == target).sum().item()\n",
    "        print(predicted)"
   ]
  },
  {
   "cell_type": "code",
   "execution_count": 18,
   "metadata": {},
   "outputs": [],
   "source": [
    "# 模型存档\n",
    "torch.save(model, 'cnn_augmentation_model.pt')"
   ]
  },
  {
   "cell_type": "code",
   "execution_count": null,
   "metadata": {},
   "outputs": [],
   "source": []
  }
 ],
 "metadata": {
  "kernelspec": {
   "display_name": "Python 3 (ipykernel)",
   "language": "python",
   "name": "python3"
  },
  "language_info": {
   "codemirror_mode": {
    "name": "ipython",
    "version": 3
   },
   "file_extension": ".py",
   "mimetype": "text/x-python",
   "name": "python",
   "nbconvert_exporter": "python",
   "pygments_lexer": "ipython3",
   "version": "3.9.7"
  }
 },
 "nbformat": 4,
 "nbformat_minor": 4
}
