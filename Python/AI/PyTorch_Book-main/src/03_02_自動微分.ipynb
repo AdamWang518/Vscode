{
 "cells": [
  {
   "cell_type": "markdown",
   "metadata": {},
   "source": [
    "## 自動微分(Automatic Differentiation)"
   ]
  },
  {
   "cell_type": "code",
   "execution_count": 1,
   "metadata": {},
   "outputs": [],
   "source": [
    "import torch"
   ]
  },
  {
   "cell_type": "code",
   "execution_count": 2,
   "metadata": {},
   "outputs": [
    {
     "name": "stdout",
     "output_type": "stream",
     "text": [
      "tensor(16., grad_fn=<PowBackward0>)\n",
      "<PowBackward0 object at 0x0000021BC4745280>\n",
      "tensor(8.)\n"
     ]
    }
   ],
   "source": [
    "# 設定 x 參與自動微分\n",
    "x = torch.tensor(4.0, requires_grad=True) \n",
    "\n",
    "y = x ** 2            # y = x^2\n",
    "\n",
    "print(y)\n",
    "print(y.grad_fn)      # y 梯度函數\n",
    "y.backward()          # 反向傳導\n",
    "print(x.grad)         # 取得梯度"
   ]
  },
  {
   "cell_type": "markdown",
   "metadata": {},
   "source": [
    "## 取得變數的自動微分相關屬性值"
   ]
  },
  {
   "cell_type": "code",
   "execution_count": 6,
   "metadata": {
    "scrolled": false
   },
   "outputs": [
    {
     "name": "stdout",
     "output_type": "stream",
     "text": [
      "x\n",
      "data: 1.0\n",
      "requires_grad: True\n",
      "grad: None\n",
      "grad_fn: None\n",
      "is_leaf: True\n",
      "\n",
      "y\n",
      "data: 2.0\n",
      "requires_grad: False\n",
      "grad: None\n",
      "grad_fn: None\n",
      "is_leaf: True\n",
      "\n",
      "z\n",
      "data: 2.0\n",
      "requires_grad: True\n",
      "grad: None\n",
      "grad_fn: <MulBackward0 object at 0x0000021BDBA0B4F0>\n",
      "is_leaf: False\n",
      "\n"
     ]
    }
   ],
   "source": [
    "# 設定變數值\n",
    "x = torch.tensor(1.0, requires_grad = True)\n",
    "y = torch.tensor(2.0)\n",
    "z = x * y\n",
    "z.retain_grad()\n",
    "\n",
    "# 顯示自動微分相關屬性\n",
    "for i, name in zip([x, y, z], \"xyz\"):\n",
    "    print(f\"{name}\\ndata: {i.data}\\nrequires_grad: {i.requires_grad}\\n\" + \n",
    "            f\"grad: {i.grad}\\ngrad_fn: {i.grad_fn}\\nis_leaf: {i.is_leaf}\\n\")"
   ]
  },
  {
   "cell_type": "markdown",
   "metadata": {},
   "source": [
    "## 交叉熵(cross entropy)範例"
   ]
  },
  {
   "cell_type": "code",
   "execution_count": 3,
   "metadata": {},
   "outputs": [
    {
     "data": {
      "image/png": "[encoded data removed]",
      "text/plain": [
       "<IPython.core.display.Image object>"
      ]
     },
     "execution_count": 3,
     "metadata": {
      "image/png": {
       "width": 500
      }
     },
     "output_type": "execute_result"
    }
   ],
   "source": [
    "# https://pytorch.org/tutorials/beginner/basics/autogradqs_tutorial.html\n",
    "from IPython.display import Image\n",
    "Image('./images/cross_entropy.png', width=500)"
   ]
  },
  {
   "cell_type": "code",
   "execution_count": 4,
   "metadata": {},
   "outputs": [
    {
     "name": "stdout",
     "output_type": "stream",
     "text": [
      "z 梯度函數： <AddBackward0 object at 0x0000026C3A3B5A00>\n",
      "loss 梯度函數： <BinaryCrossEntropyWithLogitsBackward0 object at 0x0000026C3A3B5C10>\n"
     ]
    }
   ],
   "source": [
    "x = torch.ones(5)  \n",
    "y = torch.zeros(3)  \n",
    "w = torch.randn(5, 3, requires_grad=True)\n",
    "b = torch.randn(3, requires_grad=True)\n",
    "z = torch.matmul(x, w)+b\n",
    "loss = torch.nn.functional.binary_cross_entropy_with_logits(z, y)\n",
    "\n",
    "print('z 梯度函數：', z.grad_fn)\n",
    "print('loss 梯度函數：', loss.grad_fn)"
   ]
  },
  {
   "cell_type": "code",
   "execution_count": 5,
   "metadata": {},
   "outputs": [
    {
     "name": "stdout",
     "output_type": "stream",
     "text": [
      "tensor([[0.0043, 0.0315, 0.0737],\n",
      "        [0.0043, 0.0315, 0.0737],\n",
      "        [0.0043, 0.0315, 0.0737],\n",
      "        [0.0043, 0.0315, 0.0737],\n",
      "        [0.0043, 0.0315, 0.0737]])\n",
      "tensor([0.0043, 0.0315, 0.0737])\n"
     ]
    }
   ],
   "source": [
    "loss.backward()\n",
    "print(w.grad)         # w梯度值\n",
    "print(b.grad)         # b梯度值"
   ]
  },
  {
   "cell_type": "code",
   "execution_count": 6,
   "metadata": {},
   "outputs": [
    {
     "name": "stdout",
     "output_type": "stream",
     "text": [
      "tensor([1.])\n"
     ]
    }
   ],
   "source": [
    "# Variable 在 v0.4.0已被棄用，直接使用 tensor 即可\n",
    "from torch.autograd import Variable\n",
    "x = Variable(torch.ones(1), requires_grad=True)\n",
    "y = x + 1\n",
    "y.backward()\n",
    "print(x.grad)"
   ]
  },
  {
   "cell_type": "code",
   "execution_count": 3,
   "metadata": {},
   "outputs": [
    {
     "name": "stdout",
     "output_type": "stream",
     "text": [
      "tensor([1.])\n"
     ]
    }
   ],
   "source": [
    "# 替代 Variable\n",
    "x2 = torch.ones(1, requires_grad=True)\n",
    "y = x2 + 1\n",
    "y.backward()\n",
    "print(x2.grad)"
   ]
  },
  {
   "cell_type": "markdown",
   "metadata": {},
   "source": [
    "## 多次梯度下降"
   ]
  },
  {
   "cell_type": "code",
   "execution_count": 13,
   "metadata": {},
   "outputs": [
    {
     "name": "stdout",
     "output_type": "stream",
     "text": [
      "一次梯度下降=75.0\n",
      "二次梯度下降=150.0\n",
      "三次梯度下降=225.0\n"
     ]
    }
   ],
   "source": [
    "x = torch.tensor(5.0, requires_grad=True)\n",
    "y = x ** 3            # y = x^3\n",
    "\n",
    "y.backward(retain_graph=True) # 梯度下降\n",
    "print(f'一次梯度下降={x.grad}') \n",
    "\n",
    "y.backward(retain_graph=True) # 梯度下降\n",
    "print(f'二次梯度下降={x.grad}') \n",
    "\n",
    "y.backward() # 梯度下降\n",
    "print(f'三次梯度下降={x.grad}') "
   ]
  },
  {
   "cell_type": "markdown",
   "metadata": {},
   "source": [
    "## 梯度 reset"
   ]
  },
  {
   "cell_type": "code",
   "execution_count": 12,
   "metadata": {},
   "outputs": [
    {
     "name": "stdout",
     "output_type": "stream",
     "text": [
      "tensor(125., grad_fn=<PowBackward0>)\n",
      "<PowBackward0 object at 0x00000287764F7FA0>\n",
      "一次梯度下降=75.0\n",
      "二次梯度下降=75.0\n",
      "三次梯度下降=75.0\n"
     ]
    }
   ],
   "source": [
    "x = torch.tensor(5.0, requires_grad=True)\n",
    "y = x ** 3            # y = x^3\n",
    "\n",
    "y.backward(retain_graph=True) # 梯度下降\n",
    "print(f'一次梯度下降={x.grad}') \n",
    "x.grad.zero_()                # 梯度 reset\n",
    "\n",
    "y.backward(retain_graph=True) # 梯度下降\n",
    "print(f'二次梯度下降={x.grad}') \n",
    "x.grad.zero_()                # 梯度 reset\n",
    "\n",
    "y.backward() # 梯度下降\n",
    "print(f'三次梯度下降={x.grad}') "
   ]
  },
  {
   "cell_type": "markdown",
   "metadata": {},
   "source": [
    "## 多個變數梯度下降"
   ]
  },
  {
   "cell_type": "code",
   "execution_count": 16,
   "metadata": {},
   "outputs": [
    {
     "name": "stdout",
     "output_type": "stream",
     "text": [
      "x 梯度下降 = 18750.0\n"
     ]
    }
   ],
   "source": [
    "x = torch.tensor(5.0, requires_grad=True)\n",
    "y = x ** 3            # y = x^3\n",
    "z = y ** 2            # z = y^2\n",
    "\n",
    "z.backward() # 梯度下降\n",
    "print(f'x 梯度下降 = {x.grad}') # 6 * x^5"
   ]
  },
  {
   "cell_type": "markdown",
   "metadata": {},
   "source": [
    "## 梯度下降法(Gradient Descent)"
   ]
  },
  {
   "cell_type": "code",
   "execution_count": 3,
   "metadata": {},
   "outputs": [
    {
     "name": "stdout",
     "output_type": "stream",
     "text": [
      "[5.   2.   0.8  0.32 0.13 0.05 0.02 0.01 0.   0.   0.   0.   0.   0.\n",
      " 0.   0.  ]\n"
     ]
    },
    {
     "data": {
      "image/png": "[encoded data removed]",
      "text/plain": [
       "<Figure size 432x288 with 1 Axes>"
      ]
     },
     "metadata": {
      "needs_background": "light"
     },
     "output_type": "display_data"
    }
   ],
   "source": [
    "# 載入套件\n",
    "import numpy as np\n",
    "import matplotlib.pyplot as plt\n",
    "\n",
    "# 目標函數(損失函數):y=x^2\n",
    "def func(x): return x ** 2\n",
    "\n",
    "# 目標函數的一階導數:dy/dx=2*x\n",
    "def dfunc(x): return 2 * x\n",
    "\n",
    "# 超參數(Hyperparameters)\n",
    "x_start = 5     # 起始權重\n",
    "epochs = 15     # 執行週期數 \n",
    "lr = 0.3        # 學習率 \n",
    "\n",
    "# 梯度下降法 \n",
    "def GD(x_start, df, epochs, lr):    \n",
    "    xs = np.zeros(epochs+1)    \n",
    "    x = x_start    \n",
    "    xs[0] = x    \n",
    "    for i in range(epochs):         \n",
    "        dx = df(x)        \n",
    "        # 更新 x_new = x — learning_rate * gradient        \n",
    "        x += - dx * lr         \n",
    "        xs[i+1] = x    \n",
    "    return xs\n",
    "\n",
    "# *** Function 可以直接當參數傳遞 ***\n",
    "w = GD(x_start, dfunc, epochs, lr=lr) \n",
    "print (np.around(w, 2))\n",
    "\n",
    "t = np.arange(-6.0, 6.0, 0.01)\n",
    "plt.plot(t, func(t), c='b')\n",
    "plt.plot(w, func(w), c='r', marker ='o', markersize=5)    \n",
    "\n",
    "# 設定中文字型\n",
    "plt.rcParams['font.sans-serif'] = ['Microsoft JhengHei'] # 正黑體 \n",
    "plt.rcParams['axes.unicode_minus'] = False # 矯正負號\n",
    "\n",
    "plt.title('梯度下降法', fontsize=20)\n",
    "plt.xlabel('X', fontsize=20)\n",
    "plt.ylabel('損失函數', fontsize=20)\n",
    "plt.show()"
   ]
  },
  {
   "cell_type": "markdown",
   "metadata": {},
   "source": [
    "## 使用 PyTorch"
   ]
  },
  {
   "cell_type": "code",
   "execution_count": 15,
   "metadata": {
    "scrolled": true
   },
   "outputs": [
    {
     "name": "stdout",
     "output_type": "stream",
     "text": [
      "[5.   2.   0.8  0.32 0.13 0.05 0.02 0.01 0.   0.   0.   0.   0.   0.\n",
      " 0.   0.  ]\n"
     ]
    },
    {
     "data": {
      "image/png": "[encoded data removed]",
      "text/plain": [
       "<Figure size 432x288 with 1 Axes>"
      ]
     },
     "metadata": {
      "needs_background": "light"
     },
     "output_type": "display_data"
    }
   ],
   "source": [
    "# 載入套件\n",
    "import torch\n",
    "import numpy as np\n",
    "import matplotlib.pyplot as plt\n",
    "\n",
    "# 目標函數(損失函數):y=x^2\n",
    "def func(x): return x ** 2\n",
    "\n",
    "# 自動微分\n",
    "def dfunc(x): \n",
    "    x = torch.tensor(float(x), requires_grad=True)\n",
    "    y = x ** 2 # 目標函數(損失函數)\n",
    "    y.backward()\n",
    "    return x.grad\n",
    "\n",
    "# 超參數(Hyperparameters)\n",
    "x_start = 5     # 起始權重\n",
    "epochs = 15     # 執行週期數 \n",
    "lr = 0.3        # 學習率 \n",
    "\n",
    "# 梯度下降法 \n",
    "def GD(x_start, df, epochs, lr):    \n",
    "    xs = np.zeros(epochs+1)    \n",
    "    x = x_start    \n",
    "    xs[0] = x    \n",
    "    for i in range(epochs):         \n",
    "        dx = df(x)        \n",
    "        # x更新 x_new = x — learning_rate * gradient        \n",
    "        x += - dx * lr         \n",
    "        xs[i+1] = x    \n",
    "    return xs\n",
    "\n",
    "# *** Function 可以直接當參數傳遞 ***\n",
    "w = GD(x_start, dfunc, epochs, lr=lr) \n",
    "print (np.around(w, 2))\n",
    "\n",
    "t = np.arange(-6.0, 6.0, 0.01)\n",
    "plt.plot(t, func(t), c='b')\n",
    "plt.plot(w, func(w), c='r', marker ='o', markersize=5)    \n",
    "\n",
    "# 設定中文字型\n",
    "plt.rcParams['font.sans-serif'] = ['Microsoft JhengHei'] # 正黑體 \n",
    "plt.rcParams['axes.unicode_minus'] = False # 矯正負號\n",
    "\n",
    "plt.title('梯度下降法', fontsize=20)\n",
    "plt.xlabel('X', fontsize=20)\n",
    "plt.ylabel('損失函數', fontsize=20)\n",
    "plt.show()"
   ]
  },
  {
   "cell_type": "markdown",
   "metadata": {},
   "source": [
    "## 使用 TensorFlow"
   ]
  },
  {
   "cell_type": "code",
   "execution_count": 4,
   "metadata": {
    "scrolled": true
   },
   "outputs": [
    {
     "name": "stdout",
     "output_type": "stream",
     "text": [
      "[5.   2.   0.8  0.32 0.13 0.05 0.02 0.01 0.   0.   0.   0.   0.   0.\n",
      " 0.   0.  ]\n"
     ]
    },
    {
     "data": {
      "image/png": "[encoded data removed]",
      "text/plain": [
       "<Figure size 432x288 with 1 Axes>"
      ]
     },
     "metadata": {
      "needs_background": "light"
     },
     "output_type": "display_data"
    }
   ],
   "source": [
    "# 載入套件\n",
    "import tensorflow as tf\n",
    "import numpy as np\n",
    "import matplotlib.pyplot as plt\n",
    "\n",
    "# 目標函數(損失函數):y=x^2\n",
    "def func(x): return x ** 2\n",
    "\n",
    "# 自動微分\n",
    "def dfunc(x_value): \n",
    "    x = tf.Variable(x_value, dtype=tf.float32) # 宣告 TensorFlow 變數(Variable)\n",
    "    with tf.GradientTape() as g: # 自動微分\n",
    "        y = x ** 2                # y = x^2\n",
    "    dy_dx = g.gradient(y, x)     # 取得梯度\n",
    "    return dy_dx.numpy()         # 轉成 NumPy array\n",
    "\n",
    "# 超參數(Hyperparameters)\n",
    "x_start = 5     # 起始權重\n",
    "epochs = 15     # 執行週期數 \n",
    "lr = 0.3        # 學習率 \n",
    "\n",
    "# 梯度下降法 \n",
    "def GD(x_start, df, epochs, lr):    \n",
    "    xs = np.zeros(epochs+1)    \n",
    "    x = x_start    \n",
    "    xs[0] = x    \n",
    "    for i in range(epochs):         \n",
    "        dx = df(x)        \n",
    "        # x更新 x_new = x — learning_rate * gradient        \n",
    "        x += - dx * lr         \n",
    "        xs[i+1] = x    \n",
    "    return xs\n",
    "\n",
    "# *** Function 可以直接當參數傳遞 ***\n",
    "w = GD(x_start, dfunc, epochs, lr=lr) \n",
    "print (np.around(w, 2))\n",
    "\n",
    "t = np.arange(-6.0, 6.0, 0.01)\n",
    "plt.plot(t, func(t), c='b')\n",
    "plt.plot(w, func(w), c='r', marker ='o', markersize=5)    \n",
    "\n",
    "# 設定中文字型\n",
    "plt.rcParams['font.sans-serif'] = ['Microsoft JhengHei'] # 正黑體 \n",
    "plt.rcParams['axes.unicode_minus'] = False # 矯正負號\n",
    "\n",
    "plt.title('梯度下降法', fontsize=20)\n",
    "plt.xlabel('X', fontsize=20)\n",
    "plt.ylabel('損失函數', fontsize=20)\n",
    "plt.show()"
   ]
  },
  {
   "cell_type": "code",
   "execution_count": 17,
   "metadata": {},
   "outputs": [
    {
     "name": "stdout",
     "output_type": "stream",
     "text": [
      "[5.   4.03 3.53 ... 0.51 0.51 0.51]\n"
     ]
    },
    {
     "data": {
      "image/png": "[encoded data removed]",
      "text/plain": [
       "<Figure size 432x288 with 1 Axes>"
      ]
     },
     "metadata": {
      "needs_background": "light"
     },
     "output_type": "display_data"
    }
   ],
   "source": [
    "# 損失函數\n",
    "def func(x): return 2*x**4-3*x**2+2*x-20\n",
    "\n",
    "# 自動微分\n",
    "def dfunc(x): \n",
    "    x = torch.tensor(float(x), requires_grad=True)\n",
    "    y = 2*x**4-3*x**2+2*x-20\n",
    "    y.backward()\n",
    "    return x.grad\n",
    "\n",
    "# 超參數(Hyperparameters)\n",
    "x_start = 5     # 起始權重\n",
    "epochs = 15000  # 執行週期數 \n",
    "lr = 0.001      # 學習率 \n",
    "\n",
    "# *** Function 可以直接當參數傳遞 ***\n",
    "w = GD(x_start, dfunc, epochs, lr=lr) \n",
    "print (np.around(w, 2))\n",
    "\n",
    "t = np.arange(-6.0, 6.0, 0.01)\n",
    "plt.plot(t, func(t), c='b')\n",
    "plt.plot(w, func(w), c='r', marker ='o', markersize=5)    \n",
    "\n",
    "# 設定中文字型\n",
    "plt.rcParams['font.sans-serif'] = ['Microsoft JhengHei'] # 正黑體 \n",
    "plt.rcParams['axes.unicode_minus'] = False # 矯正負號\n",
    "\n",
    "plt.title('梯度下降法', fontsize=20)\n",
    "plt.xlabel('X', fontsize=20)\n",
    "plt.ylabel('損失函數', fontsize=20)\n",
    "plt.show()"
   ]
  },
  {
   "cell_type": "code",
   "execution_count": null,
   "metadata": {},
   "outputs": [],
   "source": []
  }
 ],
 "metadata": {
  "kernelspec": {
   "display_name": "Python 3 (ipykernel)",
   "language": "python",
   "name": "python3"
  },
  "language_info": {
   "codemirror_mode": {
    "name": "ipython",
    "version": 3
   },
   "file_extension": ".py",
   "mimetype": "text/x-python",
   "name": "python",
   "nbconvert_exporter": "python",
   "pygments_lexer": "ipython3",
   "version": "3.9.7"
  }
 },
 "nbformat": 4,
 "nbformat_minor": 4
}
