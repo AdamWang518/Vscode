{
 "cells": [
  {
   "cell_type": "markdown",
   "metadata": {},
   "source": [
    "# 執行週期(epoch)改為10"
   ]
  },
  {
   "cell_type": "markdown",
   "metadata": {},
   "source": [
    "## 載入套件"
   ]
  },
  {
   "cell_type": "code",
   "execution_count": 1,
   "metadata": {},
   "outputs": [],
   "source": [
    "import os\n",
    "import torch\n",
    "from torch import nn\n",
    "from torch.nn import functional as F\n",
    "from torch.utils.data import DataLoader, random_split\n",
    "from torchmetrics import Accuracy\n",
    "from torchvision import transforms\n",
    "from torchvision.datasets import MNIST"
   ]
  },
  {
   "cell_type": "markdown",
   "metadata": {},
   "source": [
    "## 設定參數"
   ]
  },
  {
   "cell_type": "code",
   "execution_count": 2,
   "metadata": {},
   "outputs": [
    {
     "data": {
      "text/plain": [
       "'cuda'"
      ]
     },
     "execution_count": 2,
     "metadata": {},
     "output_type": "execute_result"
    }
   ],
   "source": [
    "PATH_DATASETS = \"\" # 預設路徑\n",
    "BATCH_SIZE = 1024  # 批量\n",
    "device = torch.device(\"cuda\" if torch.cuda.is_available() else \"cpu\")\n",
    "\"cuda\" if torch.cuda.is_available() else \"cpu\""
   ]
  },
  {
   "cell_type": "markdown",
   "metadata": {},
   "source": [
    "## 步驟1：載入 MNIST 手寫阿拉伯數字資料"
   ]
  },
  {
   "cell_type": "code",
   "execution_count": 3,
   "metadata": {},
   "outputs": [
    {
     "name": "stdout",
     "output_type": "stream",
     "text": [
      "torch.Size([60000, 28, 28]) torch.Size([10000, 28, 28])\n"
     ]
    }
   ],
   "source": [
    "# 下載 MNIST 手寫阿拉伯數字 訓練資料\n",
    "train_ds = MNIST(PATH_DATASETS, train=True, download=True, \n",
    "                 transform=transforms.ToTensor())\n",
    "\n",
    "# 下載測試資料\n",
    "test_ds = MNIST(PATH_DATASETS, train=False, download=True, \n",
    "                 transform=transforms.ToTensor())\n",
    "\n",
    "# 訓練/測試資料的維度\n",
    "print(train_ds.data.shape, test_ds.data.shape)"
   ]
  },
  {
   "cell_type": "markdown",
   "metadata": {},
   "source": [
    "## 步驟2：資料清理，此步驟無需進行"
   ]
  },
  {
   "cell_type": "markdown",
   "metadata": {},
   "source": [
    "## 步驟3：特徵工程，此步驟無需進行"
   ]
  },
  {
   "cell_type": "markdown",
   "metadata": {},
   "source": [
    "## 步驟4：資料分割，此步驟無需進行，載入MNIST資料時，已經切割好了"
   ]
  },
  {
   "cell_type": "markdown",
   "metadata": {},
   "source": [
    "## 步驟5：建立模型結構"
   ]
  },
  {
   "cell_type": "code",
   "execution_count": 4,
   "metadata": {},
   "outputs": [],
   "source": [
    "# 建立模型\n",
    "model = torch.nn.Sequential(\n",
    "    torch.nn.Flatten(),\n",
    "    torch.nn.Linear(28 * 28, 256), \n",
    "    nn.Dropout(0.2),\n",
    "    torch.nn.Linear(256, 10), \n",
    ").to(device)"
   ]
  },
  {
   "cell_type": "markdown",
   "metadata": {},
   "source": [
    "## 步驟6：結合訓練資料及模型，進行模型訓練"
   ]
  },
  {
   "cell_type": "code",
   "execution_count": 5,
   "metadata": {
    "scrolled": false
   },
   "outputs": [
    {
     "name": "stdout",
     "output_type": "stream",
     "text": [
      "Epoch 1: [    0 / 60000] (0 %)  Loss: 2.315393\n",
      "Epoch 1: [ 6000 / 60000] (10 %)  Loss: 2.015262\n",
      "Epoch 1: [12000 / 60000] (20 %)  Loss: 1.780742\n",
      "Epoch 1: [18000 / 60000] (30 %)  Loss: 1.558802\n",
      "Epoch 1: [24000 / 60000] (40 %)  Loss: 1.328512\n",
      "Epoch 1: [30000 / 60000] (50 %)  Loss: 1.217832\n",
      "Epoch 1: [36000 / 60000] (60 %)  Loss: 0.980923\n",
      "Epoch 1: [42000 / 60000] (70 %)  Loss: 0.958156\n",
      "Epoch 1: [48000 / 60000] (80 %)  Loss: 0.712088\n",
      "Epoch 1: [54000 / 60000] (90 %)  Loss: 0.728609\n",
      "Epoch 2: [    0 / 60000] (0 %)  Loss: 0.688114\n",
      "Epoch 2: [ 6000 / 60000] (10 %)  Loss: 0.540672\n",
      "Epoch 2: [12000 / 60000] (20 %)  Loss: 0.640921\n",
      "Epoch 2: [18000 / 60000] (30 %)  Loss: 0.552893\n",
      "Epoch 2: [24000 / 60000] (40 %)  Loss: 0.570941\n",
      "Epoch 2: [30000 / 60000] (50 %)  Loss: 0.627792\n",
      "Epoch 2: [36000 / 60000] (60 %)  Loss: 0.503483\n",
      "Epoch 2: [42000 / 60000] (70 %)  Loss: 0.600652\n",
      "Epoch 2: [48000 / 60000] (80 %)  Loss: 0.416698\n",
      "Epoch 2: [54000 / 60000] (90 %)  Loss: 0.460870\n",
      "Epoch 3: [    0 / 60000] (0 %)  Loss: 0.460065\n",
      "Epoch 3: [ 6000 / 60000] (10 %)  Loss: 0.363538\n",
      "Epoch 3: [12000 / 60000] (20 %)  Loss: 0.480156\n",
      "Epoch 3: [18000 / 60000] (30 %)  Loss: 0.398529\n",
      "Epoch 3: [24000 / 60000] (40 %)  Loss: 0.441446\n",
      "Epoch 3: [30000 / 60000] (50 %)  Loss: 0.483018\n",
      "Epoch 3: [36000 / 60000] (60 %)  Loss: 0.408739\n",
      "Epoch 3: [42000 / 60000] (70 %)  Loss: 0.524718\n",
      "Epoch 3: [48000 / 60000] (80 %)  Loss: 0.343086\n",
      "Epoch 3: [54000 / 60000] (90 %)  Loss: 0.404274\n",
      "Epoch 4: [    0 / 60000] (0 %)  Loss: 0.386835\n",
      "Epoch 4: [ 6000 / 60000] (10 %)  Loss: 0.301482\n",
      "Epoch 4: [12000 / 60000] (20 %)  Loss: 0.435244\n",
      "Epoch 4: [18000 / 60000] (30 %)  Loss: 0.345619\n",
      "Epoch 4: [24000 / 60000] (40 %)  Loss: 0.409100\n",
      "Epoch 4: [30000 / 60000] (50 %)  Loss: 0.425014\n",
      "Epoch 4: [36000 / 60000] (60 %)  Loss: 0.363040\n",
      "Epoch 4: [42000 / 60000] (70 %)  Loss: 0.482037\n",
      "Epoch 4: [48000 / 60000] (80 %)  Loss: 0.309154\n",
      "Epoch 4: [54000 / 60000] (90 %)  Loss: 0.364987\n",
      "Epoch 5: [    0 / 60000] (0 %)  Loss: 0.354884\n",
      "Epoch 5: [ 6000 / 60000] (10 %)  Loss: 0.275163\n",
      "Epoch 5: [12000 / 60000] (20 %)  Loss: 0.407375\n",
      "Epoch 5: [18000 / 60000] (30 %)  Loss: 0.312796\n",
      "Epoch 5: [24000 / 60000] (40 %)  Loss: 0.372334\n",
      "Epoch 5: [30000 / 60000] (50 %)  Loss: 0.387770\n",
      "Epoch 5: [36000 / 60000] (60 %)  Loss: 0.349390\n",
      "Epoch 5: [42000 / 60000] (70 %)  Loss: 0.473140\n",
      "Epoch 5: [48000 / 60000] (80 %)  Loss: 0.288158\n",
      "Epoch 5: [54000 / 60000] (90 %)  Loss: 0.349234\n",
      "Epoch 6: [    0 / 60000] (0 %)  Loss: 0.334784\n",
      "Epoch 6: [ 6000 / 60000] (10 %)  Loss: 0.259869\n",
      "Epoch 6: [12000 / 60000] (20 %)  Loss: 0.404367\n",
      "Epoch 6: [18000 / 60000] (30 %)  Loss: 0.307463\n",
      "Epoch 6: [24000 / 60000] (40 %)  Loss: 0.359523\n",
      "Epoch 6: [30000 / 60000] (50 %)  Loss: 0.368898\n",
      "Epoch 6: [36000 / 60000] (60 %)  Loss: 0.330508\n",
      "Epoch 6: [42000 / 60000] (70 %)  Loss: 0.467015\n",
      "Epoch 6: [48000 / 60000] (80 %)  Loss: 0.279358\n",
      "Epoch 6: [54000 / 60000] (90 %)  Loss: 0.334305\n",
      "Epoch 7: [    0 / 60000] (0 %)  Loss: 0.319746\n",
      "Epoch 7: [ 6000 / 60000] (10 %)  Loss: 0.257285\n",
      "Epoch 7: [12000 / 60000] (20 %)  Loss: 0.396049\n",
      "Epoch 7: [18000 / 60000] (30 %)  Loss: 0.289376\n",
      "Epoch 7: [24000 / 60000] (40 %)  Loss: 0.340392\n",
      "Epoch 7: [30000 / 60000] (50 %)  Loss: 0.348340\n",
      "Epoch 7: [36000 / 60000] (60 %)  Loss: 0.316161\n",
      "Epoch 7: [42000 / 60000] (70 %)  Loss: 0.461101\n",
      "Epoch 7: [48000 / 60000] (80 %)  Loss: 0.268334\n",
      "Epoch 7: [54000 / 60000] (90 %)  Loss: 0.334138\n",
      "Epoch 8: [    0 / 60000] (0 %)  Loss: 0.301020\n",
      "Epoch 8: [ 6000 / 60000] (10 %)  Loss: 0.243130\n",
      "Epoch 8: [12000 / 60000] (20 %)  Loss: 0.387224\n",
      "Epoch 8: [18000 / 60000] (30 %)  Loss: 0.279927\n",
      "Epoch 8: [24000 / 60000] (40 %)  Loss: 0.335191\n",
      "Epoch 8: [30000 / 60000] (50 %)  Loss: 0.331270\n",
      "Epoch 8: [36000 / 60000] (60 %)  Loss: 0.315754\n",
      "Epoch 8: [42000 / 60000] (70 %)  Loss: 0.447708\n",
      "Epoch 8: [48000 / 60000] (80 %)  Loss: 0.263712\n",
      "Epoch 8: [54000 / 60000] (90 %)  Loss: 0.325001\n",
      "Epoch 9: [    0 / 60000] (0 %)  Loss: 0.299861\n",
      "Epoch 9: [ 6000 / 60000] (10 %)  Loss: 0.234044\n",
      "Epoch 9: [12000 / 60000] (20 %)  Loss: 0.368623\n",
      "Epoch 9: [18000 / 60000] (30 %)  Loss: 0.277202\n",
      "Epoch 9: [24000 / 60000] (40 %)  Loss: 0.330777\n",
      "Epoch 9: [30000 / 60000] (50 %)  Loss: 0.322857\n",
      "Epoch 9: [36000 / 60000] (60 %)  Loss: 0.307237\n",
      "Epoch 9: [42000 / 60000] (70 %)  Loss: 0.445152\n",
      "Epoch 9: [48000 / 60000] (80 %)  Loss: 0.257075\n",
      "Epoch 9: [54000 / 60000] (90 %)  Loss: 0.316265\n",
      "Epoch 10: [    0 / 60000] (0 %)  Loss: 0.296460\n",
      "Epoch 10: [ 6000 / 60000] (10 %)  Loss: 0.231438\n",
      "Epoch 10: [12000 / 60000] (20 %)  Loss: 0.365932\n",
      "Epoch 10: [18000 / 60000] (30 %)  Loss: 0.279918\n",
      "Epoch 10: [24000 / 60000] (40 %)  Loss: 0.328158\n",
      "Epoch 10: [30000 / 60000] (50 %)  Loss: 0.320058\n",
      "Epoch 10: [36000 / 60000] (60 %)  Loss: 0.294638\n",
      "Epoch 10: [42000 / 60000] (70 %)  Loss: 0.447699\n",
      "Epoch 10: [48000 / 60000] (80 %)  Loss: 0.238862\n",
      "Epoch 10: [54000 / 60000] (90 %)  Loss: 0.318331\n"
     ]
    }
   ],
   "source": [
    "epochs = 10\n",
    "lr=0.1\n",
    "\n",
    "# 建立 DataLoader\n",
    "train_loader = DataLoader(train_ds, batch_size=600)\n",
    "\n",
    "# 設定優化器(optimizer)\n",
    "# optimizer = torch.optim.Adam(model.parameters(), lr=lr)\n",
    "optimizer = torch.optim.Adadelta(model.parameters(), lr=lr)\n",
    "\n",
    "criterion = nn.CrossEntropyLoss()\n",
    "\n",
    "model.train()\n",
    "loss_list = []    \n",
    "for epoch in range(1, epochs + 1):\n",
    "    for batch_idx, (data, target) in enumerate(train_loader):\n",
    "        data, target = data.to(device), target.to(device)\n",
    "#         if batch_idx == 0 and epoch == 1: print(data[0])\n",
    "\n",
    "        optimizer.zero_grad()\n",
    "        output = model(data)\n",
    "        loss = criterion(output, target)\n",
    "        loss.backward()\n",
    "        optimizer.step()\n",
    "\n",
    "        if batch_idx % 10 == 0:\n",
    "            loss_list.append(loss.item())\n",
    "            batch = batch_idx * len(data)\n",
    "            data_count = len(train_loader.dataset)\n",
    "            percentage = (100. * batch_idx / len(train_loader))\n",
    "            print(f'Epoch {epoch}: [{batch:5d} / {data_count}] ({percentage:.0f} %)' +\n",
    "                  f'  Loss: {loss.item():.6f}')"
   ]
  },
  {
   "cell_type": "markdown",
   "metadata": {},
   "source": [
    "## 對訓練過程的損失繪圖"
   ]
  },
  {
   "cell_type": "code",
   "execution_count": 6,
   "metadata": {
    "scrolled": false
   },
   "outputs": [
    {
     "data": {
      "text/plain": [
       "[<matplotlib.lines.Line2D at 0x1aeb5da3670>]"
      ]
     },
     "execution_count": 6,
     "metadata": {},
     "output_type": "execute_result"
    },
    {
     "data": {
      "image/png": "[encoded data removed]",
      "text/plain": [
       "<Figure size 432x288 with 1 Axes>"
      ]
     },
     "metadata": {
      "needs_background": "light"
     },
     "output_type": "display_data"
    }
   ],
   "source": [
    "import matplotlib.pyplot as plt\n",
    "\n",
    "plt.plot(loss_list, 'r')"
   ]
  },
  {
   "cell_type": "markdown",
   "metadata": {},
   "source": [
    "## 步驟7：評分(Score Model)"
   ]
  },
  {
   "cell_type": "code",
   "execution_count": 7,
   "metadata": {
    "scrolled": true
   },
   "outputs": [
    {
     "name": "stdout",
     "output_type": "stream",
     "text": [
      "平均損失: 0.0003, 準確率: 9165/10000 (92%)\n",
      "\n"
     ]
    }
   ],
   "source": [
    "# 建立 DataLoader\n",
    "test_loader = DataLoader(test_ds, shuffle=False, batch_size=BATCH_SIZE)\n",
    "\n",
    "model.eval()\n",
    "test_loss = 0\n",
    "correct = 0\n",
    "with torch.no_grad():\n",
    "    for data, target in test_loader:\n",
    "        data, target = data.to(device), target.to(device)\n",
    "        output = model(data)\n",
    "        \n",
    "        # sum up batch loss\n",
    "        test_loss += criterion(output, target).item()\n",
    "        \n",
    "        # 預測\n",
    "        pred = output.argmax(dim=1, keepdim=True)  \n",
    "        \n",
    "        # 正確筆數\n",
    "        correct += pred.eq(target.view_as(pred)).sum().item()\n",
    "\n",
    "# 平均損失\n",
    "test_loss /= len(test_loader.dataset)\n",
    "# 顯示測試結果\n",
    "batch = batch_idx * len(data)\n",
    "data_count = len(test_loader.dataset)\n",
    "percentage = 100. * correct / data_count\n",
    "print(f'平均損失: {test_loss:.4f}, 準確率: {correct}/{data_count}' + \n",
    "      f' ({percentage:.0f}%)\\n')"
   ]
  },
  {
   "cell_type": "markdown",
   "metadata": {},
   "source": [
    "## 實際比對測試資料的前20筆"
   ]
  },
  {
   "cell_type": "code",
   "execution_count": 8,
   "metadata": {},
   "outputs": [
    {
     "name": "stdout",
     "output_type": "stream",
     "text": [
      "actual    : [7 2 1 0 4 1 4 9 5 9 0 6 9 0 1 5 9 7 3 4]\n",
      "prediction:  7 2 1 0 4 1 4 9 6 9 0 6 9 0 1 5 9 7 3 4\n"
     ]
    }
   ],
   "source": [
    "# 實際預測 20 筆資料\n",
    "predictions = []\n",
    "with torch.no_grad():\n",
    "    for i in range(20):\n",
    "        data, target = test_ds[i][0], test_ds[i][1]\n",
    "        data = data.reshape(1, *data.shape).to(device)\n",
    "        output = torch.argmax(model(data), axis=-1)\n",
    "        predictions.append(str(output.item()))\n",
    "\n",
    "# 比對\n",
    "print('actual    :', test_ds.targets[0:20].numpy())\n",
    "print('prediction: ', ' '.join(predictions[0:20]))"
   ]
  },
  {
   "cell_type": "markdown",
   "metadata": {},
   "source": [
    "## 步驟8：評估，暫不進行"
   ]
  },
  {
   "cell_type": "markdown",
   "metadata": {},
   "source": [
    "## 步驟9：模型佈署"
   ]
  },
  {
   "cell_type": "markdown",
   "metadata": {},
   "source": [
    "## 步驟10：新資料預測"
   ]
  },
  {
   "cell_type": "code",
   "execution_count": 9,
   "metadata": {
    "scrolled": true
   },
   "outputs": [
    {
     "name": "stdout",
     "output_type": "stream",
     "text": [
      "actual/prediction: 0 6\n",
      "actual/prediction: 1 1\n",
      "actual/prediction: 2 2\n",
      "actual/prediction: 3 7\n",
      "actual/prediction: 4 4\n",
      "actual/prediction: 5 5\n",
      "actual/prediction: 6 6\n",
      "actual/prediction: 7 3\n",
      "actual/prediction: 8 8\n",
      "actual/prediction: 9 1\n"
     ]
    }
   ],
   "source": [
    "# 使用小畫家，繪製 0~9，實際測試看看\n",
    "from skimage import io\n",
    "from skimage.transform import resize\n",
    "import numpy as np\n",
    "\n",
    "# 讀取影像並轉為單色\n",
    "for i in range(10):\n",
    "    uploaded_file = f'./myDigits/{i}.png'\n",
    "    image1 = io.imread(uploaded_file, as_gray=True)\n",
    "\n",
    "    # 縮為 (28, 28) 大小的影像\n",
    "    image_resized = resize(image1, (28, 28), anti_aliasing=True)    \n",
    "    X1 = image_resized.reshape(1,28, 28) #/ 255.0\n",
    "\n",
    "    # 反轉顏色，顏色0為白色，與 RGB 色碼不同，它的 0 為黑色\n",
    "    X1 = torch.FloatTensor(1-X1).to(device)\n",
    "\n",
    "    # 預測\n",
    "    predictions = torch.softmax(model(X1), dim=1)\n",
    "    # print(np.around(predictions.cpu().detach().numpy(), 2))\n",
    "    print(f'actual/prediction: {i} {np.argmax(predictions.detach().cpu().numpy())}')"
   ]
  },
  {
   "cell_type": "code",
   "execution_count": null,
   "metadata": {},
   "outputs": [],
   "source": []
  }
 ],
 "metadata": {
  "kernelspec": {
   "display_name": "Python 3",
   "language": "python",
   "name": "python3"
  },
  "language_info": {
   "codemirror_mode": {
    "name": "ipython",
    "version": 3
   },
   "file_extension": ".py",
   "mimetype": "text/x-python",
   "name": "python",
   "nbconvert_exporter": "python",
   "pygments_lexer": "ipython3",
   "version": "3.8.8"
  }
 },
 "nbformat": 4,
 "nbformat_minor": 4
}
