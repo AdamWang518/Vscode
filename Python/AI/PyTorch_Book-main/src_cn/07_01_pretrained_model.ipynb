{
 "cells": [
  {
   "cell_type": "markdown",
   "metadata": {},
   "source": [
    "# 完全采用 VGG 16 预先训练的模型"
   ]
  },
  {
   "cell_type": "markdown",
   "metadata": {},
   "source": [
    "## 载入套件"
   ]
  },
  {
   "cell_type": "code",
   "execution_count": 49,
   "metadata": {},
   "outputs": [],
   "source": [
    "import torch\n",
    "from torchvision import models\n",
    "from torch import nn\n",
    "import numpy as np\n",
    "from torchsummary import summary"
   ]
  },
  {
   "cell_type": "markdown",
   "metadata": {},
   "source": [
    "## 检查 GPU"
   ]
  },
  {
   "cell_type": "code",
   "execution_count": 50,
   "metadata": {},
   "outputs": [
    {
     "data": {
      "text/plain": [
       "'cuda'"
      ]
     },
     "execution_count": 50,
     "metadata": {},
     "output_type": "execute_result"
    }
   ],
   "source": [
    "device = torch.device(\"cuda\" if torch.cuda.is_available() else \"cpu\")\n",
    "\"cuda\" if torch.cuda.is_available() else \"cpu\""
   ]
  },
  {
   "cell_type": "markdown",
   "metadata": {},
   "source": [
    "## 使用较简单的VGG模型"
   ]
  },
  {
   "cell_type": "code",
   "execution_count": 51,
   "metadata": {},
   "outputs": [],
   "source": [
    "model = models.vgg16(pretrained=True)"
   ]
  },
  {
   "cell_type": "markdown",
   "metadata": {},
   "source": [
    "## 显示神经层名称"
   ]
  },
  {
   "cell_type": "code",
   "execution_count": 52,
   "metadata": {
    "scrolled": true
   },
   "outputs": [
    {
     "name": "stdout",
     "output_type": "stream",
     "text": [
      "Children Counter:  0  Layer Name:  features\n",
      "Children Counter:  1  Layer Name:  avgpool\n",
      "Children Counter:  2  Layer Name:  classifier\n"
     ]
    }
   ],
   "source": [
    "children_counter = 0\n",
    "for n,c in model.named_children():\n",
    "    print(\"Children Counter: \",children_counter,\" Layer Name: \",n)\n",
    "    children_counter+=1"
   ]
  },
  {
   "cell_type": "markdown",
   "metadata": {},
   "source": [
    "## 显示神经层明细"
   ]
  },
  {
   "cell_type": "code",
   "execution_count": 53,
   "metadata": {},
   "outputs": [
    {
     "data": {
      "text/plain": [
       "<bound method Module.modules of VGG(\n",
       "  (features): Sequential(\n",
       "    (0): Conv2d(3, 64, kernel_size=(3, 3), stride=(1, 1), padding=(1, 1))\n",
       "    (1): ReLU(inplace=True)\n",
       "    (2): Conv2d(64, 64, kernel_size=(3, 3), stride=(1, 1), padding=(1, 1))\n",
       "    (3): ReLU(inplace=True)\n",
       "    (4): MaxPool2d(kernel_size=2, stride=2, padding=0, dilation=1, ceil_mode=False)\n",
       "    (5): Conv2d(64, 128, kernel_size=(3, 3), stride=(1, 1), padding=(1, 1))\n",
       "    (6): ReLU(inplace=True)\n",
       "    (7): Conv2d(128, 128, kernel_size=(3, 3), stride=(1, 1), padding=(1, 1))\n",
       "    (8): ReLU(inplace=True)\n",
       "    (9): MaxPool2d(kernel_size=2, stride=2, padding=0, dilation=1, ceil_mode=False)\n",
       "    (10): Conv2d(128, 256, kernel_size=(3, 3), stride=(1, 1), padding=(1, 1))\n",
       "    (11): ReLU(inplace=True)\n",
       "    (12): Conv2d(256, 256, kernel_size=(3, 3), stride=(1, 1), padding=(1, 1))\n",
       "    (13): ReLU(inplace=True)\n",
       "    (14): Conv2d(256, 256, kernel_size=(3, 3), stride=(1, 1), padding=(1, 1))\n",
       "    (15): ReLU(inplace=True)\n",
       "    (16): MaxPool2d(kernel_size=2, stride=2, padding=0, dilation=1, ceil_mode=False)\n",
       "    (17): Conv2d(256, 512, kernel_size=(3, 3), stride=(1, 1), padding=(1, 1))\n",
       "    (18): ReLU(inplace=True)\n",
       "    (19): Conv2d(512, 512, kernel_size=(3, 3), stride=(1, 1), padding=(1, 1))\n",
       "    (20): ReLU(inplace=True)\n",
       "    (21): Conv2d(512, 512, kernel_size=(3, 3), stride=(1, 1), padding=(1, 1))\n",
       "    (22): ReLU(inplace=True)\n",
       "    (23): MaxPool2d(kernel_size=2, stride=2, padding=0, dilation=1, ceil_mode=False)\n",
       "    (24): Conv2d(512, 512, kernel_size=(3, 3), stride=(1, 1), padding=(1, 1))\n",
       "    (25): ReLU(inplace=True)\n",
       "    (26): Conv2d(512, 512, kernel_size=(3, 3), stride=(1, 1), padding=(1, 1))\n",
       "    (27): ReLU(inplace=True)\n",
       "    (28): Conv2d(512, 512, kernel_size=(3, 3), stride=(1, 1), padding=(1, 1))\n",
       "    (29): ReLU(inplace=True)\n",
       "    (30): MaxPool2d(kernel_size=2, stride=2, padding=0, dilation=1, ceil_mode=False)\n",
       "  )\n",
       "  (avgpool): AdaptiveAvgPool2d(output_size=(7, 7))\n",
       "  (classifier): Sequential(\n",
       "    (0): Linear(in_features=25088, out_features=4096, bias=True)\n",
       "    (1): ReLU(inplace=True)\n",
       "    (2): Dropout(p=0.5, inplace=False)\n",
       "    (3): Linear(in_features=4096, out_features=4096, bias=True)\n",
       "    (4): ReLU(inplace=True)\n",
       "    (5): Dropout(p=0.5, inplace=False)\n",
       "    (6): Linear(in_features=4096, out_features=1000, bias=True)\n",
       "  )\n",
       ")>"
      ]
     },
     "execution_count": 53,
     "metadata": {},
     "output_type": "execute_result"
    }
   ],
   "source": [
    "model.modules"
   ]
  },
  {
   "cell_type": "code",
   "execution_count": 54,
   "metadata": {},
   "outputs": [
    {
     "data": {
      "text/plain": [
       "Sequential(\n",
       "  (0): Sequential(\n",
       "    (0): Conv2d(3, 64, kernel_size=(3, 3), stride=(1, 1), padding=(1, 1))\n",
       "    (1): ReLU(inplace=True)\n",
       "    (2): Conv2d(64, 64, kernel_size=(3, 3), stride=(1, 1), padding=(1, 1))\n",
       "    (3): ReLU(inplace=True)\n",
       "    (4): MaxPool2d(kernel_size=2, stride=2, padding=0, dilation=1, ceil_mode=False)\n",
       "    (5): Conv2d(64, 128, kernel_size=(3, 3), stride=(1, 1), padding=(1, 1))\n",
       "    (6): ReLU(inplace=True)\n",
       "    (7): Conv2d(128, 128, kernel_size=(3, 3), stride=(1, 1), padding=(1, 1))\n",
       "    (8): ReLU(inplace=True)\n",
       "    (9): MaxPool2d(kernel_size=2, stride=2, padding=0, dilation=1, ceil_mode=False)\n",
       "    (10): Conv2d(128, 256, kernel_size=(3, 3), stride=(1, 1), padding=(1, 1))\n",
       "    (11): ReLU(inplace=True)\n",
       "    (12): Conv2d(256, 256, kernel_size=(3, 3), stride=(1, 1), padding=(1, 1))\n",
       "    (13): ReLU(inplace=True)\n",
       "    (14): Conv2d(256, 256, kernel_size=(3, 3), stride=(1, 1), padding=(1, 1))\n",
       "    (15): ReLU(inplace=True)\n",
       "    (16): MaxPool2d(kernel_size=2, stride=2, padding=0, dilation=1, ceil_mode=False)\n",
       "    (17): Conv2d(256, 512, kernel_size=(3, 3), stride=(1, 1), padding=(1, 1))\n",
       "    (18): ReLU(inplace=True)\n",
       "    (19): Conv2d(512, 512, kernel_size=(3, 3), stride=(1, 1), padding=(1, 1))\n",
       "    (20): ReLU(inplace=True)\n",
       "    (21): Conv2d(512, 512, kernel_size=(3, 3), stride=(1, 1), padding=(1, 1))\n",
       "    (22): ReLU(inplace=True)\n",
       "    (23): MaxPool2d(kernel_size=2, stride=2, padding=0, dilation=1, ceil_mode=False)\n",
       "    (24): Conv2d(512, 512, kernel_size=(3, 3), stride=(1, 1), padding=(1, 1))\n",
       "    (25): ReLU(inplace=True)\n",
       "    (26): Conv2d(512, 512, kernel_size=(3, 3), stride=(1, 1), padding=(1, 1))\n",
       "    (27): ReLU(inplace=True)\n",
       "    (28): Conv2d(512, 512, kernel_size=(3, 3), stride=(1, 1), padding=(1, 1))\n",
       "    (29): ReLU(inplace=True)\n",
       "    (30): MaxPool2d(kernel_size=2, stride=2, padding=0, dilation=1, ceil_mode=False)\n",
       "  )\n",
       "  (1): AdaptiveAvgPool2d(output_size=(7, 7))\n",
       "  (2): Sequential(\n",
       "    (0): Linear(in_features=25088, out_features=4096, bias=True)\n",
       "    (1): ReLU(inplace=True)\n",
       "    (2): Dropout(p=0.5, inplace=False)\n",
       "    (3): Linear(in_features=4096, out_features=4096, bias=True)\n",
       "    (4): ReLU(inplace=True)\n",
       "    (5): Dropout(p=0.5, inplace=False)\n",
       "    (6): Linear(in_features=4096, out_features=1000, bias=True)\n",
       "  )\n",
       ")"
      ]
     },
     "execution_count": 54,
     "metadata": {},
     "output_type": "execute_result"
    }
   ],
   "source": [
    "torch.nn.Sequential(*list(model.children())[:])"
   ]
  },
  {
   "cell_type": "code",
   "execution_count": 55,
   "metadata": {},
   "outputs": [
    {
     "data": {
      "text/plain": [
       "odict_keys(['features', 'avgpool', 'classifier'])"
      ]
     },
     "execution_count": 55,
     "metadata": {},
     "output_type": "execute_result"
    }
   ],
   "source": [
    "model._modules.keys()"
   ]
  },
  {
   "cell_type": "code",
   "execution_count": 56,
   "metadata": {},
   "outputs": [
    {
     "data": {
      "text/plain": [
       "Sequential(\n",
       "  (0): Conv2d(3, 64, kernel_size=(3, 3), stride=(1, 1), padding=(1, 1))\n",
       "  (1): ReLU(inplace=True)\n",
       "  (2): Conv2d(64, 64, kernel_size=(3, 3), stride=(1, 1), padding=(1, 1))\n",
       "  (3): ReLU(inplace=True)\n",
       "  (4): MaxPool2d(kernel_size=2, stride=2, padding=0, dilation=1, ceil_mode=False)\n",
       "  (5): Conv2d(64, 128, kernel_size=(3, 3), stride=(1, 1), padding=(1, 1))\n",
       "  (6): ReLU(inplace=True)\n",
       "  (7): Conv2d(128, 128, kernel_size=(3, 3), stride=(1, 1), padding=(1, 1))\n",
       "  (8): ReLU(inplace=True)\n",
       "  (9): MaxPool2d(kernel_size=2, stride=2, padding=0, dilation=1, ceil_mode=False)\n",
       "  (10): Conv2d(128, 256, kernel_size=(3, 3), stride=(1, 1), padding=(1, 1))\n",
       "  (11): ReLU(inplace=True)\n",
       "  (12): Conv2d(256, 256, kernel_size=(3, 3), stride=(1, 1), padding=(1, 1))\n",
       "  (13): ReLU(inplace=True)\n",
       "  (14): Conv2d(256, 256, kernel_size=(3, 3), stride=(1, 1), padding=(1, 1))\n",
       "  (15): ReLU(inplace=True)\n",
       "  (16): MaxPool2d(kernel_size=2, stride=2, padding=0, dilation=1, ceil_mode=False)\n",
       "  (17): Conv2d(256, 512, kernel_size=(3, 3), stride=(1, 1), padding=(1, 1))\n",
       "  (18): ReLU(inplace=True)\n",
       "  (19): Conv2d(512, 512, kernel_size=(3, 3), stride=(1, 1), padding=(1, 1))\n",
       "  (20): ReLU(inplace=True)\n",
       "  (21): Conv2d(512, 512, kernel_size=(3, 3), stride=(1, 1), padding=(1, 1))\n",
       "  (22): ReLU(inplace=True)\n",
       "  (23): MaxPool2d(kernel_size=2, stride=2, padding=0, dilation=1, ceil_mode=False)\n",
       "  (24): Conv2d(512, 512, kernel_size=(3, 3), stride=(1, 1), padding=(1, 1))\n",
       "  (25): ReLU(inplace=True)\n",
       "  (26): Conv2d(512, 512, kernel_size=(3, 3), stride=(1, 1), padding=(1, 1))\n",
       "  (27): ReLU(inplace=True)\n",
       "  (28): Conv2d(512, 512, kernel_size=(3, 3), stride=(1, 1), padding=(1, 1))\n",
       "  (29): ReLU(inplace=True)\n",
       "  (30): MaxPool2d(kernel_size=2, stride=2, padding=0, dilation=1, ceil_mode=False)\n",
       ")"
      ]
     },
     "execution_count": 56,
     "metadata": {},
     "output_type": "execute_result"
    }
   ],
   "source": [
    "model.features"
   ]
  },
  {
   "cell_type": "code",
   "execution_count": 57,
   "metadata": {},
   "outputs": [
    {
     "data": {
      "text/plain": [
       "Conv2d(3, 64, kernel_size=(3, 3), stride=(1, 1), padding=(1, 1))"
      ]
     },
     "execution_count": 57,
     "metadata": {},
     "output_type": "execute_result"
    }
   ],
   "source": [
    "model.features[0]"
   ]
  },
  {
   "cell_type": "code",
   "execution_count": 58,
   "metadata": {},
   "outputs": [
    {
     "data": {
      "text/plain": [
       "torch.Size([1000, 4096])"
      ]
     },
     "execution_count": 58,
     "metadata": {},
     "output_type": "execute_result"
    }
   ],
   "source": [
    "model.classifier[-1].weight.shape"
   ]
  },
  {
   "cell_type": "code",
   "execution_count": 59,
   "metadata": {
    "scrolled": true
   },
   "outputs": [
    {
     "data": {
      "text/plain": [
       "1000"
      ]
     },
     "execution_count": 59,
     "metadata": {},
     "output_type": "execute_result"
    }
   ],
   "source": [
    "model.classifier[-1].out_features"
   ]
  },
  {
   "cell_type": "code",
   "execution_count": 60,
   "metadata": {},
   "outputs": [
    {
     "name": "stdout",
     "output_type": "stream",
     "text": [
      "----------------------------------------------------------------\n",
      "        Layer (type)               Output Shape         Param #\n",
      "================================================================\n",
      "            Conv2d-1         [-1, 64, 224, 224]           1,792\n",
      "              ReLU-2         [-1, 64, 224, 224]               0\n",
      "            Conv2d-3         [-1, 64, 224, 224]          36,928\n",
      "              ReLU-4         [-1, 64, 224, 224]               0\n",
      "         MaxPool2d-5         [-1, 64, 112, 112]               0\n",
      "            Conv2d-6        [-1, 128, 112, 112]          73,856\n",
      "              ReLU-7        [-1, 128, 112, 112]               0\n",
      "            Conv2d-8        [-1, 128, 112, 112]         147,584\n",
      "              ReLU-9        [-1, 128, 112, 112]               0\n",
      "        MaxPool2d-10          [-1, 128, 56, 56]               0\n",
      "           Conv2d-11          [-1, 256, 56, 56]         295,168\n",
      "             ReLU-12          [-1, 256, 56, 56]               0\n",
      "           Conv2d-13          [-1, 256, 56, 56]         590,080\n",
      "             ReLU-14          [-1, 256, 56, 56]               0\n",
      "           Conv2d-15          [-1, 256, 56, 56]         590,080\n",
      "             ReLU-16          [-1, 256, 56, 56]               0\n",
      "        MaxPool2d-17          [-1, 256, 28, 28]               0\n",
      "           Conv2d-18          [-1, 512, 28, 28]       1,180,160\n",
      "             ReLU-19          [-1, 512, 28, 28]               0\n",
      "           Conv2d-20          [-1, 512, 28, 28]       2,359,808\n",
      "             ReLU-21          [-1, 512, 28, 28]               0\n",
      "           Conv2d-22          [-1, 512, 28, 28]       2,359,808\n",
      "             ReLU-23          [-1, 512, 28, 28]               0\n",
      "        MaxPool2d-24          [-1, 512, 14, 14]               0\n",
      "           Conv2d-25          [-1, 512, 14, 14]       2,359,808\n",
      "             ReLU-26          [-1, 512, 14, 14]               0\n",
      "           Conv2d-27          [-1, 512, 14, 14]       2,359,808\n",
      "             ReLU-28          [-1, 512, 14, 14]               0\n",
      "           Conv2d-29          [-1, 512, 14, 14]       2,359,808\n",
      "             ReLU-30          [-1, 512, 14, 14]               0\n",
      "        MaxPool2d-31            [-1, 512, 7, 7]               0\n",
      "AdaptiveAvgPool2d-32            [-1, 512, 7, 7]               0\n",
      "           Linear-33                 [-1, 4096]     102,764,544\n",
      "             ReLU-34                 [-1, 4096]               0\n",
      "          Dropout-35                 [-1, 4096]               0\n",
      "           Linear-36                 [-1, 4096]      16,781,312\n",
      "             ReLU-37                 [-1, 4096]               0\n",
      "          Dropout-38                 [-1, 4096]               0\n",
      "           Linear-39                 [-1, 1000]       4,097,000\n",
      "================================================================\n",
      "Total params: 138,357,544\n",
      "Trainable params: 138,357,544\n",
      "Non-trainable params: 0\n",
      "----------------------------------------------------------------\n",
      "Input size (MB): 0.57\n",
      "Forward/backward pass size (MB): 218.78\n",
      "Params size (MB): 527.79\n",
      "Estimated Total Size (MB): 747.15\n",
      "----------------------------------------------------------------\n"
     ]
    }
   ],
   "source": [
    "model = model.to(device)\n",
    "summary(model, input_size=(3, 224, 224))"
   ]
  },
  {
   "cell_type": "markdown",
   "metadata": {},
   "source": [
    "## 预测"
   ]
  },
  {
   "cell_type": "code",
   "execution_count": 61,
   "metadata": {},
   "outputs": [
    {
     "name": "stdout",
     "output_type": "stream",
     "text": [
      "tensor([1.2919e-07, 1.5584e-07, 1.4383e-08, 3.3418e-08, 1.0265e-08, 4.9484e-07,\n",
      "        3.7471e-09, 1.5671e-06, 4.1735e-05, 1.9252e-07, 1.1889e-06, 8.8801e-07,\n",
      "        1.7900e-07, 2.2456e-07, 1.6816e-07, 5.1253e-07, 5.8631e-07, 3.2773e-06,\n",
      "        1.4087e-07, 6.9014e-08, 2.2485e-08, 1.1658e-06, 1.4162e-08, 1.9906e-07,\n",
      "        5.3443e-08, 1.3154e-07, 5.0066e-08, 2.2081e-08, 4.4614e-08, 8.9073e-08,\n",
      "        2.1973e-07, 8.9349e-08, 4.9333e-07, 2.0631e-08, 2.4685e-08, 1.3508e-07,\n",
      "        2.5747e-07, 1.1297e-07, 7.7027e-07, 6.1187e-07, 1.0071e-07, 9.4148e-08,\n",
      "        1.4972e-07, 7.9715e-07, 7.1481e-08, 2.0998e-07, 3.1283e-07, 3.9553e-07,\n",
      "        4.4294e-08, 2.4552e-08, 2.4496e-08, 8.8340e-07, 9.2596e-08, 4.1781e-08,\n",
      "        4.0205e-07, 8.5802e-08, 1.0914e-07, 5.9416e-08, 1.0600e-07, 2.6743e-07,\n",
      "        9.5958e-07, 8.0703e-08, 3.8257e-07, 2.2054e-06, 1.3449e-07, 7.1887e-08,\n",
      "        4.2432e-06, 1.6962e-07, 6.2754e-07, 5.3072e-08, 9.3610e-08, 5.3698e-08,\n",
      "        5.1644e-08, 1.3515e-07, 5.8192e-08, 1.9325e-08, 2.7847e-08, 6.5745e-08,\n",
      "        5.9342e-07, 2.7813e-07, 1.9180e-06, 1.0239e-07, 5.3456e-06, 1.2177e-05,\n",
      "        4.3103e-07, 5.7495e-07, 5.2160e-06, 1.4689e-08, 3.0122e-08, 2.8346e-07,\n",
      "        4.1593e-08, 1.2669e-07, 4.1556e-08, 6.8166e-08, 1.0363e-07, 1.3324e-08,\n",
      "        1.3437e-08, 1.2339e-07, 7.9702e-08, 1.9192e-07, 1.3882e-08, 1.2632e-08,\n",
      "        4.1285e-07, 2.3656e-07, 6.8810e-06, 2.6600e-07, 1.7395e-05, 2.7701e-08,\n",
      "        1.1048e-06, 2.2619e-07, 2.8407e-07, 1.7504e-07, 2.0810e-06, 2.3203e-06,\n",
      "        5.6135e-07, 1.4290e-06, 5.6658e-08, 4.9490e-06, 3.5999e-08, 7.9132e-09,\n",
      "        1.9984e-09, 7.4685e-09, 1.1068e-08, 8.2414e-09, 6.2300e-08, 1.6466e-08,\n",
      "        1.1873e-07, 7.8570e-09, 3.9471e-09, 5.0324e-09, 1.6684e-08, 2.6897e-09,\n",
      "        2.3260e-08, 4.6564e-07, 1.3183e-08, 6.3596e-08, 6.5004e-08, 2.0500e-08,\n",
      "        3.9510e-07, 2.5989e-08, 2.5207e-08, 2.1070e-08, 3.9331e-08, 2.5985e-08,\n",
      "        6.0261e-09, 4.5825e-07, 3.6045e-08, 4.9930e-09, 2.4490e-08, 2.2194e-08,\n",
      "        1.2969e-06, 3.0772e-03, 1.0734e-04, 9.1892e-07, 1.7012e-04, 6.0335e-06,\n",
      "        8.5704e-06, 8.4868e-05, 4.1212e-05, 2.1284e-06, 4.6178e-06, 6.9030e-07,\n",
      "        8.2221e-07, 4.5157e-06, 5.8756e-08, 1.1564e-07, 7.1600e-08, 1.5592e-07,\n",
      "        1.5888e-05, 1.8815e-07, 8.0842e-08, 1.7633e-06, 2.1038e-07, 3.1996e-05,\n",
      "        1.2566e-05, 4.0838e-07, 3.9152e-07, 7.7175e-09, 2.8282e-07, 9.0539e-07,\n",
      "        1.3213e-06, 4.1089e-08, 2.5488e-06, 1.0346e-07, 2.0940e-06, 6.4969e-05,\n",
      "        1.8000e-03, 4.9053e-05, 3.6459e-06, 6.1119e-06, 1.1032e-06, 1.2077e-06,\n",
      "        6.8469e-06, 1.0338e-04, 3.0070e-06, 1.4513e-05, 8.5645e-07, 3.3132e-07,\n",
      "        3.9356e-07, 4.4673e-06, 1.8800e-05, 5.5211e-06, 3.9420e-06, 8.0128e-06,\n",
      "        3.6532e-06, 3.2056e-07, 4.8051e-08, 1.6090e-04, 1.0317e-05, 1.2520e-06,\n",
      "        1.9368e-08, 1.5015e-06, 2.4736e-07, 1.8050e-06, 2.3333e-07, 2.4851e-06,\n",
      "        4.3893e-06, 5.6660e-07, 9.0816e-06, 1.3538e-05, 1.7856e-05, 4.6925e-08,\n",
      "        2.0654e-06, 1.2471e-05, 1.5372e-06, 3.8860e-05, 1.4421e-06, 8.2881e-05,\n",
      "        8.5444e-08, 4.9143e-07, 1.0548e-05, 8.6509e-05, 1.3671e-05, 2.1063e-07,\n",
      "        2.0250e-06, 4.5284e-05, 8.0630e-07, 9.3938e-06, 5.3007e-06, 1.8396e-06,\n",
      "        1.0269e-05, 1.3307e-06, 1.7329e-06, 4.8789e-06, 3.4058e-06, 1.4729e-04,\n",
      "        5.6359e-07, 4.8589e-06, 3.7006e-04, 3.2111e-05, 1.2524e-04, 1.2059e-06,\n",
      "        1.0969e-06, 1.5527e-04, 4.3481e-06, 3.1466e-06, 9.1044e-07, 1.8462e-06,\n",
      "        1.3875e-05, 5.4844e-04, 3.7449e-04, 9.4702e-06, 3.2707e-04, 4.0202e-03,\n",
      "        1.9934e-03, 2.0653e-06, 7.7344e-07, 1.2957e-07, 1.0286e-06, 9.2308e-06,\n",
      "        3.0598e-05, 1.8224e-05, 7.6439e-06, 4.1884e-04, 4.8163e-04, 2.9553e-06,\n",
      "        1.6272e-05, 1.1914e-03, 1.3087e-03, 9.2349e-05, 2.1558e-04, 1.5950e-01,\n",
      "        1.4513e-01, 2.0081e-02, 8.9473e-03, 6.2408e-01, 8.4160e-04, 1.2015e-02,\n",
      "        4.5320e-05, 3.4715e-06, 1.3184e-04, 1.8428e-04, 2.2614e-03, 2.1420e-05,\n",
      "        2.6533e-06, 3.1082e-07, 1.6002e-06, 4.2214e-08, 1.6100e-05, 1.9337e-05,\n",
      "        1.4044e-08, 4.8909e-08, 5.4352e-09, 1.0772e-08, 3.6119e-08, 5.2013e-09,\n",
      "        2.1293e-08, 4.5224e-09, 1.6275e-08, 1.8342e-07, 3.5001e-08, 9.1616e-08,\n",
      "        1.9022e-07, 3.2337e-08, 8.1985e-08, 2.4233e-08, 8.4553e-08, 2.9648e-08,\n",
      "        8.0181e-08, 2.6330e-08, 7.8226e-09, 1.5969e-07, 2.3130e-06, 5.6783e-08,\n",
      "        7.7176e-08, 2.0980e-07, 4.2259e-07, 3.3092e-07, 7.5894e-08, 2.5877e-08,\n",
      "        1.8924e-04, 8.9358e-04, 1.9316e-04, 1.0503e-04, 6.0046e-07, 5.1213e-04,\n",
      "        3.6449e-06, 6.5942e-06, 1.8038e-05, 4.1016e-06, 1.3453e-05, 1.3343e-06,\n",
      "        7.8043e-07, 2.7705e-07, 3.1938e-07, 1.9764e-07, 1.4357e-08, 7.2624e-08,\n",
      "        8.9318e-08, 2.8286e-07, 8.5150e-07, 1.2613e-06, 6.7982e-06, 2.3261e-05,\n",
      "        4.7775e-07, 1.2127e-05, 9.5343e-04, 7.3018e-05, 3.4527e-05, 5.1646e-05,\n",
      "        9.3236e-06, 4.9525e-06, 2.9783e-06, 7.0833e-07, 2.3987e-07, 1.0063e-06,\n",
      "        5.4899e-08, 5.0030e-07, 1.3823e-05, 3.1617e-07, 4.8502e-06, 1.2007e-05,\n",
      "        1.7727e-07, 5.8070e-05, 3.8855e-06, 8.0988e-08, 9.7284e-07, 3.2964e-06,\n",
      "        2.0576e-06, 2.8774e-07, 3.2869e-06, 9.3778e-07, 3.3552e-06, 8.3729e-06,\n",
      "        2.7978e-05, 5.8847e-08, 4.7131e-08, 9.3106e-06, 4.0132e-07, 5.3865e-08,\n",
      "        1.4052e-08, 4.0472e-08, 1.2959e-07, 2.6607e-08, 3.6798e-08, 3.7023e-08,\n",
      "        1.6281e-08, 1.1304e-07, 7.6886e-07, 4.7401e-07, 2.4578e-07, 1.8530e-07,\n",
      "        8.3187e-07, 1.4315e-08, 4.0534e-08, 2.3793e-08, 4.0072e-07, 8.2399e-09,\n",
      "        4.4817e-07, 2.0705e-06, 4.7775e-08, 2.8308e-07, 4.7426e-05, 3.6058e-08,\n",
      "        1.0754e-06, 1.6328e-06, 1.5412e-07, 1.9232e-06, 9.6761e-07, 9.0201e-06,\n",
      "        3.9855e-07, 3.5708e-07, 2.5976e-07, 3.7360e-08, 3.1089e-08, 3.6057e-08,\n",
      "        1.2325e-06, 5.5659e-05, 7.5039e-06, 9.0947e-06, 1.1416e-07, 1.0368e-06,\n",
      "        7.4596e-08, 3.8324e-07, 8.1966e-06, 6.0644e-06, 2.9528e-08, 5.5007e-07,\n",
      "        6.0197e-06, 3.6305e-06, 2.4913e-06, 4.7471e-07, 5.1528e-07, 7.3725e-07,\n",
      "        2.7929e-08, 4.0980e-07, 1.8208e-06, 5.7282e-07, 1.9064e-07, 1.8209e-08,\n",
      "        1.8343e-08, 3.0136e-07, 3.7150e-07, 8.6781e-06, 1.0771e-06, 4.1663e-06,\n",
      "        1.8043e-07, 5.7476e-05, 6.3996e-08, 1.4909e-07, 2.5629e-07, 2.5517e-07,\n",
      "        7.2955e-06, 2.8595e-04, 8.4383e-07, 6.0338e-07, 8.9761e-09, 1.0273e-08,\n",
      "        8.1137e-08, 2.1376e-05, 1.3689e-04, 4.5961e-08, 2.6488e-07, 1.2171e-06,\n",
      "        1.3595e-07, 1.0350e-07, 3.3035e-07, 3.0885e-07, 1.6004e-04, 6.7554e-07,\n",
      "        6.3356e-08, 1.9148e-07, 1.3160e-07, 1.0329e-07, 3.2730e-07, 1.5765e-07,\n",
      "        2.4577e-08, 1.6486e-06, 1.1600e-06, 7.5582e-07, 8.8790e-08, 2.7290e-07,\n",
      "        1.4661e-06, 8.9964e-06, 2.3817e-07, 2.7387e-07, 4.6516e-07, 4.7893e-07,\n",
      "        1.9855e-07, 3.3689e-07, 3.2283e-08, 9.2353e-07, 1.6755e-06, 5.4000e-06,\n",
      "        4.2061e-06, 6.6743e-07, 4.4256e-06, 5.8258e-07, 1.1151e-05, 2.6983e-07,\n",
      "        7.8899e-08, 1.0417e-07, 4.4602e-07, 3.1767e-07, 3.3715e-05, 3.2590e-06,\n",
      "        2.3581e-06, 2.2608e-07, 1.9161e-07, 5.1082e-05, 1.3507e-06, 2.2255e-06,\n",
      "        3.7684e-06, 1.9799e-07, 4.4112e-07, 1.1070e-08, 8.5818e-07, 1.3853e-06,\n",
      "        2.3537e-07, 1.5928e-06, 1.7804e-07, 4.0418e-07, 2.0003e-06, 1.6780e-07,\n",
      "        6.1755e-06, 1.4909e-08, 4.4140e-08, 1.7133e-07, 1.0234e-07, 1.0106e-03,\n",
      "        1.1585e-07, 5.8271e-07, 2.0407e-06, 7.7658e-05, 2.3012e-07, 1.2730e-06,\n",
      "        2.0523e-07, 3.2389e-09, 1.4210e-06, 6.8696e-07, 2.9893e-07, 4.3107e-06,\n",
      "        2.2304e-05, 5.5788e-06, 9.5059e-09, 1.4655e-08, 1.2863e-05, 3.6038e-07,\n",
      "        5.9046e-07, 1.6434e-06, 5.5775e-08, 5.5653e-07, 3.0546e-07, 1.1095e-06,\n",
      "        2.7739e-07, 1.6190e-07, 1.0077e-06, 1.0867e-06, 1.2811e-06, 6.8092e-08,\n",
      "        3.5182e-07, 9.0373e-09, 4.1527e-06, 2.0584e-07, 7.1826e-06, 2.1494e-07,\n",
      "        2.9775e-08, 5.3258e-07, 2.7140e-07, 1.6161e-07, 1.3944e-06, 3.2008e-08,\n",
      "        4.5841e-07, 6.7150e-07, 3.1696e-06, 1.4316e-06, 1.0237e-07, 3.0493e-07,\n",
      "        9.4465e-05, 6.0068e-08, 2.2669e-06, 7.8441e-07, 1.7550e-07, 2.3668e-06,\n",
      "        5.3201e-07, 6.1303e-08, 5.7721e-07, 1.0541e-07, 4.2128e-07, 4.1521e-07,\n",
      "        8.5212e-07, 2.2611e-07, 2.1021e-06, 1.0227e-07, 1.7642e-06, 3.0871e-07,\n",
      "        6.7686e-07, 1.1428e-06, 2.4706e-06, 4.0269e-08, 4.1785e-07, 5.5117e-06,\n",
      "        1.0476e-08, 2.5838e-07, 1.2449e-06, 6.4546e-07, 4.1581e-07, 6.4176e-08,\n",
      "        5.6288e-07, 4.0992e-06, 4.2134e-05, 7.3792e-07, 2.2630e-05, 6.7804e-07,\n",
      "        1.4253e-07, 4.3614e-08, 6.0313e-06, 2.7122e-08, 1.8591e-07, 3.9217e-06,\n",
      "        1.2890e-06, 5.4292e-06, 4.0146e-07, 3.5474e-06, 1.8982e-07, 2.2162e-06,\n",
      "        1.2630e-06, 9.2115e-07, 5.1091e-07, 1.0033e-06, 6.6622e-07, 1.2542e-06,\n",
      "        7.2816e-08, 9.0943e-07, 5.3218e-07, 3.2894e-08, 2.6176e-06, 1.6716e-06,\n",
      "        3.9999e-07, 8.7458e-07, 2.3571e-07, 1.3369e-07, 7.0413e-08, 4.4442e-05,\n",
      "        2.6582e-08, 2.6118e-07, 9.7708e-08, 5.0778e-07, 8.9134e-07, 3.6893e-06,\n",
      "        3.7057e-08, 1.4017e-08, 3.8885e-07, 8.3881e-08, 8.6154e-06, 2.4966e-07,\n",
      "        2.4971e-06, 2.7101e-07, 5.0831e-08, 1.6024e-07, 1.5667e-06, 3.8755e-08,\n",
      "        1.0287e-07, 3.1827e-05, 2.3335e-06, 2.3193e-08, 4.7659e-04, 1.2386e-06,\n",
      "        3.4285e-07, 5.6022e-07, 1.6139e-05, 3.6144e-06, 2.5783e-06, 1.4829e-06,\n",
      "        6.5452e-07, 4.2027e-09, 4.9422e-07, 8.4235e-08, 1.5084e-07, 1.7725e-07,\n",
      "        8.3858e-08, 6.3440e-08, 6.9076e-07, 8.0081e-08, 1.2193e-08, 1.4777e-07,\n",
      "        4.4027e-07, 1.7489e-06, 1.0699e-07, 2.8537e-06, 5.5929e-05, 1.1731e-07,\n",
      "        5.8069e-07, 1.7476e-06, 1.8929e-07, 6.5596e-09, 5.4327e-07, 6.0048e-08,\n",
      "        4.3907e-05, 1.7220e-07, 2.0790e-06, 4.6295e-06, 7.3293e-07, 8.6604e-07,\n",
      "        3.5607e-07, 1.4946e-06, 6.8444e-07, 8.8077e-08, 2.2504e-07, 2.9258e-06,\n",
      "        4.0494e-06, 3.1740e-06, 4.1948e-05, 2.9985e-06, 2.2215e-07, 1.7408e-05,\n",
      "        5.3607e-08, 1.3065e-07, 1.8925e-05, 5.3154e-06, 2.3678e-08, 4.5533e-06,\n",
      "        6.2626e-08, 2.5234e-06, 1.2208e-08, 1.9125e-07, 1.4705e-06, 9.2776e-07,\n",
      "        1.5704e-04, 4.7002e-07, 7.4828e-07, 2.3543e-06, 3.5467e-06, 6.2388e-08,\n",
      "        2.6753e-06, 6.0857e-08, 7.5888e-07, 1.5842e-06, 1.8228e-06, 2.2597e-06,\n",
      "        1.0777e-05, 4.0663e-08, 3.5120e-08, 1.0191e-05, 1.2453e-06, 7.4891e-08,\n",
      "        1.2567e-05, 9.0600e-08, 4.4087e-07, 2.4338e-07, 1.6500e-06, 4.0201e-05,\n",
      "        4.3775e-08, 2.1955e-07, 2.5391e-07, 9.1310e-06, 3.1526e-07, 3.9992e-06,\n",
      "        6.5046e-07, 6.1589e-06, 7.2924e-07, 8.4307e-08, 8.3731e-07, 4.3028e-05,\n",
      "        7.4876e-07, 3.3061e-06, 2.4465e-07, 1.8791e-07, 2.0851e-06, 3.1282e-08,\n",
      "        2.3122e-07, 1.0070e-07, 1.6622e-05, 7.7530e-06, 1.6152e-06, 4.6947e-07,\n",
      "        1.9748e-07, 1.1271e-07, 2.0717e-07, 5.5906e-06, 4.2597e-05, 2.0455e-07,\n",
      "        8.3617e-07, 7.5494e-07, 3.6523e-06, 1.0375e-07, 2.7381e-07, 2.0791e-05,\n",
      "        1.3302e-07, 4.5156e-06, 5.7888e-07, 6.7990e-08, 5.5968e-08, 6.3078e-08,\n",
      "        7.0972e-06, 1.0950e-05, 7.6161e-06, 2.2176e-07, 1.9561e-06, 1.7520e-06,\n",
      "        1.9440e-06, 2.6224e-05, 3.2633e-08, 3.5535e-06, 5.8448e-08, 1.8856e-07,\n",
      "        1.4018e-07, 1.3466e-07, 5.8408e-06, 8.4512e-08, 7.7493e-09, 1.0666e-08,\n",
      "        2.0015e-07, 3.8048e-07, 7.7988e-07, 4.0819e-07, 1.4053e-07, 3.5335e-05,\n",
      "        4.1848e-07, 4.3919e-08, 2.1064e-07, 1.4864e-05, 2.1670e-06, 3.5484e-08,\n",
      "        3.5866e-07, 1.2751e-05, 2.2848e-07, 7.5959e-07, 6.0646e-06, 1.1851e-07,\n",
      "        1.6854e-06, 2.4132e-06, 8.1269e-07, 2.1464e-06, 4.4590e-07, 1.2536e-06,\n",
      "        1.1162e-05, 5.5175e-08, 1.1517e-07, 1.7138e-06, 4.2221e-06, 3.9484e-06,\n",
      "        6.6861e-04, 7.2365e-08, 8.9073e-07, 5.0811e-05, 2.7924e-08, 1.3872e-06,\n",
      "        3.0179e-06, 7.6469e-07, 3.9535e-07, 6.5058e-06, 2.5936e-06, 1.9399e-06,\n",
      "        1.6667e-08, 6.1086e-07, 5.9877e-08, 9.3784e-08, 1.7329e-06, 1.1518e-07,\n",
      "        4.7896e-07, 3.9990e-07, 6.0558e-07, 2.8601e-07, 1.6397e-08, 1.2323e-07,\n",
      "        2.1567e-05, 1.9577e-07, 8.3508e-07, 3.3694e-06, 3.9938e-07, 1.8063e-07,\n",
      "        1.0531e-06, 6.1094e-05, 1.6630e-07, 8.6079e-06, 3.0245e-07, 1.2070e-07,\n",
      "        5.2885e-08, 1.4308e-07, 1.0658e-07, 1.2978e-07, 7.8124e-07, 1.2751e-06,\n",
      "        1.0399e-06, 2.4145e-08, 2.0195e-06, 2.4499e-06, 7.4975e-06, 2.0710e-05,\n",
      "        1.1212e-07, 9.3050e-07, 9.8903e-07, 8.0833e-07, 5.7141e-05, 4.6627e-06,\n",
      "        1.8768e-06, 4.3304e-06, 6.2377e-09, 1.0205e-06, 2.4016e-06, 1.1720e-06,\n",
      "        2.0659e-06, 6.8311e-08, 1.8670e-07, 3.9105e-08, 2.7632e-06, 1.3926e-06,\n",
      "        3.8398e-06, 1.4672e-07, 1.1331e-07, 1.4723e-06, 7.3656e-08, 1.6430e-07,\n",
      "        1.3474e-07, 2.2275e-07, 1.9890e-07, 1.5388e-07, 1.5824e-07, 5.1890e-06,\n",
      "        5.9640e-07, 3.6008e-07, 6.6512e-07, 7.0459e-08, 2.3913e-07, 3.2706e-07,\n",
      "        9.6233e-07, 3.4695e-05, 5.0661e-08, 2.5587e-06, 2.7929e-07, 1.9782e-07,\n",
      "        4.3530e-06, 4.9436e-07, 4.5053e-07, 1.2615e-07, 1.0910e-06, 5.5832e-07,\n",
      "        2.6570e-06, 3.1110e-07, 1.3912e-06, 1.4988e-06, 4.6821e-07, 8.7438e-06,\n",
      "        1.3534e-06, 1.2172e-06, 1.1645e-07, 4.6581e-07, 8.9180e-06, 1.8457e-07,\n",
      "        1.8449e-07, 2.7749e-07, 5.2462e-08, 4.3582e-08, 1.4481e-06, 7.5918e-08,\n",
      "        2.3523e-07, 8.5774e-07, 1.8973e-05, 5.2042e-06, 2.5463e-08, 1.7080e-06,\n",
      "        6.6610e-08, 1.0380e-07, 3.9380e-07, 6.4152e-07, 1.1656e-07, 6.8039e-07,\n",
      "        2.9595e-06, 1.7496e-07, 1.7024e-08, 1.5017e-07, 5.5776e-08, 1.1501e-08,\n",
      "        1.3935e-07, 5.2816e-07, 1.5256e-07, 1.1581e-04, 6.9389e-06, 6.4072e-08,\n",
      "        9.4484e-07, 2.8992e-07, 3.0849e-07, 2.5420e-07, 8.5212e-08, 1.8860e-06,\n",
      "        8.3390e-07, 2.4303e-08, 6.1962e-05, 3.1714e-06], device='cuda:0')\n"
     ]
    }
   ],
   "source": [
    "from PIL import Image\n",
    "from torchvision import transforms\n",
    "\n",
    "filename = './images_test/cat.jpg'\n",
    "input_image = Image.open(filename)\n",
    "\n",
    "transform = transforms.Compose([\n",
    "    transforms.Resize((224, 224)),\n",
    "    transforms.ToTensor(),\n",
    "    transforms.Normalize(mean=[0.485, 0.456, 0.406], \n",
    "                         std=[0.229, 0.224, 0.225])\n",
    "])\n",
    "input_tensor = transform(input_image)\n",
    "input_batch = input_tensor.unsqueeze(0).to(device) # 增加一维(笔数)\n",
    "\n",
    "# 预测\n",
    "model.eval()\n",
    "with torch.no_grad():\n",
    "    output = model(input_batch)\n",
    "\n",
    "# 转成机率\n",
    "probabilities = torch.nn.functional.softmax(output[0], dim=0)\n",
    "print(probabilities)"
   ]
  },
  {
   "cell_type": "code",
   "execution_count": 62,
   "metadata": {},
   "outputs": [
    {
     "name": "stdout",
     "output_type": "stream",
     "text": [
      "285: 0.6240770816802979\n"
     ]
    }
   ],
   "source": [
    "# 显示最大机率的类别代码\n",
    "print(f'{torch.argmax(probabilities).item()}: {torch.max(probabilities).item()}')"
   ]
  },
  {
   "cell_type": "code",
   "execution_count": 63,
   "metadata": {},
   "outputs": [
    {
     "data": {
      "text/plain": [
       "'Egyptian cat'"
      ]
     },
     "execution_count": 63,
     "metadata": {},
     "output_type": "execute_result"
    }
   ],
   "source": [
    "# 显示最大机率的类别名称\n",
    "with open(\"imagenet.categories\", \"r\") as f:\n",
    "    # 取第一栏\n",
    "    categories = [s.strip().split(',')[0] for s in f.readlines()]\n",
    "categories[torch.argmax(probabilities).item()]"
   ]
  },
  {
   "cell_type": "code",
   "execution_count": 64,
   "metadata": {},
   "outputs": [
    {
     "name": "stdout",
     "output_type": "stream",
     "text": [
      "292 tiger: 0.9213505983352661\n"
     ]
    }
   ],
   "source": [
    "filename = './images_test/tiger2.jpg'\n",
    "input_image = Image.open(filename)\n",
    "\n",
    "transform = transforms.Compose([\n",
    "    transforms.Resize((224, 224)),\n",
    "    transforms.ToTensor(),\n",
    "    transforms.Normalize(mean=[0.485, 0.456, 0.406], \n",
    "                         std=[0.229, 0.224, 0.225])\n",
    "])\n",
    "input_tensor = transform(input_image)\n",
    "input_batch = input_tensor.unsqueeze(0).to(device) # 增加一维(笔数)\n",
    "\n",
    "# 预测\n",
    "model.eval()\n",
    "with torch.no_grad():\n",
    "    output = model(input_batch)\n",
    "\n",
    "# 转成机率\n",
    "probabilities = torch.nn.functional.softmax(output[0], dim=0)\n",
    "max_item = torch.argmax(probabilities).item()\n",
    "print(f'{max_item} {categories[max_item]}: {torch.max(probabilities).item()}')"
   ]
  },
  {
   "cell_type": "markdown",
   "metadata": {},
   "source": [
    "## 使用 resnet50 模型"
   ]
  },
  {
   "cell_type": "code",
   "execution_count": 65,
   "metadata": {},
   "outputs": [],
   "source": [
    "# 显示最大机率的类别名称\n",
    "with open(\"imagenet_classes.txt\", \"r\") as f:\n",
    "    # 取第一栏\n",
    "    categories = [s.strip() for s in f.readlines()]"
   ]
  },
  {
   "cell_type": "code",
   "execution_count": 66,
   "metadata": {},
   "outputs": [
    {
     "name": "stdout",
     "output_type": "stream",
     "text": [
      "285 Egyptian cat: 0.26286613941192627\n"
     ]
    }
   ],
   "source": [
    "# 载入 resnet50 模型\n",
    "model = models.resnet50(pretrained=True).to(device)\n",
    "\n",
    "# 预测\n",
    "filename = './images_test/cat.jpg'\n",
    "input_image = Image.open(filename)\n",
    "\n",
    "transform = transforms.Compose([\n",
    "    transforms.Resize((224, 224)),\n",
    "    transforms.ToTensor(),\n",
    "    transforms.Normalize(mean=[0.485, 0.456, 0.406], \n",
    "                         std=[0.229, 0.224, 0.225])\n",
    "])\n",
    "input_tensor = transform(input_image)\n",
    "input_batch = input_tensor.unsqueeze(0).to(device) # 增加一维(笔数)\n",
    "\n",
    "model.eval()\n",
    "with torch.no_grad():\n",
    "    output = model(input_batch)\n",
    "\n",
    "# 转成机率\n",
    "probabilities = torch.nn.functional.softmax(output[0], dim=0)\n",
    "max_item = torch.argmax(probabilities).item()\n",
    "print(f'{max_item} {categories[max_item]}: {torch.max(probabilities).item()}')"
   ]
  },
  {
   "cell_type": "markdown",
   "metadata": {},
   "source": [
    "## 官网程式，转换先Resize(256)，再CenterCrop(224)"
   ]
  },
  {
   "cell_type": "code",
   "execution_count": 67,
   "metadata": {},
   "outputs": [
    {
     "name": "stdout",
     "output_type": "stream",
     "text": [
      "281 tabby: 0.2819097936153412\n"
     ]
    }
   ],
   "source": [
    "# 载入 resnet50 模型\n",
    "model = models.resnet50(pretrained=True).to(device)\n",
    "\n",
    "# 预测\n",
    "filename = './images_test/cat.jpg'\n",
    "input_image = Image.open(filename)\n",
    "\n",
    "transform = transforms.Compose([\n",
    "    transforms.Resize(256),\n",
    "    transforms.CenterCrop(224),\n",
    "    transforms.ToTensor(),\n",
    "    transforms.Normalize(mean=[0.485, 0.456, 0.406], \n",
    "                         std=[0.229, 0.224, 0.225])\n",
    "])\n",
    "input_tensor = transform(input_image)\n",
    "input_batch = input_tensor.unsqueeze(0).to(device) # 增加一维(笔数)\n",
    "\n",
    "model.eval()\n",
    "with torch.no_grad():\n",
    "    output = model(input_batch)\n",
    "\n",
    "# 转成机率\n",
    "probabilities = torch.nn.functional.softmax(output[0], dim=0)\n",
    "max_item = torch.argmax(probabilities).item()\n",
    "print(f'{max_item} {categories[max_item]}: {torch.max(probabilities).item()}')"
   ]
  },
  {
   "cell_type": "code",
   "execution_count": 68,
   "metadata": {},
   "outputs": [
    {
     "name": "stdout",
     "output_type": "stream",
     "text": [
      "tabby       :0.2819097936153412\n",
      "tiger cat   :0.19214917719364166\n",
      "Egyptian cat:0.18028706312179565\n",
      "lynx        :0.17349961400032043\n",
      "hamper      :0.01312144286930561\n"
     ]
    }
   ],
   "source": [
    "# 显示前5名\n",
    "top5_prob, top5_catid = torch.topk(probabilities, 5)\n",
    "for i in range(top5_prob.size(0)):\n",
    "    print(f'{categories[top5_catid[i]]:12s}:{top5_prob[i].item()}')"
   ]
  },
  {
   "cell_type": "code",
   "execution_count": 69,
   "metadata": {},
   "outputs": [
    {
     "data": {
      "text/plain": [
       "0.9999999149172965"
      ]
     },
     "execution_count": 69,
     "metadata": {},
     "output_type": "execute_result"
    }
   ],
   "source": [
    "sum(probabilities.cpu().numpy())"
   ]
  },
  {
   "cell_type": "code",
   "execution_count": 70,
   "metadata": {},
   "outputs": [
    {
     "data": {
      "text/plain": [
       "array([281, 282, 285, 287, 588], dtype=int64)"
      ]
     },
     "execution_count": 70,
     "metadata": {},
     "output_type": "execute_result"
    }
   ],
   "source": [
    "import numpy as np\n",
    "probabilities.cpu().numpy().argsort()[-5:][::-1]"
   ]
  },
  {
   "cell_type": "code",
   "execution_count": 71,
   "metadata": {},
   "outputs": [
    {
     "data": {
      "text/plain": [
       "array(['tabby', 'tiger cat', 'Egyptian cat', 'lynx', 'hamper'],\n",
       "      dtype='<U30')"
      ]
     },
     "execution_count": 71,
     "metadata": {},
     "output_type": "execute_result"
    }
   ],
   "source": [
    "np.array(categories)[probabilities.cpu().numpy().argsort()[-5:][::-1]]"
   ]
  },
  {
   "cell_type": "code",
   "execution_count": 72,
   "metadata": {},
   "outputs": [
    {
     "name": "stdout",
     "output_type": "stream",
     "text": [
      "292 tiger: 0.9283719062805176\n"
     ]
    }
   ],
   "source": [
    "filename = './images_test/tiger2.jpg'\n",
    "input_image = Image.open(filename)\n",
    "\n",
    "transform = transforms.Compose([\n",
    "    transforms.Resize((224, 224)),\n",
    "    transforms.ToTensor(),\n",
    "    transforms.Normalize(mean=[0.485, 0.456, 0.406], \n",
    "                         std=[0.229, 0.224, 0.225])\n",
    "])\n",
    "input_tensor = transform(input_image)\n",
    "input_batch = input_tensor.unsqueeze(0).to(device) # 增加一维(笔数)\n",
    "\n",
    "# 预测\n",
    "model.eval()\n",
    "with torch.no_grad():\n",
    "    output = model(input_batch)\n",
    "\n",
    "# 转成机率\n",
    "probabilities = torch.nn.functional.softmax(output[0], dim=0)\n",
    "max_item = torch.argmax(probabilities).item()\n",
    "print(f'{max_item} {categories[max_item]}: {torch.max(probabilities).item()}')"
   ]
  },
  {
   "cell_type": "code",
   "execution_count": null,
   "metadata": {},
   "outputs": [],
   "source": []
  }
 ],
 "metadata": {
  "kernelspec": {
   "display_name": "Python 3 (ipykernel)",
   "language": "python",
   "name": "python3"
  },
  "language_info": {
   "codemirror_mode": {
    "name": "ipython",
    "version": 3
   },
   "file_extension": ".py",
   "mimetype": "text/x-python",
   "name": "python",
   "nbconvert_exporter": "python",
   "pygments_lexer": "ipython3",
   "version": "3.9.7"
  }
 },
 "nbformat": 4,
 "nbformat_minor": 4
}
