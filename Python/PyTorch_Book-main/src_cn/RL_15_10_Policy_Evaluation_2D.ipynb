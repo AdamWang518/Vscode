{
 "cells": [
  {
   "cell_type": "markdown",
   "metadata": {},
   "source": [
    "# 简易的Grid World迷宫之策略评估计算"
   ]
  },
  {
   "cell_type": "code",
   "execution_count": 18,
   "metadata": {},
   "outputs": [
    {
     "data": {
      "image/png": "[encoded data removed]",
      "text/plain": [
       "<IPython.core.display.Image object>"
      ]
     },
     "execution_count": 18,
     "metadata": {},
     "output_type": "execute_result"
    }
   ],
   "source": [
    "from IPython.display import Image\n",
    "Image('./images/grid_world.png')"
   ]
  },
  {
   "cell_type": "code",
   "execution_count": 19,
   "metadata": {},
   "outputs": [],
   "source": [
    "# 载入相关套件\n",
    "import numpy as np\n",
    "import random"
   ]
  },
  {
   "cell_type": "code",
   "execution_count": 37,
   "metadata": {},
   "outputs": [],
   "source": [
    "# 游戏参数\n",
    "gridSize = 4     # 4x4 格\n",
    "rewardValue = -1 # 奖励\n",
    "terminationStates = [[0,0], [gridSize-1, gridSize-1]] # 两个终点\n",
    "actions = [[-1, 0], [1, 0], [0, 1], [0, -1]] # 行动空间"
   ]
  },
  {
   "cell_type": "code",
   "execution_count": 38,
   "metadata": {},
   "outputs": [],
   "source": [
    "# 行动及奖励\n",
    "def actionValue(initialPosition,action):\n",
    "    if initialPosition in terminationStates: # 到达终点\n",
    "        finalPosition = initialPosition      # 不移动，留在原来位置\n",
    "        reward=0  # 奖励为 0\n",
    "    else:  # 不在终点，更新位置\n",
    "        finalPosition = np.array(initialPosition) + np.array(action)\n",
    "        reward= rewardValue  # 奖励为 -1\n",
    "\n",
    "    # 超出边界时，仍退回原来位置\n",
    "    if -1 in finalPosition or gridSize in finalPosition:\n",
    "        finalPosition = initialPosition  # 退回原来位置\n",
    "        reward= rewardValue  # 奖励为 -1\n",
    "    \n",
    "    return finalPosition, reward"
   ]
  },
  {
   "cell_type": "markdown",
   "metadata": {},
   "source": [
    "## 简单的策略评估函数"
   ]
  },
  {
   "cell_type": "code",
   "execution_count": 46,
   "metadata": {},
   "outputs": [],
   "source": [
    "# numIterations：训练周期\n",
    "# gamma：折扣因子\n",
    "# valueMap：状态值函数初始值\n",
    "def policy_evaluation(numIterations,gamma,valueMap):\n",
    "    valueMap1 = np.copy(valueMap)\n",
    "    for i in range(numIterations):\n",
    "        for state in states:        # 更新每一周期的状态值函数\n",
    "            weightedRewards=0       # 平均奖励\n",
    "            for action in actions:  # 计算每一行动的状态值函数\n",
    "                finalPosition,reward = actionValue(state,action)\n",
    "                # 贝尔曼方程式(Bellman Equation) V(s)\n",
    "                weightedRewards += 1/4 * (reward + \n",
    "                     gamma * valueMap[finalPosition[0],finalPosition[1]])\n",
    "            valueMap1[state[0],state[1]]=weightedRewards\n",
    "        valueMap = np.copy(valueMap1)\n",
    "        print(valueMap)"
   ]
  },
  {
   "cell_type": "markdown",
   "metadata": {},
   "source": [
    "## 训练3周期"
   ]
  },
  {
   "cell_type": "code",
   "execution_count": 47,
   "metadata": {},
   "outputs": [
    {
     "name": "stdout",
     "output_type": "stream",
     "text": [
      "[[ 0. -1. -1. -1.]\n",
      " [-1. -1. -1. -1.]\n",
      " [-1. -1. -1. -1.]\n",
      " [-1. -1. -1.  0.]]\n",
      "[[ 0.   -1.75 -2.   -2.  ]\n",
      " [-1.75 -2.   -2.   -2.  ]\n",
      " [-2.   -2.   -2.   -1.75]\n",
      " [-2.   -2.   -1.75  0.  ]]\n",
      "[[ 0.     -2.4375 -2.9375 -3.    ]\n",
      " [-2.4375 -2.875  -3.     -2.9375]\n",
      " [-2.9375 -3.     -2.875  -2.4375]\n",
      " [-3.     -2.9375 -2.4375  0.    ]]\n"
     ]
    }
   ],
   "source": [
    "valueMap = np.zeros((gridSize, gridSize))  # 状态值函数初始值 = 0\n",
    "# 状态位置 (x, y)\n",
    "states = [[i, j] for i in range(gridSize) for j in range(gridSize)]\n",
    "policy_evaluation(3,1,valueMap) # 训练3周期，折扣因子=1"
   ]
  },
  {
   "cell_type": "code",
   "execution_count": null,
   "metadata": {},
   "outputs": [],
   "source": []
  }
 ],
 "metadata": {
  "kernelspec": {
   "display_name": "Python 3 (ipykernel)",
   "language": "python",
   "name": "python3"
  },
  "language_info": {
   "codemirror_mode": {
    "name": "ipython",
    "version": 3
   },
   "file_extension": ".py",
   "mimetype": "text/x-python",
   "name": "python",
   "nbconvert_exporter": "python",
   "pygments_lexer": "ipython3",
   "version": "3.9.7"
  }
 },
 "nbformat": 4,
 "nbformat_minor": 4
}
