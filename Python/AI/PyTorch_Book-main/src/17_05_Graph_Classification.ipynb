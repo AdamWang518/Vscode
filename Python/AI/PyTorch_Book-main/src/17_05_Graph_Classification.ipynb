{
 "cells": [
  {
   "cell_type": "markdown",
   "metadata": {},
   "source": [
    "# 分子性質(Molecular Property)的預測\n",
    "### 程式修改自 https://pytorch-geometric.readthedocs.io/en/latest/notes/colabs.html"
   ]
  },
  {
   "cell_type": "markdown",
   "metadata": {},
   "source": [
    "## 載入套件"
   ]
  },
  {
   "cell_type": "code",
   "execution_count": 1,
   "metadata": {},
   "outputs": [],
   "source": [
    "import torch\n",
    "from torch_geometric.data import Data\n",
    "import networkx as nx"
   ]
  },
  {
   "cell_type": "markdown",
   "metadata": {},
   "source": [
    "## 載入內建資料集"
   ]
  },
  {
   "cell_type": "code",
   "execution_count": 2,
   "metadata": {
    "scrolled": false
   },
   "outputs": [
    {
     "name": "stdout",
     "output_type": "stream",
     "text": [
      "\n",
      "Dataset: MUTAG(188):\n",
      "====================\n",
      "Number of graphs: 188\n",
      "Number of features: 7\n",
      "Number of classes: 2\n",
      "\n",
      "Data(edge_index=[2, 38], x=[17, 7], edge_attr=[38, 4], y=[1])\n",
      "=============================================================\n",
      "Number of nodes: 17\n",
      "Number of edges: 38\n",
      "Average node degree: 2.24\n",
      "Has isolated nodes: False\n",
      "Has self-loops: False\n",
      "Is undirected: True\n"
     ]
    }
   ],
   "source": [
    "from torch_geometric.datasets import TUDataset\n",
    "\n",
    "# 載入內建資料\n",
    "dataset = TUDataset(root='./graph/TUDataset', name='MUTAG')\n",
    "\n",
    "print()\n",
    "print(f'Dataset: {dataset}:')\n",
    "print('====================')\n",
    "print(f'Number of graphs: {len(dataset)}')\n",
    "print(f'Number of features: {dataset.num_features}')\n",
    "print(f'Number of classes: {dataset.num_classes}')\n",
    "\n",
    "data = dataset[0]  # Get the first graph object.\n",
    "\n",
    "print()\n",
    "print(data)\n",
    "print('=============================================================')\n",
    "\n",
    "# Gather some statistics about the first graph.\n",
    "print(f'Number of nodes: {data.num_nodes}')\n",
    "print(f'Number of edges: {data.num_edges}')\n",
    "print(f'Average node degree: {data.num_edges / data.num_nodes:.2f}')\n",
    "print(f'Has isolated nodes: {data.has_isolated_nodes()}')\n",
    "print(f'Has self-loops: {data.has_self_loops()}')\n",
    "print(f'Is undirected: {data.is_undirected()}')"
   ]
  },
  {
   "cell_type": "markdown",
   "metadata": {},
   "source": [
    "## 資料分割"
   ]
  },
  {
   "cell_type": "code",
   "execution_count": 3,
   "metadata": {},
   "outputs": [
    {
     "name": "stdout",
     "output_type": "stream",
     "text": [
      "Number of training graphs: 150\n",
      "Number of test graphs: 38\n"
     ]
    }
   ],
   "source": [
    "torch.manual_seed(12345)\n",
    "dataset = dataset.shuffle()   # 洗牌\n",
    "\n",
    "train_dataset = dataset[:150] # 前 150 筆作為訓練資料\n",
    "test_dataset = dataset[150:]  # 後 38 筆作為測試資料\n",
    "\n",
    "print(f'Number of training graphs: {len(train_dataset)}')\n",
    "print(f'Number of test graphs: {len(test_dataset)}')"
   ]
  },
  {
   "cell_type": "markdown",
   "metadata": {},
   "source": [
    "## 建立 DataLoader"
   ]
  },
  {
   "cell_type": "code",
   "execution_count": 4,
   "metadata": {},
   "outputs": [
    {
     "name": "stdout",
     "output_type": "stream",
     "text": [
      "Step 1:\n",
      "=======\n",
      "一批內含圖形的個數: 64\n",
      "DataBatch(edge_index=[2, 2636], x=[1188, 7], edge_attr=[2636, 4], y=[64], batch=[1188], ptr=[65])\n",
      "\n",
      "Step 2:\n",
      "=======\n",
      "一批內含圖形的個數: 64\n",
      "DataBatch(edge_index=[2, 2506], x=[1139, 7], edge_attr=[2506, 4], y=[64], batch=[1139], ptr=[65])\n",
      "\n",
      "Step 3:\n",
      "=======\n",
      "一批內含圖形的個數: 22\n",
      "DataBatch(edge_index=[2, 852], x=[387, 7], edge_attr=[852, 4], y=[22], batch=[387], ptr=[23])\n",
      "\n"
     ]
    }
   ],
   "source": [
    "from torch_geometric.loader import DataLoader\n",
    "\n",
    "train_loader = DataLoader(train_dataset, batch_size=64, shuffle=True)\n",
    "test_loader = DataLoader(test_dataset, batch_size=64, shuffle=False)\n",
    "\n",
    "# 顯示每批資料的內容\n",
    "for step, data in enumerate(train_loader):\n",
    "    print(f'Step {step + 1}:')\n",
    "    print('=======')\n",
    "    print(f'一批內含圖形的個數: {data.num_graphs}')\n",
    "    print(data)\n",
    "    print()"
   ]
  },
  {
   "cell_type": "markdown",
   "metadata": {},
   "source": [
    "## 判斷是否使用GPU"
   ]
  },
  {
   "cell_type": "code",
   "execution_count": 5,
   "metadata": {},
   "outputs": [],
   "source": [
    "device = torch.device('cuda' if torch.cuda.is_available() else 'cpu')"
   ]
  },
  {
   "cell_type": "markdown",
   "metadata": {},
   "source": [
    "## 定義模型"
   ]
  },
  {
   "cell_type": "code",
   "execution_count": 6,
   "metadata": {},
   "outputs": [],
   "source": [
    "from torch.nn import Linear\n",
    "import torch.nn.functional as F\n",
    "from torch_geometric.nn import GCNConv\n",
    "from torch_geometric.nn import global_mean_pool\n",
    "\n",
    "class GCN(torch.nn.Module):\n",
    "    def __init__(self, hidden_channels):\n",
    "        super(GCN, self).__init__()\n",
    "        torch.manual_seed(12345)\n",
    "        self.conv1 = GCNConv(dataset.num_node_features, hidden_channels)\n",
    "        self.conv2 = GCNConv(hidden_channels, hidden_channels)\n",
    "        self.conv3 = GCNConv(hidden_channels, hidden_channels)\n",
    "        self.lin = Linear(hidden_channels, dataset.num_classes)\n",
    "\n",
    "    def forward(self, x, edge_index, batch):\n",
    "        # 1. 轉成嵌入向量\n",
    "        x = self.conv1(x, edge_index)\n",
    "        x = x.relu()\n",
    "        x = self.conv2(x, edge_index)\n",
    "        x = x.relu()\n",
    "        x = self.conv3(x, edge_index)\n",
    "\n",
    "        # 2. Readout layer：求向量平均值\n",
    "        x = global_mean_pool(x, batch)  # [batch_size, hidden_channels]\n",
    "\n",
    "        # 3. 分類\n",
    "        x = F.dropout(x, p=0.5, training=self.training)\n",
    "        x = self.lin(x)\n",
    "        \n",
    "        return x"
   ]
  },
  {
   "cell_type": "markdown",
   "metadata": {},
   "source": [
    "## 模型訓練"
   ]
  },
  {
   "cell_type": "code",
   "execution_count": 8,
   "metadata": {
    "scrolled": true
   },
   "outputs": [
    {
     "name": "stdout",
     "output_type": "stream",
     "text": [
      "GCN(\n",
      "  (conv1): GCNConv(7, 64)\n",
      "  (conv2): GCNConv(64, 64)\n",
      "  (conv3): GCNConv(64, 64)\n",
      "  (lin): Linear(in_features=64, out_features=2, bias=True)\n",
      ")\n",
      "Epoch: 001, 訓練準確率: 0.6467, 測試準確率: 0.7368\n",
      "Epoch: 002, 訓練準確率: 0.6467, 測試準確率: 0.7368\n",
      "Epoch: 003, 訓練準確率: 0.6467, 測試準確率: 0.7368\n",
      "Epoch: 004, 訓練準確率: 0.6467, 測試準確率: 0.7368\n",
      "Epoch: 005, 訓練準確率: 0.6467, 測試準確率: 0.7368\n",
      "Epoch: 006, 訓練準確率: 0.7200, 測試準確率: 0.7632\n",
      "Epoch: 007, 訓練準確率: 0.7333, 測試準確率: 0.8158\n",
      "Epoch: 008, 訓練準確率: 0.7200, 測試準確率: 0.7632\n",
      "Epoch: 009, 訓練準確率: 0.7133, 測試準確率: 0.7632\n",
      "Epoch: 010, 訓練準確率: 0.7267, 測試準確率: 0.7632\n",
      "Epoch: 011, 訓練準確率: 0.7200, 測試準確率: 0.7895\n",
      "Epoch: 012, 訓練準確率: 0.7200, 測試準確率: 0.7895\n",
      "Epoch: 013, 訓練準確率: 0.7067, 測試準確率: 0.8158\n",
      "Epoch: 014, 訓練準確率: 0.7400, 測試準確率: 0.7632\n",
      "Epoch: 015, 訓練準確率: 0.7400, 測試準確率: 0.7895\n",
      "Epoch: 016, 訓練準確率: 0.7133, 測試準確率: 0.8684\n",
      "Epoch: 017, 訓練準確率: 0.7533, 測試準確率: 0.7895\n",
      "Epoch: 018, 訓練準確率: 0.7467, 測試準確率: 0.7895\n",
      "Epoch: 019, 訓練準確率: 0.7467, 測試準確率: 0.7895\n",
      "Epoch: 020, 訓練準確率: 0.7533, 測試準確率: 0.7368\n",
      "Epoch: 021, 訓練準確率: 0.7267, 測試準確率: 0.8421\n",
      "Epoch: 022, 訓練準確率: 0.7267, 測試準確率: 0.8421\n",
      "Epoch: 023, 訓練準確率: 0.7467, 測試準確率: 0.7368\n",
      "Epoch: 024, 訓練準確率: 0.7533, 測試準確率: 0.7632\n",
      "Epoch: 025, 訓練準確率: 0.7200, 測試準確率: 0.8421\n",
      "Epoch: 026, 訓練準確率: 0.7667, 測試準確率: 0.7632\n",
      "Epoch: 027, 訓練準確率: 0.7533, 測試準確率: 0.7632\n",
      "Epoch: 028, 訓練準確率: 0.7533, 測試準確率: 0.7632\n",
      "Epoch: 029, 訓練準確率: 0.7533, 測試準確率: 0.7895\n",
      "Epoch: 030, 訓練準確率: 0.7667, 測試準確率: 0.8158\n",
      "Epoch: 031, 訓練準確率: 0.7600, 測試準確率: 0.7632\n",
      "Epoch: 032, 訓練準確率: 0.7667, 測試準確率: 0.7632\n",
      "Epoch: 033, 訓練準確率: 0.7667, 測試準確率: 0.7895\n",
      "Epoch: 034, 訓練準確率: 0.7733, 測試準確率: 0.8158\n",
      "Epoch: 035, 訓練準確率: 0.7600, 測試準確率: 0.7632\n",
      "Epoch: 036, 訓練準確率: 0.7600, 測試準確率: 0.7632\n",
      "Epoch: 037, 訓練準確率: 0.7600, 測試準確率: 0.7895\n",
      "Epoch: 038, 訓練準確率: 0.7667, 測試準確率: 0.8158\n",
      "Epoch: 039, 訓練準確率: 0.7600, 測試準確率: 0.7895\n",
      "Epoch: 040, 訓練準確率: 0.7667, 測試準確率: 0.7895\n",
      "Epoch: 041, 訓練準確率: 0.7667, 測試準確率: 0.8158\n",
      "Epoch: 042, 訓練準確率: 0.7667, 測試準確率: 0.7632\n",
      "Epoch: 043, 訓練準確率: 0.7667, 測試準確率: 0.7632\n",
      "Epoch: 044, 訓練準確率: 0.7667, 測試準確率: 0.8158\n",
      "Epoch: 045, 訓練準確率: 0.7733, 測試準確率: 0.7895\n",
      "Epoch: 046, 訓練準確率: 0.7667, 測試準確率: 0.8158\n",
      "Epoch: 047, 訓練準確率: 0.7600, 測試準確率: 0.7632\n",
      "Epoch: 048, 訓練準確率: 0.7600, 測試準確率: 0.7632\n",
      "Epoch: 049, 訓練準確率: 0.7667, 測試準確率: 0.8158\n",
      "Epoch: 050, 訓練準確率: 0.7667, 測試準確率: 0.7632\n",
      "Epoch: 051, 訓練準確率: 0.7667, 測試準確率: 0.7632\n",
      "Epoch: 052, 訓練準確率: 0.7667, 測試準確率: 0.7632\n",
      "Epoch: 053, 訓練準確率: 0.7667, 測試準確率: 0.7632\n",
      "Epoch: 054, 訓練準確率: 0.7733, 測試準確率: 0.8158\n",
      "Epoch: 055, 訓練準確率: 0.7667, 測試準確率: 0.8158\n",
      "Epoch: 056, 訓練準確率: 0.7667, 測試準確率: 0.8158\n",
      "Epoch: 057, 訓練準確率: 0.7733, 測試準確率: 0.7895\n",
      "Epoch: 058, 訓練準確率: 0.7667, 測試準確率: 0.7895\n",
      "Epoch: 059, 訓練準確率: 0.7667, 測試準確率: 0.7632\n",
      "Epoch: 060, 訓練準確率: 0.7733, 測試準確率: 0.7632\n",
      "Epoch: 061, 訓練準確率: 0.7733, 測試準確率: 0.7632\n",
      "Epoch: 062, 訓練準確率: 0.7733, 測試準確率: 0.8158\n",
      "Epoch: 063, 訓練準確率: 0.7600, 測試準確率: 0.8158\n",
      "Epoch: 064, 訓練準確率: 0.7733, 測試準確率: 0.7895\n",
      "Epoch: 065, 訓練準確率: 0.7667, 測試準確率: 0.7895\n",
      "Epoch: 066, 訓練準確率: 0.7667, 測試準確率: 0.8421\n",
      "Epoch: 067, 訓練準確率: 0.7667, 測試準確率: 0.7895\n",
      "Epoch: 068, 訓練準確率: 0.7667, 測試準確率: 0.8158\n",
      "Epoch: 069, 訓練準確率: 0.7800, 測試準確率: 0.8158\n",
      "Epoch: 070, 訓練準確率: 0.7733, 測試準確率: 0.7895\n",
      "Epoch: 071, 訓練準確率: 0.7733, 測試準確率: 0.7895\n",
      "Epoch: 072, 訓練準確率: 0.7800, 測試準確率: 0.7895\n",
      "Epoch: 073, 訓練準確率: 0.7667, 測試準確率: 0.7632\n",
      "Epoch: 074, 訓練準確率: 0.7733, 測試準確率: 0.7895\n",
      "Epoch: 075, 訓練準確率: 0.8000, 測試準確率: 0.7895\n",
      "Epoch: 076, 訓練準確率: 0.7800, 測試準確率: 0.7632\n",
      "Epoch: 077, 訓練準確率: 0.7733, 測試準確率: 0.7895\n",
      "Epoch: 078, 訓練準確率: 0.7867, 測試準確率: 0.7105\n",
      "Epoch: 079, 訓練準確率: 0.7733, 測試準確率: 0.7632\n",
      "Epoch: 080, 訓練準確率: 0.7667, 測試準確率: 0.7895\n",
      "Epoch: 081, 訓練準確率: 0.8200, 測試準確率: 0.8158\n",
      "Epoch: 082, 訓練準確率: 0.7667, 測試準確率: 0.8158\n",
      "Epoch: 083, 訓練準確率: 0.7733, 測試準確率: 0.7895\n",
      "Epoch: 084, 訓練準確率: 0.7600, 測試準確率: 0.7895\n",
      "Epoch: 085, 訓練準確率: 0.7733, 測試準確率: 0.7895\n",
      "Epoch: 086, 訓練準確率: 0.7800, 測試準確率: 0.7895\n",
      "Epoch: 087, 訓練準確率: 0.7800, 測試準確率: 0.8158\n",
      "Epoch: 088, 訓練準確率: 0.7733, 測試準確率: 0.7895\n",
      "Epoch: 089, 訓練準確率: 0.7733, 測試準確率: 0.7895\n",
      "Epoch: 090, 訓練準確率: 0.7733, 測試準確率: 0.7895\n",
      "Epoch: 091, 訓練準確率: 0.7667, 測試準確率: 0.7895\n",
      "Epoch: 092, 訓練準確率: 0.7667, 測試準確率: 0.7895\n",
      "Epoch: 093, 訓練準確率: 0.7933, 測試準確率: 0.8158\n",
      "Epoch: 094, 訓練準確率: 0.7667, 測試準確率: 0.8158\n",
      "Epoch: 095, 訓練準確率: 0.7667, 測試準確率: 0.7368\n",
      "Epoch: 096, 訓練準確率: 0.7733, 測試準確率: 0.7895\n",
      "Epoch: 097, 訓練準確率: 0.7667, 測試準確率: 0.8158\n",
      "Epoch: 098, 訓練準確率: 0.7800, 測試準確率: 0.8158\n",
      "Epoch: 099, 訓練準確率: 0.7733, 測試準確率: 0.7895\n",
      "Epoch: 100, 訓練準確率: 0.7667, 測試準確率: 0.7895\n",
      "Epoch: 101, 訓練準確率: 0.7733, 測試準確率: 0.7895\n",
      "Epoch: 102, 訓練準確率: 0.7667, 測試準確率: 0.7632\n",
      "Epoch: 103, 訓練準確率: 0.7733, 測試準確率: 0.7632\n",
      "Epoch: 104, 訓練準確率: 0.8000, 測試準確率: 0.8158\n",
      "Epoch: 105, 訓練準確率: 0.7800, 測試準確率: 0.7895\n",
      "Epoch: 106, 訓練準確率: 0.7800, 測試準確率: 0.7632\n",
      "Epoch: 107, 訓練準確率: 0.8200, 測試準確率: 0.7895\n",
      "Epoch: 108, 訓練準確率: 0.7800, 測試準確率: 0.7895\n",
      "Epoch: 109, 訓練準確率: 0.7933, 測試準確率: 0.7632\n",
      "Epoch: 110, 訓練準確率: 0.8200, 測試準確率: 0.7368\n",
      "Epoch: 111, 訓練準確率: 0.8200, 測試準確率: 0.6842\n",
      "Epoch: 112, 訓練準確率: 0.7867, 測試準確率: 0.7368\n",
      "Epoch: 113, 訓練準確率: 0.7667, 測試準確率: 0.7368\n",
      "Epoch: 114, 訓練準確率: 0.7667, 測試準確率: 0.7632\n",
      "Epoch: 115, 訓練準確率: 0.7800, 測試準確率: 0.7632\n",
      "Epoch: 116, 訓練準確率: 0.7667, 測試準確率: 0.7632\n",
      "Epoch: 117, 訓練準確率: 0.7667, 測試準確率: 0.7368\n",
      "Epoch: 118, 訓練準確率: 0.7733, 測試準確率: 0.7895\n",
      "Epoch: 119, 訓練準確率: 0.7800, 測試準確率: 0.7632\n",
      "Epoch: 120, 訓練準確率: 0.8000, 測試準確率: 0.7368\n",
      "Epoch: 121, 訓練準確率: 0.7933, 測試準確率: 0.7632\n",
      "Epoch: 122, 訓練準確率: 0.7867, 測試準確率: 0.7368\n",
      "Epoch: 123, 訓練準確率: 0.7800, 測試準確率: 0.7632\n",
      "Epoch: 124, 訓練準確率: 0.8200, 測試準確率: 0.7368\n",
      "Epoch: 125, 訓練準確率: 0.7867, 測試準確率: 0.7632\n",
      "Epoch: 126, 訓練準確率: 0.7933, 測試準確率: 0.7632\n",
      "Epoch: 127, 訓練準確率: 0.7867, 測試準確率: 0.7632\n",
      "Epoch: 128, 訓練準確率: 0.8133, 測試準確率: 0.7368\n",
      "Epoch: 129, 訓練準確率: 0.7933, 測試準確率: 0.8158\n",
      "Epoch: 130, 訓練準確率: 0.8000, 測試準確率: 0.7895\n",
      "Epoch: 131, 訓練準確率: 0.7733, 測試準確率: 0.7632\n",
      "Epoch: 132, 訓練準確率: 0.8067, 測試準確率: 0.7105\n",
      "Epoch: 133, 訓練準確率: 0.8200, 測試準確率: 0.7368\n",
      "Epoch: 134, 訓練準確率: 0.8067, 測試準確率: 0.8158\n",
      "Epoch: 135, 訓練準確率: 0.8067, 測試準確率: 0.8158\n",
      "Epoch: 136, 訓練準確率: 0.8333, 測試準確率: 0.7368\n",
      "Epoch: 137, 訓練準確率: 0.8267, 測試準確率: 0.7368\n",
      "Epoch: 138, 訓練準確率: 0.8067, 測試準確率: 0.7632\n",
      "Epoch: 139, 訓練準確率: 0.8333, 測試準確率: 0.6842\n",
      "Epoch: 140, 訓練準確率: 0.7933, 測試準確率: 0.7895\n",
      "Epoch: 141, 訓練準確率: 0.7867, 測試準確率: 0.7632\n",
      "Epoch: 142, 訓練準確率: 0.8133, 測試準確率: 0.7368\n",
      "Epoch: 143, 訓練準確率: 0.8000, 測試準確率: 0.7368\n",
      "Epoch: 144, 訓練準確率: 0.8133, 測試準確率: 0.7632\n",
      "Epoch: 145, 訓練準確率: 0.8000, 測試準確率: 0.7895\n",
      "Epoch: 146, 訓練準確率: 0.8333, 測試準確率: 0.7632\n",
      "Epoch: 147, 訓練準確率: 0.8467, 測試準確率: 0.7632\n",
      "Epoch: 148, 訓練準確率: 0.8067, 測試準確率: 0.7895\n",
      "Epoch: 149, 訓練準確率: 0.8400, 測試準確率: 0.8158\n",
      "Epoch: 150, 訓練準確率: 0.8400, 測試準確率: 0.7368\n",
      "Epoch: 151, 訓練準確率: 0.8400, 測試準確率: 0.7632\n",
      "Epoch: 152, 訓練準確率: 0.8133, 測試準確率: 0.8421\n",
      "Epoch: 153, 訓練準確率: 0.8467, 測試準確率: 0.6842\n",
      "Epoch: 154, 訓練準確率: 0.8400, 測試準確率: 0.7368\n",
      "Epoch: 155, 訓練準確率: 0.8000, 測試準確率: 0.7895\n",
      "Epoch: 156, 訓練準確率: 0.8400, 測試準確率: 0.7632\n",
      "Epoch: 157, 訓練準確率: 0.8200, 測試準確率: 0.6316\n",
      "Epoch: 158, 訓練準確率: 0.8133, 測試準確率: 0.8158\n",
      "Epoch: 159, 訓練準確率: 0.7667, 測試準確率: 0.8158\n",
      "Epoch: 160, 訓練準確率: 0.8133, 測試準確率: 0.6579\n",
      "Epoch: 161, 訓練準確率: 0.8400, 測試準確率: 0.7368\n",
      "Epoch: 162, 訓練準確率: 0.7867, 測試準確率: 0.7895\n",
      "Epoch: 163, 訓練準確率: 0.8267, 測試準確率: 0.7632\n",
      "Epoch: 164, 訓練準確率: 0.8067, 測試準確率: 0.6842\n",
      "Epoch: 165, 訓練準確率: 0.7933, 測試準確率: 0.7895\n",
      "Epoch: 166, 訓練準確率: 0.7867, 測試準確率: 0.7895\n",
      "Epoch: 167, 訓練準確率: 0.8467, 測試準確率: 0.6842\n",
      "Epoch: 168, 訓練準確率: 0.8400, 測試準確率: 0.7105\n",
      "Epoch: 169, 訓練準確率: 0.8067, 測試準確率: 0.7895\n",
      "Epoch: 170, 訓練準確率: 0.8067, 測試準確率: 0.7895\n"
     ]
    }
   ],
   "source": [
    "import numpy as np\n",
    "\n",
    "model = GCN(hidden_channels=64).to(device)\n",
    "optimizer = torch.optim.Adam(model.parameters(), lr=0.01)\n",
    "criterion = torch.nn.CrossEntropyLoss()\n",
    "\n",
    "def train():\n",
    "    model.train()\n",
    "    for data in train_loader:\n",
    "        data = data.to(device)\n",
    "        out = model(data.x, data.edge_index, data.batch) \n",
    "        loss = criterion(out, data.y)  # 計算損失\n",
    "        loss.backward()  \n",
    "        optimizer.step()  \n",
    "        optimizer.zero_grad()  \n",
    "\n",
    "def test(loader):\n",
    "    model.eval()\n",
    "    correct = 0\n",
    "    pred_all = np.array([])\n",
    "    actual_all = np.array([])\n",
    "    for data in loader:  \n",
    "        data = data.to(device)\n",
    "        out = model(data.x, data.edge_index, data.batch)  \n",
    "        pred = out.argmax(dim=1)                # 找最大機率\n",
    "        correct += int((pred == data.y).sum())  # 計算正確個數\n",
    "        correct_ratio = correct / len(loader.dataset)        # 計算正確比率\n",
    "        pred_all = np.concatenate((pred_all, pred.cpu().numpy()))\n",
    "        actual_all = np.concatenate((actual_all, data.y.cpu().numpy()))\n",
    "    return correct_ratio, pred_all, actual_all # 正確比率, 預測值, 標註類別\n",
    "\n",
    "for epoch in range(1, 171):\n",
    "    train()\n",
    "    train_acc = test(train_loader)\n",
    "    test_acc = test(test_loader)\n",
    "    print(f'Epoch: {epoch:03d}, 訓練準確率: {train_acc[0]:.4f}, ' +\n",
    "          f'測試準確率: {test_acc[0]:.4f}')"
   ]
  },
  {
   "cell_type": "markdown",
   "metadata": {},
   "source": [
    "## 混淆矩陣(Confusion matrix)"
   ]
  },
  {
   "cell_type": "code",
   "execution_count": 11,
   "metadata": {
    "scrolled": false
   },
   "outputs": [
    {
     "data": {
      "text/plain": [
       "array([[ 4,  6],\n",
       "       [ 2, 26]], dtype=int64)"
      ]
     },
     "execution_count": 11,
     "metadata": {},
     "output_type": "execute_result"
    }
   ],
   "source": [
    "from sklearn.metrics import confusion_matrix\n",
    "\n",
    "confusion_matrix(test_acc[2], test_acc[1])"
   ]
  },
  {
   "cell_type": "markdown",
   "metadata": {},
   "source": [
    "## 降維、視覺化"
   ]
  },
  {
   "cell_type": "code",
   "execution_count": 10,
   "metadata": {},
   "outputs": [
    {
     "data": {
      "image/png": "[encoded data removed]",
      "text/plain": [
       "<Figure size 720x720 with 1 Axes>"
      ]
     },
     "metadata": {},
     "output_type": "display_data"
    }
   ],
   "source": [
    "import matplotlib.pyplot as plt\n",
    "from sklearn.manifold import TSNE\n",
    "\n",
    "def visualize(h, color):\n",
    "    # 降維至2個主成份\n",
    "    z = TSNE(n_components=2).fit_transform(h.detach().cpu().numpy())\n",
    "\n",
    "    plt.figure(figsize=(10,10))\n",
    "    plt.xticks([])\n",
    "    plt.yticks([])\n",
    "\n",
    "    plt.scatter(z[:, 0], z[:, 1], s=70, c=color, cmap=\"Set2\")\n",
    "    plt.show()\n",
    "\n",
    "# 預測    \n",
    "model.eval()\n",
    "test_loader_all = DataLoader(dataset[:], batch_size=len(dataset), shuffle=False)\n",
    "for data in test_loader_all:  \n",
    "    data = data.to(device)\n",
    "    out = model(data.x, data.edge_index, data.batch)  \n",
    "    pred = out.argmax(dim=1)                # 找最大機率\n",
    "# 繪圖\n",
    "visualize(out.cpu(), color=data.cpu().y)"
   ]
  },
  {
   "cell_type": "code",
   "execution_count": null,
   "metadata": {},
   "outputs": [],
   "source": []
  }
 ],
 "metadata": {
  "kernelspec": {
   "display_name": "Python 3 (ipykernel)",
   "language": "python",
   "name": "python3"
  },
  "language_info": {
   "codemirror_mode": {
    "name": "ipython",
    "version": 3
   },
   "file_extension": ".py",
   "mimetype": "text/x-python",
   "name": "python",
   "nbconvert_exporter": "python",
   "pygments_lexer": "ipython3",
   "version": "3.9.7"
  }
 },
 "nbformat": 4,
 "nbformat_minor": 4
}
