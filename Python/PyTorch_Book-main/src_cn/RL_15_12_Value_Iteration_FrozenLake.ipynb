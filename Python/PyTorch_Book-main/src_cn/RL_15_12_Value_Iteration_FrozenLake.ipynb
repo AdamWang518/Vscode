{
 "cells": [
  {
   "cell_type": "markdown",
   "metadata": {},
   "source": [
    "# FrozenLake之值循环(Value Iteration)"
   ]
  },
  {
   "cell_type": "code",
   "execution_count": 1,
   "metadata": {},
   "outputs": [
    {
     "name": "stderr",
     "output_type": "stream",
     "text": [
      "\n"
     ]
    }
   ],
   "source": [
    "# 载入相关套件\n",
    "import numpy as np\n",
    "import gym"
   ]
  },
  {
   "cell_type": "code",
   "execution_count": 2,
   "metadata": {},
   "outputs": [
    {
     "data": {
      "text/plain": [
       "0"
      ]
     },
     "execution_count": 2,
     "metadata": {},
     "output_type": "execute_result"
    }
   ],
   "source": [
    "# 环境\n",
    "env = gym.make('FrozenLake-v1')\n",
    "env.reset()"
   ]
  },
  {
   "cell_type": "code",
   "execution_count": 3,
   "metadata": {},
   "outputs": [],
   "source": [
    "nS = env.observation_space.n\n",
    "nA = env.action_space.n"
   ]
  },
  {
   "cell_type": "code",
   "execution_count": 4,
   "metadata": {},
   "outputs": [],
   "source": [
    "# 值循环函数\n",
    "def value_iteration(env, theta=0.0001, discount_factor=1.0):\n",
    "    # 计算行动值函数\n",
    "    def one_step_lookahead(state, V):\n",
    "        A = np.zeros(nA)\n",
    "        for a in range(nA):\n",
    "            for prob, next_state, reward, done in env.P[state][a]:\n",
    "                A[a] += prob * (reward + discount_factor * V[next_state])\n",
    "        return A\n",
    "\n",
    "    # 状态值函数初始化\n",
    "    V = np.zeros(nS)\n",
    "    while True:\n",
    "        delta = 0\n",
    "        # 更新每个状态值的函数\n",
    "        for s in range(nS):\n",
    "            # 计算下一步的行动值函数\n",
    "            A = one_step_lookahead(s, V)\n",
    "            best_action_value = np.max(A)\n",
    "            # 比较更新前后的差值，取最大值\n",
    "            delta = max(delta, np.abs(best_action_value - V[s]))\n",
    "            # 更新状态值函数\n",
    "            V[s] = best_action_value        \n",
    "        # 若最大差值 < 门槛值，则停止评估\n",
    "        if delta < theta:\n",
    "            break\n",
    "\n",
    "    # 一开始采随机策略，往上/下/左/右走的机率(π)均等\n",
    "    policy = np.zeros([nS, nA])\n",
    "    for s in range(nS):\n",
    "        # 计算下一步的行动值函数\n",
    "        A = one_step_lookahead(s, V)\n",
    "        # 选择最佳行动\n",
    "        best_action = np.argmax(A)\n",
    "        # 永远采取最佳行动\n",
    "        policy[s, best_action] = 1.0\n",
    "    \n",
    "    return policy, V            "
   ]
  },
  {
   "cell_type": "code",
   "execution_count": 5,
   "metadata": {},
   "outputs": [],
   "source": [
    "# 执行值循环\n",
    "policy, v = value_iteration(env)"
   ]
  },
  {
   "cell_type": "code",
   "execution_count": 7,
   "metadata": {},
   "outputs": [
    {
     "name": "stdout",
     "output_type": "stream",
     "text": [
      "策略机率分配:\n",
      "[[1. 0. 0. 0.]\n",
      " [0. 0. 0. 1.]\n",
      " [0. 0. 0. 1.]\n",
      " [0. 0. 0. 1.]\n",
      " [1. 0. 0. 0.]\n",
      " [1. 0. 0. 0.]\n",
      " [1. 0. 0. 0.]\n",
      " [1. 0. 0. 0.]\n",
      " [0. 0. 0. 1.]\n",
      " [0. 1. 0. 0.]\n",
      " [1. 0. 0. 0.]\n",
      " [1. 0. 0. 0.]\n",
      " [1. 0. 0. 0.]\n",
      " [0. 0. 1. 0.]\n",
      " [0. 1. 0. 0.]\n",
      " [1. 0. 0. 0.]]\n",
      "\n",
      "4x4 策略机率分配 (0=up, 1=right, 2=down, 3=left):\n",
      "[[0 3 3 3]\n",
      " [0 0 0 0]\n",
      " [3 1 0 0]\n",
      " [0 2 1 0]]\n",
      "\n",
      "4x4 状态值函数:\n",
      "[[0.82182145 0.82126109 0.82087163 0.82067347]\n",
      " [0.82199325 0.         0.52824715 0.        ]\n",
      " [0.82226231 0.82260733 0.76389785 0.        ]\n",
      " [0.         0.88171208 0.94085038 0.        ]]\n"
     ]
    }
   ],
   "source": [
    "# 显示结果\n",
    "print(\"策略机率分配:\")\n",
    "print(policy)\n",
    "print(\"\")\n",
    "\n",
    "print(\"4x4 策略机率分配 (0=up, 1=right, 2=down, 3=left):\")\n",
    "print(np.reshape(np.argmax(policy, axis=1), (int(nS ** 0.5), int(nS ** 0.5))))\n",
    "print(\"\")\n",
    "\n",
    "print(\"4x4 状态值函数:\")\n",
    "print(v.reshape((int(nS ** 0.5), int(nS ** 0.5))))"
   ]
  }
 ],
 "metadata": {
  "kernelspec": {
   "display_name": "Python 3 (ipykernel)",
   "language": "python",
   "name": "python3"
  },
  "language_info": {
   "codemirror_mode": {
    "name": "ipython",
    "version": 3
   },
   "file_extension": ".py",
   "mimetype": "text/x-python",
   "name": "python",
   "nbconvert_exporter": "python",
   "pygments_lexer": "ipython3",
   "version": "3.9.7"
  }
 },
 "nbformat": 4,
 "nbformat_minor": 4
}
