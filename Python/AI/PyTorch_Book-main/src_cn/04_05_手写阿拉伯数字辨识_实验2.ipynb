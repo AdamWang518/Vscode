{
 "cells": [
  {
   "cell_type": "markdown",
   "metadata": {},
   "source": [
    "# 多一层完全连接层(Linear)"
   ]
  },
  {
   "cell_type": "markdown",
   "metadata": {},
   "source": [
    "## 载入套件"
   ]
  },
  {
   "cell_type": "code",
   "execution_count": 1,
   "metadata": {},
   "outputs": [],
   "source": [
    "import os\n",
    "import torch\n",
    "from torch import nn\n",
    "from torch.nn import functional as F\n",
    "from torch.utils.data import DataLoader, random_split\n",
    "from torchmetrics import Accuracy\n",
    "from torchvision import transforms\n",
    "from torchvision.datasets import MNIST"
   ]
  },
  {
   "cell_type": "markdown",
   "metadata": {},
   "source": [
    "## 设定参数"
   ]
  },
  {
   "cell_type": "code",
   "execution_count": 2,
   "metadata": {},
   "outputs": [
    {
     "data": {
      "text/plain": [
       "'cuda'"
      ]
     },
     "execution_count": 2,
     "metadata": {},
     "output_type": "execute_result"
    }
   ],
   "source": [
    "PATH_DATASETS = \"\" # 预设路径\n",
    "BATCH_SIZE = 1024  # 批量\n",
    "device = torch.device(\"cuda\" if torch.cuda.is_available() else \"cpu\")\n",
    "\"cuda\" if torch.cuda.is_available() else \"cpu\""
   ]
  },
  {
   "cell_type": "markdown",
   "metadata": {},
   "source": [
    "## 步骤1：载入 MNIST 手写阿拉伯数字资料"
   ]
  },
  {
   "cell_type": "code",
   "execution_count": 3,
   "metadata": {},
   "outputs": [
    {
     "name": "stdout",
     "output_type": "stream",
     "text": [
      "torch.Size([60000, 28, 28]) torch.Size([10000, 28, 28])\n"
     ]
    }
   ],
   "source": [
    "# 下载 MNIST 手写阿拉伯数字 训练资料\n",
    "train_ds = MNIST(PATH_DATASETS, train=True, download=True, \n",
    "                 transform=transforms.ToTensor())\n",
    "\n",
    "# 下载测试资料\n",
    "test_ds = MNIST(PATH_DATASETS, train=False, download=True, \n",
    "                 transform=transforms.ToTensor())\n",
    "\n",
    "# 训练/测试资料的维度\n",
    "print(train_ds.data.shape, test_ds.data.shape)"
   ]
  },
  {
   "cell_type": "markdown",
   "metadata": {},
   "source": [
    "## 步骤2：资料清理，此步骤无需进行"
   ]
  },
  {
   "cell_type": "markdown",
   "metadata": {},
   "source": [
    "## 步骤3：特征工程，此步骤无需进行"
   ]
  },
  {
   "cell_type": "markdown",
   "metadata": {},
   "source": [
    "## 步骤4：资料分割，此步骤无需进行，载入MNIST资料时，已经切割好了"
   ]
  },
  {
   "cell_type": "markdown",
   "metadata": {},
   "source": [
    "## 步骤5：建立模型结构"
   ]
  },
  {
   "cell_type": "code",
   "execution_count": 4,
   "metadata": {},
   "outputs": [],
   "source": [
    "# 建立模型\n",
    "model = torch.nn.Sequential(\n",
    "    torch.nn.Flatten(),\n",
    "    torch.nn.Linear(28 * 28, 256), \n",
    "    nn.Dropout(0.2),\n",
    "    torch.nn.Linear(256, 64), \n",
    "    nn.Dropout(0.2),\n",
    "    torch.nn.Linear(64, 10), \n",
    ").to(device)"
   ]
  },
  {
   "cell_type": "markdown",
   "metadata": {},
   "source": [
    "## 步骤6：结合训练资料及模型，进行模型训练"
   ]
  },
  {
   "cell_type": "code",
   "execution_count": 5,
   "metadata": {
    "scrolled": false
   },
   "outputs": [
    {
     "name": "stdout",
     "output_type": "stream",
     "text": [
      "Epoch 1: [    0 / 60000] (0 %)  Loss: 2.312774\n",
      "Epoch 1: [ 6000 / 60000] (10 %)  Loss: 2.152437\n",
      "Epoch 1: [12000 / 60000] (20 %)  Loss: 2.006512\n",
      "Epoch 1: [18000 / 60000] (30 %)  Loss: 1.827115\n",
      "Epoch 1: [24000 / 60000] (40 %)  Loss: 1.573553\n",
      "Epoch 1: [30000 / 60000] (50 %)  Loss: 1.373357\n",
      "Epoch 1: [36000 / 60000] (60 %)  Loss: 1.104141\n",
      "Epoch 1: [42000 / 60000] (70 %)  Loss: 1.018612\n",
      "Epoch 1: [48000 / 60000] (80 %)  Loss: 0.749198\n",
      "Epoch 1: [54000 / 60000] (90 %)  Loss: 0.749131\n",
      "Epoch 2: [    0 / 60000] (0 %)  Loss: 0.686411\n",
      "Epoch 2: [ 6000 / 60000] (10 %)  Loss: 0.522721\n",
      "Epoch 2: [12000 / 60000] (20 %)  Loss: 0.650914\n",
      "Epoch 2: [18000 / 60000] (30 %)  Loss: 0.552507\n",
      "Epoch 2: [24000 / 60000] (40 %)  Loss: 0.582573\n",
      "Epoch 2: [30000 / 60000] (50 %)  Loss: 0.606301\n",
      "Epoch 2: [36000 / 60000] (60 %)  Loss: 0.503638\n",
      "Epoch 2: [42000 / 60000] (70 %)  Loss: 0.596438\n",
      "Epoch 2: [48000 / 60000] (80 %)  Loss: 0.428736\n",
      "Epoch 2: [54000 / 60000] (90 %)  Loss: 0.474438\n",
      "Epoch 3: [    0 / 60000] (0 %)  Loss: 0.444007\n",
      "Epoch 3: [ 6000 / 60000] (10 %)  Loss: 0.347950\n",
      "Epoch 3: [12000 / 60000] (20 %)  Loss: 0.486357\n",
      "Epoch 3: [18000 / 60000] (30 %)  Loss: 0.374893\n",
      "Epoch 3: [24000 / 60000] (40 %)  Loss: 0.460291\n",
      "Epoch 3: [30000 / 60000] (50 %)  Loss: 0.478790\n",
      "Epoch 3: [36000 / 60000] (60 %)  Loss: 0.409749\n",
      "Epoch 3: [42000 / 60000] (70 %)  Loss: 0.542664\n",
      "Epoch 3: [48000 / 60000] (80 %)  Loss: 0.352072\n",
      "Epoch 3: [54000 / 60000] (90 %)  Loss: 0.424348\n",
      "Epoch 4: [    0 / 60000] (0 %)  Loss: 0.382868\n",
      "Epoch 4: [ 6000 / 60000] (10 %)  Loss: 0.311862\n",
      "Epoch 4: [12000 / 60000] (20 %)  Loss: 0.470943\n",
      "Epoch 4: [18000 / 60000] (30 %)  Loss: 0.339320\n",
      "Epoch 4: [24000 / 60000] (40 %)  Loss: 0.409448\n",
      "Epoch 4: [30000 / 60000] (50 %)  Loss: 0.419944\n",
      "Epoch 4: [36000 / 60000] (60 %)  Loss: 0.380807\n",
      "Epoch 4: [42000 / 60000] (70 %)  Loss: 0.504989\n",
      "Epoch 4: [48000 / 60000] (80 %)  Loss: 0.322605\n",
      "Epoch 4: [54000 / 60000] (90 %)  Loss: 0.410965\n",
      "Epoch 5: [    0 / 60000] (0 %)  Loss: 0.345722\n",
      "Epoch 5: [ 6000 / 60000] (10 %)  Loss: 0.283421\n",
      "Epoch 5: [12000 / 60000] (20 %)  Loss: 0.426892\n",
      "Epoch 5: [18000 / 60000] (30 %)  Loss: 0.309397\n",
      "Epoch 5: [24000 / 60000] (40 %)  Loss: 0.402772\n",
      "Epoch 5: [30000 / 60000] (50 %)  Loss: 0.397072\n",
      "Epoch 5: [36000 / 60000] (60 %)  Loss: 0.346369\n",
      "Epoch 5: [42000 / 60000] (70 %)  Loss: 0.483054\n",
      "Epoch 5: [48000 / 60000] (80 %)  Loss: 0.289297\n",
      "Epoch 5: [54000 / 60000] (90 %)  Loss: 0.362071\n"
     ]
    }
   ],
   "source": [
    "epochs = 5\n",
    "lr=0.1\n",
    "\n",
    "# 建立 DataLoader\n",
    "train_loader = DataLoader(train_ds, batch_size=600)\n",
    "\n",
    "# 设定优化器(optimizer)\n",
    "# optimizer = torch.optim.Adam(model.parameters(), lr=lr)\n",
    "optimizer = torch.optim.Adadelta(model.parameters(), lr=lr)\n",
    "\n",
    "criterion = nn.CrossEntropyLoss()\n",
    "\n",
    "model.train()\n",
    "loss_list = []    \n",
    "for epoch in range(1, epochs + 1):\n",
    "    for batch_idx, (data, target) in enumerate(train_loader):\n",
    "        data, target = data.to(device), target.to(device)\n",
    "#         if batch_idx == 0 and epoch == 1: print(data[0])\n",
    "\n",
    "        optimizer.zero_grad()\n",
    "        output = model(data)\n",
    "        loss = criterion(output, target)\n",
    "        loss.backward()\n",
    "        optimizer.step()\n",
    "\n",
    "        if batch_idx % 10 == 0:\n",
    "            loss_list.append(loss.item())\n",
    "            batch = batch_idx * len(data)\n",
    "            data_count = len(train_loader.dataset)\n",
    "            percentage = (100. * batch_idx / len(train_loader))\n",
    "            print(f'Epoch {epoch}: [{batch:5d} / {data_count}] ({percentage:.0f} %)' +\n",
    "                  f'  Loss: {loss.item():.6f}')"
   ]
  },
  {
   "cell_type": "markdown",
   "metadata": {},
   "source": [
    "## 对训练过程的损失绘图"
   ]
  },
  {
   "cell_type": "code",
   "execution_count": 6,
   "metadata": {
    "scrolled": false
   },
   "outputs": [
    {
     "data": {
      "text/plain": [
       "[<matplotlib.lines.Line2D at 0x27c1801aeb0>]"
      ]
     },
     "execution_count": 6,
     "metadata": {},
     "output_type": "execute_result"
    },
    {
     "data": {
      "image/png": "[encoded data removed]",
      "text/plain": [
       "<Figure size 432x288 with 1 Axes>"
      ]
     },
     "metadata": {
      "needs_background": "light"
     },
     "output_type": "display_data"
    }
   ],
   "source": [
    "import matplotlib.pyplot as plt\n",
    "\n",
    "plt.plot(loss_list, 'r')"
   ]
  },
  {
   "cell_type": "markdown",
   "metadata": {},
   "source": [
    "## 步骤7：评分(Score Model)"
   ]
  },
  {
   "cell_type": "code",
   "execution_count": 7,
   "metadata": {
    "scrolled": true
   },
   "outputs": [
    {
     "name": "stdout",
     "output_type": "stream",
     "text": [
      "平均损失: 0.0003, 准确率: 9069/10000 (91%)\n",
      "\n"
     ]
    }
   ],
   "source": [
    "# 建立 DataLoader\n",
    "test_loader = DataLoader(test_ds, shuffle=False, batch_size=BATCH_SIZE)\n",
    "\n",
    "model.eval()\n",
    "test_loss = 0\n",
    "correct = 0\n",
    "with torch.no_grad():\n",
    "    for data, target in test_loader:\n",
    "        data, target = data.to(device), target.to(device)\n",
    "        output = model(data)\n",
    "        \n",
    "        # sum up batch loss\n",
    "        test_loss += criterion(output, target).item()\n",
    "        \n",
    "        # 预测\n",
    "        pred = output.argmax(dim=1, keepdim=True)  \n",
    "        \n",
    "        # 正确笔数\n",
    "        correct += pred.eq(target.view_as(pred)).sum().item()\n",
    "\n",
    "# 平均损失\n",
    "test_loss /= len(test_loader.dataset)\n",
    "# 显示测试结果\n",
    "batch = batch_idx * len(data)\n",
    "data_count = len(test_loader.dataset)\n",
    "percentage = 100. * correct / data_count\n",
    "print(f'平均损失: {test_loss:.4f}, 准确率: {correct}/{data_count}' + \n",
    "      f' ({percentage:.0f}%)\\n')"
   ]
  },
  {
   "cell_type": "markdown",
   "metadata": {},
   "source": [
    "## 实际比对测试资料的前20笔"
   ]
  },
  {
   "cell_type": "code",
   "execution_count": 8,
   "metadata": {},
   "outputs": [
    {
     "name": "stdout",
     "output_type": "stream",
     "text": [
      "actual    : [7 2 1 0 4 1 4 9 5 9 0 6 9 0 1 5 9 7 3 4]\n",
      "prediction:  7 2 1 0 4 1 4 9 6 9 0 6 9 0 1 5 9 7 3 4\n"
     ]
    }
   ],
   "source": [
    "# 实际预测 20 笔资料\n",
    "predictions = []\n",
    "with torch.no_grad():\n",
    "    for i in range(20):\n",
    "        data, target = test_ds[i][0], test_ds[i][1]\n",
    "        data = data.reshape(1, *data.shape).to(device)\n",
    "        output = torch.argmax(model(data), axis=-1)\n",
    "        predictions.append(str(output.item()))\n",
    "\n",
    "# 比对\n",
    "print('actual    :', test_ds.targets[0:20].numpy())\n",
    "print('prediction: ', ' '.join(predictions[0:20]))"
   ]
  },
  {
   "cell_type": "markdown",
   "metadata": {},
   "source": [
    "## 步骤8：评估，暂不进行"
   ]
  },
  {
   "cell_type": "markdown",
   "metadata": {},
   "source": [
    "## 步骤9：模型布署"
   ]
  },
  {
   "cell_type": "markdown",
   "metadata": {},
   "source": [
    "## 步骤10：新资料预测"
   ]
  },
  {
   "cell_type": "code",
   "execution_count": 10,
   "metadata": {
    "scrolled": true
   },
   "outputs": [
    {
     "name": "stdout",
     "output_type": "stream",
     "text": [
      "actual/prediction: 0 6\n",
      "actual/prediction: 1 1\n",
      "actual/prediction: 2 2\n",
      "actual/prediction: 3 7\n",
      "actual/prediction: 4 4\n",
      "actual/prediction: 5 5\n",
      "actual/prediction: 6 6\n",
      "actual/prediction: 7 1\n",
      "actual/prediction: 8 8\n",
      "actual/prediction: 9 1\n"
     ]
    }
   ],
   "source": [
    "# 使用小画家，绘制 0~9，实际测试看看\n",
    "from skimage import io\n",
    "from skimage.transform import resize\n",
    "import numpy as np\n",
    "\n",
    "# 读取影像并转为单色\n",
    "for i in range(10):\n",
    "    uploaded_file = f'./myDigits/{i}.png'\n",
    "    image1 = io.imread(uploaded_file, as_gray=True)\n",
    "\n",
    "    # 缩为 (28, 28) 大小的影像\n",
    "    image_resized = resize(image1, (28, 28), anti_aliasing=True)    \n",
    "    X1 = image_resized.reshape(1,28, 28) #/ 255.0\n",
    "\n",
    "    # 反转颜色，颜色0为白色，与 RGB 色码不同，它的 0 为黑色\n",
    "    X1 = torch.FloatTensor(1-X1).to(device)\n",
    "\n",
    "    # 预测\n",
    "    predictions = torch.softmax(model(X1), dim=1)\n",
    "    # print(np.around(predictions.cpu().detach().numpy(), 2))\n",
    "    print(f'actual/prediction: {i} {np.argmax(predictions.detach().cpu().numpy())}')"
   ]
  },
  {
   "cell_type": "code",
   "execution_count": null,
   "metadata": {},
   "outputs": [],
   "source": []
  }
 ],
 "metadata": {
  "kernelspec": {
   "display_name": "Python 3 (ipykernel)",
   "language": "python",
   "name": "python3"
  },
  "language_info": {
   "codemirror_mode": {
    "name": "ipython",
    "version": 3
   },
   "file_extension": ".py",
   "mimetype": "text/x-python",
   "name": "python",
   "nbconvert_exporter": "python",
   "pygments_lexer": "ipython3",
   "version": "3.9.7"
  }
 },
 "nbformat": 4,
 "nbformat_minor": 4
}
