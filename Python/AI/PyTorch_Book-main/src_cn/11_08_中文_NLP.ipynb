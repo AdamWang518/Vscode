{
 "cells": [
  {
   "cell_type": "markdown",
   "metadata": {},
   "source": [
    "# 中文 NLP"
   ]
  },
  {
   "cell_type": "markdown",
   "metadata": {},
   "source": [
    "## 简体字分词"
   ]
  },
  {
   "cell_type": "code",
   "execution_count": 1,
   "metadata": {},
   "outputs": [
    {
     "name": "stderr",
     "output_type": "stream",
     "text": [
      "Building prefix dict from the default dictionary ...\n",
      "Dumping model to file cache C:\\WINDOWS\\TEMP\\jieba.cache\n",
      "Loading model cost 0.630 seconds.\n",
      "Prefix dict has been built successfully.\n"
     ]
    },
    {
     "name": "stdout",
     "output_type": "stream",
     "text": [
      "全模式: 小/ 明/ 硕士/ 毕业/ 于/ 中国/ 中国科学院/ 科学/ 科学院/ 学院/ 计算/ 计算所/ ，/ 后/ 在/ 日本/ 日本京都大学/ 京都/ 京都大学/ 大学/ 深造\n",
      "精确模式: 小明/ 硕士/ 毕业/ 于/ 中国科学院/ 计算所/ ，/ 后/ 在/ 日本京都大学/ 深造\n",
      "搜索引擎模式:  小明, 硕士, 毕业, 于, 中国, 科学, 学院, 科学院, 中国科学院, 计算, 计算所, ，, 后, 在, 日本, 京都, 大学, 日本京都大学, 深造\n"
     ]
    }
   ],
   "source": [
    "# 载入相关套件\n",
    "import numpy as np\n",
    "import jieba\n",
    "\n",
    "# 分词\n",
    "text = \"小明硕士毕业于中国科学院计算所，后在日本京都大学深造\"\n",
    "# cut_all=True：全模式\n",
    "seg_list = jieba.cut(text, cut_all=True)\n",
    "print(\"全模式: \" + \"/ \".join(seg_list))  \n",
    "\n",
    "# cut_all=False：精确模式\n",
    "seg_list = jieba.cut(text, cut_all=False)\n",
    "print(\"精确模式: \" + \"/ \".join(seg_list))  \n",
    "\n",
    "# cut_for_search：搜索引擎模式\n",
    "seg_list = jieba.cut_for_search(text)  \n",
    "print('搜索引擎模式: ', ', '.join(seg_list))"
   ]
  },
  {
   "cell_type": "markdown",
   "metadata": {},
   "source": [
    "## 繁体字分词"
   ]
  },
  {
   "cell_type": "code",
   "execution_count": 3,
   "metadata": {},
   "outputs": [
    {
     "name": "stderr",
     "output_type": "stream",
     "text": [
      "Building prefix dict from F:\\0_AI\\Books\\PyTorch\\簡體\\src_cn\\jieba\\dict.txt ...\n",
      "Dumping model to file cache C:\\WINDOWS\\TEMP\\jieba.u18c15c540fdb5e937d9c29c59f2cc217.cache\n",
      "Loading model cost 0.544 seconds.\n",
      "Prefix dict has been built successfully.\n"
     ]
    },
    {
     "name": "stdout",
     "output_type": "stream",
     "text": [
      "全模式: 新竹/ 的/ 交通/ 交通大/ 大學/ 在/ 新竹/ 的/ 大學/ 大學路/ 學路/ 路上\n",
      "精确模式: 新竹/ 的/ 交通/ 大學/ 在/ 新竹/ 的/ 大學路/ 上\n",
      "搜索引擎模式:  新竹, 的, 交通, 大學, 在, 新竹, 的, 大學, 學路, 大學路, 上\n"
     ]
    }
   ],
   "source": [
    "# 设定繁体字典\n",
    "jieba.set_dictionary('./jieba/dict.txt')\n",
    "\n",
    "# 分词\n",
    "text = \"新竹的交通大學在新竹的大學路上\"\n",
    "\n",
    "# cut_all=True：全模式\n",
    "seg_list = jieba.cut(text, cut_all=True)\n",
    "print(\"全模式: \" + \"/ \".join(seg_list))  \n",
    "\n",
    "# cut_all=False：精确模式\n",
    "seg_list = jieba.cut(text, cut_all=False)\n",
    "print(\"精确模式: \" + \"/ \".join(seg_list))  \n",
    "\n",
    "# cut_for_search：搜索引擎模式\n",
    "seg_list = jieba.cut_for_search(text)  \n",
    "print('搜索引擎模式: ', ', '.join(seg_list))"
   ]
  },
  {
   "cell_type": "markdown",
   "metadata": {},
   "source": [
    "## 分词，并显示字词位置"
   ]
  },
  {
   "cell_type": "code",
   "execution_count": 4,
   "metadata": {
    "scrolled": true
   },
   "outputs": [
    {
     "name": "stdout",
     "output_type": "stream",
     "text": [
      "单字\t开始位置\t结束位置\n",
      "新竹\t 0\t 2\n",
      "的\t 2\t 3\n",
      "交通\t 3\t 5\n",
      "大学\t 5\t 7\n",
      "在\t 7\t 8\n",
      "新竹\t 8\t10\n",
      "的\t10\t11\n",
      "大学路\t11\t14\n",
      "上\t14\t15\n"
     ]
    }
   ],
   "source": [
    "text = \"新竹的交通大学在新竹的大学路上\"\n",
    "result = jieba.tokenize(text)\n",
    "print(\"单字\\t开始位置\\t结束位置\")\n",
    "for tk in result:\n",
    "    print(f\"{tk[0]}\\t{tk[1]:-2d}\\t{tk[2]:-2d}\")"
   ]
  },
  {
   "cell_type": "markdown",
   "metadata": {},
   "source": [
    "## 加词"
   ]
  },
  {
   "cell_type": "code",
   "execution_count": 5,
   "metadata": {},
   "outputs": [
    {
     "name": "stdout",
     "output_type": "stream",
     "text": [
      "加词前的分词: 张/ 惠妹/ 在/ 演唱/ 会/ 演唱/ 三天三/ 夜\n",
      "加词后的分词: 张/ 惠妹/ 在/ 演唱/ 会/ 演唱/ 三天三夜\n"
     ]
    }
   ],
   "source": [
    "# 测试语句\n",
    "text = \"张惠妹在演唱会演唱三天三夜\"\n",
    "\n",
    "# 加词前的分词\n",
    "seg_list = jieba.cut(text, cut_all=False)\n",
    "print(\"加词前的分词: \" + \"/ \".join(seg_list))  \n",
    "\n",
    "# 加词\n",
    "jieba.add_word('三天三夜')\n",
    "\n",
    "seg_list = jieba.cut(text, cut_all=False)\n",
    "print(\"加词后的分词: \" + \"/ \".join(seg_list))  "
   ]
  },
  {
   "cell_type": "markdown",
   "metadata": {},
   "source": [
    "## 关键字萃取"
   ]
  },
  {
   "cell_type": "code",
   "execution_count": 6,
   "metadata": {},
   "outputs": [
    {
     "data": {
      "text/plain": [
       "['百貨公司', '水車', '中友', '用水', '限水', '封閉', '數間', '公廁', '因應', '20']"
      ]
     },
     "execution_count": 6,
     "metadata": {},
     "output_type": "execute_result"
    }
   ],
   "source": [
    "# 测试语句来自新闻 https://news.ltn.com.tw/news/life/breakingnews/3497315\n",
    "with open('./jieba/news.txt', encoding='utf8') as f:\n",
    "    text = f.read()\n",
    "\n",
    "# 加词前的分词\n",
    "import jieba.analyse\n",
    "\n",
    "jieba.analyse.extract_tags(text, topK=10)  "
   ]
  },
  {
   "cell_type": "markdown",
   "metadata": {},
   "source": [
    "## 设定停用词"
   ]
  },
  {
   "cell_type": "code",
   "execution_count": 7,
   "metadata": {},
   "outputs": [
    {
     "data": {
      "text/plain": [
       "['百貨公司', '水車', '中友', '用水', '限水', '封閉', '數間', '公廁', '百貨', '週二']"
      ]
     },
     "execution_count": 7,
     "metadata": {},
     "output_type": "execute_result"
    }
   ],
   "source": [
    "with open('./jieba/news.txt', encoding='utf8') as f:\n",
    "    text = f.read()\n",
    "\n",
    "import jieba.analyse\n",
    "\n",
    "# 设定停用词\n",
    "jieba.analyse.set_stop_words('./jieba/stop_words.txt')     \n",
    "    \n",
    "# 加词前的分词\n",
    "jieba.analyse.extract_tags(text, topK=10)  "
   ]
  },
  {
   "cell_type": "markdown",
   "metadata": {},
   "source": [
    "## 词性(POS)标注"
   ]
  },
  {
   "cell_type": "code",
   "execution_count": 11,
   "metadata": {},
   "outputs": [
    {
     "name": "stderr",
     "output_type": "stream",
     "text": [
      "Building prefix dict from F:\\0_AI\\Books\\PyTorch\\簡體\\src_cn\\jieba\\dict_org.txt ...\n",
      "Dumping model to file cache C:\\WINDOWS\\TEMP\\jieba.u41379fd7e2fad37cbc13067380f66812.cache\n",
      "Loading model cost 0.654 seconds.\n",
      "Prefix dict has been built successfully.\n"
     ]
    },
    {
     "name": "stdout",
     "output_type": "stream",
     "text": [
      "张惠妹 x\n",
      "在 P\n",
      "演唱会 x\n",
      "演唱 Vt\n",
      "三天三夜 x\n"
     ]
    }
   ],
   "source": [
    "# 设定简体字典\n",
    "jieba.set_dictionary('jieba/dict_org.txt')\n",
    "\n",
    "# 测试语句\n",
    "text = \"张惠妹在演唱会演唱三天三夜\"\n",
    "\n",
    "# 词性(POS)标注\n",
    "words = jieba.posseg.cut(text)     \n",
    "for word, flag in words:\n",
    "    print(f'{word} {flag}')"
   ]
  },
  {
   "cell_type": "code",
   "execution_count": null,
   "metadata": {},
   "outputs": [],
   "source": []
  }
 ],
 "metadata": {
  "kernelspec": {
   "display_name": "Python 3 (ipykernel)",
   "language": "python",
   "name": "python3"
  },
  "language_info": {
   "codemirror_mode": {
    "name": "ipython",
    "version": 3
   },
   "file_extension": ".py",
   "mimetype": "text/x-python",
   "name": "python",
   "nbconvert_exporter": "python",
   "pygments_lexer": "ipython3",
   "version": "3.9.7"
  }
 },
 "nbformat": 4,
 "nbformat_minor": 2
}
