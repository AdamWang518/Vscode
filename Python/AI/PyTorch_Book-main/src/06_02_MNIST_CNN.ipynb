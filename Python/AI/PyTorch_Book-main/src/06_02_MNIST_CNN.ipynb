{
 "cells": [
  {
   "cell_type": "markdown",
   "metadata": {},
   "source": [
    "# 手寫阿拉伯數字辨識 with CNN"
   ]
  },
  {
   "cell_type": "markdown",
   "metadata": {},
   "source": [
    "## 載入套件"
   ]
  },
  {
   "cell_type": "code",
   "execution_count": 1,
   "metadata": {},
   "outputs": [],
   "source": [
    "import os\n",
    "import torch\n",
    "from torch import nn\n",
    "from torch.nn import functional as F\n",
    "from torch.utils.data import DataLoader, random_split\n",
    "from torchmetrics import Accuracy\n",
    "from torchvision import transforms\n",
    "from torchvision.datasets import MNIST"
   ]
  },
  {
   "cell_type": "markdown",
   "metadata": {},
   "source": [
    "## 設定參數"
   ]
  },
  {
   "cell_type": "code",
   "execution_count": 2,
   "metadata": {},
   "outputs": [
    {
     "data": {
      "text/plain": [
       "'cuda'"
      ]
     },
     "execution_count": 2,
     "metadata": {},
     "output_type": "execute_result"
    }
   ],
   "source": [
    "# 設定參數\n",
    "PATH_DATASETS = \"\" # 預設路徑\n",
    "BATCH_SIZE = 1000  # 批量\n",
    "device = torch.device(\"cuda\" if torch.cuda.is_available() else \"cpu\")\n",
    "\"cuda\" if torch.cuda.is_available() else \"cpu\""
   ]
  },
  {
   "cell_type": "markdown",
   "metadata": {},
   "source": [
    "## 步驟1：載入 MNIST 手寫阿拉伯數字資料"
   ]
  },
  {
   "cell_type": "code",
   "execution_count": 3,
   "metadata": {},
   "outputs": [
    {
     "name": "stdout",
     "output_type": "stream",
     "text": [
      "torch.Size([60000, 28, 28]) torch.Size([10000, 28, 28])\n"
     ]
    }
   ],
   "source": [
    "# 下載 MNIST 手寫阿拉伯數字 訓練資料\n",
    "train_ds = MNIST(PATH_DATASETS, train=True, download=True, \n",
    "                 transform=transforms.ToTensor())\n",
    "\n",
    "# 下載測試資料\n",
    "test_ds = MNIST(PATH_DATASETS, train=False, download=True, \n",
    "                 transform=transforms.ToTensor())\n",
    "\n",
    "# 訓練/測試資料的維度\n",
    "print(train_ds.data.shape, test_ds.data.shape)"
   ]
  },
  {
   "cell_type": "markdown",
   "metadata": {},
   "source": [
    "## 步驟2：資料清理，此步驟無需進行"
   ]
  },
  {
   "cell_type": "markdown",
   "metadata": {},
   "source": [
    "## 步驟3：特徵工程，此步驟無需進行"
   ]
  },
  {
   "cell_type": "markdown",
   "metadata": {},
   "source": [
    "## 步驟4：資料分割，此步驟無需進行，載入MNIST資料時，已經切割好了"
   ]
  },
  {
   "cell_type": "markdown",
   "metadata": {},
   "source": [
    "## 步驟5：建立模型結構"
   ]
  },
  {
   "cell_type": "code",
   "execution_count": 4,
   "metadata": {},
   "outputs": [],
   "source": [
    "# 卷積/池化層公式計算\n",
    "import math\n",
    "\n",
    "# W, F, P, S：image Width, Filter width, Padding, Stride \n",
    "def Conv_Width(W, F, P, S):\n",
    "    return math.floor(((W - F + 2 * P) / S) + 1)\n",
    "\n",
    "def Conv_Output_Volume(W, F, P, S, out):\n",
    "    return Conv_Width(W, F, P, S) ** 2 * out\n",
    "\n",
    "# C: no of channels\n",
    "def Conv_Parameter_Count(F, C, out):\n",
    "    return F ** 2 * C * out\n",
    "\n",
    "def Pool_Width(W, F, P, S):\n",
    "    return Conv_Width(W, F, P, S)\n",
    "\n",
    "# filter_count: no of filter in last conv \n",
    "# stride count default value = Filter width\n",
    "def Pool_Output_Volume(W, F, P, S, filter_count):\n",
    "    return Conv_Output_Volume(W, F, P, S, filter_count)\n",
    "\n",
    "def Pool_Parameter_Count(W, F, S):\n",
    "    return 0"
   ]
  },
  {
   "cell_type": "code",
   "execution_count": 5,
   "metadata": {},
   "outputs": [
    {
     "name": "stdout",
     "output_type": "stream",
     "text": [
      "16\n",
      "8\n",
      "4\n"
     ]
    },
    {
     "data": {
      "text/plain": [
       "4"
      ]
     },
     "execution_count": 5,
     "metadata": {},
     "output_type": "execute_result"
    }
   ],
   "source": [
    "# test\n",
    "print(Pool_Width(Conv_Width(32, 3, 1, 1), 2, 0, 2))\n",
    "print(Pool_Width(Conv_Width(16, 3, 1, 1), 2, 0, 2))\n",
    "print(Pool_Width(Conv_Width(8, 3, 1, 1), 2, 0, 2))\n",
    "\n",
    "def Conv_Pool_Width(W, F, P, S, F2, P2, S2, n):\n",
    "    for i in range(n):\n",
    "        W = Pool_Width(Conv_Width(W, F, P, S), F2, P2, S2)\n",
    "    return W\n",
    "\n",
    "Conv_Pool_Width(32, 3, 1, 1, 2, 0, 2, 3)"
   ]
  },
  {
   "cell_type": "code",
   "execution_count": 6,
   "metadata": {},
   "outputs": [
    {
     "data": {
      "text/plain": [
       "26"
      ]
     },
     "execution_count": 6,
     "metadata": {},
     "output_type": "execute_result"
    }
   ],
   "source": [
    "Conv_Width(28, 3, 0, 1)"
   ]
  },
  {
   "cell_type": "code",
   "execution_count": 7,
   "metadata": {},
   "outputs": [
    {
     "name": "stdout",
     "output_type": "stream",
     "text": [
      "55 290400 34848\n",
      "55 290400 34848\n"
     ]
    }
   ],
   "source": [
    "# Input: 227x227x3 images, CONV1: 96 11x11 filters applied at stride 4\n",
    "print(Conv_Width(227, 11, 0, 4), Conv_Output_Volume(227, 11, 0, 4, 96), Conv_Parameter_Count(11, 3, 96))\n",
    "print(math.floor((227-11)/4)+1, 55*55*96, (11*11*3)*96)"
   ]
  },
  {
   "cell_type": "code",
   "execution_count": 8,
   "metadata": {},
   "outputs": [
    {
     "data": {
      "text/plain": [
       "(1568, 1568)"
      ]
     },
     "execution_count": 8,
     "metadata": {},
     "output_type": "execute_result"
    }
   ],
   "source": [
    "# Conv2d/MaxPool2d/Conv2d/MaxPool2d\n",
    "c1_Width = Conv_Width(28, 5, 2, 1)\n",
    "p1_Width = Pool_Width(c1_Width, 2, 0, 2)\n",
    "c2_Width = Conv_Width(p1_Width, 5, 2, 1)\n",
    "p2_out = Pool_Output_Volume(c2_Width, 2, 0, 2, 32)\n",
    "p2_out, 7*7*32"
   ]
  },
  {
   "cell_type": "code",
   "execution_count": 9,
   "metadata": {},
   "outputs": [],
   "source": [
    "# 建立模型\n",
    "class ConvNet(nn.Module):\n",
    "    def __init__(self, num_classes=10):\n",
    "        super(ConvNet, self).__init__()\n",
    "        self.layer1 = nn.Sequential(\n",
    "            # Conv2d 參數： in-channel, out-channel, kernel size, Stride, Padding\n",
    "            nn.Conv2d(1, 16, kernel_size=5, stride=1, padding=2),\n",
    "            nn.BatchNorm2d(16),\n",
    "            nn.ReLU(),\n",
    "            nn.MaxPool2d(kernel_size=2, stride=2))\n",
    "        self.layer2 = nn.Sequential(\n",
    "            nn.Conv2d(16, 32, kernel_size=5, stride=1, padding=2),\n",
    "            nn.BatchNorm2d(32),\n",
    "            nn.ReLU(),\n",
    "            nn.MaxPool2d(kernel_size=2, stride=2))\n",
    "        self.fc = nn.Linear(7*7*32, num_classes)\n",
    "        \n",
    "    def forward(self, x):\n",
    "        out = self.layer1(x)\n",
    "        out = self.layer2(out)\n",
    "        out = out.reshape(out.size(0), -1)\n",
    "        out = self.fc(out)\n",
    "        out = F.log_softmax(out, dim=1)\n",
    "        return out\n",
    "\n",
    "model = ConvNet().to(device)"
   ]
  },
  {
   "cell_type": "markdown",
   "metadata": {},
   "source": [
    "## 步驟6：結合訓練資料及模型，進行模型訓練"
   ]
  },
  {
   "cell_type": "code",
   "execution_count": 10,
   "metadata": {
    "scrolled": false
   },
   "outputs": [
    {
     "name": "stdout",
     "output_type": "stream",
     "text": [
      "Epoch 1: [10000 / 60000] (17 %)  Loss: 2.879874\n",
      "Epoch 1: [20000 / 60000] (33 %)  Loss: 2.337525\n",
      "Epoch 1: [30000 / 60000] (50 %)  Loss: 2.393248\n",
      "Epoch 1: [40000 / 60000] (67 %)  Loss: 2.262269\n",
      "Epoch 1: [50000 / 60000] (83 %)  Loss: 2.084842\n",
      "Epoch 1: [60000 / 60000] (100 %)  Loss: 1.739147\n",
      "Epoch 2: [10000 / 60000] (17 %)  Loss: 1.068708\n",
      "Epoch 2: [20000 / 60000] (33 %)  Loss: 0.731779\n",
      "Epoch 2: [30000 / 60000] (50 %)  Loss: 0.688745\n",
      "Epoch 2: [40000 / 60000] (67 %)  Loss: 0.643861\n",
      "Epoch 2: [50000 / 60000] (83 %)  Loss: 0.608218\n",
      "Epoch 2: [60000 / 60000] (100 %)  Loss: 0.355083\n",
      "Epoch 3: [10000 / 60000] (17 %)  Loss: 0.414634\n",
      "Epoch 3: [20000 / 60000] (33 %)  Loss: 0.337860\n",
      "Epoch 3: [30000 / 60000] (50 %)  Loss: 0.393468\n",
      "Epoch 3: [40000 / 60000] (67 %)  Loss: 0.407774\n",
      "Epoch 3: [50000 / 60000] (83 %)  Loss: 0.438660\n",
      "Epoch 3: [60000 / 60000] (100 %)  Loss: 0.267671\n",
      "Epoch 4: [10000 / 60000] (17 %)  Loss: 0.339682\n",
      "Epoch 4: [20000 / 60000] (33 %)  Loss: 0.271168\n",
      "Epoch 4: [30000 / 60000] (50 %)  Loss: 0.317178\n",
      "Epoch 4: [40000 / 60000] (67 %)  Loss: 0.289168\n",
      "Epoch 4: [50000 / 60000] (83 %)  Loss: 0.329210\n",
      "Epoch 4: [60000 / 60000] (100 %)  Loss: 0.210843\n",
      "Epoch 5: [10000 / 60000] (17 %)  Loss: 0.260720\n",
      "Epoch 5: [20000 / 60000] (33 %)  Loss: 0.201237\n",
      "Epoch 5: [30000 / 60000] (50 %)  Loss: 0.256202\n",
      "Epoch 5: [40000 / 60000] (67 %)  Loss: 0.242612\n",
      "Epoch 5: [50000 / 60000] (83 %)  Loss: 0.259315\n",
      "Epoch 5: [60000 / 60000] (100 %)  Loss: 0.173658\n",
      "Epoch 6: [10000 / 60000] (17 %)  Loss: 0.177385\n",
      "Epoch 6: [20000 / 60000] (33 %)  Loss: 0.147491\n",
      "Epoch 6: [30000 / 60000] (50 %)  Loss: 0.190660\n",
      "Epoch 6: [40000 / 60000] (67 %)  Loss: 0.200939\n",
      "Epoch 6: [50000 / 60000] (83 %)  Loss: 0.200858\n",
      "Epoch 6: [60000 / 60000] (100 %)  Loss: 0.141921\n",
      "Epoch 7: [10000 / 60000] (17 %)  Loss: 0.130720\n",
      "Epoch 7: [20000 / 60000] (33 %)  Loss: 0.117864\n",
      "Epoch 7: [30000 / 60000] (50 %)  Loss: 0.151661\n",
      "Epoch 7: [40000 / 60000] (67 %)  Loss: 0.168695\n",
      "Epoch 7: [50000 / 60000] (83 %)  Loss: 0.169322\n",
      "Epoch 7: [60000 / 60000] (100 %)  Loss: 0.106749\n",
      "Epoch 8: [10000 / 60000] (17 %)  Loss: 0.104835\n",
      "Epoch 8: [20000 / 60000] (33 %)  Loss: 0.091584\n",
      "Epoch 8: [30000 / 60000] (50 %)  Loss: 0.130318\n",
      "Epoch 8: [40000 / 60000] (67 %)  Loss: 0.147570\n",
      "Epoch 8: [50000 / 60000] (83 %)  Loss: 0.144810\n",
      "Epoch 8: [60000 / 60000] (100 %)  Loss: 0.094094\n",
      "Epoch 9: [10000 / 60000] (17 %)  Loss: 0.090526\n",
      "Epoch 9: [20000 / 60000] (33 %)  Loss: 0.074714\n",
      "Epoch 9: [30000 / 60000] (50 %)  Loss: 0.118701\n",
      "Epoch 9: [40000 / 60000] (67 %)  Loss: 0.126903\n",
      "Epoch 9: [50000 / 60000] (83 %)  Loss: 0.129066\n",
      "Epoch 9: [60000 / 60000] (100 %)  Loss: 0.095344\n",
      "Epoch 10: [10000 / 60000] (17 %)  Loss: 0.088709\n",
      "Epoch 10: [20000 / 60000] (33 %)  Loss: 0.065596\n",
      "Epoch 10: [30000 / 60000] (50 %)  Loss: 0.109238\n",
      "Epoch 10: [40000 / 60000] (67 %)  Loss: 0.115100\n",
      "Epoch 10: [50000 / 60000] (83 %)  Loss: 0.122725\n",
      "Epoch 10: [60000 / 60000] (100 %)  Loss: 0.092506\n"
     ]
    }
   ],
   "source": [
    "epochs = 10\n",
    "lr=0.1\n",
    "\n",
    "# 建立 DataLoader\n",
    "train_loader = DataLoader(train_ds, batch_size=BATCH_SIZE)\n",
    "\n",
    "# 設定優化器(optimizer)\n",
    "optimizer = torch.optim.Adam(model.parameters(), lr=lr)\n",
    "\n",
    "model.train()\n",
    "loss_list = []    \n",
    "for epoch in range(1, epochs + 1):\n",
    "    for batch_idx, (data, target) in enumerate(train_loader):\n",
    "        data, target = data.to(device), target.to(device)\n",
    "#         if batch_idx == 0 and epoch == 1: print(data[0])\n",
    "\n",
    "        optimizer.zero_grad()\n",
    "        output = model(data)\n",
    "        loss = F.nll_loss(output, target)\n",
    "        loss.backward()\n",
    "        optimizer.step()\n",
    "\n",
    "        if (batch_idx+1) % 10 == 0:\n",
    "            loss_list.append(loss.item())\n",
    "            batch = (batch_idx+1) * len(data)\n",
    "            data_count = len(train_loader.dataset)\n",
    "            percentage = (100. * (batch_idx+1) / len(train_loader))\n",
    "            print(f'Epoch {epoch}: [{batch:5d} / {data_count}] ({percentage:.0f} %)' +\n",
    "                  f'  Loss: {loss.item():.6f}')"
   ]
  },
  {
   "cell_type": "code",
   "execution_count": 11,
   "metadata": {
    "scrolled": false
   },
   "outputs": [
    {
     "data": {
      "text/plain": [
       "[<matplotlib.lines.Line2D at 0x1ca82a95af0>]"
      ]
     },
     "execution_count": 11,
     "metadata": {},
     "output_type": "execute_result"
    },
    {
     "data": {
      "image/png": "[encoded data removed]",
      "text/plain": [
       "<Figure size 432x288 with 1 Axes>"
      ]
     },
     "metadata": {
      "needs_background": "light"
     },
     "output_type": "display_data"
    }
   ],
   "source": [
    "# 對訓練過程的損失繪圖\n",
    "import matplotlib.pyplot as plt\n",
    "\n",
    "plt.plot(loss_list, 'r')"
   ]
  },
  {
   "cell_type": "markdown",
   "metadata": {},
   "source": [
    "## 步驟7：評分(Score Model)"
   ]
  },
  {
   "cell_type": "code",
   "execution_count": 12,
   "metadata": {
    "scrolled": true
   },
   "outputs": [
    {
     "name": "stdout",
     "output_type": "stream",
     "text": [
      "平均損失: 0.0001, 準確率: 9711/10000 (97.11%)\n",
      "\n"
     ]
    }
   ],
   "source": [
    "# 建立 DataLoader\n",
    "test_loader = DataLoader(test_ds, shuffle=False, batch_size=BATCH_SIZE)\n",
    "\n",
    "model.eval()\n",
    "test_loss = 0\n",
    "correct = 0\n",
    "with torch.no_grad():\n",
    "    for data, target in test_loader:\n",
    "        data, target = data.to(device), target.to(device)\n",
    "        output = model(data)\n",
    "        \n",
    "        # sum up batch loss\n",
    "        test_loss += F.nll_loss(output, target).item()\n",
    "        \n",
    "        # 預測\n",
    "        output = model(data)\n",
    "        \n",
    "        # 計算正確數\n",
    "        _, predicted = torch.max(output.data, 1)\n",
    "        correct += (predicted == target).sum().item()\n",
    "\n",
    "# 平均損失\n",
    "test_loss /= len(test_loader.dataset) \n",
    "# 顯示測試結果\n",
    "batch = batch_idx * len(data)\n",
    "data_count = len(test_loader.dataset)\n",
    "percentage = 100. * correct / data_count \n",
    "print(f'平均損失: {test_loss:.4f}, 準確率: {correct}/{data_count}' + \n",
    "      f' ({percentage:.2f}%)\\n')"
   ]
  },
  {
   "cell_type": "code",
   "execution_count": 13,
   "metadata": {},
   "outputs": [
    {
     "name": "stdout",
     "output_type": "stream",
     "text": [
      "actual    : [7 2 1 0 4 1 4 9 5 9 0 6 9 0 1 5 9 7 3 4]\n",
      "prediction:  7 2 1 0 4 1 4 9 5 9 0 6 9 0 1 5 9 7 3 4\n"
     ]
    }
   ],
   "source": [
    "# 實際預測 20 筆資料\n",
    "predictions = []\n",
    "with torch.no_grad():\n",
    "    for i in range(20):\n",
    "        data, target = test_ds[i][0], test_ds[i][1]\n",
    "        data = data.reshape(1, *data.shape).to(device)\n",
    "        output = torch.argmax(model(data), axis=-1)\n",
    "        predictions.append(str(output.item()))\n",
    "\n",
    "# 比對\n",
    "print('actual    :', test_ds.targets[0:20].numpy())\n",
    "print('prediction: ', ' '.join(predictions[0:20]))"
   ]
  },
  {
   "cell_type": "code",
   "execution_count": 14,
   "metadata": {},
   "outputs": [
    {
     "name": "stdout",
     "output_type": "stream",
     "text": [
      "torch.Size([1, 1, 28, 28])\n",
      "0~9預測機率: [[0.   0.   0.   0.7  0.   0.19 0.   0.   0.11 0.  ]]\n",
      "0~9預測機率: [3]\n"
     ]
    }
   ],
   "source": [
    "# 顯示第 9 筆的機率\n",
    "import numpy as np\n",
    "\n",
    "i=18\n",
    "data = test_ds[i][0]\n",
    "data = data.reshape(1, *data.shape).to(device)\n",
    "print(data.shape)\n",
    "predictions = torch.softmax(model(data), dim=1)\n",
    "print(f'0~9預測機率: {np.around(predictions.cpu().detach().numpy(), 2)}')\n",
    "print(f'0~9預測機率: {np.argmax(predictions.cpu().detach().numpy(), axis=-1)}')"
   ]
  },
  {
   "cell_type": "code",
   "execution_count": 15,
   "metadata": {
    "scrolled": true
   },
   "outputs": [
    {
     "data": {
      "image/png": "[encoded data removed]",
      "text/plain": [
       "<Figure size 432x288 with 1 Axes>"
      ]
     },
     "metadata": {
      "needs_background": "light"
     },
     "output_type": "display_data"
    }
   ],
   "source": [
    "# 顯示第 9 筆圖像\n",
    "X2 = test_ds[i][0] \n",
    "plt.imshow(X2.reshape(28,28), cmap='gray')\n",
    "plt.axis('off')\n",
    "plt.show() "
   ]
  },
  {
   "cell_type": "code",
   "execution_count": 16,
   "metadata": {},
   "outputs": [
    {
     "data": {
      "text/plain": [
       "tensor([[[0.0000, 0.0000, 0.0000, 0.0000, 0.0000, 0.0000, 0.0000, 0.0000,\n",
       "          0.0000, 0.0000, 0.0000, 0.0000, 0.0000, 0.0000, 0.0000, 0.0000,\n",
       "          0.0000, 0.0000, 0.0000, 0.0000, 0.0000, 0.0000, 0.0000, 0.0000,\n",
       "          0.0000, 0.0000, 0.0000, 0.0000],\n",
       "         [0.0000, 0.0000, 0.0000, 0.0000, 0.0000, 0.0000, 0.0000, 0.0000,\n",
       "          0.0000, 0.0000, 0.0000, 0.0000, 0.0000, 0.0000, 0.0000, 0.0000,\n",
       "          0.0000, 0.0000, 0.0000, 0.0000, 0.0000, 0.0000, 0.0000, 0.0000,\n",
       "          0.0000, 0.0000, 0.0000, 0.0000],\n",
       "         [0.0000, 0.0000, 0.0000, 0.0000, 0.0000, 0.0000, 0.0000, 0.0000,\n",
       "          0.0000, 0.0000, 0.0000, 0.0000, 0.0000, 0.0000, 0.0000, 0.0000,\n",
       "          0.0000, 0.0000, 0.0000, 0.0000, 0.0000, 0.0000, 0.0000, 0.0000,\n",
       "          0.0000, 0.0000, 0.0000, 0.0000],\n",
       "         [0.0000, 0.0000, 0.0000, 0.0000, 0.0000, 0.0000, 0.0000, 0.0000,\n",
       "          0.0000, 0.0000, 0.0000, 0.0000, 0.0000, 0.0000, 0.0000, 0.0000,\n",
       "          0.0000, 0.0000, 0.0000, 0.0000, 0.0000, 0.0000, 0.0000, 0.0000,\n",
       "          0.0000, 0.0000, 0.0000, 0.0000],\n",
       "         [0.0000, 0.0000, 0.0000, 0.0000, 0.0000, 0.0000, 0.0471, 0.1608,\n",
       "          0.5725, 0.5725, 0.1882, 0.0000, 0.0000, 0.0000, 0.0000, 0.0000,\n",
       "          0.0000, 0.0000, 0.0000, 0.0000, 0.0000, 0.0000, 0.0000, 0.0000,\n",
       "          0.0000, 0.0000, 0.0000, 0.0000],\n",
       "         [0.0000, 0.0000, 0.0000, 0.0000, 0.0000, 0.0471, 0.5059, 0.9922,\n",
       "          0.9922, 0.9922, 0.9804, 0.6392, 0.0706, 0.0000, 0.0000, 0.0000,\n",
       "          0.0000, 0.0000, 0.0000, 0.0000, 0.0000, 0.0000, 0.0000, 0.0000,\n",
       "          0.0000, 0.0000, 0.0000, 0.0000],\n",
       "         [0.0000, 0.0000, 0.0000, 0.0000, 0.0000, 0.5216, 0.9922, 0.9922,\n",
       "          0.9922, 0.9922, 0.9922, 0.9922, 0.8980, 0.2745, 0.0000, 0.0000,\n",
       "          0.0000, 0.0000, 0.0000, 0.0000, 0.0000, 0.0000, 0.0000, 0.0000,\n",
       "          0.0000, 0.0000, 0.0000, 0.0000],\n",
       "         [0.0000, 0.0000, 0.0000, 0.0000, 0.0000, 0.3961, 0.9922, 0.9882,\n",
       "          0.5686, 0.4000, 0.4196, 0.9294, 0.9922, 0.9686, 0.5020, 0.0392,\n",
       "          0.0000, 0.0000, 0.0000, 0.0000, 0.0000, 0.0000, 0.0000, 0.0000,\n",
       "          0.0000, 0.0000, 0.0000, 0.0000],\n",
       "         [0.0000, 0.0000, 0.0000, 0.0000, 0.0000, 0.7098, 0.9922, 0.6549,\n",
       "          0.0000, 0.0000, 0.0000, 0.2392, 0.9216, 0.9922, 0.9922, 0.6392,\n",
       "          0.0196, 0.0000, 0.0000, 0.0000, 0.0000, 0.0000, 0.0000, 0.0000,\n",
       "          0.0000, 0.0000, 0.0000, 0.0000],\n",
       "         [0.0000, 0.0000, 0.0000, 0.0000, 0.0000, 1.0000, 0.9922, 0.1686,\n",
       "          0.0000, 0.0000, 0.0000, 0.0000, 0.2275, 0.7569, 0.9922, 0.9922,\n",
       "          0.6431, 0.0157, 0.0000, 0.0000, 0.0000, 0.0000, 0.0000, 0.0000,\n",
       "          0.0000, 0.0000, 0.0000, 0.0000],\n",
       "         [0.0000, 0.0000, 0.0000, 0.0000, 0.0000, 0.7333, 0.9922, 0.1255,\n",
       "          0.0000, 0.0000, 0.0000, 0.0000, 0.0000, 0.2157, 0.9255, 0.9922,\n",
       "          0.9922, 0.3373, 0.0000, 0.0000, 0.0000, 0.0000, 0.0000, 0.0000,\n",
       "          0.0000, 0.0000, 0.0000, 0.0000],\n",
       "         [0.0000, 0.0000, 0.0000, 0.0000, 0.0000, 0.5725, 0.9922, 0.1255,\n",
       "          0.0000, 0.3922, 0.7451, 0.3412, 0.3412, 0.3412, 0.5765, 0.9922,\n",
       "          0.9922, 0.4824, 0.0000, 0.0000, 0.0000, 0.0000, 0.0000, 0.0000,\n",
       "          0.0000, 0.0000, 0.0000, 0.0000],\n",
       "         [0.0000, 0.0000, 0.0000, 0.0000, 0.0000, 0.3686, 0.9922, 0.3059,\n",
       "          0.1569, 0.9725, 0.9922, 0.9922, 0.9922, 0.9922, 0.9922, 0.9922,\n",
       "          0.9922, 0.8745, 0.3294, 0.0588, 0.0000, 0.0000, 0.0000, 0.0000,\n",
       "          0.0000, 0.0000, 0.0000, 0.0000],\n",
       "         [0.0000, 0.0000, 0.0000, 0.0000, 0.0000, 0.0549, 0.3608, 0.0471,\n",
       "          0.1373, 0.9412, 0.9922, 0.9922, 0.9922, 0.9922, 0.9922, 0.9922,\n",
       "          0.9922, 0.9922, 0.9922, 0.9569, 0.3490, 0.0392, 0.0000, 0.0000,\n",
       "          0.0000, 0.0000, 0.0000, 0.0000],\n",
       "         [0.0000, 0.0000, 0.0000, 0.0000, 0.0000, 0.0000, 0.0000, 0.0000,\n",
       "          0.0000, 0.2941, 0.6314, 0.7020, 0.9922, 0.9922, 0.9922, 0.9922,\n",
       "          0.9922, 0.9922, 0.9922, 0.9922, 0.9922, 0.8196, 0.1686, 0.0000,\n",
       "          0.0000, 0.0000, 0.0000, 0.0000],\n",
       "         [0.0000, 0.0000, 0.0000, 0.0000, 0.0000, 0.0000, 0.0000, 0.0000,\n",
       "          0.0000, 0.0000, 0.0000, 0.0118, 0.0627, 0.0627, 0.1529, 0.1490,\n",
       "          0.0627, 0.0627, 0.5686, 0.9529, 0.9922, 0.9922, 0.7255, 0.1882,\n",
       "          0.0000, 0.0000, 0.0000, 0.0000],\n",
       "         [0.0000, 0.0000, 0.0000, 0.0000, 0.0000, 0.0000, 0.0000, 0.0000,\n",
       "          0.0000, 0.0784, 0.2275, 0.0000, 0.0000, 0.0000, 0.0000, 0.0000,\n",
       "          0.0000, 0.0000, 0.0000, 0.2275, 0.8196, 0.9922, 0.9922, 0.7176,\n",
       "          0.0000, 0.0000, 0.0000, 0.0000],\n",
       "         [0.0000, 0.0000, 0.0000, 0.0000, 0.0000, 0.0000, 0.0000, 0.0000,\n",
       "          0.3020, 0.8667, 0.9686, 0.3098, 0.0000, 0.0000, 0.0000, 0.0000,\n",
       "          0.0000, 0.0000, 0.0000, 0.0000, 0.0510, 0.8588, 0.9922, 0.9412,\n",
       "          0.2824, 0.0000, 0.0000, 0.0000],\n",
       "         [0.0000, 0.0000, 0.0000, 0.0000, 0.0000, 0.0000, 0.0000, 0.0000,\n",
       "          0.3529, 0.9686, 0.9922, 0.9882, 0.2235, 0.0000, 0.0000, 0.0000,\n",
       "          0.0000, 0.0000, 0.0000, 0.0000, 0.0000, 0.2078, 0.9843, 0.9922,\n",
       "          0.7490, 0.0000, 0.0000, 0.0000],\n",
       "         [0.0000, 0.0000, 0.0000, 0.0000, 0.0000, 0.0000, 0.0000, 0.0000,\n",
       "          0.0000, 0.4549, 0.9922, 0.9922, 0.2314, 0.0000, 0.0000, 0.0000,\n",
       "          0.0000, 0.0000, 0.0000, 0.0000, 0.0000, 0.3882, 0.9882, 0.9922,\n",
       "          0.5686, 0.0000, 0.0000, 0.0000],\n",
       "         [0.0000, 0.0000, 0.0000, 0.0000, 0.0000, 0.0000, 0.0000, 0.0000,\n",
       "          0.0000, 0.0549, 0.7373, 0.9922, 0.8667, 0.6196, 0.1490, 0.0000,\n",
       "          0.0000, 0.0000, 0.0000, 0.4353, 0.8275, 0.9647, 0.9922, 0.9922,\n",
       "          0.5686, 0.0000, 0.0000, 0.0000],\n",
       "         [0.0000, 0.0000, 0.0000, 0.0000, 0.0000, 0.0000, 0.0000, 0.0000,\n",
       "          0.0000, 0.0000, 0.0471, 0.8667, 0.9647, 0.9922, 0.9843, 0.9765,\n",
       "          0.9765, 0.9765, 0.9765, 0.9922, 0.9922, 0.9922, 0.9922, 0.7843,\n",
       "          0.0745, 0.0000, 0.0000, 0.0000],\n",
       "         [0.0000, 0.0000, 0.0000, 0.0000, 0.0000, 0.0000, 0.0000, 0.0000,\n",
       "          0.0000, 0.0000, 0.0000, 0.0000, 0.3725, 0.7176, 0.8941, 0.9922,\n",
       "          0.9922, 0.9922, 0.9922, 0.9922, 0.9922, 0.7647, 0.4863, 0.0902,\n",
       "          0.0000, 0.0000, 0.0000, 0.0000],\n",
       "         [0.0000, 0.0000, 0.0000, 0.0000, 0.0000, 0.0000, 0.0000, 0.0000,\n",
       "          0.0000, 0.0000, 0.0000, 0.0000, 0.0000, 0.0000, 0.0941, 0.1451,\n",
       "          0.5412, 0.2902, 0.4941, 0.3451, 0.1451, 0.0275, 0.0000, 0.0000,\n",
       "          0.0000, 0.0000, 0.0000, 0.0000],\n",
       "         [0.0000, 0.0000, 0.0000, 0.0000, 0.0000, 0.0000, 0.0000, 0.0000,\n",
       "          0.0000, 0.0000, 0.0000, 0.0000, 0.0000, 0.0000, 0.0000, 0.0000,\n",
       "          0.0000, 0.0000, 0.0000, 0.0000, 0.0000, 0.0000, 0.0000, 0.0000,\n",
       "          0.0000, 0.0000, 0.0000, 0.0000],\n",
       "         [0.0000, 0.0000, 0.0000, 0.0000, 0.0000, 0.0000, 0.0000, 0.0000,\n",
       "          0.0000, 0.0000, 0.0000, 0.0000, 0.0000, 0.0000, 0.0000, 0.0000,\n",
       "          0.0000, 0.0000, 0.0000, 0.0000, 0.0000, 0.0000, 0.0000, 0.0000,\n",
       "          0.0000, 0.0000, 0.0000, 0.0000],\n",
       "         [0.0000, 0.0000, 0.0000, 0.0000, 0.0000, 0.0000, 0.0000, 0.0000,\n",
       "          0.0000, 0.0000, 0.0000, 0.0000, 0.0000, 0.0000, 0.0000, 0.0000,\n",
       "          0.0000, 0.0000, 0.0000, 0.0000, 0.0000, 0.0000, 0.0000, 0.0000,\n",
       "          0.0000, 0.0000, 0.0000, 0.0000],\n",
       "         [0.0000, 0.0000, 0.0000, 0.0000, 0.0000, 0.0000, 0.0000, 0.0000,\n",
       "          0.0000, 0.0000, 0.0000, 0.0000, 0.0000, 0.0000, 0.0000, 0.0000,\n",
       "          0.0000, 0.0000, 0.0000, 0.0000, 0.0000, 0.0000, 0.0000, 0.0000,\n",
       "          0.0000, 0.0000, 0.0000, 0.0000]]])"
      ]
     },
     "execution_count": 16,
     "metadata": {},
     "output_type": "execute_result"
    }
   ],
   "source": [
    "test_ds[i][0]"
   ]
  },
  {
   "cell_type": "markdown",
   "metadata": {},
   "source": [
    "## 步驟8：評估，暫不進行"
   ]
  },
  {
   "cell_type": "markdown",
   "metadata": {},
   "source": [
    "## 步驟9：模型佈署"
   ]
  },
  {
   "cell_type": "code",
   "execution_count": 17,
   "metadata": {},
   "outputs": [],
   "source": [
    "# 模型存檔\n",
    "torch.save(model, 'cnn_model.pth')\n",
    "\n",
    "# 模型載入\n",
    "model = torch.load('cnn_model.pth')"
   ]
  },
  {
   "cell_type": "markdown",
   "metadata": {},
   "source": [
    "## 步驟10：新資料預測"
   ]
  },
  {
   "cell_type": "code",
   "execution_count": 18,
   "metadata": {},
   "outputs": [
    {
     "name": "stdout",
     "output_type": "stream",
     "text": [
      "0.0000 0.0000 0.0000 0.0000 0.0000 0.0000 0.0000 0.0000 0.0000 0.0000 0.0000 0.0000 0.0000 0.0000 0.0000 0.0000 0.0000 0.0000 0.0000 0.0000 0.0000 0.0000 0.0000 0.0000 0.0000 0.0000 0.0000 0.0000 \n",
      "0.0000 0.0000 0.0000 0.0000 0.0000 0.0000 0.0000 0.0000 0.0000 0.0000 0.0000 0.0000 0.0000 0.0000 0.0000 0.0000 0.0000 0.0000 0.0000 0.0000 0.0000 0.0000 0.0000 0.0000 0.0000 0.0000 0.0000 0.0000 \n",
      "0.0000 0.0000 0.0000 0.0000 0.0000 0.0000 0.0000 0.0000 0.0000 0.0000 0.0001 0.0009 0.0034 0.0039 0.0039 0.0023 0.0002 0.0000 0.0000 0.0000 0.0000 0.0000 0.0000 0.0000 0.0000 0.0000 0.0000 0.0000 \n",
      "0.0000 0.0000 0.0000 0.0000 0.0000 0.0000 0.0000 0.0000 0.0004 0.0095 0.0545 0.1573 0.3003 0.3288 0.3262 0.2312 0.0661 0.0030 0.0000 0.0000 0.0000 0.0000 0.0000 0.0000 0.0000 0.0000 0.0000 0.0000 \n",
      "0.0000 0.0000 0.0000 0.0000 0.0000 0.0000 0.0000 0.0015 0.0639 0.3497 0.6573 0.8451 0.8961 0.9010 0.9000 0.8651 0.6149 0.0771 0.0003 0.0000 0.0000 0.0000 0.0000 0.0000 0.0000 0.0000 0.0000 0.0000 \n",
      "0.0000 0.0000 0.0000 0.0000 0.0000 0.0000 0.0016 0.0808 0.5191 0.8313 0.6267 0.4538 0.2849 0.2535 0.2572 0.4636 0.8668 0.2983 0.0052 0.0000 0.0000 0.0000 0.0000 0.0000 0.0000 0.0000 0.0000 0.0000 \n",
      "0.0000 0.0000 0.0000 0.0000 0.0000 0.0003 0.0524 0.5331 0.7914 0.3715 0.0622 0.0122 0.0032 0.0020 0.0024 0.1024 0.7572 0.5457 0.0260 0.0000 0.0000 0.0000 0.0000 0.0000 0.0000 0.0000 0.0000 0.0000 \n",
      "0.0000 0.0000 0.0000 0.0000 0.0000 0.0101 0.3204 0.8195 0.4602 0.0326 0.0004 0.0000 0.0000 0.0000 0.0064 0.2195 0.7417 0.3943 0.0188 0.0000 0.0000 0.0000 0.0000 0.0000 0.0000 0.0000 0.0000 0.0000 \n",
      "0.0000 0.0000 0.0000 0.0000 0.0000 0.0422 0.6378 0.7381 0.0992 0.0010 0.0000 0.0000 0.0001 0.0052 0.1437 0.7216 0.8089 0.1832 0.0022 0.0000 0.0000 0.0000 0.0000 0.0000 0.0000 0.0000 0.0000 0.0000 \n",
      "0.0000 0.0000 0.0000 0.0000 0.0000 0.0177 0.4299 0.8058 0.2833 0.0179 0.0002 0.0010 0.0363 0.2488 0.6838 0.8578 0.3136 0.0166 0.0001 0.0000 0.0000 0.0000 0.0000 0.0000 0.0000 0.0000 0.0000 0.0000 \n",
      "0.0000 0.0000 0.0000 0.0000 0.0000 0.0011 0.0931 0.5831 0.7391 0.2927 0.0383 0.0962 0.4896 0.8769 0.9350 0.4348 0.0326 0.0002 0.0000 0.0000 0.0000 0.0000 0.0000 0.0000 0.0000 0.0000 0.0000 0.0000 \n",
      "0.0000 0.0000 0.0000 0.0000 0.0000 0.0000 0.0028 0.1105 0.6123 0.8562 0.5456 0.6814 0.9016 0.9505 0.6706 0.0848 0.0007 0.0000 0.0000 0.0000 0.0000 0.0000 0.0000 0.0000 0.0000 0.0000 0.0000 0.0000 \n",
      "0.0000 0.0000 0.0000 0.0000 0.0000 0.0000 0.0000 0.0031 0.1186 0.5721 0.8167 0.6827 0.6250 0.8426 0.2629 0.0065 0.0000 0.0000 0.0000 0.0000 0.0000 0.0000 0.0000 0.0000 0.0000 0.0000 0.0000 0.0000 \n",
      "0.0000 0.0000 0.0000 0.0000 0.0000 0.0000 0.0000 0.0000 0.0021 0.0477 0.1599 0.1455 0.6853 0.7000 0.0820 0.0003 0.0000 0.0000 0.0000 0.0000 0.0000 0.0000 0.0000 0.0000 0.0000 0.0000 0.0000 0.0000 \n",
      "0.0000 0.0000 0.0000 0.0000 0.0000 0.0000 0.0000 0.0000 0.0000 0.0001 0.0040 0.2488 0.8492 0.3679 0.0106 0.0000 0.0000 0.0000 0.0000 0.0000 0.0000 0.0000 0.0000 0.0000 0.0000 0.0000 0.0000 0.0000 \n",
      "0.0000 0.0000 0.0000 0.0000 0.0000 0.0000 0.0000 0.0000 0.0000 0.0000 0.0165 0.4860 0.8405 0.1704 0.0012 0.0000 0.0000 0.0000 0.0000 0.0000 0.0000 0.0000 0.0000 0.0000 0.0000 0.0000 0.0000 0.0000 \n",
      "0.0000 0.0000 0.0000 0.0000 0.0000 0.0000 0.0000 0.0000 0.0000 0.0001 0.0647 0.7045 0.6706 0.0478 0.0001 0.0000 0.0000 0.0000 0.0000 0.0000 0.0000 0.0000 0.0000 0.0000 0.0000 0.0000 0.0000 0.0000 \n",
      "0.0000 0.0000 0.0000 0.0000 0.0000 0.0000 0.0000 0.0000 0.0000 0.0008 0.1527 0.8521 0.5069 0.0160 0.0000 0.0000 0.0000 0.0000 0.0000 0.0000 0.0000 0.0000 0.0000 0.0000 0.0000 0.0000 0.0000 0.0000 \n",
      "0.0000 0.0000 0.0000 0.0000 0.0000 0.0000 0.0000 0.0000 0.0000 0.0054 0.3345 0.9031 0.3232 0.0049 0.0000 0.0000 0.0000 0.0000 0.0000 0.0000 0.0000 0.0000 0.0000 0.0000 0.0000 0.0000 0.0000 0.0000 \n",
      "0.0000 0.0000 0.0000 0.0000 0.0000 0.0000 0.0000 0.0000 0.0000 0.0170 0.5033 0.8416 0.1521 0.0008 0.0000 0.0000 0.0000 0.0000 0.0000 0.0000 0.0000 0.0000 0.0000 0.0000 0.0000 0.0000 0.0000 0.0000 \n",
      "0.0000 0.0000 0.0000 0.0000 0.0000 0.0000 0.0000 0.0000 0.0001 0.0481 0.6701 0.7352 0.0698 0.0001 0.0000 0.0000 0.0000 0.0000 0.0000 0.0000 0.0000 0.0000 0.0000 0.0000 0.0000 0.0000 0.0000 0.0000 \n",
      "0.0000 0.0000 0.0000 0.0000 0.0000 0.0000 0.0000 0.0000 0.0003 0.1010 0.7782 0.6028 0.0317 0.0000 0.0000 0.0000 0.0000 0.0000 0.0000 0.0000 0.0000 0.0000 0.0000 0.0000 0.0000 0.0000 0.0000 0.0000 \n",
      "0.0000 0.0000 0.0000 0.0000 0.0000 0.0000 0.0000 0.0000 0.0002 0.0665 0.4466 0.3916 0.0243 0.0000 0.0000 0.0000 0.0000 0.0000 0.0000 0.0000 0.0000 0.0000 0.0000 0.0000 0.0000 0.0000 0.0000 0.0000 \n",
      "0.0000 0.0000 0.0000 0.0000 0.0000 0.0000 0.0000 0.0000 0.0000 0.0018 0.0143 0.0175 0.0008 0.0000 0.0000 0.0000 0.0000 0.0000 0.0000 0.0000 0.0000 0.0000 0.0000 0.0000 0.0000 0.0000 0.0000 0.0000 \n",
      "0.0000 0.0000 0.0000 0.0000 0.0000 0.0000 0.0000 0.0000 0.0000 0.0000 0.0000 0.0000 0.0000 0.0000 0.0000 0.0000 0.0000 0.0000 0.0000 0.0000 0.0000 0.0000 0.0000 0.0000 0.0000 0.0000 0.0000 0.0000 \n",
      "0.0000 0.0000 0.0000 0.0000 0.0000 0.0000 0.0000 0.0000 0.0000 0.0000 0.0000 0.0000 0.0000 0.0000 0.0000 0.0000 0.0000 0.0000 0.0000 0.0000 0.0000 0.0000 0.0000 0.0000 0.0000 0.0000 0.0000 0.0000 \n",
      "0.0000 0.0000 0.0000 0.0000 0.0000 0.0000 0.0000 0.0000 0.0000 0.0000 0.0000 0.0000 0.0000 0.0000 0.0000 0.0000 0.0000 0.0000 0.0000 0.0000 0.0000 0.0000 0.0000 0.0000 0.0000 0.0000 0.0000 0.0000 \n",
      "0.0000 0.0000 0.0000 0.0000 0.0000 0.0000 0.0000 0.0000 0.0000 0.0000 0.0000 0.0000 0.0000 0.0000 0.0000 0.0000 0.0000 0.0000 0.0000 0.0000 0.0000 0.0000 0.0000 0.0000 0.0000 0.0000 0.0000 0.0000 \n"
     ]
    }
   ],
   "source": [
    "# 使用小畫家，繪製 0~9，實際測試看看\n",
    "from skimage import io\n",
    "from skimage.transform import resize\n",
    "\n",
    "no=9\n",
    "uploaded_file = f'./myDigits/{no}.png'\n",
    "image1 = io.imread(uploaded_file, as_gray=True)\n",
    "\n",
    "# 縮為 (28, 28) 大小的影像\n",
    "data_shape = data.shape\n",
    "image_resized = resize(image1, data_shape[2:], anti_aliasing=True)    \n",
    "X1 = image_resized.reshape(*data_shape) #/ 255.0\n",
    "#print(X1[0])\n",
    "# 反轉顏色，顏色0為白色，與 RGB 色碼不同，它的 0 為黑色\n",
    "X1 = 1.0-X1\n",
    "\n",
    "for i in range(X1[0][0].shape[0]):\n",
    "    for j in range(X1[0][0].shape[1]):\n",
    "        print(f'{X1[0][0][i][j]:.4f}', end=' ')\n",
    "    print()"
   ]
  },
  {
   "cell_type": "code",
   "execution_count": 19,
   "metadata": {},
   "outputs": [
    {
     "data": {
      "image/png": "[encoded data removed]",
      "text/plain": [
       "<Figure size 432x288 with 1 Axes>"
      ]
     },
     "metadata": {
      "needs_background": "light"
     },
     "output_type": "display_data"
    }
   ],
   "source": [
    "# 顯示第10張圖片圖像\n",
    "import matplotlib.pyplot as plt\n",
    "\n",
    "# 繪製點陣圖，cmap='gray':灰階\n",
    "plt.imshow(X1.reshape(28,28), cmap='gray')\n",
    "\n",
    "# 隱藏刻度\n",
    "plt.axis('off') \n",
    "\n",
    "# 顯示圖形\n",
    "plt.show() "
   ]
  },
  {
   "cell_type": "code",
   "execution_count": 20,
   "metadata": {},
   "outputs": [
    {
     "name": "stdout",
     "output_type": "stream",
     "text": [
      "<class 'numpy.ndarray'> (28,)\n"
     ]
    },
    {
     "data": {
      "text/plain": [
       "['0000000000000000000000000000',\n",
       " '0000000000000000000000000000',\n",
       " '0000000000000000000000000000',\n",
       " '0000000000011111000000000000',\n",
       " '0000000001111111100000000000',\n",
       " '0000000011111111110000000000',\n",
       " '0000000111000001110000000000',\n",
       " '0000001110000001110000000000',\n",
       " '0000001100000011110000000000',\n",
       " '0000001110000111100000000000',\n",
       " '0000000111001111000000000000',\n",
       " '0000000111111110000000000000',\n",
       " '0000000011111110000000000000',\n",
       " '0000000000111100000000000000',\n",
       " '0000000000011100000000000000',\n",
       " '0000000000011100000000000000',\n",
       " '0000000000011000000000000000',\n",
       " '0000000000111000000000000000',\n",
       " '0000000000111000000000000000',\n",
       " '0000000000111000000000000000',\n",
       " '0000000000110000000000000000',\n",
       " '0000000001110000000000000000',\n",
       " '0000000000110000000000000000',\n",
       " '0000000000000000000000000000',\n",
       " '0000000000000000000000000000',\n",
       " '0000000000000000000000000000',\n",
       " '0000000000000000000000000000',\n",
       " '0000000000000000000000000000']"
      ]
     },
     "execution_count": 20,
     "metadata": {},
     "output_type": "execute_result"
    }
   ],
   "source": [
    "# 將非0的數字轉為1，顯示第1張圖片\n",
    "X2 = X1[0][0].copy()\n",
    "X2[X2>0.1]=1\n",
    "print(type(X2), X2[0].shape)\n",
    "# 將轉換後二維內容顯示出來，隱約可以看出數字為 5\n",
    "text_image=[]\n",
    "for i in range(X2.shape[0]):\n",
    "    text_image.append(''.join(X2[i].astype(int).astype(str)))\n",
    "text_image"
   ]
  },
  {
   "cell_type": "code",
   "execution_count": 21,
   "metadata": {},
   "outputs": [
    {
     "data": {
      "text/plain": [
       "(1, 1, 28, 28)"
      ]
     },
     "execution_count": 21,
     "metadata": {},
     "output_type": "execute_result"
    }
   ],
   "source": [
    "data_shape = X1.shape\n",
    "data_shape"
   ]
  },
  {
   "cell_type": "code",
   "execution_count": 22,
   "metadata": {},
   "outputs": [
    {
     "name": "stdout",
     "output_type": "stream",
     "text": [
      "actual/prediction: 9 7\n"
     ]
    }
   ],
   "source": [
    "X1 = torch.FloatTensor(X1).to(device)\n",
    "\n",
    "# 預測\n",
    "predictions = model(X1)\n",
    "# print(np.around(predictions.cpu().detach().numpy(), 2))\n",
    "print(f'actual/prediction: {no} {np.argmax(predictions.detach().cpu().numpy())}')"
   ]
  },
  {
   "cell_type": "code",
   "execution_count": 23,
   "metadata": {},
   "outputs": [
    {
     "data": {
      "text/plain": [
       "tensor([[-7.3714, -4.0189, -2.9344, -4.2950, -9.5384, -3.7033, -9.8322, -0.8409,\n",
       "         -0.9202, -2.8120]], device='cuda:0', grad_fn=<LogSoftmaxBackward0>)"
      ]
     },
     "execution_count": 23,
     "metadata": {},
     "output_type": "execute_result"
    }
   ],
   "source": [
    "model(X1)"
   ]
  },
  {
   "cell_type": "code",
   "execution_count": 24,
   "metadata": {
    "scrolled": true
   },
   "outputs": [
    {
     "name": "stdout",
     "output_type": "stream",
     "text": [
      "actual/prediction: 0 0\n",
      "actual/prediction: 1 1\n",
      "actual/prediction: 2 2\n",
      "actual/prediction: 3 3\n",
      "actual/prediction: 4 4\n",
      "actual/prediction: 5 5\n",
      "actual/prediction: 6 6\n",
      "actual/prediction: 7 7\n",
      "actual/prediction: 8 8\n",
      "actual/prediction: 9 7\n"
     ]
    }
   ],
   "source": [
    "# 讀取影像並轉為單色\n",
    "for i in range(10):\n",
    "    uploaded_file = f'./myDigits/{i}.png'\n",
    "    image1 = io.imread(uploaded_file, as_gray=True)\n",
    "\n",
    "    # 縮為 (28, 28) 大小的影像\n",
    "    image_resized = resize(image1, tuple(data_shape)[2:], anti_aliasing=True)    \n",
    "    X1 = image_resized.reshape(*data_shape) \n",
    "    \n",
    "    # 反轉顏色，顏色0為白色，與 RGB 色碼不同，它的 0 為黑色\n",
    "    X1 = 1.0-X1\n",
    "    \n",
    "    X1 = torch.FloatTensor(X1).to(device)\n",
    "    \n",
    "    # 預測\n",
    "    predictions = torch.softmax(model(X1), dim=1)\n",
    "    # print(np.around(predictions.cpu().detach().numpy(), 2))\n",
    "    print(f'actual/prediction: {i} {np.argmax(predictions.detach().cpu().numpy())}')"
   ]
  },
  {
   "cell_type": "markdown",
   "metadata": {},
   "source": [
    "## 其他：顯示模型彙總資訊(summary)、繪製圖形顯示模型結構"
   ]
  },
  {
   "cell_type": "code",
   "execution_count": 25,
   "metadata": {
    "scrolled": true
   },
   "outputs": [
    {
     "name": "stdout",
     "output_type": "stream",
     "text": [
      "layer1: Sequential(\n",
      "  (0): Conv2d(1, 16, kernel_size=(5, 5), stride=(1, 1), padding=(2, 2))\n",
      "  (1): BatchNorm2d(16, eps=1e-05, momentum=0.1, affine=True, track_running_stats=True)\n",
      "  (2): ReLU()\n",
      "  (3): MaxPool2d(kernel_size=2, stride=2, padding=0, dilation=1, ceil_mode=False)\n",
      ")\n",
      "layer2: Sequential(\n",
      "  (0): Conv2d(16, 32, kernel_size=(5, 5), stride=(1, 1), padding=(2, 2))\n",
      "  (1): BatchNorm2d(32, eps=1e-05, momentum=0.1, affine=True, track_running_stats=True)\n",
      "  (2): ReLU()\n",
      "  (3): MaxPool2d(kernel_size=2, stride=2, padding=0, dilation=1, ceil_mode=False)\n",
      ")\n",
      "fc: Linear(in_features=1568, out_features=10, bias=True)\n"
     ]
    }
   ],
   "source": [
    "# 顯示模型的彙總資訊\n",
    "for name, module in model.named_children():\n",
    "    print(f'{name}: {module}')"
   ]
  },
  {
   "cell_type": "code",
   "execution_count": null,
   "metadata": {},
   "outputs": [],
   "source": []
  }
 ],
 "metadata": {
  "kernelspec": {
   "display_name": "Python 3 (ipykernel)",
   "language": "python",
   "name": "python3"
  },
  "language_info": {
   "codemirror_mode": {
    "name": "ipython",
    "version": 3
   },
   "file_extension": ".py",
   "mimetype": "text/x-python",
   "name": "python",
   "nbconvert_exporter": "python",
   "pygments_lexer": "ipython3",
   "version": "3.9.7"
  }
 },
 "nbformat": 4,
 "nbformat_minor": 4
}
