{
 "cells": [
  {
   "cell_type": "markdown",
   "metadata": {},
   "source": [
    "# 超參數調校(Hyperparameter tuning)"
   ]
  },
  {
   "cell_type": "markdown",
   "metadata": {},
   "source": [
    "## 安裝套件"
   ]
  },
  {
   "cell_type": "code",
   "execution_count": 1,
   "metadata": {},
   "outputs": [
    {
     "name": "stdout",
     "output_type": "stream",
     "text": [
      "Requirement already satisfied: ray in f:\\anaconda3\\lib\\site-packages (1.9.0)\n",
      "Requirement already satisfied: msgpack<2.0.0,>=1.0.0 in f:\\anaconda3\\lib\\site-packages (from ray) (1.0.2)\n",
      "Requirement already satisfied: redis>=3.5.0 in c:\\users\\mikec\\appdata\\roaming\\python\\python38\\site-packages (from ray) (3.5.3)\n",
      "Requirement already satisfied: jsonschema in c:\\users\\mikec\\appdata\\roaming\\python\\python38\\site-packages (from ray) (3.2.0)\n",
      "Requirement already satisfied: protobuf>=3.15.3 in f:\\anaconda3\\lib\\site-packages (from ray) (3.19.1)\n",
      "Requirement already satisfied: grpcio>=1.28.1 in f:\\anaconda3\\lib\\site-packages (from ray) (1.43.0)\n",
      "Requirement already satisfied: pyyaml in f:\\anaconda3\\lib\\site-packages (from ray) (5.4.1)\n",
      "Requirement already satisfied: attrs in c:\\users\\mikec\\appdata\\roaming\\python\\python38\\site-packages (from ray) (20.3.0)\n",
      "Requirement already satisfied: numpy>=1.16 in f:\\anaconda3\\lib\\site-packages (from ray) (1.19.5)\n",
      "Requirement already satisfied: filelock in f:\\anaconda3\\lib\\site-packages (from ray) (3.0.12)\n",
      "Requirement already satisfied: click>=7.0 in f:\\anaconda3\\lib\\site-packages (from ray) (7.1.2)\n",
      "Requirement already satisfied: six>=1.5.2 in c:\\users\\mikec\\appdata\\roaming\\python\\python38\\site-packages (from grpcio>=1.28.1->ray) (1.15.0)\n",
      "Requirement already satisfied: setuptools in f:\\anaconda3\\lib\\site-packages (from jsonschema->ray) (52.0.0.post20210125)\n",
      "Requirement already satisfied: pyrsistent>=0.14.0 in c:\\users\\mikec\\appdata\\roaming\\python\\python38\\site-packages (from jsonschema->ray) (0.17.3)\n"
     ]
    }
   ],
   "source": [
    "!pip install ray"
   ]
  },
  {
   "cell_type": "markdown",
   "metadata": {},
   "source": [
    "## 載入套件"
   ]
  },
  {
   "cell_type": "code",
   "execution_count": 2,
   "metadata": {},
   "outputs": [],
   "source": [
    "import numpy as np\n",
    "import torch\n",
    "import torch.optim as optim\n",
    "import torch.nn as nn\n",
    "from torchvision import datasets, transforms\n",
    "from torch.utils.data import DataLoader\n",
    "import torch.nn.functional as F\n",
    "from ray import tune\n",
    "from ray.tune.schedulers import ASHAScheduler"
   ]
  },
  {
   "cell_type": "markdown",
   "metadata": {},
   "source": [
    "## 判斷是否有GPU"
   ]
  },
  {
   "cell_type": "code",
   "execution_count": 3,
   "metadata": {},
   "outputs": [
    {
     "data": {
      "text/plain": [
       "'cuda'"
      ]
     },
     "execution_count": 3,
     "metadata": {},
     "output_type": "execute_result"
    }
   ],
   "source": [
    "device = torch.device(\"cuda\" if torch.cuda.is_available() else \"cpu\")\n",
    "\"cuda\" if torch.cuda.is_available() else \"cpu\""
   ]
  },
  {
   "cell_type": "markdown",
   "metadata": {},
   "source": [
    "## 建立模型結構"
   ]
  },
  {
   "cell_type": "code",
   "execution_count": 5,
   "metadata": {},
   "outputs": [],
   "source": [
    "class ConvNet(nn.Module):\n",
    "    def __init__(self):\n",
    "        super(ConvNet, self).__init__()\n",
    "        # In this example, we don't change the model architecture\n",
    "        # due to simplicity.\n",
    "        self.conv1 = nn.Conv2d(1, 3, kernel_size=3)\n",
    "        self.fc = nn.Linear(192, 10)\n",
    "\n",
    "    def forward(self, x):\n",
    "        x = F.relu(F.max_pool2d(self.conv1(x), 3))\n",
    "        x = x.view(-1, 192)\n",
    "        x = self.fc(x)\n",
    "        return F.log_softmax(x, dim=1)"
   ]
  },
  {
   "cell_type": "markdown",
   "metadata": {},
   "source": [
    "## 定義模型訓練及測試函數"
   ]
  },
  {
   "cell_type": "code",
   "execution_count": 40,
   "metadata": {
    "scrolled": false
   },
   "outputs": [],
   "source": [
    "# 訓練週期\n",
    "EPOCH_SIZE = 5\n",
    "\n",
    "# 定義模型訓練函數\n",
    "def train(model, optimizer, train_loader):\n",
    "    model.train()\n",
    "    for batch_idx, (data, target) in enumerate(train_loader):\n",
    "        data, target = data.to(device), target.to(device)\n",
    "        optimizer.zero_grad()\n",
    "        output = model(data)\n",
    "        loss = F.nll_loss(output, target)\n",
    "        loss.backward()\n",
    "        optimizer.step()\n",
    "\n",
    "# 定義模型測試函數\n",
    "def test(model, data_loader):\n",
    "    model.eval()\n",
    "    correct = 0\n",
    "    total = 0\n",
    "    with torch.no_grad():\n",
    "        for batch_idx, (data, target) in enumerate(data_loader):\n",
    "            data, target = data.to(device), target.to(device)\n",
    "            outputs = model(data)\n",
    "            # 準確數計算\n",
    "            _, predicted = torch.max(outputs.data, 1)\n",
    "            total += target.size(0)\n",
    "            correct += (predicted == target).sum().item()\n",
    "\n",
    "    return correct / total"
   ]
  },
  {
   "cell_type": "markdown",
   "metadata": {},
   "source": [
    "## 定義特徵縮放函數"
   ]
  },
  {
   "cell_type": "code",
   "execution_count": 41,
   "metadata": {},
   "outputs": [],
   "source": [
    "mnist_transforms = transforms.Compose(\n",
    "    [transforms.ToTensor(),\n",
    "     transforms.Normalize((0.1307, ), (0.3081, ))\n",
    "    ])"
   ]
  },
  {
   "cell_type": "markdown",
   "metadata": {},
   "source": [
    "## 定義資料載入及模型訓練函數"
   ]
  },
  {
   "cell_type": "code",
   "execution_count": 42,
   "metadata": {
    "scrolled": false
   },
   "outputs": [],
   "source": [
    "def train_mnist(config):\n",
    "    # 載入 MNIST 手寫阿拉伯數字資料\n",
    "    train_loader = DataLoader(\n",
    "        datasets.MNIST(\"\", train=True, transform=mnist_transforms),\n",
    "        batch_size=64,\n",
    "        shuffle=True)\n",
    "    test_loader = DataLoader(\n",
    "        datasets.MNIST(\"\", train=False, transform=mnist_transforms),\n",
    "        batch_size=64,\n",
    "        shuffle=True)\n",
    "\n",
    "    # 建立模型\n",
    "    model = ConvNet().to(device)\n",
    "\n",
    "    # 優化器，使用組態參數\n",
    "    optimizer = optim.SGD(model.parameters(), \n",
    "                          lr=config[\"lr\"], momentum=config[\"momentum\"])\n",
    "    # 訓練 10 週期\n",
    "    for i in range(10):\n",
    "        train(model, optimizer, train_loader)\n",
    "        # 測試\n",
    "        acc = test(model, test_loader)\n",
    "\n",
    "        # 訓練結果交回給 Ray Tune\n",
    "        tune.report(mean_accuracy=acc)\n",
    "\n",
    "        # 每 5 週期存檔一次\n",
    "        if i % 5 == 0:\n",
    "            torch.save(model.state_dict(), \"./model.pth\")"
   ]
  },
  {
   "cell_type": "markdown",
   "metadata": {},
   "source": [
    "## 參數調校"
   ]
  },
  {
   "cell_type": "code",
   "execution_count": 56,
   "metadata": {
    "scrolled": true
   },
   "outputs": [
    {
     "data": {
      "text/html": [
       "== Status ==<br>Current time: 2022-01-02 21:10:41 (running for 00:00:00.13)<br>Memory usage on this node: 8.8/15.9 GiB<br>Using FIFO scheduling algorithm.<br>Resources requested: 0/6 CPUs, 0/1 GPUs, 0.0/5.36 GiB heap, 0.0/2.68 GiB objects<br>Result logdir: C:\\Users\\mikec\\ray_results\\train_mnist_2022-01-02_21-10-41<br>Number of trials: 3/3 (3 PENDING)<br><table>\n",
       "<thead>\n",
       "<tr><th>Trial name             </th><th>status  </th><th>loc  </th><th style=\"text-align: right;\">  lr</th><th style=\"text-align: right;\">  momentum</th></tr>\n",
       "</thead>\n",
       "<tbody>\n",
       "<tr><td>train_mnist_632aa_00000</td><td>PENDING </td><td>     </td><td style=\"text-align: right;\">0.01</td><td style=\"text-align: right;\">  0.620798</td></tr>\n",
       "<tr><td>train_mnist_632aa_00001</td><td>PENDING </td><td>     </td><td style=\"text-align: right;\">0.1 </td><td style=\"text-align: right;\">  0.409923</td></tr>\n",
       "<tr><td>train_mnist_632aa_00002</td><td>PENDING </td><td>     </td><td style=\"text-align: right;\">0.5 </td><td style=\"text-align: right;\">  0.651037</td></tr>\n",
       "</tbody>\n",
       "</table><br><br>"
      ],
      "text/plain": [
       "<IPython.core.display.HTML object>"
      ]
     },
     "metadata": {},
     "output_type": "display_data"
    },
    {
     "name": "stdout",
     "output_type": "stream",
     "text": [
      " pid=21828)\u001b[0m Downloading http://yann.lecun.com/exdb/mnist/train-images-idx3-ubyte.gz\n",
      " pid=21828)\u001b[0m Downloading http://yann.lecun.com/exdb/mnist/train-images-idx3-ubyte.gz to MNIST\\raw\\train-images-idx3-ubyte.gz\n"
     ]
    },
    {
     "name": "stderr",
     "output_type": "stream",
     "text": [
      "  0%|          | 0/9912422 [00:00<?, ?it/s]\n",
      "  1%|▏         | 131072/9912422 [00:00<00:12, 777516.97it/s]\n",
      "  3%|▎         | 263168/9912422 [00:00<00:14, 686332.14it/s]\n",
      "  4%|▍         | 395264/9912422 [00:00<00:14, 648659.91it/s]\n",
      "  6%|▋         | 631808/9912422 [00:00<00:11, 833027.37it/s]\n",
      " 10%|▉         | 962560/9912422 [00:01<00:08, 995612.85it/s]\n",
      " 22%|██▏       | 2211840/9912422 [00:01<00:02, 2730033.53it/s]\n",
      " 26%|██▌       | 2572288/9912422 [00:01<00:02, 2871763.58it/s]\n",
      " 34%|███▎      | 3332096/9912422 [00:01<00:01, 3996567.58it/s]\n",
      " 39%|███▉      | 3871744/9912422 [00:01<00:01, 4351303.55it/s]\n"
     ]
    },
    {
     "data": {
      "text/html": [
       "== Status ==<br>Current time: 2022-01-02 21:10:46 (running for 00:00:05.20)<br>Memory usage on this node: 9.0/15.9 GiB<br>Using FIFO scheduling algorithm.<br>Resources requested: 1.0/6 CPUs, 1.0/1 GPUs, 0.0/5.36 GiB heap, 0.0/2.68 GiB objects<br>Result logdir: C:\\Users\\mikec\\ray_results\\train_mnist_2022-01-02_21-10-41<br>Number of trials: 3/3 (2 PENDING, 1 RUNNING)<br><table>\n",
       "<thead>\n",
       "<tr><th>Trial name             </th><th>status  </th><th>loc            </th><th style=\"text-align: right;\">  lr</th><th style=\"text-align: right;\">  momentum</th></tr>\n",
       "</thead>\n",
       "<tbody>\n",
       "<tr><td>train_mnist_632aa_00000</td><td>RUNNING </td><td>127.0.0.1:21828</td><td style=\"text-align: right;\">0.01</td><td style=\"text-align: right;\">  0.620798</td></tr>\n",
       "<tr><td>train_mnist_632aa_00001</td><td>PENDING </td><td>               </td><td style=\"text-align: right;\">0.1 </td><td style=\"text-align: right;\">  0.409923</td></tr>\n",
       "<tr><td>train_mnist_632aa_00002</td><td>PENDING </td><td>               </td><td style=\"text-align: right;\">0.5 </td><td style=\"text-align: right;\">  0.651037</td></tr>\n",
       "</tbody>\n",
       "</table><br><br>"
      ],
      "text/plain": [
       "<IPython.core.display.HTML object>"
      ]
     },
     "metadata": {},
     "output_type": "display_data"
    },
    {
     "name": "stderr",
     "output_type": "stream",
     "text": [
      " 50%|████▉     | 4932608/9912422 [00:01<00:01, 3786415.82it/s]\n",
      " 55%|█████▌    | 5494784/9912422 [00:02<00:01, 3159290.66it/s]\n",
      " 59%|█████▉    | 5871616/9912422 [00:02<00:01, 2160387.81it/s]\n",
      " 69%|██████▉   | 6843392/9912422 [00:02<00:01, 3055994.71it/s]\n",
      " 75%|███████▌  | 7449600/9912422 [00:02<00:00, 2837882.09it/s]\n",
      " 79%|███████▉  | 7811072/9912422 [00:03<00:00, 2469421.28it/s]\n",
      "9913344it [00:03, 3067231.81it/s]                             \n"
     ]
    },
    {
     "name": "stdout",
     "output_type": "stream",
     "text": [
      " pid=21828)\u001b[0m Extracting MNIST\\raw\\train-images-idx3-ubyte.gz to MNIST\\raw\n",
      " pid=21828)\u001b[0m itFunc\n",
      " pid=21828)\u001b[0m Downloading http://yann.lecun.com/exdb/mnist/train-labels-idx1-ubyte.gz\n",
      " pid=21828)\u001b[0m Downloading http://yann.lecun.com/exdb/mnist/train-labels-idx1-ubyte.gz to MNIST\\raw\\train-labels-idx1-ubyte.gz\n"
     ]
    },
    {
     "name": "stderr",
     "output_type": "stream",
     "text": [
      "\u001b[2m\u001b[36m(ImplicitFunc\r",
      " pid=21828)\u001b[0m \r",
      "  0%|          | 0/28881 [00:00<?, ?it/s]\r",
      "29696it [00:00, ?it/s]                   \r\n"
     ]
    },
    {
     "name": "stdout",
     "output_type": "stream",
     "text": [
      " pid=21828)\u001b[0m Extracting MNIST\\raw\\train-labels-idx1-ubyte.gz to MNIST\\raw\n",
      " pid=21828)\u001b[0m itFunc\n",
      " pid=21828)\u001b[0m Downloading http://yann.lecun.com/exdb/mnist/t10k-images-idx3-ubyte.gz\n",
      " pid=21828)\u001b[0m Downloading http://yann.lecun.com/exdb/mnist/t10k-images-idx3-ubyte.gz to MNIST\\raw\\t10k-images-idx3-ubyte.gz\n"
     ]
    },
    {
     "name": "stderr",
     "output_type": "stream",
     "text": [
      "  0%|          | 0/1648877 [00:00<?, ?it/s]\n",
      "  8%|▊         | 131072/1648877 [00:00<00:02, 741850.61it/s]\n",
      " 16%|█▌        | 263168/1648877 [00:00<00:02, 688641.86it/s]\n",
      " 24%|██▍       | 395264/1648877 [00:00<00:01, 671525.69it/s]\n",
      " 37%|███▋      | 603136/1648877 [00:00<00:01, 820111.88it/s]\n",
      " 54%|█████▍    | 896000/1648877 [00:00<00:00, 1051652.35it/s]\n",
      " 77%|███████▋  | 1264640/1648877 [00:01<00:00, 1313844.51it/s]\n",
      "1649664it [00:01, 1294592.61it/s]                             \n"
     ]
    },
    {
     "name": "stdout",
     "output_type": "stream",
     "text": [
      " pid=21828)\u001b[0m Extracting MNIST\\raw\\t10k-images-idx3-ubyte.gz to MNIST\\raw\n",
      " pid=21828)\u001b[0m itFunc\n",
      " pid=21828)\u001b[0m Downloading http://yann.lecun.com/exdb/mnist/t10k-labels-idx1-ubyte.gz\n",
      " pid=21828)\u001b[0m Downloading http://yann.lecun.com/exdb/mnist/t10k-labels-idx1-ubyte.gz to MNIST\\raw\\t10k-labels-idx1-ubyte.gz\n"
     ]
    },
    {
     "name": "stderr",
     "output_type": "stream",
     "text": [
      "\u001b[2m\u001b[36m(ImplicitFunc\r",
      " pid=21828)\u001b[0m \r",
      "  0%|          | 0/4542 [00:00<?, ?it/s]\r",
      "5120it [00:00, ?it/s]                   \r\n"
     ]
    },
    {
     "name": "stdout",
     "output_type": "stream",
     "text": [
      "\u001b[2m\u001b[36m(ImplicitFunc\r",
      " pid=21828)\u001b[0m Extracting MNIST\\raw\\t10k-labels-idx1-ubyte.gz to MNIST\\raw\r\n",
      "\u001b[2m\u001b[36m(ImplicitFunc\r",
      " pid=21828)\u001b[0m \r\n"
     ]
    },
    {
     "data": {
      "text/html": [
       "== Status ==<br>Current time: 2022-01-02 21:10:52 (running for 00:00:11.20)<br>Memory usage on this node: 9.3/15.9 GiB<br>Using FIFO scheduling algorithm.<br>Resources requested: 1.0/6 CPUs, 1.0/1 GPUs, 0.0/5.36 GiB heap, 0.0/2.68 GiB objects<br>Result logdir: C:\\Users\\mikec\\ray_results\\train_mnist_2022-01-02_21-10-41<br>Number of trials: 3/3 (2 PENDING, 1 RUNNING)<br><table>\n",
       "<thead>\n",
       "<tr><th>Trial name             </th><th>status  </th><th>loc            </th><th style=\"text-align: right;\">  lr</th><th style=\"text-align: right;\">  momentum</th></tr>\n",
       "</thead>\n",
       "<tbody>\n",
       "<tr><td>train_mnist_632aa_00000</td><td>RUNNING </td><td>127.0.0.1:21828</td><td style=\"text-align: right;\">0.01</td><td style=\"text-align: right;\">  0.620798</td></tr>\n",
       "<tr><td>train_mnist_632aa_00001</td><td>PENDING </td><td>               </td><td style=\"text-align: right;\">0.1 </td><td style=\"text-align: right;\">  0.409923</td></tr>\n",
       "<tr><td>train_mnist_632aa_00002</td><td>PENDING </td><td>               </td><td style=\"text-align: right;\">0.5 </td><td style=\"text-align: right;\">  0.651037</td></tr>\n",
       "</tbody>\n",
       "</table><br><br>"
      ],
      "text/plain": [
       "<IPython.core.display.HTML object>"
      ]
     },
     "metadata": {},
     "output_type": "display_data"
    },
    {
     "data": {
      "text/html": [
       "== Status ==<br>Current time: 2022-01-02 21:10:58 (running for 00:00:16.26)<br>Memory usage on this node: 10.6/15.9 GiB<br>Using FIFO scheduling algorithm.<br>Resources requested: 1.0/6 CPUs, 1.0/1 GPUs, 0.0/5.36 GiB heap, 0.0/2.68 GiB objects<br>Result logdir: C:\\Users\\mikec\\ray_results\\train_mnist_2022-01-02_21-10-41<br>Number of trials: 3/3 (2 PENDING, 1 RUNNING)<br><table>\n",
       "<thead>\n",
       "<tr><th>Trial name             </th><th>status  </th><th>loc            </th><th style=\"text-align: right;\">  lr</th><th style=\"text-align: right;\">  momentum</th></tr>\n",
       "</thead>\n",
       "<tbody>\n",
       "<tr><td>train_mnist_632aa_00000</td><td>RUNNING </td><td>127.0.0.1:21828</td><td style=\"text-align: right;\">0.01</td><td style=\"text-align: right;\">  0.620798</td></tr>\n",
       "<tr><td>train_mnist_632aa_00001</td><td>PENDING </td><td>               </td><td style=\"text-align: right;\">0.1 </td><td style=\"text-align: right;\">  0.409923</td></tr>\n",
       "<tr><td>train_mnist_632aa_00002</td><td>PENDING </td><td>               </td><td style=\"text-align: right;\">0.5 </td><td style=\"text-align: right;\">  0.651037</td></tr>\n",
       "</tbody>\n",
       "</table><br><br>"
      ],
      "text/plain": [
       "<IPython.core.display.HTML object>"
      ]
     },
     "metadata": {},
     "output_type": "display_data"
    },
    {
     "data": {
      "text/html": [
       "== Status ==<br>Current time: 2022-01-02 21:11:03 (running for 00:00:21.31)<br>Memory usage on this node: 10.6/15.9 GiB<br>Using FIFO scheduling algorithm.<br>Resources requested: 1.0/6 CPUs, 1.0/1 GPUs, 0.0/5.36 GiB heap, 0.0/2.68 GiB objects<br>Result logdir: C:\\Users\\mikec\\ray_results\\train_mnist_2022-01-02_21-10-41<br>Number of trials: 3/3 (2 PENDING, 1 RUNNING)<br><table>\n",
       "<thead>\n",
       "<tr><th>Trial name             </th><th>status  </th><th>loc            </th><th style=\"text-align: right;\">  lr</th><th style=\"text-align: right;\">  momentum</th></tr>\n",
       "</thead>\n",
       "<tbody>\n",
       "<tr><td>train_mnist_632aa_00000</td><td>RUNNING </td><td>127.0.0.1:21828</td><td style=\"text-align: right;\">0.01</td><td style=\"text-align: right;\">  0.620798</td></tr>\n",
       "<tr><td>train_mnist_632aa_00001</td><td>PENDING </td><td>               </td><td style=\"text-align: right;\">0.1 </td><td style=\"text-align: right;\">  0.409923</td></tr>\n",
       "<tr><td>train_mnist_632aa_00002</td><td>PENDING </td><td>               </td><td style=\"text-align: right;\">0.5 </td><td style=\"text-align: right;\">  0.651037</td></tr>\n",
       "</tbody>\n",
       "</table><br><br>"
      ],
      "text/plain": [
       "<IPython.core.display.HTML object>"
      ]
     },
     "metadata": {},
     "output_type": "display_data"
    },
    {
     "name": "stdout",
     "output_type": "stream",
     "text": [
      "Result for train_mnist_632aa_00000:\n",
      "  date: 2022-01-02_21-11-07\n",
      "  done: false\n",
      "  experiment_id: e635b4cc50164158a2385aeed6bf481e\n",
      "  hostname: bigpc\n",
      "  iterations_since_restore: 1\n",
      "  mean_accuracy: 0.9142\n",
      "  node_ip: 127.0.0.1\n",
      "  pid: 21828\n",
      "  time_since_restore: 23.59903860092163\n",
      "  time_this_iter_s: 23.59903860092163\n",
      "  time_total_s: 23.59903860092163\n",
      "  timestamp: 1641129067\n",
      "  timesteps_since_restore: 0\n",
      "  training_iteration: 1\n",
      "  trial_id: 632aa_00000\n",
      "  \n"
     ]
    },
    {
     "data": {
      "text/html": [
       "== Status ==<br>Current time: 2022-01-02 21:11:09 (running for 00:00:27.23)<br>Memory usage on this node: 10.6/15.9 GiB<br>Using FIFO scheduling algorithm.<br>Resources requested: 1.0/6 CPUs, 1.0/1 GPUs, 0.0/5.36 GiB heap, 0.0/2.68 GiB objects<br>Result logdir: C:\\Users\\mikec\\ray_results\\train_mnist_2022-01-02_21-10-41<br>Number of trials: 3/3 (2 PENDING, 1 RUNNING)<br><table>\n",
       "<thead>\n",
       "<tr><th>Trial name             </th><th>status  </th><th>loc            </th><th style=\"text-align: right;\">  lr</th><th style=\"text-align: right;\">  momentum</th><th style=\"text-align: right;\">   acc</th><th style=\"text-align: right;\">  iter</th><th style=\"text-align: right;\">  total time (s)</th></tr>\n",
       "</thead>\n",
       "<tbody>\n",
       "<tr><td>train_mnist_632aa_00000</td><td>RUNNING </td><td>127.0.0.1:21828</td><td style=\"text-align: right;\">0.01</td><td style=\"text-align: right;\">  0.620798</td><td style=\"text-align: right;\">0.9142</td><td style=\"text-align: right;\">     1</td><td style=\"text-align: right;\">          23.599</td></tr>\n",
       "<tr><td>train_mnist_632aa_00001</td><td>PENDING </td><td>               </td><td style=\"text-align: right;\">0.1 </td><td style=\"text-align: right;\">  0.409923</td><td style=\"text-align: right;\">      </td><td style=\"text-align: right;\">      </td><td style=\"text-align: right;\">                </td></tr>\n",
       "<tr><td>train_mnist_632aa_00002</td><td>PENDING </td><td>               </td><td style=\"text-align: right;\">0.5 </td><td style=\"text-align: right;\">  0.651037</td><td style=\"text-align: right;\">      </td><td style=\"text-align: right;\">      </td><td style=\"text-align: right;\">                </td></tr>\n",
       "</tbody>\n",
       "</table><br><br>"
      ],
      "text/plain": [
       "<IPython.core.display.HTML object>"
      ]
     },
     "metadata": {},
     "output_type": "display_data"
    },
    {
     "data": {
      "text/html": [
       "== Status ==<br>Current time: 2022-01-02 21:11:14 (running for 00:00:32.29)<br>Memory usage on this node: 10.6/15.9 GiB<br>Using FIFO scheduling algorithm.<br>Resources requested: 1.0/6 CPUs, 1.0/1 GPUs, 0.0/5.36 GiB heap, 0.0/2.68 GiB objects<br>Result logdir: C:\\Users\\mikec\\ray_results\\train_mnist_2022-01-02_21-10-41<br>Number of trials: 3/3 (2 PENDING, 1 RUNNING)<br><table>\n",
       "<thead>\n",
       "<tr><th>Trial name             </th><th>status  </th><th>loc            </th><th style=\"text-align: right;\">  lr</th><th style=\"text-align: right;\">  momentum</th><th style=\"text-align: right;\">   acc</th><th style=\"text-align: right;\">  iter</th><th style=\"text-align: right;\">  total time (s)</th></tr>\n",
       "</thead>\n",
       "<tbody>\n",
       "<tr><td>train_mnist_632aa_00000</td><td>RUNNING </td><td>127.0.0.1:21828</td><td style=\"text-align: right;\">0.01</td><td style=\"text-align: right;\">  0.620798</td><td style=\"text-align: right;\">0.9142</td><td style=\"text-align: right;\">     1</td><td style=\"text-align: right;\">          23.599</td></tr>\n",
       "<tr><td>train_mnist_632aa_00001</td><td>PENDING </td><td>               </td><td style=\"text-align: right;\">0.1 </td><td style=\"text-align: right;\">  0.409923</td><td style=\"text-align: right;\">      </td><td style=\"text-align: right;\">      </td><td style=\"text-align: right;\">                </td></tr>\n",
       "<tr><td>train_mnist_632aa_00002</td><td>PENDING </td><td>               </td><td style=\"text-align: right;\">0.5 </td><td style=\"text-align: right;\">  0.651037</td><td style=\"text-align: right;\">      </td><td style=\"text-align: right;\">      </td><td style=\"text-align: right;\">                </td></tr>\n",
       "</tbody>\n",
       "</table><br><br>"
      ],
      "text/plain": [
       "<IPython.core.display.HTML object>"
      ]
     },
     "metadata": {},
     "output_type": "display_data"
    },
    {
     "data": {
      "text/html": [
       "== Status ==<br>Current time: 2022-01-02 21:11:19 (running for 00:00:37.35)<br>Memory usage on this node: 10.6/15.9 GiB<br>Using FIFO scheduling algorithm.<br>Resources requested: 1.0/6 CPUs, 1.0/1 GPUs, 0.0/5.36 GiB heap, 0.0/2.68 GiB objects<br>Result logdir: C:\\Users\\mikec\\ray_results\\train_mnist_2022-01-02_21-10-41<br>Number of trials: 3/3 (2 PENDING, 1 RUNNING)<br><table>\n",
       "<thead>\n",
       "<tr><th>Trial name             </th><th>status  </th><th>loc            </th><th style=\"text-align: right;\">  lr</th><th style=\"text-align: right;\">  momentum</th><th style=\"text-align: right;\">   acc</th><th style=\"text-align: right;\">  iter</th><th style=\"text-align: right;\">  total time (s)</th></tr>\n",
       "</thead>\n",
       "<tbody>\n",
       "<tr><td>train_mnist_632aa_00000</td><td>RUNNING </td><td>127.0.0.1:21828</td><td style=\"text-align: right;\">0.01</td><td style=\"text-align: right;\">  0.620798</td><td style=\"text-align: right;\">0.9142</td><td style=\"text-align: right;\">     1</td><td style=\"text-align: right;\">          23.599</td></tr>\n",
       "<tr><td>train_mnist_632aa_00001</td><td>PENDING </td><td>               </td><td style=\"text-align: right;\">0.1 </td><td style=\"text-align: right;\">  0.409923</td><td style=\"text-align: right;\">      </td><td style=\"text-align: right;\">      </td><td style=\"text-align: right;\">                </td></tr>\n",
       "<tr><td>train_mnist_632aa_00002</td><td>PENDING </td><td>               </td><td style=\"text-align: right;\">0.5 </td><td style=\"text-align: right;\">  0.651037</td><td style=\"text-align: right;\">      </td><td style=\"text-align: right;\">      </td><td style=\"text-align: right;\">                </td></tr>\n",
       "</tbody>\n",
       "</table><br><br>"
      ],
      "text/plain": [
       "<IPython.core.display.HTML object>"
      ]
     },
     "metadata": {},
     "output_type": "display_data"
    },
    {
     "name": "stdout",
     "output_type": "stream",
     "text": [
      "Result for train_mnist_632aa_00000:\n",
      "  date: 2022-01-02_21-11-21\n",
      "  done: false\n",
      "  experiment_id: e635b4cc50164158a2385aeed6bf481e\n",
      "  hostname: bigpc\n",
      "  iterations_since_restore: 2\n",
      "  mean_accuracy: 0.945\n",
      "  node_ip: 127.0.0.1\n",
      "  pid: 21828\n",
      "  time_since_restore: 36.71848750114441\n",
      "  time_this_iter_s: 13.119448900222778\n",
      "  time_total_s: 36.71848750114441\n",
      "  timestamp: 1641129081\n",
      "  timesteps_since_restore: 0\n",
      "  training_iteration: 2\n",
      "  trial_id: 632aa_00000\n",
      "  \n"
     ]
    },
    {
     "data": {
      "text/html": [
       "== Status ==<br>Current time: 2022-01-02 21:11:24 (running for 00:00:42.38)<br>Memory usage on this node: 10.6/15.9 GiB<br>Using FIFO scheduling algorithm.<br>Resources requested: 1.0/6 CPUs, 1.0/1 GPUs, 0.0/5.36 GiB heap, 0.0/2.68 GiB objects<br>Result logdir: C:\\Users\\mikec\\ray_results\\train_mnist_2022-01-02_21-10-41<br>Number of trials: 3/3 (2 PENDING, 1 RUNNING)<br><table>\n",
       "<thead>\n",
       "<tr><th>Trial name             </th><th>status  </th><th>loc            </th><th style=\"text-align: right;\">  lr</th><th style=\"text-align: right;\">  momentum</th><th style=\"text-align: right;\">  acc</th><th style=\"text-align: right;\">  iter</th><th style=\"text-align: right;\">  total time (s)</th></tr>\n",
       "</thead>\n",
       "<tbody>\n",
       "<tr><td>train_mnist_632aa_00000</td><td>RUNNING </td><td>127.0.0.1:21828</td><td style=\"text-align: right;\">0.01</td><td style=\"text-align: right;\">  0.620798</td><td style=\"text-align: right;\">0.945</td><td style=\"text-align: right;\">     2</td><td style=\"text-align: right;\">         36.7185</td></tr>\n",
       "<tr><td>train_mnist_632aa_00001</td><td>PENDING </td><td>               </td><td style=\"text-align: right;\">0.1 </td><td style=\"text-align: right;\">  0.409923</td><td style=\"text-align: right;\">     </td><td style=\"text-align: right;\">      </td><td style=\"text-align: right;\">                </td></tr>\n",
       "<tr><td>train_mnist_632aa_00002</td><td>PENDING </td><td>               </td><td style=\"text-align: right;\">0.5 </td><td style=\"text-align: right;\">  0.651037</td><td style=\"text-align: right;\">     </td><td style=\"text-align: right;\">      </td><td style=\"text-align: right;\">                </td></tr>\n",
       "</tbody>\n",
       "</table><br><br>"
      ],
      "text/plain": [
       "<IPython.core.display.HTML object>"
      ]
     },
     "metadata": {},
     "output_type": "display_data"
    },
    {
     "data": {
      "text/html": [
       "== Status ==<br>Current time: 2022-01-02 21:11:29 (running for 00:00:47.44)<br>Memory usage on this node: 10.6/15.9 GiB<br>Using FIFO scheduling algorithm.<br>Resources requested: 1.0/6 CPUs, 1.0/1 GPUs, 0.0/5.36 GiB heap, 0.0/2.68 GiB objects<br>Result logdir: C:\\Users\\mikec\\ray_results\\train_mnist_2022-01-02_21-10-41<br>Number of trials: 3/3 (2 PENDING, 1 RUNNING)<br><table>\n",
       "<thead>\n",
       "<tr><th>Trial name             </th><th>status  </th><th>loc            </th><th style=\"text-align: right;\">  lr</th><th style=\"text-align: right;\">  momentum</th><th style=\"text-align: right;\">  acc</th><th style=\"text-align: right;\">  iter</th><th style=\"text-align: right;\">  total time (s)</th></tr>\n",
       "</thead>\n",
       "<tbody>\n",
       "<tr><td>train_mnist_632aa_00000</td><td>RUNNING </td><td>127.0.0.1:21828</td><td style=\"text-align: right;\">0.01</td><td style=\"text-align: right;\">  0.620798</td><td style=\"text-align: right;\">0.945</td><td style=\"text-align: right;\">     2</td><td style=\"text-align: right;\">         36.7185</td></tr>\n",
       "<tr><td>train_mnist_632aa_00001</td><td>PENDING </td><td>               </td><td style=\"text-align: right;\">0.1 </td><td style=\"text-align: right;\">  0.409923</td><td style=\"text-align: right;\">     </td><td style=\"text-align: right;\">      </td><td style=\"text-align: right;\">                </td></tr>\n",
       "<tr><td>train_mnist_632aa_00002</td><td>PENDING </td><td>               </td><td style=\"text-align: right;\">0.5 </td><td style=\"text-align: right;\">  0.651037</td><td style=\"text-align: right;\">     </td><td style=\"text-align: right;\">      </td><td style=\"text-align: right;\">                </td></tr>\n",
       "</tbody>\n",
       "</table><br><br>"
      ],
      "text/plain": [
       "<IPython.core.display.HTML object>"
      ]
     },
     "metadata": {},
     "output_type": "display_data"
    },
    {
     "name": "stdout",
     "output_type": "stream",
     "text": [
      "Result for train_mnist_632aa_00000:\n",
      "  date: 2022-01-02_21-11-34\n",
      "  done: false\n",
      "  experiment_id: e635b4cc50164158a2385aeed6bf481e\n",
      "  hostname: bigpc\n",
      "  iterations_since_restore: 3\n",
      "  mean_accuracy: 0.9536\n",
      "  node_ip: 127.0.0.1\n",
      "  pid: 21828\n",
      "  time_since_restore: 49.73205518722534\n",
      "  time_this_iter_s: 13.013567686080933\n",
      "  time_total_s: 49.73205518722534\n",
      "  timestamp: 1641129094\n",
      "  timesteps_since_restore: 0\n",
      "  training_iteration: 3\n",
      "  trial_id: 632aa_00000\n",
      "  \n"
     ]
    },
    {
     "data": {
      "text/html": [
       "== Status ==<br>Current time: 2022-01-02 21:11:35 (running for 00:00:53.37)<br>Memory usage on this node: 10.6/15.9 GiB<br>Using FIFO scheduling algorithm.<br>Resources requested: 1.0/6 CPUs, 1.0/1 GPUs, 0.0/5.36 GiB heap, 0.0/2.68 GiB objects<br>Result logdir: C:\\Users\\mikec\\ray_results\\train_mnist_2022-01-02_21-10-41<br>Number of trials: 3/3 (2 PENDING, 1 RUNNING)<br><table>\n",
       "<thead>\n",
       "<tr><th>Trial name             </th><th>status  </th><th>loc            </th><th style=\"text-align: right;\">  lr</th><th style=\"text-align: right;\">  momentum</th><th style=\"text-align: right;\">   acc</th><th style=\"text-align: right;\">  iter</th><th style=\"text-align: right;\">  total time (s)</th></tr>\n",
       "</thead>\n",
       "<tbody>\n",
       "<tr><td>train_mnist_632aa_00000</td><td>RUNNING </td><td>127.0.0.1:21828</td><td style=\"text-align: right;\">0.01</td><td style=\"text-align: right;\">  0.620798</td><td style=\"text-align: right;\">0.9536</td><td style=\"text-align: right;\">     3</td><td style=\"text-align: right;\">         49.7321</td></tr>\n",
       "<tr><td>train_mnist_632aa_00001</td><td>PENDING </td><td>               </td><td style=\"text-align: right;\">0.1 </td><td style=\"text-align: right;\">  0.409923</td><td style=\"text-align: right;\">      </td><td style=\"text-align: right;\">      </td><td style=\"text-align: right;\">                </td></tr>\n",
       "<tr><td>train_mnist_632aa_00002</td><td>PENDING </td><td>               </td><td style=\"text-align: right;\">0.5 </td><td style=\"text-align: right;\">  0.651037</td><td style=\"text-align: right;\">      </td><td style=\"text-align: right;\">      </td><td style=\"text-align: right;\">                </td></tr>\n",
       "</tbody>\n",
       "</table><br><br>"
      ],
      "text/plain": [
       "<IPython.core.display.HTML object>"
      ]
     },
     "metadata": {},
     "output_type": "display_data"
    },
    {
     "data": {
      "text/html": [
       "== Status ==<br>Current time: 2022-01-02 21:11:40 (running for 00:00:58.43)<br>Memory usage on this node: 10.6/15.9 GiB<br>Using FIFO scheduling algorithm.<br>Resources requested: 1.0/6 CPUs, 1.0/1 GPUs, 0.0/5.36 GiB heap, 0.0/2.68 GiB objects<br>Result logdir: C:\\Users\\mikec\\ray_results\\train_mnist_2022-01-02_21-10-41<br>Number of trials: 3/3 (2 PENDING, 1 RUNNING)<br><table>\n",
       "<thead>\n",
       "<tr><th>Trial name             </th><th>status  </th><th>loc            </th><th style=\"text-align: right;\">  lr</th><th style=\"text-align: right;\">  momentum</th><th style=\"text-align: right;\">   acc</th><th style=\"text-align: right;\">  iter</th><th style=\"text-align: right;\">  total time (s)</th></tr>\n",
       "</thead>\n",
       "<tbody>\n",
       "<tr><td>train_mnist_632aa_00000</td><td>RUNNING </td><td>127.0.0.1:21828</td><td style=\"text-align: right;\">0.01</td><td style=\"text-align: right;\">  0.620798</td><td style=\"text-align: right;\">0.9536</td><td style=\"text-align: right;\">     3</td><td style=\"text-align: right;\">         49.7321</td></tr>\n",
       "<tr><td>train_mnist_632aa_00001</td><td>PENDING </td><td>               </td><td style=\"text-align: right;\">0.1 </td><td style=\"text-align: right;\">  0.409923</td><td style=\"text-align: right;\">      </td><td style=\"text-align: right;\">      </td><td style=\"text-align: right;\">                </td></tr>\n",
       "<tr><td>train_mnist_632aa_00002</td><td>PENDING </td><td>               </td><td style=\"text-align: right;\">0.5 </td><td style=\"text-align: right;\">  0.651037</td><td style=\"text-align: right;\">      </td><td style=\"text-align: right;\">      </td><td style=\"text-align: right;\">                </td></tr>\n",
       "</tbody>\n",
       "</table><br><br>"
      ],
      "text/plain": [
       "<IPython.core.display.HTML object>"
      ]
     },
     "metadata": {},
     "output_type": "display_data"
    },
    {
     "data": {
      "text/html": [
       "== Status ==<br>Current time: 2022-01-02 21:11:45 (running for 00:01:03.50)<br>Memory usage on this node: 10.6/15.9 GiB<br>Using FIFO scheduling algorithm.<br>Resources requested: 1.0/6 CPUs, 1.0/1 GPUs, 0.0/5.36 GiB heap, 0.0/2.68 GiB objects<br>Result logdir: C:\\Users\\mikec\\ray_results\\train_mnist_2022-01-02_21-10-41<br>Number of trials: 3/3 (2 PENDING, 1 RUNNING)<br><table>\n",
       "<thead>\n",
       "<tr><th>Trial name             </th><th>status  </th><th>loc            </th><th style=\"text-align: right;\">  lr</th><th style=\"text-align: right;\">  momentum</th><th style=\"text-align: right;\">   acc</th><th style=\"text-align: right;\">  iter</th><th style=\"text-align: right;\">  total time (s)</th></tr>\n",
       "</thead>\n",
       "<tbody>\n",
       "<tr><td>train_mnist_632aa_00000</td><td>RUNNING </td><td>127.0.0.1:21828</td><td style=\"text-align: right;\">0.01</td><td style=\"text-align: right;\">  0.620798</td><td style=\"text-align: right;\">0.9536</td><td style=\"text-align: right;\">     3</td><td style=\"text-align: right;\">         49.7321</td></tr>\n",
       "<tr><td>train_mnist_632aa_00001</td><td>PENDING </td><td>               </td><td style=\"text-align: right;\">0.1 </td><td style=\"text-align: right;\">  0.409923</td><td style=\"text-align: right;\">      </td><td style=\"text-align: right;\">      </td><td style=\"text-align: right;\">                </td></tr>\n",
       "<tr><td>train_mnist_632aa_00002</td><td>PENDING </td><td>               </td><td style=\"text-align: right;\">0.5 </td><td style=\"text-align: right;\">  0.651037</td><td style=\"text-align: right;\">      </td><td style=\"text-align: right;\">      </td><td style=\"text-align: right;\">                </td></tr>\n",
       "</tbody>\n",
       "</table><br><br>"
      ],
      "text/plain": [
       "<IPython.core.display.HTML object>"
      ]
     },
     "metadata": {},
     "output_type": "display_data"
    },
    {
     "name": "stdout",
     "output_type": "stream",
     "text": [
      "Result for train_mnist_632aa_00000:\n",
      "  date: 2022-01-02_21-11-47\n",
      "  done: false\n",
      "  experiment_id: e635b4cc50164158a2385aeed6bf481e\n",
      "  hostname: bigpc\n",
      "  iterations_since_restore: 4\n",
      "  mean_accuracy: 0.9564\n",
      "  node_ip: 127.0.0.1\n",
      "  pid: 21828\n",
      "  time_since_restore: 62.833749294281006\n",
      "  time_this_iter_s: 13.101694107055664\n",
      "  time_total_s: 62.833749294281006\n",
      "  timestamp: 1641129107\n",
      "  timesteps_since_restore: 0\n",
      "  training_iteration: 4\n",
      "  trial_id: 632aa_00000\n",
      "  \n"
     ]
    },
    {
     "data": {
      "text/html": [
       "== Status ==<br>Current time: 2022-01-02 21:11:51 (running for 00:01:09.51)<br>Memory usage on this node: 10.6/15.9 GiB<br>Using FIFO scheduling algorithm.<br>Resources requested: 1.0/6 CPUs, 1.0/1 GPUs, 0.0/5.36 GiB heap, 0.0/2.68 GiB objects<br>Result logdir: C:\\Users\\mikec\\ray_results\\train_mnist_2022-01-02_21-10-41<br>Number of trials: 3/3 (2 PENDING, 1 RUNNING)<br><table>\n",
       "<thead>\n",
       "<tr><th>Trial name             </th><th>status  </th><th>loc            </th><th style=\"text-align: right;\">  lr</th><th style=\"text-align: right;\">  momentum</th><th style=\"text-align: right;\">   acc</th><th style=\"text-align: right;\">  iter</th><th style=\"text-align: right;\">  total time (s)</th></tr>\n",
       "</thead>\n",
       "<tbody>\n",
       "<tr><td>train_mnist_632aa_00000</td><td>RUNNING </td><td>127.0.0.1:21828</td><td style=\"text-align: right;\">0.01</td><td style=\"text-align: right;\">  0.620798</td><td style=\"text-align: right;\">0.9564</td><td style=\"text-align: right;\">     4</td><td style=\"text-align: right;\">         62.8337</td></tr>\n",
       "<tr><td>train_mnist_632aa_00001</td><td>PENDING </td><td>               </td><td style=\"text-align: right;\">0.1 </td><td style=\"text-align: right;\">  0.409923</td><td style=\"text-align: right;\">      </td><td style=\"text-align: right;\">      </td><td style=\"text-align: right;\">                </td></tr>\n",
       "<tr><td>train_mnist_632aa_00002</td><td>PENDING </td><td>               </td><td style=\"text-align: right;\">0.5 </td><td style=\"text-align: right;\">  0.651037</td><td style=\"text-align: right;\">      </td><td style=\"text-align: right;\">      </td><td style=\"text-align: right;\">                </td></tr>\n",
       "</tbody>\n",
       "</table><br><br>"
      ],
      "text/plain": [
       "<IPython.core.display.HTML object>"
      ]
     },
     "metadata": {},
     "output_type": "display_data"
    },
    {
     "data": {
      "text/html": [
       "== Status ==<br>Current time: 2022-01-02 21:11:56 (running for 00:01:14.59)<br>Memory usage on this node: 10.6/15.9 GiB<br>Using FIFO scheduling algorithm.<br>Resources requested: 1.0/6 CPUs, 1.0/1 GPUs, 0.0/5.36 GiB heap, 0.0/2.68 GiB objects<br>Result logdir: C:\\Users\\mikec\\ray_results\\train_mnist_2022-01-02_21-10-41<br>Number of trials: 3/3 (2 PENDING, 1 RUNNING)<br><table>\n",
       "<thead>\n",
       "<tr><th>Trial name             </th><th>status  </th><th>loc            </th><th style=\"text-align: right;\">  lr</th><th style=\"text-align: right;\">  momentum</th><th style=\"text-align: right;\">   acc</th><th style=\"text-align: right;\">  iter</th><th style=\"text-align: right;\">  total time (s)</th></tr>\n",
       "</thead>\n",
       "<tbody>\n",
       "<tr><td>train_mnist_632aa_00000</td><td>RUNNING </td><td>127.0.0.1:21828</td><td style=\"text-align: right;\">0.01</td><td style=\"text-align: right;\">  0.620798</td><td style=\"text-align: right;\">0.9564</td><td style=\"text-align: right;\">     4</td><td style=\"text-align: right;\">         62.8337</td></tr>\n",
       "<tr><td>train_mnist_632aa_00001</td><td>PENDING </td><td>               </td><td style=\"text-align: right;\">0.1 </td><td style=\"text-align: right;\">  0.409923</td><td style=\"text-align: right;\">      </td><td style=\"text-align: right;\">      </td><td style=\"text-align: right;\">                </td></tr>\n",
       "<tr><td>train_mnist_632aa_00002</td><td>PENDING </td><td>               </td><td style=\"text-align: right;\">0.5 </td><td style=\"text-align: right;\">  0.651037</td><td style=\"text-align: right;\">      </td><td style=\"text-align: right;\">      </td><td style=\"text-align: right;\">                </td></tr>\n",
       "</tbody>\n",
       "</table><br><br>"
      ],
      "text/plain": [
       "<IPython.core.display.HTML object>"
      ]
     },
     "metadata": {},
     "output_type": "display_data"
    },
    {
     "name": "stdout",
     "output_type": "stream",
     "text": [
      "Result for train_mnist_632aa_00000:\n",
      "  date: 2022-01-02_21-12-00\n",
      "  done: false\n",
      "  experiment_id: e635b4cc50164158a2385aeed6bf481e\n",
      "  hostname: bigpc\n",
      "  iterations_since_restore: 5\n",
      "  mean_accuracy: 0.9621\n",
      "  node_ip: 127.0.0.1\n",
      "  pid: 21828\n",
      "  time_since_restore: 75.93815279006958\n",
      "  time_this_iter_s: 13.104403495788574\n",
      "  time_total_s: 75.93815279006958\n",
      "  timestamp: 1641129120\n",
      "  timesteps_since_restore: 0\n",
      "  training_iteration: 5\n",
      "  trial_id: 632aa_00000\n",
      "  \n"
     ]
    },
    {
     "data": {
      "text/html": [
       "== Status ==<br>Current time: 2022-01-02 21:12:02 (running for 00:01:20.57)<br>Memory usage on this node: 10.5/15.9 GiB<br>Using FIFO scheduling algorithm.<br>Resources requested: 1.0/6 CPUs, 1.0/1 GPUs, 0.0/5.36 GiB heap, 0.0/2.68 GiB objects<br>Result logdir: C:\\Users\\mikec\\ray_results\\train_mnist_2022-01-02_21-10-41<br>Number of trials: 3/3 (2 PENDING, 1 RUNNING)<br><table>\n",
       "<thead>\n",
       "<tr><th>Trial name             </th><th>status  </th><th>loc            </th><th style=\"text-align: right;\">  lr</th><th style=\"text-align: right;\">  momentum</th><th style=\"text-align: right;\">   acc</th><th style=\"text-align: right;\">  iter</th><th style=\"text-align: right;\">  total time (s)</th></tr>\n",
       "</thead>\n",
       "<tbody>\n",
       "<tr><td>train_mnist_632aa_00000</td><td>RUNNING </td><td>127.0.0.1:21828</td><td style=\"text-align: right;\">0.01</td><td style=\"text-align: right;\">  0.620798</td><td style=\"text-align: right;\">0.9621</td><td style=\"text-align: right;\">     5</td><td style=\"text-align: right;\">         75.9382</td></tr>\n",
       "<tr><td>train_mnist_632aa_00001</td><td>PENDING </td><td>               </td><td style=\"text-align: right;\">0.1 </td><td style=\"text-align: right;\">  0.409923</td><td style=\"text-align: right;\">      </td><td style=\"text-align: right;\">      </td><td style=\"text-align: right;\">                </td></tr>\n",
       "<tr><td>train_mnist_632aa_00002</td><td>PENDING </td><td>               </td><td style=\"text-align: right;\">0.5 </td><td style=\"text-align: right;\">  0.651037</td><td style=\"text-align: right;\">      </td><td style=\"text-align: right;\">      </td><td style=\"text-align: right;\">                </td></tr>\n",
       "</tbody>\n",
       "</table><br><br>"
      ],
      "text/plain": [
       "<IPython.core.display.HTML object>"
      ]
     },
     "metadata": {},
     "output_type": "display_data"
    },
    {
     "data": {
      "text/html": [
       "== Status ==<br>Current time: 2022-01-02 21:12:07 (running for 00:01:25.65)<br>Memory usage on this node: 10.5/15.9 GiB<br>Using FIFO scheduling algorithm.<br>Resources requested: 1.0/6 CPUs, 1.0/1 GPUs, 0.0/5.36 GiB heap, 0.0/2.68 GiB objects<br>Result logdir: C:\\Users\\mikec\\ray_results\\train_mnist_2022-01-02_21-10-41<br>Number of trials: 3/3 (2 PENDING, 1 RUNNING)<br><table>\n",
       "<thead>\n",
       "<tr><th>Trial name             </th><th>status  </th><th>loc            </th><th style=\"text-align: right;\">  lr</th><th style=\"text-align: right;\">  momentum</th><th style=\"text-align: right;\">   acc</th><th style=\"text-align: right;\">  iter</th><th style=\"text-align: right;\">  total time (s)</th></tr>\n",
       "</thead>\n",
       "<tbody>\n",
       "<tr><td>train_mnist_632aa_00000</td><td>RUNNING </td><td>127.0.0.1:21828</td><td style=\"text-align: right;\">0.01</td><td style=\"text-align: right;\">  0.620798</td><td style=\"text-align: right;\">0.9621</td><td style=\"text-align: right;\">     5</td><td style=\"text-align: right;\">         75.9382</td></tr>\n",
       "<tr><td>train_mnist_632aa_00001</td><td>PENDING </td><td>               </td><td style=\"text-align: right;\">0.1 </td><td style=\"text-align: right;\">  0.409923</td><td style=\"text-align: right;\">      </td><td style=\"text-align: right;\">      </td><td style=\"text-align: right;\">                </td></tr>\n",
       "<tr><td>train_mnist_632aa_00002</td><td>PENDING </td><td>               </td><td style=\"text-align: right;\">0.5 </td><td style=\"text-align: right;\">  0.651037</td><td style=\"text-align: right;\">      </td><td style=\"text-align: right;\">      </td><td style=\"text-align: right;\">                </td></tr>\n",
       "</tbody>\n",
       "</table><br><br>"
      ],
      "text/plain": [
       "<IPython.core.display.HTML object>"
      ]
     },
     "metadata": {},
     "output_type": "display_data"
    },
    {
     "data": {
      "text/html": [
       "== Status ==<br>Current time: 2022-01-02 21:12:12 (running for 00:01:30.72)<br>Memory usage on this node: 10.6/15.9 GiB<br>Using FIFO scheduling algorithm.<br>Resources requested: 1.0/6 CPUs, 1.0/1 GPUs, 0.0/5.36 GiB heap, 0.0/2.68 GiB objects<br>Result logdir: C:\\Users\\mikec\\ray_results\\train_mnist_2022-01-02_21-10-41<br>Number of trials: 3/3 (2 PENDING, 1 RUNNING)<br><table>\n",
       "<thead>\n",
       "<tr><th>Trial name             </th><th>status  </th><th>loc            </th><th style=\"text-align: right;\">  lr</th><th style=\"text-align: right;\">  momentum</th><th style=\"text-align: right;\">   acc</th><th style=\"text-align: right;\">  iter</th><th style=\"text-align: right;\">  total time (s)</th></tr>\n",
       "</thead>\n",
       "<tbody>\n",
       "<tr><td>train_mnist_632aa_00000</td><td>RUNNING </td><td>127.0.0.1:21828</td><td style=\"text-align: right;\">0.01</td><td style=\"text-align: right;\">  0.620798</td><td style=\"text-align: right;\">0.9621</td><td style=\"text-align: right;\">     5</td><td style=\"text-align: right;\">         75.9382</td></tr>\n",
       "<tr><td>train_mnist_632aa_00001</td><td>PENDING </td><td>               </td><td style=\"text-align: right;\">0.1 </td><td style=\"text-align: right;\">  0.409923</td><td style=\"text-align: right;\">      </td><td style=\"text-align: right;\">      </td><td style=\"text-align: right;\">                </td></tr>\n",
       "<tr><td>train_mnist_632aa_00002</td><td>PENDING </td><td>               </td><td style=\"text-align: right;\">0.5 </td><td style=\"text-align: right;\">  0.651037</td><td style=\"text-align: right;\">      </td><td style=\"text-align: right;\">      </td><td style=\"text-align: right;\">                </td></tr>\n",
       "</tbody>\n",
       "</table><br><br>"
      ],
      "text/plain": [
       "<IPython.core.display.HTML object>"
      ]
     },
     "metadata": {},
     "output_type": "display_data"
    },
    {
     "name": "stdout",
     "output_type": "stream",
     "text": [
      "Result for train_mnist_632aa_00000:\n",
      "  date: 2022-01-02_21-12-13\n",
      "  done: false\n",
      "  experiment_id: e635b4cc50164158a2385aeed6bf481e\n",
      "  hostname: bigpc\n",
      "  iterations_since_restore: 6\n",
      "  mean_accuracy: 0.9618\n",
      "  node_ip: 127.0.0.1\n",
      "  pid: 21828\n",
      "  time_since_restore: 89.21883416175842\n",
      "  time_this_iter_s: 13.280681371688843\n",
      "  time_total_s: 89.21883416175842\n",
      "  timestamp: 1641129133\n",
      "  timesteps_since_restore: 0\n",
      "  training_iteration: 6\n",
      "  trial_id: 632aa_00000\n",
      "  \n"
     ]
    },
    {
     "data": {
      "text/html": [
       "== Status ==<br>Current time: 2022-01-02 21:12:17 (running for 00:01:35.88)<br>Memory usage on this node: 10.6/15.9 GiB<br>Using FIFO scheduling algorithm.<br>Resources requested: 1.0/6 CPUs, 1.0/1 GPUs, 0.0/5.36 GiB heap, 0.0/2.68 GiB objects<br>Result logdir: C:\\Users\\mikec\\ray_results\\train_mnist_2022-01-02_21-10-41<br>Number of trials: 3/3 (2 PENDING, 1 RUNNING)<br><table>\n",
       "<thead>\n",
       "<tr><th>Trial name             </th><th>status  </th><th>loc            </th><th style=\"text-align: right;\">  lr</th><th style=\"text-align: right;\">  momentum</th><th style=\"text-align: right;\">   acc</th><th style=\"text-align: right;\">  iter</th><th style=\"text-align: right;\">  total time (s)</th></tr>\n",
       "</thead>\n",
       "<tbody>\n",
       "<tr><td>train_mnist_632aa_00000</td><td>RUNNING </td><td>127.0.0.1:21828</td><td style=\"text-align: right;\">0.01</td><td style=\"text-align: right;\">  0.620798</td><td style=\"text-align: right;\">0.9618</td><td style=\"text-align: right;\">     6</td><td style=\"text-align: right;\">         89.2188</td></tr>\n",
       "<tr><td>train_mnist_632aa_00001</td><td>PENDING </td><td>               </td><td style=\"text-align: right;\">0.1 </td><td style=\"text-align: right;\">  0.409923</td><td style=\"text-align: right;\">      </td><td style=\"text-align: right;\">      </td><td style=\"text-align: right;\">                </td></tr>\n",
       "<tr><td>train_mnist_632aa_00002</td><td>PENDING </td><td>               </td><td style=\"text-align: right;\">0.5 </td><td style=\"text-align: right;\">  0.651037</td><td style=\"text-align: right;\">      </td><td style=\"text-align: right;\">      </td><td style=\"text-align: right;\">                </td></tr>\n",
       "</tbody>\n",
       "</table><br><br>"
      ],
      "text/plain": [
       "<IPython.core.display.HTML object>"
      ]
     },
     "metadata": {},
     "output_type": "display_data"
    },
    {
     "data": {
      "text/html": [
       "== Status ==<br>Current time: 2022-01-02 21:12:22 (running for 00:01:40.96)<br>Memory usage on this node: 10.6/15.9 GiB<br>Using FIFO scheduling algorithm.<br>Resources requested: 1.0/6 CPUs, 1.0/1 GPUs, 0.0/5.36 GiB heap, 0.0/2.68 GiB objects<br>Result logdir: C:\\Users\\mikec\\ray_results\\train_mnist_2022-01-02_21-10-41<br>Number of trials: 3/3 (2 PENDING, 1 RUNNING)<br><table>\n",
       "<thead>\n",
       "<tr><th>Trial name             </th><th>status  </th><th>loc            </th><th style=\"text-align: right;\">  lr</th><th style=\"text-align: right;\">  momentum</th><th style=\"text-align: right;\">   acc</th><th style=\"text-align: right;\">  iter</th><th style=\"text-align: right;\">  total time (s)</th></tr>\n",
       "</thead>\n",
       "<tbody>\n",
       "<tr><td>train_mnist_632aa_00000</td><td>RUNNING </td><td>127.0.0.1:21828</td><td style=\"text-align: right;\">0.01</td><td style=\"text-align: right;\">  0.620798</td><td style=\"text-align: right;\">0.9618</td><td style=\"text-align: right;\">     6</td><td style=\"text-align: right;\">         89.2188</td></tr>\n",
       "<tr><td>train_mnist_632aa_00001</td><td>PENDING </td><td>               </td><td style=\"text-align: right;\">0.1 </td><td style=\"text-align: right;\">  0.409923</td><td style=\"text-align: right;\">      </td><td style=\"text-align: right;\">      </td><td style=\"text-align: right;\">                </td></tr>\n",
       "<tr><td>train_mnist_632aa_00002</td><td>PENDING </td><td>               </td><td style=\"text-align: right;\">0.5 </td><td style=\"text-align: right;\">  0.651037</td><td style=\"text-align: right;\">      </td><td style=\"text-align: right;\">      </td><td style=\"text-align: right;\">                </td></tr>\n",
       "</tbody>\n",
       "</table><br><br>"
      ],
      "text/plain": [
       "<IPython.core.display.HTML object>"
      ]
     },
     "metadata": {},
     "output_type": "display_data"
    },
    {
     "name": "stdout",
     "output_type": "stream",
     "text": [
      "Result for train_mnist_632aa_00000:\n",
      "  date: 2022-01-02_21-12-26\n",
      "  done: false\n",
      "  experiment_id: e635b4cc50164158a2385aeed6bf481e\n",
      "  hostname: bigpc\n",
      "  iterations_since_restore: 7\n",
      "  mean_accuracy: 0.9632\n",
      "  node_ip: 127.0.0.1\n",
      "  pid: 21828\n",
      "  time_since_restore: 102.36614990234375\n",
      "  time_this_iter_s: 13.147315740585327\n",
      "  time_total_s: 102.36614990234375\n",
      "  timestamp: 1641129146\n",
      "  timesteps_since_restore: 0\n",
      "  training_iteration: 7\n",
      "  trial_id: 632aa_00000\n",
      "  \n"
     ]
    },
    {
     "data": {
      "text/html": [
       "== Status ==<br>Current time: 2022-01-02 21:12:27 (running for 00:01:46.00)<br>Memory usage on this node: 10.6/15.9 GiB<br>Using FIFO scheduling algorithm.<br>Resources requested: 1.0/6 CPUs, 1.0/1 GPUs, 0.0/5.36 GiB heap, 0.0/2.68 GiB objects<br>Result logdir: C:\\Users\\mikec\\ray_results\\train_mnist_2022-01-02_21-10-41<br>Number of trials: 3/3 (2 PENDING, 1 RUNNING)<br><table>\n",
       "<thead>\n",
       "<tr><th>Trial name             </th><th>status  </th><th>loc            </th><th style=\"text-align: right;\">  lr</th><th style=\"text-align: right;\">  momentum</th><th style=\"text-align: right;\">   acc</th><th style=\"text-align: right;\">  iter</th><th style=\"text-align: right;\">  total time (s)</th></tr>\n",
       "</thead>\n",
       "<tbody>\n",
       "<tr><td>train_mnist_632aa_00000</td><td>RUNNING </td><td>127.0.0.1:21828</td><td style=\"text-align: right;\">0.01</td><td style=\"text-align: right;\">  0.620798</td><td style=\"text-align: right;\">0.9632</td><td style=\"text-align: right;\">     7</td><td style=\"text-align: right;\">         102.366</td></tr>\n",
       "<tr><td>train_mnist_632aa_00001</td><td>PENDING </td><td>               </td><td style=\"text-align: right;\">0.1 </td><td style=\"text-align: right;\">  0.409923</td><td style=\"text-align: right;\">      </td><td style=\"text-align: right;\">      </td><td style=\"text-align: right;\">                </td></tr>\n",
       "<tr><td>train_mnist_632aa_00002</td><td>PENDING </td><td>               </td><td style=\"text-align: right;\">0.5 </td><td style=\"text-align: right;\">  0.651037</td><td style=\"text-align: right;\">      </td><td style=\"text-align: right;\">      </td><td style=\"text-align: right;\">                </td></tr>\n",
       "</tbody>\n",
       "</table><br><br>"
      ],
      "text/plain": [
       "<IPython.core.display.HTML object>"
      ]
     },
     "metadata": {},
     "output_type": "display_data"
    },
    {
     "data": {
      "text/html": [
       "== Status ==<br>Current time: 2022-01-02 21:12:32 (running for 00:01:51.05)<br>Memory usage on this node: 10.6/15.9 GiB<br>Using FIFO scheduling algorithm.<br>Resources requested: 1.0/6 CPUs, 1.0/1 GPUs, 0.0/5.36 GiB heap, 0.0/2.68 GiB objects<br>Result logdir: C:\\Users\\mikec\\ray_results\\train_mnist_2022-01-02_21-10-41<br>Number of trials: 3/3 (2 PENDING, 1 RUNNING)<br><table>\n",
       "<thead>\n",
       "<tr><th>Trial name             </th><th>status  </th><th>loc            </th><th style=\"text-align: right;\">  lr</th><th style=\"text-align: right;\">  momentum</th><th style=\"text-align: right;\">   acc</th><th style=\"text-align: right;\">  iter</th><th style=\"text-align: right;\">  total time (s)</th></tr>\n",
       "</thead>\n",
       "<tbody>\n",
       "<tr><td>train_mnist_632aa_00000</td><td>RUNNING </td><td>127.0.0.1:21828</td><td style=\"text-align: right;\">0.01</td><td style=\"text-align: right;\">  0.620798</td><td style=\"text-align: right;\">0.9632</td><td style=\"text-align: right;\">     7</td><td style=\"text-align: right;\">         102.366</td></tr>\n",
       "<tr><td>train_mnist_632aa_00001</td><td>PENDING </td><td>               </td><td style=\"text-align: right;\">0.1 </td><td style=\"text-align: right;\">  0.409923</td><td style=\"text-align: right;\">      </td><td style=\"text-align: right;\">      </td><td style=\"text-align: right;\">                </td></tr>\n",
       "<tr><td>train_mnist_632aa_00002</td><td>PENDING </td><td>               </td><td style=\"text-align: right;\">0.5 </td><td style=\"text-align: right;\">  0.651037</td><td style=\"text-align: right;\">      </td><td style=\"text-align: right;\">      </td><td style=\"text-align: right;\">                </td></tr>\n",
       "</tbody>\n",
       "</table><br><br>"
      ],
      "text/plain": [
       "<IPython.core.display.HTML object>"
      ]
     },
     "metadata": {},
     "output_type": "display_data"
    },
    {
     "data": {
      "text/html": [
       "== Status ==<br>Current time: 2022-01-02 21:12:37 (running for 00:01:56.12)<br>Memory usage on this node: 10.6/15.9 GiB<br>Using FIFO scheduling algorithm.<br>Resources requested: 1.0/6 CPUs, 1.0/1 GPUs, 0.0/5.36 GiB heap, 0.0/2.68 GiB objects<br>Result logdir: C:\\Users\\mikec\\ray_results\\train_mnist_2022-01-02_21-10-41<br>Number of trials: 3/3 (2 PENDING, 1 RUNNING)<br><table>\n",
       "<thead>\n",
       "<tr><th>Trial name             </th><th>status  </th><th>loc            </th><th style=\"text-align: right;\">  lr</th><th style=\"text-align: right;\">  momentum</th><th style=\"text-align: right;\">   acc</th><th style=\"text-align: right;\">  iter</th><th style=\"text-align: right;\">  total time (s)</th></tr>\n",
       "</thead>\n",
       "<tbody>\n",
       "<tr><td>train_mnist_632aa_00000</td><td>RUNNING </td><td>127.0.0.1:21828</td><td style=\"text-align: right;\">0.01</td><td style=\"text-align: right;\">  0.620798</td><td style=\"text-align: right;\">0.9632</td><td style=\"text-align: right;\">     7</td><td style=\"text-align: right;\">         102.366</td></tr>\n",
       "<tr><td>train_mnist_632aa_00001</td><td>PENDING </td><td>               </td><td style=\"text-align: right;\">0.1 </td><td style=\"text-align: right;\">  0.409923</td><td style=\"text-align: right;\">      </td><td style=\"text-align: right;\">      </td><td style=\"text-align: right;\">                </td></tr>\n",
       "<tr><td>train_mnist_632aa_00002</td><td>PENDING </td><td>               </td><td style=\"text-align: right;\">0.5 </td><td style=\"text-align: right;\">  0.651037</td><td style=\"text-align: right;\">      </td><td style=\"text-align: right;\">      </td><td style=\"text-align: right;\">                </td></tr>\n",
       "</tbody>\n",
       "</table><br><br>"
      ],
      "text/plain": [
       "<IPython.core.display.HTML object>"
      ]
     },
     "metadata": {},
     "output_type": "display_data"
    },
    {
     "name": "stdout",
     "output_type": "stream",
     "text": [
      "Result for train_mnist_632aa_00000:\n",
      "  date: 2022-01-02_21-12-40\n",
      "  done: false\n",
      "  experiment_id: e635b4cc50164158a2385aeed6bf481e\n",
      "  hostname: bigpc\n",
      "  iterations_since_restore: 8\n",
      "  mean_accuracy: 0.9631\n",
      "  node_ip: 127.0.0.1\n",
      "  pid: 21828\n",
      "  time_since_restore: 115.63367557525635\n",
      "  time_this_iter_s: 13.267525672912598\n",
      "  time_total_s: 115.63367557525635\n",
      "  timestamp: 1641129160\n",
      "  timesteps_since_restore: 0\n",
      "  training_iteration: 8\n",
      "  trial_id: 632aa_00000\n",
      "  \n"
     ]
    },
    {
     "data": {
      "text/html": [
       "== Status ==<br>Current time: 2022-01-02 21:12:43 (running for 00:02:01.28)<br>Memory usage on this node: 10.5/15.9 GiB<br>Using FIFO scheduling algorithm.<br>Resources requested: 1.0/6 CPUs, 1.0/1 GPUs, 0.0/5.36 GiB heap, 0.0/2.68 GiB objects<br>Result logdir: C:\\Users\\mikec\\ray_results\\train_mnist_2022-01-02_21-10-41<br>Number of trials: 3/3 (2 PENDING, 1 RUNNING)<br><table>\n",
       "<thead>\n",
       "<tr><th>Trial name             </th><th>status  </th><th>loc            </th><th style=\"text-align: right;\">  lr</th><th style=\"text-align: right;\">  momentum</th><th style=\"text-align: right;\">   acc</th><th style=\"text-align: right;\">  iter</th><th style=\"text-align: right;\">  total time (s)</th></tr>\n",
       "</thead>\n",
       "<tbody>\n",
       "<tr><td>train_mnist_632aa_00000</td><td>RUNNING </td><td>127.0.0.1:21828</td><td style=\"text-align: right;\">0.01</td><td style=\"text-align: right;\">  0.620798</td><td style=\"text-align: right;\">0.9631</td><td style=\"text-align: right;\">     8</td><td style=\"text-align: right;\">         115.634</td></tr>\n",
       "<tr><td>train_mnist_632aa_00001</td><td>PENDING </td><td>               </td><td style=\"text-align: right;\">0.1 </td><td style=\"text-align: right;\">  0.409923</td><td style=\"text-align: right;\">      </td><td style=\"text-align: right;\">      </td><td style=\"text-align: right;\">                </td></tr>\n",
       "<tr><td>train_mnist_632aa_00002</td><td>PENDING </td><td>               </td><td style=\"text-align: right;\">0.5 </td><td style=\"text-align: right;\">  0.651037</td><td style=\"text-align: right;\">      </td><td style=\"text-align: right;\">      </td><td style=\"text-align: right;\">                </td></tr>\n",
       "</tbody>\n",
       "</table><br><br>"
      ],
      "text/plain": [
       "<IPython.core.display.HTML object>"
      ]
     },
     "metadata": {},
     "output_type": "display_data"
    },
    {
     "data": {
      "text/html": [
       "== Status ==<br>Current time: 2022-01-02 21:12:48 (running for 00:02:06.36)<br>Memory usage on this node: 10.5/15.9 GiB<br>Using FIFO scheduling algorithm.<br>Resources requested: 1.0/6 CPUs, 1.0/1 GPUs, 0.0/5.36 GiB heap, 0.0/2.68 GiB objects<br>Result logdir: C:\\Users\\mikec\\ray_results\\train_mnist_2022-01-02_21-10-41<br>Number of trials: 3/3 (2 PENDING, 1 RUNNING)<br><table>\n",
       "<thead>\n",
       "<tr><th>Trial name             </th><th>status  </th><th>loc            </th><th style=\"text-align: right;\">  lr</th><th style=\"text-align: right;\">  momentum</th><th style=\"text-align: right;\">   acc</th><th style=\"text-align: right;\">  iter</th><th style=\"text-align: right;\">  total time (s)</th></tr>\n",
       "</thead>\n",
       "<tbody>\n",
       "<tr><td>train_mnist_632aa_00000</td><td>RUNNING </td><td>127.0.0.1:21828</td><td style=\"text-align: right;\">0.01</td><td style=\"text-align: right;\">  0.620798</td><td style=\"text-align: right;\">0.9631</td><td style=\"text-align: right;\">     8</td><td style=\"text-align: right;\">         115.634</td></tr>\n",
       "<tr><td>train_mnist_632aa_00001</td><td>PENDING </td><td>               </td><td style=\"text-align: right;\">0.1 </td><td style=\"text-align: right;\">  0.409923</td><td style=\"text-align: right;\">      </td><td style=\"text-align: right;\">      </td><td style=\"text-align: right;\">                </td></tr>\n",
       "<tr><td>train_mnist_632aa_00002</td><td>PENDING </td><td>               </td><td style=\"text-align: right;\">0.5 </td><td style=\"text-align: right;\">  0.651037</td><td style=\"text-align: right;\">      </td><td style=\"text-align: right;\">      </td><td style=\"text-align: right;\">                </td></tr>\n",
       "</tbody>\n",
       "</table><br><br>"
      ],
      "text/plain": [
       "<IPython.core.display.HTML object>"
      ]
     },
     "metadata": {},
     "output_type": "display_data"
    },
    {
     "data": {
      "text/html": [
       "== Status ==<br>Current time: 2022-01-02 21:12:53 (running for 00:02:11.43)<br>Memory usage on this node: 10.5/15.9 GiB<br>Using FIFO scheduling algorithm.<br>Resources requested: 1.0/6 CPUs, 1.0/1 GPUs, 0.0/5.36 GiB heap, 0.0/2.68 GiB objects<br>Result logdir: C:\\Users\\mikec\\ray_results\\train_mnist_2022-01-02_21-10-41<br>Number of trials: 3/3 (2 PENDING, 1 RUNNING)<br><table>\n",
       "<thead>\n",
       "<tr><th>Trial name             </th><th>status  </th><th>loc            </th><th style=\"text-align: right;\">  lr</th><th style=\"text-align: right;\">  momentum</th><th style=\"text-align: right;\">   acc</th><th style=\"text-align: right;\">  iter</th><th style=\"text-align: right;\">  total time (s)</th></tr>\n",
       "</thead>\n",
       "<tbody>\n",
       "<tr><td>train_mnist_632aa_00000</td><td>RUNNING </td><td>127.0.0.1:21828</td><td style=\"text-align: right;\">0.01</td><td style=\"text-align: right;\">  0.620798</td><td style=\"text-align: right;\">0.9631</td><td style=\"text-align: right;\">     8</td><td style=\"text-align: right;\">         115.634</td></tr>\n",
       "<tr><td>train_mnist_632aa_00001</td><td>PENDING </td><td>               </td><td style=\"text-align: right;\">0.1 </td><td style=\"text-align: right;\">  0.409923</td><td style=\"text-align: right;\">      </td><td style=\"text-align: right;\">      </td><td style=\"text-align: right;\">                </td></tr>\n",
       "<tr><td>train_mnist_632aa_00002</td><td>PENDING </td><td>               </td><td style=\"text-align: right;\">0.5 </td><td style=\"text-align: right;\">  0.651037</td><td style=\"text-align: right;\">      </td><td style=\"text-align: right;\">      </td><td style=\"text-align: right;\">                </td></tr>\n",
       "</tbody>\n",
       "</table><br><br>"
      ],
      "text/plain": [
       "<IPython.core.display.HTML object>"
      ]
     },
     "metadata": {},
     "output_type": "display_data"
    },
    {
     "name": "stdout",
     "output_type": "stream",
     "text": [
      "Result for train_mnist_632aa_00000:\n",
      "  date: 2022-01-02_21-12-53\n",
      "  done: false\n",
      "  experiment_id: e635b4cc50164158a2385aeed6bf481e\n",
      "  hostname: bigpc\n",
      "  iterations_since_restore: 9\n",
      "  mean_accuracy: 0.964\n",
      "  node_ip: 127.0.0.1\n",
      "  pid: 21828\n",
      "  time_since_restore: 128.91595602035522\n",
      "  time_this_iter_s: 13.282280445098877\n",
      "  time_total_s: 128.91595602035522\n",
      "  timestamp: 1641129173\n",
      "  timesteps_since_restore: 0\n",
      "  training_iteration: 9\n",
      "  trial_id: 632aa_00000\n",
      "  \n"
     ]
    },
    {
     "data": {
      "text/html": [
       "== Status ==<br>Current time: 2022-01-02 21:12:58 (running for 00:02:16.59)<br>Memory usage on this node: 10.5/15.9 GiB<br>Using FIFO scheduling algorithm.<br>Resources requested: 1.0/6 CPUs, 1.0/1 GPUs, 0.0/5.36 GiB heap, 0.0/2.68 GiB objects<br>Result logdir: C:\\Users\\mikec\\ray_results\\train_mnist_2022-01-02_21-10-41<br>Number of trials: 3/3 (2 PENDING, 1 RUNNING)<br><table>\n",
       "<thead>\n",
       "<tr><th>Trial name             </th><th>status  </th><th>loc            </th><th style=\"text-align: right;\">  lr</th><th style=\"text-align: right;\">  momentum</th><th style=\"text-align: right;\">  acc</th><th style=\"text-align: right;\">  iter</th><th style=\"text-align: right;\">  total time (s)</th></tr>\n",
       "</thead>\n",
       "<tbody>\n",
       "<tr><td>train_mnist_632aa_00000</td><td>RUNNING </td><td>127.0.0.1:21828</td><td style=\"text-align: right;\">0.01</td><td style=\"text-align: right;\">  0.620798</td><td style=\"text-align: right;\">0.964</td><td style=\"text-align: right;\">     9</td><td style=\"text-align: right;\">         128.916</td></tr>\n",
       "<tr><td>train_mnist_632aa_00001</td><td>PENDING </td><td>               </td><td style=\"text-align: right;\">0.1 </td><td style=\"text-align: right;\">  0.409923</td><td style=\"text-align: right;\">     </td><td style=\"text-align: right;\">      </td><td style=\"text-align: right;\">                </td></tr>\n",
       "<tr><td>train_mnist_632aa_00002</td><td>PENDING </td><td>               </td><td style=\"text-align: right;\">0.5 </td><td style=\"text-align: right;\">  0.651037</td><td style=\"text-align: right;\">     </td><td style=\"text-align: right;\">      </td><td style=\"text-align: right;\">                </td></tr>\n",
       "</tbody>\n",
       "</table><br><br>"
      ],
      "text/plain": [
       "<IPython.core.display.HTML object>"
      ]
     },
     "metadata": {},
     "output_type": "display_data"
    },
    {
     "data": {
      "text/html": [
       "== Status ==<br>Current time: 2022-01-02 21:13:03 (running for 00:02:21.64)<br>Memory usage on this node: 10.5/15.9 GiB<br>Using FIFO scheduling algorithm.<br>Resources requested: 1.0/6 CPUs, 1.0/1 GPUs, 0.0/5.36 GiB heap, 0.0/2.68 GiB objects<br>Result logdir: C:\\Users\\mikec\\ray_results\\train_mnist_2022-01-02_21-10-41<br>Number of trials: 3/3 (2 PENDING, 1 RUNNING)<br><table>\n",
       "<thead>\n",
       "<tr><th>Trial name             </th><th>status  </th><th>loc            </th><th style=\"text-align: right;\">  lr</th><th style=\"text-align: right;\">  momentum</th><th style=\"text-align: right;\">  acc</th><th style=\"text-align: right;\">  iter</th><th style=\"text-align: right;\">  total time (s)</th></tr>\n",
       "</thead>\n",
       "<tbody>\n",
       "<tr><td>train_mnist_632aa_00000</td><td>RUNNING </td><td>127.0.0.1:21828</td><td style=\"text-align: right;\">0.01</td><td style=\"text-align: right;\">  0.620798</td><td style=\"text-align: right;\">0.964</td><td style=\"text-align: right;\">     9</td><td style=\"text-align: right;\">         128.916</td></tr>\n",
       "<tr><td>train_mnist_632aa_00001</td><td>PENDING </td><td>               </td><td style=\"text-align: right;\">0.1 </td><td style=\"text-align: right;\">  0.409923</td><td style=\"text-align: right;\">     </td><td style=\"text-align: right;\">      </td><td style=\"text-align: right;\">                </td></tr>\n",
       "<tr><td>train_mnist_632aa_00002</td><td>PENDING </td><td>               </td><td style=\"text-align: right;\">0.5 </td><td style=\"text-align: right;\">  0.651037</td><td style=\"text-align: right;\">     </td><td style=\"text-align: right;\">      </td><td style=\"text-align: right;\">                </td></tr>\n",
       "</tbody>\n",
       "</table><br><br>"
      ],
      "text/plain": [
       "<IPython.core.display.HTML object>"
      ]
     },
     "metadata": {},
     "output_type": "display_data"
    },
    {
     "name": "stdout",
     "output_type": "stream",
     "text": [
      "Result for train_mnist_632aa_00000:\n",
      "  date: 2022-01-02_21-13-06\n",
      "  done: false\n",
      "  experiment_id: e635b4cc50164158a2385aeed6bf481e\n",
      "  hostname: bigpc\n",
      "  iterations_since_restore: 10\n",
      "  mean_accuracy: 0.9644\n",
      "  node_ip: 127.0.0.1\n",
      "  pid: 21828\n",
      "  time_since_restore: 142.22814011573792\n",
      "  time_this_iter_s: 13.31218409538269\n",
      "  time_total_s: 142.22814011573792\n",
      "  timestamp: 1641129186\n",
      "  timesteps_since_restore: 0\n",
      "  training_iteration: 10\n",
      "  trial_id: 632aa_00000\n",
      "  \n",
      "Result for train_mnist_632aa_00000:\n",
      "  date: 2022-01-02_21-13-06\n",
      "  done: true\n",
      "  experiment_id: e635b4cc50164158a2385aeed6bf481e\n",
      "  experiment_tag: 0_lr=0.01,momentum=0.6208\n",
      "  hostname: bigpc\n",
      "  iterations_since_restore: 10\n",
      "  mean_accuracy: 0.9644\n",
      "  node_ip: 127.0.0.1\n",
      "  pid: 21828\n",
      "  time_since_restore: 142.22814011573792\n",
      "  time_this_iter_s: 13.31218409538269\n",
      "  time_total_s: 142.22814011573792\n",
      "  timestamp: 1641129186\n",
      "  timesteps_since_restore: 0\n",
      "  training_iteration: 10\n",
      "  trial_id: 632aa_00000\n",
      "  \n"
     ]
    },
    {
     "data": {
      "text/html": [
       "== Status ==<br>Current time: 2022-01-02 21:13:09 (running for 00:02:27.30)<br>Memory usage on this node: 8.7/15.9 GiB<br>Using FIFO scheduling algorithm.<br>Resources requested: 1.0/6 CPUs, 1.0/1 GPUs, 0.0/5.36 GiB heap, 0.0/2.68 GiB objects<br>Result logdir: C:\\Users\\mikec\\ray_results\\train_mnist_2022-01-02_21-10-41<br>Number of trials: 3/3 (1 PENDING, 1 RUNNING, 1 TERMINATED)<br><table>\n",
       "<thead>\n",
       "<tr><th>Trial name             </th><th>status    </th><th>loc            </th><th style=\"text-align: right;\">  lr</th><th style=\"text-align: right;\">  momentum</th><th style=\"text-align: right;\">   acc</th><th style=\"text-align: right;\">  iter</th><th style=\"text-align: right;\">  total time (s)</th></tr>\n",
       "</thead>\n",
       "<tbody>\n",
       "<tr><td>train_mnist_632aa_00001</td><td>RUNNING   </td><td>127.0.0.1:22708</td><td style=\"text-align: right;\">0.1 </td><td style=\"text-align: right;\">  0.409923</td><td style=\"text-align: right;\">      </td><td style=\"text-align: right;\">      </td><td style=\"text-align: right;\">                </td></tr>\n",
       "<tr><td>train_mnist_632aa_00002</td><td>PENDING   </td><td>               </td><td style=\"text-align: right;\">0.5 </td><td style=\"text-align: right;\">  0.651037</td><td style=\"text-align: right;\">      </td><td style=\"text-align: right;\">      </td><td style=\"text-align: right;\">                </td></tr>\n",
       "<tr><td>train_mnist_632aa_00000</td><td>TERMINATED</td><td>127.0.0.1:21828</td><td style=\"text-align: right;\">0.01</td><td style=\"text-align: right;\">  0.620798</td><td style=\"text-align: right;\">0.9644</td><td style=\"text-align: right;\">    10</td><td style=\"text-align: right;\">         142.228</td></tr>\n",
       "</tbody>\n",
       "</table><br><br>"
      ],
      "text/plain": [
       "<IPython.core.display.HTML object>"
      ]
     },
     "metadata": {},
     "output_type": "display_data"
    },
    {
     "name": "stdout",
     "output_type": "stream",
     "text": [
      " pid=22708)\u001b[0m Downloading http://yann.lecun.com/exdb/mnist/train-images-idx3-ubyte.gz\n",
      " pid=22708)\u001b[0m Downloading http://yann.lecun.com/exdb/mnist/train-images-idx3-ubyte.gz to MNIST\\raw\\train-images-idx3-ubyte.gz\n"
     ]
    },
    {
     "name": "stderr",
     "output_type": "stream",
     "text": [
      "  0%|          | 0/9912422 [00:00<?, ?it/s]\n",
      "  1%|▏         | 131072/9912422 [00:00<00:14, 675184.09it/s]\n",
      "  3%|▎         | 263168/9912422 [00:00<00:14, 663331.02it/s]\n",
      "  5%|▍         | 486400/9912422 [00:00<00:11, 854321.34it/s]\n",
      "  9%|▊         | 860160/9912422 [00:00<00:05, 1552905.25it/s]\n",
      " 11%|█         | 1058816/9912422 [00:00<00:05, 1540270.93it/s]\n",
      " 15%|█▌        | 1533952/9912422 [00:00<00:03, 2353716.08it/s]\n",
      " 18%|█▊        | 1830912/9912422 [00:01<00:03, 2517140.83it/s]\n",
      " 32%|███▏      | 3171328/9912422 [00:01<00:01, 4490583.07it/s]\n",
      " 43%|████▎     | 4250624/9912422 [00:01<00:00, 6291972.06it/s]\n",
      " 50%|████▉     | 4919296/9912422 [00:01<00:01, 2934983.73it/s]\n",
      " 62%|██████▏   | 6149120/9912422 [00:02<00:01, 3450196.35it/s]\n",
      " 67%|██████▋   | 6634496/9912422 [00:02<00:01, 3111254.74it/s]\n",
      " 71%|███████   | 7041024/9912422 [00:02<00:00, 3093431.19it/s]\n",
      "9913344it [00:02, 3964010.69it/s]                             \n"
     ]
    },
    {
     "name": "stdout",
     "output_type": "stream",
     "text": [
      " pid=22708)\u001b[0m Extracting MNIST\\raw\\train-images-idx3-ubyte.gz to MNIST\\raw\n",
      " pid=22708)\u001b[0m itFunc\n",
      " pid=22708)\u001b[0m Downloading http://yann.lecun.com/exdb/mnist/train-labels-idx1-ubyte.gz\n",
      " pid=22708)\u001b[0m Downloading http://yann.lecun.com/exdb/mnist/train-labels-idx1-ubyte.gz to MNIST\\raw\\train-labels-idx1-ubyte.gz\n"
     ]
    },
    {
     "name": "stderr",
     "output_type": "stream",
     "text": [
      "\u001b[2m\u001b[36m(ImplicitFunc\r",
      " pid=22708)\u001b[0m \r",
      "  0%|          | 0/28881 [00:00<?, ?it/s]\r",
      "29696it [00:00, 29669855.07it/s]         \r\n"
     ]
    },
    {
     "name": "stdout",
     "output_type": "stream",
     "text": [
      " pid=22708)\u001b[0m Extracting MNIST\\raw\\train-labels-idx1-ubyte.gz to MNIST\\raw\n",
      " pid=22708)\u001b[0m itFunc\n",
      " pid=22708)\u001b[0m Downloading http://yann.lecun.com/exdb/mnist/t10k-images-idx3-ubyte.gz\n",
      " pid=22708)\u001b[0m Downloading http://yann.lecun.com/exdb/mnist/t10k-images-idx3-ubyte.gz to MNIST\\raw\\t10k-images-idx3-ubyte.gz\n"
     ]
    },
    {
     "name": "stderr",
     "output_type": "stream",
     "text": [
      "\u001b[2m\u001b[36m(ImplicitFunc\r",
      " pid=22708)\u001b[0m \r",
      "  0%|          | 0/1648877 [00:00<?, ?it/s]\n"
     ]
    },
    {
     "data": {
      "text/html": [
       "== Status ==<br>Current time: 2022-01-02 21:13:14 (running for 00:02:32.37)<br>Memory usage on this node: 8.8/15.9 GiB<br>Using FIFO scheduling algorithm.<br>Resources requested: 1.0/6 CPUs, 1.0/1 GPUs, 0.0/5.36 GiB heap, 0.0/2.68 GiB objects<br>Result logdir: C:\\Users\\mikec\\ray_results\\train_mnist_2022-01-02_21-10-41<br>Number of trials: 3/3 (1 PENDING, 1 RUNNING, 1 TERMINATED)<br><table>\n",
       "<thead>\n",
       "<tr><th>Trial name             </th><th>status    </th><th>loc            </th><th style=\"text-align: right;\">  lr</th><th style=\"text-align: right;\">  momentum</th><th style=\"text-align: right;\">   acc</th><th style=\"text-align: right;\">  iter</th><th style=\"text-align: right;\">  total time (s)</th></tr>\n",
       "</thead>\n",
       "<tbody>\n",
       "<tr><td>train_mnist_632aa_00001</td><td>RUNNING   </td><td>127.0.0.1:22708</td><td style=\"text-align: right;\">0.1 </td><td style=\"text-align: right;\">  0.409923</td><td style=\"text-align: right;\">      </td><td style=\"text-align: right;\">      </td><td style=\"text-align: right;\">                </td></tr>\n",
       "<tr><td>train_mnist_632aa_00002</td><td>PENDING   </td><td>               </td><td style=\"text-align: right;\">0.5 </td><td style=\"text-align: right;\">  0.651037</td><td style=\"text-align: right;\">      </td><td style=\"text-align: right;\">      </td><td style=\"text-align: right;\">                </td></tr>\n",
       "<tr><td>train_mnist_632aa_00000</td><td>TERMINATED</td><td>127.0.0.1:21828</td><td style=\"text-align: right;\">0.01</td><td style=\"text-align: right;\">  0.620798</td><td style=\"text-align: right;\">0.9644</td><td style=\"text-align: right;\">    10</td><td style=\"text-align: right;\">         142.228</td></tr>\n",
       "</tbody>\n",
       "</table><br><br>"
      ],
      "text/plain": [
       "<IPython.core.display.HTML object>"
      ]
     },
     "metadata": {},
     "output_type": "display_data"
    },
    {
     "name": "stderr",
     "output_type": "stream",
     "text": [
      "  8%|▊         | 131072/1648877 [00:00<00:01, 1022873.83it/s]\n",
      " 16%|█▌        | 263168/1648877 [00:00<00:01, 1000542.91it/s]\n",
      " 30%|██▉       | 494592/1648877 [00:00<00:00, 1326466.48it/s]\n",
      " 57%|█████▋    | 943104/1648877 [00:00<00:00, 2356058.34it/s]\n",
      "1649664it [00:00, 2454174.75it/s]                             \n"
     ]
    },
    {
     "name": "stdout",
     "output_type": "stream",
     "text": [
      " pid=22708)\u001b[0m Extracting MNIST\\raw\\t10k-images-idx3-ubyte.gz to MNIST\\raw\n",
      " pid=22708)\u001b[0m itFunc\n",
      " pid=22708)\u001b[0m Downloading http://yann.lecun.com/exdb/mnist/t10k-labels-idx1-ubyte.gz\n",
      " pid=22708)\u001b[0m Downloading http://yann.lecun.com/exdb/mnist/t10k-labels-idx1-ubyte.gz to MNIST\\raw\\t10k-labels-idx1-ubyte.gz\n"
     ]
    },
    {
     "name": "stderr",
     "output_type": "stream",
     "text": [
      "\u001b[2m\u001b[36m(ImplicitFunc\r",
      " pid=22708)\u001b[0m \r",
      "  0%|          | 0/4542 [00:00<?, ?it/s]\r",
      "5120it [00:00, ?it/s]                   \r\n"
     ]
    },
    {
     "name": "stdout",
     "output_type": "stream",
     "text": [
      "\u001b[2m\u001b[36m(ImplicitFunc\r",
      " pid=22708)\u001b[0m Extracting MNIST\\raw\\t10k-labels-idx1-ubyte.gz to MNIST\\raw\r\n",
      "\u001b[2m\u001b[36m(ImplicitFunc\r",
      " pid=22708)\u001b[0m \r\n"
     ]
    },
    {
     "data": {
      "text/html": [
       "== Status ==<br>Current time: 2022-01-02 21:13:19 (running for 00:02:37.44)<br>Memory usage on this node: 10.4/15.9 GiB<br>Using FIFO scheduling algorithm.<br>Resources requested: 1.0/6 CPUs, 1.0/1 GPUs, 0.0/5.36 GiB heap, 0.0/2.68 GiB objects<br>Result logdir: C:\\Users\\mikec\\ray_results\\train_mnist_2022-01-02_21-10-41<br>Number of trials: 3/3 (1 PENDING, 1 RUNNING, 1 TERMINATED)<br><table>\n",
       "<thead>\n",
       "<tr><th>Trial name             </th><th>status    </th><th>loc            </th><th style=\"text-align: right;\">  lr</th><th style=\"text-align: right;\">  momentum</th><th style=\"text-align: right;\">   acc</th><th style=\"text-align: right;\">  iter</th><th style=\"text-align: right;\">  total time (s)</th></tr>\n",
       "</thead>\n",
       "<tbody>\n",
       "<tr><td>train_mnist_632aa_00001</td><td>RUNNING   </td><td>127.0.0.1:22708</td><td style=\"text-align: right;\">0.1 </td><td style=\"text-align: right;\">  0.409923</td><td style=\"text-align: right;\">      </td><td style=\"text-align: right;\">      </td><td style=\"text-align: right;\">                </td></tr>\n",
       "<tr><td>train_mnist_632aa_00002</td><td>PENDING   </td><td>               </td><td style=\"text-align: right;\">0.5 </td><td style=\"text-align: right;\">  0.651037</td><td style=\"text-align: right;\">      </td><td style=\"text-align: right;\">      </td><td style=\"text-align: right;\">                </td></tr>\n",
       "<tr><td>train_mnist_632aa_00000</td><td>TERMINATED</td><td>127.0.0.1:21828</td><td style=\"text-align: right;\">0.01</td><td style=\"text-align: right;\">  0.620798</td><td style=\"text-align: right;\">0.9644</td><td style=\"text-align: right;\">    10</td><td style=\"text-align: right;\">         142.228</td></tr>\n",
       "</tbody>\n",
       "</table><br><br>"
      ],
      "text/plain": [
       "<IPython.core.display.HTML object>"
      ]
     },
     "metadata": {},
     "output_type": "display_data"
    },
    {
     "data": {
      "text/html": [
       "== Status ==<br>Current time: 2022-01-02 21:13:24 (running for 00:02:42.49)<br>Memory usage on this node: 10.4/15.9 GiB<br>Using FIFO scheduling algorithm.<br>Resources requested: 1.0/6 CPUs, 1.0/1 GPUs, 0.0/5.36 GiB heap, 0.0/2.68 GiB objects<br>Result logdir: C:\\Users\\mikec\\ray_results\\train_mnist_2022-01-02_21-10-41<br>Number of trials: 3/3 (1 PENDING, 1 RUNNING, 1 TERMINATED)<br><table>\n",
       "<thead>\n",
       "<tr><th>Trial name             </th><th>status    </th><th>loc            </th><th style=\"text-align: right;\">  lr</th><th style=\"text-align: right;\">  momentum</th><th style=\"text-align: right;\">   acc</th><th style=\"text-align: right;\">  iter</th><th style=\"text-align: right;\">  total time (s)</th></tr>\n",
       "</thead>\n",
       "<tbody>\n",
       "<tr><td>train_mnist_632aa_00001</td><td>RUNNING   </td><td>127.0.0.1:22708</td><td style=\"text-align: right;\">0.1 </td><td style=\"text-align: right;\">  0.409923</td><td style=\"text-align: right;\">      </td><td style=\"text-align: right;\">      </td><td style=\"text-align: right;\">                </td></tr>\n",
       "<tr><td>train_mnist_632aa_00002</td><td>PENDING   </td><td>               </td><td style=\"text-align: right;\">0.5 </td><td style=\"text-align: right;\">  0.651037</td><td style=\"text-align: right;\">      </td><td style=\"text-align: right;\">      </td><td style=\"text-align: right;\">                </td></tr>\n",
       "<tr><td>train_mnist_632aa_00000</td><td>TERMINATED</td><td>127.0.0.1:21828</td><td style=\"text-align: right;\">0.01</td><td style=\"text-align: right;\">  0.620798</td><td style=\"text-align: right;\">0.9644</td><td style=\"text-align: right;\">    10</td><td style=\"text-align: right;\">         142.228</td></tr>\n",
       "</tbody>\n",
       "</table><br><br>"
      ],
      "text/plain": [
       "<IPython.core.display.HTML object>"
      ]
     },
     "metadata": {},
     "output_type": "display_data"
    },
    {
     "data": {
      "text/html": [
       "== Status ==<br>Current time: 2022-01-02 21:13:29 (running for 00:02:47.57)<br>Memory usage on this node: 10.4/15.9 GiB<br>Using FIFO scheduling algorithm.<br>Resources requested: 1.0/6 CPUs, 1.0/1 GPUs, 0.0/5.36 GiB heap, 0.0/2.68 GiB objects<br>Result logdir: C:\\Users\\mikec\\ray_results\\train_mnist_2022-01-02_21-10-41<br>Number of trials: 3/3 (1 PENDING, 1 RUNNING, 1 TERMINATED)<br><table>\n",
       "<thead>\n",
       "<tr><th>Trial name             </th><th>status    </th><th>loc            </th><th style=\"text-align: right;\">  lr</th><th style=\"text-align: right;\">  momentum</th><th style=\"text-align: right;\">   acc</th><th style=\"text-align: right;\">  iter</th><th style=\"text-align: right;\">  total time (s)</th></tr>\n",
       "</thead>\n",
       "<tbody>\n",
       "<tr><td>train_mnist_632aa_00001</td><td>RUNNING   </td><td>127.0.0.1:22708</td><td style=\"text-align: right;\">0.1 </td><td style=\"text-align: right;\">  0.409923</td><td style=\"text-align: right;\">      </td><td style=\"text-align: right;\">      </td><td style=\"text-align: right;\">                </td></tr>\n",
       "<tr><td>train_mnist_632aa_00002</td><td>PENDING   </td><td>               </td><td style=\"text-align: right;\">0.5 </td><td style=\"text-align: right;\">  0.651037</td><td style=\"text-align: right;\">      </td><td style=\"text-align: right;\">      </td><td style=\"text-align: right;\">                </td></tr>\n",
       "<tr><td>train_mnist_632aa_00000</td><td>TERMINATED</td><td>127.0.0.1:21828</td><td style=\"text-align: right;\">0.01</td><td style=\"text-align: right;\">  0.620798</td><td style=\"text-align: right;\">0.9644</td><td style=\"text-align: right;\">    10</td><td style=\"text-align: right;\">         142.228</td></tr>\n",
       "</tbody>\n",
       "</table><br><br>"
      ],
      "text/plain": [
       "<IPython.core.display.HTML object>"
      ]
     },
     "metadata": {},
     "output_type": "display_data"
    },
    {
     "name": "stdout",
     "output_type": "stream",
     "text": [
      "Result for train_mnist_632aa_00001:\n",
      "  date: 2022-01-02_21-13-30\n",
      "  done: false\n",
      "  experiment_id: 6fe5ee93539148baa431cb0473c73e0d\n",
      "  hostname: bigpc\n",
      "  iterations_since_restore: 1\n",
      "  mean_accuracy: 0.9527\n",
      "  node_ip: 127.0.0.1\n",
      "  pid: 22708\n",
      "  time_since_restore: 21.51491951942444\n",
      "  time_this_iter_s: 21.51491951942444\n",
      "  time_total_s: 21.51491951942444\n",
      "  timestamp: 1641129210\n",
      "  timesteps_since_restore: 0\n",
      "  training_iteration: 1\n",
      "  trial_id: 632aa_00001\n",
      "  \n"
     ]
    },
    {
     "data": {
      "text/html": [
       "== Status ==<br>Current time: 2022-01-02 21:13:34 (running for 00:02:52.88)<br>Memory usage on this node: 10.4/15.9 GiB<br>Using FIFO scheduling algorithm.<br>Resources requested: 1.0/6 CPUs, 1.0/1 GPUs, 0.0/5.36 GiB heap, 0.0/2.68 GiB objects<br>Result logdir: C:\\Users\\mikec\\ray_results\\train_mnist_2022-01-02_21-10-41<br>Number of trials: 3/3 (1 PENDING, 1 RUNNING, 1 TERMINATED)<br><table>\n",
       "<thead>\n",
       "<tr><th>Trial name             </th><th>status    </th><th>loc            </th><th style=\"text-align: right;\">  lr</th><th style=\"text-align: right;\">  momentum</th><th style=\"text-align: right;\">   acc</th><th style=\"text-align: right;\">  iter</th><th style=\"text-align: right;\">  total time (s)</th></tr>\n",
       "</thead>\n",
       "<tbody>\n",
       "<tr><td>train_mnist_632aa_00001</td><td>RUNNING   </td><td>127.0.0.1:22708</td><td style=\"text-align: right;\">0.1 </td><td style=\"text-align: right;\">  0.409923</td><td style=\"text-align: right;\">0.9527</td><td style=\"text-align: right;\">     1</td><td style=\"text-align: right;\">         21.5149</td></tr>\n",
       "<tr><td>train_mnist_632aa_00002</td><td>PENDING   </td><td>               </td><td style=\"text-align: right;\">0.5 </td><td style=\"text-align: right;\">  0.651037</td><td style=\"text-align: right;\">      </td><td style=\"text-align: right;\">      </td><td style=\"text-align: right;\">                </td></tr>\n",
       "<tr><td>train_mnist_632aa_00000</td><td>TERMINATED</td><td>127.0.0.1:21828</td><td style=\"text-align: right;\">0.01</td><td style=\"text-align: right;\">  0.620798</td><td style=\"text-align: right;\">0.9644</td><td style=\"text-align: right;\">    10</td><td style=\"text-align: right;\">        142.228 </td></tr>\n",
       "</tbody>\n",
       "</table><br><br>"
      ],
      "text/plain": [
       "<IPython.core.display.HTML object>"
      ]
     },
     "metadata": {},
     "output_type": "display_data"
    },
    {
     "data": {
      "text/html": [
       "== Status ==<br>Current time: 2022-01-02 21:13:39 (running for 00:02:57.95)<br>Memory usage on this node: 10.4/15.9 GiB<br>Using FIFO scheduling algorithm.<br>Resources requested: 1.0/6 CPUs, 1.0/1 GPUs, 0.0/5.36 GiB heap, 0.0/2.68 GiB objects<br>Result logdir: C:\\Users\\mikec\\ray_results\\train_mnist_2022-01-02_21-10-41<br>Number of trials: 3/3 (1 PENDING, 1 RUNNING, 1 TERMINATED)<br><table>\n",
       "<thead>\n",
       "<tr><th>Trial name             </th><th>status    </th><th>loc            </th><th style=\"text-align: right;\">  lr</th><th style=\"text-align: right;\">  momentum</th><th style=\"text-align: right;\">   acc</th><th style=\"text-align: right;\">  iter</th><th style=\"text-align: right;\">  total time (s)</th></tr>\n",
       "</thead>\n",
       "<tbody>\n",
       "<tr><td>train_mnist_632aa_00001</td><td>RUNNING   </td><td>127.0.0.1:22708</td><td style=\"text-align: right;\">0.1 </td><td style=\"text-align: right;\">  0.409923</td><td style=\"text-align: right;\">0.9527</td><td style=\"text-align: right;\">     1</td><td style=\"text-align: right;\">         21.5149</td></tr>\n",
       "<tr><td>train_mnist_632aa_00002</td><td>PENDING   </td><td>               </td><td style=\"text-align: right;\">0.5 </td><td style=\"text-align: right;\">  0.651037</td><td style=\"text-align: right;\">      </td><td style=\"text-align: right;\">      </td><td style=\"text-align: right;\">                </td></tr>\n",
       "<tr><td>train_mnist_632aa_00000</td><td>TERMINATED</td><td>127.0.0.1:21828</td><td style=\"text-align: right;\">0.01</td><td style=\"text-align: right;\">  0.620798</td><td style=\"text-align: right;\">0.9644</td><td style=\"text-align: right;\">    10</td><td style=\"text-align: right;\">        142.228 </td></tr>\n",
       "</tbody>\n",
       "</table><br><br>"
      ],
      "text/plain": [
       "<IPython.core.display.HTML object>"
      ]
     },
     "metadata": {},
     "output_type": "display_data"
    },
    {
     "name": "stdout",
     "output_type": "stream",
     "text": [
      "Result for train_mnist_632aa_00001:\n",
      "  date: 2022-01-02_21-13-43\n",
      "  done: false\n",
      "  experiment_id: 6fe5ee93539148baa431cb0473c73e0d\n",
      "  hostname: bigpc\n",
      "  iterations_since_restore: 2\n",
      "  mean_accuracy: 0.9552\n",
      "  node_ip: 127.0.0.1\n",
      "  pid: 22708\n",
      "  time_since_restore: 34.425164222717285\n",
      "  time_this_iter_s: 12.910244703292847\n",
      "  time_total_s: 34.425164222717285\n",
      "  timestamp: 1641129223\n",
      "  timesteps_since_restore: 0\n",
      "  training_iteration: 2\n",
      "  trial_id: 632aa_00001\n",
      "  \n"
     ]
    },
    {
     "data": {
      "text/html": [
       "== Status ==<br>Current time: 2022-01-02 21:13:45 (running for 00:03:03.75)<br>Memory usage on this node: 10.4/15.9 GiB<br>Using FIFO scheduling algorithm.<br>Resources requested: 1.0/6 CPUs, 1.0/1 GPUs, 0.0/5.36 GiB heap, 0.0/2.68 GiB objects<br>Result logdir: C:\\Users\\mikec\\ray_results\\train_mnist_2022-01-02_21-10-41<br>Number of trials: 3/3 (1 PENDING, 1 RUNNING, 1 TERMINATED)<br><table>\n",
       "<thead>\n",
       "<tr><th>Trial name             </th><th>status    </th><th>loc            </th><th style=\"text-align: right;\">  lr</th><th style=\"text-align: right;\">  momentum</th><th style=\"text-align: right;\">   acc</th><th style=\"text-align: right;\">  iter</th><th style=\"text-align: right;\">  total time (s)</th></tr>\n",
       "</thead>\n",
       "<tbody>\n",
       "<tr><td>train_mnist_632aa_00001</td><td>RUNNING   </td><td>127.0.0.1:22708</td><td style=\"text-align: right;\">0.1 </td><td style=\"text-align: right;\">  0.409923</td><td style=\"text-align: right;\">0.9552</td><td style=\"text-align: right;\">     2</td><td style=\"text-align: right;\">         34.4252</td></tr>\n",
       "<tr><td>train_mnist_632aa_00002</td><td>PENDING   </td><td>               </td><td style=\"text-align: right;\">0.5 </td><td style=\"text-align: right;\">  0.651037</td><td style=\"text-align: right;\">      </td><td style=\"text-align: right;\">      </td><td style=\"text-align: right;\">                </td></tr>\n",
       "<tr><td>train_mnist_632aa_00000</td><td>TERMINATED</td><td>127.0.0.1:21828</td><td style=\"text-align: right;\">0.01</td><td style=\"text-align: right;\">  0.620798</td><td style=\"text-align: right;\">0.9644</td><td style=\"text-align: right;\">    10</td><td style=\"text-align: right;\">        142.228 </td></tr>\n",
       "</tbody>\n",
       "</table><br><br>"
      ],
      "text/plain": [
       "<IPython.core.display.HTML object>"
      ]
     },
     "metadata": {},
     "output_type": "display_data"
    },
    {
     "data": {
      "text/html": [
       "== Status ==<br>Current time: 2022-01-02 21:13:50 (running for 00:03:08.82)<br>Memory usage on this node: 10.4/15.9 GiB<br>Using FIFO scheduling algorithm.<br>Resources requested: 1.0/6 CPUs, 1.0/1 GPUs, 0.0/5.36 GiB heap, 0.0/2.68 GiB objects<br>Result logdir: C:\\Users\\mikec\\ray_results\\train_mnist_2022-01-02_21-10-41<br>Number of trials: 3/3 (1 PENDING, 1 RUNNING, 1 TERMINATED)<br><table>\n",
       "<thead>\n",
       "<tr><th>Trial name             </th><th>status    </th><th>loc            </th><th style=\"text-align: right;\">  lr</th><th style=\"text-align: right;\">  momentum</th><th style=\"text-align: right;\">   acc</th><th style=\"text-align: right;\">  iter</th><th style=\"text-align: right;\">  total time (s)</th></tr>\n",
       "</thead>\n",
       "<tbody>\n",
       "<tr><td>train_mnist_632aa_00001</td><td>RUNNING   </td><td>127.0.0.1:22708</td><td style=\"text-align: right;\">0.1 </td><td style=\"text-align: right;\">  0.409923</td><td style=\"text-align: right;\">0.9552</td><td style=\"text-align: right;\">     2</td><td style=\"text-align: right;\">         34.4252</td></tr>\n",
       "<tr><td>train_mnist_632aa_00002</td><td>PENDING   </td><td>               </td><td style=\"text-align: right;\">0.5 </td><td style=\"text-align: right;\">  0.651037</td><td style=\"text-align: right;\">      </td><td style=\"text-align: right;\">      </td><td style=\"text-align: right;\">                </td></tr>\n",
       "<tr><td>train_mnist_632aa_00000</td><td>TERMINATED</td><td>127.0.0.1:21828</td><td style=\"text-align: right;\">0.01</td><td style=\"text-align: right;\">  0.620798</td><td style=\"text-align: right;\">0.9644</td><td style=\"text-align: right;\">    10</td><td style=\"text-align: right;\">        142.228 </td></tr>\n",
       "</tbody>\n",
       "</table><br><br>"
      ],
      "text/plain": [
       "<IPython.core.display.HTML object>"
      ]
     },
     "metadata": {},
     "output_type": "display_data"
    },
    {
     "data": {
      "text/html": [
       "== Status ==<br>Current time: 2022-01-02 21:13:55 (running for 00:03:13.86)<br>Memory usage on this node: 10.4/15.9 GiB<br>Using FIFO scheduling algorithm.<br>Resources requested: 1.0/6 CPUs, 1.0/1 GPUs, 0.0/5.36 GiB heap, 0.0/2.68 GiB objects<br>Result logdir: C:\\Users\\mikec\\ray_results\\train_mnist_2022-01-02_21-10-41<br>Number of trials: 3/3 (1 PENDING, 1 RUNNING, 1 TERMINATED)<br><table>\n",
       "<thead>\n",
       "<tr><th>Trial name             </th><th>status    </th><th>loc            </th><th style=\"text-align: right;\">  lr</th><th style=\"text-align: right;\">  momentum</th><th style=\"text-align: right;\">   acc</th><th style=\"text-align: right;\">  iter</th><th style=\"text-align: right;\">  total time (s)</th></tr>\n",
       "</thead>\n",
       "<tbody>\n",
       "<tr><td>train_mnist_632aa_00001</td><td>RUNNING   </td><td>127.0.0.1:22708</td><td style=\"text-align: right;\">0.1 </td><td style=\"text-align: right;\">  0.409923</td><td style=\"text-align: right;\">0.9552</td><td style=\"text-align: right;\">     2</td><td style=\"text-align: right;\">         34.4252</td></tr>\n",
       "<tr><td>train_mnist_632aa_00002</td><td>PENDING   </td><td>               </td><td style=\"text-align: right;\">0.5 </td><td style=\"text-align: right;\">  0.651037</td><td style=\"text-align: right;\">      </td><td style=\"text-align: right;\">      </td><td style=\"text-align: right;\">                </td></tr>\n",
       "<tr><td>train_mnist_632aa_00000</td><td>TERMINATED</td><td>127.0.0.1:21828</td><td style=\"text-align: right;\">0.01</td><td style=\"text-align: right;\">  0.620798</td><td style=\"text-align: right;\">0.9644</td><td style=\"text-align: right;\">    10</td><td style=\"text-align: right;\">        142.228 </td></tr>\n",
       "</tbody>\n",
       "</table><br><br>"
      ],
      "text/plain": [
       "<IPython.core.display.HTML object>"
      ]
     },
     "metadata": {},
     "output_type": "display_data"
    },
    {
     "name": "stdout",
     "output_type": "stream",
     "text": [
      "Result for train_mnist_632aa_00001:\n",
      "  date: 2022-01-02_21-13-56\n",
      "  done: false\n",
      "  experiment_id: 6fe5ee93539148baa431cb0473c73e0d\n",
      "  hostname: bigpc\n",
      "  iterations_since_restore: 3\n",
      "  mean_accuracy: 0.9541\n",
      "  node_ip: 127.0.0.1\n",
      "  pid: 22708\n",
      "  time_since_restore: 47.27589511871338\n",
      "  time_this_iter_s: 12.850730895996094\n",
      "  time_total_s: 47.27589511871338\n",
      "  timestamp: 1641129236\n",
      "  timesteps_since_restore: 0\n",
      "  training_iteration: 3\n",
      "  trial_id: 632aa_00001\n",
      "  \n"
     ]
    },
    {
     "data": {
      "text/html": [
       "== Status ==<br>Current time: 2022-01-02 21:14:01 (running for 00:03:19.67)<br>Memory usage on this node: 10.4/15.9 GiB<br>Using FIFO scheduling algorithm.<br>Resources requested: 1.0/6 CPUs, 1.0/1 GPUs, 0.0/5.36 GiB heap, 0.0/2.68 GiB objects<br>Result logdir: C:\\Users\\mikec\\ray_results\\train_mnist_2022-01-02_21-10-41<br>Number of trials: 3/3 (1 PENDING, 1 RUNNING, 1 TERMINATED)<br><table>\n",
       "<thead>\n",
       "<tr><th>Trial name             </th><th>status    </th><th>loc            </th><th style=\"text-align: right;\">  lr</th><th style=\"text-align: right;\">  momentum</th><th style=\"text-align: right;\">   acc</th><th style=\"text-align: right;\">  iter</th><th style=\"text-align: right;\">  total time (s)</th></tr>\n",
       "</thead>\n",
       "<tbody>\n",
       "<tr><td>train_mnist_632aa_00001</td><td>RUNNING   </td><td>127.0.0.1:22708</td><td style=\"text-align: right;\">0.1 </td><td style=\"text-align: right;\">  0.409923</td><td style=\"text-align: right;\">0.9541</td><td style=\"text-align: right;\">     3</td><td style=\"text-align: right;\">         47.2759</td></tr>\n",
       "<tr><td>train_mnist_632aa_00002</td><td>PENDING   </td><td>               </td><td style=\"text-align: right;\">0.5 </td><td style=\"text-align: right;\">  0.651037</td><td style=\"text-align: right;\">      </td><td style=\"text-align: right;\">      </td><td style=\"text-align: right;\">                </td></tr>\n",
       "<tr><td>train_mnist_632aa_00000</td><td>TERMINATED</td><td>127.0.0.1:21828</td><td style=\"text-align: right;\">0.01</td><td style=\"text-align: right;\">  0.620798</td><td style=\"text-align: right;\">0.9644</td><td style=\"text-align: right;\">    10</td><td style=\"text-align: right;\">        142.228 </td></tr>\n",
       "</tbody>\n",
       "</table><br><br>"
      ],
      "text/plain": [
       "<IPython.core.display.HTML object>"
      ]
     },
     "metadata": {},
     "output_type": "display_data"
    },
    {
     "data": {
      "text/html": [
       "== Status ==<br>Current time: 2022-01-02 21:14:06 (running for 00:03:24.72)<br>Memory usage on this node: 10.4/15.9 GiB<br>Using FIFO scheduling algorithm.<br>Resources requested: 1.0/6 CPUs, 1.0/1 GPUs, 0.0/5.36 GiB heap, 0.0/2.68 GiB objects<br>Result logdir: C:\\Users\\mikec\\ray_results\\train_mnist_2022-01-02_21-10-41<br>Number of trials: 3/3 (1 PENDING, 1 RUNNING, 1 TERMINATED)<br><table>\n",
       "<thead>\n",
       "<tr><th>Trial name             </th><th>status    </th><th>loc            </th><th style=\"text-align: right;\">  lr</th><th style=\"text-align: right;\">  momentum</th><th style=\"text-align: right;\">   acc</th><th style=\"text-align: right;\">  iter</th><th style=\"text-align: right;\">  total time (s)</th></tr>\n",
       "</thead>\n",
       "<tbody>\n",
       "<tr><td>train_mnist_632aa_00001</td><td>RUNNING   </td><td>127.0.0.1:22708</td><td style=\"text-align: right;\">0.1 </td><td style=\"text-align: right;\">  0.409923</td><td style=\"text-align: right;\">0.9541</td><td style=\"text-align: right;\">     3</td><td style=\"text-align: right;\">         47.2759</td></tr>\n",
       "<tr><td>train_mnist_632aa_00002</td><td>PENDING   </td><td>               </td><td style=\"text-align: right;\">0.5 </td><td style=\"text-align: right;\">  0.651037</td><td style=\"text-align: right;\">      </td><td style=\"text-align: right;\">      </td><td style=\"text-align: right;\">                </td></tr>\n",
       "<tr><td>train_mnist_632aa_00000</td><td>TERMINATED</td><td>127.0.0.1:21828</td><td style=\"text-align: right;\">0.01</td><td style=\"text-align: right;\">  0.620798</td><td style=\"text-align: right;\">0.9644</td><td style=\"text-align: right;\">    10</td><td style=\"text-align: right;\">        142.228 </td></tr>\n",
       "</tbody>\n",
       "</table><br><br>"
      ],
      "text/plain": [
       "<IPython.core.display.HTML object>"
      ]
     },
     "metadata": {},
     "output_type": "display_data"
    },
    {
     "name": "stdout",
     "output_type": "stream",
     "text": [
      "Result for train_mnist_632aa_00001:\n",
      "  date: 2022-01-02_21-14-09\n",
      "  done: false\n",
      "  experiment_id: 6fe5ee93539148baa431cb0473c73e0d\n",
      "  hostname: bigpc\n",
      "  iterations_since_restore: 4\n",
      "  mean_accuracy: 0.9554\n",
      "  node_ip: 127.0.0.1\n",
      "  pid: 22708\n",
      "  time_since_restore: 60.21736931800842\n",
      "  time_this_iter_s: 12.941474199295044\n",
      "  time_total_s: 60.21736931800842\n",
      "  timestamp: 1641129249\n",
      "  timesteps_since_restore: 0\n",
      "  training_iteration: 4\n",
      "  trial_id: 632aa_00001\n",
      "  \n"
     ]
    },
    {
     "data": {
      "text/html": [
       "== Status ==<br>Current time: 2022-01-02 21:14:12 (running for 00:03:30.57)<br>Memory usage on this node: 10.4/15.9 GiB<br>Using FIFO scheduling algorithm.<br>Resources requested: 1.0/6 CPUs, 1.0/1 GPUs, 0.0/5.36 GiB heap, 0.0/2.68 GiB objects<br>Result logdir: C:\\Users\\mikec\\ray_results\\train_mnist_2022-01-02_21-10-41<br>Number of trials: 3/3 (1 PENDING, 1 RUNNING, 1 TERMINATED)<br><table>\n",
       "<thead>\n",
       "<tr><th>Trial name             </th><th>status    </th><th>loc            </th><th style=\"text-align: right;\">  lr</th><th style=\"text-align: right;\">  momentum</th><th style=\"text-align: right;\">   acc</th><th style=\"text-align: right;\">  iter</th><th style=\"text-align: right;\">  total time (s)</th></tr>\n",
       "</thead>\n",
       "<tbody>\n",
       "<tr><td>train_mnist_632aa_00001</td><td>RUNNING   </td><td>127.0.0.1:22708</td><td style=\"text-align: right;\">0.1 </td><td style=\"text-align: right;\">  0.409923</td><td style=\"text-align: right;\">0.9554</td><td style=\"text-align: right;\">     4</td><td style=\"text-align: right;\">         60.2174</td></tr>\n",
       "<tr><td>train_mnist_632aa_00002</td><td>PENDING   </td><td>               </td><td style=\"text-align: right;\">0.5 </td><td style=\"text-align: right;\">  0.651037</td><td style=\"text-align: right;\">      </td><td style=\"text-align: right;\">      </td><td style=\"text-align: right;\">                </td></tr>\n",
       "<tr><td>train_mnist_632aa_00000</td><td>TERMINATED</td><td>127.0.0.1:21828</td><td style=\"text-align: right;\">0.01</td><td style=\"text-align: right;\">  0.620798</td><td style=\"text-align: right;\">0.9644</td><td style=\"text-align: right;\">    10</td><td style=\"text-align: right;\">        142.228 </td></tr>\n",
       "</tbody>\n",
       "</table><br><br>"
      ],
      "text/plain": [
       "<IPython.core.display.HTML object>"
      ]
     },
     "metadata": {},
     "output_type": "display_data"
    },
    {
     "data": {
      "text/html": [
       "== Status ==<br>Current time: 2022-01-02 21:14:17 (running for 00:03:35.63)<br>Memory usage on this node: 10.4/15.9 GiB<br>Using FIFO scheduling algorithm.<br>Resources requested: 1.0/6 CPUs, 1.0/1 GPUs, 0.0/5.36 GiB heap, 0.0/2.68 GiB objects<br>Result logdir: C:\\Users\\mikec\\ray_results\\train_mnist_2022-01-02_21-10-41<br>Number of trials: 3/3 (1 PENDING, 1 RUNNING, 1 TERMINATED)<br><table>\n",
       "<thead>\n",
       "<tr><th>Trial name             </th><th>status    </th><th>loc            </th><th style=\"text-align: right;\">  lr</th><th style=\"text-align: right;\">  momentum</th><th style=\"text-align: right;\">   acc</th><th style=\"text-align: right;\">  iter</th><th style=\"text-align: right;\">  total time (s)</th></tr>\n",
       "</thead>\n",
       "<tbody>\n",
       "<tr><td>train_mnist_632aa_00001</td><td>RUNNING   </td><td>127.0.0.1:22708</td><td style=\"text-align: right;\">0.1 </td><td style=\"text-align: right;\">  0.409923</td><td style=\"text-align: right;\">0.9554</td><td style=\"text-align: right;\">     4</td><td style=\"text-align: right;\">         60.2174</td></tr>\n",
       "<tr><td>train_mnist_632aa_00002</td><td>PENDING   </td><td>               </td><td style=\"text-align: right;\">0.5 </td><td style=\"text-align: right;\">  0.651037</td><td style=\"text-align: right;\">      </td><td style=\"text-align: right;\">      </td><td style=\"text-align: right;\">                </td></tr>\n",
       "<tr><td>train_mnist_632aa_00000</td><td>TERMINATED</td><td>127.0.0.1:21828</td><td style=\"text-align: right;\">0.01</td><td style=\"text-align: right;\">  0.620798</td><td style=\"text-align: right;\">0.9644</td><td style=\"text-align: right;\">    10</td><td style=\"text-align: right;\">        142.228 </td></tr>\n",
       "</tbody>\n",
       "</table><br><br>"
      ],
      "text/plain": [
       "<IPython.core.display.HTML object>"
      ]
     },
     "metadata": {},
     "output_type": "display_data"
    },
    {
     "name": "stdout",
     "output_type": "stream",
     "text": [
      "Result for train_mnist_632aa_00001:\n",
      "  date: 2022-01-02_21-14-22\n",
      "  done: false\n",
      "  experiment_id: 6fe5ee93539148baa431cb0473c73e0d\n",
      "  hostname: bigpc\n",
      "  iterations_since_restore: 5\n",
      "  mean_accuracy: 0.9622\n",
      "  node_ip: 127.0.0.1\n",
      "  pid: 22708\n",
      "  time_since_restore: 73.01909828186035\n",
      "  time_this_iter_s: 12.801728963851929\n",
      "  time_total_s: 73.01909828186035\n",
      "  timestamp: 1641129262\n",
      "  timesteps_since_restore: 0\n",
      "  training_iteration: 5\n",
      "  trial_id: 632aa_00001\n",
      "  \n"
     ]
    },
    {
     "data": {
      "text/html": [
       "== Status ==<br>Current time: 2022-01-02 21:14:23 (running for 00:03:41.34)<br>Memory usage on this node: 10.4/15.9 GiB<br>Using FIFO scheduling algorithm.<br>Resources requested: 1.0/6 CPUs, 1.0/1 GPUs, 0.0/5.36 GiB heap, 0.0/2.68 GiB objects<br>Result logdir: C:\\Users\\mikec\\ray_results\\train_mnist_2022-01-02_21-10-41<br>Number of trials: 3/3 (1 PENDING, 1 RUNNING, 1 TERMINATED)<br><table>\n",
       "<thead>\n",
       "<tr><th>Trial name             </th><th>status    </th><th>loc            </th><th style=\"text-align: right;\">  lr</th><th style=\"text-align: right;\">  momentum</th><th style=\"text-align: right;\">   acc</th><th style=\"text-align: right;\">  iter</th><th style=\"text-align: right;\">  total time (s)</th></tr>\n",
       "</thead>\n",
       "<tbody>\n",
       "<tr><td>train_mnist_632aa_00001</td><td>RUNNING   </td><td>127.0.0.1:22708</td><td style=\"text-align: right;\">0.1 </td><td style=\"text-align: right;\">  0.409923</td><td style=\"text-align: right;\">0.9622</td><td style=\"text-align: right;\">     5</td><td style=\"text-align: right;\">         73.0191</td></tr>\n",
       "<tr><td>train_mnist_632aa_00002</td><td>PENDING   </td><td>               </td><td style=\"text-align: right;\">0.5 </td><td style=\"text-align: right;\">  0.651037</td><td style=\"text-align: right;\">      </td><td style=\"text-align: right;\">      </td><td style=\"text-align: right;\">                </td></tr>\n",
       "<tr><td>train_mnist_632aa_00000</td><td>TERMINATED</td><td>127.0.0.1:21828</td><td style=\"text-align: right;\">0.01</td><td style=\"text-align: right;\">  0.620798</td><td style=\"text-align: right;\">0.9644</td><td style=\"text-align: right;\">    10</td><td style=\"text-align: right;\">        142.228 </td></tr>\n",
       "</tbody>\n",
       "</table><br><br>"
      ],
      "text/plain": [
       "<IPython.core.display.HTML object>"
      ]
     },
     "metadata": {},
     "output_type": "display_data"
    },
    {
     "data": {
      "text/html": [
       "== Status ==<br>Current time: 2022-01-02 21:14:28 (running for 00:03:46.39)<br>Memory usage on this node: 10.4/15.9 GiB<br>Using FIFO scheduling algorithm.<br>Resources requested: 1.0/6 CPUs, 1.0/1 GPUs, 0.0/5.36 GiB heap, 0.0/2.68 GiB objects<br>Result logdir: C:\\Users\\mikec\\ray_results\\train_mnist_2022-01-02_21-10-41<br>Number of trials: 3/3 (1 PENDING, 1 RUNNING, 1 TERMINATED)<br><table>\n",
       "<thead>\n",
       "<tr><th>Trial name             </th><th>status    </th><th>loc            </th><th style=\"text-align: right;\">  lr</th><th style=\"text-align: right;\">  momentum</th><th style=\"text-align: right;\">   acc</th><th style=\"text-align: right;\">  iter</th><th style=\"text-align: right;\">  total time (s)</th></tr>\n",
       "</thead>\n",
       "<tbody>\n",
       "<tr><td>train_mnist_632aa_00001</td><td>RUNNING   </td><td>127.0.0.1:22708</td><td style=\"text-align: right;\">0.1 </td><td style=\"text-align: right;\">  0.409923</td><td style=\"text-align: right;\">0.9622</td><td style=\"text-align: right;\">     5</td><td style=\"text-align: right;\">         73.0191</td></tr>\n",
       "<tr><td>train_mnist_632aa_00002</td><td>PENDING   </td><td>               </td><td style=\"text-align: right;\">0.5 </td><td style=\"text-align: right;\">  0.651037</td><td style=\"text-align: right;\">      </td><td style=\"text-align: right;\">      </td><td style=\"text-align: right;\">                </td></tr>\n",
       "<tr><td>train_mnist_632aa_00000</td><td>TERMINATED</td><td>127.0.0.1:21828</td><td style=\"text-align: right;\">0.01</td><td style=\"text-align: right;\">  0.620798</td><td style=\"text-align: right;\">0.9644</td><td style=\"text-align: right;\">    10</td><td style=\"text-align: right;\">        142.228 </td></tr>\n",
       "</tbody>\n",
       "</table><br><br>"
      ],
      "text/plain": [
       "<IPython.core.display.HTML object>"
      ]
     },
     "metadata": {},
     "output_type": "display_data"
    },
    {
     "data": {
      "text/html": [
       "== Status ==<br>Current time: 2022-01-02 21:14:33 (running for 00:03:51.47)<br>Memory usage on this node: 10.4/15.9 GiB<br>Using FIFO scheduling algorithm.<br>Resources requested: 1.0/6 CPUs, 1.0/1 GPUs, 0.0/5.36 GiB heap, 0.0/2.68 GiB objects<br>Result logdir: C:\\Users\\mikec\\ray_results\\train_mnist_2022-01-02_21-10-41<br>Number of trials: 3/3 (1 PENDING, 1 RUNNING, 1 TERMINATED)<br><table>\n",
       "<thead>\n",
       "<tr><th>Trial name             </th><th>status    </th><th>loc            </th><th style=\"text-align: right;\">  lr</th><th style=\"text-align: right;\">  momentum</th><th style=\"text-align: right;\">   acc</th><th style=\"text-align: right;\">  iter</th><th style=\"text-align: right;\">  total time (s)</th></tr>\n",
       "</thead>\n",
       "<tbody>\n",
       "<tr><td>train_mnist_632aa_00001</td><td>RUNNING   </td><td>127.0.0.1:22708</td><td style=\"text-align: right;\">0.1 </td><td style=\"text-align: right;\">  0.409923</td><td style=\"text-align: right;\">0.9622</td><td style=\"text-align: right;\">     5</td><td style=\"text-align: right;\">         73.0191</td></tr>\n",
       "<tr><td>train_mnist_632aa_00002</td><td>PENDING   </td><td>               </td><td style=\"text-align: right;\">0.5 </td><td style=\"text-align: right;\">  0.651037</td><td style=\"text-align: right;\">      </td><td style=\"text-align: right;\">      </td><td style=\"text-align: right;\">                </td></tr>\n",
       "<tr><td>train_mnist_632aa_00000</td><td>TERMINATED</td><td>127.0.0.1:21828</td><td style=\"text-align: right;\">0.01</td><td style=\"text-align: right;\">  0.620798</td><td style=\"text-align: right;\">0.9644</td><td style=\"text-align: right;\">    10</td><td style=\"text-align: right;\">        142.228 </td></tr>\n",
       "</tbody>\n",
       "</table><br><br>"
      ],
      "text/plain": [
       "<IPython.core.display.HTML object>"
      ]
     },
     "metadata": {},
     "output_type": "display_data"
    },
    {
     "name": "stdout",
     "output_type": "stream",
     "text": [
      "Result for train_mnist_632aa_00001:\n",
      "  date: 2022-01-02_21-14-34\n",
      "  done: false\n",
      "  experiment_id: 6fe5ee93539148baa431cb0473c73e0d\n",
      "  hostname: bigpc\n",
      "  iterations_since_restore: 6\n",
      "  mean_accuracy: 0.9582\n",
      "  node_ip: 127.0.0.1\n",
      "  pid: 22708\n",
      "  time_since_restore: 85.88369536399841\n",
      "  time_this_iter_s: 12.864597082138062\n",
      "  time_total_s: 85.88369536399841\n",
      "  timestamp: 1641129274\n",
      "  timesteps_since_restore: 0\n",
      "  training_iteration: 6\n",
      "  trial_id: 632aa_00001\n",
      "  \n"
     ]
    },
    {
     "data": {
      "text/html": [
       "== Status ==<br>Current time: 2022-01-02 21:14:39 (running for 00:03:57.23)<br>Memory usage on this node: 10.4/15.9 GiB<br>Using FIFO scheduling algorithm.<br>Resources requested: 1.0/6 CPUs, 1.0/1 GPUs, 0.0/5.36 GiB heap, 0.0/2.68 GiB objects<br>Result logdir: C:\\Users\\mikec\\ray_results\\train_mnist_2022-01-02_21-10-41<br>Number of trials: 3/3 (1 PENDING, 1 RUNNING, 1 TERMINATED)<br><table>\n",
       "<thead>\n",
       "<tr><th>Trial name             </th><th>status    </th><th>loc            </th><th style=\"text-align: right;\">  lr</th><th style=\"text-align: right;\">  momentum</th><th style=\"text-align: right;\">   acc</th><th style=\"text-align: right;\">  iter</th><th style=\"text-align: right;\">  total time (s)</th></tr>\n",
       "</thead>\n",
       "<tbody>\n",
       "<tr><td>train_mnist_632aa_00001</td><td>RUNNING   </td><td>127.0.0.1:22708</td><td style=\"text-align: right;\">0.1 </td><td style=\"text-align: right;\">  0.409923</td><td style=\"text-align: right;\">0.9582</td><td style=\"text-align: right;\">     6</td><td style=\"text-align: right;\">         85.8837</td></tr>\n",
       "<tr><td>train_mnist_632aa_00002</td><td>PENDING   </td><td>               </td><td style=\"text-align: right;\">0.5 </td><td style=\"text-align: right;\">  0.651037</td><td style=\"text-align: right;\">      </td><td style=\"text-align: right;\">      </td><td style=\"text-align: right;\">                </td></tr>\n",
       "<tr><td>train_mnist_632aa_00000</td><td>TERMINATED</td><td>127.0.0.1:21828</td><td style=\"text-align: right;\">0.01</td><td style=\"text-align: right;\">  0.620798</td><td style=\"text-align: right;\">0.9644</td><td style=\"text-align: right;\">    10</td><td style=\"text-align: right;\">        142.228 </td></tr>\n",
       "</tbody>\n",
       "</table><br><br>"
      ],
      "text/plain": [
       "<IPython.core.display.HTML object>"
      ]
     },
     "metadata": {},
     "output_type": "display_data"
    },
    {
     "data": {
      "text/html": [
       "== Status ==<br>Current time: 2022-01-02 21:14:44 (running for 00:04:02.30)<br>Memory usage on this node: 10.4/15.9 GiB<br>Using FIFO scheduling algorithm.<br>Resources requested: 1.0/6 CPUs, 1.0/1 GPUs, 0.0/5.36 GiB heap, 0.0/2.68 GiB objects<br>Result logdir: C:\\Users\\mikec\\ray_results\\train_mnist_2022-01-02_21-10-41<br>Number of trials: 3/3 (1 PENDING, 1 RUNNING, 1 TERMINATED)<br><table>\n",
       "<thead>\n",
       "<tr><th>Trial name             </th><th>status    </th><th>loc            </th><th style=\"text-align: right;\">  lr</th><th style=\"text-align: right;\">  momentum</th><th style=\"text-align: right;\">   acc</th><th style=\"text-align: right;\">  iter</th><th style=\"text-align: right;\">  total time (s)</th></tr>\n",
       "</thead>\n",
       "<tbody>\n",
       "<tr><td>train_mnist_632aa_00001</td><td>RUNNING   </td><td>127.0.0.1:22708</td><td style=\"text-align: right;\">0.1 </td><td style=\"text-align: right;\">  0.409923</td><td style=\"text-align: right;\">0.9582</td><td style=\"text-align: right;\">     6</td><td style=\"text-align: right;\">         85.8837</td></tr>\n",
       "<tr><td>train_mnist_632aa_00002</td><td>PENDING   </td><td>               </td><td style=\"text-align: right;\">0.5 </td><td style=\"text-align: right;\">  0.651037</td><td style=\"text-align: right;\">      </td><td style=\"text-align: right;\">      </td><td style=\"text-align: right;\">                </td></tr>\n",
       "<tr><td>train_mnist_632aa_00000</td><td>TERMINATED</td><td>127.0.0.1:21828</td><td style=\"text-align: right;\">0.01</td><td style=\"text-align: right;\">  0.620798</td><td style=\"text-align: right;\">0.9644</td><td style=\"text-align: right;\">    10</td><td style=\"text-align: right;\">        142.228 </td></tr>\n",
       "</tbody>\n",
       "</table><br><br>"
      ],
      "text/plain": [
       "<IPython.core.display.HTML object>"
      ]
     },
     "metadata": {},
     "output_type": "display_data"
    },
    {
     "name": "stdout",
     "output_type": "stream",
     "text": [
      "Result for train_mnist_632aa_00001:\n",
      "  date: 2022-01-02_21-14-47\n",
      "  done: false\n",
      "  experiment_id: 6fe5ee93539148baa431cb0473c73e0d\n",
      "  hostname: bigpc\n",
      "  iterations_since_restore: 7\n",
      "  mean_accuracy: 0.9639\n",
      "  node_ip: 127.0.0.1\n",
      "  pid: 22708\n",
      "  time_since_restore: 98.80618381500244\n",
      "  time_this_iter_s: 12.922488451004028\n",
      "  time_total_s: 98.80618381500244\n",
      "  timestamp: 1641129287\n",
      "  timesteps_since_restore: 0\n",
      "  training_iteration: 7\n",
      "  trial_id: 632aa_00001\n",
      "  \n"
     ]
    },
    {
     "data": {
      "text/html": [
       "== Status ==<br>Current time: 2022-01-02 21:14:49 (running for 00:04:08.14)<br>Memory usage on this node: 10.4/15.9 GiB<br>Using FIFO scheduling algorithm.<br>Resources requested: 1.0/6 CPUs, 1.0/1 GPUs, 0.0/5.36 GiB heap, 0.0/2.68 GiB objects<br>Result logdir: C:\\Users\\mikec\\ray_results\\train_mnist_2022-01-02_21-10-41<br>Number of trials: 3/3 (1 PENDING, 1 RUNNING, 1 TERMINATED)<br><table>\n",
       "<thead>\n",
       "<tr><th>Trial name             </th><th>status    </th><th>loc            </th><th style=\"text-align: right;\">  lr</th><th style=\"text-align: right;\">  momentum</th><th style=\"text-align: right;\">   acc</th><th style=\"text-align: right;\">  iter</th><th style=\"text-align: right;\">  total time (s)</th></tr>\n",
       "</thead>\n",
       "<tbody>\n",
       "<tr><td>train_mnist_632aa_00001</td><td>RUNNING   </td><td>127.0.0.1:22708</td><td style=\"text-align: right;\">0.1 </td><td style=\"text-align: right;\">  0.409923</td><td style=\"text-align: right;\">0.9639</td><td style=\"text-align: right;\">     7</td><td style=\"text-align: right;\">         98.8062</td></tr>\n",
       "<tr><td>train_mnist_632aa_00002</td><td>PENDING   </td><td>               </td><td style=\"text-align: right;\">0.5 </td><td style=\"text-align: right;\">  0.651037</td><td style=\"text-align: right;\">      </td><td style=\"text-align: right;\">      </td><td style=\"text-align: right;\">                </td></tr>\n",
       "<tr><td>train_mnist_632aa_00000</td><td>TERMINATED</td><td>127.0.0.1:21828</td><td style=\"text-align: right;\">0.01</td><td style=\"text-align: right;\">  0.620798</td><td style=\"text-align: right;\">0.9644</td><td style=\"text-align: right;\">    10</td><td style=\"text-align: right;\">        142.228 </td></tr>\n",
       "</tbody>\n",
       "</table><br><br>"
      ],
      "text/plain": [
       "<IPython.core.display.HTML object>"
      ]
     },
     "metadata": {},
     "output_type": "display_data"
    },
    {
     "data": {
      "text/html": [
       "== Status ==<br>Current time: 2022-01-02 21:14:54 (running for 00:04:13.20)<br>Memory usage on this node: 10.4/15.9 GiB<br>Using FIFO scheduling algorithm.<br>Resources requested: 1.0/6 CPUs, 1.0/1 GPUs, 0.0/5.36 GiB heap, 0.0/2.68 GiB objects<br>Result logdir: C:\\Users\\mikec\\ray_results\\train_mnist_2022-01-02_21-10-41<br>Number of trials: 3/3 (1 PENDING, 1 RUNNING, 1 TERMINATED)<br><table>\n",
       "<thead>\n",
       "<tr><th>Trial name             </th><th>status    </th><th>loc            </th><th style=\"text-align: right;\">  lr</th><th style=\"text-align: right;\">  momentum</th><th style=\"text-align: right;\">   acc</th><th style=\"text-align: right;\">  iter</th><th style=\"text-align: right;\">  total time (s)</th></tr>\n",
       "</thead>\n",
       "<tbody>\n",
       "<tr><td>train_mnist_632aa_00001</td><td>RUNNING   </td><td>127.0.0.1:22708</td><td style=\"text-align: right;\">0.1 </td><td style=\"text-align: right;\">  0.409923</td><td style=\"text-align: right;\">0.9639</td><td style=\"text-align: right;\">     7</td><td style=\"text-align: right;\">         98.8062</td></tr>\n",
       "<tr><td>train_mnist_632aa_00002</td><td>PENDING   </td><td>               </td><td style=\"text-align: right;\">0.5 </td><td style=\"text-align: right;\">  0.651037</td><td style=\"text-align: right;\">      </td><td style=\"text-align: right;\">      </td><td style=\"text-align: right;\">                </td></tr>\n",
       "<tr><td>train_mnist_632aa_00000</td><td>TERMINATED</td><td>127.0.0.1:21828</td><td style=\"text-align: right;\">0.01</td><td style=\"text-align: right;\">  0.620798</td><td style=\"text-align: right;\">0.9644</td><td style=\"text-align: right;\">    10</td><td style=\"text-align: right;\">        142.228 </td></tr>\n",
       "</tbody>\n",
       "</table><br><br>"
      ],
      "text/plain": [
       "<IPython.core.display.HTML object>"
      ]
     },
     "metadata": {},
     "output_type": "display_data"
    },
    {
     "data": {
      "text/html": [
       "== Status ==<br>Current time: 2022-01-02 21:15:00 (running for 00:04:18.28)<br>Memory usage on this node: 10.4/15.9 GiB<br>Using FIFO scheduling algorithm.<br>Resources requested: 1.0/6 CPUs, 1.0/1 GPUs, 0.0/5.36 GiB heap, 0.0/2.68 GiB objects<br>Result logdir: C:\\Users\\mikec\\ray_results\\train_mnist_2022-01-02_21-10-41<br>Number of trials: 3/3 (1 PENDING, 1 RUNNING, 1 TERMINATED)<br><table>\n",
       "<thead>\n",
       "<tr><th>Trial name             </th><th>status    </th><th>loc            </th><th style=\"text-align: right;\">  lr</th><th style=\"text-align: right;\">  momentum</th><th style=\"text-align: right;\">   acc</th><th style=\"text-align: right;\">  iter</th><th style=\"text-align: right;\">  total time (s)</th></tr>\n",
       "</thead>\n",
       "<tbody>\n",
       "<tr><td>train_mnist_632aa_00001</td><td>RUNNING   </td><td>127.0.0.1:22708</td><td style=\"text-align: right;\">0.1 </td><td style=\"text-align: right;\">  0.409923</td><td style=\"text-align: right;\">0.9639</td><td style=\"text-align: right;\">     7</td><td style=\"text-align: right;\">         98.8062</td></tr>\n",
       "<tr><td>train_mnist_632aa_00002</td><td>PENDING   </td><td>               </td><td style=\"text-align: right;\">0.5 </td><td style=\"text-align: right;\">  0.651037</td><td style=\"text-align: right;\">      </td><td style=\"text-align: right;\">      </td><td style=\"text-align: right;\">                </td></tr>\n",
       "<tr><td>train_mnist_632aa_00000</td><td>TERMINATED</td><td>127.0.0.1:21828</td><td style=\"text-align: right;\">0.01</td><td style=\"text-align: right;\">  0.620798</td><td style=\"text-align: right;\">0.9644</td><td style=\"text-align: right;\">    10</td><td style=\"text-align: right;\">        142.228 </td></tr>\n",
       "</tbody>\n",
       "</table><br><br>"
      ],
      "text/plain": [
       "<IPython.core.display.HTML object>"
      ]
     },
     "metadata": {},
     "output_type": "display_data"
    },
    {
     "name": "stdout",
     "output_type": "stream",
     "text": [
      "Result for train_mnist_632aa_00001:\n",
      "  date: 2022-01-02_21-15-00\n",
      "  done: false\n",
      "  experiment_id: 6fe5ee93539148baa431cb0473c73e0d\n",
      "  hostname: bigpc\n",
      "  iterations_since_restore: 8\n",
      "  mean_accuracy: 0.9595\n",
      "  node_ip: 127.0.0.1\n",
      "  pid: 22708\n",
      "  time_since_restore: 111.70902132987976\n",
      "  time_this_iter_s: 12.90283751487732\n",
      "  time_total_s: 111.70902132987976\n",
      "  timestamp: 1641129300\n",
      "  timesteps_since_restore: 0\n",
      "  training_iteration: 8\n",
      "  trial_id: 632aa_00001\n",
      "  \n"
     ]
    },
    {
     "data": {
      "text/html": [
       "== Status ==<br>Current time: 2022-01-02 21:15:05 (running for 00:04:24.08)<br>Memory usage on this node: 10.4/15.9 GiB<br>Using FIFO scheduling algorithm.<br>Resources requested: 1.0/6 CPUs, 1.0/1 GPUs, 0.0/5.36 GiB heap, 0.0/2.68 GiB objects<br>Result logdir: C:\\Users\\mikec\\ray_results\\train_mnist_2022-01-02_21-10-41<br>Number of trials: 3/3 (1 PENDING, 1 RUNNING, 1 TERMINATED)<br><table>\n",
       "<thead>\n",
       "<tr><th>Trial name             </th><th>status    </th><th>loc            </th><th style=\"text-align: right;\">  lr</th><th style=\"text-align: right;\">  momentum</th><th style=\"text-align: right;\">   acc</th><th style=\"text-align: right;\">  iter</th><th style=\"text-align: right;\">  total time (s)</th></tr>\n",
       "</thead>\n",
       "<tbody>\n",
       "<tr><td>train_mnist_632aa_00001</td><td>RUNNING   </td><td>127.0.0.1:22708</td><td style=\"text-align: right;\">0.1 </td><td style=\"text-align: right;\">  0.409923</td><td style=\"text-align: right;\">0.9595</td><td style=\"text-align: right;\">     8</td><td style=\"text-align: right;\">         111.709</td></tr>\n",
       "<tr><td>train_mnist_632aa_00002</td><td>PENDING   </td><td>               </td><td style=\"text-align: right;\">0.5 </td><td style=\"text-align: right;\">  0.651037</td><td style=\"text-align: right;\">      </td><td style=\"text-align: right;\">      </td><td style=\"text-align: right;\">                </td></tr>\n",
       "<tr><td>train_mnist_632aa_00000</td><td>TERMINATED</td><td>127.0.0.1:21828</td><td style=\"text-align: right;\">0.01</td><td style=\"text-align: right;\">  0.620798</td><td style=\"text-align: right;\">0.9644</td><td style=\"text-align: right;\">    10</td><td style=\"text-align: right;\">         142.228</td></tr>\n",
       "</tbody>\n",
       "</table><br><br>"
      ],
      "text/plain": [
       "<IPython.core.display.HTML object>"
      ]
     },
     "metadata": {},
     "output_type": "display_data"
    },
    {
     "data": {
      "text/html": [
       "== Status ==<br>Current time: 2022-01-02 21:15:10 (running for 00:04:29.11)<br>Memory usage on this node: 10.4/15.9 GiB<br>Using FIFO scheduling algorithm.<br>Resources requested: 1.0/6 CPUs, 1.0/1 GPUs, 0.0/5.36 GiB heap, 0.0/2.68 GiB objects<br>Result logdir: C:\\Users\\mikec\\ray_results\\train_mnist_2022-01-02_21-10-41<br>Number of trials: 3/3 (1 PENDING, 1 RUNNING, 1 TERMINATED)<br><table>\n",
       "<thead>\n",
       "<tr><th>Trial name             </th><th>status    </th><th>loc            </th><th style=\"text-align: right;\">  lr</th><th style=\"text-align: right;\">  momentum</th><th style=\"text-align: right;\">   acc</th><th style=\"text-align: right;\">  iter</th><th style=\"text-align: right;\">  total time (s)</th></tr>\n",
       "</thead>\n",
       "<tbody>\n",
       "<tr><td>train_mnist_632aa_00001</td><td>RUNNING   </td><td>127.0.0.1:22708</td><td style=\"text-align: right;\">0.1 </td><td style=\"text-align: right;\">  0.409923</td><td style=\"text-align: right;\">0.9595</td><td style=\"text-align: right;\">     8</td><td style=\"text-align: right;\">         111.709</td></tr>\n",
       "<tr><td>train_mnist_632aa_00002</td><td>PENDING   </td><td>               </td><td style=\"text-align: right;\">0.5 </td><td style=\"text-align: right;\">  0.651037</td><td style=\"text-align: right;\">      </td><td style=\"text-align: right;\">      </td><td style=\"text-align: right;\">                </td></tr>\n",
       "<tr><td>train_mnist_632aa_00000</td><td>TERMINATED</td><td>127.0.0.1:21828</td><td style=\"text-align: right;\">0.01</td><td style=\"text-align: right;\">  0.620798</td><td style=\"text-align: right;\">0.9644</td><td style=\"text-align: right;\">    10</td><td style=\"text-align: right;\">         142.228</td></tr>\n",
       "</tbody>\n",
       "</table><br><br>"
      ],
      "text/plain": [
       "<IPython.core.display.HTML object>"
      ]
     },
     "metadata": {},
     "output_type": "display_data"
    },
    {
     "name": "stdout",
     "output_type": "stream",
     "text": [
      "Result for train_mnist_632aa_00001:\n",
      "  date: 2022-01-02_21-15-13\n",
      "  done: false\n",
      "  experiment_id: 6fe5ee93539148baa431cb0473c73e0d\n",
      "  hostname: bigpc\n",
      "  iterations_since_restore: 9\n",
      "  mean_accuracy: 0.9629\n",
      "  node_ip: 127.0.0.1\n",
      "  pid: 22708\n",
      "  time_since_restore: 124.65132164955139\n",
      "  time_this_iter_s: 12.94230031967163\n",
      "  time_total_s: 124.65132164955139\n",
      "  timestamp: 1641129313\n",
      "  timesteps_since_restore: 0\n",
      "  training_iteration: 9\n",
      "  trial_id: 632aa_00001\n",
      "  \n"
     ]
    },
    {
     "data": {
      "text/html": [
       "== Status ==<br>Current time: 2022-01-02 21:15:16 (running for 00:04:34.99)<br>Memory usage on this node: 10.4/15.9 GiB<br>Using FIFO scheduling algorithm.<br>Resources requested: 1.0/6 CPUs, 1.0/1 GPUs, 0.0/5.36 GiB heap, 0.0/2.68 GiB objects<br>Result logdir: C:\\Users\\mikec\\ray_results\\train_mnist_2022-01-02_21-10-41<br>Number of trials: 3/3 (1 PENDING, 1 RUNNING, 1 TERMINATED)<br><table>\n",
       "<thead>\n",
       "<tr><th>Trial name             </th><th>status    </th><th>loc            </th><th style=\"text-align: right;\">  lr</th><th style=\"text-align: right;\">  momentum</th><th style=\"text-align: right;\">   acc</th><th style=\"text-align: right;\">  iter</th><th style=\"text-align: right;\">  total time (s)</th></tr>\n",
       "</thead>\n",
       "<tbody>\n",
       "<tr><td>train_mnist_632aa_00001</td><td>RUNNING   </td><td>127.0.0.1:22708</td><td style=\"text-align: right;\">0.1 </td><td style=\"text-align: right;\">  0.409923</td><td style=\"text-align: right;\">0.9629</td><td style=\"text-align: right;\">     9</td><td style=\"text-align: right;\">         124.651</td></tr>\n",
       "<tr><td>train_mnist_632aa_00002</td><td>PENDING   </td><td>               </td><td style=\"text-align: right;\">0.5 </td><td style=\"text-align: right;\">  0.651037</td><td style=\"text-align: right;\">      </td><td style=\"text-align: right;\">      </td><td style=\"text-align: right;\">                </td></tr>\n",
       "<tr><td>train_mnist_632aa_00000</td><td>TERMINATED</td><td>127.0.0.1:21828</td><td style=\"text-align: right;\">0.01</td><td style=\"text-align: right;\">  0.620798</td><td style=\"text-align: right;\">0.9644</td><td style=\"text-align: right;\">    10</td><td style=\"text-align: right;\">         142.228</td></tr>\n",
       "</tbody>\n",
       "</table><br><br>"
      ],
      "text/plain": [
       "<IPython.core.display.HTML object>"
      ]
     },
     "metadata": {},
     "output_type": "display_data"
    },
    {
     "data": {
      "text/html": [
       "== Status ==<br>Current time: 2022-01-02 21:15:21 (running for 00:04:40.04)<br>Memory usage on this node: 10.4/15.9 GiB<br>Using FIFO scheduling algorithm.<br>Resources requested: 1.0/6 CPUs, 1.0/1 GPUs, 0.0/5.36 GiB heap, 0.0/2.68 GiB objects<br>Result logdir: C:\\Users\\mikec\\ray_results\\train_mnist_2022-01-02_21-10-41<br>Number of trials: 3/3 (1 PENDING, 1 RUNNING, 1 TERMINATED)<br><table>\n",
       "<thead>\n",
       "<tr><th>Trial name             </th><th>status    </th><th>loc            </th><th style=\"text-align: right;\">  lr</th><th style=\"text-align: right;\">  momentum</th><th style=\"text-align: right;\">   acc</th><th style=\"text-align: right;\">  iter</th><th style=\"text-align: right;\">  total time (s)</th></tr>\n",
       "</thead>\n",
       "<tbody>\n",
       "<tr><td>train_mnist_632aa_00001</td><td>RUNNING   </td><td>127.0.0.1:22708</td><td style=\"text-align: right;\">0.1 </td><td style=\"text-align: right;\">  0.409923</td><td style=\"text-align: right;\">0.9629</td><td style=\"text-align: right;\">     9</td><td style=\"text-align: right;\">         124.651</td></tr>\n",
       "<tr><td>train_mnist_632aa_00002</td><td>PENDING   </td><td>               </td><td style=\"text-align: right;\">0.5 </td><td style=\"text-align: right;\">  0.651037</td><td style=\"text-align: right;\">      </td><td style=\"text-align: right;\">      </td><td style=\"text-align: right;\">                </td></tr>\n",
       "<tr><td>train_mnist_632aa_00000</td><td>TERMINATED</td><td>127.0.0.1:21828</td><td style=\"text-align: right;\">0.01</td><td style=\"text-align: right;\">  0.620798</td><td style=\"text-align: right;\">0.9644</td><td style=\"text-align: right;\">    10</td><td style=\"text-align: right;\">         142.228</td></tr>\n",
       "</tbody>\n",
       "</table><br><br>"
      ],
      "text/plain": [
       "<IPython.core.display.HTML object>"
      ]
     },
     "metadata": {},
     "output_type": "display_data"
    },
    {
     "name": "stdout",
     "output_type": "stream",
     "text": [
      "Result for train_mnist_632aa_00001:\n",
      "  date: 2022-01-02_21-15-26\n",
      "  done: false\n",
      "  experiment_id: 6fe5ee93539148baa431cb0473c73e0d\n",
      "  hostname: bigpc\n",
      "  iterations_since_restore: 10\n",
      "  mean_accuracy: 0.9625\n",
      "  node_ip: 127.0.0.1\n",
      "  pid: 22708\n",
      "  time_since_restore: 137.52846765518188\n",
      "  time_this_iter_s: 12.877146005630493\n",
      "  time_total_s: 137.52846765518188\n",
      "  timestamp: 1641129326\n",
      "  timesteps_since_restore: 0\n",
      "  training_iteration: 10\n",
      "  trial_id: 632aa_00001\n",
      "  \n",
      "Result for train_mnist_632aa_00001:\n",
      "  date: 2022-01-02_21-15-26\n",
      "  done: true\n",
      "  experiment_id: 6fe5ee93539148baa431cb0473c73e0d\n",
      "  experiment_tag: 1_lr=0.1,momentum=0.40992\n",
      "  hostname: bigpc\n",
      "  iterations_since_restore: 10\n",
      "  mean_accuracy: 0.9625\n",
      "  node_ip: 127.0.0.1\n",
      "  pid: 22708\n",
      "  time_since_restore: 137.52846765518188\n",
      "  time_this_iter_s: 12.877146005630493\n",
      "  time_total_s: 137.52846765518188\n",
      "  timestamp: 1641129326\n",
      "  timesteps_since_restore: 0\n",
      "  training_iteration: 10\n",
      "  trial_id: 632aa_00001\n",
      "  \n"
     ]
    },
    {
     "data": {
      "text/html": [
       "== Status ==<br>Current time: 2022-01-02 21:15:33 (running for 00:04:51.75)<br>Memory usage on this node: 8.7/15.9 GiB<br>Using FIFO scheduling algorithm.<br>Resources requested: 1.0/6 CPUs, 1.0/1 GPUs, 0.0/5.36 GiB heap, 0.0/2.68 GiB objects<br>Result logdir: C:\\Users\\mikec\\ray_results\\train_mnist_2022-01-02_21-10-41<br>Number of trials: 3/3 (1 RUNNING, 2 TERMINATED)<br><table>\n",
       "<thead>\n",
       "<tr><th>Trial name             </th><th>status    </th><th>loc            </th><th style=\"text-align: right;\">  lr</th><th style=\"text-align: right;\">  momentum</th><th style=\"text-align: right;\">   acc</th><th style=\"text-align: right;\">  iter</th><th style=\"text-align: right;\">  total time (s)</th></tr>\n",
       "</thead>\n",
       "<tbody>\n",
       "<tr><td>train_mnist_632aa_00002</td><td>RUNNING   </td><td>127.0.0.1:21072</td><td style=\"text-align: right;\">0.5 </td><td style=\"text-align: right;\">  0.651037</td><td style=\"text-align: right;\">      </td><td style=\"text-align: right;\">      </td><td style=\"text-align: right;\">                </td></tr>\n",
       "<tr><td>train_mnist_632aa_00000</td><td>TERMINATED</td><td>127.0.0.1:21828</td><td style=\"text-align: right;\">0.01</td><td style=\"text-align: right;\">  0.620798</td><td style=\"text-align: right;\">0.9644</td><td style=\"text-align: right;\">    10</td><td style=\"text-align: right;\">         142.228</td></tr>\n",
       "<tr><td>train_mnist_632aa_00001</td><td>TERMINATED</td><td>127.0.0.1:22708</td><td style=\"text-align: right;\">0.1 </td><td style=\"text-align: right;\">  0.409923</td><td style=\"text-align: right;\">0.9625</td><td style=\"text-align: right;\">    10</td><td style=\"text-align: right;\">         137.528</td></tr>\n",
       "</tbody>\n",
       "</table><br><br>"
      ],
      "text/plain": [
       "<IPython.core.display.HTML object>"
      ]
     },
     "metadata": {},
     "output_type": "display_data"
    },
    {
     "name": "stdout",
     "output_type": "stream",
     "text": [
      " pid=21072)\u001b[0m Downloading http://yann.lecun.com/exdb/mnist/train-images-idx3-ubyte.gz\n",
      " pid=21072)\u001b[0m Downloading http://yann.lecun.com/exdb/mnist/train-images-idx3-ubyte.gz to MNIST\\raw\\train-images-idx3-ubyte.gz\n"
     ]
    },
    {
     "name": "stderr",
     "output_type": "stream",
     "text": [
      "  0%|          | 0/9912422 [00:00<?, ?it/s]\n",
      "  1%|▏         | 131072/9912422 [00:00<00:14, 665692.08it/s]\n"
     ]
    },
    {
     "data": {
      "text/html": [
       "== Status ==<br>Current time: 2022-01-02 21:15:34 (running for 00:04:52.79)<br>Memory usage on this node: 8.8/15.9 GiB<br>Using FIFO scheduling algorithm.<br>Resources requested: 1.0/6 CPUs, 1.0/1 GPUs, 0.0/5.36 GiB heap, 0.0/2.68 GiB objects<br>Result logdir: C:\\Users\\mikec\\ray_results\\train_mnist_2022-01-02_21-10-41<br>Number of trials: 3/3 (1 RUNNING, 2 TERMINATED)<br><table>\n",
       "<thead>\n",
       "<tr><th>Trial name             </th><th>status    </th><th>loc            </th><th style=\"text-align: right;\">  lr</th><th style=\"text-align: right;\">  momentum</th><th style=\"text-align: right;\">   acc</th><th style=\"text-align: right;\">  iter</th><th style=\"text-align: right;\">  total time (s)</th></tr>\n",
       "</thead>\n",
       "<tbody>\n",
       "<tr><td>train_mnist_632aa_00002</td><td>RUNNING   </td><td>127.0.0.1:21072</td><td style=\"text-align: right;\">0.5 </td><td style=\"text-align: right;\">  0.651037</td><td style=\"text-align: right;\">      </td><td style=\"text-align: right;\">      </td><td style=\"text-align: right;\">                </td></tr>\n",
       "<tr><td>train_mnist_632aa_00000</td><td>TERMINATED</td><td>127.0.0.1:21828</td><td style=\"text-align: right;\">0.01</td><td style=\"text-align: right;\">  0.620798</td><td style=\"text-align: right;\">0.9644</td><td style=\"text-align: right;\">    10</td><td style=\"text-align: right;\">         142.228</td></tr>\n",
       "<tr><td>train_mnist_632aa_00001</td><td>TERMINATED</td><td>127.0.0.1:22708</td><td style=\"text-align: right;\">0.1 </td><td style=\"text-align: right;\">  0.409923</td><td style=\"text-align: right;\">0.9625</td><td style=\"text-align: right;\">    10</td><td style=\"text-align: right;\">         137.528</td></tr>\n",
       "</tbody>\n",
       "</table><br><br>"
      ],
      "text/plain": [
       "<IPython.core.display.HTML object>"
      ]
     },
     "metadata": {},
     "output_type": "display_data"
    },
    {
     "name": "stderr",
     "output_type": "stream",
     "text": [
      "  3%|▎         | 263168/9912422 [00:00<00:14, 645308.54it/s]\n",
      "  5%|▍         | 482304/9912422 [00:00<00:11, 833381.57it/s]\n",
      "  9%|▉         | 924672/9912422 [00:00<00:05, 1696245.64it/s]\n",
      " 12%|█▏        | 1149952/9912422 [00:00<00:05, 1637641.60it/s]\n",
      " 16%|█▌        | 1589248/9912422 [00:01<00:04, 2003466.98it/s]\n",
      " 23%|██▎       | 2279424/9912422 [00:01<00:02, 3142093.17it/s]\n",
      " 27%|██▋       | 2654208/9912422 [00:01<00:02, 3241964.30it/s]\n",
      " 37%|███▋      | 3622912/9912422 [00:01<00:01, 4916015.67it/s]\n",
      " 44%|████▍     | 4402176/9912422 [00:01<00:00, 5549528.06it/s]\n",
      " 51%|█████     | 5060608/9912422 [00:01<00:01, 3885790.36it/s]\n",
      " 56%|█████▌    | 5551104/9912422 [00:01<00:01, 3251490.83it/s]\n",
      " 60%|██████    | 5958656/9912422 [00:02<00:01, 2637385.99it/s]\n",
      " 64%|██████▍   | 6385664/9912422 [00:02<00:01, 2549674.03it/s]\n",
      "9913344it [00:02, 3485941.52it/s]                             \n"
     ]
    },
    {
     "name": "stdout",
     "output_type": "stream",
     "text": [
      " pid=21072)\u001b[0m Extracting MNIST\\raw\\train-images-idx3-ubyte.gz to MNIST\\raw\n",
      " pid=21072)\u001b[0m itFunc\n",
      " pid=21072)\u001b[0m Downloading http://yann.lecun.com/exdb/mnist/train-labels-idx1-ubyte.gz\n",
      " pid=21072)\u001b[0m Downloading http://yann.lecun.com/exdb/mnist/train-labels-idx1-ubyte.gz to MNIST\\raw\\train-labels-idx1-ubyte.gz\n"
     ]
    },
    {
     "name": "stderr",
     "output_type": "stream",
     "text": [
      "\u001b[2m\u001b[36m(ImplicitFunc\r",
      " pid=21072)\u001b[0m \r",
      "  0%|          | 0/28881 [00:00<?, ?it/s]\r",
      "29696it [00:00, 30610482.08it/s]         \r\n"
     ]
    },
    {
     "name": "stdout",
     "output_type": "stream",
     "text": [
      " pid=21072)\u001b[0m Extracting MNIST\\raw\\train-labels-idx1-ubyte.gz to MNIST\\raw\n",
      " pid=21072)\u001b[0m itFunc\n",
      " pid=21072)\u001b[0m Downloading http://yann.lecun.com/exdb/mnist/t10k-images-idx3-ubyte.gz\n",
      " pid=21072)\u001b[0m Downloading http://yann.lecun.com/exdb/mnist/t10k-images-idx3-ubyte.gz to MNIST\\raw\\t10k-images-idx3-ubyte.gz\n"
     ]
    },
    {
     "name": "stderr",
     "output_type": "stream",
     "text": [
      "  0%|          | 0/1648877 [00:00<?, ?it/s]\n",
      "  8%|▊         | 131072/1648877 [00:00<00:01, 996654.85it/s]\n",
      " 16%|█▌        | 263168/1648877 [00:00<00:01, 987695.00it/s]\n",
      " 28%|██▊       | 467968/1648877 [00:00<00:00, 1230836.58it/s]\n",
      " 59%|█████▊    | 966656/1648877 [00:00<00:00, 2198591.64it/s]\n"
     ]
    },
    {
     "name": "stdout",
     "output_type": "stream",
     "text": [
      "\u001b[2m\u001b[36m(ImplicitFunc\r",
      " pid=21072)\u001b[0m Extracting MNIST\\raw\\t10k-images-idx3-ubyte.gz to MNIST\\raw\r\n",
      "\u001b[2m\u001b[36m(ImplicitFunc\r",
      " pid=21072)\u001b[0m \r\n",
      "\u001b[2m\u001b[36m(ImplicitFunc\r",
      " pid=21072)\u001b[0m Downloading http://yann.lecun.com/exdb/mnist/t10k-labels-idx1-ubyte.gz\r\n"
     ]
    },
    {
     "name": "stderr",
     "output_type": "stream",
     "text": [
      "\u001b[2m\u001b[36m(ImplicitFunc\r",
      " pid=21072)\u001b[0m \r",
      " 98%|█████████▊| 1624064/1648877 [00:00<00:00, 3479463.79it/s]\r",
      "1649664it [00:00, 2572370.23it/s]                             \r\n"
     ]
    },
    {
     "data": {
      "text/html": [
       "== Status ==<br>Current time: 2022-01-02 21:15:39 (running for 00:04:57.86)<br>Memory usage on this node: 8.8/15.9 GiB<br>Using FIFO scheduling algorithm.<br>Resources requested: 1.0/6 CPUs, 1.0/1 GPUs, 0.0/5.36 GiB heap, 0.0/2.68 GiB objects<br>Result logdir: C:\\Users\\mikec\\ray_results\\train_mnist_2022-01-02_21-10-41<br>Number of trials: 3/3 (1 RUNNING, 2 TERMINATED)<br><table>\n",
       "<thead>\n",
       "<tr><th>Trial name             </th><th>status    </th><th>loc            </th><th style=\"text-align: right;\">  lr</th><th style=\"text-align: right;\">  momentum</th><th style=\"text-align: right;\">   acc</th><th style=\"text-align: right;\">  iter</th><th style=\"text-align: right;\">  total time (s)</th></tr>\n",
       "</thead>\n",
       "<tbody>\n",
       "<tr><td>train_mnist_632aa_00002</td><td>RUNNING   </td><td>127.0.0.1:21072</td><td style=\"text-align: right;\">0.5 </td><td style=\"text-align: right;\">  0.651037</td><td style=\"text-align: right;\">      </td><td style=\"text-align: right;\">      </td><td style=\"text-align: right;\">                </td></tr>\n",
       "<tr><td>train_mnist_632aa_00000</td><td>TERMINATED</td><td>127.0.0.1:21828</td><td style=\"text-align: right;\">0.01</td><td style=\"text-align: right;\">  0.620798</td><td style=\"text-align: right;\">0.9644</td><td style=\"text-align: right;\">    10</td><td style=\"text-align: right;\">         142.228</td></tr>\n",
       "<tr><td>train_mnist_632aa_00001</td><td>TERMINATED</td><td>127.0.0.1:22708</td><td style=\"text-align: right;\">0.1 </td><td style=\"text-align: right;\">  0.409923</td><td style=\"text-align: right;\">0.9625</td><td style=\"text-align: right;\">    10</td><td style=\"text-align: right;\">         137.528</td></tr>\n",
       "</tbody>\n",
       "</table><br><br>"
      ],
      "text/plain": [
       "<IPython.core.display.HTML object>"
      ]
     },
     "metadata": {},
     "output_type": "display_data"
    },
    {
     "name": "stdout",
     "output_type": "stream",
     "text": [
      "\u001b[2m\u001b[36m(ImplicitFunc\r",
      " pid=21072)\u001b[0m Downloading http://yann.lecun.com/exdb/mnist/t10k-labels-idx1-ubyte.gz to MNIST\\raw\\t10k-labels-idx1-ubyte.gz\r\n"
     ]
    },
    {
     "name": "stderr",
     "output_type": "stream",
     "text": [
      "\u001b[2m\u001b[36m(ImplicitFunc\r",
      " pid=21072)\u001b[0m \r",
      "  0%|          | 0/4542 [00:00<?, ?it/s]\r",
      "5120it [00:00, 4967577.26it/s]          \r\n"
     ]
    },
    {
     "name": "stdout",
     "output_type": "stream",
     "text": [
      "\u001b[2m\u001b[36m(ImplicitFunc\r",
      " pid=21072)\u001b[0m Extracting MNIST\\raw\\t10k-labels-idx1-ubyte.gz to MNIST\\raw\r\n",
      "\u001b[2m\u001b[36m(ImplicitFunc\r",
      " pid=21072)\u001b[0m \r\n"
     ]
    },
    {
     "data": {
      "text/html": [
       "== Status ==<br>Current time: 2022-01-02 21:15:44 (running for 00:05:02.91)<br>Memory usage on this node: 10.4/15.9 GiB<br>Using FIFO scheduling algorithm.<br>Resources requested: 1.0/6 CPUs, 1.0/1 GPUs, 0.0/5.36 GiB heap, 0.0/2.68 GiB objects<br>Result logdir: C:\\Users\\mikec\\ray_results\\train_mnist_2022-01-02_21-10-41<br>Number of trials: 3/3 (1 RUNNING, 2 TERMINATED)<br><table>\n",
       "<thead>\n",
       "<tr><th>Trial name             </th><th>status    </th><th>loc            </th><th style=\"text-align: right;\">  lr</th><th style=\"text-align: right;\">  momentum</th><th style=\"text-align: right;\">   acc</th><th style=\"text-align: right;\">  iter</th><th style=\"text-align: right;\">  total time (s)</th></tr>\n",
       "</thead>\n",
       "<tbody>\n",
       "<tr><td>train_mnist_632aa_00002</td><td>RUNNING   </td><td>127.0.0.1:21072</td><td style=\"text-align: right;\">0.5 </td><td style=\"text-align: right;\">  0.651037</td><td style=\"text-align: right;\">      </td><td style=\"text-align: right;\">      </td><td style=\"text-align: right;\">                </td></tr>\n",
       "<tr><td>train_mnist_632aa_00000</td><td>TERMINATED</td><td>127.0.0.1:21828</td><td style=\"text-align: right;\">0.01</td><td style=\"text-align: right;\">  0.620798</td><td style=\"text-align: right;\">0.9644</td><td style=\"text-align: right;\">    10</td><td style=\"text-align: right;\">         142.228</td></tr>\n",
       "<tr><td>train_mnist_632aa_00001</td><td>TERMINATED</td><td>127.0.0.1:22708</td><td style=\"text-align: right;\">0.1 </td><td style=\"text-align: right;\">  0.409923</td><td style=\"text-align: right;\">0.9625</td><td style=\"text-align: right;\">    10</td><td style=\"text-align: right;\">         137.528</td></tr>\n",
       "</tbody>\n",
       "</table><br><br>"
      ],
      "text/plain": [
       "<IPython.core.display.HTML object>"
      ]
     },
     "metadata": {},
     "output_type": "display_data"
    },
    {
     "data": {
      "text/html": [
       "== Status ==<br>Current time: 2022-01-02 21:15:49 (running for 00:05:07.94)<br>Memory usage on this node: 10.4/15.9 GiB<br>Using FIFO scheduling algorithm.<br>Resources requested: 1.0/6 CPUs, 1.0/1 GPUs, 0.0/5.36 GiB heap, 0.0/2.68 GiB objects<br>Result logdir: C:\\Users\\mikec\\ray_results\\train_mnist_2022-01-02_21-10-41<br>Number of trials: 3/3 (1 RUNNING, 2 TERMINATED)<br><table>\n",
       "<thead>\n",
       "<tr><th>Trial name             </th><th>status    </th><th>loc            </th><th style=\"text-align: right;\">  lr</th><th style=\"text-align: right;\">  momentum</th><th style=\"text-align: right;\">   acc</th><th style=\"text-align: right;\">  iter</th><th style=\"text-align: right;\">  total time (s)</th></tr>\n",
       "</thead>\n",
       "<tbody>\n",
       "<tr><td>train_mnist_632aa_00002</td><td>RUNNING   </td><td>127.0.0.1:21072</td><td style=\"text-align: right;\">0.5 </td><td style=\"text-align: right;\">  0.651037</td><td style=\"text-align: right;\">      </td><td style=\"text-align: right;\">      </td><td style=\"text-align: right;\">                </td></tr>\n",
       "<tr><td>train_mnist_632aa_00000</td><td>TERMINATED</td><td>127.0.0.1:21828</td><td style=\"text-align: right;\">0.01</td><td style=\"text-align: right;\">  0.620798</td><td style=\"text-align: right;\">0.9644</td><td style=\"text-align: right;\">    10</td><td style=\"text-align: right;\">         142.228</td></tr>\n",
       "<tr><td>train_mnist_632aa_00001</td><td>TERMINATED</td><td>127.0.0.1:22708</td><td style=\"text-align: right;\">0.1 </td><td style=\"text-align: right;\">  0.409923</td><td style=\"text-align: right;\">0.9625</td><td style=\"text-align: right;\">    10</td><td style=\"text-align: right;\">         137.528</td></tr>\n",
       "</tbody>\n",
       "</table><br><br>"
      ],
      "text/plain": [
       "<IPython.core.display.HTML object>"
      ]
     },
     "metadata": {},
     "output_type": "display_data"
    },
    {
     "data": {
      "text/html": [
       "== Status ==<br>Current time: 2022-01-02 21:15:54 (running for 00:05:12.98)<br>Memory usage on this node: 10.4/15.9 GiB<br>Using FIFO scheduling algorithm.<br>Resources requested: 1.0/6 CPUs, 1.0/1 GPUs, 0.0/5.36 GiB heap, 0.0/2.68 GiB objects<br>Result logdir: C:\\Users\\mikec\\ray_results\\train_mnist_2022-01-02_21-10-41<br>Number of trials: 3/3 (1 RUNNING, 2 TERMINATED)<br><table>\n",
       "<thead>\n",
       "<tr><th>Trial name             </th><th>status    </th><th>loc            </th><th style=\"text-align: right;\">  lr</th><th style=\"text-align: right;\">  momentum</th><th style=\"text-align: right;\">   acc</th><th style=\"text-align: right;\">  iter</th><th style=\"text-align: right;\">  total time (s)</th></tr>\n",
       "</thead>\n",
       "<tbody>\n",
       "<tr><td>train_mnist_632aa_00002</td><td>RUNNING   </td><td>127.0.0.1:21072</td><td style=\"text-align: right;\">0.5 </td><td style=\"text-align: right;\">  0.651037</td><td style=\"text-align: right;\">      </td><td style=\"text-align: right;\">      </td><td style=\"text-align: right;\">                </td></tr>\n",
       "<tr><td>train_mnist_632aa_00000</td><td>TERMINATED</td><td>127.0.0.1:21828</td><td style=\"text-align: right;\">0.01</td><td style=\"text-align: right;\">  0.620798</td><td style=\"text-align: right;\">0.9644</td><td style=\"text-align: right;\">    10</td><td style=\"text-align: right;\">         142.228</td></tr>\n",
       "<tr><td>train_mnist_632aa_00001</td><td>TERMINATED</td><td>127.0.0.1:22708</td><td style=\"text-align: right;\">0.1 </td><td style=\"text-align: right;\">  0.409923</td><td style=\"text-align: right;\">0.9625</td><td style=\"text-align: right;\">    10</td><td style=\"text-align: right;\">         137.528</td></tr>\n",
       "</tbody>\n",
       "</table><br><br>"
      ],
      "text/plain": [
       "<IPython.core.display.HTML object>"
      ]
     },
     "metadata": {},
     "output_type": "display_data"
    },
    {
     "name": "stdout",
     "output_type": "stream",
     "text": [
      "Result for train_mnist_632aa_00002:\n",
      "  date: 2022-01-02_21-15-55\n",
      "  done: false\n",
      "  experiment_id: 8705d0f4763f47c1be798a6faf64cc65\n",
      "  hostname: bigpc\n",
      "  iterations_since_restore: 1\n",
      "  mean_accuracy: 0.0974\n",
      "  node_ip: 127.0.0.1\n",
      "  pid: 21072\n",
      "  time_since_restore: 22.098782539367676\n",
      "  time_this_iter_s: 22.098782539367676\n",
      "  time_total_s: 22.098782539367676\n",
      "  timestamp: 1641129355\n",
      "  timesteps_since_restore: 0\n",
      "  training_iteration: 1\n",
      "  trial_id: 632aa_00002\n",
      "  \n"
     ]
    },
    {
     "data": {
      "text/html": [
       "== Status ==<br>Current time: 2022-01-02 21:16:00 (running for 00:05:18.90)<br>Memory usage on this node: 10.4/15.9 GiB<br>Using FIFO scheduling algorithm.<br>Resources requested: 1.0/6 CPUs, 1.0/1 GPUs, 0.0/5.36 GiB heap, 0.0/2.68 GiB objects<br>Result logdir: C:\\Users\\mikec\\ray_results\\train_mnist_2022-01-02_21-10-41<br>Number of trials: 3/3 (1 RUNNING, 2 TERMINATED)<br><table>\n",
       "<thead>\n",
       "<tr><th>Trial name             </th><th>status    </th><th>loc            </th><th style=\"text-align: right;\">  lr</th><th style=\"text-align: right;\">  momentum</th><th style=\"text-align: right;\">   acc</th><th style=\"text-align: right;\">  iter</th><th style=\"text-align: right;\">  total time (s)</th></tr>\n",
       "</thead>\n",
       "<tbody>\n",
       "<tr><td>train_mnist_632aa_00002</td><td>RUNNING   </td><td>127.0.0.1:21072</td><td style=\"text-align: right;\">0.5 </td><td style=\"text-align: right;\">  0.651037</td><td style=\"text-align: right;\">0.0974</td><td style=\"text-align: right;\">     1</td><td style=\"text-align: right;\">         22.0988</td></tr>\n",
       "<tr><td>train_mnist_632aa_00000</td><td>TERMINATED</td><td>127.0.0.1:21828</td><td style=\"text-align: right;\">0.01</td><td style=\"text-align: right;\">  0.620798</td><td style=\"text-align: right;\">0.9644</td><td style=\"text-align: right;\">    10</td><td style=\"text-align: right;\">        142.228 </td></tr>\n",
       "<tr><td>train_mnist_632aa_00001</td><td>TERMINATED</td><td>127.0.0.1:22708</td><td style=\"text-align: right;\">0.1 </td><td style=\"text-align: right;\">  0.409923</td><td style=\"text-align: right;\">0.9625</td><td style=\"text-align: right;\">    10</td><td style=\"text-align: right;\">        137.528 </td></tr>\n",
       "</tbody>\n",
       "</table><br><br>"
      ],
      "text/plain": [
       "<IPython.core.display.HTML object>"
      ]
     },
     "metadata": {},
     "output_type": "display_data"
    },
    {
     "data": {
      "text/html": [
       "== Status ==<br>Current time: 2022-01-02 21:16:05 (running for 00:05:23.97)<br>Memory usage on this node: 10.4/15.9 GiB<br>Using FIFO scheduling algorithm.<br>Resources requested: 1.0/6 CPUs, 1.0/1 GPUs, 0.0/5.36 GiB heap, 0.0/2.68 GiB objects<br>Result logdir: C:\\Users\\mikec\\ray_results\\train_mnist_2022-01-02_21-10-41<br>Number of trials: 3/3 (1 RUNNING, 2 TERMINATED)<br><table>\n",
       "<thead>\n",
       "<tr><th>Trial name             </th><th>status    </th><th>loc            </th><th style=\"text-align: right;\">  lr</th><th style=\"text-align: right;\">  momentum</th><th style=\"text-align: right;\">   acc</th><th style=\"text-align: right;\">  iter</th><th style=\"text-align: right;\">  total time (s)</th></tr>\n",
       "</thead>\n",
       "<tbody>\n",
       "<tr><td>train_mnist_632aa_00002</td><td>RUNNING   </td><td>127.0.0.1:21072</td><td style=\"text-align: right;\">0.5 </td><td style=\"text-align: right;\">  0.651037</td><td style=\"text-align: right;\">0.0974</td><td style=\"text-align: right;\">     1</td><td style=\"text-align: right;\">         22.0988</td></tr>\n",
       "<tr><td>train_mnist_632aa_00000</td><td>TERMINATED</td><td>127.0.0.1:21828</td><td style=\"text-align: right;\">0.01</td><td style=\"text-align: right;\">  0.620798</td><td style=\"text-align: right;\">0.9644</td><td style=\"text-align: right;\">    10</td><td style=\"text-align: right;\">        142.228 </td></tr>\n",
       "<tr><td>train_mnist_632aa_00001</td><td>TERMINATED</td><td>127.0.0.1:22708</td><td style=\"text-align: right;\">0.1 </td><td style=\"text-align: right;\">  0.409923</td><td style=\"text-align: right;\">0.9625</td><td style=\"text-align: right;\">    10</td><td style=\"text-align: right;\">        137.528 </td></tr>\n",
       "</tbody>\n",
       "</table><br><br>"
      ],
      "text/plain": [
       "<IPython.core.display.HTML object>"
      ]
     },
     "metadata": {},
     "output_type": "display_data"
    },
    {
     "name": "stdout",
     "output_type": "stream",
     "text": [
      "Result for train_mnist_632aa_00002:\n",
      "  date: 2022-01-02_21-16-08\n",
      "  done: false\n",
      "  experiment_id: 8705d0f4763f47c1be798a6faf64cc65\n",
      "  hostname: bigpc\n",
      "  iterations_since_restore: 2\n",
      "  mean_accuracy: 0.1135\n",
      "  node_ip: 127.0.0.1\n",
      "  pid: 21072\n",
      "  time_since_restore: 35.002235889434814\n",
      "  time_this_iter_s: 12.903453350067139\n",
      "  time_total_s: 35.002235889434814\n",
      "  timestamp: 1641129368\n",
      "  timesteps_since_restore: 0\n",
      "  training_iteration: 2\n",
      "  trial_id: 632aa_00002\n",
      "  \n"
     ]
    },
    {
     "data": {
      "text/html": [
       "== Status ==<br>Current time: 2022-01-02 21:16:11 (running for 00:05:29.78)<br>Memory usage on this node: 10.4/15.9 GiB<br>Using FIFO scheduling algorithm.<br>Resources requested: 1.0/6 CPUs, 1.0/1 GPUs, 0.0/5.36 GiB heap, 0.0/2.68 GiB objects<br>Result logdir: C:\\Users\\mikec\\ray_results\\train_mnist_2022-01-02_21-10-41<br>Number of trials: 3/3 (1 RUNNING, 2 TERMINATED)<br><table>\n",
       "<thead>\n",
       "<tr><th>Trial name             </th><th>status    </th><th>loc            </th><th style=\"text-align: right;\">  lr</th><th style=\"text-align: right;\">  momentum</th><th style=\"text-align: right;\">   acc</th><th style=\"text-align: right;\">  iter</th><th style=\"text-align: right;\">  total time (s)</th></tr>\n",
       "</thead>\n",
       "<tbody>\n",
       "<tr><td>train_mnist_632aa_00002</td><td>RUNNING   </td><td>127.0.0.1:21072</td><td style=\"text-align: right;\">0.5 </td><td style=\"text-align: right;\">  0.651037</td><td style=\"text-align: right;\">0.1135</td><td style=\"text-align: right;\">     2</td><td style=\"text-align: right;\">         35.0022</td></tr>\n",
       "<tr><td>train_mnist_632aa_00000</td><td>TERMINATED</td><td>127.0.0.1:21828</td><td style=\"text-align: right;\">0.01</td><td style=\"text-align: right;\">  0.620798</td><td style=\"text-align: right;\">0.9644</td><td style=\"text-align: right;\">    10</td><td style=\"text-align: right;\">        142.228 </td></tr>\n",
       "<tr><td>train_mnist_632aa_00001</td><td>TERMINATED</td><td>127.0.0.1:22708</td><td style=\"text-align: right;\">0.1 </td><td style=\"text-align: right;\">  0.409923</td><td style=\"text-align: right;\">0.9625</td><td style=\"text-align: right;\">    10</td><td style=\"text-align: right;\">        137.528 </td></tr>\n",
       "</tbody>\n",
       "</table><br><br>"
      ],
      "text/plain": [
       "<IPython.core.display.HTML object>"
      ]
     },
     "metadata": {},
     "output_type": "display_data"
    },
    {
     "data": {
      "text/html": [
       "== Status ==<br>Current time: 2022-01-02 21:16:16 (running for 00:05:34.82)<br>Memory usage on this node: 10.4/15.9 GiB<br>Using FIFO scheduling algorithm.<br>Resources requested: 1.0/6 CPUs, 1.0/1 GPUs, 0.0/5.36 GiB heap, 0.0/2.68 GiB objects<br>Result logdir: C:\\Users\\mikec\\ray_results\\train_mnist_2022-01-02_21-10-41<br>Number of trials: 3/3 (1 RUNNING, 2 TERMINATED)<br><table>\n",
       "<thead>\n",
       "<tr><th>Trial name             </th><th>status    </th><th>loc            </th><th style=\"text-align: right;\">  lr</th><th style=\"text-align: right;\">  momentum</th><th style=\"text-align: right;\">   acc</th><th style=\"text-align: right;\">  iter</th><th style=\"text-align: right;\">  total time (s)</th></tr>\n",
       "</thead>\n",
       "<tbody>\n",
       "<tr><td>train_mnist_632aa_00002</td><td>RUNNING   </td><td>127.0.0.1:21072</td><td style=\"text-align: right;\">0.5 </td><td style=\"text-align: right;\">  0.651037</td><td style=\"text-align: right;\">0.1135</td><td style=\"text-align: right;\">     2</td><td style=\"text-align: right;\">         35.0022</td></tr>\n",
       "<tr><td>train_mnist_632aa_00000</td><td>TERMINATED</td><td>127.0.0.1:21828</td><td style=\"text-align: right;\">0.01</td><td style=\"text-align: right;\">  0.620798</td><td style=\"text-align: right;\">0.9644</td><td style=\"text-align: right;\">    10</td><td style=\"text-align: right;\">        142.228 </td></tr>\n",
       "<tr><td>train_mnist_632aa_00001</td><td>TERMINATED</td><td>127.0.0.1:22708</td><td style=\"text-align: right;\">0.1 </td><td style=\"text-align: right;\">  0.409923</td><td style=\"text-align: right;\">0.9625</td><td style=\"text-align: right;\">    10</td><td style=\"text-align: right;\">        137.528 </td></tr>\n",
       "</tbody>\n",
       "</table><br><br>"
      ],
      "text/plain": [
       "<IPython.core.display.HTML object>"
      ]
     },
     "metadata": {},
     "output_type": "display_data"
    },
    {
     "name": "stdout",
     "output_type": "stream",
     "text": [
      "Result for train_mnist_632aa_00002:\n",
      "  date: 2022-01-02_21-16-21\n",
      "  done: false\n",
      "  experiment_id: 8705d0f4763f47c1be798a6faf64cc65\n",
      "  hostname: bigpc\n",
      "  iterations_since_restore: 3\n",
      "  mean_accuracy: 0.101\n",
      "  node_ip: 127.0.0.1\n",
      "  pid: 21072\n",
      "  time_since_restore: 47.944971799850464\n",
      "  time_this_iter_s: 12.94273591041565\n",
      "  time_total_s: 47.944971799850464\n",
      "  timestamp: 1641129381\n",
      "  timesteps_since_restore: 0\n",
      "  training_iteration: 3\n",
      "  trial_id: 632aa_00002\n",
      "  \n"
     ]
    },
    {
     "data": {
      "text/html": [
       "== Status ==<br>Current time: 2022-01-02 21:16:22 (running for 00:05:40.72)<br>Memory usage on this node: 10.4/15.9 GiB<br>Using FIFO scheduling algorithm.<br>Resources requested: 1.0/6 CPUs, 1.0/1 GPUs, 0.0/5.36 GiB heap, 0.0/2.68 GiB objects<br>Result logdir: C:\\Users\\mikec\\ray_results\\train_mnist_2022-01-02_21-10-41<br>Number of trials: 3/3 (1 RUNNING, 2 TERMINATED)<br><table>\n",
       "<thead>\n",
       "<tr><th>Trial name             </th><th>status    </th><th>loc            </th><th style=\"text-align: right;\">  lr</th><th style=\"text-align: right;\">  momentum</th><th style=\"text-align: right;\">   acc</th><th style=\"text-align: right;\">  iter</th><th style=\"text-align: right;\">  total time (s)</th></tr>\n",
       "</thead>\n",
       "<tbody>\n",
       "<tr><td>train_mnist_632aa_00002</td><td>RUNNING   </td><td>127.0.0.1:21072</td><td style=\"text-align: right;\">0.5 </td><td style=\"text-align: right;\">  0.651037</td><td style=\"text-align: right;\">0.101 </td><td style=\"text-align: right;\">     3</td><td style=\"text-align: right;\">          47.945</td></tr>\n",
       "<tr><td>train_mnist_632aa_00000</td><td>TERMINATED</td><td>127.0.0.1:21828</td><td style=\"text-align: right;\">0.01</td><td style=\"text-align: right;\">  0.620798</td><td style=\"text-align: right;\">0.9644</td><td style=\"text-align: right;\">    10</td><td style=\"text-align: right;\">         142.228</td></tr>\n",
       "<tr><td>train_mnist_632aa_00001</td><td>TERMINATED</td><td>127.0.0.1:22708</td><td style=\"text-align: right;\">0.1 </td><td style=\"text-align: right;\">  0.409923</td><td style=\"text-align: right;\">0.9625</td><td style=\"text-align: right;\">    10</td><td style=\"text-align: right;\">         137.528</td></tr>\n",
       "</tbody>\n",
       "</table><br><br>"
      ],
      "text/plain": [
       "<IPython.core.display.HTML object>"
      ]
     },
     "metadata": {},
     "output_type": "display_data"
    },
    {
     "data": {
      "text/html": [
       "== Status ==<br>Current time: 2022-01-02 21:16:27 (running for 00:05:45.76)<br>Memory usage on this node: 10.4/15.9 GiB<br>Using FIFO scheduling algorithm.<br>Resources requested: 1.0/6 CPUs, 1.0/1 GPUs, 0.0/5.36 GiB heap, 0.0/2.68 GiB objects<br>Result logdir: C:\\Users\\mikec\\ray_results\\train_mnist_2022-01-02_21-10-41<br>Number of trials: 3/3 (1 RUNNING, 2 TERMINATED)<br><table>\n",
       "<thead>\n",
       "<tr><th>Trial name             </th><th>status    </th><th>loc            </th><th style=\"text-align: right;\">  lr</th><th style=\"text-align: right;\">  momentum</th><th style=\"text-align: right;\">   acc</th><th style=\"text-align: right;\">  iter</th><th style=\"text-align: right;\">  total time (s)</th></tr>\n",
       "</thead>\n",
       "<tbody>\n",
       "<tr><td>train_mnist_632aa_00002</td><td>RUNNING   </td><td>127.0.0.1:21072</td><td style=\"text-align: right;\">0.5 </td><td style=\"text-align: right;\">  0.651037</td><td style=\"text-align: right;\">0.101 </td><td style=\"text-align: right;\">     3</td><td style=\"text-align: right;\">          47.945</td></tr>\n",
       "<tr><td>train_mnist_632aa_00000</td><td>TERMINATED</td><td>127.0.0.1:21828</td><td style=\"text-align: right;\">0.01</td><td style=\"text-align: right;\">  0.620798</td><td style=\"text-align: right;\">0.9644</td><td style=\"text-align: right;\">    10</td><td style=\"text-align: right;\">         142.228</td></tr>\n",
       "<tr><td>train_mnist_632aa_00001</td><td>TERMINATED</td><td>127.0.0.1:22708</td><td style=\"text-align: right;\">0.1 </td><td style=\"text-align: right;\">  0.409923</td><td style=\"text-align: right;\">0.9625</td><td style=\"text-align: right;\">    10</td><td style=\"text-align: right;\">         137.528</td></tr>\n",
       "</tbody>\n",
       "</table><br><br>"
      ],
      "text/plain": [
       "<IPython.core.display.HTML object>"
      ]
     },
     "metadata": {},
     "output_type": "display_data"
    },
    {
     "data": {
      "text/html": [
       "== Status ==<br>Current time: 2022-01-02 21:16:32 (running for 00:05:50.81)<br>Memory usage on this node: 10.4/15.9 GiB<br>Using FIFO scheduling algorithm.<br>Resources requested: 1.0/6 CPUs, 1.0/1 GPUs, 0.0/5.36 GiB heap, 0.0/2.68 GiB objects<br>Result logdir: C:\\Users\\mikec\\ray_results\\train_mnist_2022-01-02_21-10-41<br>Number of trials: 3/3 (1 RUNNING, 2 TERMINATED)<br><table>\n",
       "<thead>\n",
       "<tr><th>Trial name             </th><th>status    </th><th>loc            </th><th style=\"text-align: right;\">  lr</th><th style=\"text-align: right;\">  momentum</th><th style=\"text-align: right;\">   acc</th><th style=\"text-align: right;\">  iter</th><th style=\"text-align: right;\">  total time (s)</th></tr>\n",
       "</thead>\n",
       "<tbody>\n",
       "<tr><td>train_mnist_632aa_00002</td><td>RUNNING   </td><td>127.0.0.1:21072</td><td style=\"text-align: right;\">0.5 </td><td style=\"text-align: right;\">  0.651037</td><td style=\"text-align: right;\">0.101 </td><td style=\"text-align: right;\">     3</td><td style=\"text-align: right;\">          47.945</td></tr>\n",
       "<tr><td>train_mnist_632aa_00000</td><td>TERMINATED</td><td>127.0.0.1:21828</td><td style=\"text-align: right;\">0.01</td><td style=\"text-align: right;\">  0.620798</td><td style=\"text-align: right;\">0.9644</td><td style=\"text-align: right;\">    10</td><td style=\"text-align: right;\">         142.228</td></tr>\n",
       "<tr><td>train_mnist_632aa_00001</td><td>TERMINATED</td><td>127.0.0.1:22708</td><td style=\"text-align: right;\">0.1 </td><td style=\"text-align: right;\">  0.409923</td><td style=\"text-align: right;\">0.9625</td><td style=\"text-align: right;\">    10</td><td style=\"text-align: right;\">         137.528</td></tr>\n",
       "</tbody>\n",
       "</table><br><br>"
      ],
      "text/plain": [
       "<IPython.core.display.HTML object>"
      ]
     },
     "metadata": {},
     "output_type": "display_data"
    },
    {
     "name": "stdout",
     "output_type": "stream",
     "text": [
      "Result for train_mnist_632aa_00002:\n",
      "  date: 2022-01-02_21-16-34\n",
      "  done: false\n",
      "  experiment_id: 8705d0f4763f47c1be798a6faf64cc65\n",
      "  hostname: bigpc\n",
      "  iterations_since_restore: 4\n",
      "  mean_accuracy: 0.1135\n",
      "  node_ip: 127.0.0.1\n",
      "  pid: 21072\n",
      "  time_since_restore: 60.84057140350342\n",
      "  time_this_iter_s: 12.895599603652954\n",
      "  time_total_s: 60.84057140350342\n",
      "  timestamp: 1641129394\n",
      "  timesteps_since_restore: 0\n",
      "  training_iteration: 4\n",
      "  trial_id: 632aa_00002\n",
      "  \n"
     ]
    },
    {
     "data": {
      "text/html": [
       "== Status ==<br>Current time: 2022-01-02 21:16:38 (running for 00:05:56.61)<br>Memory usage on this node: 10.5/15.9 GiB<br>Using FIFO scheduling algorithm.<br>Resources requested: 1.0/6 CPUs, 1.0/1 GPUs, 0.0/5.36 GiB heap, 0.0/2.68 GiB objects<br>Result logdir: C:\\Users\\mikec\\ray_results\\train_mnist_2022-01-02_21-10-41<br>Number of trials: 3/3 (1 RUNNING, 2 TERMINATED)<br><table>\n",
       "<thead>\n",
       "<tr><th>Trial name             </th><th>status    </th><th>loc            </th><th style=\"text-align: right;\">  lr</th><th style=\"text-align: right;\">  momentum</th><th style=\"text-align: right;\">   acc</th><th style=\"text-align: right;\">  iter</th><th style=\"text-align: right;\">  total time (s)</th></tr>\n",
       "</thead>\n",
       "<tbody>\n",
       "<tr><td>train_mnist_632aa_00002</td><td>RUNNING   </td><td>127.0.0.1:21072</td><td style=\"text-align: right;\">0.5 </td><td style=\"text-align: right;\">  0.651037</td><td style=\"text-align: right;\">0.1135</td><td style=\"text-align: right;\">     4</td><td style=\"text-align: right;\">         60.8406</td></tr>\n",
       "<tr><td>train_mnist_632aa_00000</td><td>TERMINATED</td><td>127.0.0.1:21828</td><td style=\"text-align: right;\">0.01</td><td style=\"text-align: right;\">  0.620798</td><td style=\"text-align: right;\">0.9644</td><td style=\"text-align: right;\">    10</td><td style=\"text-align: right;\">        142.228 </td></tr>\n",
       "<tr><td>train_mnist_632aa_00001</td><td>TERMINATED</td><td>127.0.0.1:22708</td><td style=\"text-align: right;\">0.1 </td><td style=\"text-align: right;\">  0.409923</td><td style=\"text-align: right;\">0.9625</td><td style=\"text-align: right;\">    10</td><td style=\"text-align: right;\">        137.528 </td></tr>\n",
       "</tbody>\n",
       "</table><br><br>"
      ],
      "text/plain": [
       "<IPython.core.display.HTML object>"
      ]
     },
     "metadata": {},
     "output_type": "display_data"
    },
    {
     "data": {
      "text/html": [
       "== Status ==<br>Current time: 2022-01-02 21:16:43 (running for 00:06:01.65)<br>Memory usage on this node: 10.5/15.9 GiB<br>Using FIFO scheduling algorithm.<br>Resources requested: 1.0/6 CPUs, 1.0/1 GPUs, 0.0/5.36 GiB heap, 0.0/2.68 GiB objects<br>Result logdir: C:\\Users\\mikec\\ray_results\\train_mnist_2022-01-02_21-10-41<br>Number of trials: 3/3 (1 RUNNING, 2 TERMINATED)<br><table>\n",
       "<thead>\n",
       "<tr><th>Trial name             </th><th>status    </th><th>loc            </th><th style=\"text-align: right;\">  lr</th><th style=\"text-align: right;\">  momentum</th><th style=\"text-align: right;\">   acc</th><th style=\"text-align: right;\">  iter</th><th style=\"text-align: right;\">  total time (s)</th></tr>\n",
       "</thead>\n",
       "<tbody>\n",
       "<tr><td>train_mnist_632aa_00002</td><td>RUNNING   </td><td>127.0.0.1:21072</td><td style=\"text-align: right;\">0.5 </td><td style=\"text-align: right;\">  0.651037</td><td style=\"text-align: right;\">0.1135</td><td style=\"text-align: right;\">     4</td><td style=\"text-align: right;\">         60.8406</td></tr>\n",
       "<tr><td>train_mnist_632aa_00000</td><td>TERMINATED</td><td>127.0.0.1:21828</td><td style=\"text-align: right;\">0.01</td><td style=\"text-align: right;\">  0.620798</td><td style=\"text-align: right;\">0.9644</td><td style=\"text-align: right;\">    10</td><td style=\"text-align: right;\">        142.228 </td></tr>\n",
       "<tr><td>train_mnist_632aa_00001</td><td>TERMINATED</td><td>127.0.0.1:22708</td><td style=\"text-align: right;\">0.1 </td><td style=\"text-align: right;\">  0.409923</td><td style=\"text-align: right;\">0.9625</td><td style=\"text-align: right;\">    10</td><td style=\"text-align: right;\">        137.528 </td></tr>\n",
       "</tbody>\n",
       "</table><br><br>"
      ],
      "text/plain": [
       "<IPython.core.display.HTML object>"
      ]
     },
     "metadata": {},
     "output_type": "display_data"
    },
    {
     "name": "stdout",
     "output_type": "stream",
     "text": [
      "Result for train_mnist_632aa_00002:\n",
      "  date: 2022-01-02_21-16-47\n",
      "  done: false\n",
      "  experiment_id: 8705d0f4763f47c1be798a6faf64cc65\n",
      "  hostname: bigpc\n",
      "  iterations_since_restore: 5\n",
      "  mean_accuracy: 0.1135\n",
      "  node_ip: 127.0.0.1\n",
      "  pid: 21072\n",
      "  time_since_restore: 73.81895446777344\n",
      "  time_this_iter_s: 12.97838306427002\n",
      "  time_total_s: 73.81895446777344\n",
      "  timestamp: 1641129407\n",
      "  timesteps_since_restore: 0\n",
      "  training_iteration: 5\n",
      "  trial_id: 632aa_00002\n",
      "  \n"
     ]
    },
    {
     "data": {
      "text/html": [
       "== Status ==<br>Current time: 2022-01-02 21:16:49 (running for 00:06:07.59)<br>Memory usage on this node: 10.5/15.9 GiB<br>Using FIFO scheduling algorithm.<br>Resources requested: 1.0/6 CPUs, 1.0/1 GPUs, 0.0/5.36 GiB heap, 0.0/2.68 GiB objects<br>Result logdir: C:\\Users\\mikec\\ray_results\\train_mnist_2022-01-02_21-10-41<br>Number of trials: 3/3 (1 RUNNING, 2 TERMINATED)<br><table>\n",
       "<thead>\n",
       "<tr><th>Trial name             </th><th>status    </th><th>loc            </th><th style=\"text-align: right;\">  lr</th><th style=\"text-align: right;\">  momentum</th><th style=\"text-align: right;\">   acc</th><th style=\"text-align: right;\">  iter</th><th style=\"text-align: right;\">  total time (s)</th></tr>\n",
       "</thead>\n",
       "<tbody>\n",
       "<tr><td>train_mnist_632aa_00002</td><td>RUNNING   </td><td>127.0.0.1:21072</td><td style=\"text-align: right;\">0.5 </td><td style=\"text-align: right;\">  0.651037</td><td style=\"text-align: right;\">0.1135</td><td style=\"text-align: right;\">     5</td><td style=\"text-align: right;\">          73.819</td></tr>\n",
       "<tr><td>train_mnist_632aa_00000</td><td>TERMINATED</td><td>127.0.0.1:21828</td><td style=\"text-align: right;\">0.01</td><td style=\"text-align: right;\">  0.620798</td><td style=\"text-align: right;\">0.9644</td><td style=\"text-align: right;\">    10</td><td style=\"text-align: right;\">         142.228</td></tr>\n",
       "<tr><td>train_mnist_632aa_00001</td><td>TERMINATED</td><td>127.0.0.1:22708</td><td style=\"text-align: right;\">0.1 </td><td style=\"text-align: right;\">  0.409923</td><td style=\"text-align: right;\">0.9625</td><td style=\"text-align: right;\">    10</td><td style=\"text-align: right;\">         137.528</td></tr>\n",
       "</tbody>\n",
       "</table><br><br>"
      ],
      "text/plain": [
       "<IPython.core.display.HTML object>"
      ]
     },
     "metadata": {},
     "output_type": "display_data"
    },
    {
     "data": {
      "text/html": [
       "== Status ==<br>Current time: 2022-01-02 21:16:54 (running for 00:06:12.63)<br>Memory usage on this node: 10.5/15.9 GiB<br>Using FIFO scheduling algorithm.<br>Resources requested: 1.0/6 CPUs, 1.0/1 GPUs, 0.0/5.36 GiB heap, 0.0/2.68 GiB objects<br>Result logdir: C:\\Users\\mikec\\ray_results\\train_mnist_2022-01-02_21-10-41<br>Number of trials: 3/3 (1 RUNNING, 2 TERMINATED)<br><table>\n",
       "<thead>\n",
       "<tr><th>Trial name             </th><th>status    </th><th>loc            </th><th style=\"text-align: right;\">  lr</th><th style=\"text-align: right;\">  momentum</th><th style=\"text-align: right;\">   acc</th><th style=\"text-align: right;\">  iter</th><th style=\"text-align: right;\">  total time (s)</th></tr>\n",
       "</thead>\n",
       "<tbody>\n",
       "<tr><td>train_mnist_632aa_00002</td><td>RUNNING   </td><td>127.0.0.1:21072</td><td style=\"text-align: right;\">0.5 </td><td style=\"text-align: right;\">  0.651037</td><td style=\"text-align: right;\">0.1135</td><td style=\"text-align: right;\">     5</td><td style=\"text-align: right;\">          73.819</td></tr>\n",
       "<tr><td>train_mnist_632aa_00000</td><td>TERMINATED</td><td>127.0.0.1:21828</td><td style=\"text-align: right;\">0.01</td><td style=\"text-align: right;\">  0.620798</td><td style=\"text-align: right;\">0.9644</td><td style=\"text-align: right;\">    10</td><td style=\"text-align: right;\">         142.228</td></tr>\n",
       "<tr><td>train_mnist_632aa_00001</td><td>TERMINATED</td><td>127.0.0.1:22708</td><td style=\"text-align: right;\">0.1 </td><td style=\"text-align: right;\">  0.409923</td><td style=\"text-align: right;\">0.9625</td><td style=\"text-align: right;\">    10</td><td style=\"text-align: right;\">         137.528</td></tr>\n",
       "</tbody>\n",
       "</table><br><br>"
      ],
      "text/plain": [
       "<IPython.core.display.HTML object>"
      ]
     },
     "metadata": {},
     "output_type": "display_data"
    },
    {
     "data": {
      "text/html": [
       "== Status ==<br>Current time: 2022-01-02 21:16:59 (running for 00:06:17.67)<br>Memory usage on this node: 10.5/15.9 GiB<br>Using FIFO scheduling algorithm.<br>Resources requested: 1.0/6 CPUs, 1.0/1 GPUs, 0.0/5.36 GiB heap, 0.0/2.68 GiB objects<br>Result logdir: C:\\Users\\mikec\\ray_results\\train_mnist_2022-01-02_21-10-41<br>Number of trials: 3/3 (1 RUNNING, 2 TERMINATED)<br><table>\n",
       "<thead>\n",
       "<tr><th>Trial name             </th><th>status    </th><th>loc            </th><th style=\"text-align: right;\">  lr</th><th style=\"text-align: right;\">  momentum</th><th style=\"text-align: right;\">   acc</th><th style=\"text-align: right;\">  iter</th><th style=\"text-align: right;\">  total time (s)</th></tr>\n",
       "</thead>\n",
       "<tbody>\n",
       "<tr><td>train_mnist_632aa_00002</td><td>RUNNING   </td><td>127.0.0.1:21072</td><td style=\"text-align: right;\">0.5 </td><td style=\"text-align: right;\">  0.651037</td><td style=\"text-align: right;\">0.1135</td><td style=\"text-align: right;\">     5</td><td style=\"text-align: right;\">          73.819</td></tr>\n",
       "<tr><td>train_mnist_632aa_00000</td><td>TERMINATED</td><td>127.0.0.1:21828</td><td style=\"text-align: right;\">0.01</td><td style=\"text-align: right;\">  0.620798</td><td style=\"text-align: right;\">0.9644</td><td style=\"text-align: right;\">    10</td><td style=\"text-align: right;\">         142.228</td></tr>\n",
       "<tr><td>train_mnist_632aa_00001</td><td>TERMINATED</td><td>127.0.0.1:22708</td><td style=\"text-align: right;\">0.1 </td><td style=\"text-align: right;\">  0.409923</td><td style=\"text-align: right;\">0.9625</td><td style=\"text-align: right;\">    10</td><td style=\"text-align: right;\">         137.528</td></tr>\n",
       "</tbody>\n",
       "</table><br><br>"
      ],
      "text/plain": [
       "<IPython.core.display.HTML object>"
      ]
     },
     "metadata": {},
     "output_type": "display_data"
    },
    {
     "name": "stdout",
     "output_type": "stream",
     "text": [
      "Result for train_mnist_632aa_00002:\n",
      "  date: 2022-01-02_21-17-00\n",
      "  done: false\n",
      "  experiment_id: 8705d0f4763f47c1be798a6faf64cc65\n",
      "  hostname: bigpc\n",
      "  iterations_since_restore: 6\n",
      "  mean_accuracy: 0.1135\n",
      "  node_ip: 127.0.0.1\n",
      "  pid: 21072\n",
      "  time_since_restore: 86.8144428730011\n",
      "  time_this_iter_s: 12.995488405227661\n",
      "  time_total_s: 86.8144428730011\n",
      "  timestamp: 1641129420\n",
      "  timesteps_since_restore: 0\n",
      "  training_iteration: 6\n",
      "  trial_id: 632aa_00002\n",
      "  \n"
     ]
    },
    {
     "data": {
      "text/html": [
       "== Status ==<br>Current time: 2022-01-02 21:17:05 (running for 00:06:23.62)<br>Memory usage on this node: 10.4/15.9 GiB<br>Using FIFO scheduling algorithm.<br>Resources requested: 1.0/6 CPUs, 1.0/1 GPUs, 0.0/5.36 GiB heap, 0.0/2.68 GiB objects<br>Result logdir: C:\\Users\\mikec\\ray_results\\train_mnist_2022-01-02_21-10-41<br>Number of trials: 3/3 (1 RUNNING, 2 TERMINATED)<br><table>\n",
       "<thead>\n",
       "<tr><th>Trial name             </th><th>status    </th><th>loc            </th><th style=\"text-align: right;\">  lr</th><th style=\"text-align: right;\">  momentum</th><th style=\"text-align: right;\">   acc</th><th style=\"text-align: right;\">  iter</th><th style=\"text-align: right;\">  total time (s)</th></tr>\n",
       "</thead>\n",
       "<tbody>\n",
       "<tr><td>train_mnist_632aa_00002</td><td>RUNNING   </td><td>127.0.0.1:21072</td><td style=\"text-align: right;\">0.5 </td><td style=\"text-align: right;\">  0.651037</td><td style=\"text-align: right;\">0.1135</td><td style=\"text-align: right;\">     6</td><td style=\"text-align: right;\">         86.8144</td></tr>\n",
       "<tr><td>train_mnist_632aa_00000</td><td>TERMINATED</td><td>127.0.0.1:21828</td><td style=\"text-align: right;\">0.01</td><td style=\"text-align: right;\">  0.620798</td><td style=\"text-align: right;\">0.9644</td><td style=\"text-align: right;\">    10</td><td style=\"text-align: right;\">        142.228 </td></tr>\n",
       "<tr><td>train_mnist_632aa_00001</td><td>TERMINATED</td><td>127.0.0.1:22708</td><td style=\"text-align: right;\">0.1 </td><td style=\"text-align: right;\">  0.409923</td><td style=\"text-align: right;\">0.9625</td><td style=\"text-align: right;\">    10</td><td style=\"text-align: right;\">        137.528 </td></tr>\n",
       "</tbody>\n",
       "</table><br><br>"
      ],
      "text/plain": [
       "<IPython.core.display.HTML object>"
      ]
     },
     "metadata": {},
     "output_type": "display_data"
    },
    {
     "data": {
      "text/html": [
       "== Status ==<br>Current time: 2022-01-02 21:17:10 (running for 00:06:28.67)<br>Memory usage on this node: 10.4/15.9 GiB<br>Using FIFO scheduling algorithm.<br>Resources requested: 1.0/6 CPUs, 1.0/1 GPUs, 0.0/5.36 GiB heap, 0.0/2.68 GiB objects<br>Result logdir: C:\\Users\\mikec\\ray_results\\train_mnist_2022-01-02_21-10-41<br>Number of trials: 3/3 (1 RUNNING, 2 TERMINATED)<br><table>\n",
       "<thead>\n",
       "<tr><th>Trial name             </th><th>status    </th><th>loc            </th><th style=\"text-align: right;\">  lr</th><th style=\"text-align: right;\">  momentum</th><th style=\"text-align: right;\">   acc</th><th style=\"text-align: right;\">  iter</th><th style=\"text-align: right;\">  total time (s)</th></tr>\n",
       "</thead>\n",
       "<tbody>\n",
       "<tr><td>train_mnist_632aa_00002</td><td>RUNNING   </td><td>127.0.0.1:21072</td><td style=\"text-align: right;\">0.5 </td><td style=\"text-align: right;\">  0.651037</td><td style=\"text-align: right;\">0.1135</td><td style=\"text-align: right;\">     6</td><td style=\"text-align: right;\">         86.8144</td></tr>\n",
       "<tr><td>train_mnist_632aa_00000</td><td>TERMINATED</td><td>127.0.0.1:21828</td><td style=\"text-align: right;\">0.01</td><td style=\"text-align: right;\">  0.620798</td><td style=\"text-align: right;\">0.9644</td><td style=\"text-align: right;\">    10</td><td style=\"text-align: right;\">        142.228 </td></tr>\n",
       "<tr><td>train_mnist_632aa_00001</td><td>TERMINATED</td><td>127.0.0.1:22708</td><td style=\"text-align: right;\">0.1 </td><td style=\"text-align: right;\">  0.409923</td><td style=\"text-align: right;\">0.9625</td><td style=\"text-align: right;\">    10</td><td style=\"text-align: right;\">        137.528 </td></tr>\n",
       "</tbody>\n",
       "</table><br><br>"
      ],
      "text/plain": [
       "<IPython.core.display.HTML object>"
      ]
     },
     "metadata": {},
     "output_type": "display_data"
    },
    {
     "name": "stdout",
     "output_type": "stream",
     "text": [
      "Result for train_mnist_632aa_00002:\n",
      "  date: 2022-01-02_21-17-13\n",
      "  done: false\n",
      "  experiment_id: 8705d0f4763f47c1be798a6faf64cc65\n",
      "  hostname: bigpc\n",
      "  iterations_since_restore: 7\n",
      "  mean_accuracy: 0.1028\n",
      "  node_ip: 127.0.0.1\n",
      "  pid: 21072\n",
      "  time_since_restore: 99.78912091255188\n",
      "  time_this_iter_s: 12.974678039550781\n",
      "  time_total_s: 99.78912091255188\n",
      "  timestamp: 1641129433\n",
      "  timesteps_since_restore: 0\n",
      "  training_iteration: 7\n",
      "  trial_id: 632aa_00002\n",
      "  \n"
     ]
    },
    {
     "data": {
      "text/html": [
       "== Status ==<br>Current time: 2022-01-02 21:17:16 (running for 00:06:34.58)<br>Memory usage on this node: 10.4/15.9 GiB<br>Using FIFO scheduling algorithm.<br>Resources requested: 1.0/6 CPUs, 1.0/1 GPUs, 0.0/5.36 GiB heap, 0.0/2.68 GiB objects<br>Result logdir: C:\\Users\\mikec\\ray_results\\train_mnist_2022-01-02_21-10-41<br>Number of trials: 3/3 (1 RUNNING, 2 TERMINATED)<br><table>\n",
       "<thead>\n",
       "<tr><th>Trial name             </th><th>status    </th><th>loc            </th><th style=\"text-align: right;\">  lr</th><th style=\"text-align: right;\">  momentum</th><th style=\"text-align: right;\">   acc</th><th style=\"text-align: right;\">  iter</th><th style=\"text-align: right;\">  total time (s)</th></tr>\n",
       "</thead>\n",
       "<tbody>\n",
       "<tr><td>train_mnist_632aa_00002</td><td>RUNNING   </td><td>127.0.0.1:21072</td><td style=\"text-align: right;\">0.5 </td><td style=\"text-align: right;\">  0.651037</td><td style=\"text-align: right;\">0.1028</td><td style=\"text-align: right;\">     7</td><td style=\"text-align: right;\">         99.7891</td></tr>\n",
       "<tr><td>train_mnist_632aa_00000</td><td>TERMINATED</td><td>127.0.0.1:21828</td><td style=\"text-align: right;\">0.01</td><td style=\"text-align: right;\">  0.620798</td><td style=\"text-align: right;\">0.9644</td><td style=\"text-align: right;\">    10</td><td style=\"text-align: right;\">        142.228 </td></tr>\n",
       "<tr><td>train_mnist_632aa_00001</td><td>TERMINATED</td><td>127.0.0.1:22708</td><td style=\"text-align: right;\">0.1 </td><td style=\"text-align: right;\">  0.409923</td><td style=\"text-align: right;\">0.9625</td><td style=\"text-align: right;\">    10</td><td style=\"text-align: right;\">        137.528 </td></tr>\n",
       "</tbody>\n",
       "</table><br><br>"
      ],
      "text/plain": [
       "<IPython.core.display.HTML object>"
      ]
     },
     "metadata": {},
     "output_type": "display_data"
    },
    {
     "data": {
      "text/html": [
       "== Status ==<br>Current time: 2022-01-02 21:17:21 (running for 00:06:39.64)<br>Memory usage on this node: 10.4/15.9 GiB<br>Using FIFO scheduling algorithm.<br>Resources requested: 1.0/6 CPUs, 1.0/1 GPUs, 0.0/5.36 GiB heap, 0.0/2.68 GiB objects<br>Result logdir: C:\\Users\\mikec\\ray_results\\train_mnist_2022-01-02_21-10-41<br>Number of trials: 3/3 (1 RUNNING, 2 TERMINATED)<br><table>\n",
       "<thead>\n",
       "<tr><th>Trial name             </th><th>status    </th><th>loc            </th><th style=\"text-align: right;\">  lr</th><th style=\"text-align: right;\">  momentum</th><th style=\"text-align: right;\">   acc</th><th style=\"text-align: right;\">  iter</th><th style=\"text-align: right;\">  total time (s)</th></tr>\n",
       "</thead>\n",
       "<tbody>\n",
       "<tr><td>train_mnist_632aa_00002</td><td>RUNNING   </td><td>127.0.0.1:21072</td><td style=\"text-align: right;\">0.5 </td><td style=\"text-align: right;\">  0.651037</td><td style=\"text-align: right;\">0.1028</td><td style=\"text-align: right;\">     7</td><td style=\"text-align: right;\">         99.7891</td></tr>\n",
       "<tr><td>train_mnist_632aa_00000</td><td>TERMINATED</td><td>127.0.0.1:21828</td><td style=\"text-align: right;\">0.01</td><td style=\"text-align: right;\">  0.620798</td><td style=\"text-align: right;\">0.9644</td><td style=\"text-align: right;\">    10</td><td style=\"text-align: right;\">        142.228 </td></tr>\n",
       "<tr><td>train_mnist_632aa_00001</td><td>TERMINATED</td><td>127.0.0.1:22708</td><td style=\"text-align: right;\">0.1 </td><td style=\"text-align: right;\">  0.409923</td><td style=\"text-align: right;\">0.9625</td><td style=\"text-align: right;\">    10</td><td style=\"text-align: right;\">        137.528 </td></tr>\n",
       "</tbody>\n",
       "</table><br><br>"
      ],
      "text/plain": [
       "<IPython.core.display.HTML object>"
      ]
     },
     "metadata": {},
     "output_type": "display_data"
    },
    {
     "name": "stdout",
     "output_type": "stream",
     "text": [
      "Result for train_mnist_632aa_00002:\n",
      "  date: 2022-01-02_21-17-26\n",
      "  done: false\n",
      "  experiment_id: 8705d0f4763f47c1be798a6faf64cc65\n",
      "  hostname: bigpc\n",
      "  iterations_since_restore: 8\n",
      "  mean_accuracy: 0.1135\n",
      "  node_ip: 127.0.0.1\n",
      "  pid: 21072\n",
      "  time_since_restore: 112.72352886199951\n",
      "  time_this_iter_s: 12.934407949447632\n",
      "  time_total_s: 112.72352886199951\n",
      "  timestamp: 1641129446\n",
      "  timesteps_since_restore: 0\n",
      "  training_iteration: 8\n",
      "  trial_id: 632aa_00002\n",
      "  \n"
     ]
    },
    {
     "data": {
      "text/html": [
       "== Status ==<br>Current time: 2022-01-02 21:17:27 (running for 00:06:45.49)<br>Memory usage on this node: 10.4/15.9 GiB<br>Using FIFO scheduling algorithm.<br>Resources requested: 1.0/6 CPUs, 1.0/1 GPUs, 0.0/5.36 GiB heap, 0.0/2.68 GiB objects<br>Result logdir: C:\\Users\\mikec\\ray_results\\train_mnist_2022-01-02_21-10-41<br>Number of trials: 3/3 (1 RUNNING, 2 TERMINATED)<br><table>\n",
       "<thead>\n",
       "<tr><th>Trial name             </th><th>status    </th><th>loc            </th><th style=\"text-align: right;\">  lr</th><th style=\"text-align: right;\">  momentum</th><th style=\"text-align: right;\">   acc</th><th style=\"text-align: right;\">  iter</th><th style=\"text-align: right;\">  total time (s)</th></tr>\n",
       "</thead>\n",
       "<tbody>\n",
       "<tr><td>train_mnist_632aa_00002</td><td>RUNNING   </td><td>127.0.0.1:21072</td><td style=\"text-align: right;\">0.5 </td><td style=\"text-align: right;\">  0.651037</td><td style=\"text-align: right;\">0.1135</td><td style=\"text-align: right;\">     8</td><td style=\"text-align: right;\">         112.724</td></tr>\n",
       "<tr><td>train_mnist_632aa_00000</td><td>TERMINATED</td><td>127.0.0.1:21828</td><td style=\"text-align: right;\">0.01</td><td style=\"text-align: right;\">  0.620798</td><td style=\"text-align: right;\">0.9644</td><td style=\"text-align: right;\">    10</td><td style=\"text-align: right;\">         142.228</td></tr>\n",
       "<tr><td>train_mnist_632aa_00001</td><td>TERMINATED</td><td>127.0.0.1:22708</td><td style=\"text-align: right;\">0.1 </td><td style=\"text-align: right;\">  0.409923</td><td style=\"text-align: right;\">0.9625</td><td style=\"text-align: right;\">    10</td><td style=\"text-align: right;\">         137.528</td></tr>\n",
       "</tbody>\n",
       "</table><br><br>"
      ],
      "text/plain": [
       "<IPython.core.display.HTML object>"
      ]
     },
     "metadata": {},
     "output_type": "display_data"
    },
    {
     "data": {
      "text/html": [
       "== Status ==<br>Current time: 2022-01-02 21:17:32 (running for 00:06:50.54)<br>Memory usage on this node: 10.4/15.9 GiB<br>Using FIFO scheduling algorithm.<br>Resources requested: 1.0/6 CPUs, 1.0/1 GPUs, 0.0/5.36 GiB heap, 0.0/2.68 GiB objects<br>Result logdir: C:\\Users\\mikec\\ray_results\\train_mnist_2022-01-02_21-10-41<br>Number of trials: 3/3 (1 RUNNING, 2 TERMINATED)<br><table>\n",
       "<thead>\n",
       "<tr><th>Trial name             </th><th>status    </th><th>loc            </th><th style=\"text-align: right;\">  lr</th><th style=\"text-align: right;\">  momentum</th><th style=\"text-align: right;\">   acc</th><th style=\"text-align: right;\">  iter</th><th style=\"text-align: right;\">  total time (s)</th></tr>\n",
       "</thead>\n",
       "<tbody>\n",
       "<tr><td>train_mnist_632aa_00002</td><td>RUNNING   </td><td>127.0.0.1:21072</td><td style=\"text-align: right;\">0.5 </td><td style=\"text-align: right;\">  0.651037</td><td style=\"text-align: right;\">0.1135</td><td style=\"text-align: right;\">     8</td><td style=\"text-align: right;\">         112.724</td></tr>\n",
       "<tr><td>train_mnist_632aa_00000</td><td>TERMINATED</td><td>127.0.0.1:21828</td><td style=\"text-align: right;\">0.01</td><td style=\"text-align: right;\">  0.620798</td><td style=\"text-align: right;\">0.9644</td><td style=\"text-align: right;\">    10</td><td style=\"text-align: right;\">         142.228</td></tr>\n",
       "<tr><td>train_mnist_632aa_00001</td><td>TERMINATED</td><td>127.0.0.1:22708</td><td style=\"text-align: right;\">0.1 </td><td style=\"text-align: right;\">  0.409923</td><td style=\"text-align: right;\">0.9625</td><td style=\"text-align: right;\">    10</td><td style=\"text-align: right;\">         137.528</td></tr>\n",
       "</tbody>\n",
       "</table><br><br>"
      ],
      "text/plain": [
       "<IPython.core.display.HTML object>"
      ]
     },
     "metadata": {},
     "output_type": "display_data"
    },
    {
     "data": {
      "text/html": [
       "== Status ==<br>Current time: 2022-01-02 21:17:37 (running for 00:06:55.59)<br>Memory usage on this node: 10.4/15.9 GiB<br>Using FIFO scheduling algorithm.<br>Resources requested: 1.0/6 CPUs, 1.0/1 GPUs, 0.0/5.36 GiB heap, 0.0/2.68 GiB objects<br>Result logdir: C:\\Users\\mikec\\ray_results\\train_mnist_2022-01-02_21-10-41<br>Number of trials: 3/3 (1 RUNNING, 2 TERMINATED)<br><table>\n",
       "<thead>\n",
       "<tr><th>Trial name             </th><th>status    </th><th>loc            </th><th style=\"text-align: right;\">  lr</th><th style=\"text-align: right;\">  momentum</th><th style=\"text-align: right;\">   acc</th><th style=\"text-align: right;\">  iter</th><th style=\"text-align: right;\">  total time (s)</th></tr>\n",
       "</thead>\n",
       "<tbody>\n",
       "<tr><td>train_mnist_632aa_00002</td><td>RUNNING   </td><td>127.0.0.1:21072</td><td style=\"text-align: right;\">0.5 </td><td style=\"text-align: right;\">  0.651037</td><td style=\"text-align: right;\">0.1135</td><td style=\"text-align: right;\">     8</td><td style=\"text-align: right;\">         112.724</td></tr>\n",
       "<tr><td>train_mnist_632aa_00000</td><td>TERMINATED</td><td>127.0.0.1:21828</td><td style=\"text-align: right;\">0.01</td><td style=\"text-align: right;\">  0.620798</td><td style=\"text-align: right;\">0.9644</td><td style=\"text-align: right;\">    10</td><td style=\"text-align: right;\">         142.228</td></tr>\n",
       "<tr><td>train_mnist_632aa_00001</td><td>TERMINATED</td><td>127.0.0.1:22708</td><td style=\"text-align: right;\">0.1 </td><td style=\"text-align: right;\">  0.409923</td><td style=\"text-align: right;\">0.9625</td><td style=\"text-align: right;\">    10</td><td style=\"text-align: right;\">         137.528</td></tr>\n",
       "</tbody>\n",
       "</table><br><br>"
      ],
      "text/plain": [
       "<IPython.core.display.HTML object>"
      ]
     },
     "metadata": {},
     "output_type": "display_data"
    },
    {
     "name": "stdout",
     "output_type": "stream",
     "text": [
      "Result for train_mnist_632aa_00002:\n",
      "  date: 2022-01-02_21-17-39\n",
      "  done: false\n",
      "  experiment_id: 8705d0f4763f47c1be798a6faf64cc65\n",
      "  hostname: bigpc\n",
      "  iterations_since_restore: 9\n",
      "  mean_accuracy: 0.1135\n",
      "  node_ip: 127.0.0.1\n",
      "  pid: 21072\n",
      "  time_since_restore: 125.65354490280151\n",
      "  time_this_iter_s: 12.930016040802002\n",
      "  time_total_s: 125.65354490280151\n",
      "  timestamp: 1641129459\n",
      "  timesteps_since_restore: 0\n",
      "  training_iteration: 9\n",
      "  trial_id: 632aa_00002\n",
      "  \n"
     ]
    },
    {
     "data": {
      "text/html": [
       "== Status ==<br>Current time: 2022-01-02 21:17:43 (running for 00:07:01.45)<br>Memory usage on this node: 10.4/15.9 GiB<br>Using FIFO scheduling algorithm.<br>Resources requested: 1.0/6 CPUs, 1.0/1 GPUs, 0.0/5.36 GiB heap, 0.0/2.68 GiB objects<br>Result logdir: C:\\Users\\mikec\\ray_results\\train_mnist_2022-01-02_21-10-41<br>Number of trials: 3/3 (1 RUNNING, 2 TERMINATED)<br><table>\n",
       "<thead>\n",
       "<tr><th>Trial name             </th><th>status    </th><th>loc            </th><th style=\"text-align: right;\">  lr</th><th style=\"text-align: right;\">  momentum</th><th style=\"text-align: right;\">   acc</th><th style=\"text-align: right;\">  iter</th><th style=\"text-align: right;\">  total time (s)</th></tr>\n",
       "</thead>\n",
       "<tbody>\n",
       "<tr><td>train_mnist_632aa_00002</td><td>RUNNING   </td><td>127.0.0.1:21072</td><td style=\"text-align: right;\">0.5 </td><td style=\"text-align: right;\">  0.651037</td><td style=\"text-align: right;\">0.1135</td><td style=\"text-align: right;\">     9</td><td style=\"text-align: right;\">         125.654</td></tr>\n",
       "<tr><td>train_mnist_632aa_00000</td><td>TERMINATED</td><td>127.0.0.1:21828</td><td style=\"text-align: right;\">0.01</td><td style=\"text-align: right;\">  0.620798</td><td style=\"text-align: right;\">0.9644</td><td style=\"text-align: right;\">    10</td><td style=\"text-align: right;\">         142.228</td></tr>\n",
       "<tr><td>train_mnist_632aa_00001</td><td>TERMINATED</td><td>127.0.0.1:22708</td><td style=\"text-align: right;\">0.1 </td><td style=\"text-align: right;\">  0.409923</td><td style=\"text-align: right;\">0.9625</td><td style=\"text-align: right;\">    10</td><td style=\"text-align: right;\">         137.528</td></tr>\n",
       "</tbody>\n",
       "</table><br><br>"
      ],
      "text/plain": [
       "<IPython.core.display.HTML object>"
      ]
     },
     "metadata": {},
     "output_type": "display_data"
    },
    {
     "data": {
      "text/html": [
       "== Status ==<br>Current time: 2022-01-02 21:17:48 (running for 00:07:06.48)<br>Memory usage on this node: 10.0/15.9 GiB<br>Using FIFO scheduling algorithm.<br>Resources requested: 1.0/6 CPUs, 1.0/1 GPUs, 0.0/5.36 GiB heap, 0.0/2.68 GiB objects<br>Result logdir: C:\\Users\\mikec\\ray_results\\train_mnist_2022-01-02_21-10-41<br>Number of trials: 3/3 (1 RUNNING, 2 TERMINATED)<br><table>\n",
       "<thead>\n",
       "<tr><th>Trial name             </th><th>status    </th><th>loc            </th><th style=\"text-align: right;\">  lr</th><th style=\"text-align: right;\">  momentum</th><th style=\"text-align: right;\">   acc</th><th style=\"text-align: right;\">  iter</th><th style=\"text-align: right;\">  total time (s)</th></tr>\n",
       "</thead>\n",
       "<tbody>\n",
       "<tr><td>train_mnist_632aa_00002</td><td>RUNNING   </td><td>127.0.0.1:21072</td><td style=\"text-align: right;\">0.5 </td><td style=\"text-align: right;\">  0.651037</td><td style=\"text-align: right;\">0.1135</td><td style=\"text-align: right;\">     9</td><td style=\"text-align: right;\">         125.654</td></tr>\n",
       "<tr><td>train_mnist_632aa_00000</td><td>TERMINATED</td><td>127.0.0.1:21828</td><td style=\"text-align: right;\">0.01</td><td style=\"text-align: right;\">  0.620798</td><td style=\"text-align: right;\">0.9644</td><td style=\"text-align: right;\">    10</td><td style=\"text-align: right;\">         142.228</td></tr>\n",
       "<tr><td>train_mnist_632aa_00001</td><td>TERMINATED</td><td>127.0.0.1:22708</td><td style=\"text-align: right;\">0.1 </td><td style=\"text-align: right;\">  0.409923</td><td style=\"text-align: right;\">0.9625</td><td style=\"text-align: right;\">    10</td><td style=\"text-align: right;\">         137.528</td></tr>\n",
       "</tbody>\n",
       "</table><br><br>"
      ],
      "text/plain": [
       "<IPython.core.display.HTML object>"
      ]
     },
     "metadata": {},
     "output_type": "display_data"
    },
    {
     "name": "stdout",
     "output_type": "stream",
     "text": [
      "Result for train_mnist_632aa_00002:\n",
      "  date: 2022-01-02_21-17-52\n",
      "  done: false\n",
      "  experiment_id: 8705d0f4763f47c1be798a6faf64cc65\n",
      "  hostname: bigpc\n",
      "  iterations_since_restore: 10\n",
      "  mean_accuracy: 0.1135\n",
      "  node_ip: 127.0.0.1\n",
      "  pid: 21072\n",
      "  time_since_restore: 138.6923325061798\n",
      "  time_this_iter_s: 13.038787603378296\n",
      "  time_total_s: 138.6923325061798\n",
      "  timestamp: 1641129472\n",
      "  timesteps_since_restore: 0\n",
      "  training_iteration: 10\n",
      "  trial_id: 632aa_00002\n",
      "  \n",
      "Result for train_mnist_632aa_00002:\n",
      "  date: 2022-01-02_21-17-52\n",
      "  done: true\n",
      "  experiment_id: 8705d0f4763f47c1be798a6faf64cc65\n",
      "  experiment_tag: 2_lr=0.5,momentum=0.65104\n",
      "  hostname: bigpc\n",
      "  iterations_since_restore: 10\n",
      "  mean_accuracy: 0.1135\n",
      "  node_ip: 127.0.0.1\n",
      "  pid: 21072\n",
      "  time_since_restore: 138.6923325061798\n",
      "  time_this_iter_s: 13.038787603378296\n",
      "  time_total_s: 138.6923325061798\n",
      "  timestamp: 1641129472\n",
      "  timesteps_since_restore: 0\n",
      "  training_iteration: 10\n",
      "  trial_id: 632aa_00002\n",
      "  \n"
     ]
    },
    {
     "data": {
      "text/html": [
       "== Status ==<br>Current time: 2022-01-02 21:17:52 (running for 00:07:10.46)<br>Memory usage on this node: 10.0/15.9 GiB<br>Using FIFO scheduling algorithm.<br>Resources requested: 0/6 CPUs, 0/1 GPUs, 0.0/5.36 GiB heap, 0.0/2.68 GiB objects<br>Result logdir: C:\\Users\\mikec\\ray_results\\train_mnist_2022-01-02_21-10-41<br>Number of trials: 3/3 (3 TERMINATED)<br><table>\n",
       "<thead>\n",
       "<tr><th>Trial name             </th><th>status    </th><th>loc            </th><th style=\"text-align: right;\">  lr</th><th style=\"text-align: right;\">  momentum</th><th style=\"text-align: right;\">   acc</th><th style=\"text-align: right;\">  iter</th><th style=\"text-align: right;\">  total time (s)</th></tr>\n",
       "</thead>\n",
       "<tbody>\n",
       "<tr><td>train_mnist_632aa_00000</td><td>TERMINATED</td><td>127.0.0.1:21828</td><td style=\"text-align: right;\">0.01</td><td style=\"text-align: right;\">  0.620798</td><td style=\"text-align: right;\">0.9644</td><td style=\"text-align: right;\">    10</td><td style=\"text-align: right;\">         142.228</td></tr>\n",
       "<tr><td>train_mnist_632aa_00001</td><td>TERMINATED</td><td>127.0.0.1:22708</td><td style=\"text-align: right;\">0.1 </td><td style=\"text-align: right;\">  0.409923</td><td style=\"text-align: right;\">0.9625</td><td style=\"text-align: right;\">    10</td><td style=\"text-align: right;\">         137.528</td></tr>\n",
       "<tr><td>train_mnist_632aa_00002</td><td>TERMINATED</td><td>127.0.0.1:21072</td><td style=\"text-align: right;\">0.5 </td><td style=\"text-align: right;\">  0.651037</td><td style=\"text-align: right;\">0.1135</td><td style=\"text-align: right;\">    10</td><td style=\"text-align: right;\">         138.692</td></tr>\n",
       "</tbody>\n",
       "</table><br><br>"
      ],
      "text/plain": [
       "<IPython.core.display.HTML object>"
      ]
     },
     "metadata": {},
     "output_type": "display_data"
    },
    {
     "name": "stderr",
     "output_type": "stream",
     "text": [
      "2022-01-02 21:17:52,365\tINFO tune.py:626 -- Total run time: 430.59 seconds (430.46 seconds for the tuning loop).\n"
     ]
    }
   ],
   "source": [
    "# 參數組合\n",
    "search_space = {\n",
    "    #\"lr\": tune.sample_from(lambda spec: 10**(-10 * np.random.rand())),\n",
    "    \"lr\": tune.grid_search([0.01, 0.1, 0.5]), # 每一選項都要測試\n",
    "    \"momentum\": tune.uniform(0.1, 0.9)        # 均勻分配抽樣\n",
    "}\n",
    "\n",
    "# 加下一行，採分散式處理\n",
    "# ray.init(address=\"auto\")\n",
    "\n",
    "# 執行參數調校\n",
    "analysis = tune.run(train_mnist, config=search_space, resources_per_trial={'gpu': 1})"
   ]
  },
  {
   "cell_type": "markdown",
   "metadata": {},
   "source": [
    "## 取得實驗的參數"
   ]
  },
  {
   "cell_type": "code",
   "execution_count": 99,
   "metadata": {},
   "outputs": [
    {
     "name": "stdout",
     "output_type": "stream",
     "text": [
      "{'lr': 0.01, 'momentum': 0.6207983646235925}\n",
      "{'lr': 0.1, 'momentum': 0.409923256970235}\n",
      "{'lr': 0.5, 'momentum': 0.6510366888598742}\n"
     ]
    }
   ],
   "source": [
    "for i in analysis.get_all_configs().keys():\n",
    "    print(analysis.get_all_configs()[i])"
   ]
  },
  {
   "cell_type": "markdown",
   "metadata": {},
   "source": [
    "## 對訓練過程的準確率繪圖"
   ]
  },
  {
   "cell_type": "code",
   "execution_count": 107,
   "metadata": {
    "scrolled": false
   },
   "outputs": [
    {
     "data": {
      "image/png": "[encoded data removed]",
      "text/plain": [
       "<Figure size 864x432 with 3 Axes>"
      ]
     },
     "metadata": {
      "needs_background": "light"
     },
     "output_type": "display_data"
    }
   ],
   "source": [
    "import matplotlib.pyplot as plt \n",
    "\n",
    "# 取得實驗的參數\n",
    "config_list = []\n",
    "for i in analysis.get_all_configs().keys():\n",
    "    config_list.append(analysis.get_all_configs()[i])\n",
    "    \n",
    "# 繪圖\n",
    "plt.figure(figsize=(12,6))\n",
    "dfs = analysis.trial_dataframes\n",
    "for i, d in enumerate(dfs.values()):\n",
    "    plt.subplot(1,3,i+1)\n",
    "    plt.title(config_list[i])\n",
    "    d.mean_accuracy.plot() \n",
    "plt.tight_layout()\n",
    "plt.show()"
   ]
  },
  {
   "cell_type": "markdown",
   "metadata": {},
   "source": [
    "## 顯示詳細調校內容"
   ]
  },
  {
   "cell_type": "code",
   "execution_count": 88,
   "metadata": {},
   "outputs": [
    {
     "name": "stdout",
     "output_type": "stream",
     "text": [
      "train_mnist_632aa_00000_0_lr=0.01,momentum=0.6208_2022-01-02_21-10-41\n",
      "    mean_accuracy  time_total_s\n",
      "0         0.9142     23.599039\n",
      "1         0.9450     36.718488\n",
      "2         0.9536     49.732055\n",
      "3         0.9564     62.833749\n",
      "4         0.9621     75.938153\n",
      "5         0.9618     89.218834\n",
      "6         0.9632    102.366150\n",
      "7         0.9631    115.633676\n",
      "8         0.9640    128.915956\n",
      "9         0.9644    142.228140\n",
      "train_mnist_632aa_00001_1_lr=0.1,momentum=0.40992_2022-01-02_21-10-42\n",
      "    mean_accuracy  time_total_s\n",
      "0         0.9527     21.514920\n",
      "1         0.9552     34.425164\n",
      "2         0.9541     47.275895\n",
      "3         0.9554     60.217369\n",
      "4         0.9622     73.019098\n",
      "5         0.9582     85.883695\n",
      "6         0.9639     98.806184\n",
      "7         0.9595    111.709021\n",
      "8         0.9629    124.651322\n",
      "9         0.9625    137.528468\n",
      "train_mnist_632aa_00002_2_lr=0.5,momentum=0.65104_2022-01-02_21-13-06\n",
      "    mean_accuracy  time_total_s\n",
      "0         0.0974     22.098783\n",
      "1         0.1135     35.002236\n",
      "2         0.1010     47.944972\n",
      "3         0.1135     60.840571\n",
      "4         0.1135     73.818954\n",
      "5         0.1135     86.814443\n",
      "6         0.1028     99.789121\n",
      "7         0.1135    112.723529\n",
      "8         0.1135    125.653545\n",
      "9         0.1135    138.692333\n"
     ]
    }
   ],
   "source": [
    "for i in dfs.keys():\n",
    "    parameters = i.split(\"\\\\\")[-1]\n",
    "    print(f'{parameters}\\n', dfs[i][['mean_accuracy', 'time_total_s']])"
   ]
  },
  {
   "cell_type": "code",
   "execution_count": 109,
   "metadata": {
    "scrolled": true
   },
   "outputs": [
    {
     "data": {
      "text/html": [
       "<div><div id=5e3a2141-3da3-4a85-9745-2d2ca648c480 style=\"display:none; background-color:#9D6CFF; color:white; width:200px; height:30px; padding-left:5px; border-radius:4px; flex-direction:row; justify-content:space-around; align-items:center;\" onmouseover=\"this.style.backgroundColor='#BA9BF8'\" onmouseout=\"this.style.backgroundColor='#9D6CFF'\" onclick=\"window.commands?.execute('create-mitosheet-from-dataframe-output');\">See Full Dataframe in Mito</div> <script> if (window.commands.hasCommand('create-mitosheet-from-dataframe-output')) document.getElementById('5e3a2141-3da3-4a85-9745-2d2ca648c480').style.display = 'flex' </script> <table border=\"1\" class=\"dataframe\">\n",
       "  <thead>\n",
       "    <tr style=\"text-align: right;\">\n",
       "      <th></th>\n",
       "      <th>mean_accuracy</th>\n",
       "      <th>time_this_iter_s</th>\n",
       "      <th>done</th>\n",
       "      <th>timesteps_total</th>\n",
       "      <th>episodes_total</th>\n",
       "      <th>training_iteration</th>\n",
       "      <th>experiment_id</th>\n",
       "      <th>date</th>\n",
       "      <th>timestamp</th>\n",
       "      <th>time_total_s</th>\n",
       "      <th>pid</th>\n",
       "      <th>hostname</th>\n",
       "      <th>node_ip</th>\n",
       "      <th>time_since_restore</th>\n",
       "      <th>timesteps_since_restore</th>\n",
       "      <th>iterations_since_restore</th>\n",
       "      <th>experiment_tag</th>\n",
       "      <th>config.lr</th>\n",
       "      <th>config.momentum</th>\n",
       "    </tr>\n",
       "    <tr>\n",
       "      <th>trial_id</th>\n",
       "      <th></th>\n",
       "      <th></th>\n",
       "      <th></th>\n",
       "      <th></th>\n",
       "      <th></th>\n",
       "      <th></th>\n",
       "      <th></th>\n",
       "      <th></th>\n",
       "      <th></th>\n",
       "      <th></th>\n",
       "      <th></th>\n",
       "      <th></th>\n",
       "      <th></th>\n",
       "      <th></th>\n",
       "      <th></th>\n",
       "      <th></th>\n",
       "      <th></th>\n",
       "      <th></th>\n",
       "      <th></th>\n",
       "    </tr>\n",
       "  </thead>\n",
       "  <tbody>\n",
       "    <tr>\n",
       "      <th>632aa_00000</th>\n",
       "      <td>0.9644</td>\n",
       "      <td>13.312184</td>\n",
       "      <td>True</td>\n",
       "      <td>None</td>\n",
       "      <td>None</td>\n",
       "      <td>10</td>\n",
       "      <td>e635b4cc50164158a2385aeed6bf481e</td>\n",
       "      <td>2022-01-02_21-13-06</td>\n",
       "      <td>1641129186</td>\n",
       "      <td>142.228140</td>\n",
       "      <td>21828</td>\n",
       "      <td>bigpc</td>\n",
       "      <td>127.0.0.1</td>\n",
       "      <td>142.228140</td>\n",
       "      <td>0</td>\n",
       "      <td>10</td>\n",
       "      <td>0_lr=0.01,momentum=0.6208</td>\n",
       "      <td>0.01</td>\n",
       "      <td>0.620798</td>\n",
       "    </tr>\n",
       "    <tr>\n",
       "      <th>632aa_00001</th>\n",
       "      <td>0.9625</td>\n",
       "      <td>12.877146</td>\n",
       "      <td>True</td>\n",
       "      <td>None</td>\n",
       "      <td>None</td>\n",
       "      <td>10</td>\n",
       "      <td>6fe5ee93539148baa431cb0473c73e0d</td>\n",
       "      <td>2022-01-02_21-15-26</td>\n",
       "      <td>1641129326</td>\n",
       "      <td>137.528468</td>\n",
       "      <td>22708</td>\n",
       "      <td>bigpc</td>\n",
       "      <td>127.0.0.1</td>\n",
       "      <td>137.528468</td>\n",
       "      <td>0</td>\n",
       "      <td>10</td>\n",
       "      <td>1_lr=0.1,momentum=0.40992</td>\n",
       "      <td>0.10</td>\n",
       "      <td>0.409923</td>\n",
       "    </tr>\n",
       "    <tr>\n",
       "      <th>632aa_00002</th>\n",
       "      <td>0.1135</td>\n",
       "      <td>13.038788</td>\n",
       "      <td>True</td>\n",
       "      <td>None</td>\n",
       "      <td>None</td>\n",
       "      <td>10</td>\n",
       "      <td>8705d0f4763f47c1be798a6faf64cc65</td>\n",
       "      <td>2022-01-02_21-17-52</td>\n",
       "      <td>1641129472</td>\n",
       "      <td>138.692333</td>\n",
       "      <td>21072</td>\n",
       "      <td>bigpc</td>\n",
       "      <td>127.0.0.1</td>\n",
       "      <td>138.692333</td>\n",
       "      <td>0</td>\n",
       "      <td>10</td>\n",
       "      <td>2_lr=0.5,momentum=0.65104</td>\n",
       "      <td>0.50</td>\n",
       "      <td>0.651037</td>\n",
       "    </tr>\n",
       "  </tbody>\n",
       "</table></div>"
      ],
      "text/plain": [
       "             mean_accuracy  time_this_iter_s  done timesteps_total  \\\n",
       "trial_id                                                             \n",
       "632aa_00000         0.9644         13.312184  True            None   \n",
       "632aa_00001         0.9625         12.877146  True            None   \n",
       "632aa_00002         0.1135         13.038788  True            None   \n",
       "\n",
       "            episodes_total  training_iteration  \\\n",
       "trial_id                                         \n",
       "632aa_00000           None                  10   \n",
       "632aa_00001           None                  10   \n",
       "632aa_00002           None                  10   \n",
       "\n",
       "                                experiment_id                 date  \\\n",
       "trial_id                                                             \n",
       "632aa_00000  e635b4cc50164158a2385aeed6bf481e  2022-01-02_21-13-06   \n",
       "632aa_00001  6fe5ee93539148baa431cb0473c73e0d  2022-01-02_21-15-26   \n",
       "632aa_00002  8705d0f4763f47c1be798a6faf64cc65  2022-01-02_21-17-52   \n",
       "\n",
       "              timestamp  time_total_s    pid hostname    node_ip  \\\n",
       "trial_id                                                           \n",
       "632aa_00000  1641129186    142.228140  21828    bigpc  127.0.0.1   \n",
       "632aa_00001  1641129326    137.528468  22708    bigpc  127.0.0.1   \n",
       "632aa_00002  1641129472    138.692333  21072    bigpc  127.0.0.1   \n",
       "\n",
       "             time_since_restore  timesteps_since_restore  \\\n",
       "trial_id                                                   \n",
       "632aa_00000          142.228140                        0   \n",
       "632aa_00001          137.528468                        0   \n",
       "632aa_00002          138.692333                        0   \n",
       "\n",
       "             iterations_since_restore             experiment_tag  config.lr  \\\n",
       "trial_id                                                                      \n",
       "632aa_00000                        10  0_lr=0.01,momentum=0.6208       0.01   \n",
       "632aa_00001                        10  1_lr=0.1,momentum=0.40992       0.10   \n",
       "632aa_00002                        10  2_lr=0.5,momentum=0.65104       0.50   \n",
       "\n",
       "             config.momentum  \n",
       "trial_id                      \n",
       "632aa_00000         0.620798  \n",
       "632aa_00001         0.409923  \n",
       "632aa_00002         0.651037  "
      ]
     },
     "execution_count": 109,
     "metadata": {},
     "output_type": "execute_result"
    }
   ],
   "source": [
    "analysis.results_df"
   ]
  },
  {
   "cell_type": "markdown",
   "metadata": {},
   "source": [
    "## 取得最佳模型參數"
   ]
  },
  {
   "cell_type": "code",
   "execution_count": 79,
   "metadata": {},
   "outputs": [
    {
     "data": {
      "text/plain": [
       "{'lr': 0.01, 'momentum': 0.6207983646235925}"
      ]
     },
     "execution_count": 79,
     "metadata": {},
     "output_type": "execute_result"
    }
   ],
   "source": [
    "best_trial = analysis.get_best_trial(\"mean_accuracy\", \"max\", \"last\")\n",
    "best_trial.config"
   ]
  },
  {
   "cell_type": "markdown",
   "metadata": {},
   "source": [
    "## 載入最佳模型"
   ]
  },
  {
   "cell_type": "code",
   "execution_count": 75,
   "metadata": {
    "scrolled": true
   },
   "outputs": [
    {
     "data": {
      "text/plain": [
       "<All keys matched successfully>"
      ]
     },
     "execution_count": 75,
     "metadata": {},
     "output_type": "execute_result"
    }
   ],
   "source": [
    "logdir = analysis.get_best_logdir(\"mean_accuracy\", mode=\"max\")\n",
    "state_dict = torch.load(os.path.join(logdir, \"model.pth\"))\n",
    "\n",
    "model = ConvNet().to(device)\n",
    "model.load_state_dict(state_dict)"
   ]
  },
  {
   "cell_type": "markdown",
   "metadata": {},
   "source": [
    "## 測試資料評分(Score Model)"
   ]
  },
  {
   "cell_type": "code",
   "execution_count": 50,
   "metadata": {},
   "outputs": [
    {
     "name": "stdout",
     "output_type": "stream",
     "text": [
      "準確率: 9722/10000 (97%)\n",
      "\n"
     ]
    }
   ],
   "source": [
    "test_ds = datasets.MNIST('', train=False, download=True, transform=mnist_transforms)\n",
    "\n",
    "# 建立 DataLoader\n",
    "test_loader = DataLoader(test_ds, shuffle=False, batch_size=1000)\n",
    "\n",
    "model.eval()\n",
    "correct = 0\n",
    "with torch.no_grad():\n",
    "    for data, target in test_loader:\n",
    "        data, target = data.to(device), target.to(device)\n",
    "        output = model(data)\n",
    "        \n",
    "        # 正確筆數\n",
    "        _, predicted = torch.max(output, 1)\n",
    "        correct += (predicted == target).sum().item()\n",
    "\n",
    "# 顯示測試結果\n",
    "data_count = len(test_loader.dataset)\n",
    "percentage = 100.0 * correct / data_count\n",
    "print(f'準確率: {correct}/{data_count} ({percentage:.0f}%)\\n')"
   ]
  },
  {
   "cell_type": "code",
   "execution_count": null,
   "metadata": {},
   "outputs": [],
   "source": []
  }
 ],
 "metadata": {
  "kernelspec": {
   "display_name": "Python 3",
   "language": "python",
   "name": "python3"
  },
  "language_info": {
   "codemirror_mode": {
    "name": "ipython",
    "version": 3
   },
   "file_extension": ".py",
   "mimetype": "text/x-python",
   "name": "python",
   "nbconvert_exporter": "python",
   "pygments_lexer": "ipython3",
   "version": "3.8.8"
  }
 },
 "nbformat": 4,
 "nbformat_minor": 4
}
