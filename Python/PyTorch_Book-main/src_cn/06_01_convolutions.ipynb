{
 "cells": [
  {
   "cell_type": "markdown",
   "metadata": {},
   "source": [
    "# 卷积"
   ]
  },
  {
   "cell_type": "markdown",
   "metadata": {},
   "source": [
    "## 范例1. 使用程式计算卷积"
   ]
  },
  {
   "cell_type": "code",
   "execution_count": 1,
   "metadata": {},
   "outputs": [
    {
     "name": "stdout",
     "output_type": "stream",
     "text": [
      "原始资料：\n",
      "[[1 1 1 0 0]\n",
      " [0 1 1 1 0]\n",
      " [0 0 1 1 1]\n",
      " [0 0 1 1 0]\n",
      " [0 1 1 0 0]]\n",
      "\n",
      "滤波器:\n",
      "[[1 0 1]\n",
      " [0 1 0]\n",
      " [1 0 1]]\n"
     ]
    }
   ],
   "source": [
    "import numpy as np\n",
    "\n",
    "# 测试资料\n",
    "source_map = np.array(list('1110001110001110011001100')).astype(np.int)\n",
    "source_map = source_map.reshape(5,5)\n",
    "print('原始资料：')\n",
    "print(source_map)\n",
    "\n",
    "# 滤波器(Filter)\n",
    "filter1 = np.array(list('101010101')).astype(np.int).reshape(3,3)\n",
    "print('\\n滤波器:')\n",
    "print(filter1)"
   ]
  },
  {
   "cell_type": "code",
   "execution_count": 2,
   "metadata": {},
   "outputs": [
    {
     "name": "stdout",
     "output_type": "stream",
     "text": [
      "[[4. 3. 4.]\n",
      " [2. 4. 3.]\n",
      " [2. 3. 4.]]\n"
     ]
    }
   ],
   "source": [
    "# 计算卷积\n",
    "# 初始化计算结果的矩阵\n",
    "width = height = source_map.shape[0] - filter1.shape[0] + 1\n",
    "result = np.zeros((width, height))\n",
    "\n",
    "# 计算每一格\n",
    "for i in range(width):\n",
    "    for j in range(height):\n",
    "        value1 =source_map[i:i+filter1.shape[0], j:j+filter1.shape[1]] * filter1\n",
    "        result[i, j] = np.sum(value1)\n",
    "print(result)"
   ]
  },
  {
   "cell_type": "code",
   "execution_count": 4,
   "metadata": {
    "scrolled": true
   },
   "outputs": [
    {
     "data": {
      "text/plain": [
       "array([[4, 3, 4],\n",
       "       [2, 4, 3],\n",
       "       [2, 3, 4]])"
      ]
     },
     "execution_count": 4,
     "metadata": {},
     "output_type": "execute_result"
    }
   ],
   "source": [
    "# 使用 scipy 计算卷积\n",
    "from scipy.signal import convolve2d\n",
    "\n",
    "# convolve2d：二维卷积\n",
    "convolve2d(source_map, filter1, mode='valid')"
   ]
  },
  {
   "cell_type": "markdown",
   "metadata": {},
   "source": [
    "## 定义卷积的影像转换函数"
   ]
  },
  {
   "cell_type": "code",
   "execution_count": 9,
   "metadata": {},
   "outputs": [],
   "source": [
    "# 卷积的影像转换函数，padding='same'\n",
    "from skimage.exposure import rescale_intensity\n",
    "\n",
    "def convolve(image, kernel):\n",
    "    # 取得图像与滤波器的宽高\n",
    "    (iH, iW) = image.shape[:2]\n",
    "    (kH, kW) = kernel.shape[:2]\n",
    "\n",
    "    # 计算 padding='same' 单边所需的补零行数\n",
    "    pad = int((kW - 1) / 2)\n",
    "    image = cv2.copyMakeBorder(image, pad, pad, pad, pad, cv2.BORDER_REPLICATE)\n",
    "    output = np.zeros((iH, iW), dtype=\"float32\")\n",
    "\n",
    "    # 卷积\n",
    "    for y in np.arange(pad, iH + pad):\n",
    "        for x in np.arange(pad, iW + pad):            \n",
    "            roi = image[y - pad:y + pad + 1, x - pad:x + pad + 1]  # 裁切图像            \n",
    "            k = (roi * kernel).sum()                               # 卷积计算\n",
    "            output[y - pad, x - pad] = k                           # 更新计算结果的矩阵 \n",
    "\n",
    "    # 调整影像色彩深浅范围至 (0, 255)\n",
    "    output = rescale_intensity(output, in_range=(0, 255))\n",
    "    output = (output * 255).astype(\"uint8\")\n",
    "   \n",
    "    return output     # 回传结果影像"
   ]
  },
  {
   "cell_type": "markdown",
   "metadata": {},
   "source": [
    "## 灰阶化(Gray)"
   ]
  },
  {
   "cell_type": "code",
   "execution_count": 21,
   "metadata": {},
   "outputs": [],
   "source": [
    "# pip install opencv-python\n",
    "import skimage\n",
    "import cv2\n",
    "\n",
    "# 自 skimage 取得内建的图像\n",
    "image = skimage.data.chelsea()\n",
    "cv2.imshow(\"original\", image)\n",
    "\n",
    "# 灰阶化\n",
    "gray = cv2.cvtColor(image, cv2.COLOR_BGR2GRAY)\n",
    "cv2.imshow(\"gray\", gray)\n",
    "\n",
    "# 按 Enter 关闭视窗\n",
    "cv2.waitKey(0)\n",
    "cv2.destroyAllWindows()"
   ]
  },
  {
   "cell_type": "markdown",
   "metadata": {},
   "source": [
    "## 模糊化(Blur)"
   ]
  },
  {
   "cell_type": "code",
   "execution_count": 22,
   "metadata": {},
   "outputs": [],
   "source": [
    "# 小模糊 filter\n",
    "smallBlur = np.ones((7, 7), dtype=\"float\") * (1.0 / (7 * 7))\n",
    "\n",
    "# 卷积\n",
    "convoleOutput = convolve(gray, smallBlur)\n",
    "opencvOutput = cv2.filter2D(gray, -1, smallBlur)\n",
    "cv2.imshow(\"little Blur\", convoleOutput)\n",
    "\n",
    "# 大模糊\n",
    "largeBlur = np.ones((21, 21), dtype=\"float\") * (1.0 / (21 * 21))\n",
    "\n",
    "# 卷积\n",
    "convoleOutput = convolve(gray, largeBlur)\n",
    "opencvOutput = cv2.filter2D(gray, -1, largeBlur)\n",
    "cv2.imshow(\"large Blur\", convoleOutput)\n",
    "\n",
    "# 按 Enter 关闭视窗\n",
    "cv2.waitKey(0)\n",
    "cv2.destroyAllWindows()"
   ]
  },
  {
   "cell_type": "markdown",
   "metadata": {},
   "source": [
    "## 锐化(sharpen)"
   ]
  },
  {
   "cell_type": "code",
   "execution_count": 24,
   "metadata": {},
   "outputs": [],
   "source": [
    "# sharpening filter\n",
    "sharpen = np.array((\n",
    "    [0, -1, 0],\n",
    "    [-1, 5, -1],\n",
    "    [0, -1, 0]), dtype=\"int\")\n",
    "\n",
    "# 卷积\n",
    "convoleOutput = convolve(gray, sharpen)\n",
    "opencvOutput = cv2.filter2D(gray, -1, sharpen)\n",
    "cv2.imshow(\"sharpen\", convoleOutput)\n",
    "\n",
    "# 按 Enter 关闭视窗\n",
    "cv2.waitKey(0)\n",
    "cv2.destroyAllWindows()"
   ]
  },
  {
   "cell_type": "markdown",
   "metadata": {},
   "source": [
    "## Laplacian 边缘侦测"
   ]
  },
  {
   "cell_type": "code",
   "execution_count": 25,
   "metadata": {},
   "outputs": [],
   "source": [
    "# Laplacian filter\n",
    "laplacian = np.array((\n",
    "    [0, 1, 0],\n",
    "    [1, -4, 1],\n",
    "    [0, 1, 0]), dtype=\"int\")\n",
    "\n",
    "# 卷积\n",
    "convoleOutput = convolve(gray, laplacian)\n",
    "opencvOutput = cv2.filter2D(gray, -1, laplacian)\n",
    "cv2.imshow(\"laplacian edge detection\", convoleOutput)\n",
    "\n",
    "# 按 Enter 关闭视窗\n",
    "cv2.waitKey(0)\n",
    "cv2.destroyAllWindows()"
   ]
  },
  {
   "cell_type": "markdown",
   "metadata": {},
   "source": [
    "## Sobel X轴边缘侦测"
   ]
  },
  {
   "cell_type": "code",
   "execution_count": 26,
   "metadata": {},
   "outputs": [],
   "source": [
    "# Sobel x-axis filter\n",
    "sobelX = np.array((\n",
    "    [-1, 0, 1],\n",
    "    [-2, 0, 2],\n",
    "    [-1, 0, 1]), dtype=\"int\")\n",
    "\n",
    "# 卷积\n",
    "convoleOutput = convolve(gray, sobelX)\n",
    "opencvOutput = cv2.filter2D(gray, -1, sobelX)\n",
    "cv2.imshow(\"x-axis edge detection\", convoleOutput)\n",
    "\n",
    "# 按 Enter 关闭视窗\n",
    "cv2.waitKey(0)\n",
    "cv2.destroyAllWindows()"
   ]
  },
  {
   "cell_type": "markdown",
   "metadata": {},
   "source": [
    "## Sobel Y轴边缘侦测"
   ]
  },
  {
   "cell_type": "code",
   "execution_count": 27,
   "metadata": {},
   "outputs": [],
   "source": [
    "# Sobel y-axis filter\n",
    "sobelY = np.array((\n",
    "    [-1, -2, -1],\n",
    "    [0, 0, 0],\n",
    "    [1, 2, 1]), dtype=\"int\")\n",
    "\n",
    "# 卷积\n",
    "convoleOutput = convolve(gray, sobelY)\n",
    "opencvOutput = cv2.filter2D(gray, -1, sobelY)\n",
    "cv2.imshow(\"y-axis edge detection\", convoleOutput)\n",
    "\n",
    "# 按 Enter 关闭视窗\n",
    "cv2.waitKey(0)\n",
    "cv2.destroyAllWindows()"
   ]
  },
  {
   "cell_type": "code",
   "execution_count": null,
   "metadata": {},
   "outputs": [],
   "source": []
  }
 ],
 "metadata": {
  "kernelspec": {
   "display_name": "Python 3 (ipykernel)",
   "language": "python",
   "name": "python3"
  },
  "language_info": {
   "codemirror_mode": {
    "name": "ipython",
    "version": 3
   },
   "file_extension": ".py",
   "mimetype": "text/x-python",
   "name": "python",
   "nbconvert_exporter": "python",
   "pygments_lexer": "ipython3",
   "version": "3.9.7"
  }
 },
 "nbformat": 4,
 "nbformat_minor": 2
}
