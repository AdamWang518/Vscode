{
 "cells": [
  {
   "cell_type": "markdown",
   "metadata": {},
   "source": [
    "# 線性代數"
   ]
  },
  {
   "cell_type": "markdown",
   "metadata": {},
   "source": [
    "## 向量(Vector)"
   ]
  },
  {
   "cell_type": "code",
   "execution_count": 12,
   "metadata": {},
   "outputs": [],
   "source": [
    "# 載入套件\n",
    "import torch"
   ]
  },
  {
   "cell_type": "code",
   "execution_count": 1,
   "metadata": {},
   "outputs": [
    {
     "data": {
      "image/png": "[encoded data removed]",
      "text/plain": [
       "<Figure size 432x288 with 1 Axes>"
      ]
     },
     "metadata": {
      "needs_background": "light"
     },
     "output_type": "display_data"
    }
   ],
   "source": [
    "# 載入套件\n",
    "import numpy as np\n",
    "import matplotlib.pyplot as plt\n",
    "\n",
    "# 向量(Vector)\n",
    "v = np.array([2,1])\n",
    "\n",
    "# 作圖\n",
    "plt.axis('equal')\n",
    "plt.grid()\n",
    "\n",
    "# 原點\n",
    "origin = [0], [0]\n",
    "\n",
    "# 畫有箭頭的線\n",
    "plt.quiver(*origin, *v, scale=10, color='r')\n",
    "\n",
    "plt.xticks(np.arange(-0.05, 0.06, 0.01), labels=np.arange(-5, 6, 1))\n",
    "plt.yticks(np.arange(-3, 5, 1) / 100, labels=np.arange(-3, 5, 1))\n",
    "plt.show()"
   ]
  },
  {
   "cell_type": "markdown",
   "metadata": {},
   "source": [
    "## 向量長度(magnitude)計算"
   ]
  },
  {
   "cell_type": "code",
   "execution_count": 2,
   "metadata": {},
   "outputs": [
    {
     "data": {
      "image/png": "[encoded data removed]",
      "text/plain": [
       "<IPython.core.display.Image object>"
      ]
     },
     "execution_count": 2,
     "metadata": {},
     "output_type": "execute_result"
    }
   ],
   "source": [
    "from IPython.display import Image\n",
    "Image('./images/長度(magnitude).png')"
   ]
  },
  {
   "cell_type": "code",
   "execution_count": 3,
   "metadata": {},
   "outputs": [
    {
     "data": {
      "text/plain": [
       "2.23606797749979"
      ]
     },
     "execution_count": 3,
     "metadata": {},
     "output_type": "execute_result"
    }
   ],
   "source": [
    "# 向量(Vector)\n",
    "v = np.array([2,1])\n",
    "\n",
    "# 向量長度(magnitude)計算\n",
    "(v[0]**2 + v[1]**2) ** (1/2)"
   ]
  },
  {
   "cell_type": "code",
   "execution_count": 4,
   "metadata": {},
   "outputs": [
    {
     "name": "stdout",
     "output_type": "stream",
     "text": [
      "2.23606797749979\n"
     ]
    }
   ],
   "source": [
    "# 使用 np.linalg.norm() 計算向量長度(magnitude)\n",
    "import numpy as np\n",
    "\n",
    "magnitude = np.linalg.norm(v)\n",
    "print(magnitude)"
   ]
  },
  {
   "cell_type": "code",
   "execution_count": 10,
   "metadata": {},
   "outputs": [
    {
     "data": {
      "text/plain": [
       "tensor(2.2361)"
      ]
     },
     "execution_count": 10,
     "metadata": {},
     "output_type": "execute_result"
    }
   ],
   "source": [
    "# 使用 PyTorch\n",
    "torch.linalg.norm(torch.FloatTensor(v))"
   ]
  },
  {
   "cell_type": "markdown",
   "metadata": {},
   "source": [
    "## 計算方向(direction)"
   ]
  },
  {
   "cell_type": "code",
   "execution_count": 11,
   "metadata": {},
   "outputs": [
    {
     "name": "stdout",
     "output_type": "stream",
     "text": [
      "tan(θ) = 1/2\n",
      "弳度(radian) = 0.4636\n",
      "角度(degree) = 26.57\n",
      "角度(degree) = 26.57\n"
     ]
    }
   ],
   "source": [
    "import math\n",
    "import numpy as np\n",
    "\n",
    "# 向量(Vector)\n",
    "v = np.array([2,1])\n",
    "\n",
    "vTan = v[1] / v[0]\n",
    "print ('tan(θ) = 1/2')\n",
    "\n",
    "theta = math.atan(vTan)\n",
    "print('弳度(radian) =', round(theta,4))\n",
    "print('角度(degree) =', round(theta*180/math.pi, 2))\n",
    "\n",
    "# 也可以使用 math.degrees() 轉換角度\n",
    "print('角度(degree) =', round(math.degrees(theta), 2))"
   ]
  },
  {
   "cell_type": "markdown",
   "metadata": {},
   "source": [
    "## 向量加法：加減一個常數，長度、方向均改變"
   ]
  },
  {
   "cell_type": "code",
   "execution_count": 13,
   "metadata": {},
   "outputs": [
    {
     "data": {
      "image/png": "[encoded data removed]",
      "text/plain": [
       "<Figure size 432x288 with 1 Axes>"
      ]
     },
     "metadata": {
      "needs_background": "light"
     },
     "output_type": "display_data"
    }
   ],
   "source": [
    "# 載入套件\n",
    "import numpy as np\n",
    "import matplotlib.pyplot as plt\n",
    "\n",
    "# 向量(Vector) + 2\n",
    "v = np.array([2,1])\n",
    "v1 = np.array([2,1]) + 2\n",
    "v2 = np.array([2,1]) - 2\n",
    "\n",
    "# 原點\n",
    "origin = [0], [0]\n",
    "\n",
    "# 畫有箭頭的線\n",
    "plt.quiver(*origin, *v1, scale=10, color='r')\n",
    "plt.quiver(*origin, *v, scale=10, color='b')\n",
    "plt.quiver(*origin, *v2, scale=10, color='g')\n",
    "\n",
    "plt.annotate('orginal vector',(0.025, 0.01), xycoords='data'\n",
    "            , fontsize=16)\n",
    "\n",
    "# 作圖\n",
    "plt.axis('equal')\n",
    "plt.grid()\n",
    "\n",
    "plt.xticks(np.arange(-0.05, 0.06, 0.01), labels=np.arange(-5, 6, 1))\n",
    "plt.yticks(np.arange(-3, 5, 1) / 100, labels=np.arange(-3, 5, 1))\n",
    "plt.show()"
   ]
  },
  {
   "cell_type": "markdown",
   "metadata": {},
   "source": [
    "## 向量乘除法：乘除一個常數，長度改變、方向不改變"
   ]
  },
  {
   "cell_type": "code",
   "execution_count": 14,
   "metadata": {},
   "outputs": [
    {
     "data": {
      "image/png": "[encoded data removed]",
      "text/plain": [
       "<Figure size 432x288 with 1 Axes>"
      ]
     },
     "metadata": {
      "needs_background": "light"
     },
     "output_type": "display_data"
    }
   ],
   "source": [
    "# 載入套件\n",
    "import numpy as np\n",
    "import matplotlib.pyplot as plt\n",
    "\n",
    "# 向量(Vector) * 2\n",
    "v = np.array([2,1])\n",
    "v1 = np.array([2,1]) * 2\n",
    "v2 = np.array([2,1]) / 2\n",
    "\n",
    "# 原點\n",
    "origin = [0], [0]\n",
    "\n",
    "# 畫有箭頭的線\n",
    "plt.quiver(*origin, *v1, scale=10, color='r')\n",
    "plt.quiver(*origin, *v, scale=10, color='b')\n",
    "plt.quiver(*origin, *v2, scale=10, color='g')\n",
    "\n",
    "plt.annotate('orginal vector',(0.025, 0.008), xycoords='data'\n",
    "            , color='b', fontsize=16)\n",
    "\n",
    "# 作圖\n",
    "plt.axis('equal')\n",
    "plt.grid()\n",
    "\n",
    "plt.xticks(np.arange(-0.05, 0.06, 0.01), labels=np.arange(-5, 6, 1))\n",
    "plt.yticks(np.arange(-3, 5, 1) / 100, labels=np.arange(-3, 5, 1))\n",
    "plt.show()"
   ]
  },
  {
   "cell_type": "markdown",
   "metadata": {},
   "source": [
    "## 向量加減乘除另一個向量：兩個向量的相同位置的元素作加減乘除。"
   ]
  },
  {
   "cell_type": "code",
   "execution_count": 15,
   "metadata": {},
   "outputs": [
    {
     "data": {
      "image/png": "[encoded data removed]",
      "text/plain": [
       "<Figure size 432x288 with 1 Axes>"
      ]
     },
     "metadata": {
      "needs_background": "light"
     },
     "output_type": "display_data"
    }
   ],
   "source": [
    "# 載入套件\n",
    "import numpy as np\n",
    "import matplotlib.pyplot as plt\n",
    "\n",
    "# 向量(Vector) * 2\n",
    "v = np.array([2,1])\n",
    "s = np.array([-3,2])\n",
    "v2 = v+s\n",
    "\n",
    "# 原點\n",
    "origin = [0], [0]\n",
    "\n",
    "# 畫有箭頭的線\n",
    "plt.quiver(*origin, *v, scale=10, color='b')\n",
    "plt.quiver(*origin, *s, scale=10, color='b')\n",
    "plt.quiver(*origin, *v2, scale=10, color='g')\n",
    "\n",
    "plt.annotate('orginal vector',(0.025, 0.008), xycoords='data'\n",
    "            , color='b', fontsize=16)\n",
    "\n",
    "# 作圖\n",
    "plt.axis('equal')\n",
    "plt.grid()\n",
    "\n",
    "plt.xticks(np.arange(-0.05, 0.06, 0.01), labels=np.arange(-5, 6, 1))\n",
    "plt.yticks(np.arange(-3, 5, 1) / 100, labels=np.arange(-3, 5, 1))\n",
    "plt.show()"
   ]
  },
  {
   "cell_type": "markdown",
   "metadata": {},
   "source": [
    "## 『內積』(Inner Product)或稱『點積乘法』(Dot Product)"
   ]
  },
  {
   "cell_type": "code",
   "execution_count": 17,
   "metadata": {},
   "outputs": [
    {
     "name": "stdout",
     "output_type": "stream",
     "text": [
      "-4\n"
     ]
    }
   ],
   "source": [
    "# 載入套件\n",
    "import numpy as np\n",
    "\n",
    "# 向量(Vector)\n",
    "v = np.array([2,1])\n",
    "s = np.array([-3,2])\n",
    "\n",
    "# 內積\n",
    "d = v @ s # 或 np.dot(v, s)、v.dot(s)\n",
    "\n",
    "print (d)"
   ]
  },
  {
   "cell_type": "markdown",
   "metadata": {},
   "source": [
    "## 計算夾角 θ"
   ]
  },
  {
   "cell_type": "code",
   "execution_count": 16,
   "metadata": {},
   "outputs": [
    {
     "name": "stdout",
     "output_type": "stream",
     "text": [
      "119.74488129694222\n"
     ]
    }
   ],
   "source": [
    "# 載入套件\n",
    "import math\n",
    "import numpy as np\n",
    "\n",
    "# 向量(Vector)\n",
    "v = np.array([2,1])\n",
    "s = np.array([-3,2])\n",
    "\n",
    "# 計算長度(magnitudes)\n",
    "vMag = np.linalg.norm(v)\n",
    "sMag = np.linalg.norm(s)\n",
    "\n",
    "# 計算 cosine(θ)\n",
    "cos = (v @ s) / (vMag * sMag)\n",
    "\n",
    "# 計算 θ\n",
    "theta = math.degrees(math.acos(cos))\n",
    "\n",
    "print(theta)"
   ]
  },
  {
   "cell_type": "markdown",
   "metadata": {},
   "source": [
    "# 矩陣(Matrix)"
   ]
  },
  {
   "cell_type": "markdown",
   "metadata": {},
   "source": [
    "## 矩陣加法"
   ]
  },
  {
   "cell_type": "code",
   "execution_count": 18,
   "metadata": {},
   "outputs": [
    {
     "name": "stdout",
     "output_type": "stream",
     "text": [
      "[[7 7 7]\n",
      " [7 7 7]]\n"
     ]
    }
   ],
   "source": [
    "# 載入套件\n",
    "import numpy as np\n",
    "\n",
    "# 矩陣\n",
    "A = np.array([[1,2,3],\n",
    "              [4,5,6]])\n",
    "B = np.array([[6,5,4],\n",
    "              [3,2,1]])\n",
    "\n",
    "# 加法\n",
    "print(A + B)"
   ]
  },
  {
   "cell_type": "markdown",
   "metadata": {},
   "source": [
    "## 矩陣減法"
   ]
  },
  {
   "cell_type": "code",
   "execution_count": null,
   "metadata": {},
   "outputs": [],
   "source": [
    "# 減法\n",
    "print(A - B)"
   ]
  },
  {
   "cell_type": "markdown",
   "metadata": {},
   "source": [
    "## 矩陣乘法"
   ]
  },
  {
   "cell_type": "code",
   "execution_count": 19,
   "metadata": {},
   "outputs": [
    {
     "name": "stdout",
     "output_type": "stream",
     "text": [
      "[[ 38  32]\n",
      " [101  86]]\n"
     ]
    }
   ],
   "source": [
    "# 矩陣\n",
    "A = np.array([[1,2,3],\n",
    "              [4,5,6]])\n",
    "B = np.array([[9,8],\n",
    "              [7,6],\n",
    "              [5,4],\n",
    "             ])\n",
    "\n",
    "# 乘法\n",
    "print(A @ B)"
   ]
  },
  {
   "cell_type": "code",
   "execution_count": 20,
   "metadata": {},
   "outputs": [
    {
     "name": "stdout",
     "output_type": "stream",
     "text": [
      "[[23 20]\n",
      " [71 62]]\n",
      "\n",
      "[[41 58]\n",
      " [31 44]]\n",
      "\n",
      "A x B != B x A\n"
     ]
    }
   ],
   "source": [
    "# 乘法：A x B != B x A\n",
    "\n",
    "A = np.array([[1,2],\n",
    "              [4,5]])\n",
    "B = np.array([[9,8],\n",
    "              [7,6],\n",
    "             ])\n",
    "\n",
    "print(A @ B)\n",
    "print()\n",
    "print(B @ A)\n",
    "print()\n",
    "print('A x B != B x A')"
   ]
  },
  {
   "cell_type": "markdown",
   "metadata": {},
   "source": [
    "## 轉置矩陣"
   ]
  },
  {
   "cell_type": "code",
   "execution_count": 22,
   "metadata": {},
   "outputs": [
    {
     "name": "stdout",
     "output_type": "stream",
     "text": [
      "[[1 4]\n",
      " [2 5]\n",
      " [3 6]]\n"
     ]
    }
   ],
   "source": [
    "A = np.array([[1,2,3],\n",
    "              [4,5,6]])\n",
    "\n",
    "# 轉置矩陣\n",
    "print(A.T) # 或 np.transpose(A)"
   ]
  },
  {
   "cell_type": "markdown",
   "metadata": {},
   "source": [
    "## 反矩陣"
   ]
  },
  {
   "cell_type": "code",
   "execution_count": 25,
   "metadata": {},
   "outputs": [
    {
     "name": "stdout",
     "output_type": "stream",
     "text": [
      "[[ 0.5        -3.66666667  2.16666667]\n",
      " [-1.          4.33333333 -2.33333333]\n",
      " [ 0.5        -1.          0.5       ]]\n"
     ]
    }
   ],
   "source": [
    "A = np.array([[1,2,5],\n",
    "              [4,5,6],\n",
    "              [7,8,9],\n",
    "             ])\n",
    "print(np.linalg.inv(A))"
   ]
  },
  {
   "cell_type": "code",
   "execution_count": 26,
   "metadata": {},
   "outputs": [
    {
     "ename": "LinAlgError",
     "evalue": "Singular matrix",
     "output_type": "error",
     "traceback": [
      "\u001b[1;31m---------------------------------------------------------------------------\u001b[0m",
      "\u001b[1;31mLinAlgError\u001b[0m                               Traceback (most recent call last)",
      "\u001b[1;32m<ipython-input-26-4397c1defb34>\u001b[0m in \u001b[0;36m<module>\u001b[1;34m\u001b[0m\n\u001b[0;32m      3\u001b[0m               \u001b[1;33m[\u001b[0m\u001b[1;36m7\u001b[0m\u001b[1;33m,\u001b[0m\u001b[1;36m8\u001b[0m\u001b[1;33m,\u001b[0m\u001b[1;36m9\u001b[0m\u001b[1;33m]\u001b[0m\u001b[1;33m,\u001b[0m\u001b[1;33m\u001b[0m\u001b[1;33m\u001b[0m\u001b[0m\n\u001b[0;32m      4\u001b[0m              ])\n\u001b[1;32m----> 5\u001b[1;33m \u001b[0mprint\u001b[0m\u001b[1;33m(\u001b[0m\u001b[0mnp\u001b[0m\u001b[1;33m.\u001b[0m\u001b[0mlinalg\u001b[0m\u001b[1;33m.\u001b[0m\u001b[0minv\u001b[0m\u001b[1;33m(\u001b[0m\u001b[0mA\u001b[0m\u001b[1;33m)\u001b[0m\u001b[1;33m)\u001b[0m\u001b[1;33m\u001b[0m\u001b[1;33m\u001b[0m\u001b[0m\n\u001b[0m",
      "\u001b[1;32m<__array_function__ internals>\u001b[0m in \u001b[0;36minv\u001b[1;34m(*args, **kwargs)\u001b[0m\n",
      "\u001b[1;32mf:\\anaconda3\\lib\\site-packages\\numpy\\linalg\\linalg.py\u001b[0m in \u001b[0;36minv\u001b[1;34m(a)\u001b[0m\n\u001b[0;32m    544\u001b[0m     \u001b[0msignature\u001b[0m \u001b[1;33m=\u001b[0m \u001b[1;34m'D->D'\u001b[0m \u001b[1;32mif\u001b[0m \u001b[0misComplexType\u001b[0m\u001b[1;33m(\u001b[0m\u001b[0mt\u001b[0m\u001b[1;33m)\u001b[0m \u001b[1;32melse\u001b[0m \u001b[1;34m'd->d'\u001b[0m\u001b[1;33m\u001b[0m\u001b[1;33m\u001b[0m\u001b[0m\n\u001b[0;32m    545\u001b[0m     \u001b[0mextobj\u001b[0m \u001b[1;33m=\u001b[0m \u001b[0mget_linalg_error_extobj\u001b[0m\u001b[1;33m(\u001b[0m\u001b[0m_raise_linalgerror_singular\u001b[0m\u001b[1;33m)\u001b[0m\u001b[1;33m\u001b[0m\u001b[1;33m\u001b[0m\u001b[0m\n\u001b[1;32m--> 546\u001b[1;33m     \u001b[0mainv\u001b[0m \u001b[1;33m=\u001b[0m \u001b[0m_umath_linalg\u001b[0m\u001b[1;33m.\u001b[0m\u001b[0minv\u001b[0m\u001b[1;33m(\u001b[0m\u001b[0ma\u001b[0m\u001b[1;33m,\u001b[0m \u001b[0msignature\u001b[0m\u001b[1;33m=\u001b[0m\u001b[0msignature\u001b[0m\u001b[1;33m,\u001b[0m \u001b[0mextobj\u001b[0m\u001b[1;33m=\u001b[0m\u001b[0mextobj\u001b[0m\u001b[1;33m)\u001b[0m\u001b[1;33m\u001b[0m\u001b[1;33m\u001b[0m\u001b[0m\n\u001b[0m\u001b[0;32m    547\u001b[0m     \u001b[1;32mreturn\u001b[0m \u001b[0mwrap\u001b[0m\u001b[1;33m(\u001b[0m\u001b[0mainv\u001b[0m\u001b[1;33m.\u001b[0m\u001b[0mastype\u001b[0m\u001b[1;33m(\u001b[0m\u001b[0mresult_t\u001b[0m\u001b[1;33m,\u001b[0m \u001b[0mcopy\u001b[0m\u001b[1;33m=\u001b[0m\u001b[1;32mFalse\u001b[0m\u001b[1;33m)\u001b[0m\u001b[1;33m)\u001b[0m\u001b[1;33m\u001b[0m\u001b[1;33m\u001b[0m\u001b[0m\n\u001b[0;32m    548\u001b[0m \u001b[1;33m\u001b[0m\u001b[0m\n",
      "\u001b[1;32mf:\\anaconda3\\lib\\site-packages\\numpy\\linalg\\linalg.py\u001b[0m in \u001b[0;36m_raise_linalgerror_singular\u001b[1;34m(err, flag)\u001b[0m\n\u001b[0;32m     86\u001b[0m \u001b[1;33m\u001b[0m\u001b[0m\n\u001b[0;32m     87\u001b[0m \u001b[1;32mdef\u001b[0m \u001b[0m_raise_linalgerror_singular\u001b[0m\u001b[1;33m(\u001b[0m\u001b[0merr\u001b[0m\u001b[1;33m,\u001b[0m \u001b[0mflag\u001b[0m\u001b[1;33m)\u001b[0m\u001b[1;33m:\u001b[0m\u001b[1;33m\u001b[0m\u001b[1;33m\u001b[0m\u001b[0m\n\u001b[1;32m---> 88\u001b[1;33m     \u001b[1;32mraise\u001b[0m \u001b[0mLinAlgError\u001b[0m\u001b[1;33m(\u001b[0m\u001b[1;34m\"Singular matrix\"\u001b[0m\u001b[1;33m)\u001b[0m\u001b[1;33m\u001b[0m\u001b[1;33m\u001b[0m\u001b[0m\n\u001b[0m\u001b[0;32m     89\u001b[0m \u001b[1;33m\u001b[0m\u001b[0m\n\u001b[0;32m     90\u001b[0m \u001b[1;32mdef\u001b[0m \u001b[0m_raise_linalgerror_nonposdef\u001b[0m\u001b[1;33m(\u001b[0m\u001b[0merr\u001b[0m\u001b[1;33m,\u001b[0m \u001b[0mflag\u001b[0m\u001b[1;33m)\u001b[0m\u001b[1;33m:\u001b[0m\u001b[1;33m\u001b[0m\u001b[1;33m\u001b[0m\u001b[0m\n",
      "\u001b[1;31mLinAlgError\u001b[0m: Singular matrix"
     ]
    }
   ],
   "source": [
    "# 奇異矩陣(Singular matrix) 無反矩陣\n",
    "A = np.array([[1,2,3],\n",
    "              [4,5,6],\n",
    "              [7,8,9],\n",
    "             ])\n",
    "print(np.linalg.inv(A))"
   ]
  },
  {
   "cell_type": "markdown",
   "metadata": {},
   "source": [
    "## A x A反矩陣 = 單位矩陣(I)"
   ]
  },
  {
   "cell_type": "code",
   "execution_count": 27,
   "metadata": {},
   "outputs": [
    {
     "name": "stdout",
     "output_type": "stream",
     "text": [
      "[[ 1.  0.]\n",
      " [-0.  1.]]\n"
     ]
    }
   ],
   "source": [
    "# A @ A反矩陣 = 單位矩陣(I)\n",
    "A = np.array([[9,8],\n",
    "              [7,6],\n",
    "             ])\n",
    "\n",
    "print(np.around(A @ np.linalg.inv(A)))"
   ]
  },
  {
   "cell_type": "code",
   "execution_count": 31,
   "metadata": {
    "scrolled": true
   },
   "outputs": [
    {
     "name": "stdout",
     "output_type": "stream",
     "text": [
      "[[ 1.  0.  0.]\n",
      " [-0.  1. -0.]\n",
      " [-0.  0.  1.]]\n"
     ]
    }
   ],
   "source": [
    "# A @ A反矩陣 = 單位矩陣(I)\n",
    "A = np.array([[1,2,4],\n",
    "              [4,7,6],\n",
    "              [7,8,9],\n",
    "             ])\n",
    "\n",
    "print(np.around(A @ np.linalg.inv(A)))"
   ]
  },
  {
   "cell_type": "markdown",
   "metadata": {},
   "source": [
    "## 『內積』(Inner Product)或稱『點積乘法』(Dot Product)"
   ]
  },
  {
   "cell_type": "code",
   "execution_count": 32,
   "metadata": {},
   "outputs": [
    {
     "name": "stdout",
     "output_type": "stream",
     "text": [
      "-4\n"
     ]
    }
   ],
   "source": [
    "# 載入套件\n",
    "import numpy as np\n",
    "\n",
    "# 向量(Vector)\n",
    "v = np.array([2,1])\n",
    "s = np.array([-3,2])\n",
    "\n",
    "# 內積\n",
    "d = v @ s  # 或 np.dot(v, s)、v.dot(s)\n",
    "\n",
    "print (d)"
   ]
  },
  {
   "cell_type": "markdown",
   "metadata": {},
   "source": [
    "## PyTorch 張量運算"
   ]
  },
  {
   "cell_type": "code",
   "execution_count": 2,
   "metadata": {
    "colab": {
     "base_uri": "https://localhost:8080/",
     "height": 34
    },
    "colab_type": "code",
    "executionInfo": {
     "elapsed": 2359,
     "status": "ok",
     "timestamp": 1589555229866,
     "user": {
      "displayName": "Michael Chen",
      "photoUrl": "https://lh6.googleusercontent.com/-TON9A5EF6jQ/AAAAAAAAAAI/AAAAAAAAAS4/HJIu8CBlqXg/s64/photo.jpg",
      "userId": "08537850099549646899"
     },
     "user_tz": -480
    },
    "id": "Cqe7bDRVnJuK",
    "outputId": "e1fbb20f-01cf-4126-93c6-8598f15a65ac",
    "scrolled": true
   },
   "outputs": [
    {
     "name": "stdout",
     "output_type": "stream",
     "text": [
      "1.10.0+cu113\n"
     ]
    }
   ],
   "source": [
    "# 載入套件\n",
    "import torch\n",
    "\n",
    "# 顯示 PyTorch 版本\n",
    "print(torch.__version__)"
   ]
  },
  {
   "cell_type": "markdown",
   "metadata": {},
   "source": [
    "## 檢查 GPU 是否存在"
   ]
  },
  {
   "cell_type": "code",
   "execution_count": 2,
   "metadata": {},
   "outputs": [
    {
     "data": {
      "text/plain": [
       "True"
      ]
     },
     "execution_count": 2,
     "metadata": {},
     "output_type": "execute_result"
    }
   ],
   "source": [
    "# 檢查 GPU 及 cuda toolkit 是否存在\n",
    "torch.cuda.is_available()"
   ]
  },
  {
   "cell_type": "markdown",
   "metadata": {},
   "source": [
    "## 建立PyTorch張量變數"
   ]
  },
  {
   "cell_type": "code",
   "execution_count": 4,
   "metadata": {
    "colab": {},
    "colab_type": "code",
    "id": "x4swMa9XnMn_"
   },
   "outputs": [
    {
     "name": "stdout",
     "output_type": "stream",
     "text": [
      "tensor([[1, 2]])\n",
      "tensor([[1, 2]], dtype=torch.int32)\n",
      "tensor([[1, 2]])\n",
      "tensor([[1., 2.]])\n"
     ]
    }
   ],
   "source": [
    "tensor = torch.tensor([[1, 2]])\n",
    "print(tensor)\n",
    "\n",
    "tensor2 = torch.IntTensor([[1, 2]])\n",
    "print(tensor2)\n",
    "\n",
    "tensor3 = torch.LongTensor([[1, 2]])\n",
    "print(tensor3)\n",
    "\n",
    "tensor4 = torch.FloatTensor([[1, 2]])\n",
    "print(tensor4)"
   ]
  },
  {
   "cell_type": "markdown",
   "metadata": {},
   "source": [
    "##  四則運算"
   ]
  },
  {
   "cell_type": "code",
   "execution_count": 5,
   "metadata": {},
   "outputs": [
    {
     "name": "stdout",
     "output_type": "stream",
     "text": [
      "tensor([[10, 10, 10],\n",
      "        [11, 11, 11]])\n",
      "tensor([[-8, -6, -4],\n",
      "        [-3, -1,  1]])\n",
      "tensor([[ 9, 16, 21],\n",
      "        [28, 30, 30]])\n",
      "tensor([[0.1111, 0.2500, 0.4286],\n",
      "        [0.5714, 0.8333, 1.2000]])\n",
      "tensor([[ 38,  32],\n",
      "        [101,  86]])\n"
     ]
    }
   ],
   "source": [
    "# 張量運算\n",
    "A = torch.tensor([[1,2,3],\n",
    "              [4,5,6]])\n",
    "B = torch.tensor([[9,8,7],\n",
    "              [7,6,5]\n",
    "             ])\n",
    "\n",
    "print(A + B)  # 加法\n",
    "print(A - B)  # 減法\n",
    "print(A * B)  # 乘法\n",
    "print(A / B)  # 除法\n",
    "\n",
    "# 內積\n",
    "A = torch.tensor([[1,2,3],\n",
    "              [4,5,6]])\n",
    "B = torch.tensor([[9,8],\n",
    "              [7,6],\n",
    "              [5,4],\n",
    "             ])\n",
    "print(A @ B)"
   ]
  },
  {
   "cell_type": "markdown",
   "metadata": {},
   "source": [
    "## PyTorch張量變數轉NumPy變數"
   ]
  },
  {
   "cell_type": "code",
   "execution_count": 6,
   "metadata": {},
   "outputs": [
    {
     "data": {
      "text/plain": [
       "array([[ 38,  32],\n",
       "       [101,  86]], dtype=int64)"
      ]
     },
     "execution_count": 6,
     "metadata": {},
     "output_type": "execute_result"
    }
   ],
   "source": [
    "# PyTorch -> Numpy\n",
    "(A @ B).numpy()"
   ]
  },
  {
   "cell_type": "code",
   "execution_count": 7,
   "metadata": {
    "colab": {
     "base_uri": "https://localhost:8080/",
     "height": 34
    },
    "colab_type": "code",
    "executionInfo": {
     "elapsed": 663,
     "status": "ok",
     "timestamp": 1589555233813,
     "user": {
      "displayName": "Michael Chen",
      "photoUrl": "https://lh6.googleusercontent.com/-TON9A5EF6jQ/AAAAAAAAAAI/AAAAAAAAAS4/HJIu8CBlqXg/s64/photo.jpg",
      "userId": "08537850099549646899"
     },
     "user_tz": -480
    },
    "id": "_41ETIDunkMe",
    "outputId": "bb74f2ed-2b5d-47ac-ea4a-2a9578d9af05"
   },
   "outputs": [
    {
     "data": {
      "text/plain": [
       "numpy.ndarray"
      ]
     },
     "execution_count": 7,
     "metadata": {},
     "output_type": "execute_result"
    }
   ],
   "source": [
    "type((A @ B).numpy())"
   ]
  },
  {
   "cell_type": "markdown",
   "metadata": {},
   "source": [
    "## NumPy變數轉PyTorch張量變數"
   ]
  },
  {
   "cell_type": "code",
   "execution_count": 9,
   "metadata": {
    "colab": {},
    "colab_type": "code",
    "id": "x4swMa9XnMn_"
   },
   "outputs": [
    {
     "data": {
      "text/plain": [
       "tensor([[1, 2]], dtype=torch.int32)"
      ]
     },
     "execution_count": 9,
     "metadata": {},
     "output_type": "execute_result"
    }
   ],
   "source": [
    "import numpy as np\n",
    "\n",
    "array = np.array([[1, 2]])\n",
    "# Numpy -> PyTorch\n",
    "tensor = torch.from_numpy(array)\n",
    "tensor"
   ]
  },
  {
   "cell_type": "code",
   "execution_count": 12,
   "metadata": {},
   "outputs": [
    {
     "data": {
      "text/plain": [
       "tensor([ 6., 15.])"
      ]
     },
     "execution_count": 12,
     "metadata": {},
     "output_type": "execute_result"
    }
   ],
   "source": [
    "# TensorFlow reduce_sum 的等式 \n",
    "A = torch.FloatTensor([[1,2,3],\n",
    "              [4,5,6]])\n",
    "A.sum(axis=1)"
   ]
  },
  {
   "cell_type": "markdown",
   "metadata": {},
   "source": [
    "## 變數搬移至CPU/GPU"
   ]
  },
  {
   "cell_type": "code",
   "execution_count": 14,
   "metadata": {},
   "outputs": [
    {
     "name": "stdout",
     "output_type": "stream",
     "text": [
      "tensor([[1, 2]], device='cuda:0')\n",
      "tensor([[1, 2]], device='cuda:0')\n",
      "tensor([[1, 2]])\n"
     ]
    }
   ],
   "source": [
    "# CPU -> GPU\n",
    "tensor_gpu = tensor.cuda() \n",
    "print(tensor_gpu)\n",
    "\n",
    "# 若有多個 GPU，可指定 GPU 序號\n",
    "tensor_gpu_2 = tensor.to('cuda:0') \n",
    "print(tensor_gpu_2)\n",
    "\n",
    "# GPU -> CPU\n",
    "tensor_cpu = tensor_gpu.cpu() \n",
    "print(tensor_cpu)"
   ]
  },
  {
   "cell_type": "markdown",
   "metadata": {},
   "source": [
    "## CPU與GPU變數不可混合運算"
   ]
  },
  {
   "cell_type": "code",
   "execution_count": 12,
   "metadata": {
    "scrolled": true
   },
   "outputs": [
    {
     "ename": "RuntimeError",
     "evalue": "Expected all tensors to be on the same device, but found at least two devices, cuda:0 and cpu!",
     "output_type": "error",
     "traceback": [
      "\u001b[1;31m---------------------------------------------------------------------------\u001b[0m",
      "\u001b[1;31mRuntimeError\u001b[0m                              Traceback (most recent call last)",
      "\u001b[1;32m<ipython-input-12-a07362b22321>\u001b[0m in \u001b[0;36m<module>\u001b[1;34m\u001b[0m\n\u001b[1;32m----> 1\u001b[1;33m \u001b[0mtensor_gpu\u001b[0m \u001b[1;33m+\u001b[0m \u001b[0mtensor_cpu\u001b[0m\u001b[1;33m\u001b[0m\u001b[1;33m\u001b[0m\u001b[0m\n\u001b[0m",
      "\u001b[1;31mRuntimeError\u001b[0m: Expected all tensors to be on the same device, but found at least two devices, cuda:0 and cpu!"
     ]
    }
   ],
   "source": [
    "tensor_gpu + tensor_cpu"
   ]
  },
  {
   "cell_type": "code",
   "execution_count": 15,
   "metadata": {},
   "outputs": [
    {
     "data": {
      "text/plain": [
       "tensor([[2, 4]], device='cuda:0')"
      ]
     },
     "execution_count": 15,
     "metadata": {},
     "output_type": "execute_result"
    }
   ],
   "source": [
    "tensor_gpu + tensor_cpu.cuda()"
   ]
  },
  {
   "cell_type": "code",
   "execution_count": 16,
   "metadata": {},
   "outputs": [
    {
     "data": {
      "text/plain": [
       "tensor([[2, 4]], device='cuda:0')"
      ]
     },
     "execution_count": 16,
     "metadata": {},
     "output_type": "execute_result"
    }
   ],
   "source": [
    "# 彈性寫法\n",
    "device = 'cuda' if torch.cuda.is_available() else 'cpu'\n",
    "\n",
    "tensor_gpu.to(device) + tensor_cpu.to(device)"
   ]
  },
  {
   "cell_type": "markdown",
   "metadata": {},
   "source": [
    "## 稀疏矩陣定義"
   ]
  },
  {
   "cell_type": "code",
   "execution_count": 17,
   "metadata": {},
   "outputs": [
    {
     "data": {
      "text/plain": [
       "tensor([[0., 0., 3.],\n",
       "        [4., 0., 5.]])"
      ]
     },
     "execution_count": 17,
     "metadata": {},
     "output_type": "execute_result"
    }
   ],
   "source": [
    "# 定義稀疏矩陣有值的(row, column)，例如第一個值在(0, 2)，第一/二列的第一欄 \n",
    "i = torch.LongTensor([[0, 1, 1],\n",
    "                      [2, 0, 2]])\n",
    "# 稀疏矩陣的值\n",
    "v = torch.FloatTensor([3, 4, 5])\n",
    "\n",
    "# 定義稀疏矩陣的尺寸(2, 3)，並轉為正常的矩陣\n",
    "torch.sparse.FloatTensor(i, v, torch.Size([2,3])).to_dense()"
   ]
  },
  {
   "cell_type": "code",
   "execution_count": 18,
   "metadata": {},
   "outputs": [
    {
     "data": {
      "text/plain": [
       "tensor([[ 0.,  0.,  6.],\n",
       "        [ 8.,  0., 10.]])"
      ]
     },
     "execution_count": 18,
     "metadata": {},
     "output_type": "execute_result"
    }
   ],
   "source": [
    "# 稀疏矩陣運算\n",
    "a = torch.sparse.FloatTensor(i, v, torch.Size([2,3])) + \\\n",
    "    torch.sparse.FloatTensor(i, v, torch.Size([2,3]))\n",
    "a.to_dense()"
   ]
  },
  {
   "cell_type": "markdown",
   "metadata": {},
   "source": [
    "## 指定預設的 GPU"
   ]
  },
  {
   "cell_type": "code",
   "execution_count": 1,
   "metadata": {},
   "outputs": [
    {
     "name": "stdout",
     "output_type": "stream",
     "text": [
      "False\n"
     ]
    }
   ],
   "source": [
    "# 載入套件\n",
    "import torch\n",
    "import os\n",
    "\n",
    "os.environ[\"CUDA_VISIBLE_DEVICES\"] = \"-1\"\n",
    "# 檢查 GPU 及 cuda toolkit 是否存在\n",
    "print(torch.cuda.is_available())"
   ]
  },
  {
   "cell_type": "markdown",
   "metadata": {},
   "source": [
    "## 指定預設的 GPU"
   ]
  },
  {
   "cell_type": "code",
   "execution_count": 21,
   "metadata": {},
   "outputs": [
    {
     "data": {
      "text/plain": [
       "True"
      ]
     },
     "execution_count": 21,
     "metadata": {},
     "output_type": "execute_result"
    }
   ],
   "source": [
    "import os\n",
    "\n",
    "os.environ[\"CUDA_VISIBLE_DEVICES\"] = \"0\""
   ]
  },
  {
   "cell_type": "code",
   "execution_count": null,
   "metadata": {},
   "outputs": [],
   "source": []
  }
 ],
 "metadata": {
  "colab": {
   "collapsed_sections": [],
   "name": "TF2_Basics.ipynb",
   "provenance": []
  },
  "kernelspec": {
   "display_name": "base",
   "language": "python",
   "name": "python3"
  },
  "language_info": {
   "codemirror_mode": {
    "name": "ipython",
    "version": 3
   },
   "file_extension": ".py",
   "mimetype": "text/x-python",
   "name": "python",
   "nbconvert_exporter": "python",
   "pygments_lexer": "ipython3",
   "version": "3.9.13"
  },
  "vscode": {
   "interpreter": {
    "hash": "88279d2366fe020547cde40dd65aa0e3aa662a6ec1f3ca12d88834876c85e1a6"
   }
  }
 },
 "nbformat": 4,
 "nbformat_minor": 1
}
