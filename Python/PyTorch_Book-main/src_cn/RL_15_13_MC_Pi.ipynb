{
 "cells": [
  {
   "cell_type": "markdown",
   "metadata": {},
   "source": [
    "# 以蒙地卡罗演算法求圆周率(π)"
   ]
  },
  {
   "cell_type": "code",
   "execution_count": 2,
   "metadata": {},
   "outputs": [],
   "source": [
    "# 载入相关套件\n",
    "import random"
   ]
  },
  {
   "cell_type": "code",
   "execution_count": 4,
   "metadata": {},
   "outputs": [
    {
     "data": {
      "text/plain": [
       "3.1418028"
      ]
     },
     "execution_count": 4,
     "metadata": {},
     "output_type": "execute_result"
    }
   ],
   "source": [
    "# 模拟一千万次\n",
    "run_count=10000000\n",
    "list1=[]\n",
    "\n",
    "# 在 X:(-0.5, -0.5)，Y:(0.5, 0.5) 范围内产生一千万个点\n",
    "for _ in range(run_count):\n",
    "    list1.append([random.random()-0.5, random.random()-0.5])\n",
    "    \n",
    "in_circle_count=0    \n",
    "for i in range(run_count):\n",
    "    # 计算在圆内的点，即 (X^2 + Y^2 <= 0.5 ^ 2)，其中 半径=0.5\n",
    "    if list1[i][0]**2 + list1[i][1]**2 <= 0.5 ** 2:\n",
    "        in_circle_count+=1 \n",
    "        \n",
    "# 正方形面积： 宽高各为2r，故面积=4*(r**2)\n",
    "# 圆形面积： pi * (r ** 2)\n",
    "# pi = 圆形点数 / 正方形点数 \n",
    "pi=(in_circle_count/run_count) * 4\n",
    "pi"
   ]
  },
  {
   "cell_type": "code",
   "execution_count": null,
   "metadata": {},
   "outputs": [],
   "source": []
  }
 ],
 "metadata": {
  "kernelspec": {
   "display_name": "Python 3 (ipykernel)",
   "language": "python",
   "name": "python3"
  },
  "language_info": {
   "codemirror_mode": {
    "name": "ipython",
    "version": 3
   },
   "file_extension": ".py",
   "mimetype": "text/x-python",
   "name": "python",
   "nbconvert_exporter": "python",
   "pygments_lexer": "ipython3",
   "version": "3.9.7"
  }
 },
 "nbformat": 4,
 "nbformat_minor": 4
}
